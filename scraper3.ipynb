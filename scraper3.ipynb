{
 "metadata": {
  "name": ""
 },
 "nbformat": 3,
 "nbformat_minor": 0,
 "worksheets": [
  {
   "cells": [
    {
     "cell_type": "code",
     "collapsed": false,
     "input": [
      "# special IPython command to prepare the notebook for matplotlib\n",
      "%matplotlib inline \n",
      "\n",
      "from fnmatch import fnmatch\n",
      "\n",
      "import numpy as np\n",
      "import pandas as pd\n",
      "from pandas.io import json\n",
      "import requests\n",
      "from pattern import web\n",
      "import unicodedata\n",
      "import requests\n",
      "import re\n",
      "import time\n",
      "\n",
      "pd.set_option('display.width', 500)\n",
      "pd.set_option('display.max_columns', 100)\n",
      "\n",
      "\n",
      "cookies = dict(JSESSIONID=\"6E15F1B0A08A4BD4B52932AD0364B462.SMAPP01\", SM_PUBLIC_ENCRYPTED_ID=\"wRTH7fh9ai/7ihX7Udb8WA==\", SM_PUBLIC_SESSION_KEY='HYJMRLXUOBYQXVRMSMMSCPWCWIOOBBUF',SimplyMarryAuthCookie='UFJIZlFEeWpIaUJhL1pBdXdvRTNtdz09Om5JeUIxYU0wWkQ0ckI1SU9zM3dqdnc9PQ')"
     ],
     "language": "python",
     "metadata": {},
     "outputs": [],
     "prompt_number": 6
    },
    {
     "cell_type": "heading",
     "level": 4,
     "metadata": {},
     "source": [
      "Code to get profile unique IDs using json function from SimplyMarry"
     ]
    },
    {
     "cell_type": "code",
     "collapsed": false,
     "input": [
      "def download(search_id, age):\n",
      "    num = 0\n",
      "    totalProfiles = 0\n",
      "    df = pd.DataFrame()\n",
      "    print 'STARTING AGE & NUM ', age, num\n",
      "    \n",
      "    while 1==1:\n",
      "        r = requests.get('http://www.simplymarry.com/search/'+search_id+'/jsonrun?page='+str(num), cookies=cookies)\n",
      "        if r.status_code == 200:\n",
      "            try:\n",
      "                output = r.json()\n",
      "                totalProfiles += len(output)\n",
      "                print num, totalProfiles\n",
      "                          \n",
      "                num +=1\n",
      "                          \n",
      "                if len(output) > 0:\n",
      "                    for i in output:\n",
      "                        df = df.append(pd.DataFrame([dict(profileID=i['profileID'], aboutText=unicode(i['aboutText']), city=i['city'], age=i['age'][:-5], height=i['height'], religion=i['religion'], caste=i['caste'], college=i['collegeInstitute'], employedIn=i['employedIn'] )]), ignore_index=True) \n",
      "                          \n",
      "            except ValueError:\n",
      "                print 'COMPLETED AGE & NUM', age, num\n",
      "                df.to_csv('links/brides'+str(age)+'.csv', encoding='utf-8', index=False)\n",
      "                break\n",
      "        else:\n",
      "            print 'FAILURE STATUS: ', r.status_code\n",
      "            num+=1\n",
      "            continue\n",
      "    \n",
      "#for i in range(len(searches)):\n",
      "#    download(searches[i], ages[i])"
     ],
     "language": "python",
     "metadata": {},
     "outputs": [],
     "prompt_number": 5
    },
    {
     "cell_type": "heading",
     "level": 4,
     "metadata": {},
     "source": [
      "Code to test that downloaded profile metadata actually works"
     ]
    },
    {
     "cell_type": "code",
     "collapsed": false,
     "input": [
      "df = pd.DataFrame()\n",
      "\n",
      "for i in range(18, 52):\n",
      "    df = df.append(pd.DataFrame().from_csv('links/grooms'+str(i)+'.csv', encoding='utf-8'))\n",
      "\n",
      "print df['profileID'].describe()['count']"
     ],
     "language": "python",
     "metadata": {},
     "outputs": []
    },
    {
     "cell_type": "heading",
     "level": 4,
     "metadata": {},
     "source": [
      "Code to extract full profile data from metadata downloaded above"
     ]
    },
    {
     "cell_type": "code",
     "collapsed": false,
     "input": [
      "def extract(content, profileID, num):\n",
      "    dom = web.Element(content)\n",
      "    \n",
      "    temp = dom.by_tag('p#cRs_293')\n",
      "    if len(temp) >= 1:\n",
      "        about1 = unicodedata.normalize('NFKD', temp[0].content.strip()).encode('ascii','ignore')\n",
      "        if num%100 == 0 | num <= 5:\n",
      "            print about1\n",
      "    else:\n",
      "        about1 = ''\n",
      "        \n",
      "    temp = dom.by_tag('div.pddetail_mid')\n",
      "    if len(temp) >= 1:\n",
      "        details = unicodedata.normalize('NFKD', temp[0].content.strip()).encode('ascii','ignore')\n",
      "    else:\n",
      "        details = ''\n",
      "        \n",
      "    temp = dom.by_tag('div.detsec_profiledet')\n",
      "    if len(temp) >= 2:\n",
      "        temp2 = temp[1].by_tag('p')\n",
      "        if len(temp2) >= 1:\n",
      "            about2 = unicodedata.normalize('NFKD', temp2[0].content).encode('ascii','ignore')\n",
      "        else:\n",
      "            about2 = ''\n",
      "    else:\n",
      "        about2 = ''\n",
      "    \n",
      "    lists = dom.by_tag('li.ulli_wth')\n",
      "    \n",
      "    marital_status1, marital_status2 = '', ''\n",
      "    have_children = ''\n",
      "    created_for = ''\n",
      "    last_login = None\n",
      "    age2, city2 = '', ''\n",
      "    \n",
      "    height1, height2 = '', ''\n",
      "    weight1, weight2 = '', ''\n",
      "    complexion1, complexion2 = '', ''\n",
      "    body1, body2 = '', ''\n",
      "    special1, special2 = '', ''\n",
      "    \n",
      "    college = ''\n",
      "    degree = ''\n",
      "    fields = ''\n",
      "    education2 = ''\n",
      "    employed1, employed2 = '', ''\n",
      "    occupation = ''\n",
      "    income1, income2 = '', ''\n",
      "    \n",
      "    religion1, religion2 = '', ''\n",
      "    mother1, mother2 = '', ''\n",
      "    caste1, caste2 = '', ''\n",
      "    subcaste = ''\n",
      "    manglik1, manglik2 = '', ''\n",
      "    gotra = ''\n",
      "    nakshatra = ''\n",
      "    raasi = ''\n",
      "    horoscope = ''\n",
      "    \n",
      "    birth1, birth2, birth3, birth4 = '', '', '', ''\n",
      "    \n",
      "    smoking1, smoking2 = '', ''\n",
      "    drinking1, drinking2 = '', ''\n",
      "    eating1, eating2 = '', ''\n",
      "    \n",
      "    father, mother, brothers, sisters, living = '', '', '', '', ''\n",
      "    \n",
      "    values1, values2 = '', ''\n",
      "    family_type1, family_type2 = '', ''\n",
      "    status1, status2= '', ''\n",
      "    about_family = ''\n",
      "    \n",
      "    \n",
      "    for i in lists:\n",
      "        if i.content.strip() == \"Marital Status\":\n",
      "            if marital_status1 == '':\n",
      "                marital_status1 = i.parent('li')[2].content\n",
      "            else:\n",
      "                marital_status2 = i.parent('li')[2].content\n",
      "        elif i.content.strip() == \"Have Children\":\n",
      "            if have_children == '':\n",
      "                have_children = i.parent('li')[2].content\n",
      "        elif i.content.strip() == \"Created For\":\n",
      "            created_for = i.parent('li')[2].content\n",
      "        elif i.content.strip() == \"Last Login\":\n",
      "            last_login = i.parent('li')[2].content\n",
      "        elif i.content.strip() == \"Age\":\n",
      "            age2 = i.parent('li')[2].content\n",
      "        elif i.content.strip() == \"City\":\n",
      "            city2 = i.parent('li')[2].content\n",
      "        elif i.content.strip() == \"Height\":\n",
      "            if height1 == '':\n",
      "                height1 = i.parent('li')[2].content\n",
      "            else:\n",
      "                height2 = i.parent('li')[2].content  \n",
      "        elif i.content.strip() == \"Weight\":\n",
      "            if weight1 == '':\n",
      "                weight1 = i.parent('li')[2].content\n",
      "            else:\n",
      "                weight2 = i.parent('li')[2].content\n",
      "        elif i.content.strip() == \"Complexion\":\n",
      "            if complexion1 == '':\n",
      "                complexion1 = i.parent('li')[2].content\n",
      "            else:\n",
      "                complexion2 = i.parent('li')[2].content        \n",
      "        elif i.content.strip() == \"Body Type\":\n",
      "            if body1 == '':\n",
      "                body1 = i.parent('li')[2].content\n",
      "            else:\n",
      "                body2 = i.parent('li')[2].content    \n",
      "        elif i.content.strip() == \"Special Case\":\n",
      "            special1 = i.parent('li')[2].content\n",
      "        elif i.content.strip() == \"Special Class\":\n",
      "            special2 = i.parent('li')[2].content\n",
      "        elif i.content.strip() == \"College/Institute\":\n",
      "            college = i.parent('li')[2].content\n",
      "        elif i.content.strip() == \"Highest Qualification\":\n",
      "            degree = i.parent('li')[2].content\n",
      "        elif i.content.strip() == \"Fields of Study\":\n",
      "            fields = i.parent('li')[2].content\n",
      "        elif i.content.strip() == \"Employed In\":\n",
      "            employed1 = i.parent('li')[2].content\n",
      "        elif i.content.strip() == \"Employed Sectors\":\n",
      "            employed2 = i.parent('li')[2].content\n",
      "        elif i.content.strip() == \"Education\":\n",
      "            education2 = i.parent('li')[2].content\n",
      "        elif i.content.strip() == \"Occupation\":\n",
      "            occupation = i.parent('li')[2].content\n",
      "        elif i.content.strip() == \"Annual Income\":\n",
      "            if income1 == '':\n",
      "                income1 = i.parent('li')[2].content\n",
      "            else:\n",
      "                income2 = i.parent('li')[2].content  \n",
      "        elif i.content.strip() == \"Religion\":\n",
      "            if religion1 == '':\n",
      "                religion1 = i.parent('li')[2].content\n",
      "            else:\n",
      "                religion2 = i.parent('li')[2].content  \n",
      "        elif i.content.strip() == \"Mother Tongue\":\n",
      "            if mother1 == '':\n",
      "                mother1 = i.parent('li')[2].content\n",
      "            else:\n",
      "                mother2 = i.parent('li')[2].content          \n",
      "        elif i.content.strip() == \"Caste\":\n",
      "            if caste1 == '':\n",
      "                caste1 = i.parent('li')[2].content\n",
      "            else:\n",
      "                caste2 = i.parent('li')[2].content  \n",
      "        elif i.content.strip() == \"Manglik\":\n",
      "            if manglik1 == '':\n",
      "                manglik1 = i.parent('li')[2].content\n",
      "            else:\n",
      "                manglik2 = i.parent('li')[2].content                 \n",
      "        elif i.content.strip() == \"Sub Caste\":\n",
      "            subcaste = i.parent('li')[2].content\n",
      "        elif i.content.strip() == \"Gotra /Gothram\":\n",
      "            gotra = i.parent('li')[2].content\n",
      "        elif i.content.strip() == \"Nakshatra (m)e\":\n",
      "            nakshatra = i.parent('li')[2].content  \n",
      "        elif i.content.strip() == \"Raasi/Moon Sign\":\n",
      "            raasi = i.parent('li')[2].content\n",
      "        elif i.content.strip() == \"Horoscope Required\":\n",
      "            horoscope = i.parent('li')[2].content\n",
      "        elif i.content.strip() == \"Date Of Birth\":\n",
      "            birth1 = i.parent('li')[2].content\n",
      "        elif i.content.strip() == \"Time Of Birth\":\n",
      "            birth2 = i.parent('li')[2].content\n",
      "        elif i.content.strip() == \"Country of birth\":\n",
      "            birth3 = i.parent('li')[2].content\n",
      "        elif i.content.strip() == \"Birth Place\":\n",
      "            birth4 = i.parent('li')[2].content\n",
      "        elif i.content.strip() == \"Smoking\":\n",
      "            if smoking1 == '':\n",
      "                smoking1 = i.parent('li')[2].content\n",
      "            else:\n",
      "                smoking2 = i.parent('li')[2].content          \n",
      "        elif i.content.strip() == \"Drinking\":\n",
      "            if drinking1 == '':\n",
      "                drinking1 = i.parent('li')[2].content\n",
      "            else:\n",
      "                drinking2 = i.parent('li')[2].content  \n",
      "        elif i.content.strip() == \"Eating Habits\":\n",
      "            if eating1 == '':\n",
      "                eating1 = i.parent('li')[2].content\n",
      "            else:\n",
      "                eating2 = i.parent('li')[2].content\n",
      "        elif \"Father\" in i.content.strip() and \"Occupation\" in i.content.strip():\n",
      "            father = i.parent('li')[2].content\n",
      "        elif \"Mother\" in i.content.strip() and \"Occupation\" in i.content.strip():\n",
      "            mother = i.parent('li')[2].content\n",
      "        elif i.content.strip() == \"Brothers\":\n",
      "            brothers = i.parent('li')[2].content\n",
      "        elif i.content.strip() == \"Sisters\":\n",
      "            sisters = i.parent('li')[2].content\n",
      "        elif i.content.strip() == \"Living with parents?\":\n",
      "            living = i.parent('li')[2].content\n",
      "        elif i.content.strip() == \"Family values\":\n",
      "            values1 = i.parent('li')[2].content\n",
      "        elif i.content.strip() == \"Family Values\":\n",
      "            values2 = i.parent('li')[2].content\n",
      "        elif i.content.strip() == \"Family Type\":\n",
      "            if family_type1 == '':\n",
      "                family_type1 = i.parent('li')[2].content\n",
      "            else:\n",
      "                family_type2 = i.parent('li')[2].content  \n",
      "        elif i.content.strip() == \"Family Status\":\n",
      "            if status1 == '':\n",
      "                status1 = i.parent('li')[2].content\n",
      "            else:\n",
      "                status2 = i.parent('li')[2].content      \n",
      "        elif i.content.strip() == \"About my family\":\n",
      "            about_family = i.parent('li')[2].content\n",
      "            about_family = unicodedata.normalize('NFKD', about_family).encode('ascii','ignore')\n",
      "\n",
      "    return pd.DataFrame([dict(profileID=str(profileID), about1=about1, about2=about2, details=details, marital_status1=marital_status1, marital_status2=marital_status2, have_children=have_children, created_for=created_for, last_login=last_login, age2=age2, city2=city2, height1=height1, height2=height2, weight1=weight1, weight2=weight2, complexion1=complexion1, complexion2=complexion2, body1=body1, body2=body2, special1=special1, special2=special2, college=college, degree=degree, fields=fields, education2=education2, employed1=employed1, employed2=employed2, occupation=occupation, income1=income1, income2=income2, religion1=religion1, religion2=religion2, mother1=mother1, mother2=mother2, caste1=caste1, caste2=caste2, manglik1=manglik1, manglik2=manglik2, subcaste=subcaste, gotra=gotra, horoscope=horoscope, raasi=raasi, nakshatra=nakshatra, birth1=birth1, birth2=birth2, birth3=birth3, birth4=birth4, smoking1=smoking1, smoking2=smoking2, drinking1=drinking1, drinking2=drinking2, eating1=eating1, eating2=eating2, father=father, mother=mother, brothers=brothers, sisters=sisters, living=living, values1=values1, values2=values2, family_type1=family_type1, family_type2=family_type2, status1=status1, status2=status2, about_family=about_family) ])\n",
      "\n",
      "\n",
      "def get_full_profiles(age):\n",
      "    csv = 'links/grooms'+str(age)+'.csv'\n",
      "    profiles = pd.DataFrame(columns=('url', 'about1', 'about2', 'details', 'marital_status1', 'marital_status2', 'have_children', 'created_for', 'last_login', 'age2', 'city2', 'height1', 'height2', 'weight1', 'weight2', 'complexion1', 'complexion2', 'body1', 'body2', 'special1', 'special2', 'college', 'degree', 'fields', 'education2', 'employed1', 'employed2', 'occupation', 'income1', 'income2', 'religion1', 'religion2', 'mother1', 'mother2', 'caste1', 'caste2', 'manglik1', 'manglik2', 'subcaste', 'gotra', 'horoscope', 'raasi', 'nakshatra', 'birth1', 'birth2', 'birth3', 'birth4', 'smoking1', 'smoking2', 'drinking1', 'drinking2', 'eating1', 'eating2', 'father', 'mother', 'brothers', 'sisters', 'living', 'values1', 'values2', 'family_type1', 'family_type2', 'status1', 'status2', 'about_family'))\n",
      "    links = pd.read_csv(csv)\n",
      "    num = 0\n",
      "    for profileID in links.profileID:    \n",
      "        r = requests.get('http://www.simplymarry.com/matrimonial/groom/'+profileID+'/?all=true&print=true', cookies=cookies, allow_redirects=True, stream=True)\n",
      "        \n",
      "        if r.status_code == 200:\n",
      "            num+=1\n",
      "            \n",
      "            if num%100 == 0:\n",
      "                print num\n",
      "            \n",
      "            if num % 1000 == 0:\n",
      "                profiles.to_csv('data/grooms'+str(age)+'full'+str(int(num/1000))+'.csv', encoding='utf-8', index=False)\n",
      "                print 'BACKED UP AT ', num\n",
      "            \n",
      "            content = r.text\n",
      "            content = re.sub(r'\\\\s\\\\s+', ' ', content)\n",
      "            dom = web.Element(content)        \n",
      "            profiles = profiles.append(extract(content, profileID, num), ignore_index=True) \n",
      "        else:\n",
      "            print 'SKIPPED PROFILE WITH ID ', profileID\n",
      "            continue\n",
      "    return profiles\n",
      "\n",
      "for i in range(33, 37):\n",
      "    print 'STARTED AGE ', i\n",
      "    get_full_profiles(i).to_csv('data/grooms'+str(i)+'full.csv', encoding='utf-8', index=False)\n",
      "    print 'COMPLETED AGE ', i"
     ],
     "language": "python",
     "metadata": {},
     "outputs": [
      {
       "output_type": "stream",
       "stream": "stdout",
       "text": [
        "STARTED AGE  33\n",
        "Father is businessman and mother is home maker. One brother is software engineer, second has done MBA and is working in sales marketing. Elder sister married and her husband is engineer, one younger sister done MBA and unmarried."
       ]
      },
      {
       "output_type": "stream",
       "stream": "stdout",
       "text": [
        "\n",
        "I am jovial, affectionate and caring person, having a sound, religious and well cultured background. I am a blend of modern thoughts rooted with traditional values. I'm also very focused, goal oriented and organized and I have immense belief in God."
       ]
      },
      {
       "output_type": "stream",
       "stream": "stdout",
       "text": [
        "\n",
        "I am simple and down to earth person. I am very trustworthy, friendly and a bit sensitive. I believe in respecting others and expect the same. I am looking for someone, whom I can trust and rely upon completely. My family consists of my father, mother, one married brother and two married sisters. My father, mother and married brother is staying at Patna. My elder married sister is at Patna with her family. My younger sister is at Mumbai with her family."
       ]
      },
      {
       "output_type": "stream",
       "stream": "stdout",
       "text": [
        "\n",
        "I am optimistic who believes in saying - life is what you make it &amp; so i try to make the best of what ever little joys life brings along. Simple and fun loving guy, who believe in strong family values."
       ]
      },
      {
       "output_type": "stream",
       "stream": "stdout",
       "text": [
        "\n",
        "I'm simple, down-to-earth and honest person with respect for family values and human emotions."
       ]
      },
      {
       "output_type": "stream",
       "stream": "stdout",
       "text": [
        "\n",
        "100"
       ]
      },
      {
       "output_type": "stream",
       "stream": "stdout",
       "text": [
        "\n",
        "200"
       ]
      },
      {
       "output_type": "stream",
       "stream": "stdout",
       "text": [
        "\n",
        "300"
       ]
      },
      {
       "output_type": "stream",
       "stream": "stdout",
       "text": [
        "\n",
        "400"
       ]
      },
      {
       "output_type": "stream",
       "stream": "stdout",
       "text": [
        "\n",
        "500"
       ]
      },
      {
       "output_type": "stream",
       "stream": "stdout",
       "text": [
        "\n",
        "SKIPPED PROFILE WITH ID "
       ]
      },
      {
       "output_type": "stream",
       "stream": "stdout",
       "text": [
        " SMM1707395\n",
        "600"
       ]
      },
      {
       "output_type": "stream",
       "stream": "stdout",
       "text": [
        "\n",
        "700"
       ]
      },
      {
       "output_type": "stream",
       "stream": "stdout",
       "text": [
        "\n",
        "800"
       ]
      },
      {
       "output_type": "stream",
       "stream": "stdout",
       "text": [
        "\n",
        "900"
       ]
      },
      {
       "output_type": "stream",
       "stream": "stdout",
       "text": [
        "\n",
        "1000"
       ]
      },
      {
       "output_type": "stream",
       "stream": "stdout",
       "text": [
        "\n",
        "BACKED UP AT "
       ]
      },
      {
       "output_type": "stream",
       "stream": "stdout",
       "text": [
        " 1000\n",
        "1100"
       ]
      },
      {
       "output_type": "stream",
       "stream": "stdout",
       "text": [
        "\n",
        "1200"
       ]
      },
      {
       "output_type": "stream",
       "stream": "stdout",
       "text": [
        "\n",
        "1300"
       ]
      },
      {
       "output_type": "stream",
       "stream": "stdout",
       "text": [
        "\n",
        "1400"
       ]
      },
      {
       "output_type": "stream",
       "stream": "stdout",
       "text": [
        "\n",
        "1500"
       ]
      },
      {
       "output_type": "stream",
       "stream": "stdout",
       "text": [
        "\n",
        "1600"
       ]
      },
      {
       "output_type": "stream",
       "stream": "stdout",
       "text": [
        "\n",
        "1700"
       ]
      },
      {
       "output_type": "stream",
       "stream": "stdout",
       "text": [
        "\n",
        "1800"
       ]
      },
      {
       "output_type": "stream",
       "stream": "stdout",
       "text": [
        "\n",
        "1900"
       ]
      },
      {
       "output_type": "stream",
       "stream": "stdout",
       "text": [
        "\n",
        "2000"
       ]
      },
      {
       "output_type": "stream",
       "stream": "stdout",
       "text": [
        "\n",
        "BACKED UP AT "
       ]
      },
      {
       "output_type": "stream",
       "stream": "stdout",
       "text": [
        " 2000\n",
        "2100"
       ]
      },
      {
       "output_type": "stream",
       "stream": "stdout",
       "text": [
        "\n",
        "2200"
       ]
      },
      {
       "output_type": "stream",
       "stream": "stdout",
       "text": [
        "\n",
        "2300"
       ]
      },
      {
       "output_type": "stream",
       "stream": "stdout",
       "text": [
        "\n",
        "2400"
       ]
      },
      {
       "output_type": "stream",
       "stream": "stdout",
       "text": [
        "\n",
        "2500"
       ]
      },
      {
       "output_type": "stream",
       "stream": "stdout",
       "text": [
        "\n",
        "2600"
       ]
      },
      {
       "output_type": "stream",
       "stream": "stdout",
       "text": [
        "\n",
        "2700"
       ]
      },
      {
       "output_type": "stream",
       "stream": "stdout",
       "text": [
        "\n",
        "2800"
       ]
      },
      {
       "output_type": "stream",
       "stream": "stdout",
       "text": [
        "\n",
        "2900"
       ]
      },
      {
       "output_type": "stream",
       "stream": "stdout",
       "text": [
        "\n",
        "3000"
       ]
      },
      {
       "output_type": "stream",
       "stream": "stdout",
       "text": [
        "\n",
        "BACKED UP AT "
       ]
      },
      {
       "output_type": "stream",
       "stream": "stdout",
       "text": [
        " 3000\n",
        "3100"
       ]
      },
      {
       "output_type": "stream",
       "stream": "stdout",
       "text": [
        "\n",
        "3200"
       ]
      },
      {
       "output_type": "stream",
       "stream": "stdout",
       "text": [
        "\n",
        "3300"
       ]
      },
      {
       "output_type": "stream",
       "stream": "stdout",
       "text": [
        "\n",
        "3400"
       ]
      },
      {
       "output_type": "stream",
       "stream": "stdout",
       "text": [
        "\n",
        "3500"
       ]
      },
      {
       "output_type": "stream",
       "stream": "stdout",
       "text": [
        "\n",
        "3600"
       ]
      },
      {
       "output_type": "stream",
       "stream": "stdout",
       "text": [
        "\n",
        "3700"
       ]
      },
      {
       "output_type": "stream",
       "stream": "stdout",
       "text": [
        "\n",
        "3800"
       ]
      },
      {
       "output_type": "stream",
       "stream": "stdout",
       "text": [
        "\n",
        "3900"
       ]
      },
      {
       "output_type": "stream",
       "stream": "stdout",
       "text": [
        "\n",
        "4000"
       ]
      },
      {
       "output_type": "stream",
       "stream": "stdout",
       "text": [
        "\n",
        "BACKED UP AT "
       ]
      },
      {
       "output_type": "stream",
       "stream": "stdout",
       "text": [
        " 4000\n",
        "4100"
       ]
      },
      {
       "output_type": "stream",
       "stream": "stdout",
       "text": [
        "\n",
        "4200"
       ]
      },
      {
       "output_type": "stream",
       "stream": "stdout",
       "text": [
        "\n",
        "4300"
       ]
      },
      {
       "output_type": "stream",
       "stream": "stdout",
       "text": [
        "\n",
        "4400"
       ]
      },
      {
       "output_type": "stream",
       "stream": "stdout",
       "text": [
        "\n",
        "4500"
       ]
      },
      {
       "output_type": "stream",
       "stream": "stdout",
       "text": [
        "\n",
        "4600"
       ]
      },
      {
       "output_type": "stream",
       "stream": "stdout",
       "text": [
        "\n",
        "4700"
       ]
      },
      {
       "output_type": "stream",
       "stream": "stdout",
       "text": [
        "\n",
        "4800"
       ]
      },
      {
       "output_type": "stream",
       "stream": "stdout",
       "text": [
        "\n",
        "4900"
       ]
      },
      {
       "output_type": "stream",
       "stream": "stdout",
       "text": [
        "\n",
        "5000"
       ]
      },
      {
       "output_type": "stream",
       "stream": "stdout",
       "text": [
        "\n",
        "BACKED UP AT "
       ]
      },
      {
       "output_type": "stream",
       "stream": "stdout",
       "text": [
        " 5000\n",
        "5100"
       ]
      },
      {
       "output_type": "stream",
       "stream": "stdout",
       "text": [
        "\n",
        "5200"
       ]
      },
      {
       "output_type": "stream",
       "stream": "stdout",
       "text": [
        "\n",
        "5300"
       ]
      },
      {
       "output_type": "stream",
       "stream": "stdout",
       "text": [
        "\n",
        "5400"
       ]
      },
      {
       "output_type": "stream",
       "stream": "stdout",
       "text": [
        "\n",
        "5500"
       ]
      },
      {
       "output_type": "stream",
       "stream": "stdout",
       "text": [
        "\n",
        "5600"
       ]
      },
      {
       "output_type": "stream",
       "stream": "stdout",
       "text": [
        "\n",
        "5700"
       ]
      },
      {
       "output_type": "stream",
       "stream": "stdout",
       "text": [
        "\n",
        "5800"
       ]
      },
      {
       "output_type": "stream",
       "stream": "stdout",
       "text": [
        "\n",
        "5900"
       ]
      },
      {
       "output_type": "stream",
       "stream": "stdout",
       "text": [
        "\n",
        "6000"
       ]
      },
      {
       "output_type": "stream",
       "stream": "stdout",
       "text": [
        "\n",
        "BACKED UP AT "
       ]
      },
      {
       "output_type": "stream",
       "stream": "stdout",
       "text": [
        " 6000\n",
        "6100"
       ]
      },
      {
       "output_type": "stream",
       "stream": "stdout",
       "text": [
        "\n",
        "6200"
       ]
      },
      {
       "output_type": "stream",
       "stream": "stdout",
       "text": [
        "\n",
        "6300"
       ]
      },
      {
       "output_type": "stream",
       "stream": "stdout",
       "text": [
        "\n",
        "6400"
       ]
      },
      {
       "output_type": "stream",
       "stream": "stdout",
       "text": [
        "\n",
        "6500"
       ]
      },
      {
       "output_type": "stream",
       "stream": "stdout",
       "text": [
        "\n",
        "6600"
       ]
      },
      {
       "output_type": "stream",
       "stream": "stdout",
       "text": [
        "\n",
        "6700"
       ]
      },
      {
       "output_type": "stream",
       "stream": "stdout",
       "text": [
        "\n",
        "6800"
       ]
      },
      {
       "output_type": "stream",
       "stream": "stdout",
       "text": [
        "\n",
        "6900"
       ]
      },
      {
       "output_type": "stream",
       "stream": "stdout",
       "text": [
        "\n",
        "7000"
       ]
      },
      {
       "output_type": "stream",
       "stream": "stdout",
       "text": [
        "\n",
        "BACKED UP AT "
       ]
      },
      {
       "output_type": "stream",
       "stream": "stdout",
       "text": [
        " 7000\n",
        "7100"
       ]
      },
      {
       "output_type": "stream",
       "stream": "stdout",
       "text": [
        "\n",
        "7200"
       ]
      },
      {
       "output_type": "stream",
       "stream": "stdout",
       "text": [
        "\n",
        "7300"
       ]
      },
      {
       "output_type": "stream",
       "stream": "stdout",
       "text": [
        "\n",
        "7400"
       ]
      },
      {
       "output_type": "stream",
       "stream": "stdout",
       "text": [
        "\n",
        "7500"
       ]
      },
      {
       "output_type": "stream",
       "stream": "stdout",
       "text": [
        "\n",
        "7600"
       ]
      },
      {
       "output_type": "stream",
       "stream": "stdout",
       "text": [
        "\n",
        "7700"
       ]
      },
      {
       "output_type": "stream",
       "stream": "stdout",
       "text": [
        "\n",
        "7800"
       ]
      },
      {
       "output_type": "stream",
       "stream": "stdout",
       "text": [
        "\n",
        "7900"
       ]
      },
      {
       "output_type": "stream",
       "stream": "stdout",
       "text": [
        "\n",
        "8000"
       ]
      },
      {
       "output_type": "stream",
       "stream": "stdout",
       "text": [
        "\n",
        "BACKED UP AT "
       ]
      },
      {
       "output_type": "stream",
       "stream": "stdout",
       "text": [
        " 8000\n",
        "8100"
       ]
      },
      {
       "output_type": "stream",
       "stream": "stdout",
       "text": [
        "\n",
        "8200"
       ]
      },
      {
       "output_type": "stream",
       "stream": "stdout",
       "text": [
        "\n",
        "8300"
       ]
      },
      {
       "output_type": "stream",
       "stream": "stdout",
       "text": [
        "\n",
        "8400"
       ]
      },
      {
       "output_type": "stream",
       "stream": "stdout",
       "text": [
        "\n",
        "8500"
       ]
      },
      {
       "output_type": "stream",
       "stream": "stdout",
       "text": [
        "\n",
        "8600"
       ]
      },
      {
       "output_type": "stream",
       "stream": "stdout",
       "text": [
        "\n",
        "8700"
       ]
      },
      {
       "output_type": "stream",
       "stream": "stdout",
       "text": [
        "\n",
        "8800"
       ]
      },
      {
       "output_type": "stream",
       "stream": "stdout",
       "text": [
        "\n",
        "8900"
       ]
      },
      {
       "output_type": "stream",
       "stream": "stdout",
       "text": [
        "\n",
        "9000"
       ]
      },
      {
       "output_type": "stream",
       "stream": "stdout",
       "text": [
        "\n",
        "BACKED UP AT "
       ]
      },
      {
       "output_type": "stream",
       "stream": "stdout",
       "text": [
        " 9000\n",
        "9100"
       ]
      },
      {
       "output_type": "stream",
       "stream": "stdout",
       "text": [
        "\n",
        "9200"
       ]
      },
      {
       "output_type": "stream",
       "stream": "stdout",
       "text": [
        "\n",
        "9300"
       ]
      },
      {
       "output_type": "stream",
       "stream": "stdout",
       "text": [
        "\n",
        "9400"
       ]
      },
      {
       "output_type": "stream",
       "stream": "stdout",
       "text": [
        "\n",
        "9500"
       ]
      },
      {
       "output_type": "stream",
       "stream": "stdout",
       "text": [
        "\n",
        "9600"
       ]
      },
      {
       "output_type": "stream",
       "stream": "stdout",
       "text": [
        "\n",
        "9700"
       ]
      },
      {
       "output_type": "stream",
       "stream": "stdout",
       "text": [
        "\n",
        "9800"
       ]
      },
      {
       "output_type": "stream",
       "stream": "stdout",
       "text": [
        "\n",
        "9900"
       ]
      },
      {
       "output_type": "stream",
       "stream": "stdout",
       "text": [
        "\n",
        "10000"
       ]
      },
      {
       "output_type": "stream",
       "stream": "stdout",
       "text": [
        "\n",
        "BACKED UP AT "
       ]
      },
      {
       "output_type": "stream",
       "stream": "stdout",
       "text": [
        " 10000\n",
        "10100"
       ]
      },
      {
       "output_type": "stream",
       "stream": "stdout",
       "text": [
        "\n",
        "10200"
       ]
      },
      {
       "output_type": "stream",
       "stream": "stdout",
       "text": [
        "\n",
        "10300"
       ]
      },
      {
       "output_type": "stream",
       "stream": "stdout",
       "text": [
        "\n",
        "10400"
       ]
      },
      {
       "output_type": "stream",
       "stream": "stdout",
       "text": [
        "\n",
        "10500"
       ]
      },
      {
       "output_type": "stream",
       "stream": "stdout",
       "text": [
        "\n",
        "10600"
       ]
      },
      {
       "output_type": "stream",
       "stream": "stdout",
       "text": [
        "\n",
        "10700"
       ]
      },
      {
       "output_type": "stream",
       "stream": "stdout",
       "text": [
        "\n",
        "10800"
       ]
      },
      {
       "output_type": "stream",
       "stream": "stdout",
       "text": [
        "\n",
        "10900"
       ]
      },
      {
       "output_type": "stream",
       "stream": "stdout",
       "text": [
        "\n",
        "11000"
       ]
      },
      {
       "output_type": "stream",
       "stream": "stdout",
       "text": [
        "\n",
        "BACKED UP AT "
       ]
      },
      {
       "output_type": "stream",
       "stream": "stdout",
       "text": [
        " 11000\n",
        "11100"
       ]
      },
      {
       "output_type": "stream",
       "stream": "stdout",
       "text": [
        "\n",
        "11200"
       ]
      },
      {
       "output_type": "stream",
       "stream": "stdout",
       "text": [
        "\n",
        "11300"
       ]
      },
      {
       "output_type": "stream",
       "stream": "stdout",
       "text": [
        "\n",
        "11400"
       ]
      },
      {
       "output_type": "stream",
       "stream": "stdout",
       "text": [
        "\n",
        "11500"
       ]
      },
      {
       "output_type": "stream",
       "stream": "stdout",
       "text": [
        "\n",
        "11600"
       ]
      },
      {
       "output_type": "stream",
       "stream": "stdout",
       "text": [
        "\n",
        "11700"
       ]
      },
      {
       "output_type": "stream",
       "stream": "stdout",
       "text": [
        "\n",
        "11800"
       ]
      },
      {
       "output_type": "stream",
       "stream": "stdout",
       "text": [
        "\n",
        "11900"
       ]
      },
      {
       "output_type": "stream",
       "stream": "stdout",
       "text": [
        "\n",
        "12000"
       ]
      },
      {
       "output_type": "stream",
       "stream": "stdout",
       "text": [
        "\n",
        "BACKED UP AT "
       ]
      },
      {
       "output_type": "stream",
       "stream": "stdout",
       "text": [
        " 12000\n",
        "12100"
       ]
      },
      {
       "output_type": "stream",
       "stream": "stdout",
       "text": [
        "\n",
        "12200"
       ]
      },
      {
       "output_type": "stream",
       "stream": "stdout",
       "text": [
        "\n",
        "12300"
       ]
      },
      {
       "output_type": "stream",
       "stream": "stdout",
       "text": [
        "\n",
        "12400"
       ]
      },
      {
       "output_type": "stream",
       "stream": "stdout",
       "text": [
        "\n",
        "12500"
       ]
      },
      {
       "output_type": "stream",
       "stream": "stdout",
       "text": [
        "\n",
        "12600"
       ]
      },
      {
       "output_type": "stream",
       "stream": "stdout",
       "text": [
        "\n",
        "12700"
       ]
      },
      {
       "output_type": "stream",
       "stream": "stdout",
       "text": [
        "\n",
        "12800"
       ]
      },
      {
       "output_type": "stream",
       "stream": "stdout",
       "text": [
        "\n",
        "12900"
       ]
      },
      {
       "output_type": "stream",
       "stream": "stdout",
       "text": [
        "\n",
        "13000"
       ]
      },
      {
       "output_type": "stream",
       "stream": "stdout",
       "text": [
        "\n",
        "BACKED UP AT "
       ]
      },
      {
       "output_type": "stream",
       "stream": "stdout",
       "text": [
        " 13000\n",
        "13100"
       ]
      },
      {
       "output_type": "stream",
       "stream": "stdout",
       "text": [
        "\n",
        "13200"
       ]
      },
      {
       "output_type": "stream",
       "stream": "stdout",
       "text": [
        "\n",
        "13300"
       ]
      },
      {
       "output_type": "stream",
       "stream": "stdout",
       "text": [
        "\n",
        "13400"
       ]
      },
      {
       "output_type": "stream",
       "stream": "stdout",
       "text": [
        "\n",
        "13500"
       ]
      },
      {
       "output_type": "stream",
       "stream": "stdout",
       "text": [
        "\n",
        "13600"
       ]
      },
      {
       "output_type": "stream",
       "stream": "stdout",
       "text": [
        "\n",
        "13700"
       ]
      },
      {
       "output_type": "stream",
       "stream": "stdout",
       "text": [
        "\n",
        "13800"
       ]
      },
      {
       "output_type": "stream",
       "stream": "stdout",
       "text": [
        "\n",
        "13900"
       ]
      },
      {
       "output_type": "stream",
       "stream": "stdout",
       "text": [
        "\n",
        "14000"
       ]
      },
      {
       "output_type": "stream",
       "stream": "stdout",
       "text": [
        "\n",
        "BACKED UP AT "
       ]
      },
      {
       "output_type": "stream",
       "stream": "stdout",
       "text": [
        " 14000\n",
        "14100"
       ]
      },
      {
       "output_type": "stream",
       "stream": "stdout",
       "text": [
        "\n",
        "14200"
       ]
      },
      {
       "output_type": "stream",
       "stream": "stdout",
       "text": [
        "\n",
        "14300"
       ]
      },
      {
       "output_type": "stream",
       "stream": "stdout",
       "text": [
        "\n",
        "14400"
       ]
      },
      {
       "output_type": "stream",
       "stream": "stdout",
       "text": [
        "\n",
        "14500"
       ]
      },
      {
       "output_type": "stream",
       "stream": "stdout",
       "text": [
        "\n",
        "14600"
       ]
      },
      {
       "output_type": "stream",
       "stream": "stdout",
       "text": [
        "\n",
        "14700"
       ]
      },
      {
       "output_type": "stream",
       "stream": "stdout",
       "text": [
        "\n",
        "14800"
       ]
      },
      {
       "output_type": "stream",
       "stream": "stdout",
       "text": [
        "\n",
        "COMPLETED AGE "
       ]
      },
      {
       "output_type": "stream",
       "stream": "stdout",
       "text": [
        " 33\n",
        "STARTED AGE  34\n",
        "I am very simple and very much emotionally attached to my near &amp; dear ones."
       ]
      },
      {
       "output_type": "stream",
       "stream": "stdout",
       "text": [
        "\n",
        "My Brother is Working in Delhi Metro Rail Corporation as Junior Engineer. He is smart and good nature."
       ]
      },
      {
       "output_type": "stream",
       "stream": "stdout",
       "text": [
        "\n",
        "I belonged to jat (Chaudhary) community. We are originally from Agra U.P. I did my schooling and graduation (BBA) from Delhi itself and PG (MBA in Tourism) from IMS. Gaziabad. I have my own travel agency in Noida and staying with my parents."
       ]
      },
      {
       "output_type": "stream",
       "stream": "stdout",
       "text": [
        "\n",
        "Presently working with a Government Organization as Asstt. Public Relation/ Information officer, Superintendent rank. Am sharing, caring and loving nature, very romantic and respect for elders."
       ]
      },
      {
       "output_type": "stream",
       "stream": "stdout",
       "text": [
        "\n",
        "Well educated, settled, and working from own office as a principal software consultant. Kind of my own business."
       ]
      },
      {
       "output_type": "stream",
       "stream": "stdout",
       "text": [
        "\n",
        "100"
       ]
      },
      {
       "output_type": "stream",
       "stream": "stdout",
       "text": [
        "\n",
        "200"
       ]
      },
      {
       "output_type": "stream",
       "stream": "stdout",
       "text": [
        "\n",
        "300"
       ]
      },
      {
       "output_type": "stream",
       "stream": "stdout",
       "text": [
        "\n",
        "400"
       ]
      },
      {
       "output_type": "stream",
       "stream": "stdout",
       "text": [
        "\n",
        "500"
       ]
      },
      {
       "output_type": "stream",
       "stream": "stdout",
       "text": [
        "\n",
        "600"
       ]
      },
      {
       "output_type": "stream",
       "stream": "stdout",
       "text": [
        "\n",
        "700"
       ]
      },
      {
       "output_type": "stream",
       "stream": "stdout",
       "text": [
        "\n",
        "800"
       ]
      },
      {
       "output_type": "stream",
       "stream": "stdout",
       "text": [
        "\n",
        "900"
       ]
      },
      {
       "output_type": "stream",
       "stream": "stdout",
       "text": [
        "\n",
        "1000"
       ]
      },
      {
       "output_type": "stream",
       "stream": "stdout",
       "text": [
        "\n",
        "BACKED UP AT "
       ]
      },
      {
       "output_type": "stream",
       "stream": "stdout",
       "text": [
        " 1000\n",
        "1100"
       ]
      },
      {
       "output_type": "stream",
       "stream": "stdout",
       "text": [
        "\n",
        "1200"
       ]
      },
      {
       "output_type": "stream",
       "stream": "stdout",
       "text": [
        "\n",
        "1300"
       ]
      },
      {
       "output_type": "stream",
       "stream": "stdout",
       "text": [
        "\n",
        "1400"
       ]
      },
      {
       "output_type": "stream",
       "stream": "stdout",
       "text": [
        "\n",
        "1500"
       ]
      },
      {
       "output_type": "stream",
       "stream": "stdout",
       "text": [
        "\n",
        "1600"
       ]
      },
      {
       "output_type": "stream",
       "stream": "stdout",
       "text": [
        "\n",
        "1700"
       ]
      },
      {
       "output_type": "stream",
       "stream": "stdout",
       "text": [
        "\n",
        "1800"
       ]
      },
      {
       "output_type": "stream",
       "stream": "stdout",
       "text": [
        "\n",
        "1900"
       ]
      },
      {
       "output_type": "stream",
       "stream": "stdout",
       "text": [
        "\n",
        "2000"
       ]
      },
      {
       "output_type": "stream",
       "stream": "stdout",
       "text": [
        "\n",
        "BACKED UP AT "
       ]
      },
      {
       "output_type": "stream",
       "stream": "stdout",
       "text": [
        " 2000\n",
        "2100"
       ]
      },
      {
       "output_type": "stream",
       "stream": "stdout",
       "text": [
        "\n",
        "2200"
       ]
      },
      {
       "output_type": "stream",
       "stream": "stdout",
       "text": [
        "\n",
        "2300"
       ]
      },
      {
       "output_type": "stream",
       "stream": "stdout",
       "text": [
        "\n",
        "2400"
       ]
      },
      {
       "output_type": "stream",
       "stream": "stdout",
       "text": [
        "\n",
        "2500"
       ]
      },
      {
       "output_type": "stream",
       "stream": "stdout",
       "text": [
        "\n",
        "2600"
       ]
      },
      {
       "output_type": "stream",
       "stream": "stdout",
       "text": [
        "\n",
        "2700"
       ]
      },
      {
       "output_type": "stream",
       "stream": "stdout",
       "text": [
        "\n",
        "2800"
       ]
      },
      {
       "output_type": "stream",
       "stream": "stdout",
       "text": [
        "\n",
        "SKIPPED PROFILE WITH ID "
       ]
      },
      {
       "output_type": "stream",
       "stream": "stdout",
       "text": [
        " 341458\n",
        "2900"
       ]
      },
      {
       "output_type": "stream",
       "stream": "stdout",
       "text": [
        "\n",
        "3000"
       ]
      },
      {
       "output_type": "stream",
       "stream": "stdout",
       "text": [
        "\n",
        "BACKED UP AT "
       ]
      },
      {
       "output_type": "stream",
       "stream": "stdout",
       "text": [
        " 3000\n",
        "3100"
       ]
      },
      {
       "output_type": "stream",
       "stream": "stdout",
       "text": [
        "\n",
        "3200"
       ]
      },
      {
       "output_type": "stream",
       "stream": "stdout",
       "text": [
        "\n",
        "3300"
       ]
      },
      {
       "output_type": "stream",
       "stream": "stdout",
       "text": [
        "\n",
        "3400"
       ]
      },
      {
       "output_type": "stream",
       "stream": "stdout",
       "text": [
        "\n",
        "3500"
       ]
      },
      {
       "output_type": "stream",
       "stream": "stdout",
       "text": [
        "\n",
        "3600"
       ]
      },
      {
       "output_type": "stream",
       "stream": "stdout",
       "text": [
        "\n",
        "3700"
       ]
      },
      {
       "output_type": "stream",
       "stream": "stdout",
       "text": [
        "\n",
        "3800"
       ]
      },
      {
       "output_type": "stream",
       "stream": "stdout",
       "text": [
        "\n",
        "3900"
       ]
      },
      {
       "output_type": "stream",
       "stream": "stdout",
       "text": [
        "\n",
        "4000"
       ]
      },
      {
       "output_type": "stream",
       "stream": "stdout",
       "text": [
        "\n",
        "BACKED UP AT "
       ]
      },
      {
       "output_type": "stream",
       "stream": "stdout",
       "text": [
        " 4000\n",
        "4100"
       ]
      },
      {
       "output_type": "stream",
       "stream": "stdout",
       "text": [
        "\n",
        "4200"
       ]
      },
      {
       "output_type": "stream",
       "stream": "stdout",
       "text": [
        "\n",
        "4300"
       ]
      },
      {
       "output_type": "stream",
       "stream": "stdout",
       "text": [
        "\n",
        "4400"
       ]
      },
      {
       "output_type": "stream",
       "stream": "stdout",
       "text": [
        "\n",
        "4500"
       ]
      },
      {
       "output_type": "stream",
       "stream": "stdout",
       "text": [
        "\n",
        "4600"
       ]
      },
      {
       "output_type": "stream",
       "stream": "stdout",
       "text": [
        "\n",
        "4700"
       ]
      },
      {
       "output_type": "stream",
       "stream": "stdout",
       "text": [
        "\n",
        "4800"
       ]
      },
      {
       "output_type": "stream",
       "stream": "stdout",
       "text": [
        "\n",
        "4900"
       ]
      },
      {
       "output_type": "stream",
       "stream": "stdout",
       "text": [
        "\n",
        "5000"
       ]
      },
      {
       "output_type": "stream",
       "stream": "stdout",
       "text": [
        "\n",
        "BACKED UP AT "
       ]
      },
      {
       "output_type": "stream",
       "stream": "stdout",
       "text": [
        " 5000\n",
        "5100"
       ]
      },
      {
       "output_type": "stream",
       "stream": "stdout",
       "text": [
        "\n",
        "5200"
       ]
      },
      {
       "output_type": "stream",
       "stream": "stdout",
       "text": [
        "\n",
        "5300"
       ]
      },
      {
       "output_type": "stream",
       "stream": "stdout",
       "text": [
        "\n",
        "5400"
       ]
      },
      {
       "output_type": "stream",
       "stream": "stdout",
       "text": [
        "\n",
        "5500"
       ]
      },
      {
       "output_type": "stream",
       "stream": "stdout",
       "text": [
        "\n",
        "5600"
       ]
      },
      {
       "output_type": "stream",
       "stream": "stdout",
       "text": [
        "\n",
        "5700"
       ]
      },
      {
       "output_type": "stream",
       "stream": "stdout",
       "text": [
        "\n",
        "5800"
       ]
      },
      {
       "output_type": "stream",
       "stream": "stdout",
       "text": [
        "\n",
        "5900"
       ]
      },
      {
       "output_type": "stream",
       "stream": "stdout",
       "text": [
        "\n",
        "6000"
       ]
      },
      {
       "output_type": "stream",
       "stream": "stdout",
       "text": [
        "\n",
        "BACKED UP AT "
       ]
      },
      {
       "output_type": "stream",
       "stream": "stdout",
       "text": [
        " 6000\n",
        "6100"
       ]
      },
      {
       "output_type": "stream",
       "stream": "stdout",
       "text": [
        "\n",
        "6200"
       ]
      },
      {
       "output_type": "stream",
       "stream": "stdout",
       "text": [
        "\n",
        "6300"
       ]
      },
      {
       "output_type": "stream",
       "stream": "stdout",
       "text": [
        "\n",
        "6400"
       ]
      },
      {
       "output_type": "stream",
       "stream": "stdout",
       "text": [
        "\n",
        "6500"
       ]
      },
      {
       "output_type": "stream",
       "stream": "stdout",
       "text": [
        "\n",
        "6600"
       ]
      },
      {
       "output_type": "stream",
       "stream": "stdout",
       "text": [
        "\n",
        "6700"
       ]
      },
      {
       "output_type": "stream",
       "stream": "stdout",
       "text": [
        "\n",
        "6800"
       ]
      },
      {
       "output_type": "stream",
       "stream": "stdout",
       "text": [
        "\n",
        "6900"
       ]
      },
      {
       "output_type": "stream",
       "stream": "stdout",
       "text": [
        "\n",
        "7000"
       ]
      },
      {
       "output_type": "stream",
       "stream": "stdout",
       "text": [
        "\n",
        "BACKED UP AT "
       ]
      },
      {
       "output_type": "stream",
       "stream": "stdout",
       "text": [
        " 7000\n",
        "7100"
       ]
      },
      {
       "output_type": "stream",
       "stream": "stdout",
       "text": [
        "\n",
        "7200"
       ]
      },
      {
       "output_type": "stream",
       "stream": "stdout",
       "text": [
        "\n",
        "7300"
       ]
      },
      {
       "output_type": "stream",
       "stream": "stdout",
       "text": [
        "\n",
        "7400"
       ]
      },
      {
       "output_type": "stream",
       "stream": "stdout",
       "text": [
        "\n",
        "7500"
       ]
      },
      {
       "output_type": "stream",
       "stream": "stdout",
       "text": [
        "\n",
        "7600"
       ]
      },
      {
       "output_type": "stream",
       "stream": "stdout",
       "text": [
        "\n",
        "7700"
       ]
      },
      {
       "output_type": "stream",
       "stream": "stdout",
       "text": [
        "\n",
        "7800"
       ]
      },
      {
       "output_type": "stream",
       "stream": "stdout",
       "text": [
        "\n",
        "7900"
       ]
      },
      {
       "output_type": "stream",
       "stream": "stdout",
       "text": [
        "\n",
        "8000"
       ]
      },
      {
       "output_type": "stream",
       "stream": "stdout",
       "text": [
        "\n",
        "BACKED UP AT "
       ]
      },
      {
       "output_type": "stream",
       "stream": "stdout",
       "text": [
        " 8000\n",
        "8100"
       ]
      },
      {
       "output_type": "stream",
       "stream": "stdout",
       "text": [
        "\n",
        "8200"
       ]
      },
      {
       "output_type": "stream",
       "stream": "stdout",
       "text": [
        "\n",
        "8300"
       ]
      },
      {
       "output_type": "stream",
       "stream": "stdout",
       "text": [
        "\n",
        "8400"
       ]
      },
      {
       "output_type": "stream",
       "stream": "stdout",
       "text": [
        "\n",
        "8500"
       ]
      },
      {
       "output_type": "stream",
       "stream": "stdout",
       "text": [
        "\n",
        "8600"
       ]
      },
      {
       "output_type": "stream",
       "stream": "stdout",
       "text": [
        "\n",
        "8700"
       ]
      },
      {
       "output_type": "stream",
       "stream": "stdout",
       "text": [
        "\n",
        "8800"
       ]
      },
      {
       "output_type": "stream",
       "stream": "stdout",
       "text": [
        "\n",
        "8900"
       ]
      },
      {
       "output_type": "stream",
       "stream": "stdout",
       "text": [
        "\n",
        "9000"
       ]
      },
      {
       "output_type": "stream",
       "stream": "stdout",
       "text": [
        "\n",
        "BACKED UP AT "
       ]
      },
      {
       "output_type": "stream",
       "stream": "stdout",
       "text": [
        " 9000\n",
        "9100"
       ]
      },
      {
       "output_type": "stream",
       "stream": "stdout",
       "text": [
        "\n",
        "9200"
       ]
      },
      {
       "output_type": "stream",
       "stream": "stdout",
       "text": [
        "\n",
        "9300"
       ]
      },
      {
       "output_type": "stream",
       "stream": "stdout",
       "text": [
        "\n",
        "9400"
       ]
      },
      {
       "output_type": "stream",
       "stream": "stdout",
       "text": [
        "\n",
        "9500"
       ]
      },
      {
       "output_type": "stream",
       "stream": "stdout",
       "text": [
        "\n",
        "9600"
       ]
      },
      {
       "output_type": "stream",
       "stream": "stdout",
       "text": [
        "\n",
        "9700"
       ]
      },
      {
       "output_type": "stream",
       "stream": "stdout",
       "text": [
        "\n",
        "9800"
       ]
      },
      {
       "output_type": "stream",
       "stream": "stdout",
       "text": [
        "\n",
        "9900"
       ]
      },
      {
       "output_type": "stream",
       "stream": "stdout",
       "text": [
        "\n",
        "10000"
       ]
      },
      {
       "output_type": "stream",
       "stream": "stdout",
       "text": [
        "\n",
        "BACKED UP AT "
       ]
      },
      {
       "output_type": "stream",
       "stream": "stdout",
       "text": [
        " 10000\n",
        "10100"
       ]
      },
      {
       "output_type": "stream",
       "stream": "stdout",
       "text": [
        "\n",
        "COMPLETED AGE "
       ]
      },
      {
       "output_type": "stream",
       "stream": "stdout",
       "text": [
        " 34\n",
        "STARTED AGE  35\n",
        "I am a man of democratic nature. I love to\r\n",
        " travel places and looking for sumbody who is resposible and understanding , a nice human with no ego........."
       ]
      },
      {
       "output_type": "stream",
       "stream": "stdout",
       "text": [
        "\n",
        "IAM A HARDWORKING SIMPLE PERSON.I HAVE DONE MY DOUBLE POSTGRADUATION IN BIOTECHNOLOGY &amp; PSYCHOLOGY.I HAVE  A TISSUE CULTURE LAB IN MY NATIVE PLACE.MY CAST IS PURE VEGETARIAN.MY FAMILY IS AN AGRICULTURE FAMILY.I HAVE THREE ELDER BROTHERS(DOCTER,DOCTER,ENGINEER).IN MY FAMILY NO ONE SMOKES OR USE LIQUER."
       ]
      },
      {
       "output_type": "stream",
       "stream": "stdout",
       "text": [
        "\n",
        "About Me (Bride) Amout Me (Groom) \r\n",
        "I am a very candid person, and take things as they come. I am an honest, straight forward, ambitious and fun loving person. I believe in fidelity in relationships. I inhabit values of modern times, along with cultural &amp; traditional values of my family. I believe in simplicity and appreciate things which are conveyed in most natural manner. I am always ready to take up challenges and explore life to the extreme with my optimistic view point as my strength. My Philosophy of life is to live each moment to its fullest and I do inculcate it in my personal as well as professional life. A free spirit- this is how I would like to describe myself. I am a friendly, fun loving and jovial person and enjoy the company of like-minded people. Travelling, exploring new places and beauty of nature is one of my passions. At the same time, I am an ambitious person, who likes to succeed in life. I would also like to describe myself as a kind, considerate and responsible person who can take good care of my family. I carry a calm, composed and steady head on my shoulders and very rarely lose my composure and temper."
       ]
      },
      {
       "output_type": "stream",
       "stream": "stdout",
       "text": [
        "\n",
        "Dashing, handsome and self employed. Earning through family business. Cultured, decent Sindhi Larkana family and staying in Mumbai for last 30 yrs. Looking for understanding, matured and well settled girl."
       ]
      },
      {
       "output_type": "stream",
       "stream": "stdout",
       "text": [
        "\n",
        "i am living alone in this world and i need a girl with lot of love and affection . i do have one sister marries and living with her husband"
       ]
      },
      {
       "output_type": "stream",
       "stream": "stdout",
       "text": [
        "\n",
        "100"
       ]
      },
      {
       "output_type": "stream",
       "stream": "stdout",
       "text": [
        "\n",
        "200"
       ]
      },
      {
       "output_type": "stream",
       "stream": "stdout",
       "text": [
        "\n",
        "300"
       ]
      },
      {
       "output_type": "stream",
       "stream": "stdout",
       "text": [
        "\n",
        "400"
       ]
      },
      {
       "output_type": "stream",
       "stream": "stdout",
       "text": [
        "\n",
        "500"
       ]
      },
      {
       "output_type": "stream",
       "stream": "stdout",
       "text": [
        "\n",
        "600"
       ]
      },
      {
       "output_type": "stream",
       "stream": "stdout",
       "text": [
        "\n",
        "700"
       ]
      },
      {
       "output_type": "stream",
       "stream": "stdout",
       "text": [
        "\n",
        "800"
       ]
      },
      {
       "output_type": "stream",
       "stream": "stdout",
       "text": [
        "\n",
        "900"
       ]
      },
      {
       "output_type": "stream",
       "stream": "stdout",
       "text": [
        "\n",
        "1000"
       ]
      },
      {
       "output_type": "stream",
       "stream": "stdout",
       "text": [
        "\n",
        "BACKED UP AT "
       ]
      },
      {
       "output_type": "stream",
       "stream": "stdout",
       "text": [
        " 1000\n",
        "1100"
       ]
      },
      {
       "output_type": "stream",
       "stream": "stdout",
       "text": [
        "\n",
        "1200"
       ]
      },
      {
       "output_type": "stream",
       "stream": "stdout",
       "text": [
        "\n",
        "1300"
       ]
      },
      {
       "output_type": "stream",
       "stream": "stdout",
       "text": [
        "\n",
        "1400"
       ]
      },
      {
       "output_type": "stream",
       "stream": "stdout",
       "text": [
        "\n",
        "1500"
       ]
      },
      {
       "output_type": "stream",
       "stream": "stdout",
       "text": [
        "\n",
        "1600"
       ]
      },
      {
       "output_type": "stream",
       "stream": "stdout",
       "text": [
        "\n",
        "1700"
       ]
      },
      {
       "output_type": "stream",
       "stream": "stdout",
       "text": [
        "\n",
        "1800"
       ]
      },
      {
       "output_type": "stream",
       "stream": "stdout",
       "text": [
        "\n",
        "1900"
       ]
      },
      {
       "output_type": "stream",
       "stream": "stdout",
       "text": [
        "\n",
        "2000"
       ]
      },
      {
       "output_type": "stream",
       "stream": "stdout",
       "text": [
        "\n",
        "BACKED UP AT "
       ]
      },
      {
       "output_type": "stream",
       "stream": "stdout",
       "text": [
        " 2000\n",
        "2100"
       ]
      },
      {
       "output_type": "stream",
       "stream": "stdout",
       "text": [
        "\n",
        "2200"
       ]
      },
      {
       "output_type": "stream",
       "stream": "stdout",
       "text": [
        "\n",
        "2300"
       ]
      },
      {
       "output_type": "stream",
       "stream": "stdout",
       "text": [
        "\n",
        "2400"
       ]
      },
      {
       "output_type": "stream",
       "stream": "stdout",
       "text": [
        "\n",
        "2500"
       ]
      },
      {
       "output_type": "stream",
       "stream": "stdout",
       "text": [
        "\n",
        "2600"
       ]
      },
      {
       "output_type": "stream",
       "stream": "stdout",
       "text": [
        "\n",
        "2700"
       ]
      },
      {
       "output_type": "stream",
       "stream": "stdout",
       "text": [
        "\n",
        "2800"
       ]
      },
      {
       "output_type": "stream",
       "stream": "stdout",
       "text": [
        "\n",
        "2900"
       ]
      },
      {
       "output_type": "stream",
       "stream": "stdout",
       "text": [
        "\n",
        "3000"
       ]
      },
      {
       "output_type": "stream",
       "stream": "stdout",
       "text": [
        "\n",
        "BACKED UP AT "
       ]
      },
      {
       "output_type": "stream",
       "stream": "stdout",
       "text": [
        " 3000\n",
        "3100"
       ]
      },
      {
       "output_type": "stream",
       "stream": "stdout",
       "text": [
        "\n",
        "3200"
       ]
      },
      {
       "output_type": "stream",
       "stream": "stdout",
       "text": [
        "\n",
        "3300"
       ]
      },
      {
       "ename": "ConnectionError",
       "evalue": "HTTPConnectionPool(host='www.simplymarry.com', port=80): Max retries exceeded with url: /matrimonial/groom/salm707168/?all=true&print=true (Caused by <class 'socket.error'>: [Errno 54] Connection reset by peer)",
       "output_type": "pyerr",
       "traceback": [
        "\u001b[0;31m---------------------------------------------------------------------------\u001b[0m\n\u001b[0;31mConnectionError\u001b[0m                           Traceback (most recent call last)",
        "\u001b[0;32m<ipython-input-7-7503fe2178e3>\u001b[0m in \u001b[0;36m<module>\u001b[0;34m()\u001b[0m\n\u001b[1;32m    245\u001b[0m \u001b[0;32mfor\u001b[0m \u001b[0mi\u001b[0m \u001b[0;32min\u001b[0m \u001b[0mrange\u001b[0m\u001b[0;34m(\u001b[0m\u001b[0;36m33\u001b[0m\u001b[0;34m,\u001b[0m \u001b[0;36m37\u001b[0m\u001b[0;34m)\u001b[0m\u001b[0;34m:\u001b[0m\u001b[0;34m\u001b[0m\u001b[0m\n\u001b[1;32m    246\u001b[0m     \u001b[0;32mprint\u001b[0m \u001b[0;34m'STARTED AGE '\u001b[0m\u001b[0;34m,\u001b[0m \u001b[0mi\u001b[0m\u001b[0;34m\u001b[0m\u001b[0m\n\u001b[0;32m--> 247\u001b[0;31m     \u001b[0mget_full_profiles\u001b[0m\u001b[0;34m(\u001b[0m\u001b[0mi\u001b[0m\u001b[0;34m)\u001b[0m\u001b[0;34m.\u001b[0m\u001b[0mto_csv\u001b[0m\u001b[0;34m(\u001b[0m\u001b[0;34m'data/grooms'\u001b[0m\u001b[0;34m+\u001b[0m\u001b[0mstr\u001b[0m\u001b[0;34m(\u001b[0m\u001b[0mi\u001b[0m\u001b[0;34m)\u001b[0m\u001b[0;34m+\u001b[0m\u001b[0;34m'full.csv'\u001b[0m\u001b[0;34m,\u001b[0m \u001b[0mencoding\u001b[0m\u001b[0;34m=\u001b[0m\u001b[0;34m'utf-8'\u001b[0m\u001b[0;34m,\u001b[0m \u001b[0mindex\u001b[0m\u001b[0;34m=\u001b[0m\u001b[0mFalse\u001b[0m\u001b[0;34m)\u001b[0m\u001b[0;34m\u001b[0m\u001b[0m\n\u001b[0m\u001b[1;32m    248\u001b[0m     \u001b[0;32mprint\u001b[0m \u001b[0;34m'COMPLETED AGE '\u001b[0m\u001b[0;34m,\u001b[0m \u001b[0mi\u001b[0m\u001b[0;34m\u001b[0m\u001b[0m\n",
        "\u001b[0;32m<ipython-input-7-7503fe2178e3>\u001b[0m in \u001b[0;36mget_full_profiles\u001b[0;34m(age)\u001b[0m\n\u001b[1;32m    222\u001b[0m     \u001b[0mnum\u001b[0m \u001b[0;34m=\u001b[0m \u001b[0;36m0\u001b[0m\u001b[0;34m\u001b[0m\u001b[0m\n\u001b[1;32m    223\u001b[0m     \u001b[0;32mfor\u001b[0m \u001b[0mprofileID\u001b[0m \u001b[0;32min\u001b[0m \u001b[0mlinks\u001b[0m\u001b[0;34m.\u001b[0m\u001b[0mprofileID\u001b[0m\u001b[0;34m:\u001b[0m\u001b[0;34m\u001b[0m\u001b[0m\n\u001b[0;32m--> 224\u001b[0;31m         \u001b[0mr\u001b[0m \u001b[0;34m=\u001b[0m \u001b[0mrequests\u001b[0m\u001b[0;34m.\u001b[0m\u001b[0mget\u001b[0m\u001b[0;34m(\u001b[0m\u001b[0;34m'http://www.simplymarry.com/matrimonial/groom/'\u001b[0m\u001b[0;34m+\u001b[0m\u001b[0mprofileID\u001b[0m\u001b[0;34m+\u001b[0m\u001b[0;34m'/?all=true&print=true'\u001b[0m\u001b[0;34m,\u001b[0m \u001b[0mcookies\u001b[0m\u001b[0;34m=\u001b[0m\u001b[0mcookies\u001b[0m\u001b[0;34m,\u001b[0m \u001b[0mallow_redirects\u001b[0m\u001b[0;34m=\u001b[0m\u001b[0mTrue\u001b[0m\u001b[0;34m,\u001b[0m \u001b[0mstream\u001b[0m\u001b[0;34m=\u001b[0m\u001b[0mTrue\u001b[0m\u001b[0;34m)\u001b[0m\u001b[0;34m\u001b[0m\u001b[0m\n\u001b[0m\u001b[1;32m    225\u001b[0m \u001b[0;34m\u001b[0m\u001b[0m\n\u001b[1;32m    226\u001b[0m         \u001b[0;32mif\u001b[0m \u001b[0mr\u001b[0m\u001b[0;34m.\u001b[0m\u001b[0mstatus_code\u001b[0m \u001b[0;34m==\u001b[0m \u001b[0;36m200\u001b[0m\u001b[0;34m:\u001b[0m\u001b[0;34m\u001b[0m\u001b[0m\n",
        "\u001b[0;32m//anaconda/lib/python2.7/site-packages/requests/api.pyc\u001b[0m in \u001b[0;36mget\u001b[0;34m(url, **kwargs)\u001b[0m\n\u001b[1;32m     53\u001b[0m \u001b[0;34m\u001b[0m\u001b[0m\n\u001b[1;32m     54\u001b[0m     \u001b[0mkwargs\u001b[0m\u001b[0;34m.\u001b[0m\u001b[0msetdefault\u001b[0m\u001b[0;34m(\u001b[0m\u001b[0;34m'allow_redirects'\u001b[0m\u001b[0;34m,\u001b[0m \u001b[0mTrue\u001b[0m\u001b[0;34m)\u001b[0m\u001b[0;34m\u001b[0m\u001b[0m\n\u001b[0;32m---> 55\u001b[0;31m     \u001b[0;32mreturn\u001b[0m \u001b[0mrequest\u001b[0m\u001b[0;34m(\u001b[0m\u001b[0;34m'get'\u001b[0m\u001b[0;34m,\u001b[0m \u001b[0murl\u001b[0m\u001b[0;34m,\u001b[0m \u001b[0;34m**\u001b[0m\u001b[0mkwargs\u001b[0m\u001b[0;34m)\u001b[0m\u001b[0;34m\u001b[0m\u001b[0m\n\u001b[0m\u001b[1;32m     56\u001b[0m \u001b[0;34m\u001b[0m\u001b[0m\n\u001b[1;32m     57\u001b[0m \u001b[0;34m\u001b[0m\u001b[0m\n",
        "\u001b[0;32m//anaconda/lib/python2.7/site-packages/requests/api.pyc\u001b[0m in \u001b[0;36mrequest\u001b[0;34m(method, url, **kwargs)\u001b[0m\n\u001b[1;32m     42\u001b[0m \u001b[0;34m\u001b[0m\u001b[0m\n\u001b[1;32m     43\u001b[0m     \u001b[0msession\u001b[0m \u001b[0;34m=\u001b[0m \u001b[0msessions\u001b[0m\u001b[0;34m.\u001b[0m\u001b[0mSession\u001b[0m\u001b[0;34m(\u001b[0m\u001b[0;34m)\u001b[0m\u001b[0;34m\u001b[0m\u001b[0m\n\u001b[0;32m---> 44\u001b[0;31m     \u001b[0;32mreturn\u001b[0m \u001b[0msession\u001b[0m\u001b[0;34m.\u001b[0m\u001b[0mrequest\u001b[0m\u001b[0;34m(\u001b[0m\u001b[0mmethod\u001b[0m\u001b[0;34m=\u001b[0m\u001b[0mmethod\u001b[0m\u001b[0;34m,\u001b[0m \u001b[0murl\u001b[0m\u001b[0;34m=\u001b[0m\u001b[0murl\u001b[0m\u001b[0;34m,\u001b[0m \u001b[0;34m**\u001b[0m\u001b[0mkwargs\u001b[0m\u001b[0;34m)\u001b[0m\u001b[0;34m\u001b[0m\u001b[0m\n\u001b[0m\u001b[1;32m     45\u001b[0m \u001b[0;34m\u001b[0m\u001b[0m\n\u001b[1;32m     46\u001b[0m \u001b[0;34m\u001b[0m\u001b[0m\n",
        "\u001b[0;32m//anaconda/lib/python2.7/site-packages/requests/sessions.pyc\u001b[0m in \u001b[0;36mrequest\u001b[0;34m(self, method, url, params, data, headers, cookies, files, auth, timeout, allow_redirects, proxies, hooks, stream, verify, cert)\u001b[0m\n\u001b[1;32m    333\u001b[0m             \u001b[0;34m'allow_redirects'\u001b[0m\u001b[0;34m:\u001b[0m \u001b[0mallow_redirects\u001b[0m\u001b[0;34m,\u001b[0m\u001b[0;34m\u001b[0m\u001b[0m\n\u001b[1;32m    334\u001b[0m         }\n\u001b[0;32m--> 335\u001b[0;31m         \u001b[0mresp\u001b[0m \u001b[0;34m=\u001b[0m \u001b[0mself\u001b[0m\u001b[0;34m.\u001b[0m\u001b[0msend\u001b[0m\u001b[0;34m(\u001b[0m\u001b[0mprep\u001b[0m\u001b[0;34m,\u001b[0m \u001b[0;34m**\u001b[0m\u001b[0msend_kwargs\u001b[0m\u001b[0;34m)\u001b[0m\u001b[0;34m\u001b[0m\u001b[0m\n\u001b[0m\u001b[1;32m    336\u001b[0m \u001b[0;34m\u001b[0m\u001b[0m\n\u001b[1;32m    337\u001b[0m         \u001b[0;32mreturn\u001b[0m \u001b[0mresp\u001b[0m\u001b[0;34m\u001b[0m\u001b[0m\n",
        "\u001b[0;32m//anaconda/lib/python2.7/site-packages/requests/sessions.pyc\u001b[0m in \u001b[0;36msend\u001b[0;34m(self, request, **kwargs)\u001b[0m\n\u001b[1;32m    436\u001b[0m         \u001b[0mstart\u001b[0m \u001b[0;34m=\u001b[0m \u001b[0mdatetime\u001b[0m\u001b[0;34m.\u001b[0m\u001b[0mutcnow\u001b[0m\u001b[0;34m(\u001b[0m\u001b[0;34m)\u001b[0m\u001b[0;34m\u001b[0m\u001b[0m\n\u001b[1;32m    437\u001b[0m         \u001b[0;31m# Send the request\u001b[0m\u001b[0;34m\u001b[0m\u001b[0;34m\u001b[0m\u001b[0m\n\u001b[0;32m--> 438\u001b[0;31m         \u001b[0mr\u001b[0m \u001b[0;34m=\u001b[0m \u001b[0madapter\u001b[0m\u001b[0;34m.\u001b[0m\u001b[0msend\u001b[0m\u001b[0;34m(\u001b[0m\u001b[0mrequest\u001b[0m\u001b[0;34m,\u001b[0m \u001b[0;34m**\u001b[0m\u001b[0mkwargs\u001b[0m\u001b[0;34m)\u001b[0m\u001b[0;34m\u001b[0m\u001b[0m\n\u001b[0m\u001b[1;32m    439\u001b[0m         \u001b[0;31m# Total elapsed time of the request (approximately)\u001b[0m\u001b[0;34m\u001b[0m\u001b[0;34m\u001b[0m\u001b[0m\n\u001b[1;32m    440\u001b[0m         \u001b[0mr\u001b[0m\u001b[0;34m.\u001b[0m\u001b[0melapsed\u001b[0m \u001b[0;34m=\u001b[0m \u001b[0mdatetime\u001b[0m\u001b[0;34m.\u001b[0m\u001b[0mutcnow\u001b[0m\u001b[0;34m(\u001b[0m\u001b[0;34m)\u001b[0m \u001b[0;34m-\u001b[0m \u001b[0mstart\u001b[0m\u001b[0;34m\u001b[0m\u001b[0m\n",
        "\u001b[0;32m//anaconda/lib/python2.7/site-packages/requests/adapters.pyc\u001b[0m in \u001b[0;36msend\u001b[0;34m(self, request, stream, timeout, verify, cert, proxies)\u001b[0m\n\u001b[1;32m    325\u001b[0m \u001b[0;34m\u001b[0m\u001b[0m\n\u001b[1;32m    326\u001b[0m         \u001b[0;32mexcept\u001b[0m \u001b[0mMaxRetryError\u001b[0m \u001b[0;32mas\u001b[0m \u001b[0me\u001b[0m\u001b[0;34m:\u001b[0m\u001b[0;34m\u001b[0m\u001b[0m\n\u001b[0;32m--> 327\u001b[0;31m             \u001b[0;32mraise\u001b[0m \u001b[0mConnectionError\u001b[0m\u001b[0;34m(\u001b[0m\u001b[0me\u001b[0m\u001b[0;34m)\u001b[0m\u001b[0;34m\u001b[0m\u001b[0m\n\u001b[0m\u001b[1;32m    328\u001b[0m \u001b[0;34m\u001b[0m\u001b[0m\n\u001b[1;32m    329\u001b[0m         \u001b[0;32mexcept\u001b[0m \u001b[0;34m(\u001b[0m\u001b[0m_SSLError\u001b[0m\u001b[0;34m,\u001b[0m \u001b[0m_HTTPError\u001b[0m\u001b[0;34m)\u001b[0m \u001b[0;32mas\u001b[0m \u001b[0me\u001b[0m\u001b[0;34m:\u001b[0m\u001b[0;34m\u001b[0m\u001b[0m\n",
        "\u001b[0;31mConnectionError\u001b[0m: HTTPConnectionPool(host='www.simplymarry.com', port=80): Max retries exceeded with url: /matrimonial/groom/salm707168/?all=true&print=true (Caused by <class 'socket.error'>: [Errno 54] Connection reset by peer)"
       ]
      },
      {
       "output_type": "stream",
       "stream": "stdout",
       "text": [
        "\n"
       ]
      }
     ],
     "prompt_number": 7
    },
    {
     "cell_type": "code",
     "collapsed": false,
     "input": [],
     "language": "python",
     "metadata": {},
     "outputs": []
    }
   ],
   "metadata": {}
  }
 ]
}
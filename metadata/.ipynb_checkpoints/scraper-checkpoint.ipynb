{
 "metadata": {
  "name": ""
 },
 "nbformat": 3,
 "nbformat_minor": 0,
 "worksheets": [
  {
   "cells": [
    {
     "cell_type": "heading",
     "level": 1,
     "metadata": {},
     "source": [
      "Nikhil's AC 299r: Data Exploration of Indian Matrimony Sites"
     ]
    },
    {
     "cell_type": "code",
     "collapsed": false,
     "input": [
      "# special IPython command to prepare the notebook for matplotlib\n",
      "%matplotlib inline \n",
      "\n",
      "from fnmatch import fnmatch\n",
      "\n",
      "import numpy as np\n",
      "import pandas as pd\n",
      "import matplotlib.pyplot as plt\n",
      "import requests\n",
      "from pattern import web\n",
      "\n",
      "\n",
      "# set some nicer defaults for matplotlib\n",
      "from matplotlib import rcParams\n",
      "\n",
      "#these colors come from colorbrewer2.org. Each is an RGB triplet\n",
      "dark2_colors = [(0.10588235294117647, 0.6196078431372549, 0.4666666666666667),\n",
      "                (0.8509803921568627, 0.37254901960784315, 0.00784313725490196),\n",
      "                (0.4588235294117647, 0.4392156862745098, 0.7019607843137254),\n",
      "                (0.9058823529411765, 0.1607843137254902, 0.5411764705882353),\n",
      "                (0.4, 0.6509803921568628, 0.11764705882352941),\n",
      "                (0.9019607843137255, 0.6705882352941176, 0.00784313725490196),\n",
      "                (0.6509803921568628, 0.4627450980392157, 0.11372549019607843),\n",
      "                (0.4, 0.4, 0.4)]\n",
      "\n",
      "rcParams['figure.figsize'] = (10, 6)\n",
      "rcParams['figure.dpi'] = 150\n",
      "rcParams['axes.color_cycle'] = dark2_colors\n",
      "rcParams['lines.linewidth'] = 2\n",
      "rcParams['axes.grid'] = True\n",
      "rcParams['axes.facecolor'] = '#eeeeee'\n",
      "rcParams['font.size'] = 14\n",
      "rcParams['patch.edgecolor'] = 'none'"
     ],
     "language": "python",
     "metadata": {},
     "outputs": [],
     "prompt_number": 7
    },
    {
     "cell_type": "raw",
     "metadata": {},
     "source": [
      "The below code extracts profile links from a saved SimplyMarry.com search results page."
     ]
    },
    {
     "cell_type": "code",
     "collapsed": false,
     "input": [
      "import unicodedata\n",
      "\n",
      "with open('grooms_marathi.html', 'r') as content_file:\n",
      "    content = content_file.read()\n",
      "    \n",
      "dom = web.Element(content)\n",
      "    \n",
      "def extract(content):\n",
      "    res = pd.DataFrame(columns=('age', 'height', 'caste', 'religion', 'language', 'author', 'education', 'employment', 'location', 'description', 'link', 'gender'))\n",
      "    for match in dom.by_tag('div.smsrchr_prodetpnl'):\n",
      "        first = match.by_tag('div.smsrchr_prodetpnl1')\n",
      "        \n",
      "        measure = len(first[0]('ul li'))\n",
      "        t1 = first[0]('ul li')[2].content\n",
      "        t2 = first[0]('ul li')[5].content\n",
      "        \n",
      "        if measure > 7:\n",
      "            t3 = first[0]('ul li')[8].content\n",
      "        else:\n",
      "            t3 = None\n",
      "            \n",
      "        if measure > 10:\n",
      "            t4 = first[0]('ul li')[11].content\n",
      "        else:\n",
      "            t4 = None            \n",
      "            \n",
      "        if measure > 13:\n",
      "            t5 = first[0]('ul li')[14].content\n",
      "        else:\n",
      "            t5 = None\n",
      "        \n",
      "        second = match.by_tag('div.smsrchr_prodetpnl2')\n",
      "        \n",
      "        measure = len(second[0]('ul li'))\n",
      "        t6 = second[0]('ul li')[2].content\n",
      "        \n",
      "        if measure > 4:\n",
      "            t7 = second[0]('ul li')[5].content\n",
      "        else:\n",
      "            t7 = None        \n",
      "\n",
      "        if measure > 7:\n",
      "            t8 = second[0]('ul li')[8].content\n",
      "        else:\n",
      "            t8 = None\n",
      "        \n",
      "        if measure > 10:\n",
      "            t9 = second[0]('ul li')[11].content\n",
      "        else:\n",
      "            t9 = None\n",
      "                \n",
      "        temp= unicode(match.by_tag('p')[0].content)\n",
      "        \n",
      "        temp = unicodedata.normalize('NFKD', temp).encode('ascii','ignore')\n",
      "        \n",
      "        pos= str.find(temp, '<')\n",
      "        \n",
      "        t10 = temp[:pos]\n",
      "        \n",
      "        t11 = match.by_tag('a')[0].attrs['href']\n",
      "        \n",
      "        res = res.append(pd.DataFrame([dict(age=t1[:-4], height=t2, caste=t3, religion=t4, language=t5, author=t6, education=t7, employment=t8, location=t9, description=t10, link=t11, gender=1) ]), ignore_index=True)\n",
      "    return res\n",
      "    \n",
      "to_write = extract(content)\n",
      "\n",
      "to_write.to_csv('grooms_marathi.csv', index=False)\n",
      "#critics = pd.read_csv('critics.csv')"
     ],
     "language": "python",
     "metadata": {},
     "outputs": [],
     "prompt_number": 8
    },
    {
     "cell_type": "markdown",
     "metadata": {},
     "source": [
      "The below code extracts full profiles from the above data frame of metadata."
     ]
    },
    {
     "cell_type": "code",
     "collapsed": false,
     "input": [
      "import unicodedata\n",
      "\n",
      "import requests\n",
      "import re\n",
      "\n",
      "cookies = dict(JSESSIONID=\"24AD72787C3136C64BD0B674E7FD55F2.SMAPP01\", SM_PUBLIC_ENCRYPTED_ID=\"wRTH7fh9ai/7ihX7Udb8WA==\", SM_PUBLIC_SESSION_KEY='HYJMRLXUOBYQXVRMSMMSCPWCWIOOBBUF',SimplyMarryAuthCookie='YTNwM2JBa1dnZ3JaY1p6d3Q2T1MyZz09Omw1NW5tTDVIM1EyV21qcDZGcTh3SkE9PQ')\n",
      "    \n",
      "def extract(content, plink):\n",
      "    dom = web.Element(content)\n",
      "    \n",
      "    temp = dom.by_tag('p#cRs_293')\n",
      "    if len(temp) >= 1:\n",
      "        about1 = unicodedata.normalize('NFKD', temp[0].content.strip()).encode('ascii','ignore')\n",
      "    else:\n",
      "        about1 = ''\n",
      "        \n",
      "    temp = dom.by_tag('div.pddetail_mid')\n",
      "    if len(temp) >= 1:\n",
      "        details = unicodedata.normalize('NFKD', temp[0].content.strip()).encode('ascii','ignore')\n",
      "    else:\n",
      "        details = ''\n",
      "        \n",
      "    temp = dom.by_tag('div.detsec_profiledet')\n",
      "    if len(temp) >= 2:\n",
      "        temp2 = temp[1].by_tag('p')\n",
      "        if len(temp2) >= 1:\n",
      "            about2 = unicodedata.normalize('NFKD', temp2[0].content).encode('ascii','ignore')\n",
      "        else:\n",
      "            about2 = ''\n",
      "    else:\n",
      "        about2 = ''\n",
      "    \n",
      "    lists = dom.by_tag('li.ulli_wth')\n",
      "    \n",
      "    marital_status1, marital_status2 = '', ''\n",
      "    have_children = ''\n",
      "    created_for = ''\n",
      "    last_login = None\n",
      "    age2, city2 = '', ''\n",
      "    \n",
      "    height1, height2 = '', ''\n",
      "    weight1, weight2 = '', ''\n",
      "    complexion1, complexion2 = '', ''\n",
      "    body1, body2 = '', ''\n",
      "    special1, special2 = '', ''\n",
      "    \n",
      "    college = ''\n",
      "    degree = ''\n",
      "    fields = ''\n",
      "    education2 = ''\n",
      "    employed1, employed2 = '', ''\n",
      "    occupation = ''\n",
      "    income1, income2 = '', ''\n",
      "    \n",
      "    religion1, religion2 = '', ''\n",
      "    mother1, mother2 = '', ''\n",
      "    caste1, caste2 = '', ''\n",
      "    subcaste = ''\n",
      "    manglik1, manglik2 = '', ''\n",
      "    gotra = ''\n",
      "    nakshatra = ''\n",
      "    raasi = ''\n",
      "    horoscope = ''\n",
      "    \n",
      "    birth1, birth2, birth3, birth4 = '', '', '', ''\n",
      "    \n",
      "    smoking1, smoking2 = '', ''\n",
      "    drinking1, drinking2 = '', ''\n",
      "    eating1, eating2 = '', ''\n",
      "    \n",
      "    father, mother, brothers, sisters, living = '', '', '', '', ''\n",
      "    \n",
      "    values1, values2 = '', ''\n",
      "    family_type1, family_type2 = '', ''\n",
      "    status1, status2= '', ''\n",
      "    about_family = ''\n",
      "    \n",
      "    \n",
      "    for i in lists:\n",
      "        if i.content.strip() == \"Marital Status\":\n",
      "            if marital_status1 == '':\n",
      "                marital_status1 = i.parent('li')[2].content\n",
      "            else:\n",
      "                marital_status2 = i.parent('li')[2].content\n",
      "        elif i.content.strip() == \"Have Children\":\n",
      "            if have_children == '':\n",
      "                have_children = i.parent('li')[2].content\n",
      "        elif i.content.strip() == \"Created For\":\n",
      "            created_for = i.parent('li')[2].content\n",
      "        elif i.content.strip() == \"Last Login\":\n",
      "            last_login = i.parent('li')[2].content\n",
      "        elif i.content.strip() == \"Age\":\n",
      "            age2 = i.parent('li')[2].content\n",
      "        elif i.content.strip() == \"City\":\n",
      "            city2 = i.parent('li')[2].content\n",
      "        elif i.content.strip() == \"Height\":\n",
      "            if height1 == '':\n",
      "                height1 = i.parent('li')[2].content\n",
      "            else:\n",
      "                height2 = i.parent('li')[2].content  \n",
      "        elif i.content.strip() == \"Weight\":\n",
      "            if weight1 == '':\n",
      "                weight1 = i.parent('li')[2].content\n",
      "            else:\n",
      "                weight2 = i.parent('li')[2].content\n",
      "        elif i.content.strip() == \"Complexion\":\n",
      "            if complexion1 == '':\n",
      "                complexion1 = i.parent('li')[2].content\n",
      "            else:\n",
      "                complexion2 = i.parent('li')[2].content        \n",
      "        elif i.content.strip() == \"Body Type\":\n",
      "            if body1 == '':\n",
      "                body1 = i.parent('li')[2].content\n",
      "            else:\n",
      "                body2 = i.parent('li')[2].content    \n",
      "        elif i.content.strip() == \"Special Case\":\n",
      "            special1 = i.parent('li')[2].content\n",
      "        elif i.content.strip() == \"Special Class\":\n",
      "            special2 = i.parent('li')[2].content\n",
      "        elif i.content.strip() == \"College/Institute\":\n",
      "            college = i.parent('li')[2].content\n",
      "        elif i.content.strip() == \"Highest Qualification\":\n",
      "            degree = i.parent('li')[2].content\n",
      "        elif i.content.strip() == \"Fields of Study\":\n",
      "            fields = i.parent('li')[2].content\n",
      "        elif i.content.strip() == \"Employed In\":\n",
      "            employed1 = i.parent('li')[2].content\n",
      "        elif i.content.strip() == \"Employed Sectors\":\n",
      "            employed2 = i.parent('li')[2].content\n",
      "        elif i.content.strip() == \"Education\":\n",
      "            education2 = i.parent('li')[2].content\n",
      "        elif i.content.strip() == \"Occupation\":\n",
      "            occupation = i.parent('li')[2].content\n",
      "        elif i.content.strip() == \"Annual Income\":\n",
      "            if income1 == '':\n",
      "                income1 = i.parent('li')[2].content\n",
      "            else:\n",
      "                income2 = i.parent('li')[2].content  \n",
      "        elif i.content.strip() == \"Religion\":\n",
      "            if religion1 == '':\n",
      "                religion1 = i.parent('li')[2].content\n",
      "            else:\n",
      "                religion2 = i.parent('li')[2].content  \n",
      "        elif i.content.strip() == \"Mother Tongue\":\n",
      "            if mother1 == '':\n",
      "                mother1 = i.parent('li')[2].content\n",
      "            else:\n",
      "                mother2 = i.parent('li')[2].content          \n",
      "        elif i.content.strip() == \"Caste\":\n",
      "            if caste1 == '':\n",
      "                caste1 = i.parent('li')[2].content\n",
      "            else:\n",
      "                caste2 = i.parent('li')[2].content  \n",
      "        elif i.content.strip() == \"Manglik\":\n",
      "            if manglik1 == '':\n",
      "                manglik1 = i.parent('li')[2].content\n",
      "            else:\n",
      "                manglik2 = i.parent('li')[2].content                 \n",
      "        elif i.content.strip() == \"Sub Caste\":\n",
      "            subcaste = i.parent('li')[2].content\n",
      "        elif i.content.strip() == \"Gotra /Gothram\":\n",
      "            gotra = i.parent('li')[2].content\n",
      "        elif i.content.strip() == \"Nakshatra (m)e\":\n",
      "            nakshatra = i.parent('li')[2].content  \n",
      "        elif i.content.strip() == \"Raasi/Moon Sign\":\n",
      "            raasi = i.parent('li')[2].content\n",
      "        elif i.content.strip() == \"Horoscope Required\":\n",
      "            horoscope = i.parent('li')[2].content\n",
      "        elif i.content.strip() == \"Date Of Birth\":\n",
      "            birth1 = i.parent('li')[2].content\n",
      "        elif i.content.strip() == \"Time Of Birth\":\n",
      "            birth2 = i.parent('li')[2].content\n",
      "        elif i.content.strip() == \"Country of birth\":\n",
      "            birth3 = i.parent('li')[2].content\n",
      "        elif i.content.strip() == \"Birth Place\":\n",
      "            birth4 = i.parent('li')[2].content\n",
      "        elif i.content.strip() == \"Smoking\":\n",
      "            if smoking1 == '':\n",
      "                smoking1 = i.parent('li')[2].content\n",
      "            else:\n",
      "                smoking2 = i.parent('li')[2].content          \n",
      "        elif i.content.strip() == \"Drinking\":\n",
      "            if drinking1 == '':\n",
      "                drinking1 = i.parent('li')[2].content\n",
      "            else:\n",
      "                drinking2 = i.parent('li')[2].content  \n",
      "        elif i.content.strip() == \"Eating Habits\":\n",
      "            if eating1 == '':\n",
      "                eating1 = i.parent('li')[2].content\n",
      "            else:\n",
      "                eating2 = i.parent('li')[2].content\n",
      "        elif \"Father\" in i.content.strip() and \"Occupation\" in i.content.strip():\n",
      "            father = i.parent('li')[2].content\n",
      "        elif \"Mother\" in i.content.strip() and \"Occupation\" in i.content.strip():\n",
      "            mother = i.parent('li')[2].content\n",
      "        elif i.content.strip() == \"Brothers\":\n",
      "            brothers = i.parent('li')[2].content\n",
      "        elif i.content.strip() == \"Sisters\":\n",
      "            sisters = i.parent('li')[2].content\n",
      "        elif i.content.strip() == \"Living with parents?\":\n",
      "            living = i.parent('li')[2].content\n",
      "        elif i.content.strip() == \"Family values\":\n",
      "            values1 = i.parent('li')[2].content\n",
      "        elif i.content.strip() == \"Family Values\":\n",
      "            values2 = i.parent('li')[2].content\n",
      "        elif i.content.strip() == \"Family Type\":\n",
      "            if family_type1 == '':\n",
      "                family_type1 = i.parent('li')[2].content\n",
      "            else:\n",
      "                family_type2 = i.parent('li')[2].content  \n",
      "        elif i.content.strip() == \"Family Status\":\n",
      "            if status1 == '':\n",
      "                status1 = i.parent('li')[2].content\n",
      "            else:\n",
      "                status2 = i.parent('li')[2].content      \n",
      "        elif i.content.strip() == \"About my family\":\n",
      "            about_family = i.parent('li')[2].content\n",
      "            about_family = unicodedata.normalize('NFKD', about_family).encode('ascii','ignore')\n",
      "\n",
      "    return pd.DataFrame([dict(url=str(plink), about1=about1, about2=about2, details=details, marital_status1=marital_status1, marital_status2=marital_status2, have_children=have_children, created_for=created_for, last_login=last_login, age2=age2, city2=city2, height1=height1, height2=height2, weight1=weight1, weight2=weight2, complexion1=complexion1, complexion2=complexion2, body1=body1, body2=body2, special1=special1, special2=special2, college=college, degree=degree, fields=fields, education2=education2, employed1=employed1, employed2=employed2, occupation=occupation, income1=income1, income2=income2, religion1=religion1, religion2=religion2, mother1=mother1, mother2=mother2, caste1=caste1, caste2=caste2, manglik1=manglik1, manglik2=manglik2, subcaste=subcaste, gotra=gotra, horoscope=horoscope, raasi=raasi, nakshatra=nakshatra, birth1=birth1, birth2=birth2, birth3=birth3, birth4=birth4, smoking1=smoking1, smoking2=smoking2, drinking1=drinking1, drinking2=drinking2, eating1=eating1, eating2=eating2, father=father, mother=mother, brothers=brothers, sisters=sisters, living=living, values1=values1, values2=values2, family_type1=family_type1, family_type2=family_type2, status1=status1, status2=status2, about_family=about_family) ])\n",
      "\n",
      "\n",
      "def get_full_profiles(csv):\n",
      "    profiles = pd.DataFrame(columns=('url', 'about1', 'about2', 'details', 'marital_status1', 'marital_status2', 'have_children', 'created_for', 'last_login', 'age2', 'city2', 'height1', 'height2', 'weight1', 'weight2', 'complexion1', 'complexion2', 'body1', 'body2', 'special1', 'special2', 'college', 'degree', 'fields', 'education2', 'employed1', 'employed2', 'occupation', 'income1', 'income2', 'religion1', 'religion2', 'mother1', 'mother2', 'caste1', 'caste2', 'manglik1', 'manglik2', 'subcaste', 'gotra', 'horoscope', 'raasi', 'nakshatra', 'birth1', 'birth2', 'birth3', 'birth4', 'smoking1', 'smoking2', 'drinking1', 'drinking2', 'eating1', 'eating2', 'father', 'mother', 'brothers', 'sisters', 'living', 'values1', 'values2', 'family_type1', 'family_type2', 'status1', 'status2', 'about_family'))\n",
      "    brides = pd.read_csv(csv)\n",
      "    num = 0\n",
      "    for url in brides.link:    \n",
      "        r = requests.get(url, cookies=cookies)\n",
      "        if r.status_code == 200:\n",
      "            num+=1\n",
      "            print num, url\n",
      "            content = r.text\n",
      "            content = re.sub(r'\\s\\s+', ' ', content)\n",
      "            dom = web.Element(content)        \n",
      "            profiles = profiles.append(extract(content, url), ignore_index=True) \n",
      "        else:\n",
      "            continue\n",
      "    return profiles\n",
      "\n",
      "get_full_profiles('telugu04.csv').to_csv('telugu04_full.csv', encoding='utf-8', index=False)"
     ],
     "language": "python",
     "metadata": {},
     "outputs": [
      {
       "output_type": "stream",
       "stream": "stdout",
       "text": [
        "1 http://www.simplymarry.com/matrimonial/bride/SMF1616716/Hindu/Yadav/Deepaika\n",
        "2"
       ]
      },
      {
       "output_type": "stream",
       "stream": "stdout",
       "text": [
        " http://www.simplymarry.com/matrimonial/bride/SMF1616720/Hindu/Brahmin/Lalita\n",
        "3"
       ]
      },
      {
       "output_type": "stream",
       "stream": "stdout",
       "text": [
        " http://www.simplymarry.com/matrimonial/bride/SMF1616730/Hindu/Arekatica/Punya\n",
        "4"
       ]
      },
      {
       "output_type": "stream",
       "stream": "stdout",
       "text": [
        " http://www.simplymarry.com/matrimonial/bride/SMF1616733/Hindu/Arya-Vysya/Avanthi\n",
        "5"
       ]
      },
      {
       "output_type": "stream",
       "stream": "stdout",
       "text": [
        " http://www.simplymarry.com/matrimonial/bride/SMF1616735/Hindu/Vada-Balija/Kodanda-Veni\n",
        "6"
       ]
      },
      {
       "output_type": "stream",
       "stream": "stdout",
       "text": [
        " http://www.simplymarry.com/matrimonial/bride/SMF1616739/Hindu/Anisha\n",
        "7"
       ]
      },
      {
       "output_type": "stream",
       "stream": "stdout",
       "text": [
        " http://www.simplymarry.com/matrimonial/bride/SMF1616743/Hindu/Rajaka/Sailaja\n",
        "8"
       ]
      },
      {
       "output_type": "stream",
       "stream": "stdout",
       "text": [
        " http://www.simplymarry.com/matrimonial/bride/SMF1616745/Hindu/Brahmin---Dravida/Aswini\n",
        "9"
       ]
      },
      {
       "output_type": "stream",
       "stream": "stdout",
       "text": [
        " http://www.simplymarry.com/matrimonial/bride/SMF1616746/Hindu/Yadav/Manju\n",
        "10"
       ]
      },
      {
       "output_type": "stream",
       "stream": "stdout",
       "text": [
        " http://www.simplymarry.com/matrimonial/bride/SMF1616748/Hindu/Kayastha/Aliveni\n",
        "11"
       ]
      },
      {
       "output_type": "stream",
       "stream": "stdout",
       "text": [
        " http://www.simplymarry.com/matrimonial/bride/SMF1616757/Hindu/Mera/Madhurima\n",
        "12"
       ]
      },
      {
       "output_type": "stream",
       "stream": "stdout",
       "text": [
        " http://www.simplymarry.com/matrimonial/bride/SMF1616763/Hindu/Yadav/Ashik\n",
        "13"
       ]
      },
      {
       "output_type": "stream",
       "stream": "stdout",
       "text": [
        " http://www.simplymarry.com/matrimonial/bride/SMF1616765/Christian/Catholic/Aashraya\n",
        "14"
       ]
      },
      {
       "output_type": "stream",
       "stream": "stdout",
       "text": [
        " http://www.simplymarry.com/matrimonial/bride/SMF1616773/Hindu/Brahmin---Dravida/Malika\n",
        "15"
       ]
      },
      {
       "output_type": "stream",
       "stream": "stdout",
       "text": [
        " http://www.simplymarry.com/matrimonial/bride/SMF1616774/Hindu/Brahmin/Sidhu\n",
        "16"
       ]
      },
      {
       "output_type": "stream",
       "stream": "stdout",
       "text": [
        " http://www.simplymarry.com/matrimonial/bride/SMF1616786/Hindu/Mala/Sravani\n",
        "17"
       ]
      },
      {
       "output_type": "stream",
       "stream": "stdout",
       "text": [
        " http://www.simplymarry.com/matrimonial/bride/SMF1616788/Hindu/Sakina\n",
        "18"
       ]
      },
      {
       "output_type": "stream",
       "stream": "stdout",
       "text": [
        " http://www.simplymarry.com/matrimonial/bride/SMF1616793/Hindu/Agnikula-Kshatriya/Sujitha\n",
        "19"
       ]
      },
      {
       "output_type": "stream",
       "stream": "stdout",
       "text": [
        " http://www.simplymarry.com/matrimonial/bride/SMF1616794/Christian/Protestant/Ruthika\n",
        "20"
       ]
      },
      {
       "output_type": "stream",
       "stream": "stdout",
       "text": [
        " http://www.simplymarry.com/matrimonial/bride/SMF1616833/Hindu/Arora/Nalini\n",
        "21"
       ]
      },
      {
       "output_type": "stream",
       "stream": "stdout",
       "text": [
        " http://www.simplymarry.com/matrimonial/bride/SMF1616843/Hindu/Rajaka/Srilakshmi\n",
        "22"
       ]
      },
      {
       "output_type": "stream",
       "stream": "stdout",
       "text": [
        " http://www.simplymarry.com/matrimonial/bride/SMF1616848/Hindu/Yadav/Laxmi\n",
        "23"
       ]
      },
      {
       "output_type": "stream",
       "stream": "stdout",
       "text": [
        " http://www.simplymarry.com/matrimonial/bride/SMF1616849/Hindu/Balija/Sharmila\n",
        "24"
       ]
      },
      {
       "output_type": "stream",
       "stream": "stdout",
       "text": [
        " http://www.simplymarry.com/matrimonial/bride/SMF1616863/Hindu/Brahmin---Dravida/Priyanka\n",
        "25"
       ]
      },
      {
       "output_type": "stream",
       "stream": "stdout",
       "text": [
        " http://www.simplymarry.com/matrimonial/bride/SMF1616866/Hindu/Pavan\n",
        "26"
       ]
      },
      {
       "output_type": "stream",
       "stream": "stdout",
       "text": [
        " http://www.simplymarry.com/matrimonial/bride/SMF1616867/Hindu/Arya-Vysya/Mani\n",
        "27"
       ]
      },
      {
       "output_type": "stream",
       "stream": "stdout",
       "text": [
        " http://www.simplymarry.com/matrimonial/bride/SMF1616871/Hindu/Besta/Arunasri\n",
        "28"
       ]
      },
      {
       "output_type": "stream",
       "stream": "stdout",
       "text": [
        " http://www.simplymarry.com/matrimonial/bride/SMF1616880/Hindu/Brahmin---Dravida/Asha\n",
        "29"
       ]
      },
      {
       "output_type": "stream",
       "stream": "stdout",
       "text": [
        " http://www.simplymarry.com/matrimonial/bride/SMF1616881/Hindu/Scheduled-Caste/Ayushmati\n",
        "30"
       ]
      },
      {
       "output_type": "stream",
       "stream": "stdout",
       "text": [
        " http://www.simplymarry.com/matrimonial/bride/SMF1616882/Hindu/Murty\n",
        "31"
       ]
      },
      {
       "output_type": "stream",
       "stream": "stdout",
       "text": [
        " http://www.simplymarry.com/matrimonial/bride/SMF1616886/Hindu/Uppara/Neela-Kumari\n",
        "32"
       ]
      },
      {
       "output_type": "stream",
       "stream": "stdout",
       "text": [
        " http://www.simplymarry.com/matrimonial/bride/SMF1616887/Hindu/Yadav/Kala\n",
        "33"
       ]
      },
      {
       "output_type": "stream",
       "stream": "stdout",
       "text": [
        " http://www.simplymarry.com/matrimonial/bride/SMF1616889/Hindu/Balija/Neeraja\n",
        "34"
       ]
      },
      {
       "output_type": "stream",
       "stream": "stdout",
       "text": [
        " http://www.simplymarry.com/matrimonial/bride/SMF1616892/Hindu/Balija/Madhu\n",
        "35"
       ]
      },
      {
       "output_type": "stream",
       "stream": "stdout",
       "text": [
        " http://www.simplymarry.com/matrimonial/bride/SMF1616897/Hindu/Praneetha\n",
        "36"
       ]
      },
      {
       "output_type": "stream",
       "stream": "stdout",
       "text": [
        " http://www.simplymarry.com/matrimonial/bride/SMF1616905/Hindu/Brahmin/Rupa\n",
        "37"
       ]
      },
      {
       "output_type": "stream",
       "stream": "stdout",
       "text": [
        " http://www.simplymarry.com/matrimonial/bride/SMF1616906/Hindu/Adi-Andhra/Amita\n",
        "38"
       ]
      },
      {
       "output_type": "stream",
       "stream": "stdout",
       "text": [
        " http://www.simplymarry.com/matrimonial/bride/SMF1616909/Hindu/Naika/Lakshmi\n",
        "39"
       ]
      },
      {
       "output_type": "stream",
       "stream": "stdout",
       "text": [
        " http://www.simplymarry.com/matrimonial/bride/SMF1616917/Hindu/Chakradhar\n",
        "40"
       ]
      },
      {
       "output_type": "stream",
       "stream": "stdout",
       "text": [
        " http://www.simplymarry.com/matrimonial/bride/SMF1616925/Hindu/Balija/Nalini\n",
        "41"
       ]
      },
      {
       "output_type": "stream",
       "stream": "stdout",
       "text": [
        " http://www.simplymarry.com/matrimonial/bride/SMF1616926/Hindu/Raj\n",
        "42"
       ]
      },
      {
       "output_type": "stream",
       "stream": "stdout",
       "text": [
        " http://www.simplymarry.com/matrimonial/bride/SMF1616933/Hindu/Gopal\n",
        "43"
       ]
      },
      {
       "output_type": "stream",
       "stream": "stdout",
       "text": [
        " http://www.simplymarry.com/matrimonial/bride/SMF1616934/Hindu/Brahmin---Dravida/Rathnarao\n",
        "44"
       ]
      },
      {
       "output_type": "stream",
       "stream": "stdout",
       "text": [
        " http://www.simplymarry.com/matrimonial/bride/SMF1616943/Hindu/Yadav/Kusuma\n",
        "45"
       ]
      },
      {
       "output_type": "stream",
       "stream": "stdout",
       "text": [
        " http://www.simplymarry.com/matrimonial/bride/SMF1616945/Hindu/Jat/Mohita\n",
        "46"
       ]
      },
      {
       "output_type": "stream",
       "stream": "stdout",
       "text": [
        " http://www.simplymarry.com/matrimonial/bride/SMF1616949/Hindu/Maratha/Pushpa\n",
        "47"
       ]
      },
      {
       "output_type": "stream",
       "stream": "stdout",
       "text": [
        " http://www.simplymarry.com/matrimonial/bride/SMF1616954/Hindu/Munnuru-Kapu/Niharika\n",
        "48"
       ]
      },
      {
       "output_type": "stream",
       "stream": "stdout",
       "text": [
        " http://www.simplymarry.com/matrimonial/bride/SMF1616957/Hindu/Besta/Reshma\n",
        "49"
       ]
      },
      {
       "output_type": "stream",
       "stream": "stdout",
       "text": [
        " http://www.simplymarry.com/matrimonial/bride/SMF1616962/Hindu/Brahmin---Dravida/Bhavana\n",
        "50"
       ]
      },
      {
       "output_type": "stream",
       "stream": "stdout",
       "text": [
        " http://www.simplymarry.com/matrimonial/bride/SMF1616970/Hindu/Padmasali/Divyakumari\n",
        "51"
       ]
      },
      {
       "output_type": "stream",
       "stream": "stdout",
       "text": [
        " http://www.simplymarry.com/matrimonial/bride/SMF1616975/Hindu/Brahmin---Dravida/Vasantha\n",
        "52"
       ]
      },
      {
       "output_type": "stream",
       "stream": "stdout",
       "text": [
        " http://www.simplymarry.com/matrimonial/bride/SMF1616988/Hindu/Naidu/Haritha\n",
        "53"
       ]
      },
      {
       "output_type": "stream",
       "stream": "stdout",
       "text": [
        " http://www.simplymarry.com/matrimonial/bride/SMF1616990/Hindu/Scheduled-Caste/Rekha\n",
        "54"
       ]
      },
      {
       "output_type": "stream",
       "stream": "stdout",
       "text": [
        " http://www.simplymarry.com/matrimonial/bride/SMF1616996/Hindu/Yadav/Khanaka\n",
        "55"
       ]
      },
      {
       "output_type": "stream",
       "stream": "stdout",
       "text": [
        " http://www.simplymarry.com/matrimonial/bride/SMF1616997/Hindu/Devanga/Gowri-Devi\n",
        "56"
       ]
      },
      {
       "output_type": "stream",
       "stream": "stdout",
       "text": [
        " http://www.simplymarry.com/matrimonial/bride/SMF1616999/Hindu/Brahmin/Padhu\n",
        "57"
       ]
      },
      {
       "output_type": "stream",
       "stream": "stdout",
       "text": [
        " http://www.simplymarry.com/matrimonial/bride/SMF1617003/Hindu/Kayastha/Monika\n",
        "58"
       ]
      },
      {
       "output_type": "stream",
       "stream": "stdout",
       "text": [
        " http://www.simplymarry.com/matrimonial/bride/SMF1617016/Hindu/Khan\n",
        "59"
       ]
      },
      {
       "output_type": "stream",
       "stream": "stdout",
       "text": [
        " http://www.simplymarry.com/matrimonial/bride/SMF1617026/Hindu/Ayyaraka/Preethi\n",
        "60"
       ]
      },
      {
       "output_type": "stream",
       "stream": "stdout",
       "text": [
        " http://www.simplymarry.com/matrimonial/bride/SMF1617031/Hindu/Kayastha/Laxmi\n",
        "61"
       ]
      },
      {
       "output_type": "stream",
       "stream": "stdout",
       "text": [
        " http://www.simplymarry.com/matrimonial/bride/SMF1617036/Hindu/Agarwal/Krithya\n",
        "62"
       ]
      },
      {
       "output_type": "stream",
       "stream": "stdout",
       "text": [
        " http://www.simplymarry.com/matrimonial/bride/SMF1617039/Hindu/Raju\n",
        "63"
       ]
      },
      {
       "output_type": "stream",
       "stream": "stdout",
       "text": [
        " http://www.simplymarry.com/matrimonial/bride/SMF1617054/Hindu/Darji/Sweety\n",
        "64"
       ]
      },
      {
       "output_type": "stream",
       "stream": "stdout",
       "text": [
        " http://www.simplymarry.com/matrimonial/bride/SMF1617062/Hindu/Balija/Gayatri\n",
        "65"
       ]
      },
      {
       "output_type": "stream",
       "stream": "stdout",
       "text": [
        " http://www.simplymarry.com/matrimonial/bride/SMF1617064/Hindu/Arya-Vysya/Satyadevi\n",
        "66"
       ]
      },
      {
       "output_type": "stream",
       "stream": "stdout",
       "text": [
        " http://www.simplymarry.com/matrimonial/bride/SMF1617078/Hindu/Sailaja\n",
        "67"
       ]
      },
      {
       "output_type": "stream",
       "stream": "stdout",
       "text": [
        " http://www.simplymarry.com/matrimonial/bride/SMF1617081/Hindu/Brahmin---Smartha/Nandhini\n",
        "68"
       ]
      },
      {
       "output_type": "stream",
       "stream": "stdout",
       "text": [
        " http://www.simplymarry.com/matrimonial/bride/SMF1617088/Hindu/Madhubabu\n",
        "69"
       ]
      },
      {
       "output_type": "stream",
       "stream": "stdout",
       "text": [
        " http://www.simplymarry.com/matrimonial/bride/SMF1617093/Hindu/Nageswarrao\n",
        "70"
       ]
      },
      {
       "output_type": "stream",
       "stream": "stdout",
       "text": [
        " http://www.simplymarry.com/matrimonial/bride/SMF1617097/Hindu/Goud/Sampathi\n",
        "71"
       ]
      },
      {
       "output_type": "stream",
       "stream": "stdout",
       "text": [
        " http://www.simplymarry.com/matrimonial/bride/SMF1617106/Hindu/Agnikula-Kshatriya/Padmaja\n",
        "72"
       ]
      },
      {
       "output_type": "stream",
       "stream": "stdout",
       "text": [
        " http://www.simplymarry.com/matrimonial/bride/SMF1617111/Hindu/Rajsekhar\n",
        "73"
       ]
      },
      {
       "output_type": "stream",
       "stream": "stdout",
       "text": [
        " http://www.simplymarry.com/matrimonial/bride/SMF1617117/Hindu/Balija/Taruni\n",
        "74"
       ]
      },
      {
       "output_type": "stream",
       "stream": "stdout",
       "text": [
        " http://www.simplymarry.com/matrimonial/bride/SMF1617119/Hindu/Kirankumar\n",
        "75"
       ]
      },
      {
       "output_type": "stream",
       "stream": "stdout",
       "text": [
        " http://www.simplymarry.com/matrimonial/bride/SMF1617121/Hindu/Yadav/Mohan\n",
        "76"
       ]
      },
      {
       "output_type": "stream",
       "stream": "stdout",
       "text": [
        " http://www.simplymarry.com/matrimonial/bride/SMF1617123/Hindu/Bhanumurthy\n",
        "77"
       ]
      },
      {
       "output_type": "stream",
       "stream": "stdout",
       "text": [
        " http://www.simplymarry.com/matrimonial/bride/SMF1617126/Hindu/Brahmin---Madhwa/Niharika\n",
        "78"
       ]
      },
      {
       "output_type": "stream",
       "stream": "stdout",
       "text": [
        " http://www.simplymarry.com/matrimonial/bride/SMF1617132/Hindu/Vanjara/Veeramani\n",
        "79"
       ]
      },
      {
       "output_type": "stream",
       "stream": "stdout",
       "text": [
        " http://www.simplymarry.com/matrimonial/bride/SMF1617138/Hindu/Chettiar/Devikumari\n",
        "80"
       ]
      },
      {
       "output_type": "stream",
       "stream": "stdout",
       "text": [
        " http://www.simplymarry.com/matrimonial/bride/SMF1617149/Hindu/Brahmin---Dravida/Sirisha\n",
        "81"
       ]
      },
      {
       "output_type": "stream",
       "stream": "stdout",
       "text": [
        " http://www.simplymarry.com/matrimonial/bride/SMF1617159/Hindu/Vaddera/Kirthi\n",
        "82"
       ]
      },
      {
       "output_type": "stream",
       "stream": "stdout",
       "text": [
        " http://www.simplymarry.com/matrimonial/bride/SMF1617163/Hindu/Besta/Shandhya\n",
        "83"
       ]
      },
      {
       "output_type": "stream",
       "stream": "stdout",
       "text": [
        " http://www.simplymarry.com/matrimonial/bride/SMF1617167/Hindu/Arekatica/Ambika\n",
        "84"
       ]
      },
      {
       "output_type": "stream",
       "stream": "stdout",
       "text": [
        " http://www.simplymarry.com/matrimonial/bride/SMF1617173/Hindu/Balija/Srilakshmi\n",
        "85"
       ]
      },
      {
       "output_type": "stream",
       "stream": "stdout",
       "text": [
        " http://www.simplymarry.com/matrimonial/bride/SMF1617183/Hindu/Vada-Balija/Pravallika\n",
        "86"
       ]
      },
      {
       "output_type": "stream",
       "stream": "stdout",
       "text": [
        " http://www.simplymarry.com/matrimonial/bride/SMF1617184/Hindu/Yadav/Narmadha\n",
        "87"
       ]
      },
      {
       "output_type": "stream",
       "stream": "stdout",
       "text": [
        " http://www.simplymarry.com/matrimonial/bride/SMF1617186/Hindu/Yadav/Anusha\n",
        "88"
       ]
      },
      {
       "output_type": "stream",
       "stream": "stdout",
       "text": [
        " http://www.simplymarry.com/matrimonial/bride/SMF1617187/Hindu/Besta/Radhika\n",
        "89"
       ]
      },
      {
       "output_type": "stream",
       "stream": "stdout",
       "text": [
        " http://www.simplymarry.com/matrimonial/bride/SMF1617190/Hindu/Yadav/Geetha\n",
        "90"
       ]
      },
      {
       "output_type": "stream",
       "stream": "stdout",
       "text": [
        " http://www.simplymarry.com/matrimonial/bride/SMF1617192/Hindu/Besta/Gowri\n",
        "91"
       ]
      },
      {
       "output_type": "stream",
       "stream": "stdout",
       "text": [
        " http://www.simplymarry.com/matrimonial/bride/SMF1617199/Hindu/Balija/Kamali\n",
        "92"
       ]
      },
      {
       "output_type": "stream",
       "stream": "stdout",
       "text": [
        " http://www.simplymarry.com/matrimonial/bride/SMF1617200/Hindu/Yadav/Leka\n",
        "93"
       ]
      },
      {
       "output_type": "stream",
       "stream": "stdout",
       "text": [
        " http://www.simplymarry.com/matrimonial/bride/SMF1617202/Hindu/Brahmin---Dravida/Preemala\n",
        "94"
       ]
      },
      {
       "output_type": "stream",
       "stream": "stdout",
       "text": [
        " http://www.simplymarry.com/matrimonial/bride/SMF1617206/Hindu/Kuruba/Navyakumari\n",
        "95"
       ]
      },
      {
       "output_type": "stream",
       "stream": "stdout",
       "text": [
        " http://www.simplymarry.com/matrimonial/bride/SMF1617211/Hindu/Arya-Vysya/Lakshmi\n",
        "96"
       ]
      },
      {
       "output_type": "stream",
       "stream": "stdout",
       "text": [
        " http://www.simplymarry.com/matrimonial/bride/SMF1617212/Hindu/Valmiki/Nagesh\n",
        "97"
       ]
      },
      {
       "output_type": "stream",
       "stream": "stdout",
       "text": [
        " http://www.simplymarry.com/matrimonial/bride/SMF1617215/Hindu/Brahmin---Niyogi/Manju\n",
        "98"
       ]
      },
      {
       "output_type": "stream",
       "stream": "stdout",
       "text": [
        " http://www.simplymarry.com/matrimonial/bride/SMF1617223/Hindu/Yadav/Nani\n",
        "99"
       ]
      },
      {
       "output_type": "stream",
       "stream": "stdout",
       "text": [
        " http://www.simplymarry.com/matrimonial/bride/SMF1617227/Hindu/Padmasali/Kavitha\n",
        "100"
       ]
      },
      {
       "output_type": "stream",
       "stream": "stdout",
       "text": [
        " http://www.simplymarry.com/matrimonial/bride/SMF1617230/Hindu/Brahmin/Sanaya\n",
        "101"
       ]
      },
      {
       "output_type": "stream",
       "stream": "stdout",
       "text": [
        " http://www.simplymarry.com/matrimonial/bride/SMF1617231/Hindu/Maratha/Radhi\n",
        "102"
       ]
      },
      {
       "output_type": "stream",
       "stream": "stdout",
       "text": [
        " http://www.simplymarry.com/matrimonial/bride/SMF1617232/Hindu/Maratha/Jayalakshmi\n",
        "103"
       ]
      },
      {
       "output_type": "stream",
       "stream": "stdout",
       "text": [
        " http://www.simplymarry.com/matrimonial/bride/SMF1617236/Hindu/Yadav/Sravani\n",
        "104"
       ]
      },
      {
       "output_type": "stream",
       "stream": "stdout",
       "text": [
        " http://www.simplymarry.com/matrimonial/bride/SMF1617241/Hindu/Brahmin/Nandini\n",
        "105"
       ]
      },
      {
       "output_type": "stream",
       "stream": "stdout",
       "text": [
        " http://www.simplymarry.com/matrimonial/bride/SMF1617242/Hindu/Balija/Bhanu\n",
        "106"
       ]
      },
      {
       "output_type": "stream",
       "stream": "stdout",
       "text": [
        " http://www.simplymarry.com/matrimonial/bride/SMF1617250/Hindu/Balija/Moti\n",
        "107"
       ]
      },
      {
       "output_type": "stream",
       "stream": "stdout",
       "text": [
        " http://www.simplymarry.com/matrimonial/bride/SMF1617251/Hindu/Brahmin/Adilakshmi\n",
        "108"
       ]
      },
      {
       "output_type": "stream",
       "stream": "stdout",
       "text": [
        " http://www.simplymarry.com/matrimonial/bride/SMF1617256/Hindu/Yadav/Komala\n",
        "109"
       ]
      },
      {
       "output_type": "stream",
       "stream": "stdout",
       "text": [
        " http://www.simplymarry.com/matrimonial/bride/SMF1617259/Hindu/Rajput/Bujji\n",
        "110"
       ]
      },
      {
       "output_type": "stream",
       "stream": "stdout",
       "text": [
        " http://www.simplymarry.com/matrimonial/bride/SMF1617262/Hindu/Ramakrishna\n",
        "111"
       ]
      },
      {
       "output_type": "stream",
       "stream": "stdout",
       "text": [
        " http://www.simplymarry.com/matrimonial/bride/SMF1617275/Hindu/Scheduled-Caste/Prasanna\n",
        "112"
       ]
      },
      {
       "output_type": "stream",
       "stream": "stdout",
       "text": [
        " http://www.simplymarry.com/matrimonial/bride/SMF1617279/Hindu/Balija/Chandhana\n",
        "113"
       ]
      },
      {
       "output_type": "stream",
       "stream": "stdout",
       "text": [
        " http://www.simplymarry.com/matrimonial/bride/SMF1617282/Hindu/Ramji\n",
        "114"
       ]
      },
      {
       "output_type": "stream",
       "stream": "stdout",
       "text": [
        " http://www.simplymarry.com/matrimonial/bride/SMF1617284/Hindu/Johsaf\n",
        "115"
       ]
      },
      {
       "output_type": "stream",
       "stream": "stdout",
       "text": [
        " http://www.simplymarry.com/matrimonial/bride/SMF1617286/Hindu/Brahmin/Rajee\n",
        "116"
       ]
      },
      {
       "output_type": "stream",
       "stream": "stdout",
       "text": [
        " http://www.simplymarry.com/matrimonial/bride/SMF1617290/Hindu/Kayastha/Arifa\n",
        "117"
       ]
      },
      {
       "output_type": "stream",
       "stream": "stdout",
       "text": [
        " http://www.simplymarry.com/matrimonial/bride/SMF1617294/Hindu/Brahmin/Jahnavi-Aiswarya\n",
        "118"
       ]
      },
      {
       "output_type": "stream",
       "stream": "stdout",
       "text": [
        " http://www.simplymarry.com/matrimonial/bride/SMF1617295/Christian/Catholic/Riti\n",
        "119"
       ]
      },
      {
       "output_type": "stream",
       "stream": "stdout",
       "text": [
        " http://www.simplymarry.com/matrimonial/bride/SMF1617305/Hindu/Vaishnava/Maheed\n",
        "120"
       ]
      },
      {
       "output_type": "stream",
       "stream": "stdout",
       "text": [
        " http://www.simplymarry.com/matrimonial/bride/SMF1617306/Hindu/Yadav/Richa\n",
        "121"
       ]
      },
      {
       "output_type": "stream",
       "stream": "stdout",
       "text": [
        " http://www.simplymarry.com/matrimonial/bride/SMF1617307/Hindu/Yadav/Bujji\n",
        "122"
       ]
      },
      {
       "output_type": "stream",
       "stream": "stdout",
       "text": [
        " http://www.simplymarry.com/matrimonial/bride/SMF1617314/Hindu/Kayastha/Shaker\n",
        "123"
       ]
      },
      {
       "output_type": "stream",
       "stream": "stdout",
       "text": [
        " http://www.simplymarry.com/matrimonial/bride/SMF1617345/Hindu/Brahmin/Rao-Neethu\n",
        "124"
       ]
      },
      {
       "output_type": "stream",
       "stream": "stdout",
       "text": [
        " http://www.simplymarry.com/matrimonial/bride/SMF1617364/Hindu/Brahmin/Sudha-Lalitha\n",
        "125"
       ]
      },
      {
       "output_type": "stream",
       "stream": "stdout",
       "text": [
        " http://www.simplymarry.com/matrimonial/bride/SMF1533871/Hindu/Reddy/Swathi-Thummeti\n",
        "126"
       ]
      },
      {
       "output_type": "stream",
       "stream": "stdout",
       "text": [
        " http://www.simplymarry.com/matrimonial/bride/SMM1616382/Hindu/Gayatridevi\n",
        "127"
       ]
      },
      {
       "output_type": "stream",
       "stream": "stdout",
       "text": [
        " http://www.simplymarry.com/matrimonial/bride/SMF1616060/Hindu/Kamma/Eswari\n",
        "128"
       ]
      },
      {
       "output_type": "stream",
       "stream": "stdout",
       "text": [
        " http://www.simplymarry.com/matrimonial/bride/SMF1616387/Hindu/Agnikula-Kshatriya/Sailaja\n",
        "129"
       ]
      },
      {
       "output_type": "stream",
       "stream": "stdout",
       "text": [
        " http://www.simplymarry.com/matrimonial/bride/SMF1616404/Hindu/Brahmin---Dravida/Sujana\n",
        "130"
       ]
      },
      {
       "output_type": "stream",
       "stream": "stdout",
       "text": [
        " http://www.simplymarry.com/matrimonial/bride/SMF1616416/Hindu/Yadav/Lakshmi\n",
        "131"
       ]
      },
      {
       "output_type": "stream",
       "stream": "stdout",
       "text": [
        " http://www.simplymarry.com/matrimonial/bride/SMF1616418/Others/Nisha\n",
        "132"
       ]
      },
      {
       "output_type": "stream",
       "stream": "stdout",
       "text": [
        " http://www.simplymarry.com/matrimonial/bride/SMF1616422/Hindu/Agnikula-Kshatriya/Rajkumari\n",
        "133"
       ]
      },
      {
       "output_type": "stream",
       "stream": "stdout",
       "text": [
        " http://www.simplymarry.com/matrimonial/bride/SMF1616430/Hindu/Arya-Vysya/Ashirya\n",
        "134"
       ]
      },
      {
       "output_type": "stream",
       "stream": "stdout",
       "text": [
        " http://www.simplymarry.com/matrimonial/bride/SMF1408355/Hindu/Reddy/Panjagguta\n",
        "135"
       ]
      },
      {
       "output_type": "stream",
       "stream": "stdout",
       "text": [
        " http://www.simplymarry.com/matrimonial/bride/SMF1428246/Christian/Catholic/Sujata\n",
        "136"
       ]
      },
      {
       "output_type": "stream",
       "stream": "stdout",
       "text": [
        " http://www.simplymarry.com/matrimonial/bride/SMF1469374/Hindu/Padmasali/Hemalatha\n",
        "137"
       ]
      },
      {
       "output_type": "stream",
       "stream": "stdout",
       "text": [
        " http://www.simplymarry.com/matrimonial/bride/SMF1399052/Hindu/Naidu/Mklavanya\n",
        "138"
       ]
      },
      {
       "output_type": "stream",
       "stream": "stdout",
       "text": [
        " http://www.simplymarry.com/matrimonial/bride/anaf1384960/Hindu/Reddy/Chaitanya-Reddy\n",
        "139"
       ]
      },
      {
       "output_type": "stream",
       "stream": "stdout",
       "text": [
        " http://www.simplymarry.com/matrimonial/bride/SMF1614592/Hindu/Praveen-Chilukoti\n",
        "140"
       ]
      },
      {
       "output_type": "stream",
       "stream": "stdout",
       "text": [
        " http://www.simplymarry.com/matrimonial/bride/SMF1483148/Hindu/Yadav/Shilpa-A\n",
        "141"
       ]
      },
      {
       "output_type": "stream",
       "stream": "stdout",
       "text": [
        " http://www.simplymarry.com/matrimonial/bride/SMF1406923/Hindu/Yadav/Gowthami\n",
        "142"
       ]
      },
      {
       "output_type": "stream",
       "stream": "stdout",
       "text": [
        " http://www.simplymarry.com/matrimonial/bride/SMF1613637/Hindu/Munnuru-Kapu/Mounica\n",
        "143"
       ]
      },
      {
       "output_type": "stream",
       "stream": "stdout",
       "text": [
        " http://www.simplymarry.com/matrimonial/bride/SMF1550662/Hindu/Goud/Sadhana\n",
        "144"
       ]
      },
      {
       "output_type": "stream",
       "stream": "stdout",
       "text": [
        " http://www.simplymarry.com/matrimonial/bride/SMM1395892/Hindu/Besta/B-Radha\n",
        "145"
       ]
      },
      {
       "output_type": "stream",
       "stream": "stdout",
       "text": [
        " http://www.simplymarry.com/matrimonial/bride/SMF1514908/Hindu/Arya-Vysya/Smf1514908\n",
        "146"
       ]
      },
      {
       "output_type": "stream",
       "stream": "stdout",
       "text": [
        " http://www.simplymarry.com/matrimonial/bride/SMF1612567/Hindu/Balija/Padmaa\n",
        "147"
       ]
      },
      {
       "output_type": "stream",
       "stream": "stdout",
       "text": [
        " http://www.simplymarry.com/matrimonial/bride/SMF1611976/Hindu/Reddy/Rakesh-Reddy\n",
        "148"
       ]
      },
      {
       "output_type": "stream",
       "stream": "stdout",
       "text": [
        " http://www.simplymarry.com/matrimonial/bride/SMF1406491/Hindu/Naidu/Roopa\n",
        "149"
       ]
      },
      {
       "output_type": "stream",
       "stream": "stdout",
       "text": [
        " http://www.simplymarry.com/matrimonial/bride/SMF1612095/Hindu/Naicker/Karthika\n",
        "150"
       ]
      },
      {
       "output_type": "stream",
       "stream": "stdout",
       "text": [
        " http://www.simplymarry.com/matrimonial/bride/SMF1612341/Hindu/Arya-Vysya/Annapurna-Pathi\n",
        "151"
       ]
      },
      {
       "output_type": "stream",
       "stream": "stdout",
       "text": [
        " http://www.simplymarry.com/matrimonial/bride/SMF1597455/Hindu/Sakthi-Rupa-Devi\n",
        "152"
       ]
      },
      {
       "output_type": "stream",
       "stream": "stdout",
       "text": [
        " http://www.simplymarry.com/matrimonial/bride/SMF1476280/Hindu/Kapu/Madhavi\n",
        "153"
       ]
      },
      {
       "output_type": "stream",
       "stream": "stdout",
       "text": [
        " http://www.simplymarry.com/matrimonial/bride/SMF1588487/Hindu/Arya-Vysya/Tati.raghavender\n",
        "154"
       ]
      },
      {
       "output_type": "stream",
       "stream": "stdout",
       "text": [
        " http://www.simplymarry.com/matrimonial/bride/SMF1445972/Hindu/Kamma/Prathyusha\n",
        "155"
       ]
      },
      {
       "output_type": "stream",
       "stream": "stdout",
       "text": [
        " http://www.simplymarry.com/matrimonial/bride/SMF1443370/Hindu/Balija/Ashwini-S\n",
        "156"
       ]
      },
      {
       "output_type": "stream",
       "stream": "stdout",
       "text": [
        " http://www.simplymarry.com/matrimonial/bride/SMF1553016/Hindu/Vaishnava/Mamta\n",
        "157"
       ]
      },
      {
       "output_type": "stream",
       "stream": "stdout",
       "text": [
        " http://www.simplymarry.com/matrimonial/bride/chif1383744/Hindu/Balija/Divyasri-K\n",
        "158"
       ]
      },
      {
       "output_type": "stream",
       "stream": "stdout",
       "text": [
        " http://www.simplymarry.com/matrimonial/bride/SMF1604363/Hindu/Scheduled-Caste/Ashritha-Bhagawanla\n",
        "159"
       ]
      },
      {
       "output_type": "stream",
       "stream": "stdout",
       "text": [
        " http://www.simplymarry.com/matrimonial/bride/SMF1610612/Hindu/Brahmin/Surya-Prasad\n",
        "160"
       ]
      },
      {
       "output_type": "stream",
       "stream": "stdout",
       "text": [
        " http://www.simplymarry.com/matrimonial/bride/SMF1610716/Hindu/Reddy/Indrasenareddy\n",
        "161"
       ]
      },
      {
       "output_type": "stream",
       "stream": "stdout",
       "text": [
        " http://www.simplymarry.com/matrimonial/bride/SMF1388569/Hindu/Naidu/Paranjyothi-Naidu-Panditi\n",
        "162"
       ]
      },
      {
       "output_type": "stream",
       "stream": "stdout",
       "text": [
        " http://www.simplymarry.com/matrimonial/bride/hydf1368000/Hindu/Uppara/Jhansi-Lakshmi\n",
        "163"
       ]
      },
      {
       "output_type": "stream",
       "stream": "stdout",
       "text": [
        " http://www.simplymarry.com/matrimonial/bride/SMF1443838/Hindu/Reddy/Deepika\n",
        "164"
       ]
      },
      {
       "output_type": "stream",
       "stream": "stdout",
       "text": [
        " http://www.simplymarry.com/matrimonial/bride/visf1372455/Hindu/Balija/Neelima-Kalla\n",
        "165"
       ]
      },
      {
       "output_type": "stream",
       "stream": "stdout",
       "text": [
        " http://www.simplymarry.com/matrimonial/bride/SMF1565860/Hindu/Mudiraj/Shoba\n",
        "166"
       ]
      },
      {
       "output_type": "stream",
       "stream": "stdout",
       "text": [
        " http://www.simplymarry.com/matrimonial/bride/SMF1609995/Hindu/Radhikakrishna\n",
        "167"
       ]
      },
      {
       "output_type": "stream",
       "stream": "stdout",
       "text": [
        " http://www.simplymarry.com/matrimonial/bride/hydf1367943/Hindu/Valmiki/Geet-M\n",
        "168"
       ]
      },
      {
       "output_type": "stream",
       "stream": "stdout",
       "text": [
        " http://www.simplymarry.com/matrimonial/bride/chef1370249/Christian/Others/Shalini-V\n",
        "169"
       ]
      },
      {
       "output_type": "stream",
       "stream": "stdout",
       "text": [
        " http://www.simplymarry.com/matrimonial/bride/SMF1589724/Hindu/Naidu/M.subaasri\n",
        "170"
       ]
      },
      {
       "output_type": "stream",
       "stream": "stdout",
       "text": [
        " http://www.simplymarry.com/matrimonial/bride/SMF1409924/Hindu/Mala/Smf1409924\n",
        "171"
       ]
      },
      {
       "output_type": "stream",
       "stream": "stdout",
       "text": [
        " http://www.simplymarry.com/matrimonial/bride/SMF1539074/Hindu/Kamma/Sravani-Bobba\n",
        "172"
       ]
      },
      {
       "output_type": "stream",
       "stream": "stdout",
       "text": [
        " http://www.simplymarry.com/matrimonial/bride/SMF1607873/Hindu/Maratha/Abhaya-Jain\n",
        "173"
       ]
      },
      {
       "output_type": "stream",
       "stream": "stdout",
       "text": [
        " http://www.simplymarry.com/matrimonial/bride/SMF1449957/Others/Manjeera\n",
        "174"
       ]
      },
      {
       "output_type": "stream",
       "stream": "stdout",
       "text": [
        " http://www.simplymarry.com/matrimonial/bride/SMF1477196/Hindu/Brahmin/Smf1477196\n",
        "175"
       ]
      },
      {
       "output_type": "stream",
       "stream": "stdout",
       "text": [
        " http://www.simplymarry.com/matrimonial/bride/coif1372724/Hindu/Chettiar/Anu-Priya\n",
        "176"
       ]
      },
      {
       "output_type": "stream",
       "stream": "stdout",
       "text": [
        " http://www.simplymarry.com/matrimonial/bride/SMM1489520/Hindu/Prathyusha\n",
        "177"
       ]
      },
      {
       "output_type": "stream",
       "stream": "stdout",
       "text": [
        " http://www.simplymarry.com/matrimonial/bride/SMF1604505/Hindu/Settibalija/Ashalatha\n",
        "178"
       ]
      },
      {
       "output_type": "stream",
       "stream": "stdout",
       "text": [
        " http://www.simplymarry.com/matrimonial/bride/hydf1364481/Hindu/Brahmin-6000-Niyogi/Pammy-K\n",
        "179"
       ]
      },
      {
       "output_type": "stream",
       "stream": "stdout",
       "text": [
        " http://www.simplymarry.com/matrimonial/bride/hydf1344049/Hindu/Viswabrahmin/Nivedita-N\n",
        "180"
       ]
      },
      {
       "output_type": "stream",
       "stream": "stdout",
       "text": [
        " http://www.simplymarry.com/matrimonial/bride/SMF1521123/Hindu/Velama/Smf1521123\n",
        "181"
       ]
      },
      {
       "output_type": "stream",
       "stream": "stdout",
       "text": [
        " http://www.simplymarry.com/matrimonial/bride/SMF1607523/Hindu/Reddy/Kiran-Reddy\n",
        "182"
       ]
      },
      {
       "output_type": "stream",
       "stream": "stdout",
       "text": [
        " http://www.simplymarry.com/matrimonial/bride/SMF1406618/Hindu/Brahmin/Bhu\n",
        "183"
       ]
      },
      {
       "output_type": "stream",
       "stream": "stdout",
       "text": [
        " http://www.simplymarry.com/matrimonial/bride/ongf1305144/Hindu/Kamma/Prasnthi-Prasanthichowdary\n",
        "184"
       ]
      },
      {
       "output_type": "stream",
       "stream": "stdout",
       "text": [
        " http://www.simplymarry.com/matrimonial/bride/hydf1326596/Hindu/Arya-Vysya/Anu-Last-name\n",
        "185"
       ]
      },
      {
       "output_type": "stream",
       "stream": "stdout",
       "text": [
        " http://www.simplymarry.com/matrimonial/bride/SMF1402093/Hindu/Padmasali/Devi\n",
        "186"
       ]
      },
      {
       "output_type": "stream",
       "stream": "stdout",
       "text": [
        " http://www.simplymarry.com/matrimonial/bride/SMF1439048/Hindu/Brahmin---Vaidiki/Aruna-Paturi\n",
        "187"
       ]
      },
      {
       "output_type": "stream",
       "stream": "stdout",
       "text": [
        " http://www.simplymarry.com/matrimonial/bride/kurf1291402/Hindu/Padmasali/Shobha-Rani\n",
        "188"
       ]
      },
      {
       "output_type": "stream",
       "stream": "stdout",
       "text": [
        " http://www.simplymarry.com/matrimonial/bride/SMF1606610/Hindu/Naidu/Nadhiya-K\n",
        "189"
       ]
      },
      {
       "output_type": "stream",
       "stream": "stdout",
       "text": [
        " http://www.simplymarry.com/matrimonial/bride/SMF1606790/Hindu/Naidu/Sushma\n",
        "190"
       ]
      },
      {
       "output_type": "stream",
       "stream": "stdout",
       "text": [
        " http://www.simplymarry.com/matrimonial/bride/chef1381482/Hindu/Vysya/Prashanthi-Jalamadugu\n",
        "191"
       ]
      },
      {
       "output_type": "stream",
       "stream": "stdout",
       "text": [
        " http://www.simplymarry.com/matrimonial/bride/ongf1291161/Hindu/Arya-Vysya/Gayathri-Devi\n",
        "192"
       ]
      },
      {
       "output_type": "stream",
       "stream": "stdout",
       "text": [
        " http://www.simplymarry.com/matrimonial/bride/chef1343365/Hindu/Brahmin---Telugu/Janani-Kumar\n",
        "193"
       ]
      },
      {
       "output_type": "stream",
       "stream": "stdout",
       "text": [
        " http://www.simplymarry.com/matrimonial/bride/SMF1605609/Hindu/Brahmin/Gumma-Lakshmi-Anusha\n",
        "194"
       ]
      },
      {
       "output_type": "stream",
       "stream": "stdout",
       "text": [
        " http://www.simplymarry.com/matrimonial/bride/SMF1589694/Hindu/Naidu/Jayesh\n",
        "195"
       ]
      },
      {
       "output_type": "stream",
       "stream": "stdout",
       "text": [
        " http://www.simplymarry.com/matrimonial/bride/hydf1376351/Hindu/Viswabrahmin/Hydf1376351\n",
        "196"
       ]
      },
      {
       "output_type": "stream",
       "stream": "stdout",
       "text": [
        " http://www.simplymarry.com/matrimonial/bride/visf1309542/Hindu/Kapu/Anantha-Motepalli\n",
        "197"
       ]
      },
      {
       "output_type": "stream",
       "stream": "stdout",
       "text": [
        " http://www.simplymarry.com/matrimonial/bride/SMF1444870/Hindu/Brahmin/Leela-Praveena-Ponukumati\n",
        "198"
       ]
      },
      {
       "output_type": "stream",
       "stream": "stdout",
       "text": [
        " http://www.simplymarry.com/matrimonial/bride/hydf1323773/Christian/Protestant/Muvva-Spandana\n",
        "199"
       ]
      },
      {
       "output_type": "stream",
       "stream": "stdout",
       "text": [
        " http://www.simplymarry.com/matrimonial/bride/hydf1337199/Hindu/Kapu/Jyoshna-Rdy\n",
        "200"
       ]
      },
      {
       "output_type": "stream",
       "stream": "stdout",
       "text": [
        " http://www.simplymarry.com/matrimonial/bride/ongf1379994/Hindu/Reddy/Bhargavi-Latha\n",
        "201"
       ]
      },
      {
       "output_type": "stream",
       "stream": "stdout",
       "text": [
        " http://www.simplymarry.com/matrimonial/bride/SMF1602343/Hindu/Naidu/Poonam-Tiwari\n",
        "202"
       ]
      },
      {
       "output_type": "stream",
       "stream": "stdout",
       "text": [
        " http://www.simplymarry.com/matrimonial/bride/SMF1605092/Hindu/Kamma/Naga-Venkata-Surendra\n",
        "203"
       ]
      },
      {
       "output_type": "stream",
       "stream": "stdout",
       "text": [
        " http://www.simplymarry.com/matrimonial/bride/delf1313542/Hindu/Brahmin/Kiranmai-Chemudupati\n",
        "204"
       ]
      },
      {
       "output_type": "stream",
       "stream": "stdout",
       "text": [
        " http://www.simplymarry.com/matrimonial/bride/chef1341145/Hindu/Brahmin-6000-Niyogi/Sravani-Bogggaram\n",
        "205"
       ]
      },
      {
       "output_type": "stream",
       "stream": "stdout",
       "text": [
        " http://www.simplymarry.com/matrimonial/bride/warf1340685/Hindu/Viswabrahmin/Shantha-Shantha\n",
        "206"
       ]
      },
      {
       "output_type": "stream",
       "stream": "stdout",
       "text": [
        " http://www.simplymarry.com/matrimonial/bride/banf1243202/Hindu/Bhovi/Savitha-A\n",
        "207"
       ]
      },
      {
       "output_type": "stream",
       "stream": "stdout",
       "text": [
        " http://www.simplymarry.com/matrimonial/bride/banf1316370/Hindu/Arya-Vysya/Kn-Vani\n",
        "208"
       ]
      },
      {
       "output_type": "stream",
       "stream": "stdout",
       "text": [
        " http://www.simplymarry.com/matrimonial/bride/SMF1554226/Hindu/Reddy/Later\n",
        "209"
       ]
      },
      {
       "output_type": "stream",
       "stream": "stdout",
       "text": [
        " http://www.simplymarry.com/matrimonial/bride/hydf1300713/Hindu/Reddy/Swetha-Reddy\n",
        "210"
       ]
      },
      {
       "output_type": "stream",
       "stream": "stdout",
       "text": [
        " http://www.simplymarry.com/matrimonial/bride/mumf1340498/Hindu/Iyengar/Sulkashana-Chari\n",
        "211"
       ]
      },
      {
       "output_type": "stream",
       "stream": "stdout",
       "text": [
        " http://www.simplymarry.com/matrimonial/bride/bhif1342903/Hindu/Setti-Balija/Sridevi-Chollangi\n",
        "212"
       ]
      },
      {
       "output_type": "stream",
       "stream": "stdout",
       "text": [
        " http://www.simplymarry.com/matrimonial/bride/anaf1322986/Hindu/Uppara/Aparna-Naganamaina\n",
        "213"
       ]
      },
      {
       "output_type": "stream",
       "stream": "stdout",
       "text": [
        " http://www.simplymarry.com/matrimonial/bride/kamf1288700/Hindu/Arya-Vysya/Sirisha-Mittapalli\n",
        "214"
       ]
      },
      {
       "output_type": "stream",
       "stream": "stdout",
       "text": [
        " http://www.simplymarry.com/matrimonial/bride/eluf1379084/Hindu/Viswabrahmin/Lally-V\n",
        "215"
       ]
      },
      {
       "output_type": "stream",
       "stream": "stdout",
       "text": [
        " http://www.simplymarry.com/matrimonial/bride/mysf1210824/Hindu/Reddy/Rani-Prameela\n",
        "216"
       ]
      },
      {
       "output_type": "stream",
       "stream": "stdout",
       "text": [
        " http://www.simplymarry.com/matrimonial/bride/banf1373398/Hindu/Bhovi/Latha-S\n",
        "217"
       ]
      },
      {
       "output_type": "stream",
       "stream": "stdout",
       "text": [
        " http://www.simplymarry.com/matrimonial/bride/SMF1469885/Hindu/Naidu/Shrisha\n",
        "218"
       ]
      },
      {
       "output_type": "stream",
       "stream": "stdout",
       "text": [
        " http://www.simplymarry.com/matrimonial/bride/banf1375648/Hindu/Naidu/Karuna-Naidu\n",
        "219"
       ]
      },
      {
       "output_type": "stream",
       "stream": "stdout",
       "text": [
        " http://www.simplymarry.com/matrimonial/bride/kadf1319193/Hindu/Reddy/Siri-Sridevi\n",
        "220"
       ]
      },
      {
       "output_type": "stream",
       "stream": "stdout",
       "text": [
        " http://www.simplymarry.com/matrimonial/bride/SMF1462973/Hindu/Besta/Jyoti\n",
        "221"
       ]
      },
      {
       "output_type": "stream",
       "stream": "stdout",
       "text": [
        " http://www.simplymarry.com/matrimonial/bride/hydf1292860/Hindu/Padmasali/Priyanka\n",
        "222"
       ]
      },
      {
       "output_type": "stream",
       "stream": "stdout",
       "text": [
        " http://www.simplymarry.com/matrimonial/bride/SMF1593188/Christian/Protestant/T-Varsha\n",
        "223"
       ]
      },
      {
       "output_type": "stream",
       "stream": "stdout",
       "text": [
        " http://www.simplymarry.com/matrimonial/bride/SMF1453074/Christian/Others/Smf1453074\n",
        "224"
       ]
      },
      {
       "output_type": "stream",
       "stream": "stdout",
       "text": [
        " http://www.simplymarry.com/matrimonial/bride/SMF1599412/Hindu/Kamma/Nani\n",
        "225"
       ]
      },
      {
       "output_type": "stream",
       "stream": "stdout",
       "text": [
        " http://www.simplymarry.com/matrimonial/bride/hydm1360045/Hindu/Scheduled-Caste/Deepika-M\n",
        "226"
       ]
      },
      {
       "output_type": "stream",
       "stream": "stdout",
       "text": [
        " http://www.simplymarry.com/matrimonial/bride/SMF1602292/Hindu/Agnikula-Kshatriya/Hema\n",
        "227"
       ]
      },
      {
       "output_type": "stream",
       "stream": "stdout",
       "text": [
        " http://www.simplymarry.com/matrimonial/bride/banf1246173/Hindu/Brahmin/Chaithra-Kumar\n",
        "228"
       ]
      },
      {
       "output_type": "stream",
       "stream": "stdout",
       "text": [
        " http://www.simplymarry.com/matrimonial/bride/eluf1298833/Hindu/Kamma/Kumari-Kumari\n",
        "229"
       ]
      },
      {
       "output_type": "stream",
       "stream": "stdout",
       "text": [
        " http://www.simplymarry.com/matrimonial/bride/banf1188961/Hindu/Devanga/Geetha-Krishna\n",
        "230"
       ]
      },
      {
       "output_type": "stream",
       "stream": "stdout",
       "text": [
        " http://www.simplymarry.com/matrimonial/bride/SMF1595162/Hindu/Mala/Anuradha\n",
        "231"
       ]
      },
      {
       "output_type": "stream",
       "stream": "stdout",
       "text": [
        " http://www.simplymarry.com/matrimonial/bride/SMF1601758/Hindu/Padmasali/Poori\n",
        "232"
       ]
      },
      {
       "output_type": "stream",
       "stream": "stdout",
       "text": [
        " http://www.simplymarry.com/matrimonial/bride/SMF1386453/Hindu/Reddy/Chilla.saikiranmayi\n",
        "233"
       ]
      },
      {
       "output_type": "stream",
       "stream": "stdout",
       "text": [
        " http://www.simplymarry.com/matrimonial/bride/hydf1163023/Christian/Others/Mercy-Suhasini\n",
        "234"
       ]
      },
      {
       "output_type": "stream",
       "stream": "stdout",
       "text": [
        " http://www.simplymarry.com/matrimonial/bride/hydf1371080/Hindu/Brahmin/Geetha-Kota\n",
        "235"
       ]
      },
      {
       "output_type": "stream",
       "stream": "stdout",
       "text": [
        " http://www.simplymarry.com/matrimonial/bride/coif1332723/Hindu/Balija/Ramay-G\n",
        "236"
       ]
      },
      {
       "output_type": "stream",
       "stream": "stdout",
       "text": [
        " http://www.simplymarry.com/matrimonial/bride/SMF1591865/Hindu/Uppara/Shubha\n",
        "237"
       ]
      },
      {
       "output_type": "stream",
       "stream": "stdout",
       "text": [
        " http://www.simplymarry.com/matrimonial/bride/mumf1198243/Christian/Protestant/Kavita-Gandi\n",
        "238"
       ]
      },
      {
       "output_type": "stream",
       "stream": "stdout",
       "text": [
        " http://www.simplymarry.com/matrimonial/bride/SMF1600628/Hindu/Naidu/V.pushpalatha\n",
        "239"
       ]
      },
      {
       "output_type": "stream",
       "stream": "stdout",
       "text": [
        " http://www.simplymarry.com/matrimonial/bride/SMF1474762/Christian/Catholic/G.aruna\n",
        "240"
       ]
      },
      {
       "output_type": "stream",
       "stream": "stdout",
       "text": [
        " http://www.simplymarry.com/matrimonial/bride/SMF1499295/Hindu/Brahmin---Sri-Vaishnava/Smf1499295\n",
        "241"
       ]
      },
      {
       "output_type": "stream",
       "stream": "stdout",
       "text": [
        " http://www.simplymarry.com/matrimonial/bride/chef1223622/Hindu/Naidu/Divya-Lakshmipathy\n",
        "242"
       ]
      },
      {
       "output_type": "stream",
       "stream": "stdout",
       "text": [
        " http://www.simplymarry.com/matrimonial/bride/anaf1255893/Hindu/Araya/Kumudadpc-Kumuda\n",
        "243"
       ]
      },
      {
       "output_type": "stream",
       "stream": "stdout",
       "text": [
        " http://www.simplymarry.com/matrimonial/bride/belf1304471/Hindu/Kamma/Asha-Jyothi\n",
        "244"
       ]
      },
      {
       "output_type": "stream",
       "stream": "stdout",
       "text": [
        " http://www.simplymarry.com/matrimonial/bride/SMF1521646/Christian/Protestant/George-Fernondez\n",
        "245"
       ]
      },
      {
       "output_type": "stream",
       "stream": "stdout",
       "text": [
        " http://www.simplymarry.com/matrimonial/bride/SMF1593293/Hindu/Vaddera/Deepika\n",
        "246"
       ]
      },
      {
       "output_type": "stream",
       "stream": "stdout",
       "text": [
        " http://www.simplymarry.com/matrimonial/bride/guwf1118802/Hindu/Velama/Vijaya-Bandaru\n",
        "247"
       ]
      },
      {
       "output_type": "stream",
       "stream": "stdout",
       "text": [
        " http://www.simplymarry.com/matrimonial/bride/sngf1288985/Hindu/Brahmin-6000-Niyogi/Later-Later\n",
        "248"
       ]
      },
      {
       "output_type": "stream",
       "stream": "stdout",
       "text": [
        " http://www.simplymarry.com/matrimonial/bride/coif1343972/Hindu/Arya-Vysya/Roja-Roja\n",
        "249"
       ]
      },
      {
       "output_type": "stream",
       "stream": "stdout",
       "text": [
        " http://www.simplymarry.com/matrimonial/bride/hydf1375963/Hindu/Setti-Balija/Sri-Jyothsna\n",
        "250"
       ]
      },
      {
       "output_type": "stream",
       "stream": "stdout",
       "text": [
        " http://www.simplymarry.com/matrimonial/bride/SMM1414450/Christian/Orthodox/Angelina\n",
        "251"
       ]
      },
      {
       "output_type": "stream",
       "stream": "stdout",
       "text": [
        " http://www.simplymarry.com/matrimonial/bride/SMM1592861/Hindu/Kshatriya/Manjushree\n",
        "252"
       ]
      },
      {
       "output_type": "stream",
       "stream": "stdout",
       "text": [
        " http://www.simplymarry.com/matrimonial/bride/gunf1236412/Hindu/Kamma/Sumathi-Karanam\n",
        "253"
       ]
      },
      {
       "output_type": "stream",
       "stream": "stdout",
       "text": [
        " http://www.simplymarry.com/matrimonial/bride/SMF1482650/Hindu/Boyer/Pavitra\n",
        "254"
       ]
      },
      {
       "output_type": "stream",
       "stream": "stdout",
       "text": [
        " http://www.simplymarry.com/matrimonial/bride/SMF1553495/Hindu/Yadav/Ommi-Shyamala\n",
        "255"
       ]
      },
      {
       "output_type": "stream",
       "stream": "stdout",
       "text": [
        " http://www.simplymarry.com/matrimonial/bride/SMF1598852/Hindu/Smf1598852\n",
        "256"
       ]
      },
      {
       "output_type": "stream",
       "stream": "stdout",
       "text": [
        " http://www.simplymarry.com/matrimonial/bride/hydf1260330/Hindu/Rajaka/Durga-Kankanala\n",
        "257"
       ]
      },
      {
       "output_type": "stream",
       "stream": "stdout",
       "text": [
        " http://www.simplymarry.com/matrimonial/bride/hydf1371843/Hindu/Kshatriya/Amani-sandhya-Lanka\n",
        "258"
       ]
      },
      {
       "output_type": "stream",
       "stream": "stdout",
       "text": [
        " http://www.simplymarry.com/matrimonial/bride/hydf1185241/Hindu/Hindu-Others/Sh-Ree\n",
        "259"
       ]
      },
      {
       "output_type": "stream",
       "stream": "stdout",
       "text": [
        " http://www.simplymarry.com/matrimonial/bride/vijf1336929/Hindu/Brahmin-6000-Niyogi/Madhavi-Latha\n",
        "260"
       ]
      },
      {
       "output_type": "stream",
       "stream": "stdout",
       "text": [
        " http://www.simplymarry.com/matrimonial/bride/hydf1199251/Hindu/Kapu/Rajkumar-Kappatrala\n",
        "261"
       ]
      },
      {
       "output_type": "stream",
       "stream": "stdout",
       "text": [
        " http://www.simplymarry.com/matrimonial/bride/SMF1598309/Hindu/Brahmin/Hema-Sundar\n",
        "262"
       ]
      },
      {
       "output_type": "stream",
       "stream": "stdout",
       "text": [
        " http://www.simplymarry.com/matrimonial/bride/SMF1598430/Hindu/Dastagiri\n",
        "263"
       ]
      },
      {
       "output_type": "stream",
       "stream": "stdout",
       "text": [
        " http://www.simplymarry.com/matrimonial/bride/SMF1597729/Hindu/Brahmin/Gayatri-Vatsavai\n",
        "264"
       ]
      },
      {
       "output_type": "stream",
       "stream": "stdout",
       "text": [
        " http://www.simplymarry.com/matrimonial/bride/chef1312850/Hindu/Kamma/Kiruthika-Naranasamy\n",
        "265"
       ]
      },
      {
       "output_type": "stream",
       "stream": "stdout",
       "text": [
        " http://www.simplymarry.com/matrimonial/bride/visf1358655/Hindu/Brahmin---Vaidiki/Bhamidipati-Swarnamadhuri\n",
        "266"
       ]
      },
      {
       "output_type": "stream",
       "stream": "stdout",
       "text": [
        " http://www.simplymarry.com/matrimonial/bride/hydf1217184/Hindu/Brahmin/Saradaphani-Tumuluru\n",
        "267"
       ]
      },
      {
       "output_type": "stream",
       "stream": "stdout",
       "text": [
        " http://www.simplymarry.com/matrimonial/bride/SMF1538966/Hindu/Balija/Ramadevi\n",
        "268"
       ]
      },
      {
       "output_type": "stream",
       "stream": "stdout",
       "text": [
        " http://www.simplymarry.com/matrimonial/bride/SMF1591313/Hindu/OBC/Barber/Naayee/Surekha-N\n",
        "269"
       ]
      },
      {
       "output_type": "stream",
       "stream": "stdout",
       "text": [
        " http://www.simplymarry.com/matrimonial/bride/SMF1597679/Hindu/Brahmin---Dravida/Naveen\n",
        "270"
       ]
      },
      {
       "output_type": "stream",
       "stream": "stdout",
       "text": [
        " http://www.simplymarry.com/matrimonial/bride/SMF1597893/Christian/Others/Soumya\n",
        "271"
       ]
      },
      {
       "output_type": "stream",
       "stream": "stdout",
       "text": [
        " http://www.simplymarry.com/matrimonial/bride/hydf1263139/Hindu/Padmasali/Shirpuramvar-Reshma\n",
        "272"
       ]
      },
      {
       "output_type": "stream",
       "stream": "stdout",
       "text": [
        " http://www.simplymarry.com/matrimonial/bride/SMF1477429/Hindu/Kamma/Smf1477429\n",
        "273"
       ]
      },
      {
       "output_type": "stream",
       "stream": "stdout",
       "text": [
        " http://www.simplymarry.com/matrimonial/bride/SMF1596668/Hindu/OBC/Barber/Naayee/Syamala-Pathuri\n",
        "274"
       ]
      },
      {
       "output_type": "stream",
       "stream": "stdout",
       "text": [
        " http://www.simplymarry.com/matrimonial/bride/SMF1592446/Hindu/Padmasali/Lavanya\n",
        "275"
       ]
      },
      {
       "output_type": "stream",
       "stream": "stdout",
       "text": [
        " http://www.simplymarry.com/matrimonial/bride/hydf1348470/Hindu/Lingayath/Srilatha-Thallapalli\n",
        "276"
       ]
      },
      {
       "output_type": "stream",
       "stream": "stdout",
       "text": [
        " http://www.simplymarry.com/matrimonial/bride/SMF1525977/Hindu/Brahmin/Murli-Krisnha\n",
        "277"
       ]
      },
      {
       "output_type": "stream",
       "stream": "stdout",
       "text": [
        " http://www.simplymarry.com/matrimonial/bride/chef1290500/Hindu/Balija/Ragupathy-Tamilselvi\n",
        "278"
       ]
      },
      {
       "output_type": "stream",
       "stream": "stdout",
       "text": [
        " http://www.simplymarry.com/matrimonial/bride/kurf1247562/Hindu/Ediga/Poornima-Ediga\n",
        "279"
       ]
      },
      {
       "output_type": "stream",
       "stream": "stdout",
       "text": [
        " http://www.simplymarry.com/matrimonial/bride/hydf1237387/Hindu/Reddy/Sirisha-Chinni\n",
        "280"
       ]
      },
      {
       "output_type": "stream",
       "stream": "stdout",
       "text": [
        " http://www.simplymarry.com/matrimonial/bride/SMF1590607/Hindu/Kamma/Anne-Jwalita\n",
        "281"
       ]
      },
      {
       "output_type": "stream",
       "stream": "stdout",
       "text": [
        " http://www.simplymarry.com/matrimonial/bride/secf1284377/Hindu/Kapu/Venkata-Lakshmi\n",
        "282"
       ]
      },
      {
       "output_type": "stream",
       "stream": "stdout",
       "text": [
        " http://www.simplymarry.com/matrimonial/bride/visf1161042/Hindu/Munnuru-Kapu/Jampa-Sasi-Rekha\n",
        "283"
       ]
      },
      {
       "output_type": "stream",
       "stream": "stdout",
       "text": [
        " http://www.simplymarry.com/matrimonial/bride/x1476847/Hindu/Balija/Parthasarathy-Bk\n",
        "284"
       ]
      },
      {
       "output_type": "stream",
       "stream": "stdout",
       "text": [
        " http://www.simplymarry.com/matrimonial/bride/hydf1246350/Hindu/Kapu/Sireesha-Kalakonda\n",
        "285"
       ]
      },
      {
       "output_type": "stream",
       "stream": "stdout",
       "text": [
        " http://www.simplymarry.com/matrimonial/bride/hydf1077918/Hindu/Padmasali/Saraswathi\n",
        "286"
       ]
      },
      {
       "output_type": "stream",
       "stream": "stdout",
       "text": [
        " http://www.simplymarry.com/matrimonial/bride/SMM1594977/Hindu/Padmasali/Shalini\n",
        "287"
       ]
      },
      {
       "output_type": "stream",
       "stream": "stdout",
       "text": [
        " http://www.simplymarry.com/matrimonial/bride/SMF1596216/Hindu/Scheduled-Caste/Purushotham-Kumar\n",
        "288"
       ]
      },
      {
       "output_type": "stream",
       "stream": "stdout",
       "text": [
        " http://www.simplymarry.com/matrimonial/bride/kadf1111872/Hindu/Kamma/Mourya-Mourya\n",
        "289"
       ]
      },
      {
       "output_type": "stream",
       "stream": "stdout",
       "text": [
        " http://www.simplymarry.com/matrimonial/bride/SMF1539487/Hindu/Brahmin/Dadda\n",
        "290"
       ]
      },
      {
       "output_type": "stream",
       "stream": "stdout",
       "text": [
        " http://www.simplymarry.com/matrimonial/bride/adif1278831/Hindu/OBC/Barber/Naayee/Boga-Vaishali\n",
        "291"
       ]
      },
      {
       "output_type": "stream",
       "stream": "stdout",
       "text": [
        " http://www.simplymarry.com/matrimonial/bride/delf1001359/Hindu/Reddy/Annapurna-Reddy\n",
        "292"
       ]
      },
      {
       "output_type": "stream",
       "stream": "stdout",
       "text": [
        " http://www.simplymarry.com/matrimonial/bride/kamf1241558/Hindu/Arya-Vysya/Rama-Devi\n",
        "293"
       ]
      },
      {
       "output_type": "stream",
       "stream": "stdout",
       "text": [
        " http://www.simplymarry.com/matrimonial/bride/visf1344144/Hindu/Gavara/Pushpani-Devi\n",
        "294"
       ]
      },
      {
       "output_type": "stream",
       "stream": "stdout",
       "text": [
        " http://www.simplymarry.com/matrimonial/bride/SMF1412093/Others/Priya-Shriniwas\n",
        "295"
       ]
      },
      {
       "output_type": "stream",
       "stream": "stdout",
       "text": [
        " http://www.simplymarry.com/matrimonial/bride/kakf1181379/Hindu/Mala/Sowmya-Korukonda\n",
        "296"
       ]
      },
      {
       "output_type": "stream",
       "stream": "stdout",
       "text": [
        " http://www.simplymarry.com/matrimonial/bride/vizf1361097/Hindu/Scheduled-Caste/Vani-Last-name\n",
        "297"
       ]
      },
      {
       "output_type": "stream",
       "stream": "stdout",
       "text": [
        " http://www.simplymarry.com/matrimonial/bride/SMF1595258/Hindu/Kshatriya/Snehal\n",
        "298"
       ]
      },
      {
       "output_type": "stream",
       "stream": "stdout",
       "text": [
        " http://www.simplymarry.com/matrimonial/bride/SMF1594891/Hindu/Punjabi/Jessica-Pereira\n",
        "299"
       ]
      },
      {
       "output_type": "stream",
       "stream": "stdout",
       "text": [
        " http://www.simplymarry.com/matrimonial/bride/SMF1594917/Hindu/Arekatica/Rutvik-Kamble\n",
        "300"
       ]
      },
      {
       "output_type": "stream",
       "stream": "stdout",
       "text": [
        " http://www.simplymarry.com/matrimonial/bride/SMF1595127/Hindu/Scheduled-Caste/Lavanya\n",
        "301"
       ]
      },
      {
       "output_type": "stream",
       "stream": "stdout",
       "text": [
        " http://www.simplymarry.com/matrimonial/bride/SMF1594905/Hindu/Vokkaliga/Naveen-Chandra\n",
        "302"
       ]
      },
      {
       "output_type": "stream",
       "stream": "stdout",
       "text": [
        " http://www.simplymarry.com/matrimonial/bride/banf1095759/Hindu/Brahmin---Smartha/Archana-Tindal\n",
        "303"
       ]
      },
      {
       "output_type": "stream",
       "stream": "stdout",
       "text": [
        " http://www.simplymarry.com/matrimonial/bride/sanf1321519/Hindu/Padmasali/Pavani-Nyalam\n",
        "304"
       ]
      },
      {
       "output_type": "stream",
       "stream": "stdout",
       "text": [
        " http://www.simplymarry.com/matrimonial/bride/banf1193006/Hindu/OBC/Barber/Naayee/Swetha-Rao\n",
        "305"
       ]
      },
      {
       "output_type": "stream",
       "stream": "stdout",
       "text": [
        " http://www.simplymarry.com/matrimonial/bride/hydf1063286/Hindu/Mala/Archana-Devi\n",
        "306"
       ]
      },
      {
       "output_type": "stream",
       "stream": "stdout",
       "text": [
        " http://www.simplymarry.com/matrimonial/bride/SMF1594454/Hindu/Bhatraju/Ajay\n",
        "307"
       ]
      },
      {
       "output_type": "stream",
       "stream": "stdout",
       "text": [
        " http://www.simplymarry.com/matrimonial/groom/SMF1594483/Hindu/Mahendra/Rushikesh-Anil-Dabade\n",
        "308"
       ]
      },
      {
       "output_type": "stream",
       "stream": "stdout",
       "text": [
        " http://www.simplymarry.com/matrimonial/bride/SMF1594521/Hindu/Balija/Jaison-Joseph\n",
        "309"
       ]
      },
      {
       "output_type": "stream",
       "stream": "stdout",
       "text": [
        " http://www.simplymarry.com/matrimonial/bride/SMF1594553/Hindu/Ayyaraka/Nakul-Chalisgaonkar\n",
        "310"
       ]
      },
      {
       "output_type": "stream",
       "stream": "stdout",
       "text": [
        " http://www.simplymarry.com/matrimonial/bride/SMF1594589/Hindu/Adi-Andhra/Karan-Gupta\n",
        "311"
       ]
      },
      {
       "output_type": "stream",
       "stream": "stdout",
       "text": [
        " http://www.simplymarry.com/matrimonial/bride/ongf1060457/Hindu/Valmiki/Jyothi-Mai\n",
        "312"
       ]
      },
      {
       "output_type": "stream",
       "stream": "stdout",
       "text": [
        " http://www.simplymarry.com/matrimonial/bride/hydf1072096/Hindu/Reddy/Hydf1072096\n",
        "313"
       ]
      },
      {
       "output_type": "stream",
       "stream": "stdout",
       "text": [
        " http://www.simplymarry.com/matrimonial/bride/SMM1440635/Hindu/Gugulotu-Kiranamai\n",
        "314"
       ]
      },
      {
       "output_type": "stream",
       "stream": "stdout",
       "text": [
        " http://www.simplymarry.com/matrimonial/bride/visf1187101/Hindu/Padmasali/Manga-Suguna\n",
        "315"
       ]
      },
      {
       "output_type": "stream",
       "stream": "stdout",
       "text": [
        " http://www.simplymarry.com/matrimonial/bride/banf1262188/Hindu/Reddy/Kathy-Shetty\n",
        "316"
       ]
      },
      {
       "output_type": "stream",
       "stream": "stdout",
       "text": [
        " http://www.simplymarry.com/matrimonial/bride/banf1047656/Hindu/Mudaliar/V-P\n",
        "317"
       ]
      },
      {
       "output_type": "stream",
       "stream": "stdout",
       "text": [
        " http://www.simplymarry.com/matrimonial/bride/visf1210143/Hindu/Brahmin/Bharini-Ch\n",
        "318"
       ]
      },
      {
       "output_type": "stream",
       "stream": "stdout",
       "text": [
        " http://www.simplymarry.com/matrimonial/bride/banf1060315/Hindu/Balija/Deepa-Shree\n",
        "319"
       ]
      },
      {
       "output_type": "stream",
       "stream": "stdout",
       "text": [
        " http://www.simplymarry.com/matrimonial/bride/SMM1482834/Hindu/Mala/Deepu\n",
        "320"
       ]
      },
      {
       "output_type": "stream",
       "stream": "stdout",
       "text": [
        " http://www.simplymarry.com/matrimonial/bride/SMF1593088/Hindu/Viswabrahmin/Nelaveni\n",
        "321"
       ]
      },
      {
       "output_type": "stream",
       "stream": "stdout",
       "text": [
        " http://www.simplymarry.com/matrimonial/bride/visf1383420/Hindu/Vaishnav/Prasurna-Prasurna\n",
        "322"
       ]
      },
      {
       "output_type": "stream",
       "stream": "stdout",
       "text": [
        " http://www.simplymarry.com/matrimonial/bride/SMF1476786/Hindu/Kamma/Shwetha\n",
        "323"
       ]
      },
      {
       "output_type": "stream",
       "stream": "stdout",
       "text": [
        " http://www.simplymarry.com/matrimonial/bride/secf1183752/Hindu/Scheduled-Tribe/Kasula-Punitha\n",
        "324"
       ]
      },
      {
       "output_type": "stream",
       "stream": "stdout",
       "text": [
        " http://www.simplymarry.com/matrimonial/bride/kadf948154/Hindu/Reddy/Usha-Ranireddy\n",
        "325"
       ]
      },
      {
       "output_type": "stream",
       "stream": "stdout",
       "text": [
        " http://www.simplymarry.com/matrimonial/bride/SMF1592257/Hindu/Kshatriya/Shivanisinha\n",
        "326"
       ]
      },
      {
       "output_type": "stream",
       "stream": "stdout",
       "text": [
        " http://www.simplymarry.com/matrimonial/bride/hydf1242029/Hindu/Brahmin/Vasantha-Sastry\n",
        "327"
       ]
      },
      {
       "output_type": "stream",
       "stream": "stdout",
       "text": [
        " http://www.simplymarry.com/matrimonial/bride/banf1028508/Hindu/Balija/Lalitha-Mv\n",
        "328"
       ]
      },
      {
       "output_type": "stream",
       "stream": "stdout",
       "text": [
        " http://www.simplymarry.com/matrimonial/bride/SMF1592052/Hindu/Kamma/Sreevidya\n",
        "329"
       ]
      },
      {
       "output_type": "stream",
       "stream": "stdout",
       "text": [
        " http://www.simplymarry.com/matrimonial/bride/SMF1591720/Hindu/Reddy/Rachana\n",
        "330"
       ]
      },
      {
       "output_type": "stream",
       "stream": "stdout",
       "text": [
        " http://www.simplymarry.com/matrimonial/bride/SMF1591771/Hindu/Bengali/Aboli-Bal\n",
        "331"
       ]
      },
      {
       "output_type": "stream",
       "stream": "stdout",
       "text": [
        " http://www.simplymarry.com/matrimonial/bride/macf1252731/Hindu/Brahmin/Aluru-Gayathri\n",
        "332"
       ]
      },
      {
       "output_type": "stream",
       "stream": "stdout",
       "text": [
        " http://www.simplymarry.com/matrimonial/bride/SMF1407853/Others/Dr.suvarna\n",
        "333"
       ]
      },
      {
       "output_type": "stream",
       "stream": "stdout",
       "text": [
        " http://www.simplymarry.com/matrimonial/bride/hydf1229432/Hindu/Kamma/Shravya-Emmanni\n",
        "334"
       ]
      },
      {
       "output_type": "stream",
       "stream": "stdout",
       "text": [
        " http://www.simplymarry.com/matrimonial/bride/hydf1060480/Hindu/Padmasali/Bhaskar-Kundram\n",
        "335"
       ]
      },
      {
       "output_type": "stream",
       "stream": "stdout",
       "text": [
        " http://www.simplymarry.com/matrimonial/bride/SMF1590442/Hindu/Reddy/C.-Aravind-Reddy\n",
        "336"
       ]
      },
      {
       "output_type": "stream",
       "stream": "stdout",
       "text": [
        " http://www.simplymarry.com/matrimonial/bride/SMF1590494/Hindu/Besta/Darshana\n",
        "337"
       ]
      },
      {
       "output_type": "stream",
       "stream": "stdout",
       "text": [
        " http://www.simplymarry.com/matrimonial/bride/SMF1590536/Hindu/Chattada-Sri-Vaishnava/Kumari-Priyanka\n",
        "338"
       ]
      },
      {
       "output_type": "stream",
       "stream": "stdout",
       "text": [
        " http://www.simplymarry.com/matrimonial/bride/SMF1408430/Hindu/Padmasali/Suhasini\n",
        "339"
       ]
      },
      {
       "output_type": "stream",
       "stream": "stdout",
       "text": [
        " http://www.simplymarry.com/matrimonial/bride/vijf1023568/Hindu/Kamma/Later-P\n",
        "340"
       ]
      },
      {
       "output_type": "stream",
       "stream": "stdout",
       "text": [
        " http://www.simplymarry.com/matrimonial/bride/SMF1590034/Hindu/Besta/Johnson-Kuruvilla\n",
        "341"
       ]
      },
      {
       "output_type": "stream",
       "stream": "stdout",
       "text": [
        " http://www.simplymarry.com/matrimonial/bride/SMF1590064/Hindu/Agnikula-Kshatriya/Prathamesh\n",
        "342"
       ]
      },
      {
       "output_type": "stream",
       "stream": "stdout",
       "text": [
        " http://www.simplymarry.com/matrimonial/bride/SMF1590113/Hindu/Kapu/Laxman\n",
        "343"
       ]
      },
      {
       "output_type": "stream",
       "stream": "stdout",
       "text": [
        " http://www.simplymarry.com/matrimonial/bride/SMF1589624/Hindu/Brahmin---Madhwa/Pallavi\n",
        "344"
       ]
      },
      {
       "output_type": "stream",
       "stream": "stdout",
       "text": [
        " http://www.simplymarry.com/matrimonial/bride/SMF1416135/Hindu/Brahmin/P.s-Kirti\n",
        "345"
       ]
      },
      {
       "output_type": "stream",
       "stream": "stdout",
       "text": [
        " http://www.simplymarry.com/matrimonial/bride/chef1105569/Hindu/Devandra-Kula-Vellalar/Mamatha-Budhi\n",
        "346"
       ]
      },
      {
       "output_type": "stream",
       "stream": "stdout",
       "text": [
        " http://www.simplymarry.com/matrimonial/bride/kadf1051121/Hindu/Balija/Padmaja-Mandali\n",
        "347"
       ]
      },
      {
       "output_type": "stream",
       "stream": "stdout",
       "text": [
        " http://www.simplymarry.com/matrimonial/bride/eluf1288065/Hindu/Kapu/Satya-Sree\n",
        "348"
       ]
      },
      {
       "output_type": "stream",
       "stream": "stdout",
       "text": [
        " http://www.simplymarry.com/matrimonial/bride/hydf982288/Hindu/Kapu/Naga-Kumari\n",
        "349"
       ]
      },
      {
       "output_type": "stream",
       "stream": "stdout",
       "text": [
        " http://www.simplymarry.com/matrimonial/bride/chef867297/Hindu/Balija/Priyadarshini-Ravikumar\n",
        "350"
       ]
      },
      {
       "output_type": "stream",
       "stream": "stdout",
       "text": [
        " http://www.simplymarry.com/matrimonial/bride/SMF1588644/Hindu/Balija/Priyanka\n",
        "351"
       ]
      },
      {
       "output_type": "stream",
       "stream": "stdout",
       "text": [
        " http://www.simplymarry.com/matrimonial/bride/banf1036675/Hindu/Naidu/Aruna-K\n",
        "352"
       ]
      },
      {
       "output_type": "stream",
       "stream": "stdout",
       "text": [
        " http://www.simplymarry.com/matrimonial/bride/hydf1287872/Hindu/Naidu/Sandhya-Kanna\n",
        "353"
       ]
      },
      {
       "output_type": "stream",
       "stream": "stdout",
       "text": [
        " http://www.simplymarry.com/matrimonial/bride/SMF1588659/Hindu/Padmasali/Dileep\n",
        "354"
       ]
      },
      {
       "output_type": "stream",
       "stream": "stdout",
       "text": [
        " http://www.simplymarry.com/matrimonial/bride/SMF1588698/Hindu/Neeli/Neeli-Sweety\n",
        "355"
       ]
      },
      {
       "output_type": "stream",
       "stream": "stdout",
       "text": [
        " http://www.simplymarry.com/matrimonial/bride/SMF1588378/Hindu/Brahmin---Dravida/Sadhana\n",
        "356"
       ]
      },
      {
       "output_type": "stream",
       "stream": "stdout",
       "text": [
        " http://www.simplymarry.com/matrimonial/bride/banf1309555/Hindu/Boyer/Varalakshmi-Varalakshmi\n",
        "357"
       ]
      },
      {
       "output_type": "stream",
       "stream": "stdout",
       "text": [
        " http://www.simplymarry.com/matrimonial/bride/belf892746/Hindu/Yadav/Lakshmi-K\n",
        "358"
       ]
      },
      {
       "output_type": "stream",
       "stream": "stdout",
       "text": [
        " http://www.simplymarry.com/matrimonial/bride/hydf942884/Hindu/Kamma/Kalavathi-Surapaneni\n",
        "359"
       ]
      },
      {
       "output_type": "stream",
       "stream": "stdout",
       "text": [
        " http://www.simplymarry.com/matrimonial/bride/SMF1484384/Hindu/Mala/Neelima\n",
        "360"
       ]
      },
      {
       "output_type": "stream",
       "stream": "stdout",
       "text": [
        " http://www.simplymarry.com/matrimonial/bride/hydf1230552/Hindu/Kamma/Uma-Maheswari\n",
        "361"
       ]
      },
      {
       "output_type": "stream",
       "stream": "stdout",
       "text": [
        " http://www.simplymarry.com/matrimonial/bride/nelf1375701/Hindu/Monchi/Aparna-Anumala\n",
        "362"
       ]
      },
      {
       "output_type": "stream",
       "stream": "stdout",
       "text": [
        " http://www.simplymarry.com/matrimonial/bride/SMF1585590/Hindu/Bhatraju/Amkeka\n",
        "363"
       ]
      },
      {
       "output_type": "stream",
       "stream": "stdout",
       "text": [
        " http://www.simplymarry.com/matrimonial/bride/SMF1580806/Hindu/Arya-Vysya/Maddiseshu\n",
        "364"
       ]
      },
      {
       "output_type": "stream",
       "stream": "stdout",
       "text": [
        " http://www.simplymarry.com/matrimonial/bride/SMF1587334/Hindu/Mala/Mamata\n",
        "365"
       ]
      },
      {
       "output_type": "stream",
       "stream": "stdout",
       "text": [
        " http://www.simplymarry.com/matrimonial/bride/SMF1587357/Hindu/Brahmin---Madhwa/Sujatha\n",
        "366"
       ]
      },
      {
       "output_type": "stream",
       "stream": "stdout",
       "text": [
        " http://www.simplymarry.com/matrimonial/bride/mumf1226063/Christian/Protestant/Gracey-Changala\n",
        "367"
       ]
      },
      {
       "output_type": "stream",
       "stream": "stdout",
       "text": [
        " http://www.simplymarry.com/matrimonial/bride/SMF1545764/Christian/Catholic/Katru.jyothi\n",
        "368"
       ]
      },
      {
       "output_type": "stream",
       "stream": "stdout",
       "text": [
        " http://www.simplymarry.com/matrimonial/bride/SMF1586905/Hindu/Scheduled-Caste/Shwetha-Kumari\n",
        "369"
       ]
      },
      {
       "output_type": "stream",
       "stream": "stdout",
       "text": [
        " http://www.simplymarry.com/matrimonial/bride/secf1113877/Hindu/Balija/Devi-Vanka\n",
        "370"
       ]
      },
      {
       "output_type": "stream",
       "stream": "stdout",
       "text": [
        " http://www.simplymarry.com/matrimonial/bride/nagf937845/Hindu/Brahmin/Shailaja-Aiyer\n",
        "371"
       ]
      },
      {
       "output_type": "stream",
       "stream": "stdout",
       "text": [
        " http://www.simplymarry.com/matrimonial/bride/x970498/Hindu/Naidu/Sunaina-S\n",
        "372"
       ]
      },
      {
       "output_type": "stream",
       "stream": "stdout",
       "text": [
        " http://www.simplymarry.com/matrimonial/bride/SMF1571560/Hindu/Devanga/Sri-Jayanthi.v\n",
        "373"
       ]
      },
      {
       "output_type": "stream",
       "stream": "stdout",
       "text": [
        " http://www.simplymarry.com/matrimonial/bride/visf837666/Hindu/Brahmin/Nirmala-Donthikurty\n",
        "374"
       ]
      },
      {
       "output_type": "stream",
       "stream": "stdout",
       "text": [
        " http://www.simplymarry.com/matrimonial/bride/visf1198599/Hindu/Brahmin/Vijayasri-Kuralla\n",
        "375"
       ]
      },
      {
       "output_type": "stream",
       "stream": "stdout",
       "text": [
        " http://www.simplymarry.com/matrimonial/bride/chef950844/Hindu/Kamma/Devikala-G\n",
        "376"
       ]
      },
      {
       "output_type": "stream",
       "stream": "stdout",
       "text": [
        " http://www.simplymarry.com/matrimonial/bride/visf1126911/Hindu/Setti-Balija/Durgasakuntala-Vanamu\n",
        "377"
       ]
      },
      {
       "output_type": "stream",
       "stream": "stdout",
       "text": [
        " http://www.simplymarry.com/matrimonial/bride/hydf1292916/Hindu/Brahmin-6000-Niyogi/Sadhana-R\n",
        "378"
       ]
      },
      {
       "output_type": "stream",
       "stream": "stdout",
       "text": [
        " http://www.simplymarry.com/matrimonial/bride/hydf1378961/Hindu/Arya-Vysya/Kavitha-Tirunagiri\n",
        "379"
       ]
      },
      {
       "output_type": "stream",
       "stream": "stdout",
       "text": [
        " http://www.simplymarry.com/matrimonial/bride/punf881505/Hindu/Brahmin/Bollapragada-Kirti\n",
        "380"
       ]
      },
      {
       "output_type": "stream",
       "stream": "stdout",
       "text": [
        " http://www.simplymarry.com/matrimonial/bride/mysf371907/Hindu/Arya-Vysya/Srilekha-Manoharan\n",
        "381"
       ]
      },
      {
       "output_type": "stream",
       "stream": "stdout",
       "text": [
        " http://www.simplymarry.com/matrimonial/bride/anpf368678/Christian/Protestant/Sajala-Veparala\n",
        "382"
       ]
      },
      {
       "output_type": "stream",
       "stream": "stdout",
       "text": [
        " http://www.simplymarry.com/matrimonial/bride/namf1316513/Hindu/Vishwakarma/Brahadeswari-Mohan\n",
        "383"
       ]
      },
      {
       "output_type": "stream",
       "stream": "stdout",
       "text": [
        " http://www.simplymarry.com/matrimonial/bride/hydf1300529/Hindu/Mudiraj/Jhansi-Sanda\n",
        "384"
       ]
      },
      {
       "output_type": "stream",
       "stream": "stdout",
       "text": [
        " http://www.simplymarry.com/matrimonial/bride/gunf854619/Hindu/Gowda/Giri\n",
        "385"
       ]
      },
      {
       "output_type": "stream",
       "stream": "stdout",
       "text": [
        " http://www.simplymarry.com/matrimonial/bride/SMF1566415/Hindu/Settibalija/Kuppala-Pavan-Kumar\n",
        "386"
       ]
      },
      {
       "output_type": "stream",
       "stream": "stdout",
       "text": [
        " http://www.simplymarry.com/matrimonial/bride/hydf1264758/Hindu/Arya-Vysya/Rashmitha-Last-name\n",
        "387"
       ]
      },
      {
       "output_type": "stream",
       "stream": "stdout",
       "text": [
        " http://www.simplymarry.com/matrimonial/bride/gunf1262870/Hindu/Viswabrahmin/Gunf1262870\n",
        "388"
       ]
      },
      {
       "output_type": "stream",
       "stream": "stdout",
       "text": [
        " http://www.simplymarry.com/matrimonial/bride/banf755128/Hindu/Telugu/Manjula-Ram\n",
        "389"
       ]
      },
      {
       "output_type": "stream",
       "stream": "stdout",
       "text": [
        " http://www.simplymarry.com/matrimonial/bride/hydf1151952/Christian/Others/Sereena-Das\n",
        "390"
       ]
      },
      {
       "output_type": "stream",
       "stream": "stdout",
       "text": [
        " http://www.simplymarry.com/matrimonial/bride/mumf666873/Hindu/Madiga/Gyandevi-Metri\n",
        "391"
       ]
      },
      {
       "output_type": "stream",
       "stream": "stdout",
       "text": [
        " http://www.simplymarry.com/matrimonial/bride/hydf1059803/Hindu/Kamma/Prasanthi-Tulabandula\n",
        "392"
       ]
      },
      {
       "output_type": "stream",
       "stream": "stdout",
       "text": [
        " http://www.simplymarry.com/matrimonial/bride/hydf767282/Hindu/Naidu/Srujana-Chamundeswari\n",
        "393"
       ]
      },
      {
       "output_type": "stream",
       "stream": "stdout",
       "text": [
        " http://www.simplymarry.com/matrimonial/bride/chef1327228/Hindu/Kshatriya/Prasanna-Raju\n",
        "394"
       ]
      },
      {
       "output_type": "stream",
       "stream": "stdout",
       "text": [
        " http://www.simplymarry.com/matrimonial/bride/SMF1583576/Hindu/Kapu/E.santhosh-Reddy\n",
        "395"
       ]
      },
      {
       "output_type": "stream",
       "stream": "stdout",
       "text": [
        " http://www.simplymarry.com/matrimonial/bride/kadf951370/Hindu/Reddy/Usha-Rani\n",
        "396"
       ]
      },
      {
       "output_type": "stream",
       "stream": "stdout",
       "text": [
        " http://www.simplymarry.com/matrimonial/bride/hydf1229426/Hindu/Kamma/Shravya-Emmanni\n",
        "397"
       ]
      },
      {
       "output_type": "stream",
       "stream": "stdout",
       "text": [
        " http://www.simplymarry.com/matrimonial/bride/SMF1573359/Hindu/Arya-Vysya/Manepalli-Uma-Maheswara\n",
        "398"
       ]
      },
      {
       "output_type": "stream",
       "stream": "stdout",
       "text": [
        " http://www.simplymarry.com/matrimonial/bride/hydf940675/Hindu/Kamma/Lakshmi-Kavuri\n",
        "399"
       ]
      },
      {
       "output_type": "stream",
       "stream": "stdout",
       "text": [
        " http://www.simplymarry.com/matrimonial/bride/SMF1534441/Hindu/Meru-Darji/Samhita\n",
        "400"
       ]
      },
      {
       "output_type": "stream",
       "stream": "stdout",
       "text": [
        " http://www.simplymarry.com/matrimonial/bride/banf720622/Hindu/Reddy/Ritika-Satish\n",
        "401"
       ]
      },
      {
       "output_type": "stream",
       "stream": "stdout",
       "text": [
        " http://www.simplymarry.com/matrimonial/bride/banf719435/Hindu/Arya-Vysya/Sreelakshmi-Gupta-s\n",
        "402"
       ]
      },
      {
       "output_type": "stream",
       "stream": "stdout",
       "text": [
        " http://www.simplymarry.com/matrimonial/bride/vijf1039300/Hindu/Brahmin-6000-Niyogi/Chandrika-Kumari\n",
        "403"
       ]
      },
      {
       "output_type": "stream",
       "stream": "stdout",
       "text": [
        " http://www.simplymarry.com/matrimonial/bride/warf1373517/Hindu/Munnuru-Kapu/Deepthi-Alpuri\n",
        "404"
       ]
      },
      {
       "output_type": "stream",
       "stream": "stdout",
       "text": [
        " http://www.simplymarry.com/matrimonial/bride/nelf1209086/Hindu/Vysya/Krishna-Sai\n",
        "405"
       ]
      },
      {
       "output_type": "stream",
       "stream": "stdout",
       "text": [
        " http://www.simplymarry.com/matrimonial/bride/visf1237231/Hindu/Kamma/Siri-Devi\n",
        "406"
       ]
      },
      {
       "output_type": "stream",
       "stream": "stdout",
       "text": [
        " http://www.simplymarry.com/matrimonial/bride/hydf1263140/Hindu/Telugu/Sravs-Sravanthi\n",
        "407"
       ]
      },
      {
       "output_type": "stream",
       "stream": "stdout",
       "text": [
        " http://www.simplymarry.com/matrimonial/bride/adif1194785/Hindu/Besta/Aparna-Devi\n",
        "408"
       ]
      },
      {
       "output_type": "stream",
       "stream": "stdout",
       "text": [
        " http://www.simplymarry.com/matrimonial/bride/hydf741108/Hindu/Kalinga/Varanasi-Lalitendra\n",
        "409"
       ]
      },
      {
       "output_type": "stream",
       "stream": "stdout",
       "text": [
        " http://www.simplymarry.com/matrimonial/bride/anaf1320736/Hindu/Brahmin/Nidimamidi-Bhargavi\n",
        "410"
       ]
      },
      {
       "output_type": "stream",
       "stream": "stdout",
       "text": [
        " http://www.simplymarry.com/matrimonial/bride/SMF1582919/Hindu/Gowda/Nelli-Durga-Shirisha\n",
        "411"
       ]
      },
      {
       "output_type": "stream",
       "stream": "stdout",
       "text": [
        " http://www.simplymarry.com/matrimonial/bride/hydf1341220/Hindu/Scheduled-Caste/Niharika-K\n",
        "412"
       ]
      },
      {
       "output_type": "stream",
       "stream": "stdout",
       "text": [
        " http://www.simplymarry.com/matrimonial/bride/chef1307098/Hindu/Brahmin/Lalitha-Raghunathan\n",
        "413"
       ]
      },
      {
       "output_type": "stream",
       "stream": "stdout",
       "text": [
        " http://www.simplymarry.com/matrimonial/bride/SMF1565916/Hindu/Kamma/Kavya\n",
        "414"
       ]
      },
      {
       "output_type": "stream",
       "stream": "stdout",
       "text": [
        " http://www.simplymarry.com/matrimonial/bride/SMF1452244/Christian/Protestant/Rs-Neeloer\n",
        "415"
       ]
      },
      {
       "output_type": "stream",
       "stream": "stdout",
       "text": [
        " http://www.simplymarry.com/matrimonial/bride/hydf1341244/Hindu/Madiga/Anu-Radha\n",
        "416"
       ]
      },
      {
       "output_type": "stream",
       "stream": "stdout",
       "text": [
        " http://www.simplymarry.com/matrimonial/bride/mumf751779/Hindu/Kshatriya/Rajeswari-A\n",
        "417"
       ]
      },
      {
       "output_type": "stream",
       "stream": "stdout",
       "text": [
        " http://www.simplymarry.com/matrimonial/bride/kurf1314069/Hindu/Arya-Vysya/Madhuri-Guntha\n",
        "418"
       ]
      },
      {
       "output_type": "stream",
       "stream": "stdout",
       "text": [
        " http://www.simplymarry.com/matrimonial/bride/chef600426/Hindu/Balija/Mk-S\n",
        "419"
       ]
      },
      {
       "output_type": "stream",
       "stream": "stdout",
       "text": [
        " http://www.simplymarry.com/matrimonial/bride/chef790843/Hindu/Arya-Vysya/Shilpa-G-V\n",
        "420"
       ]
      },
      {
       "output_type": "stream",
       "stream": "stdout",
       "text": [
        " http://www.simplymarry.com/matrimonial/bride/cutf807938/Hindu/Perika/Swati-C\n",
        "421"
       ]
      },
      {
       "output_type": "stream",
       "stream": "stdout",
       "text": [
        " http://www.simplymarry.com/matrimonial/bride/gunf1243407/Hindu/Naidu/Durga-Vusa\n",
        "422"
       ]
      },
      {
       "output_type": "stream",
       "stream": "stdout",
       "text": [
        " http://www.simplymarry.com/matrimonial/bride/SMF1581424/Hindu/Brahmin---Dravida/Telugu-Songs\n",
        "423"
       ]
      },
      {
       "output_type": "stream",
       "stream": "stdout",
       "text": [
        " http://www.simplymarry.com/matrimonial/bride/SMF1581396/Hindu/Naidu/Vinoth-Kumar.a.n\n",
        "424"
       ]
      },
      {
       "output_type": "stream",
       "stream": "stdout",
       "text": [
        " http://www.simplymarry.com/matrimonial/bride/SMF1575611/Hindu/Maheswari\n",
        "425"
       ]
      },
      {
       "output_type": "stream",
       "stream": "stdout",
       "text": [
        " http://www.simplymarry.com/matrimonial/bride/SMF1577446/Hindu/Kuruba/Madhulika-.-Gujja\n",
        "426"
       ]
      },
      {
       "output_type": "stream",
       "stream": "stdout",
       "text": [
        " http://www.simplymarry.com/matrimonial/bride/coif1274837/Hindu/Arya-Vysya/Sreepoornima-Dhandapani\n",
        "427"
       ]
      },
      {
       "output_type": "stream",
       "stream": "stdout",
       "text": [
        " http://www.simplymarry.com/matrimonial/bride/SMF1581306/Hindu/Padmasali/Balalaxmi-Vijay-Nandal\n",
        "428"
       ]
      },
      {
       "output_type": "stream",
       "stream": "stdout",
       "text": [
        " http://www.simplymarry.com/matrimonial/bride/hydf1367489/Hindu/Rajaka/Kakinada-Subhashini\n",
        "429"
       ]
      },
      {
       "output_type": "stream",
       "stream": "stdout",
       "text": [
        " http://www.simplymarry.com/matrimonial/bride/anpf702039/Hindu/Kapu/Swapna-Garaga\n",
        "430"
       ]
      },
      {
       "output_type": "stream",
       "stream": "stdout",
       "text": [
        " http://www.simplymarry.com/matrimonial/bride/nalf1290712/Hindu/Madiga/Kiranmai-Kiranmai\n",
        "431"
       ]
      },
      {
       "output_type": "stream",
       "stream": "stdout",
       "text": [
        " http://www.simplymarry.com/matrimonial/bride/anpf547283/Hindu/Reddy/Papakannu-Rekha\n",
        "432"
       ]
      },
      {
       "output_type": "stream",
       "stream": "stdout",
       "text": [
        " http://www.simplymarry.com/matrimonial/bride/gunf1228640/Hindu/Brahmin-6000-Niyogi/Later-Later\n",
        "433"
       ]
      },
      {
       "output_type": "stream",
       "stream": "stdout",
       "text": [
        " http://www.simplymarry.com/matrimonial/bride/hydf894271/Hindu/Brahmin/Lakshmi-Subramanyam\n",
        "434"
       ]
      },
      {
       "output_type": "stream",
       "stream": "stdout",
       "text": [
        " http://www.simplymarry.com/matrimonial/bride/mumf867702/Hindu/Kamma/Smriti-Naidu\n",
        "435"
       ]
      },
      {
       "output_type": "stream",
       "stream": "stdout",
       "text": [
        " http://www.simplymarry.com/matrimonial/bride/myself_19/Hindu/Padmasali/Saraswathi-L\n",
        "436"
       ]
      },
      {
       "output_type": "stream",
       "stream": "stdout",
       "text": [
        " http://www.simplymarry.com/matrimonial/bride/SMF1579904/Hindu/Vanjara/Shravani\n",
        "437"
       ]
      },
      {
       "output_type": "stream",
       "stream": "stdout",
       "text": [
        " http://www.simplymarry.com/matrimonial/bride/hydf1317508/Christian/Mosali-Hyma\n",
        "438"
       ]
      },
      {
       "output_type": "stream",
       "stream": "stdout",
       "text": [
        " http://www.simplymarry.com/matrimonial/bride/hydf1156060/Hindu/Reddy/Nice\n",
        "439"
       ]
      },
      {
       "output_type": "stream",
       "stream": "stdout",
       "text": [
        " http://www.simplymarry.com/matrimonial/bride/SMF1571039/Hindu/Reddy/Vijayalakshmi\n",
        "440"
       ]
      },
      {
       "output_type": "stream",
       "stream": "stdout",
       "text": [
        " http://www.simplymarry.com/matrimonial/bride/gunf1379682/Hindu/Arya-Vysya/Varalakshmi-Jhansi\n",
        "441"
       ]
      },
      {
       "output_type": "stream",
       "stream": "stdout",
       "text": [
        " http://www.simplymarry.com/matrimonial/bride/warf1337190/Hindu/Munnuru-Kapu/Rajitha-Souda\n",
        "442"
       ]
      },
      {
       "output_type": "stream",
       "stream": "stdout",
       "text": [
        " http://www.simplymarry.com/matrimonial/bride/SMF1578798/Hindu/Yadav/Swetha\n",
        "443"
       ]
      },
      {
       "output_type": "stream",
       "stream": "stdout",
       "text": [
        " http://www.simplymarry.com/matrimonial/bride/banf918935/Hindu/Balija/Shobha-G\n",
        "444"
       ]
      },
      {
       "output_type": "stream",
       "stream": "stdout",
       "text": [
        " http://www.simplymarry.com/matrimonial/bride/SMF1477575/Christian/Protestant/Shalini\n",
        "445"
       ]
      },
      {
       "output_type": "stream",
       "stream": "stdout",
       "text": [
        " http://www.simplymarry.com/matrimonial/bride/chef980313/Hindu/Balija/Lavanya-Sridevi\n",
        "446"
       ]
      },
      {
       "output_type": "stream",
       "stream": "stdout",
       "text": [
        " http://www.simplymarry.com/matrimonial/bride/hydf1109670/Hindu/Mala/Vasavi-P\n",
        "447"
       ]
      },
      {
       "output_type": "stream",
       "stream": "stdout",
       "text": [
        " http://www.simplymarry.com/matrimonial/bride/SMF1466957/Hindu/Poosala/Santoshi\n",
        "448"
       ]
      },
      {
       "output_type": "stream",
       "stream": "stdout",
       "text": [
        " http://www.simplymarry.com/matrimonial/bride/SMF1578396/Hindu/Kamma/Madhavi\n",
        "449"
       ]
      },
      {
       "output_type": "stream",
       "stream": "stdout",
       "text": [
        " http://www.simplymarry.com/matrimonial/bride/hydf792400/Hindu/Brahmin/Varanasi-Madhavi\n",
        "450"
       ]
      },
      {
       "output_type": "stream",
       "stream": "stdout",
       "text": [
        " http://www.simplymarry.com/matrimonial/bride/SMF1577597/Hindu/Brahmin/Deepti\n",
        "451"
       ]
      },
      {
       "output_type": "stream",
       "stream": "stdout",
       "text": [
        " http://www.simplymarry.com/matrimonial/bride/chif1378016/Hindu/Padmasali/Viritha-Valaja\n",
        "452"
       ]
      },
      {
       "output_type": "stream",
       "stream": "stdout",
       "text": [
        " http://www.simplymarry.com/matrimonial/bride/mahf1381665/Hindu/Mudiraj/Gonela-Sunitha\n",
        "453"
       ]
      },
      {
       "output_type": "stream",
       "stream": "stdout",
       "text": [
        " http://www.simplymarry.com/matrimonial/bride/0006308087/Hindu/Hindu-Others/Pavani-Ratna-Tayi\n",
        "454"
       ]
      },
      {
       "output_type": "stream",
       "stream": "stdout",
       "text": [
        " http://www.simplymarry.com/matrimonial/bride/kadf1155698/Hindu/Reddy/Usha-Reddy\n",
        "455"
       ]
      },
      {
       "output_type": "stream",
       "stream": "stdout",
       "text": [
        " http://www.simplymarry.com/matrimonial/bride/anpf111167/Christian/Protestant/Hyde-Nethala\n",
        "456"
       ]
      },
      {
       "output_type": "stream",
       "stream": "stdout",
       "text": [
        " http://www.simplymarry.com/matrimonial/bride/SMF1403757/Hindu/Kamma/Senha\n",
        "457"
       ]
      },
      {
       "output_type": "stream",
       "stream": "stdout",
       "text": [
        " http://www.simplymarry.com/matrimonial/bride/SMF1561820/Hindu/Kshatriya/Bharu\n",
        "458"
       ]
      },
      {
       "output_type": "stream",
       "stream": "stdout",
       "text": [
        " http://www.simplymarry.com/matrimonial/bride/visf998612/Hindu/Brahmin/Geetha-S\n",
        "459"
       ]
      },
      {
       "output_type": "stream",
       "stream": "stdout",
       "text": [
        " http://www.simplymarry.com/matrimonial/bride/visf795046/Hindu/Reddy/Sailaja-Reddy\n",
        "460"
       ]
      },
      {
       "output_type": "stream",
       "stream": "stdout",
       "text": [
        " http://www.simplymarry.com/matrimonial/bride/banf354290/Hindu/Nikhila-Pd\n",
        "461"
       ]
      },
      {
       "output_type": "stream",
       "stream": "stdout",
       "text": [
        " http://www.simplymarry.com/matrimonial/bride/SMF1575695/Hindu/Viswabrahmin/Shiva-Srinivas\n",
        "462"
       ]
      },
      {
       "output_type": "stream",
       "stream": "stdout",
       "text": [
        " http://www.simplymarry.com/matrimonial/bride/SMF1526250/Hindu/Brahmin/Tejaswini\n",
        "463"
       ]
      },
      {
       "output_type": "stream",
       "stream": "stdout",
       "text": [
        " http://www.simplymarry.com/matrimonial/bride/kamf1374917/Hindu/Mala/Anusha-Damalla\n",
        "464"
       ]
      },
      {
       "output_type": "stream",
       "stream": "stdout",
       "text": [
        " http://www.simplymarry.com/matrimonial/bride/hydf1119149/Hindu/Balija/Parvathi-Parvathi\n",
        "465"
       ]
      },
      {
       "output_type": "stream",
       "stream": "stdout",
       "text": [
        " http://www.simplymarry.com/matrimonial/bride/SMF1572529/Hindu/Mahendra/Lavanya\n",
        "466"
       ]
      },
      {
       "output_type": "stream",
       "stream": "stdout",
       "text": [
        " http://www.simplymarry.com/matrimonial/bride/hydf1385152/Hindu/Mudiraj/Sandhya-Rani\n",
        "467"
       ]
      },
      {
       "output_type": "stream",
       "stream": "stdout",
       "text": [
        " http://www.simplymarry.com/matrimonial/bride/mumf878768/Hindu/Kamma/Shweta-Rao\n",
        "468"
       ]
      },
      {
       "output_type": "stream",
       "stream": "stdout",
       "text": [
        " http://www.simplymarry.com/matrimonial/bride/SMF1570435/Hindu/Padmasali/M-Aruna\n",
        "469"
       ]
      },
      {
       "output_type": "stream",
       "stream": "stdout",
       "text": [
        " http://www.simplymarry.com/matrimonial/bride/SMF1572365/Muslim/Sia/Smf1572365\n",
        "470"
       ]
      },
      {
       "output_type": "stream",
       "stream": "stdout",
       "text": [
        " http://www.simplymarry.com/matrimonial/bride/nelf1278565/Hindu/Telugu/Attravanam-Krishnaparimala\n",
        "471"
       ]
      },
      {
       "output_type": "stream",
       "stream": "stdout",
       "text": [
        " http://www.simplymarry.com/matrimonial/bride/coif1250407/Hindu/Kamma/Sar-An\n",
        "472"
       ]
      },
      {
       "output_type": "stream",
       "stream": "stdout",
       "text": [
        " http://www.simplymarry.com/matrimonial/bride/secf569366/Hindu/Kapu-Naidu/Amam-Meena\n",
        "473"
       ]
      },
      {
       "output_type": "stream",
       "stream": "stdout",
       "text": [
        " http://www.simplymarry.com/matrimonial/bride/hydf925654/Hindu/OBC/Barber/Naayee/Meeraa-Pallimalli\n",
        "474"
       ]
      },
      {
       "output_type": "stream",
       "stream": "stdout",
       "text": [
        " http://www.simplymarry.com/matrimonial/bride/chinni/Hindu/Besta/Anantha-Lakshmi\n",
        "475"
       ]
      },
      {
       "output_type": "stream",
       "stream": "stdout",
       "text": [
        " http://www.simplymarry.com/matrimonial/bride/hydf1212053/Hindu/Brahmin/Lakshmi-Kumari\n",
        "476"
       ]
      },
      {
       "output_type": "stream",
       "stream": "stdout",
       "text": [
        " http://www.simplymarry.com/matrimonial/bride/warf1346192/Hindu/Padmasali/Kandikatla-Ramu\n",
        "477"
       ]
      },
      {
       "output_type": "stream",
       "stream": "stdout",
       "text": [
        " http://www.simplymarry.com/matrimonial/bride/chif1085365/Hindu/Vannia-Kula-Kshatriyar/Asha-Ks\n",
        "478"
       ]
      },
      {
       "output_type": "stream",
       "stream": "stdout",
       "text": [
        " http://www.simplymarry.com/matrimonial/bride/kakf1363961/Hindu/Kapu-Naidu/Divya-Karapu\n",
        "479"
       ]
      },
      {
       "output_type": "stream",
       "stream": "stdout",
       "text": [
        " http://www.simplymarry.com/matrimonial/bride/punf872045/Hindu/Padmasali/Vandana-Bhairee\n",
        "480"
       ]
      },
      {
       "output_type": "stream",
       "stream": "stdout",
       "text": [
        " http://www.simplymarry.com/matrimonial/bride/hydf999135/Hindu/Scheduled-Caste/Smitha-Santhosh\n",
        "481"
       ]
      },
      {
       "output_type": "stream",
       "stream": "stdout",
       "text": [
        " http://www.simplymarry.com/matrimonial/bride/hydf1206154/Hindu/Yadav/Swapna-C\n",
        "482"
       ]
      },
      {
       "output_type": "stream",
       "stream": "stdout",
       "text": [
        " http://www.simplymarry.com/matrimonial/bride/SMM1475674/Hindu/Yadav/Manjula\n",
        "483"
       ]
      },
      {
       "output_type": "stream",
       "stream": "stdout",
       "text": [
        " http://www.simplymarry.com/matrimonial/bride/SMF1434742/Hindu/Reddy/Kedika-Pavani-Reddy\n",
        "484"
       ]
      },
      {
       "output_type": "stream",
       "stream": "stdout",
       "text": [
        " http://www.simplymarry.com/matrimonial/bride/hydf1226003/Hindu/Brahmin---Vaidiki/H-Jahnavi\n",
        "485"
       ]
      },
      {
       "output_type": "stream",
       "stream": "stdout",
       "text": [
        " http://www.simplymarry.com/matrimonial/bride/SMM1571622/Hindu/Besta/Lavanya-Telugu\n",
        "486"
       ]
      },
      {
       "output_type": "stream",
       "stream": "stdout",
       "text": [
        " http://www.simplymarry.com/matrimonial/bride/hydf726612/Hindu/Vaddera/Lohitha-Bandaru\n",
        "487"
       ]
      },
      {
       "output_type": "stream",
       "stream": "stdout",
       "text": [
        " http://www.simplymarry.com/matrimonial/bride/coif1242288/Hindu/Lingayath/Kavitha-Ramaswamy\n",
        "488"
       ]
      },
      {
       "output_type": "stream",
       "stream": "stdout",
       "text": [
        " http://www.simplymarry.com/matrimonial/bride/anpf1228339/Hindu/Velama/Geethika-Santhoshi\n",
        "489"
       ]
      },
      {
       "output_type": "stream",
       "stream": "stdout",
       "text": [
        " http://www.simplymarry.com/matrimonial/bride/hydf1260283/Hindu/Padmasali/Pravalika-Siricilla\n",
        "490"
       ]
      },
      {
       "output_type": "stream",
       "stream": "stdout",
       "text": [
        " http://www.simplymarry.com/matrimonial/bride/SMF1521851/Hindu/Brahmin---Vaidiki/Srinivasarao.nitta\n",
        "491"
       ]
      },
      {
       "output_type": "stream",
       "stream": "stdout",
       "text": [
        " http://www.simplymarry.com/matrimonial/bride/SMF1474052/Hindu/Viswabrahmin/Padma-Kumari\n",
        "492"
       ]
      },
      {
       "output_type": "stream",
       "stream": "stdout",
       "text": [
        " http://www.simplymarry.com/matrimonial/bride/banf1352631/Hindu/Brahmin---Telugu/Priyanka-K\n",
        "493"
       ]
      },
      {
       "output_type": "stream",
       "stream": "stdout",
       "text": [
        " http://www.simplymarry.com/matrimonial/bride/SMF1571046/Hindu/Yadav/Raju\n",
        "494"
       ]
      },
      {
       "output_type": "stream",
       "stream": "stdout",
       "text": [
        " http://www.simplymarry.com/matrimonial/bride/SMF1571265/Hindu/Kamma/Smf1571265\n",
        "495"
       ]
      },
      {
       "output_type": "stream",
       "stream": "stdout",
       "text": [
        " http://www.simplymarry.com/matrimonial/bride/hydf462084/Hindu/Shanti-Reddy\n",
        "496"
       ]
      },
      {
       "output_type": "stream",
       "stream": "stdout",
       "text": [
        " http://www.simplymarry.com/matrimonial/bride/SMF1570402/Hindu/Maratha/Amitnz\n",
        "497"
       ]
      },
      {
       "output_type": "stream",
       "stream": "stdout",
       "text": [
        " http://www.simplymarry.com/matrimonial/bride/hydf391903/Hindu/Kapu-Naidu/Sabitha-Puppala\n",
        "498"
       ]
      },
      {
       "output_type": "stream",
       "stream": "stdout",
       "text": [
        " http://www.simplymarry.com/matrimonial/bride/gunf1262810/Hindu/Viswabrahmin/Nagulakonda-Amani\n",
        "499"
       ]
      },
      {
       "output_type": "stream",
       "stream": "stdout",
       "text": [
        " http://www.simplymarry.com/matrimonial/bride/chef1250873/Hindu/Balija/Priya-Chitti\n",
        "500"
       ]
      },
      {
       "output_type": "stream",
       "stream": "stdout",
       "text": [
        " http://www.simplymarry.com/matrimonial/bride/banf1098993/Hindu/Balija/Saroja-Devi\n",
        "501"
       ]
      },
      {
       "output_type": "stream",
       "stream": "stdout",
       "text": [
        " http://www.simplymarry.com/matrimonial/bride/SMF1479207/Hindu/Brahmin/Saravanti\n",
        "502"
       ]
      },
      {
       "output_type": "stream",
       "stream": "stdout",
       "text": [
        " http://www.simplymarry.com/matrimonial/bride/banf1363827/Hindu/Balija/Shylaja-Rajendran\n",
        "503"
       ]
      },
      {
       "output_type": "stream",
       "stream": "stdout",
       "text": [
        " http://www.simplymarry.com/matrimonial/bride/sagi_28/Hindu/Naidu/Anu-Anupama\n",
        "504"
       ]
      },
      {
       "output_type": "stream",
       "stream": "stdout",
       "text": [
        " http://www.simplymarry.com/matrimonial/bride/hydf1171600/Hindu/Yadav/Moni-Mona\n",
        "505"
       ]
      },
      {
       "output_type": "stream",
       "stream": "stdout",
       "text": [
        " http://www.simplymarry.com/matrimonial/bride/SMF1460377/Hindu/Kalinga-Vysya/Aswini-Jami\n",
        "506"
       ]
      },
      {
       "output_type": "stream",
       "stream": "stdout",
       "text": [
        " http://www.simplymarry.com/matrimonial/bride/SMF1568972/Hindu/Padmasali/Ande-Navaneetha\n",
        "507"
       ]
      },
      {
       "output_type": "stream",
       "stream": "stdout",
       "text": [
        " http://www.simplymarry.com/matrimonial/bride/hydf887512/Hindu/Kapu/Vishaly-Aravinda\n",
        "508"
       ]
      },
      {
       "output_type": "stream",
       "stream": "stdout",
       "text": [
        " http://www.simplymarry.com/matrimonial/bride/gunf1094035/Hindu/OBC/Barber/Naayee/Lakshmi-Lavanya\n",
        "509"
       ]
      },
      {
       "output_type": "stream",
       "stream": "stdout",
       "text": [
        " http://www.simplymarry.com/matrimonial/bride/secf1283416/Hindu/Besta/Swapna\n",
        "510"
       ]
      },
      {
       "output_type": "stream",
       "stream": "stdout",
       "text": [
        " http://www.simplymarry.com/matrimonial/bride/punf1038856/Hindu/Brahmin/Punf1038856\n",
        "511"
       ]
      },
      {
       "output_type": "stream",
       "stream": "stdout",
       "text": [
        " http://www.simplymarry.com/matrimonial/bride/vijf1303428/Hindu/Intercaste/Sri-Bhagyarekha\n",
        "512"
       ]
      },
      {
       "output_type": "stream",
       "stream": "stdout",
       "text": [
        " http://www.simplymarry.com/matrimonial/bride/hydf1197969/Hindu/Arya-Vysya/Vineela-Vinny\n",
        "513"
       ]
      },
      {
       "output_type": "stream",
       "stream": "stdout",
       "text": [
        " http://www.simplymarry.com/matrimonial/bride/visf1347852/Hindu/Scheduled-Caste/Rama-Boni\n",
        "514"
       ]
      },
      {
       "output_type": "stream",
       "stream": "stdout",
       "text": [
        " http://www.simplymarry.com/matrimonial/bride/SMF1528707/Hindu/Viswabrahmin/Vinay\n",
        "515"
       ]
      },
      {
       "output_type": "stream",
       "stream": "stdout",
       "text": [
        " http://www.simplymarry.com/matrimonial/bride/SMF1568189/Hindu/Viswabrahmin/Swapna\n",
        "516"
       ]
      },
      {
       "output_type": "stream",
       "stream": "stdout",
       "text": [
        " http://www.simplymarry.com/matrimonial/bride/mahf1343409/Hindu/Arya-Vysya/Miryala-Anusha\n",
        "517"
       ]
      },
      {
       "output_type": "stream",
       "stream": "stdout",
       "text": [
        " http://www.simplymarry.com/matrimonial/bride/kadf980647/Hindu/Reddy/Usha-Ranireddy\n",
        "518"
       ]
      },
      {
       "output_type": "stream",
       "stream": "stdout",
       "text": [
        " http://www.simplymarry.com/matrimonial/bride/SMF1532547/Hindu/Brahmin/Tulasi\n",
        "519"
       ]
      },
      {
       "output_type": "stream",
       "stream": "stdout",
       "text": [
        " http://www.simplymarry.com/matrimonial/bride/banf1372230/Hindu/Brahmin---Smartha/Swathi-Satish\n",
        "520"
       ]
      },
      {
       "output_type": "stream",
       "stream": "stdout",
       "text": [
        " http://www.simplymarry.com/matrimonial/bride/anpf582635/Hindu/Balija/A-Raghava\n",
        "521"
       ]
      },
      {
       "output_type": "stream",
       "stream": "stdout",
       "text": [
        " http://www.simplymarry.com/matrimonial/bride/SMF1567972/Hindu/Scheduled-Caste/J.ganesh\n",
        "522"
       ]
      },
      {
       "output_type": "stream",
       "stream": "stdout",
       "text": [
        " http://www.simplymarry.com/matrimonial/bride/adif1339302/Hindu/Brahmin---Davadnya/Jaavali-Last-name\n",
        "523"
       ]
      },
      {
       "output_type": "stream",
       "stream": "stdout",
       "text": [
        " http://www.simplymarry.com/matrimonial/bride/SMF1469465/Hindu/Yadav/Golla-Srinivasulu\n",
        "524"
       ]
      },
      {
       "output_type": "stream",
       "stream": "stdout",
       "text": [
        " http://www.simplymarry.com/matrimonial/bride/banf1352647/Hindu/Kshatriya/Sree-Devi\n",
        "525"
       ]
      },
      {
       "output_type": "stream",
       "stream": "stdout",
       "text": [
        " http://www.simplymarry.com/matrimonial/bride/hydf1342710/Hindu/Arya-Vysya/Padma-Priya\n",
        "526"
       ]
      },
      {
       "output_type": "stream",
       "stream": "stdout",
       "text": [
        " http://www.simplymarry.com/matrimonial/bride/kurf1383233/Hindu/Arya-Vysya/Lalitha-B\n",
        "527"
       ]
      },
      {
       "output_type": "stream",
       "stream": "stdout",
       "text": [
        " http://www.simplymarry.com/matrimonial/bride/hydf1307749/Hindu/Scheduled-Caste/Vijaya-Kumari\n",
        "528"
       ]
      },
      {
       "output_type": "stream",
       "stream": "stdout",
       "text": [
        " http://www.simplymarry.com/matrimonial/bride/SMF1566025/Hindu/Reddy/Keerthi-Reddy\n",
        "529"
       ]
      },
      {
       "output_type": "stream",
       "stream": "stdout",
       "text": [
        " http://www.simplymarry.com/matrimonial/bride/hydf1112958/Hindu/Reddy/Mina-Reddy\n",
        "530"
       ]
      },
      {
       "output_type": "stream",
       "stream": "stdout",
       "text": [
        " http://www.simplymarry.com/matrimonial/bride/banf1339114/Hindu/Velama/Koka-Kumar\n",
        "531"
       ]
      },
      {
       "output_type": "stream",
       "stream": "stdout",
       "text": [
        " http://www.simplymarry.com/matrimonial/bride/kamf1103897/Hindu/Madiga/Padma-Ravulapalli\n",
        "532"
       ]
      },
      {
       "output_type": "stream",
       "stream": "stdout",
       "text": [
        " http://www.simplymarry.com/matrimonial/bride/chef202488/Hindu/Balija/Sasirekha-Hanumantharao\n",
        "533"
       ]
      },
      {
       "output_type": "stream",
       "stream": "stdout",
       "text": [
        " http://www.simplymarry.com/matrimonial/bride/shmf1334797/Hindu/Arya-Vysya/Surekha-Setty\n",
        "534"
       ]
      },
      {
       "output_type": "stream",
       "stream": "stdout",
       "text": [
        " http://www.simplymarry.com/matrimonial/bride/banf331369/Hindu/Arya-Vysya/Manasa-Singamsetty\n",
        "535"
       ]
      },
      {
       "output_type": "stream",
       "stream": "stdout",
       "text": [
        " http://www.simplymarry.com/matrimonial/bride/anaf1304208/Hindu/Balija/Anu-Radha\n",
        "536"
       ]
      },
      {
       "output_type": "stream",
       "stream": "stdout",
       "text": [
        " http://www.simplymarry.com/matrimonial/bride/hydf1300120/Hindu/Telugu/Surya-Ram\n",
        "537"
       ]
      },
      {
       "output_type": "stream",
       "stream": "stdout",
       "text": [
        " http://www.simplymarry.com/matrimonial/bride/SMF1535065/Hindu/Gavara/Sumithra\n",
        "538"
       ]
      },
      {
       "output_type": "stream",
       "stream": "stdout",
       "text": [
        " http://www.simplymarry.com/matrimonial/bride/hydf1338255/Hindu/Reddy/Swetha-Reddy\n",
        "539"
       ]
      },
      {
       "output_type": "stream",
       "stream": "stdout",
       "text": [
        " http://www.simplymarry.com/matrimonial/bride/mumf597409/Hindu/Brahmin---Vaidiki/Jayalakshmmi-Chhalaa\n",
        "540"
       ]
      },
      {
       "output_type": "stream",
       "stream": "stdout",
       "text": [
        " http://www.simplymarry.com/matrimonial/bride/hydf1259989/Hindu/Padmasali/Lalitha-Priya\n",
        "541"
       ]
      },
      {
       "output_type": "stream",
       "stream": "stdout",
       "text": [
        " http://www.simplymarry.com/matrimonial/bride/SMF1564902/Hindu/Brahmin---Sri-Vaishnava/Sudha\n",
        "542"
       ]
      },
      {
       "output_type": "stream",
       "stream": "stdout",
       "text": [
        " http://www.simplymarry.com/matrimonial/bride/SMF1564785/Hindu/Nai/Smf1564785\n",
        "543"
       ]
      },
      {
       "output_type": "stream",
       "stream": "stdout",
       "text": [
        " http://www.simplymarry.com/matrimonial/bride/anpf532864/Hindu/Brahmin/Gayatri-Rao\n",
        "544"
       ]
      },
      {
       "output_type": "stream",
       "stream": "stdout",
       "text": [
        " http://www.simplymarry.com/matrimonial/bride/banf1297425/Hindu/Kapu/Madhuri-Raga\n",
        "545"
       ]
      },
      {
       "output_type": "stream",
       "stream": "stdout",
       "text": [
        " http://www.simplymarry.com/matrimonial/bride/SMF1564445/Hindu/Reddy/M.viswanath-Reddy\n",
        "546"
       ]
      },
      {
       "output_type": "stream",
       "stream": "stdout",
       "text": [
        " http://www.simplymarry.com/matrimonial/bride/chif1337679/Hindu/Balija/Medi-Yamini\n",
        "547"
       ]
      },
      {
       "output_type": "stream",
       "stream": "stdout",
       "text": [
        " http://www.simplymarry.com/matrimonial/bride/anaf1284156/Hindu/Balija/Amidala-Devipriya\n",
        "548"
       ]
      },
      {
       "output_type": "stream",
       "stream": "stdout",
       "text": [
        " http://www.simplymarry.com/matrimonial/bride/chef1281757/Hindu/Gavara/Nishanthi-Nishanthi\n",
        "549"
       ]
      },
      {
       "output_type": "stream",
       "stream": "stdout",
       "text": [
        " http://www.simplymarry.com/matrimonial/bride/SMF1563816/Hindu/Besta/Balaraj-Raj\n",
        "550"
       ]
      },
      {
       "output_type": "stream",
       "stream": "stdout",
       "text": [
        " http://www.simplymarry.com/matrimonial/bride/SMF1563584/Hindu/Brahmin/Pawan\n",
        "551"
       ]
      },
      {
       "output_type": "stream",
       "stream": "stdout",
       "text": [
        " http://www.simplymarry.com/matrimonial/bride/SMF1563794/Hindu/Kapu/Satya\n",
        "552"
       ]
      },
      {
       "output_type": "stream",
       "stream": "stdout",
       "text": [
        " http://www.simplymarry.com/matrimonial/bride/hydf1276092/Hindu/Devandra-Kula-Vellalar/Anuradha-Kasina\n",
        "553"
       ]
      },
      {
       "output_type": "stream",
       "stream": "stdout",
       "text": [
        " http://www.simplymarry.com/matrimonial/bride/hydf1236890/Hindu/Velama/Aruna-Kumari\n",
        "554"
       ]
      },
      {
       "output_type": "stream",
       "stream": "stdout",
       "text": [
        " http://www.simplymarry.com/matrimonial/bride/kadf1070645/Hindu/Kummari/Suma-Goturu\n",
        "555"
       ]
      },
      {
       "output_type": "stream",
       "stream": "stdout",
       "text": [
        " http://www.simplymarry.com/matrimonial/bride/hydf1193760/Hindu/Reddy/Gayatru-Vatrapu\n",
        "556"
       ]
      },
      {
       "output_type": "stream",
       "stream": "stdout",
       "text": [
        " http://www.simplymarry.com/matrimonial/bride/hydf1003412/Hindu/Brahmin/Vani-Sitapati\n",
        "557"
       ]
      },
      {
       "output_type": "stream",
       "stream": "stdout",
       "text": [
        " http://www.simplymarry.com/matrimonial/bride/hydf1241074/Hindu/Yadav/Arpitha-Yadav\n",
        "558"
       ]
      },
      {
       "output_type": "stream",
       "stream": "stdout",
       "text": [
        " http://www.simplymarry.com/matrimonial/bride/hydf1380585/Christian/Others/Kanti-Priya\n",
        "559"
       ]
      },
      {
       "output_type": "stream",
       "stream": "stdout",
       "text": [
        " http://www.simplymarry.com/matrimonial/bride/visf929476/Hindu/Telugu/Hasini-Hasini\n",
        "560"
       ]
      },
      {
       "output_type": "stream",
       "stream": "stdout",
       "text": [
        " http://www.simplymarry.com/matrimonial/bride/SMF1539451/Hindu/Brahmin/Karthi\n",
        "561"
       ]
      },
      {
       "output_type": "stream",
       "stream": "stdout",
       "text": [
        " http://www.simplymarry.com/matrimonial/bride/SMF1527140/Christian/Protestant/Nancy\n",
        "562"
       ]
      },
      {
       "output_type": "stream",
       "stream": "stdout",
       "text": [
        " http://www.simplymarry.com/matrimonial/bride/hydf1321851/Hindu/Munnuru-Kapu/Preethi-K\n",
        "563"
       ]
      },
      {
       "output_type": "stream",
       "stream": "stdout",
       "text": [
        " http://www.simplymarry.com/matrimonial/bride/hydf1321157/Hindu/Viswabrahmin/Singanaboina-Swapna\n",
        "564"
       ]
      },
      {
       "output_type": "stream",
       "stream": "stdout",
       "text": [
        " http://www.simplymarry.com/matrimonial/bride/hydf1237683/Hindu/Brahmin/Sujtha-K\n",
        "565"
       ]
      },
      {
       "output_type": "stream",
       "stream": "stdout",
       "text": [
        " http://www.simplymarry.com/matrimonial/bride/SMF1560032/Hindu/Brahmin/Swetha-Kumari\n",
        "566"
       ]
      },
      {
       "output_type": "stream",
       "stream": "stdout",
       "text": [
        " http://www.simplymarry.com/matrimonial/bride/SMF1545886/Hindu/Brahmin/Geetha\n",
        "567"
       ]
      },
      {
       "output_type": "stream",
       "stream": "stdout",
       "text": [
        " http://www.simplymarry.com/matrimonial/bride/SMF1559518/Christian/Protestant/Carol\n",
        "568"
       ]
      },
      {
       "output_type": "stream",
       "stream": "stdout",
       "text": [
        " http://www.simplymarry.com/matrimonial/bride/hydf1331203/Hindu/Besta/Sudha-Amsole\n",
        "569"
       ]
      },
      {
       "output_type": "stream",
       "stream": "stdout",
       "text": [
        " http://www.simplymarry.com/matrimonial/bride/hydf877154/Hindu/Naidu/Niroop-Rani\n",
        "570"
       ]
      },
      {
       "output_type": "stream",
       "stream": "stdout",
       "text": [
        " http://www.simplymarry.com/matrimonial/bride/mumf921617/Hindu/Brahmin/Gayathri-Rajagopal\n",
        "571"
       ]
      },
      {
       "output_type": "stream",
       "stream": "stdout",
       "text": [
        " http://www.simplymarry.com/matrimonial/bride/SMF1548629/Hindu/Scheduled-Caste/Midhuna-Paleti\n",
        "572"
       ]
      },
      {
       "output_type": "stream",
       "stream": "stdout",
       "text": [
        " http://www.simplymarry.com/matrimonial/bride/SMF1428408/Christian/Catholic/B.puspa-Kumari\n",
        "573"
       ]
      },
      {
       "output_type": "stream",
       "stream": "stdout",
       "text": [
        " http://www.simplymarry.com/matrimonial/bride/secf1346881/Hindu/Vaishnav/Aishwarya-Komandur\n",
        "574"
       ]
      },
      {
       "output_type": "stream",
       "stream": "stdout",
       "text": [
        " http://www.simplymarry.com/matrimonial/bride/anaf788303/Hindu/Madiga/Rani-Rani\n",
        "575"
       ]
      },
      {
       "output_type": "stream",
       "stream": "stdout",
       "text": [
        " http://www.simplymarry.com/matrimonial/bride/banf1284266/Hindu/Arya-Vysya/Later-Later\n",
        "576"
       ]
      },
      {
       "output_type": "stream",
       "stream": "stdout",
       "text": [
        " http://www.simplymarry.com/matrimonial/bride/SMF1539610/Hindu/Reddy/Sambasiva\n",
        "577"
       ]
      },
      {
       "output_type": "stream",
       "stream": "stdout",
       "text": [
        " http://www.simplymarry.com/matrimonial/bride/SMF1473605/Hindu/Naidu/Suganya\n",
        "578"
       ]
      },
      {
       "output_type": "stream",
       "stream": "stdout",
       "text": [
        " http://www.simplymarry.com/matrimonial/bride/hydf1318600/Hindu/Velama/Pranitha-Rao\n",
        "579"
       ]
      },
      {
       "output_type": "stream",
       "stream": "stdout",
       "text": [
        " http://www.simplymarry.com/matrimonial/bride/warf1278051/Hindu/Mannuru-Kapu/Later-Last-name\n",
        "580"
       ]
      },
      {
       "output_type": "stream",
       "stream": "stdout",
       "text": [
        " http://www.simplymarry.com/matrimonial/bride/SMF1500133/Hindu/Kamma/Smf1500133\n",
        "581"
       ]
      },
      {
       "output_type": "stream",
       "stream": "stdout",
       "text": [
        " http://www.simplymarry.com/matrimonial/bride/SMF1556436/Hindu/Kamma/N.roopavathi\n",
        "582"
       ]
      },
      {
       "output_type": "stream",
       "stream": "stdout",
       "text": [
        " http://www.simplymarry.com/matrimonial/bride/secf911321/Hindu/Balija/Prasanna-Vellore\n",
        "583"
       ]
      },
      {
       "output_type": "stream",
       "stream": "stdout",
       "text": [
        " http://www.simplymarry.com/matrimonial/bride/hydf1091155/Hindu/Goud/Sowmya-Nagapuri\n",
        "584"
       ]
      },
      {
       "output_type": "stream",
       "stream": "stdout",
       "text": [
        " http://www.simplymarry.com/matrimonial/bride/hydf1373480/Hindu/Vaddera/Sravya-Yalamala\n",
        "585"
       ]
      },
      {
       "output_type": "stream",
       "stream": "stdout",
       "text": [
        " http://www.simplymarry.com/matrimonial/bride/chef754173/Hindu/Kapu/Swathi-S\n",
        "586"
       ]
      },
      {
       "output_type": "stream",
       "stream": "stdout",
       "text": [
        " http://www.simplymarry.com/matrimonial/bride/chef1292336/Hindu/Reddy/Nyvedhya-Ravindhran\n",
        "587"
       ]
      },
      {
       "output_type": "stream",
       "stream": "stdout",
       "text": [
        " http://www.simplymarry.com/matrimonial/bride/SMM1554980/Hindu/Brahmin---Vaidiki/Aruna\n",
        "588"
       ]
      },
      {
       "output_type": "stream",
       "stream": "stdout",
       "text": [
        " http://www.simplymarry.com/matrimonial/bride/SMF1499889/Hindu/Balija/Sandhya\n",
        "589"
       ]
      },
      {
       "output_type": "stream",
       "stream": "stdout",
       "text": [
        " http://www.simplymarry.com/matrimonial/bride/vijf941255/Hindu/Brahmin---Vaidiki/Leela-Maganti\n",
        "590"
       ]
      },
      {
       "output_type": "stream",
       "stream": "stdout",
       "text": [
        " http://www.simplymarry.com/matrimonial/bride/hydf1014759/Hindu/Lingayath/Keerthi-Dolly\n",
        "591"
       ]
      },
      {
       "output_type": "stream",
       "stream": "stdout",
       "text": [
        " http://www.simplymarry.com/matrimonial/bride/hydf951419/Hindu/Arya-Vysya/Confidential-G\n",
        "592"
       ]
      },
      {
       "output_type": "stream",
       "stream": "stdout",
       "text": [
        " http://www.simplymarry.com/matrimonial/bride/banf714770/Hindu/Naidu/Roopa-Shankar\n",
        "593"
       ]
      },
      {
       "output_type": "stream",
       "stream": "stdout",
       "text": [
        " http://www.simplymarry.com/matrimonial/bride/hydf1037443/Hindu/Mala/Indhira-Tambura\n",
        "594"
       ]
      },
      {
       "output_type": "stream",
       "stream": "stdout",
       "text": [
        " http://www.simplymarry.com/matrimonial/bride/SMF1534488/Hindu/Rajaka/Smf1534488\n",
        "595"
       ]
      },
      {
       "output_type": "stream",
       "stream": "stdout",
       "text": [
        " http://www.simplymarry.com/matrimonial/bride/SMF1389567/Hindu/Balija/Yoganand-Katika\n",
        "596"
       ]
      },
      {
       "output_type": "stream",
       "stream": "stdout",
       "text": [
        " http://www.simplymarry.com/matrimonial/bride/hydf1255696/Hindu/Reddy/Sadguna-Gummadi\n",
        "597"
       ]
      },
      {
       "output_type": "stream",
       "stream": "stdout",
       "text": [
        " http://www.simplymarry.com/matrimonial/bride/SMF1493862/Hindu/Lingayath/Sadhika\n",
        "598"
       ]
      },
      {
       "output_type": "stream",
       "stream": "stdout",
       "text": [
        " http://www.simplymarry.com/matrimonial/bride/SMF1539895/Christian/Protestant/K.kumar\n",
        "599"
       ]
      },
      {
       "output_type": "stream",
       "stream": "stdout",
       "text": [
        " http://www.simplymarry.com/matrimonial/bride/hydf1293949/Hindu/Naidu/Sai-Sireesha\n",
        "600"
       ]
      },
      {
       "output_type": "stream",
       "stream": "stdout",
       "text": [
        " http://www.simplymarry.com/matrimonial/bride/SMF1519913/Hindu/Reddy/Rachana-Srinidhi\n",
        "601"
       ]
      },
      {
       "output_type": "stream",
       "stream": "stdout",
       "text": [
        " http://www.simplymarry.com/matrimonial/bride/visf1091174/Hindu/Arya-Vysya/Uma-Maheswari\n",
        "602"
       ]
      },
      {
       "output_type": "stream",
       "stream": "stdout",
       "text": [
        " http://www.simplymarry.com/matrimonial/bride/SMF1528080/Hindu/Viswabrahmin/Gayathri-Dhavileswarapu\n",
        "603"
       ]
      },
      {
       "output_type": "stream",
       "stream": "stdout",
       "text": [
        " http://www.simplymarry.com/matrimonial/bride/vizf1115672/Hindu/Yadav/Sandhya-Sridevi\n",
        "604"
       ]
      },
      {
       "output_type": "stream",
       "stream": "stdout",
       "text": [
        " http://www.simplymarry.com/matrimonial/bride/kalf1378289/Muslim/Sunni/Chipra\n",
        "605"
       ]
      },
      {
       "output_type": "stream",
       "stream": "stdout",
       "text": [
        " http://www.simplymarry.com/matrimonial/bride/trif1060333/Hindu/Telugu/Ajeetha-Lakshmi\n",
        "606"
       ]
      },
      {
       "output_type": "stream",
       "stream": "stdout",
       "text": [
        " http://www.simplymarry.com/matrimonial/bride/anpf173448/Hindu/Telugu/Yeedi-Tanuja\n",
        "607"
       ]
      },
      {
       "output_type": "stream",
       "stream": "stdout",
       "text": [
        " http://www.simplymarry.com/matrimonial/bride/SMF1551015/Hindu/Telaga/V.-Gopi-Krishna\n",
        "608"
       ]
      },
      {
       "output_type": "stream",
       "stream": "stdout",
       "text": [
        " http://www.simplymarry.com/matrimonial/bride/SMF1543362/Hindu/Telaga/Dasu-Lalitha\n",
        "609"
       ]
      },
      {
       "output_type": "stream",
       "stream": "stdout",
       "text": [
        " http://www.simplymarry.com/matrimonial/bride/SMF1550860/Hindu/Balija/Prathusha\n",
        "610"
       ]
      },
      {
       "output_type": "stream",
       "stream": "stdout",
       "text": [
        " http://www.simplymarry.com/matrimonial/bride/karf1259033/Hindu/Scheduled-Caste/Ravula-Sravanthi\n",
        "611"
       ]
      },
      {
       "output_type": "stream",
       "stream": "stdout",
       "text": [
        " http://www.simplymarry.com/matrimonial/bride/warf981714/Hindu/Brahmin/Madhavi-Devulapalli\n",
        "612"
       ]
      },
      {
       "output_type": "stream",
       "stream": "stdout",
       "text": [
        " http://www.simplymarry.com/matrimonial/bride/alof1138653/Hindu/Kamma/Komalanaidu-Mallempati\n",
        "613"
       ]
      },
      {
       "output_type": "stream",
       "stream": "stdout",
       "text": [
        " http://www.simplymarry.com/matrimonial/bride/mumf979213/Hindu/Madiga/Premlata-Vadluri\n",
        "614"
       ]
      },
      {
       "output_type": "stream",
       "stream": "stdout",
       "text": [
        " http://www.simplymarry.com/matrimonial/bride/SMF1549891/Hindu/Kshatriya/Surya\n",
        "615"
       ]
      },
      {
       "output_type": "stream",
       "stream": "stdout",
       "text": [
        " http://www.simplymarry.com/matrimonial/bride/banf1143001/Hindu/Reddy/Sudha-Ramanaiah\n",
        "616"
       ]
      },
      {
       "output_type": "stream",
       "stream": "stdout",
       "text": [
        " http://www.simplymarry.com/matrimonial/bride/SMF1491657/Hindu/Kapu/L.phanendra-Kumar\n",
        "617"
       ]
      },
      {
       "output_type": "stream",
       "stream": "stdout",
       "text": [
        " http://www.simplymarry.com/matrimonial/bride/SMF1482646/Hindu/Tavani\n",
        "618"
       ]
      },
      {
       "output_type": "stream",
       "stream": "stdout",
       "text": [
        " http://www.simplymarry.com/matrimonial/bride/SMF1530350/Hindu/Kapu/Smf1530350\n",
        "619"
       ]
      },
      {
       "output_type": "stream",
       "stream": "stdout",
       "text": [
        " http://www.simplymarry.com/matrimonial/bride/SMF1548339/Hindu/Goud/Shristi-Sen\n",
        "620"
       ]
      },
      {
       "output_type": "stream",
       "stream": "stdout",
       "text": [
        " http://www.simplymarry.com/matrimonial/bride/hydf1095439/Jain/Digambar/Vamadevi-Jain\n",
        "621"
       ]
      },
      {
       "output_type": "stream",
       "stream": "stdout",
       "text": [
        " http://www.simplymarry.com/matrimonial/bride/SMF1450889/Hindu/Kalinga-Vysya/Potnuru-Sandeep-Kumar\n",
        "622"
       ]
      },
      {
       "output_type": "stream",
       "stream": "stdout",
       "text": [
        " http://www.simplymarry.com/matrimonial/bride/hydf370534/Hindu/Joythi-Krishna\n",
        "623"
       ]
      },
      {
       "output_type": "stream",
       "stream": "stdout",
       "text": [
        " http://www.simplymarry.com/matrimonial/bride/SMM1483339/Hindu/Deepti-Mittal\n",
        "624"
       ]
      },
      {
       "output_type": "stream",
       "stream": "stdout",
       "text": [
        " http://www.simplymarry.com/matrimonial/bride/SMF1451916/Hindu/Kamma/Dr.harita-Krishna\n",
        "625"
       ]
      },
      {
       "output_type": "stream",
       "stream": "stdout",
       "text": [
        " http://www.simplymarry.com/matrimonial/bride/banf534914/Hindu/Brahmin/Abhilasha-Rao\n",
        "626"
       ]
      },
      {
       "output_type": "stream",
       "stream": "stdout",
       "text": [
        " http://www.simplymarry.com/matrimonial/bride/SMF1510860/Hindu/Kamma/Neha\n",
        "627"
       ]
      },
      {
       "output_type": "stream",
       "stream": "stdout",
       "text": [
        " http://www.simplymarry.com/matrimonial/bride/hydf972546/Hindu/Brahmin/Anand-Kumar\n",
        "628"
       ]
      },
      {
       "output_type": "stream",
       "stream": "stdout",
       "text": [
        " http://www.simplymarry.com/matrimonial/bride/nelf1384503/Hindu/Kshatriya/Kumuda-Pal\n",
        "629"
       ]
      },
      {
       "output_type": "stream",
       "stream": "stdout",
       "text": [
        " http://www.simplymarry.com/matrimonial/bride/SMF1523658/Hindu/Padmasali/Mani-Manikanteswari\n",
        "630"
       ]
      },
      {
       "output_type": "stream",
       "stream": "stdout",
       "text": [
        " http://www.simplymarry.com/matrimonial/bride/SMF1518300/Hindu/Brahmin---Niyogi/Smf1518300\n",
        "631"
       ]
      },
      {
       "output_type": "stream",
       "stream": "stdout",
       "text": [
        " http://www.simplymarry.com/matrimonial/bride/SMF1491513/Hindu/Madiga/Kattepogu-Sireehsa\n",
        "632"
       ]
      },
      {
       "output_type": "stream",
       "stream": "stdout",
       "text": [
        " http://www.simplymarry.com/matrimonial/bride/hydf1328169/Hindu/Besta/Apurupa-Vidudala\n",
        "633"
       ]
      },
      {
       "output_type": "stream",
       "stream": "stdout",
       "text": [
        " http://www.simplymarry.com/matrimonial/bride/visf1300326/Hindu/OBC/Barber/Naayee/Suvarna-Chandrika\n",
        "634"
       ]
      },
      {
       "output_type": "stream",
       "stream": "stdout",
       "text": [
        " http://www.simplymarry.com/matrimonial/bride/SMF1530173/Hindu/Yadav/Swetha.a\n",
        "635"
       ]
      },
      {
       "output_type": "stream",
       "stream": "stdout",
       "text": [
        " http://www.simplymarry.com/matrimonial/bride/secf1340825/Hindu/Kapu-Naidu/Swapna-Madasu\n",
        "636"
       ]
      },
      {
       "output_type": "stream",
       "stream": "stdout",
       "text": [
        " http://www.simplymarry.com/matrimonial/bride/visf1310627/Hindu/Mala/Punnu-Penumaka\n",
        "637"
       ]
      },
      {
       "output_type": "stream",
       "stream": "stdout",
       "text": [
        " http://www.simplymarry.com/matrimonial/bride/hydf1273123/Hindu/Brahmin/Swathi-Priya\n",
        "638"
       ]
      },
      {
       "output_type": "stream",
       "stream": "stdout",
       "text": [
        " http://www.simplymarry.com/matrimonial/bride/chef909020/Hindu/Brahmin/Yamini-Perepu\n",
        "639"
       ]
      },
      {
       "output_type": "stream",
       "stream": "stdout",
       "text": [
        " http://www.simplymarry.com/matrimonial/bride/SMF1462402/Hindu/Naidu/Sukanya\n",
        "640"
       ]
      },
      {
       "output_type": "stream",
       "stream": "stdout",
       "text": [
        " http://www.simplymarry.com/matrimonial/bride/SMM1473234/Hindu/Vysya/Neeraja\n",
        "641"
       ]
      },
      {
       "output_type": "stream",
       "stream": "stdout",
       "text": [
        " http://www.simplymarry.com/matrimonial/bride/SMF1532742/Hindu/Reddy/Venkatashyam\n",
        "642"
       ]
      },
      {
       "output_type": "stream",
       "stream": "stdout",
       "text": [
        " http://www.simplymarry.com/matrimonial/bride/visf1105809/Hindu/Reddy/Suhasini-Reddy\n",
        "643"
       ]
      },
      {
       "output_type": "stream",
       "stream": "stdout",
       "text": [
        " http://www.simplymarry.com/matrimonial/bride/hydf1255568/Hindu/Kapu/Raja-Rajeswari\n",
        "644"
       ]
      },
      {
       "output_type": "stream",
       "stream": "stdout",
       "text": [
        " http://www.simplymarry.com/matrimonial/bride/hydf1337327/Hindu/Kapu/Rekapalli-Deepthi\n",
        "645"
       ]
      },
      {
       "output_type": "stream",
       "stream": "stdout",
       "text": [
        " http://www.simplymarry.com/matrimonial/bride/SMF1506016/Hindu/Rajput/Smf1506016-Y\n",
        "646"
       ]
      },
      {
       "output_type": "stream",
       "stream": "stdout",
       "text": [
        " http://www.simplymarry.com/matrimonial/bride/SMM1480279/Hindu/Goud/P.-Kalpana\n",
        "647"
       ]
      },
      {
       "output_type": "stream",
       "stream": "stdout",
       "text": [
        " http://www.simplymarry.com/matrimonial/bride/SMF1487697/Hindu/Vaddera/Sheetal-Kutkar\n",
        "648"
       ]
      },
      {
       "output_type": "stream",
       "stream": "stdout",
       "text": [
        " http://www.simplymarry.com/matrimonial/bride/SMF1503128/Hindu/Smf1503128\n",
        "649"
       ]
      },
      {
       "output_type": "stream",
       "stream": "stdout",
       "text": [
        " http://www.simplymarry.com/matrimonial/bride/chif994887/Hindu/Kamma/Revathi-Chigurupati\n",
        "650"
       ]
      },
      {
       "output_type": "stream",
       "stream": "stdout",
       "text": [
        " http://www.simplymarry.com/matrimonial/bride/chef1377450/Hindu/Mala/Hema-Latha\n",
        "651"
       ]
      },
      {
       "output_type": "stream",
       "stream": "stdout",
       "text": [
        " http://www.simplymarry.com/matrimonial/bride/chif1292697/Hindu/Kamma/Harathi-Harathi\n",
        "652"
       ]
      },
      {
       "output_type": "stream",
       "stream": "stdout",
       "text": [
        " http://www.simplymarry.com/matrimonial/bride/hydf1054571/Hindu/Brahmin/Venkata-Gayatri\n",
        "653"
       ]
      },
      {
       "output_type": "stream",
       "stream": "stdout",
       "text": [
        " http://www.simplymarry.com/matrimonial/bride/SMF1496086/Hindu/Brahmin/Smf1496086\n",
        "654"
       ]
      },
      {
       "output_type": "stream",
       "stream": "stdout",
       "text": [
        " http://www.simplymarry.com/matrimonial/bride/mumf1212950/Hindu/Telugu/Sonali-Patro\n",
        "655"
       ]
      },
      {
       "output_type": "stream",
       "stream": "stdout",
       "text": [
        " http://www.simplymarry.com/matrimonial/bride/gunf1167854/Hindu/Kamma/Aa-Pam\n",
        "656"
       ]
      },
      {
       "output_type": "stream",
       "stream": "stdout",
       "text": [
        " http://www.simplymarry.com/matrimonial/bride/hydf1312980/Hindu/Mala/Sukanya-Gelepally\n",
        "657"
       ]
      },
      {
       "output_type": "stream",
       "stream": "stdout",
       "text": [
        " http://www.simplymarry.com/matrimonial/bride/hydf1371910/Hindu/Scheduled-Caste/Sirisha-Karanam\n",
        "658"
       ]
      },
      {
       "output_type": "stream",
       "stream": "stdout",
       "text": [
        " http://www.simplymarry.com/matrimonial/bride/banf1361749/Hindu/Balija/Chitra-Kala\n",
        "659"
       ]
      },
      {
       "output_type": "stream",
       "stream": "stdout",
       "text": [
        " http://www.simplymarry.com/matrimonial/bride/kamf1218615/Hindu/Mala/Guruveena-Dade\n",
        "660"
       ]
      },
      {
       "output_type": "stream",
       "stream": "stdout",
       "text": [
        " http://www.simplymarry.com/matrimonial/bride/chef830194/Hindu/Scheduled-Tribe/Supriya-M\n",
        "661"
       ]
      },
      {
       "output_type": "stream",
       "stream": "stdout",
       "text": [
        " http://www.simplymarry.com/matrimonial/bride/coif1173448/Hindu/Gavara/Bbay\n",
        "662"
       ]
      },
      {
       "output_type": "stream",
       "stream": "stdout",
       "text": [
        " http://www.simplymarry.com/matrimonial/bride/hydf250785/Hindu/Lingayath/Sireesha-Vurum\n",
        "663"
       ]
      },
      {
       "output_type": "stream",
       "stream": "stdout",
       "text": [
        " http://www.simplymarry.com/matrimonial/bride/srif1379388/Hindu/Setti-Balija/Ramadevi-Chetla\n",
        "664"
       ]
      },
      {
       "output_type": "stream",
       "stream": "stdout",
       "text": [
        " http://www.simplymarry.com/matrimonial/bride/visf1340909/Hindu/Brahmin/Sailaja-D\n",
        "665"
       ]
      },
      {
       "output_type": "stream",
       "stream": "stdout",
       "text": [
        " http://www.simplymarry.com/matrimonial/bride/secf923503/Hindu/Goud/Meera-Kona\n",
        "666"
       ]
      },
      {
       "output_type": "stream",
       "stream": "stdout",
       "text": [
        " http://www.simplymarry.com/matrimonial/bride/hydf1378504/Hindu/Valmiki/R-Pallavi\n",
        "667"
       ]
      },
      {
       "output_type": "stream",
       "stream": "stdout",
       "text": [
        " http://www.simplymarry.com/matrimonial/bride/SMF1508354/Hindu/Naidu/Nandini-Dayal\n",
        "668"
       ]
      },
      {
       "output_type": "stream",
       "stream": "stdout",
       "text": [
        " http://www.simplymarry.com/matrimonial/bride/SMF1477968/Hindu/Arekatica/Smf1477968\n",
        "669"
       ]
      },
      {
       "output_type": "stream",
       "stream": "stdout",
       "text": [
        " http://www.simplymarry.com/matrimonial/bride/hydf1230845/Hindu/Kamma/Mandakini-Talapaneni\n",
        "670"
       ]
      },
      {
       "output_type": "stream",
       "stream": "stdout",
       "text": [
        " http://www.simplymarry.com/matrimonial/bride/nelf847638/Hindu/Kshatriya/Sobha-Rani\n",
        "671"
       ]
      },
      {
       "output_type": "stream",
       "stream": "stdout",
       "text": [
        " http://www.simplymarry.com/matrimonial/bride/chef1328004/Hindu/Kummari/Appecherla-Sri-arvitha\n",
        "672"
       ]
      },
      {
       "output_type": "stream",
       "stream": "stdout",
       "text": [
        " http://www.simplymarry.com/matrimonial/bride/SMF1403187/Hindu/Kapu/Rasajjana\n",
        "673"
       ]
      },
      {
       "output_type": "stream",
       "stream": "stdout",
       "text": [
        " http://www.simplymarry.com/matrimonial/bride/banf997306/Hindu/Padmasali/Chaitanya-Kadapa\n",
        "674"
       ]
      },
      {
       "output_type": "stream",
       "stream": "stdout",
       "text": [
        " http://www.simplymarry.com/matrimonial/bride/SMF1442501/Hindu/Kamma/Arasi\n",
        "675"
       ]
      },
      {
       "output_type": "stream",
       "stream": "stdout",
       "text": [
        " http://www.simplymarry.com/matrimonial/bride/mumf329041/Hindu/Aruna-Pannala\n",
        "676"
       ]
      },
      {
       "output_type": "stream",
       "stream": "stdout",
       "text": [
        " http://www.simplymarry.com/matrimonial/bride/ongf1261984/Hindu/Kamma/Naga-Raja\n",
        "677"
       ]
      },
      {
       "output_type": "stream",
       "stream": "stdout",
       "text": [
        " http://www.simplymarry.com/matrimonial/bride/hydf793253/Hindu/Arya-Vysya/Swathi-Pabbisetty\n",
        "678"
       ]
      },
      {
       "output_type": "stream",
       "stream": "stdout",
       "text": [
        " http://www.simplymarry.com/matrimonial/bride/anaf1383374/Hindu/Setti-Balija/Lakshmi-P\n",
        "679"
       ]
      },
      {
       "output_type": "stream",
       "stream": "stdout",
       "text": [
        " http://www.simplymarry.com/matrimonial/bride/visf1277354/Hindu/Kapu/Errasirisha-Erra\n",
        "680"
       ]
      },
      {
       "output_type": "stream",
       "stream": "stdout",
       "text": [
        " http://www.simplymarry.com/matrimonial/bride/banf1385023/Hindu/Scheduled-Caste/Shashi-Kala\n",
        "681"
       ]
      },
      {
       "output_type": "stream",
       "stream": "stdout",
       "text": [
        " http://www.simplymarry.com/matrimonial/bride/hydf1073480/Hindu/Mala/Radhika-Later\n",
        "682"
       ]
      },
      {
       "output_type": "stream",
       "stream": "stdout",
       "text": [
        " http://www.simplymarry.com/matrimonial/bride/vijf1335376/Hindu/Kapu/Maduri-Madhuri\n",
        "683"
       ]
      },
      {
       "output_type": "stream",
       "stream": "stdout",
       "text": [
        " http://www.simplymarry.com/matrimonial/bride/SMF1399821/Hindu/Yadav/Balaji-Venugopal\n",
        "684"
       ]
      },
      {
       "output_type": "stream",
       "stream": "stdout",
       "text": [
        " http://www.simplymarry.com/matrimonial/bride/nelf1312251/Hindu/Vysya/Devaki-Sailakshmi\n",
        "685"
       ]
      },
      {
       "output_type": "stream",
       "stream": "stdout",
       "text": [
        " http://www.simplymarry.com/matrimonial/bride/SMF1434058/Hindu/Brahmin---Niyogi/Knv-Kiranmayee\n",
        "686"
       ]
      },
      {
       "output_type": "stream",
       "stream": "stdout",
       "text": [
        " http://www.simplymarry.com/matrimonial/bride/vizf1363622/Hindu/Kapu-Naidu/L-Bhagyalaxmi\n",
        "687"
       ]
      },
      {
       "output_type": "stream",
       "stream": "stdout",
       "text": [
        " http://www.simplymarry.com/matrimonial/bride/SMF1475939/Christian/Protestant/Silvia\n",
        "688"
       ]
      },
      {
       "output_type": "stream",
       "stream": "stdout",
       "text": [
        " http://www.simplymarry.com/matrimonial/bride/SMF1401124/Hindu/Kamma/Snd\n",
        "689"
       ]
      },
      {
       "output_type": "stream",
       "stream": "stdout",
       "text": [
        " http://www.simplymarry.com/matrimonial/bride/SMF1428845/Hindu/Kshatriya/Yuvraj\n",
        "690"
       ]
      },
      {
       "output_type": "stream",
       "stream": "stdout",
       "text": [
        " http://www.simplymarry.com/matrimonial/bride/alof1292501/Hindu/Reddy/Swathi-Reddy\n",
        "691"
       ]
      },
      {
       "output_type": "stream",
       "stream": "stdout",
       "text": [
        " http://www.simplymarry.com/matrimonial/bride/SMF1468877/Hindu/Kapu/Haritha\n",
        "692"
       ]
      },
      {
       "output_type": "stream",
       "stream": "stdout",
       "text": [
        " http://www.simplymarry.com/matrimonial/bride/mumf1150170/Hindu/Telugu/Shobha-Ramchandra\n",
        "693"
       ]
      },
      {
       "output_type": "stream",
       "stream": "stdout",
       "text": [
        " http://www.simplymarry.com/matrimonial/bride/hydf1306714/Hindu/Kummari/Triveni-Pattipati\n",
        "694"
       ]
      },
      {
       "output_type": "stream",
       "stream": "stdout",
       "text": [
        " http://www.simplymarry.com/matrimonial/bride/hydf1294169/Hindu/Hindu-Others/Roja-Adusumilli\n",
        "695"
       ]
      },
      {
       "output_type": "stream",
       "stream": "stdout",
       "text": [
        " http://www.simplymarry.com/matrimonial/bride/nelf1207205/Hindu/Vaishnav/Niroopama-Pushpagiri\n",
        "696"
       ]
      },
      {
       "output_type": "stream",
       "stream": "stdout",
       "text": [
        " http://www.simplymarry.com/matrimonial/bride/vizf1276174/Hindu/Kalinga/Usha-Rani\n",
        "697"
       ]
      },
      {
       "output_type": "stream",
       "stream": "stdout",
       "text": [
        " http://www.simplymarry.com/matrimonial/bride/banf1135726/Hindu/Devanga/Chande-Aparna\n",
        "698"
       ]
      },
      {
       "output_type": "stream",
       "stream": "stdout",
       "text": [
        " http://www.simplymarry.com/matrimonial/bride/bhof1330862/Hindu/Mala/Sumitra-Vanka\n",
        "699"
       ]
      },
      {
       "output_type": "stream",
       "stream": "stdout",
       "text": [
        " http://www.simplymarry.com/matrimonial/bride/hydf1347749/Hindu/Lingayath/Sahasra\n",
        "700"
       ]
      },
      {
       "output_type": "stream",
       "stream": "stdout",
       "text": [
        " http://www.simplymarry.com/matrimonial/bride/banf1305850/Hindu/Lingayath/Himavathi-Tippadampalli\n",
        "701"
       ]
      },
      {
       "output_type": "stream",
       "stream": "stdout",
       "text": [
        " http://www.simplymarry.com/matrimonial/bride/aurf1361191/Hindu/Mahar/Jyoti-Gankar\n",
        "702"
       ]
      },
      {
       "output_type": "stream",
       "stream": "stdout",
       "text": [
        " http://www.simplymarry.com/matrimonial/bride/secf1168168/Hindu/Balija/Sanku-Rao\n",
        "703"
       ]
      },
      {
       "output_type": "stream",
       "stream": "stdout",
       "text": [
        " http://www.simplymarry.com/matrimonial/bride/SMF1404705/Hindu/Padmasali/Sindu\n",
        "704"
       ]
      },
      {
       "output_type": "stream",
       "stream": "stdout",
       "text": [
        " http://www.simplymarry.com/matrimonial/bride/hydf1306796/Hindu/Kamma/Prasanthichowdary-Karanam\n",
        "705"
       ]
      },
      {
       "output_type": "stream",
       "stream": "stdout",
       "text": [
        " http://www.simplymarry.com/matrimonial/bride/hydf1344120/Hindu/Arya-Vysya/Pampati-Nagasudha\n",
        "706"
       ]
      },
      {
       "output_type": "stream",
       "stream": "stdout",
       "text": [
        " http://www.simplymarry.com/matrimonial/bride/kakf1240474/Hindu/Scheduled-Caste/Chandra-Kala\n",
        "707"
       ]
      },
      {
       "output_type": "stream",
       "stream": "stdout",
       "text": [
        " http://www.simplymarry.com/matrimonial/bride/eluf1179635/Hindu/Brahmin/Bhimarajuramya-Ramya\n",
        "708"
       ]
      },
      {
       "output_type": "stream",
       "stream": "stdout",
       "text": [
        " http://www.simplymarry.com/matrimonial/bride/SMF1437726/Hindu/Brahmin/Arpita\n",
        "709"
       ]
      },
      {
       "output_type": "stream",
       "stream": "stdout",
       "text": [
        " http://www.simplymarry.com/matrimonial/bride/vijf1281214/Hindu/Viswabrahmin/Pusapati-Sukanya\n",
        "710"
       ]
      },
      {
       "output_type": "stream",
       "stream": "stdout",
       "text": [
        " http://www.simplymarry.com/matrimonial/bride/vijf838021/Hindu/Brahmin/Bhavani-Maddali\n",
        "711"
       ]
      },
      {
       "output_type": "stream",
       "stream": "stdout",
       "text": [
        " http://www.simplymarry.com/matrimonial/bride/hydf1003364/Hindu/Arya-Vysya/Sirisha-A\n",
        "712"
       ]
      },
      {
       "output_type": "stream",
       "stream": "stdout",
       "text": [
        " http://www.simplymarry.com/matrimonial/bride/visf1370054/Hindu/Arya-Vysya/Raani-Kvn\n",
        "713"
       ]
      },
      {
       "output_type": "stream",
       "stream": "stdout",
       "text": [
        " http://www.simplymarry.com/matrimonial/bride/chif1336053/Hindu/Kummari/Hema-Latha\n",
        "714"
       ]
      },
      {
       "output_type": "stream",
       "stream": "stdout",
       "text": [
        " http://www.simplymarry.com/matrimonial/bride/hydf1289300/Hindu/Brahmin---Tyagi/Padma-Bala\n",
        "715"
       ]
      },
      {
       "output_type": "stream",
       "stream": "stdout",
       "text": [
        " http://www.simplymarry.com/matrimonial/bride/hydf1008623/Hindu/Padmasali/Madhya-Jyotsna\n",
        "716"
       ]
      },
      {
       "output_type": "stream",
       "stream": "stdout",
       "text": [
        " http://www.simplymarry.com/matrimonial/bride/banf1343714/Hindu/Kamma/Sssss-Uuuuu\n",
        "717"
       ]
      },
      {
       "output_type": "stream",
       "stream": "stdout",
       "text": [
        " http://www.simplymarry.com/matrimonial/bride/SMM1499257/Hindu/Sandhya\n",
        "718"
       ]
      },
      {
       "output_type": "stream",
       "stream": "stdout",
       "text": [
        " http://www.simplymarry.com/matrimonial/bride/nelf1337966/Hindu/Kapu-Naidu/Nirosha-Naidu\n",
        "719"
       ]
      },
      {
       "output_type": "stream",
       "stream": "stdout",
       "text": [
        " http://www.simplymarry.com/matrimonial/bride/visf1385190/Hindu/Velama/Ratna-Kumari\n",
        "720"
       ]
      },
      {
       "output_type": "stream",
       "stream": "stdout",
       "text": [
        " http://www.simplymarry.com/matrimonial/bride/x1263308/Hindu/Brahmin/Narmada-N\n",
        "721"
       ]
      },
      {
       "output_type": "stream",
       "stream": "stdout",
       "text": [
        " http://www.simplymarry.com/matrimonial/bride/anpf585151/Hindu/Brahmin/Kameswari-Chebrolu\n",
        "722"
       ]
      },
      {
       "output_type": "stream",
       "stream": "stdout",
       "text": [
        " http://www.simplymarry.com/matrimonial/bride/SMM1496768/Hindu/Kamma/Nirupama-Rai\n",
        "723"
       ]
      },
      {
       "output_type": "stream",
       "stream": "stdout",
       "text": [
        " http://www.simplymarry.com/matrimonial/bride/hydf1319985/Hindu/Kamma/Sri\n",
        "724"
       ]
      },
      {
       "output_type": "stream",
       "stream": "stdout",
       "text": [
        " http://www.simplymarry.com/matrimonial/bride/chef1285836/Hindu/Reddy/Abirami-Nedumaran\n",
        "725"
       ]
      },
      {
       "output_type": "stream",
       "stream": "stdout",
       "text": [
        " http://www.simplymarry.com/matrimonial/bride/chef1339505/Hindu/Brahmin/Sundar-Ragavendran\n",
        "726"
       ]
      },
      {
       "output_type": "stream",
       "stream": "stdout",
       "text": [
        " http://www.simplymarry.com/matrimonial/bride/hydf1332507/Hindu/Brahmin-6000-Niyogi/Praneeta-Rao\n",
        "727"
       ]
      },
      {
       "output_type": "stream",
       "stream": "stdout",
       "text": [
        " http://www.simplymarry.com/matrimonial/bride/SMM1486837/Christian/Catholic/Agnel-P\n",
        "728"
       ]
      },
      {
       "output_type": "stream",
       "stream": "stdout",
       "text": [
        " http://www.simplymarry.com/matrimonial/bride/SMM1486312/Hindu/Kamma/Lawanya\n",
        "729"
       ]
      },
      {
       "output_type": "stream",
       "stream": "stdout",
       "text": [
        " http://www.simplymarry.com/matrimonial/bride/gunf841029/Hindu/Yadav/Myla-Nagamalleswari\n",
        "730"
       ]
      },
      {
       "output_type": "stream",
       "stream": "stdout",
       "text": [
        " http://www.simplymarry.com/matrimonial/bride/banf1291372/Hindu/Mala/Shailaja-L\n",
        "731"
       ]
      },
      {
       "output_type": "stream",
       "stream": "stdout",
       "text": [
        " http://www.simplymarry.com/matrimonial/bride/ongf1382168/Hindu/Vaishnav/Taliyakula-Ramanamma\n",
        "732"
       ]
      },
      {
       "output_type": "stream",
       "stream": "stdout",
       "text": [
        " http://www.simplymarry.com/matrimonial/bride/adif1313435/Hindu/Yadav/Renkala-Ujitha\n",
        "733"
       ]
      },
      {
       "output_type": "stream",
       "stream": "stdout",
       "text": [
        " http://www.simplymarry.com/matrimonial/bride/kamf1213141/Hindu/Brahmin---Vaidiki/Kamf1213141\n",
        "734"
       ]
      },
      {
       "output_type": "stream",
       "stream": "stdout",
       "text": [
        " http://www.simplymarry.com/matrimonial/bride/vijf1347576/Hindu/Kamma/Gamana-Chowdary\n",
        "735"
       ]
      },
      {
       "output_type": "stream",
       "stream": "stdout",
       "text": [
        " http://www.simplymarry.com/matrimonial/bride/hydf1308395/Hindu/Padmasali/Rachana\n",
        "736"
       ]
      },
      {
       "output_type": "stream",
       "stream": "stdout",
       "text": [
        " http://www.simplymarry.com/matrimonial/bride/sngf1380096/Hindu/Madiga/Anjali-Bhandari\n",
        "737"
       ]
      },
      {
       "output_type": "stream",
       "stream": "stdout",
       "text": [
        " http://www.simplymarry.com/matrimonial/bride/madf1372658/Hindu/Naidu/Keerthiga-Keerthiga\n",
        "738"
       ]
      },
      {
       "output_type": "stream",
       "stream": "stdout",
       "text": [
        " http://www.simplymarry.com/matrimonial/bride/karf688707/Hindu/Kapu-Naidu/Asha-Viswanadha\n",
        "739"
       ]
      },
      {
       "output_type": "stream",
       "stream": "stdout",
       "text": [
        " http://www.simplymarry.com/matrimonial/bride/SMM1464968/Hindu/Arya-Vysya/Kavya\n",
        "740"
       ]
      },
      {
       "output_type": "stream",
       "stream": "stdout",
       "text": [
        " http://www.simplymarry.com/matrimonial/bride/anpf1211949/Hindu/Kapu/Yerubandi-Lakshmiprashanthi\n",
        "741"
       ]
      },
      {
       "output_type": "stream",
       "stream": "stdout",
       "text": [
        " http://www.simplymarry.com/matrimonial/bride/SMM1475220/Christian/Protestant/Shalini-Priya\n",
        "742"
       ]
      },
      {
       "output_type": "stream",
       "stream": "stdout",
       "text": [
        " http://www.simplymarry.com/matrimonial/bride/kadf1338483/Hindu/Telugu/Swetha-Voodavagandla\n",
        "743"
       ]
      },
      {
       "output_type": "stream",
       "stream": "stdout",
       "text": [
        " http://www.simplymarry.com/matrimonial/bride/banf1289813/Hindu/Telugu/Radhika-No-name\n",
        "744"
       ]
      },
      {
       "output_type": "stream",
       "stream": "stdout",
       "text": [
        " http://www.simplymarry.com/matrimonial/bride/punf357470/Hindu/Jalaja-M\n",
        "745"
       ]
      },
      {
       "output_type": "stream",
       "stream": "stdout",
       "text": [
        " http://www.simplymarry.com/matrimonial/bride/nelf1283232/Hindu/Arya-Vysya/Somu-Swetha\n",
        "746"
       ]
      },
      {
       "output_type": "stream",
       "stream": "stdout",
       "text": [
        " http://www.simplymarry.com/matrimonial/bride/hydf1341807/Hindu/Telugu/Lakshmi-Neelima\n",
        "747"
       ]
      },
      {
       "output_type": "stream",
       "stream": "stdout",
       "text": [
        " http://www.simplymarry.com/matrimonial/bride/mumf522772/Hindu/Scheduled-Caste/Suhasini-Gujjari\n",
        "748"
       ]
      },
      {
       "output_type": "stream",
       "stream": "stdout",
       "text": [
        " http://www.simplymarry.com/matrimonial/bride/karf1353083/Hindu/Scheduled-Caste/Rajamani-Kathuri\n",
        "749"
       ]
      },
      {
       "output_type": "stream",
       "stream": "stdout",
       "text": [
        " http://www.simplymarry.com/matrimonial/bride/hydf1340035/Hindu/Reddy/Later-Later\n",
        "750"
       ]
      },
      {
       "output_type": "stream",
       "stream": "stdout",
       "text": [
        " http://www.simplymarry.com/matrimonial/bride/visf186967/Christian/Protestant/Chandrakala-G\n",
        "751"
       ]
      },
      {
       "output_type": "stream",
       "stream": "stdout",
       "text": [
        " http://www.simplymarry.com/matrimonial/bride/mumf833902/Hindu/Arya-Vysya/Wqerwerewr\n",
        "752"
       ]
      },
      {
       "output_type": "stream",
       "stream": "stdout",
       "text": [
        " http://www.simplymarry.com/matrimonial/bride/SMM1464291/Hindu/Padmasali/Karthika\n",
        "753"
       ]
      },
      {
       "output_type": "stream",
       "stream": "stdout",
       "text": [
        " http://www.simplymarry.com/matrimonial/bride/anaf1252700/Hindu/Reddy/Sindhuja-Reddy\n",
        "754"
       ]
      },
      {
       "output_type": "stream",
       "stream": "stdout",
       "text": [
        " http://www.simplymarry.com/matrimonial/bride/mumf544409/Hindu/Padmasali/A-Oyal\n",
        "755"
       ]
      },
      {
       "output_type": "stream",
       "stream": "stdout",
       "text": [
        " http://www.simplymarry.com/matrimonial/bride/chef1125107/Hindu/Lingayath/Menaka-Jayaraman\n",
        "756"
       ]
      },
      {
       "output_type": "stream",
       "stream": "stdout",
       "text": [
        " http://www.simplymarry.com/matrimonial/bride/siva52201/Hindu/Yadav/Myla-Naga-Malleswari\n",
        "757"
       ]
      },
      {
       "output_type": "stream",
       "stream": "stdout",
       "text": [
        " http://www.simplymarry.com/matrimonial/bride/chif1292163/Hindu/Padmasali/Vaani-Kumari\n",
        "758"
       ]
      },
      {
       "output_type": "stream",
       "stream": "stdout",
       "text": [
        " http://www.simplymarry.com/matrimonial/bride/mahf1377584/Hindu/Arya-Vysya/Santhu-Lakshmi\n",
        "759"
       ]
      },
      {
       "output_type": "stream",
       "stream": "stdout",
       "text": [
        " http://www.simplymarry.com/matrimonial/bride/vizf1290102/Hindu/Telaga/Smiley-Alekya\n",
        "760"
       ]
      },
      {
       "output_type": "stream",
       "stream": "stdout",
       "text": [
        " http://www.simplymarry.com/matrimonial/bride/hydf1049511/Hindu/Arya-Vysya/Deepika-Banuru\n",
        "761"
       ]
      },
      {
       "output_type": "stream",
       "stream": "stdout",
       "text": [
        " http://www.simplymarry.com/matrimonial/bride/hydf1130901/Hindu/Reddy/Lalla\n",
        "762"
       ]
      },
      {
       "output_type": "stream",
       "stream": "stdout",
       "text": [
        " http://www.simplymarry.com/matrimonial/bride/chef1058331/Hindu/Reddy/Divya-Reddy\n",
        "763"
       ]
      },
      {
       "output_type": "stream",
       "stream": "stdout",
       "text": [
        " http://www.simplymarry.com/matrimonial/bride/hydf1141593/Hindu/Kshatriya/Sowjanya-M\n",
        "764"
       ]
      },
      {
       "output_type": "stream",
       "stream": "stdout",
       "text": [
        " http://www.simplymarry.com/matrimonial/bride/vijf1367215/Hindu/Brahmin-6000-Niyogi/Aruna-Goparaju\n",
        "765"
       ]
      },
      {
       "output_type": "stream",
       "stream": "stdout",
       "text": [
        " http://www.simplymarry.com/matrimonial/bride/mumf967915/Hindu/Kshatriya/Leena-Kumari\n",
        "766"
       ]
      },
      {
       "output_type": "stream",
       "stream": "stdout",
       "text": [
        " http://www.simplymarry.com/matrimonial/bride/SMM1436453/Hindu/Mudiraj/Mallishwari\n",
        "767"
       ]
      },
      {
       "output_type": "stream",
       "stream": "stdout",
       "text": [
        " http://www.simplymarry.com/matrimonial/bride/chif1332977/Hindu/Reddy/Sowmya-Reddyvari\n",
        "768"
       ]
      },
      {
       "output_type": "stream",
       "stream": "stdout",
       "text": [
        " http://www.simplymarry.com/matrimonial/bride/gunf782505/Hindu/Arya-Vysya/Modadugula-Nagasirisha\n",
        "769"
       ]
      },
      {
       "output_type": "stream",
       "stream": "stdout",
       "text": [
        " http://www.simplymarry.com/matrimonial/bride/hydf1334610/Hindu/Yadav/Sangeeta-Rawoola\n",
        "770"
       ]
      },
      {
       "output_type": "stream",
       "stream": "stdout",
       "text": [
        " http://www.simplymarry.com/matrimonial/bride/hydf1235651/Hindu/Reddy/Rajyalakshmi-Bandi\n",
        "771"
       ]
      },
      {
       "output_type": "stream",
       "stream": "stdout",
       "text": [
        " http://www.simplymarry.com/matrimonial/bride/anpf210626/Hindu/Brahmin-6000-Niyogi/Padmaja-Rani\n",
        "772"
       ]
      },
      {
       "output_type": "stream",
       "stream": "stdout",
       "text": [
        " http://www.simplymarry.com/matrimonial/bride/nagf1078445/Hindu/Naidu/Ritika-Naidu\n",
        "773"
       ]
      },
      {
       "output_type": "stream",
       "stream": "stdout",
       "text": [
        " http://www.simplymarry.com/matrimonial/bride/hydf1296879/Hindu/Kamma/Praveena-Chowdary\n",
        "774"
       ]
      },
      {
       "output_type": "stream",
       "stream": "stdout",
       "text": [
        " http://www.simplymarry.com/matrimonial/bride/SMF1424581/Hindu/Goud/Rajesh\n",
        "775"
       ]
      },
      {
       "output_type": "stream",
       "stream": "stdout",
       "text": [
        " http://www.simplymarry.com/matrimonial/bride/banf1332676/Hindu/Brahmin/Divya-Nanjunda\n",
        "776"
       ]
      },
      {
       "output_type": "stream",
       "stream": "stdout",
       "text": [
        " http://www.simplymarry.com/matrimonial/bride/banf1214699/Hindu/Adi-Dravida/Katamanchi-Archana\n",
        "777"
       ]
      },
      {
       "output_type": "stream",
       "stream": "stdout",
       "text": [
        " http://www.simplymarry.com/matrimonial/bride/anaf1282080/Hindu/Vysya/Padmasri-Ms\n",
        "778"
       ]
      },
      {
       "output_type": "stream",
       "stream": "stdout",
       "text": [
        " http://www.simplymarry.com/matrimonial/bride/chif1236926/Hindu/Brahmin/Harshini-V\n",
        "779"
       ]
      },
      {
       "output_type": "stream",
       "stream": "stdout",
       "text": [
        " http://www.simplymarry.com/matrimonial/bride/SMF1405664/Hindu/Lingayath/Kartika-Devarsetty\n",
        "780"
       ]
      },
      {
       "output_type": "stream",
       "stream": "stdout",
       "text": [
        " http://www.simplymarry.com/matrimonial/bride/chef1342280/Hindu/Vaishnav/Kranthi-V\n",
        "781"
       ]
      },
      {
       "output_type": "stream",
       "stream": "stdout",
       "text": [
        " http://www.simplymarry.com/matrimonial/bride/hydf937782/Hindu/Scheduled-Caste/Sunita-Sd\n",
        "782"
       ]
      },
      {
       "output_type": "stream",
       "stream": "stdout",
       "text": [
        " http://www.simplymarry.com/matrimonial/bride/chef600918/Hindu/Teli/Sankari-Sangeetha\n",
        "783"
       ]
      },
      {
       "output_type": "stream",
       "stream": "stdout",
       "text": [
        " http://www.simplymarry.com/matrimonial/bride/mumf458192/Hindu/Madhuri-R\n",
        "784"
       ]
      },
      {
       "output_type": "stream",
       "stream": "stdout",
       "text": [
        " http://www.simplymarry.com/matrimonial/bride/chef1339379/Hindu/Brahmin/Shrijayanthi-Jayanthi\n",
        "785"
       ]
      },
      {
       "output_type": "stream",
       "stream": "stdout",
       "text": [
        " http://www.simplymarry.com/matrimonial/bride/SMF1416909/Hindu/Velaan/Vellalar/Chammeru\n",
        "786"
       ]
      },
      {
       "output_type": "stream",
       "stream": "stdout",
       "text": [
        " http://www.simplymarry.com/matrimonial/bride/vijf1239098/Hindu/Arya-Vysya/Solleti-Padmaja\n",
        "787"
       ]
      },
      {
       "output_type": "stream",
       "stream": "stdout",
       "text": [
        " http://www.simplymarry.com/matrimonial/bride/SMF1414958/Hindu/Balija/Sailaja\n",
        "788"
       ]
      },
      {
       "output_type": "stream",
       "stream": "stdout",
       "text": [
        " http://www.simplymarry.com/matrimonial/bride/SMF1400463/Hindu/Brahmin/Srivalli-Usha-Kusuma\n",
        "789"
       ]
      },
      {
       "output_type": "stream",
       "stream": "stdout",
       "text": [
        " http://www.simplymarry.com/matrimonial/bride/SMM1397604/Hindu/Sourashtra/A\n",
        "790"
       ]
      },
      {
       "output_type": "stream",
       "stream": "stdout",
       "text": [
        " http://www.simplymarry.com/matrimonial/bride/secf1349021/Hindu/Vysya/Sharada-Chanda\n",
        "791"
       ]
      },
      {
       "output_type": "stream",
       "stream": "stdout",
       "text": [
        " http://www.simplymarry.com/matrimonial/bride/SMM1395871/Christian/Others/Cjyothi\n",
        "792"
       ]
      },
      {
       "output_type": "stream",
       "stream": "stdout",
       "text": [
        " http://www.simplymarry.com/matrimonial/bride/visf153134/Christian/Protestant/Jessie-Catherine\n",
        "793"
       ]
      },
      {
       "output_type": "stream",
       "stream": "stdout",
       "text": [
        " http://www.simplymarry.com/matrimonial/bride/visf1019591/Hindu/Brahmin/Madhavi-Malladi\n",
        "794"
       ]
      },
      {
       "output_type": "stream",
       "stream": "stdout",
       "text": [
        " http://www.simplymarry.com/matrimonial/bride/hydf781229/Hindu/Viswabrahmin/Rathna-Prabha\n",
        "795"
       ]
      },
      {
       "output_type": "stream",
       "stream": "stdout",
       "text": [
        " http://www.simplymarry.com/matrimonial/bride/kopf1029378/Hindu/Kamma/Karunamyakrupatyre-Koppal\n",
        "796"
       ]
      },
      {
       "output_type": "stream",
       "stream": "stdout",
       "text": [
        " http://www.simplymarry.com/matrimonial/bride/banf1209585/Hindu/Brahmin---Smartha/Srividya-Sharma\n",
        "797"
       ]
      },
      {
       "output_type": "stream",
       "stream": "stdout",
       "text": [
        " http://www.simplymarry.com/matrimonial/bride/SMF1401576/Christian/Sruthi\n",
        "798"
       ]
      },
      {
       "output_type": "stream",
       "stream": "stdout",
       "text": [
        " http://www.simplymarry.com/matrimonial/bride/hydf914107/Hindu/Arya-Vysya/Lavanya-Ch\n",
        "799"
       ]
      },
      {
       "output_type": "stream",
       "stream": "stdout",
       "text": [
        " http://www.simplymarry.com/matrimonial/bride/chef1299007/Hindu/Devandra-Kula-Vellalar/Karuparthi-Jayashree\n",
        "800"
       ]
      },
      {
       "output_type": "stream",
       "stream": "stdout",
       "text": [
        " http://www.simplymarry.com/matrimonial/bride/hydf934791/Christian/Others/Lovelyleolady\n",
        "801"
       ]
      },
      {
       "output_type": "stream",
       "stream": "stdout",
       "text": [
        " http://www.simplymarry.com/matrimonial/bride/hydf1235958/Hindu/Arya-Vysya/Sheetal-Sriram\n",
        "802"
       ]
      },
      {
       "output_type": "stream",
       "stream": "stdout",
       "text": [
        " http://www.simplymarry.com/matrimonial/bride/hydf1256859/Hindu/Madiga/Yamuna-N\n",
        "803"
       ]
      },
      {
       "output_type": "stream",
       "stream": "stdout",
       "text": [
        " http://www.simplymarry.com/matrimonial/bride/SMF1390953/Hindu/Kapu-Naidu/M-Wanishree-Dora\n",
        "804"
       ]
      },
      {
       "output_type": "stream",
       "stream": "stdout",
       "text": [
        " http://www.simplymarry.com/matrimonial/bride/anpf185969/Hindu/Scheduled-Caste/Nandini-Anandamaiprasad\n",
        "805"
       ]
      },
      {
       "output_type": "stream",
       "stream": "stdout",
       "text": [
        " http://www.simplymarry.com/matrimonial/bride/vijf1060185/Hindu/Viswabrahmin/Mvijay-Laxmi\n",
        "806"
       ]
      },
      {
       "output_type": "stream",
       "stream": "stdout",
       "text": [
        " http://www.simplymarry.com/matrimonial/bride/SWE_IITian/Hindu/Telugu/Swe_iitian\n",
        "807"
       ]
      },
      {
       "output_type": "stream",
       "stream": "stdout",
       "text": [
        " http://www.simplymarry.com/matrimonial/bride/ongf1254721/Hindu/Rajaka/Gayathri-Gudluru\n",
        "808"
       ]
      },
      {
       "output_type": "stream",
       "stream": "stdout",
       "text": [
        " http://www.simplymarry.com/matrimonial/bride/hydf1013111/Hindu/Goud/Kalal-Rajani\n",
        "809"
       ]
      },
      {
       "output_type": "stream",
       "stream": "stdout",
       "text": [
        " http://www.simplymarry.com/matrimonial/bride/anpf400009/Hindu/K-Malli\n",
        "810"
       ]
      },
      {
       "output_type": "stream",
       "stream": "stdout",
       "text": [
        " http://www.simplymarry.com/matrimonial/bride/gunf1226768/Hindu/Rajaka/Deepthi-Machavarapu\n",
        "811"
       ]
      },
      {
       "output_type": "stream",
       "stream": "stdout",
       "text": [
        " http://www.simplymarry.com/matrimonial/bride/mahf670631/Hindu/Telugu/Anuradha-Kokku\n",
        "812"
       ]
      },
      {
       "output_type": "stream",
       "stream": "stdout",
       "text": [
        " http://www.simplymarry.com/matrimonial/bride/hydf843336/Hindu/Naidu/Tanvi-Mansi\n",
        "813"
       ]
      },
      {
       "output_type": "stream",
       "stream": "stdout",
       "text": [
        " http://www.simplymarry.com/matrimonial/bride/hydf1169082/Hindu/Lingayath/Harika-Mundrathi\n",
        "814"
       ]
      },
      {
       "output_type": "stream",
       "stream": "stdout",
       "text": [
        " http://www.simplymarry.com/matrimonial/bride/kurf946908/Hindu/Mala/Chaithanya-Pratakota\n",
        "815"
       ]
      },
      {
       "output_type": "stream",
       "stream": "stdout",
       "text": [
        " http://www.simplymarry.com/matrimonial/bride/hydf856692/Hindu/Arya-Vysya/Padma-Priya\n",
        "816"
       ]
      },
      {
       "output_type": "stream",
       "stream": "stdout",
       "text": [
        " http://www.simplymarry.com/matrimonial/bride/SMF1457846/Hindu/Goud/Veeragoni-Ashok\n",
        "817"
       ]
      },
      {
       "output_type": "stream",
       "stream": "stdout",
       "text": [
        " http://www.simplymarry.com/matrimonial/bride/mahf1113950/Hindu/Valmiki/Radhika-Gaddameedi\n",
        "818"
       ]
      },
      {
       "output_type": "stream",
       "stream": "stdout",
       "text": [
        " http://www.simplymarry.com/matrimonial/bride/hydf407737/Hindu/Neha-Raj\n",
        "819"
       ]
      },
      {
       "output_type": "stream",
       "stream": "stdout",
       "text": [
        " http://www.simplymarry.com/matrimonial/bride/banf1068336/Hindu/Naidu/Ds-Jay\n",
        "820"
       ]
      },
      {
       "output_type": "stream",
       "stream": "stdout",
       "text": [
        " http://www.simplymarry.com/matrimonial/bride/hydf931247/Hindu/Brahmin-6000-Niyogi/Madhavi-Kundurthi\n",
        "821"
       ]
      },
      {
       "output_type": "stream",
       "stream": "stdout",
       "text": [
        " http://www.simplymarry.com/matrimonial/bride/x1402798/Hindu/Scheduled-Caste/Jai-Gopal\n",
        "822"
       ]
      },
      {
       "output_type": "stream",
       "stream": "stdout",
       "text": [
        " http://www.simplymarry.com/matrimonial/bride/chif1091863/Hindu/Kapu/Theja-Reddy\n",
        "823"
       ]
      },
      {
       "output_type": "stream",
       "stream": "stdout",
       "text": [
        " http://www.simplymarry.com/matrimonial/bride/visf1173611/Hindu/Brahmin/Vani-Voleti\n",
        "824"
       ]
      },
      {
       "output_type": "stream",
       "stream": "stdout",
       "text": [
        " http://www.simplymarry.com/matrimonial/bride/hydf876945/Hindu/Reddy/Radha-Reddy\n",
        "825"
       ]
      },
      {
       "output_type": "stream",
       "stream": "stdout",
       "text": [
        " http://www.simplymarry.com/matrimonial/bride/navf1032676/Hindu/Balija/Vijayshree-Naidu\n",
        "826"
       ]
      },
      {
       "output_type": "stream",
       "stream": "stdout",
       "text": [
        " http://www.simplymarry.com/matrimonial/bride/hydf1353379/Hindu/Kamma/Suchita-Rao\n",
        "827"
       ]
      },
      {
       "output_type": "stream",
       "stream": "stdout",
       "text": [
        " http://www.simplymarry.com/matrimonial/bride/mumf930369/Hindu/Padmasali/Ganesh-Mutta\n",
        "828"
       ]
      },
      {
       "output_type": "stream",
       "stream": "stdout",
       "text": [
        " http://www.simplymarry.com/matrimonial/bride/chef908024/Hindu/Adi-Dravida/Annapoorani-Munuswamy\n",
        "829"
       ]
      },
      {
       "output_type": "stream",
       "stream": "stdout",
       "text": [
        " http://www.simplymarry.com/matrimonial/bride/hydf903515/Hindu/Padmasali/Rajitha-Sadula\n",
        "830"
       ]
      },
      {
       "output_type": "stream",
       "stream": "stdout",
       "text": [
        " http://www.simplymarry.com/matrimonial/bride/banf1050186/Hindu/Valmiki/Hanusha-Bn\n",
        "831"
       ]
      },
      {
       "output_type": "stream",
       "stream": "stdout",
       "text": [
        " http://www.simplymarry.com/matrimonial/bride/hydf403931/Hindu/Singuri-Shirisha\n",
        "832"
       ]
      },
      {
       "output_type": "stream",
       "stream": "stdout",
       "text": [
        " http://www.simplymarry.com/matrimonial/bride/SMF1429802/Hindu/Reddy/Bayyareddy\n",
        "833"
       ]
      },
      {
       "output_type": "stream",
       "stream": "stdout",
       "text": [
        " http://www.simplymarry.com/matrimonial/bride/SMF1430629/Christian/Protestant/Sabarmathi\n",
        "834"
       ]
      },
      {
       "output_type": "stream",
       "stream": "stdout",
       "text": [
        " http://www.simplymarry.com/matrimonial/bride/SMF1429264/Hindu/Kapu/Shrreedevi\n",
        "835"
       ]
      },
      {
       "output_type": "stream",
       "stream": "stdout",
       "text": [
        " http://www.simplymarry.com/matrimonial/bride/kadf877897/Hindu/Balija/Anusha-S\n",
        "836"
       ]
      },
      {
       "output_type": "stream",
       "stream": "stdout",
       "text": [
        " http://www.simplymarry.com/matrimonial/bride/SMF1428270/Hindu/Yadav/Alpana\n",
        "837"
       ]
      },
      {
       "output_type": "stream",
       "stream": "stdout",
       "text": [
        " http://www.simplymarry.com/matrimonial/bride/mumf522660/Hindu/Scheduled-Caste/Suhasini-Gujjari\n",
        "838"
       ]
      },
      {
       "output_type": "stream",
       "stream": "stdout",
       "text": [
        " http://www.simplymarry.com/matrimonial/bride/SMF1426483/Hindu/Kapu/Nandhini\n",
        "839"
       ]
      },
      {
       "output_type": "stream",
       "stream": "stdout",
       "text": [
        " http://www.simplymarry.com/matrimonial/bride/hydf1314210/Hindu/Brahmin/Kota-surekha-Surekha\n",
        "840"
       ]
      },
      {
       "output_type": "stream",
       "stream": "stdout",
       "text": [
        " http://www.simplymarry.com/matrimonial/bride/anpf160052/Hindu/Madiga/Yella-Sarada\n",
        "841"
       ]
      },
      {
       "output_type": "stream",
       "stream": "stdout",
       "text": [
        " http://www.simplymarry.com/matrimonial/bride/SMF1425553/Hindu/Munnuru-Kapu/Abilasha\n",
        "842"
       ]
      },
      {
       "output_type": "stream",
       "stream": "stdout",
       "text": [
        " http://www.simplymarry.com/matrimonial/bride/coif593984/Hindu/Devandra-Kula-Vellalar/Vidya-Sankari\n",
        "843"
       ]
      },
      {
       "output_type": "stream",
       "stream": "stdout",
       "text": [
        " http://www.simplymarry.com/matrimonial/bride/SMF1420406/Hindu/Svy-Madhuri\n",
        "844"
       ]
      },
      {
       "output_type": "stream",
       "stream": "stdout",
       "text": [
        " http://www.simplymarry.com/matrimonial/bride/SMF1419727/Hindu/Brahmin/Shikha-Tiwari\n",
        "845"
       ]
      },
      {
       "output_type": "stream",
       "stream": "stdout",
       "text": [
        " http://www.simplymarry.com/matrimonial/bride/SMF1417354/Hindu/Viswabrahmin/Nirupama\n",
        "846"
       ]
      },
      {
       "output_type": "stream",
       "stream": "stdout",
       "text": [
        " http://www.simplymarry.com/matrimonial/bride/hydf792359/Hindu/Setti-Balija/Donga-Harini\n",
        "847"
       ]
      },
      {
       "output_type": "stream",
       "stream": "stdout",
       "text": [
        " http://www.simplymarry.com/matrimonial/bride/mumf982224/Hindu/Brahmin/Int-Party\n",
        "848"
       ]
      },
      {
       "output_type": "stream",
       "stream": "stdout",
       "text": [
        " http://www.simplymarry.com/matrimonial/bride/SMF1413724/Hindu/Padmasali/Srilakshmi-Indhukuri\n",
        "849"
       ]
      },
      {
       "output_type": "stream",
       "stream": "stdout",
       "text": [
        " http://www.simplymarry.com/matrimonial/bride/hydf1254668/Hindu/Reddy/Shireesha-Reddy\n",
        "850"
       ]
      },
      {
       "output_type": "stream",
       "stream": "stdout",
       "text": [
        " http://www.simplymarry.com/matrimonial/bride/SMF1412573/Hindu/Brahmin/K.sireesha\n",
        "851"
       ]
      },
      {
       "output_type": "stream",
       "stream": "stdout",
       "text": [
        " http://www.simplymarry.com/matrimonial/bride/SMF1411233/Hindu/Brahmin/Samyukta\n",
        "852"
       ]
      },
      {
       "output_type": "stream",
       "stream": "stdout",
       "text": [
        " http://www.simplymarry.com/matrimonial/bride/anpf639693/Hindu/Gowda/Gayathri-Devi\n",
        "853"
       ]
      },
      {
       "output_type": "stream",
       "stream": "stdout",
       "text": [
        " http://www.simplymarry.com/matrimonial/bride/SMF1397064/Christian/Others/Cjyothi\n",
        "854"
       ]
      },
      {
       "output_type": "stream",
       "stream": "stdout",
       "text": [
        " http://www.simplymarry.com/matrimonial/bride/visf329009/Hindu/Usha-Indira\n",
        "855"
       ]
      },
      {
       "output_type": "stream",
       "stream": "stdout",
       "text": [
        " http://www.simplymarry.com/matrimonial/bride/SMF1403887/Hindu/Yadav/Matchformysis\n",
        "856"
       ]
      },
      {
       "output_type": "stream",
       "stream": "stdout",
       "text": [
        " http://www.simplymarry.com/matrimonial/bride/othf597439/Hindu/Naidu/Sarala-Devi\n",
        "857"
       ]
      },
      {
       "output_type": "stream",
       "stream": "stdout",
       "text": [
        " http://www.simplymarry.com/matrimonial/bride/SMF1404912/Hindu/Brahmin-6000-Niyogi/Sravanthi\n",
        "858"
       ]
      },
      {
       "output_type": "stream",
       "stream": "stdout",
       "text": [
        " http://www.simplymarry.com/matrimonial/bride/banf1373485/Hindu/Balija/Neelima-Rao\n",
        "859"
       ]
      },
      {
       "output_type": "stream",
       "stream": "stdout",
       "text": [
        " http://www.simplymarry.com/matrimonial/bride/anpf459167/Hindu/Harika-Priya\n",
        "860"
       ]
      },
      {
       "output_type": "stream",
       "stream": "stdout",
       "text": [
        " http://www.simplymarry.com/matrimonial/bride/karf1382348/Hindu/Yadav/Kodishala-Venkatalakshmi\n",
        "861"
       ]
      },
      {
       "output_type": "stream",
       "stream": "stdout",
       "text": [
        " http://www.simplymarry.com/matrimonial/bride/hydf1380987/Hindu/Reddy/Chand-Vij\n",
        "862"
       ]
      },
      {
       "output_type": "stream",
       "stream": "stdout",
       "text": [
        " http://www.simplymarry.com/matrimonial/bride/kurf1384180/Hindu/Kamma/Salakkagari-Venkateswarlu\n",
        "863"
       ]
      },
      {
       "output_type": "stream",
       "stream": "stdout",
       "text": [
        " http://www.simplymarry.com/matrimonial/bride/chif1381283/Hindu/Barujibi/Swapna-Pavan\n",
        "864"
       ]
      },
      {
       "output_type": "stream",
       "stream": "stdout",
       "text": [
        " http://www.simplymarry.com/matrimonial/bride/SMF1398281/Hindu/Brahmin---Niyogi/Satya\n",
        "865"
       ]
      },
      {
       "output_type": "stream",
       "stream": "stdout",
       "text": [
        " http://www.simplymarry.com/matrimonial/bride/hydf1373184/Hindu/Goud/Sneha-Goud\n",
        "866"
       ]
      },
      {
       "output_type": "stream",
       "stream": "stdout",
       "text": [
        " http://www.simplymarry.com/matrimonial/bride/SMF1395747/Hindu/Togata/Surekha\n",
        "867"
       ]
      },
      {
       "output_type": "stream",
       "stream": "stdout",
       "text": [
        " http://www.simplymarry.com/matrimonial/bride/punf1382846/Hindu/Madiga/Neeta-Chandraigir\n",
        "868"
       ]
      },
      {
       "output_type": "stream",
       "stream": "stdout",
       "text": [
        " http://www.simplymarry.com/matrimonial/bride/nizf1373508/Hindu/Besta/Pooja-Padam\n",
        "869"
       ]
      },
      {
       "output_type": "stream",
       "stream": "stdout",
       "text": [
        " http://www.simplymarry.com/matrimonial/bride/banf1382123/Hindu/Vishwakarma/Jamunarani-Rani\n",
        "870"
       ]
      },
      {
       "output_type": "stream",
       "stream": "stdout",
       "text": [
        " http://www.simplymarry.com/matrimonial/bride/anpf163331/Hindu/Kapu/Vidyulatharane-Mallipudi\n",
        "871"
       ]
      },
      {
       "output_type": "stream",
       "stream": "stdout",
       "text": [
        " http://www.simplymarry.com/matrimonial/bride/secf1360492/Hindu/Vaishnav/Aishwarya-Komandur\n",
        "872"
       ]
      },
      {
       "output_type": "stream",
       "stream": "stdout",
       "text": [
        " http://www.simplymarry.com/matrimonial/bride/jamf1374301/Hindu/Kapu/Rayolu-Vijaya\n",
        "873"
       ]
      },
      {
       "output_type": "stream",
       "stream": "stdout",
       "text": [
        " http://www.simplymarry.com/matrimonial/bride/hydf1380454/Hindu/Kapu/Later-A\n",
        "874"
       ]
      },
      {
       "output_type": "stream",
       "stream": "stdout",
       "text": [
        " http://www.simplymarry.com/matrimonial/bride/vizf1382179/Hindu/Devandra-Kula-Vellalar/Kusumakumari-Dora\n",
        "875"
       ]
      },
      {
       "output_type": "stream",
       "stream": "stdout",
       "text": [
        " http://www.simplymarry.com/matrimonial/bride/hydf1372477/Hindu/Padmasali/Meenakshi-Meenakshi\n",
        "876"
       ]
      },
      {
       "output_type": "stream",
       "stream": "stdout",
       "text": [
        " http://www.simplymarry.com/matrimonial/bride/anpf652205/Hindu/Kapu-Naidu/Ikkurthi-Kalyani\n",
        "877"
       ]
      },
      {
       "output_type": "stream",
       "stream": "stdout",
       "text": [
        " http://www.simplymarry.com/matrimonial/bride/kakf1376666/Hindu/Kamma/Sruthi-Karuturi\n",
        "878"
       ]
      },
      {
       "output_type": "stream",
       "stream": "stdout",
       "text": [
        " http://www.simplymarry.com/matrimonial/bride/hydf1359871/Christian/Protestant/Elizabeth-Rapaka\n",
        "879"
       ]
      },
      {
       "output_type": "stream",
       "stream": "stdout",
       "text": [
        " http://www.simplymarry.com/matrimonial/bride/noif1364241/Hindu/Brahmin-6000-Niyogi/Pavitra-Raman\n",
        "880"
       ]
      },
      {
       "output_type": "stream",
       "stream": "stdout",
       "text": [
        " http://www.simplymarry.com/matrimonial/bride/SMF1390930/Hindu/Yadav/Manasa\n",
        "881"
       ]
      },
      {
       "output_type": "stream",
       "stream": "stdout",
       "text": [
        " http://www.simplymarry.com/matrimonial/bride/velf1381559/Hindu/Gavara/Sumathi-Velan\n",
        "882"
       ]
      },
      {
       "output_type": "stream",
       "stream": "stdout",
       "text": [
        " http://www.simplymarry.com/matrimonial/bride/SMF1390101/Hindu/Scheduled-Caste/Archana-Menon\n",
        "883"
       ]
      },
      {
       "output_type": "stream",
       "stream": "stdout",
       "text": [
        " http://www.simplymarry.com/matrimonial/bride/hydf1383953/Hindu/Brahmin-6000-Niyogi/Roopa-Ramya\n",
        "884"
       ]
      },
      {
       "output_type": "stream",
       "stream": "stdout",
       "text": [
        " http://www.simplymarry.com/matrimonial/bride/chef1363923/Hindu/Telugu/Sai-Theja\n",
        "885"
       ]
      },
      {
       "output_type": "stream",
       "stream": "stdout",
       "text": [
        " http://www.simplymarry.com/matrimonial/bride/SMF1388514/Hindu/Kriss\n",
        "886"
       ]
      },
      {
       "output_type": "stream",
       "stream": "stdout",
       "text": [
        " http://www.simplymarry.com/matrimonial/bride/kurf1348453/Hindu/Madiga/Anu-Radha\n",
        "887"
       ]
      },
      {
       "output_type": "stream",
       "stream": "stdout",
       "text": [
        " http://www.simplymarry.com/matrimonial/bride/coif1336618/Hindu/Devandra-Kula-Vellalar/Sindhoori-Selvaraj\n",
        "888"
       ]
      },
      {
       "output_type": "stream",
       "stream": "stdout",
       "text": [
        " http://www.simplymarry.com/matrimonial/bride/chef1385220/Hindu/Brahmin---Telugu/Rhamya-Sudhakar\n",
        "889"
       ]
      },
      {
       "output_type": "stream",
       "stream": "stdout",
       "text": [
        " http://www.simplymarry.com/matrimonial/bride/hydf1385036/Hindu/Brahmin/Later-Last-name\n",
        "890"
       ]
      },
      {
       "output_type": "stream",
       "stream": "stdout",
       "text": [
        " http://www.simplymarry.com/matrimonial/bride/hydf1385180/Hindu/Reddy/Raji-Raji\n",
        "891"
       ]
      },
      {
       "output_type": "stream",
       "stream": "stdout",
       "text": [
        " http://www.simplymarry.com/matrimonial/bride/chif1376320/Hindu/Scheduled-Caste/Gudisa-Shivani\n",
        "892"
       ]
      },
      {
       "output_type": "stream",
       "stream": "stdout",
       "text": [
        " http://www.simplymarry.com/matrimonial/bride/visf1384712/Hindu/Brahmin/Isha-Isha\n",
        "893"
       ]
      },
      {
       "output_type": "stream",
       "stream": "stdout",
       "text": [
        " http://www.simplymarry.com/matrimonial/bride/coif1384978/Hindu/Balija/Kothainayaki-Manokaran\n",
        "894"
       ]
      },
      {
       "output_type": "stream",
       "stream": "stdout",
       "text": [
        " http://www.simplymarry.com/matrimonial/bride/hydf1384280/Hindu/Kamma/Kiran-Leta\n",
        "895"
       ]
      },
      {
       "output_type": "stream",
       "stream": "stdout",
       "text": [
        " http://www.simplymarry.com/matrimonial/bride/gunf1370775/Hindu/Gowda/Swathi-Peeta\n",
        "896"
       ]
      },
      {
       "output_type": "stream",
       "stream": "stdout",
       "text": [
        " http://www.simplymarry.com/matrimonial/bride/nelf1383863/Hindu/Reddy/Dimmer-Dmlska\n",
        "897"
       ]
      },
      {
       "output_type": "stream",
       "stream": "stdout",
       "text": [
        " http://www.simplymarry.com/matrimonial/bride/vijf1372316/Hindu/Kapu/Balatripurasundari-Tripurasundari\n",
        "898"
       ]
      },
      {
       "output_type": "stream",
       "stream": "stdout",
       "text": [
        " http://www.simplymarry.com/matrimonial/bride/gunf1315558/Hindu/Telugu/Vineela-Venigandla\n",
        "899"
       ]
      },
      {
       "output_type": "stream",
       "stream": "stdout",
       "text": [
        " http://www.simplymarry.com/matrimonial/bride/kolf1383463/Hindu/Brahmin/Guru-Narayan\n",
        "900"
       ]
      },
      {
       "output_type": "stream",
       "stream": "stdout",
       "text": [
        " http://www.simplymarry.com/matrimonial/bride/hubf1374187/Hindu/Scheduled-Caste/Rekha-Gadag\n",
        "901"
       ]
      },
      {
       "output_type": "stream",
       "stream": "stdout",
       "text": [
        " http://www.simplymarry.com/matrimonial/bride/hydf1375237/Hindu/Reddy/Suneetha-Reddy\n",
        "902"
       ]
      },
      {
       "output_type": "stream",
       "stream": "stdout",
       "text": [
        " http://www.simplymarry.com/matrimonial/bride/karf1383251/Hindu/Arya-Vysya/Kolipaka-Shravani\n",
        "903"
       ]
      },
      {
       "output_type": "stream",
       "stream": "stdout",
       "text": [
        " http://www.simplymarry.com/matrimonial/bride/karf1383117/Hindu/Mudiraj/Thippanaboina-Sabitha\n",
        "904"
       ]
      },
      {
       "output_type": "stream",
       "stream": "stdout",
       "text": [
        " http://www.simplymarry.com/matrimonial/bride/hydf1348915/Hindu/Kshatriya/Kavitha-R\n",
        "905"
       ]
      },
      {
       "output_type": "stream",
       "stream": "stdout",
       "text": [
        " http://www.simplymarry.com/matrimonial/bride/hydf1378340/Hindu/Balija/Priya-Darshini\n",
        "906"
       ]
      },
      {
       "output_type": "stream",
       "stream": "stdout",
       "text": [
        " http://www.simplymarry.com/matrimonial/bride/hydf1382135/Hindu/Kumaoni/Naga-Laxmi\n",
        "907"
       ]
      },
      {
       "output_type": "stream",
       "stream": "stdout",
       "text": [
        " http://www.simplymarry.com/matrimonial/bride/kamf1379420/Hindu/Goud/Ponnam-Lavanya\n",
        "908"
       ]
      },
      {
       "output_type": "stream",
       "stream": "stdout",
       "text": [
        " http://www.simplymarry.com/matrimonial/bride/nelf1381678/Hindu/Scheduled-Tribe/Saroja-Bhargavi\n",
        "909"
       ]
      },
      {
       "output_type": "stream",
       "stream": "stdout",
       "text": [
        " http://www.simplymarry.com/matrimonial/bride/karf1382316/Hindu/Yadav/Archana-D\n",
        "910"
       ]
      },
      {
       "output_type": "stream",
       "stream": "stdout",
       "text": [
        " http://www.simplymarry.com/matrimonial/bride/chif1382013/Hindu/Setti-Balija/Lavanya-Lavanya\n",
        "911"
       ]
      },
      {
       "output_type": "stream",
       "stream": "stdout",
       "text": [
        " http://www.simplymarry.com/matrimonial/bride/banf1324907/Hindu/Naidu/Vani-Sree\n",
        "912"
       ]
      },
      {
       "output_type": "stream",
       "stream": "stdout",
       "text": [
        " http://www.simplymarry.com/matrimonial/bride/hydf1380718/Hindu/Padmasali/Shree-M\n",
        "913"
       ]
      },
      {
       "output_type": "stream",
       "stream": "stdout",
       "text": [
        " http://www.simplymarry.com/matrimonial/bride/banf1331180/Hindu/Balija/Pyapalli-Srilakshmi\n",
        "914"
       ]
      },
      {
       "output_type": "stream",
       "stream": "stdout",
       "text": [
        " http://www.simplymarry.com/matrimonial/bride/banf1381653/Hindu/Balija/Venkataramana-K\n",
        "915"
       ]
      },
      {
       "output_type": "stream",
       "stream": "stdout",
       "text": [
        " http://www.simplymarry.com/matrimonial/bride/visf1381819/Hindu/Devandra-Kula-Vellalar/Sharmila-Last-name\n",
        "916"
       ]
      },
      {
       "output_type": "stream",
       "stream": "stdout",
       "text": [
        " http://www.simplymarry.com/matrimonial/bride/kopf1323194/Hindu/Ganiga/Megha-Meghana\n",
        "917"
       ]
      },
      {
       "output_type": "stream",
       "stream": "stdout",
       "text": [
        " http://www.simplymarry.com/matrimonial/bride/nalf1381338/Hindu/Scheduled-Caste/Kiransanju-Kiransanju\n",
        "918"
       ]
      },
      {
       "output_type": "stream",
       "stream": "stdout",
       "text": [
        " http://www.simplymarry.com/matrimonial/bride/hydf1381301/Hindu/Kapu/Later-Later\n",
        "919"
       ]
      },
      {
       "output_type": "stream",
       "stream": "stdout",
       "text": [
        " http://www.simplymarry.com/matrimonial/bride/velf1381323/Hindu/Mudaliar---Senguntha/Shanthi-Loganathan\n",
        "920"
       ]
      },
      {
       "output_type": "stream",
       "stream": "stdout",
       "text": [
        " http://www.simplymarry.com/matrimonial/bride/mumf1379480/Hindu/Balija/Balija-Naidu\n",
        "921"
       ]
      },
      {
       "output_type": "stream",
       "stream": "stdout",
       "text": [
        " http://www.simplymarry.com/matrimonial/bride/punf1336766/Hindu/Padmasali/Sunita-Pitta\n",
        "922"
       ]
      },
      {
       "output_type": "stream",
       "stream": "stdout",
       "text": [
        " http://www.simplymarry.com/matrimonial/bride/secf1380399/Hindu/Padmasali/Sridevi-Tumma\n",
        "923"
       ]
      },
      {
       "output_type": "stream",
       "stream": "stdout",
       "text": [
        " http://www.simplymarry.com/matrimonial/bride/mumf1350892/Hindu/Meru-Darji/Savita-Marchetty\n",
        "924"
       ]
      },
      {
       "output_type": "stream",
       "stream": "stdout",
       "text": [
        " http://www.simplymarry.com/matrimonial/bride/karf1380441/Hindu/Arya-Vysya/Sunitha-Sunitha\n",
        "925"
       ]
      },
      {
       "output_type": "stream",
       "stream": "stdout",
       "text": [
        " http://www.simplymarry.com/matrimonial/bride/hydf1380135/Hindu/Vaddera/Deepthi-Magam\n",
        "926"
       ]
      },
      {
       "output_type": "stream",
       "stream": "stdout",
       "text": [
        " http://www.simplymarry.com/matrimonial/bride/anpf1380028/Hindu/Kamma/Mogallapu-Sudha\n",
        "927"
       ]
      },
      {
       "output_type": "stream",
       "stream": "stdout",
       "text": [
        " http://www.simplymarry.com/matrimonial/bride/banf1379248/Hindu/Telugu/Anju-V\n",
        "928"
       ]
      },
      {
       "output_type": "stream",
       "stream": "stdout",
       "text": [
        " http://www.simplymarry.com/matrimonial/bride/mumf1294408/Hindu/Telugu/Maheshwari-Gummapu\n",
        "929"
       ]
      },
      {
       "output_type": "stream",
       "stream": "stdout",
       "text": [
        " http://www.simplymarry.com/matrimonial/bride/hydf1379636/Hindu/Vaddera/Deepthi-Magam\n",
        "930"
       ]
      },
      {
       "output_type": "stream",
       "stream": "stdout",
       "text": [
        " http://www.simplymarry.com/matrimonial/bride/chef1379316/Hindu/Yadav/Lalitha-Lakshimipathi\n",
        "931"
       ]
      },
      {
       "output_type": "stream",
       "stream": "stdout",
       "text": [
        " http://www.simplymarry.com/matrimonial/bride/hydf1379246/Hindu/Reddy/Sneha-Reddy\n",
        "932"
       ]
      },
      {
       "output_type": "stream",
       "stream": "stdout",
       "text": [
        " http://www.simplymarry.com/matrimonial/bride/hydf1379464/Hindu/Yadav/Later-Akula\n",
        "933"
       ]
      },
      {
       "output_type": "stream",
       "stream": "stdout",
       "text": [
        " http://www.simplymarry.com/matrimonial/bride/hydf1379537/Hindu/OBC/Barber/Naayee/Rashmi-Mishra\n",
        "934"
       ]
      },
      {
       "output_type": "stream",
       "stream": "stdout",
       "text": [
        " http://www.simplymarry.com/matrimonial/bride/hydf1379311/Hindu/Brahmin-6000-Niyogi/Praneta-Rao\n",
        "935"
       ]
      },
      {
       "output_type": "stream",
       "stream": "stdout",
       "text": [
        " http://www.simplymarry.com/matrimonial/bride/chef1378990/Hindu/Balija/Sujani-Thota\n",
        "936"
       ]
      },
      {
       "output_type": "stream",
       "stream": "stdout",
       "text": [
        " http://www.simplymarry.com/matrimonial/bride/chef1378836/Hindu/Kalinga/Harika-Korada\n",
        "937"
       ]
      },
      {
       "output_type": "stream",
       "stream": "stdout",
       "text": [
        " http://www.simplymarry.com/matrimonial/bride/hydf1290560/Hindu/Arya-Vysya/P-Chendrakala\n",
        "938"
       ]
      },
      {
       "output_type": "stream",
       "stream": "stdout",
       "text": [
        " http://www.simplymarry.com/matrimonial/bride/hydf1378502/Hindu/Brahmin-6000-Niyogi/Gade-Hasanthi\n",
        "939"
       ]
      },
      {
       "output_type": "stream",
       "stream": "stdout",
       "text": [
        " http://www.simplymarry.com/matrimonial/bride/kadf1378671/Hindu/Lubana/Jally-Umamaheswari\n",
        "940"
       ]
      },
      {
       "output_type": "stream",
       "stream": "stdout",
       "text": [
        " http://www.simplymarry.com/matrimonial/bride/kurf1372097/Hindu/Reddy/Byreddy-Sirisha\n",
        "941"
       ]
      },
      {
       "output_type": "stream",
       "stream": "stdout",
       "text": [
        " http://www.simplymarry.com/matrimonial/bride/hydf1375699/Hindu/Reddy/Dn-Reddy\n",
        "942"
       ]
      },
      {
       "output_type": "stream",
       "stream": "stdout",
       "text": [
        " http://www.simplymarry.com/matrimonial/bride/x1476013/Hindu/Telugu/Rr-Reddy\n",
        "943"
       ]
      },
      {
       "output_type": "stream",
       "stream": "stdout",
       "text": [
        " http://www.simplymarry.com/matrimonial/bride/gunf1378192/Hindu/Kshatriya/Kollati-Nagalaksh,i\n",
        "944"
       ]
      },
      {
       "output_type": "stream",
       "stream": "stdout",
       "text": [
        " http://www.simplymarry.com/matrimonial/bride/visf1372263/Hindu/Brahmin/Suchitra-Veluvarthi\n",
        "945"
       ]
      },
      {
       "output_type": "stream",
       "stream": "stdout",
       "text": [
        " http://www.simplymarry.com/matrimonial/bride/chef1368929/Hindu/Brahmin-6000-Niyogi/Prashanthi-Iduri\n",
        "946"
       ]
      },
      {
       "output_type": "stream",
       "stream": "stdout",
       "text": [
        " http://www.simplymarry.com/matrimonial/bride/kakf1377852/Hindu/Kapu/Mrudula-Naraharisetti\n",
        "947"
       ]
      },
      {
       "output_type": "stream",
       "stream": "stdout",
       "text": [
        " http://www.simplymarry.com/matrimonial/bride/chef1377580/Hindu/Vishwakarma/Sabarinathbabu-Murugesan\n",
        "948"
       ]
      },
      {
       "output_type": "stream",
       "stream": "stdout",
       "text": [
        " http://www.simplymarry.com/matrimonial/bride/hydf1377488/Hindu/Brahmin/Rupa-Santhoshi\n",
        "949"
       ]
      },
      {
       "output_type": "stream",
       "stream": "stdout",
       "text": [
        " http://www.simplymarry.com/matrimonial/bride/chef1377634/Hindu/Telugu/Sumithra-Narayanasamy\n",
        "950"
       ]
      },
      {
       "output_type": "stream",
       "stream": "stdout",
       "text": [
        " http://www.simplymarry.com/matrimonial/bride/ongf1347606/Hindu/Brahmin-6000-Niyogi/Suvarnalaxmi-Turamella\n",
        "951"
       ]
      },
      {
       "output_type": "stream",
       "stream": "stdout",
       "text": [
        " http://www.simplymarry.com/matrimonial/bride/hydf1376930/Hindu/Vysya/Saritha-K\n",
        "952"
       ]
      },
      {
       "output_type": "stream",
       "stream": "stdout",
       "text": [
        " http://www.simplymarry.com/matrimonial/bride/hydf1376948/Hindu/Vysya/K-Saritha\n",
        "953"
       ]
      },
      {
       "output_type": "stream",
       "stream": "stdout",
       "text": [
        " http://www.simplymarry.com/matrimonial/bride/delf1285850/Hindu/Brahmin-6000-Niyogi/Deepthi-Sharma\n",
        "954"
       ]
      },
      {
       "output_type": "stream",
       "stream": "stdout",
       "text": [
        " http://www.simplymarry.com/matrimonial/bride/hydf1376110/Hindu/Brahmin---Madhwa/Tulasi-Bakshi\n",
        "955"
       ]
      },
      {
       "output_type": "stream",
       "stream": "stdout",
       "text": [
        " http://www.simplymarry.com/matrimonial/bride/warf1376227/Hindu/Velama/Yerrabelli-Preethi\n",
        "956"
       ]
      },
      {
       "output_type": "stream",
       "stream": "stdout",
       "text": [
        " http://www.simplymarry.com/matrimonial/bride/visf1376164/Hindu/Arya-Vysya/Kvn-Raani\n",
        "957"
       ]
      },
      {
       "output_type": "stream",
       "stream": "stdout",
       "text": [
        " http://www.simplymarry.com/matrimonial/bride/macf1376523/Hindu/Arya-Vysya/Desu-Satyapriya\n",
        "958"
       ]
      },
      {
       "output_type": "stream",
       "stream": "stdout",
       "text": [
        " http://www.simplymarry.com/matrimonial/bride/srif1337410/Christian/Others/Bhavya-Thota\n",
        "959"
       ]
      },
      {
       "output_type": "stream",
       "stream": "stdout",
       "text": [
        " http://www.simplymarry.com/matrimonial/bride/visf1376054/Hindu/Arya-Vysya/Kvn-Raani\n",
        "960"
       ]
      },
      {
       "output_type": "stream",
       "stream": "stdout",
       "text": [
        " http://www.simplymarry.com/matrimonial/bride/hydf1364688/Hindu/Brahmin-6000-Niyogi/Gnk-Gnk\n",
        "961"
       ]
      },
      {
       "output_type": "stream",
       "stream": "stdout",
       "text": [
        " http://www.simplymarry.com/matrimonial/bride/chef1351962/Hindu/Kamma/Breeze-Nj\n",
        "962"
       ]
      },
      {
       "output_type": "stream",
       "stream": "stdout",
       "text": [
        " http://www.simplymarry.com/matrimonial/bride/coif1343904/Hindu/Naidu/Anusha-Prabakaran\n",
        "963"
       ]
      },
      {
       "output_type": "stream",
       "stream": "stdout",
       "text": [
        " http://www.simplymarry.com/matrimonial/bride/banf1375158/Hindu/Naidu/Kokila-Mp\n",
        "964"
       ]
      },
      {
       "output_type": "stream",
       "stream": "stdout",
       "text": [
        " http://www.simplymarry.com/matrimonial/bride/x1471658/Hindu/Balija/Vineeta-Naidu\n",
        "965"
       ]
      },
      {
       "output_type": "stream",
       "stream": "stdout",
       "text": [
        " http://www.simplymarry.com/matrimonial/bride/tirf1375519/Hindu/Naidu/Savithiri-Thiya\n",
        "966"
       ]
      },
      {
       "output_type": "stream",
       "stream": "stdout",
       "text": [
        " http://www.simplymarry.com/matrimonial/bride/gunf1375716/Hindu/Brahmin/Keertika-Sarma\n",
        "967"
       ]
      },
      {
       "output_type": "stream",
       "stream": "stdout",
       "text": [
        " http://www.simplymarry.com/matrimonial/bride/virf1375523/Hindu/Reddy/Nanthini-C\n",
        "968"
       ]
      },
      {
       "output_type": "stream",
       "stream": "stdout",
       "text": [
        " http://www.simplymarry.com/matrimonial/bride/hydf1373899/Hindu/Brahmin-6000-Niyogi/Anusha-R\n",
        "969"
       ]
      },
      {
       "output_type": "stream",
       "stream": "stdout",
       "text": [
        " http://www.simplymarry.com/matrimonial/bride/punf1375273/Hindu/Telugu/Aparna-Chinchane\n",
        "970"
       ]
      },
      {
       "output_type": "stream",
       "stream": "stdout",
       "text": [
        " http://www.simplymarry.com/matrimonial/bride/banf1375435/Hindu/Yadav/Smruthi-Yadav\n",
        "971"
       ]
      },
      {
       "output_type": "stream",
       "stream": "stdout",
       "text": [
        " http://www.simplymarry.com/matrimonial/bride/x1369661/Hindu/Balija/F-F\n",
        "972"
       ]
      },
      {
       "output_type": "stream",
       "stream": "stdout",
       "text": [
        " http://www.simplymarry.com/matrimonial/bride/hydf1321310/Hindu/Munnuru-Kapu/Geetha-Seelam\n",
        "973"
       ]
      },
      {
       "output_type": "stream",
       "stream": "stdout",
       "text": [
        " http://www.simplymarry.com/matrimonial/bride/hydf1351778/Hindu/Gandla/Ss-Dreamss\n",
        "974"
       ]
      },
      {
       "output_type": "stream",
       "stream": "stdout",
       "text": [
        " http://www.simplymarry.com/matrimonial/bride/banf1309264/Hindu/Bhandari/Asha-Raghavendra\n",
        "975"
       ]
      },
      {
       "output_type": "stream",
       "stream": "stdout",
       "text": [
        " http://www.simplymarry.com/matrimonial/bride/eluf1373758/Hindu/Naidu/Srilakshmi-Sri\n",
        "976"
       ]
      },
      {
       "output_type": "stream",
       "stream": "stdout",
       "text": [
        " http://www.simplymarry.com/matrimonial/bride/delf1373997/Hindu/Brahmin/Sreenivasakartika-Seshagurulu\n",
        "977"
       ]
      },
      {
       "output_type": "stream",
       "stream": "stdout",
       "text": [
        " http://www.simplymarry.com/matrimonial/bride/mumf1373834/Hindu/Brahmin/Swaminathan-Kuppuswami\n",
        "978"
       ]
      },
      {
       "output_type": "stream",
       "stream": "stdout",
       "text": [
        " http://www.simplymarry.com/matrimonial/bride/chef1373668/Hindu/Velama/Anu-Anu\n",
        "979"
       ]
      },
      {
       "output_type": "stream",
       "stream": "stdout",
       "text": [
        " http://www.simplymarry.com/matrimonial/bride/hydf1373974/Hindu/Telugu/Gaya-Babu\n",
        "980"
       ]
      },
      {
       "output_type": "stream",
       "stream": "stdout",
       "text": [
        " http://www.simplymarry.com/matrimonial/bride/chef1373325/Hindu/Velama/Rohini-Last-name\n",
        "981"
       ]
      },
      {
       "output_type": "stream",
       "stream": "stdout",
       "text": [
        " http://www.simplymarry.com/matrimonial/bride/mumf1363897/Hindu/Kapu/Geeta-Salla\n",
        "982"
       ]
      },
      {
       "output_type": "stream",
       "stream": "stdout",
       "text": [
        " http://www.simplymarry.com/matrimonial/bride/hydf1315827/Hindu/Kapu/Jamuna-Mangalagiri\n",
        "983"
       ]
      },
      {
       "output_type": "stream",
       "stream": "stdout",
       "text": [
        " http://www.simplymarry.com/matrimonial/bride/hydf1328411/Hindu/Vaddera/Vinati-Kumar\n",
        "984"
       ]
      },
      {
       "output_type": "stream",
       "stream": "stdout",
       "text": [
        " http://www.simplymarry.com/matrimonial/bride/chef1372921/Hindu/Arunthathiyar/Rohini-Kumar\n",
        "985"
       ]
      },
      {
       "output_type": "stream",
       "stream": "stdout",
       "text": [
        " http://www.simplymarry.com/matrimonial/bride/hydf1373160/Hindu/Brahmin/Running-Around\n",
        "986"
       ]
      },
      {
       "output_type": "stream",
       "stream": "stdout",
       "text": [
        " http://www.simplymarry.com/matrimonial/bride/gunf1308149/Hindu/Naidu/Lavanya-Venkat\n",
        "987"
       ]
      },
      {
       "output_type": "stream",
       "stream": "stdout",
       "text": [
        " http://www.simplymarry.com/matrimonial/bride/banf1372704/Hindu/Kamma/Navyaa-Vr\n",
        "988"
       ]
      },
      {
       "output_type": "stream",
       "stream": "stdout",
       "text": [
        " http://www.simplymarry.com/matrimonial/bride/chef1372271/Hindu/Kamma/Veena-Varalakshmi\n",
        "989"
       ]
      },
      {
       "output_type": "stream",
       "stream": "stdout",
       "text": [
        " http://www.simplymarry.com/matrimonial/bride/anpf1372430/Hindu/Padmasali/Kanakamahalakshmi-Madimi\n",
        "990"
       ]
      },
      {
       "output_type": "stream",
       "stream": "stdout",
       "text": [
        " http://www.simplymarry.com/matrimonial/bride/kakf1339250/Hindu/Reddy/Vanga-Neelima\n",
        "991"
       ]
      },
      {
       "output_type": "stream",
       "stream": "stdout",
       "text": [
        " http://www.simplymarry.com/matrimonial/bride/punf1268360/Hindu/Madiga/Rani-Myageri\n",
        "992"
       ]
      },
      {
       "output_type": "stream",
       "stream": "stdout",
       "text": [
        " http://www.simplymarry.com/matrimonial/bride/chef1372012/Hindu/Balija/Lavan-Babu\n",
        "993"
       ]
      },
      {
       "output_type": "stream",
       "stream": "stdout",
       "text": [
        " http://www.simplymarry.com/matrimonial/bride/hydf1371937/Hindu/Velama/Sampada-Gollu\n",
        "994"
       ]
      },
      {
       "output_type": "stream",
       "stream": "stdout",
       "text": [
        " http://www.simplymarry.com/matrimonial/bride/shmf1163443/Hindu/Arya-Vysya/Its-Me\n",
        "995"
       ]
      },
      {
       "output_type": "stream",
       "stream": "stdout",
       "text": [
        " http://www.simplymarry.com/matrimonial/bride/warf1369193/Hindu/Kamma/Siri-Siri\n",
        "996"
       ]
      },
      {
       "output_type": "stream",
       "stream": "stdout",
       "text": [
        " http://www.simplymarry.com/matrimonial/bride/hydf1355938/Hindu/Telaga/Suchi-Teegala\n",
        "997"
       ]
      },
      {
       "output_type": "stream",
       "stream": "stdout",
       "text": [
        " http://www.simplymarry.com/matrimonial/bride/chef1273874/Hindu/Reddy/Hemalatha-Loganathan\n",
        "998"
       ]
      },
      {
       "output_type": "stream",
       "stream": "stdout",
       "text": [
        " http://www.simplymarry.com/matrimonial/bride/banf1371617/Hindu/Rajaka/Yashoda-Venkataswamy\n",
        "999"
       ]
      },
      {
       "output_type": "stream",
       "stream": "stdout",
       "text": [
        " http://www.simplymarry.com/matrimonial/bride/banf1371658/Hindu/Balija/Guderu-Anitha\n",
        "1000"
       ]
      },
      {
       "output_type": "stream",
       "stream": "stdout",
       "text": [
        " http://www.simplymarry.com/matrimonial/bride/punf1362610/Hindu/Brahmin/Subha-B\n",
        "1001"
       ]
      },
      {
       "output_type": "stream",
       "stream": "stdout",
       "text": [
        " http://www.simplymarry.com/matrimonial/bride/hydf1335147/Hindu/Brahmin-6000-Niyogi/Prasanna-Sahasra\n",
        "1002"
       ]
      },
      {
       "output_type": "stream",
       "stream": "stdout",
       "text": [
        " http://www.simplymarry.com/matrimonial/bride/punf1267723/Hindu/Yadav/Brahmin-Girl\n",
        "1003"
       ]
      },
      {
       "output_type": "stream",
       "stream": "stdout",
       "text": [
        " http://www.simplymarry.com/matrimonial/bride/chef1269505/Hindu/Naidu/Priya-Madhavan\n",
        "1004"
       ]
      },
      {
       "output_type": "stream",
       "stream": "stdout",
       "text": [
        " http://www.simplymarry.com/matrimonial/bride/chef1366972/Hindu/Naidu/Deepika-Dillibabu\n",
        "1005"
       ]
      },
      {
       "output_type": "stream",
       "stream": "stdout",
       "text": [
        " http://www.simplymarry.com/matrimonial/bride/hydf1316252/Hindu/Brahmin-Viswa/Purnima-Purnima\n",
        "1006"
       ]
      },
      {
       "output_type": "stream",
       "stream": "stdout",
       "text": [
        " http://www.simplymarry.com/matrimonial/bride/navf1249851/Hindu/Kamma/Lavanya-Gummadi\n",
        "1007"
       ]
      },
      {
       "output_type": "stream",
       "stream": "stdout",
       "text": [
        " http://www.simplymarry.com/matrimonial/bride/hydf1370321/Hindu/Padmasali/Ashwini-Manthen\n",
        "1008"
       ]
      },
      {
       "output_type": "stream",
       "stream": "stdout",
       "text": [
        " http://www.simplymarry.com/matrimonial/bride/banf1370467/Hindu/Kshatriya/Radhika-Raju\n",
        "1009"
       ]
      },
      {
       "output_type": "stream",
       "stream": "stdout",
       "text": [
        " http://www.simplymarry.com/matrimonial/bride/nelf1369950/Hindu/Setti-Balija/Thanuja-Last-name\n",
        "1010"
       ]
      },
      {
       "output_type": "stream",
       "stream": "stdout",
       "text": [
        " http://www.simplymarry.com/matrimonial/bride/hydf1369970/Hindu/Devandra-Kula-Vellalar/Pushpa-N\n",
        "1011"
       ]
      },
      {
       "output_type": "stream",
       "stream": "stdout",
       "text": [
        " http://www.simplymarry.com/matrimonial/bride/hydf1370019/Hindu/Mudiraj/Suma-Latha\n",
        "1012"
       ]
      },
      {
       "output_type": "stream",
       "stream": "stdout",
       "text": [
        " http://www.simplymarry.com/matrimonial/bride/chif1279425/Hindu/OBC/Barber/Naayee/Bubbly-Venky\n",
        "1013"
       ]
      },
      {
       "output_type": "stream",
       "stream": "stdout",
       "text": [
        " http://www.simplymarry.com/matrimonial/bride/hydf1367535/Hindu/Kapu-Naidu/Vidyulatha-Ranemallipudy\n",
        "1014"
       ]
      },
      {
       "output_type": "stream",
       "stream": "stdout",
       "text": [
        " http://www.simplymarry.com/matrimonial/bride/karf1267944/Hindu/Mannuru-Kapu/Sree-S\n",
        "1015"
       ]
      },
      {
       "output_type": "stream",
       "stream": "stdout",
       "text": [
        " http://www.simplymarry.com/matrimonial/bride/secf1293032/Hindu/Arya-Vysya/Soumya-Dontula\n",
        "1016"
       ]
      },
      {
       "output_type": "stream",
       "stream": "stdout",
       "text": [
        " http://www.simplymarry.com/matrimonial/bride/visf1369391/Hindu/Arya-Vysya/Ranganayakamma-Kvn\n",
        "1017"
       ]
      },
      {
       "output_type": "stream",
       "stream": "stdout",
       "text": [
        " http://www.simplymarry.com/matrimonial/bride/hydf1369374/Hindu/Brahmin---Smartha/Lakshmi-Valadi\n",
        "1018"
       ]
      },
      {
       "output_type": "stream",
       "stream": "stdout",
       "text": [
        " http://www.simplymarry.com/matrimonial/bride/hydf1332180/Hindu/Madiga/Kavitha-Dandu\n",
        "1019"
       ]
      },
      {
       "output_type": "stream",
       "stream": "stdout",
       "text": [
        " http://www.simplymarry.com/matrimonial/bride/chif1367797/Hindu/Rajaka/Bhuvana-Aruru\n",
        "1020"
       ]
      },
      {
       "output_type": "stream",
       "stream": "stdout",
       "text": [
        " http://www.simplymarry.com/matrimonial/bride/kamf1313131/Hindu/Araya/Lakshmi-Kumari\n",
        "1021"
       ]
      },
      {
       "output_type": "stream",
       "stream": "stdout",
       "text": [
        " http://www.simplymarry.com/matrimonial/bride/chef1368641/Hindu/Naidu/Gowthami-Submaniam\n",
        "1022"
       ]
      },
      {
       "output_type": "stream",
       "stream": "stdout",
       "text": [
        " http://www.simplymarry.com/matrimonial/bride/nalf1278766/Hindu/Kamma/Sravanthi-Vadlamudi\n",
        "1023"
       ]
      },
      {
       "output_type": "stream",
       "stream": "stdout",
       "text": [
        " http://www.simplymarry.com/matrimonial/bride/gunf1368307/Hindu/Kamma/Sri-Lakshmi\n",
        "1024"
       ]
      },
      {
       "output_type": "stream",
       "stream": "stdout",
       "text": [
        " http://www.simplymarry.com/matrimonial/bride/kadf1368126/Hindu/Arya-Vysya/Vasundhara-Devi\n",
        "1025"
       ]
      },
      {
       "output_type": "stream",
       "stream": "stdout",
       "text": [
        " http://www.simplymarry.com/matrimonial/bride/hydf1355888/Hindu/Balija/Navya-Tejaswi\n",
        "1026"
       ]
      },
      {
       "output_type": "stream",
       "stream": "stdout",
       "text": [
        " http://www.simplymarry.com/matrimonial/bride/vijf1367899/Hindu/Kapu/Neelima-Grandhi\n",
        "1027"
       ]
      },
      {
       "output_type": "stream",
       "stream": "stdout",
       "text": [
        " http://www.simplymarry.com/matrimonial/bride/hydf1367563/Hindu/Kamma/Zeen-Chowdary\n",
        "1028"
       ]
      },
      {
       "output_type": "stream",
       "stream": "stdout",
       "text": [
        " http://www.simplymarry.com/matrimonial/bride/hydf1264997/Hindu/Yadav/Mucca-Harisha\n",
        "1029"
       ]
      },
      {
       "output_type": "stream",
       "stream": "stdout",
       "text": [
        " http://www.simplymarry.com/matrimonial/bride/erof1367400/Hindu/Balija/Prabha-Selvaraj\n",
        "1030"
       ]
      },
      {
       "output_type": "stream",
       "stream": "stdout",
       "text": [
        " http://www.simplymarry.com/matrimonial/bride/vijf1306931/Hindu/Rajaka/Sailaja-Gudikandula\n",
        "1031"
       ]
      },
      {
       "output_type": "stream",
       "stream": "stdout",
       "text": [
        " http://www.simplymarry.com/matrimonial/bride/warf1309899/Hindu/Kurmi/Pinky-Chitti\n",
        "1032"
       ]
      },
      {
       "output_type": "stream",
       "stream": "stdout",
       "text": [
        " http://www.simplymarry.com/matrimonial/bride/hydf1367098/Hindu/Kamma/Deepthi-Rani\n",
        "1033"
       ]
      },
      {
       "output_type": "stream",
       "stream": "stdout",
       "text": [
        " http://www.simplymarry.com/matrimonial/bride/hydf1269153/Hindu/Brahmin-6000-Niyogi/Haritha-Goparaju\n",
        "1034"
       ]
      },
      {
       "output_type": "stream",
       "stream": "stdout",
       "text": [
        " http://www.simplymarry.com/matrimonial/bride/warf1366763/Hindu/Uppara/Soujanya-Kolluri\n",
        "1035"
       ]
      },
      {
       "output_type": "stream",
       "stream": "stdout",
       "text": [
        " http://www.simplymarry.com/matrimonial/bride/manf1366418/Hindu/Sindhi/Mamta-Rizwani\n",
        "1036"
       ]
      },
      {
       "output_type": "stream",
       "stream": "stdout",
       "text": [
        " http://www.simplymarry.com/matrimonial/bride/vijf1365960/Hindu/Padmasali/Lakshmi-Prasanna\n",
        "1037"
       ]
      },
      {
       "output_type": "stream",
       "stream": "stdout",
       "text": [
        " http://www.simplymarry.com/matrimonial/bride/chef1366048/Hindu/Vannar/Sukumar-Sukumar\n",
        "1038"
       ]
      },
      {
       "output_type": "stream",
       "stream": "stdout",
       "text": [
        " http://www.simplymarry.com/matrimonial/bride/hydf1366019/Hindu/Padmasali/Pranathi-Vengala\n",
        "1039"
       ]
      },
      {
       "output_type": "stream",
       "stream": "stdout",
       "text": [
        " http://www.simplymarry.com/matrimonial/bride/banf1365461/Hindu/Padmasali/Sadananda-Srsadananda\n",
        "1040"
       ]
      },
      {
       "output_type": "stream",
       "stream": "stdout",
       "text": [
        " http://www.simplymarry.com/matrimonial/bride/banf1365421/Hindu/Vishwakarma/Shruthi-R\n",
        "1041"
       ]
      },
      {
       "output_type": "stream",
       "stream": "stdout",
       "text": [
        " http://www.simplymarry.com/matrimonial/bride/visf1347510/Hindu/Telaga/Anuradha-Chinta\n",
        "1042"
       ]
      },
      {
       "output_type": "stream",
       "stream": "stdout",
       "text": [
        " http://www.simplymarry.com/matrimonial/bride/banf1364257/Hindu/Kamma/Bharathy-K\n",
        "1043"
       ]
      },
      {
       "output_type": "stream",
       "stream": "stdout",
       "text": [
        " http://www.simplymarry.com/matrimonial/bride/chif1365097/Hindu/Reddy/Hema-Latha\n",
        "1044"
       ]
      },
      {
       "output_type": "stream",
       "stream": "stdout",
       "text": [
        " http://www.simplymarry.com/matrimonial/bride/banf1365140/Hindu/Padmasali/Sadananda-Srsadananda\n",
        "1045"
       ]
      },
      {
       "output_type": "stream",
       "stream": "stdout",
       "text": [
        " http://www.simplymarry.com/matrimonial/bride/punf1350063/Hindu/Padmasali/Vnm-Mvn\n",
        "1046"
       ]
      },
      {
       "output_type": "stream",
       "stream": "stdout",
       "text": [
        " http://www.simplymarry.com/matrimonial/bride/tirf1364844/Hindu/Gavara/Saipriya-G\n",
        "1047"
       ]
      },
      {
       "output_type": "stream",
       "stream": "stdout",
       "text": [
        " http://www.simplymarry.com/matrimonial/bride/chif1364959/Hindu/Balija/Thiyari-Neelima\n",
        "1048"
       ]
      },
      {
       "output_type": "stream",
       "stream": "stdout",
       "text": [
        " http://www.simplymarry.com/matrimonial/bride/banf1160039/Hindu/Kamma/Venigalla-Rama\n",
        "1049"
       ]
      },
      {
       "output_type": "stream",
       "stream": "stdout",
       "text": [
        " http://www.simplymarry.com/matrimonial/bride/chef1360857/Hindu/Arya-Vysya/Ss-Ss\n",
        "1050"
       ]
      },
      {
       "output_type": "stream",
       "stream": "stdout",
       "text": [
        " http://www.simplymarry.com/matrimonial/bride/chif1159156/Hindu/Yadav/Kumari-Kumari\n",
        "1051"
       ]
      },
      {
       "output_type": "stream",
       "stream": "stdout",
       "text": [
        " http://www.simplymarry.com/matrimonial/bride/adif1264698/Hindu/Reddy/Mounika-Mounika\n",
        "1052"
       ]
      },
      {
       "output_type": "stream",
       "stream": "stdout",
       "text": [
        " http://www.simplymarry.com/matrimonial/bride/anpf1362053/Hindu/Besta/Jammalamadugu-Radhapriya\n",
        "1053"
       ]
      },
      {
       "output_type": "stream",
       "stream": "stdout",
       "text": [
        " http://www.simplymarry.com/matrimonial/bride/hydf1355012/Hindu/Madiga/Vajra-Chuklka\n",
        "1054"
       ]
      },
      {
       "output_type": "stream",
       "stream": "stdout",
       "text": [
        " http://www.simplymarry.com/matrimonial/bride/chef1357553/Hindu/Telugu/Mahalakshmiaishwarya-Kanniappan\n",
        "1055"
       ]
      },
      {
       "output_type": "stream",
       "stream": "stdout",
       "text": [
        " http://www.simplymarry.com/matrimonial/bride/vizf1312819/Hindu/Brahmin/Neelima-Mangipudi\n",
        "1056"
       ]
      },
      {
       "output_type": "stream",
       "stream": "stdout",
       "text": [
        " http://www.simplymarry.com/matrimonial/bride/chef1354473/Hindu/Balija/Later-Plz\n",
        "1057"
       ]
      },
      {
       "output_type": "stream",
       "stream": "stdout",
       "text": [
        " http://www.simplymarry.com/matrimonial/bride/chef1346915/Hindu/Kamma/Radha-Kanakaraj\n",
        "1058"
       ]
      },
      {
       "output_type": "stream",
       "stream": "stdout",
       "text": [
        " http://www.simplymarry.com/matrimonial/bride/belf1340069/Hindu/Madiga/Sugandha-Shivanna\n",
        "1059"
       ]
      },
      {
       "output_type": "stream",
       "stream": "stdout",
       "text": [
        " http://www.simplymarry.com/matrimonial/bride/chem1359304/Hindu/Reddy/Rekhavathi-Reddy\n",
        "1060"
       ]
      },
      {
       "output_type": "stream",
       "stream": "stdout",
       "text": [
        " http://www.simplymarry.com/matrimonial/bride/thof1312638/Hindu/Kamma/Maheswari-Ellappan\n",
        "1061"
       ]
      },
      {
       "output_type": "stream",
       "stream": "stdout",
       "text": [
        " http://www.simplymarry.com/matrimonial/bride/vijf1353656/Hindu/Arya-Vysya/Satya-Suseela\n",
        "1062"
       ]
      },
      {
       "output_type": "stream",
       "stream": "stdout",
       "text": [
        " http://www.simplymarry.com/matrimonial/bride/hydf1244816/Hindu/Kapu/Radhika-Radhika\n",
        "1063"
       ]
      },
      {
       "output_type": "stream",
       "stream": "stdout",
       "text": [
        " http://www.simplymarry.com/matrimonial/bride/ongf1272791/Hindu/Kamma/Swapna-Swapna\n",
        "1064"
       ]
      },
      {
       "output_type": "stream",
       "stream": "stdout",
       "text": [
        " http://www.simplymarry.com/matrimonial/bride/chif1304299/Hindu/Kamma/Bhargavi-Nambur\n",
        "1065"
       ]
      },
      {
       "output_type": "stream",
       "stream": "stdout",
       "text": [
        " http://www.simplymarry.com/matrimonial/bride/kadf1244189/Hindu/Balija/Nakka-Rama\n",
        "1066"
       ]
      },
      {
       "output_type": "stream",
       "stream": "stdout",
       "text": [
        " http://www.simplymarry.com/matrimonial/bride/secf1343759/Hindu/Setti-Balija/Jaya-Lakshmi\n",
        "1067"
       ]
      },
      {
       "output_type": "stream",
       "stream": "stdout",
       "text": [
        " http://www.simplymarry.com/matrimonial/bride/visf1311713/Hindu/Gowda/Kamana-Sandhya\n",
        "1068"
       ]
      },
      {
       "output_type": "stream",
       "stream": "stdout",
       "text": [
        " http://www.simplymarry.com/matrimonial/bride/banf1347738/Hindu/Brahmin---Smartha/Kruthika-Hv\n",
        "1069"
       ]
      },
      {
       "output_type": "stream",
       "stream": "stdout",
       "text": [
        " http://www.simplymarry.com/matrimonial/bride/vijf1172175/Hindu/Gowda/Revathi-Y\n",
        "1070"
       ]
      },
      {
       "output_type": "stream",
       "stream": "stdout",
       "text": [
        " http://www.simplymarry.com/matrimonial/bride/eluf1334873/Hindu/Reddy/Yuvarani-Dwarampudi\n",
        "1071"
       ]
      },
      {
       "output_type": "stream",
       "stream": "stdout",
       "text": [
        " http://www.simplymarry.com/matrimonial/bride/mumf1247493/Hindu/Reddy/Swati-Reddy\n",
        "1072"
       ]
      },
      {
       "output_type": "stream",
       "stream": "stdout",
       "text": [
        " http://www.simplymarry.com/matrimonial/bride/chif1342245/Hindu/Reddy/Sowmya-Reddyvari\n",
        "1073"
       ]
      },
      {
       "output_type": "stream",
       "stream": "stdout",
       "text": [
        " http://www.simplymarry.com/matrimonial/bride/visf1174082/Hindu/Velama/Swathi-B\n",
        "1074"
       ]
      },
      {
       "output_type": "stream",
       "stream": "stdout",
       "text": [
        " http://www.simplymarry.com/matrimonial/bride/kakf1315312/Hindu/Setti-Balija/Nagalaxmi-Mattaparthi\n",
        "1075"
       ]
      },
      {
       "output_type": "stream",
       "stream": "stdout",
       "text": [
        " http://www.simplymarry.com/matrimonial/bride/bhif1346494/Hindu/Kapu/P-Shweta\n",
        "1076"
       ]
      },
      {
       "output_type": "stream",
       "stream": "stdout",
       "text": [
        " http://www.simplymarry.com/matrimonial/bride/visf1236349/Hindu/Kshatriya/Divya-Datla\n",
        "1077"
       ]
      },
      {
       "output_type": "stream",
       "stream": "stdout",
       "text": [
        " http://www.simplymarry.com/matrimonial/bride/hydf1245306/Hindu/Mala/Nandini-Das\n",
        "1078"
       ]
      },
      {
       "output_type": "stream",
       "stream": "stdout",
       "text": [
        " http://www.simplymarry.com/matrimonial/bride/visf1255820/Hindu/Kalinga/Anitha-Rajani\n",
        "1079"
       ]
      },
      {
       "output_type": "stream",
       "stream": "stdout",
       "text": [
        " http://www.simplymarry.com/matrimonial/bride/chif1185557/Hindu/Brahmin---Madhwa/Divya-Lakshminarayan\n",
        "1080"
       ]
      },
      {
       "output_type": "stream",
       "stream": "stdout",
       "text": [
        " http://www.simplymarry.com/matrimonial/bride/vijf1245116/Hindu/Kamma/Xyz-Xyz\n",
        "1081"
       ]
      },
      {
       "output_type": "stream",
       "stream": "stdout",
       "text": [
        " http://www.simplymarry.com/matrimonial/bride/chif1234770/Hindu/Perika/Santhi-S\n",
        "1082"
       ]
      },
      {
       "output_type": "stream",
       "stream": "stdout",
       "text": [
        " http://www.simplymarry.com/matrimonial/bride/visf1239132/Hindu/Kalinga/Lakshmi-Asha\n",
        "1083"
       ]
      },
      {
       "output_type": "stream",
       "stream": "stdout",
       "text": [
        " http://www.simplymarry.com/matrimonial/bride/salf1224741/Hindu/Arya-Vysya/Surekha-Srinivasan\n",
        "1084"
       ]
      },
      {
       "output_type": "stream",
       "stream": "stdout",
       "text": [
        " http://www.simplymarry.com/matrimonial/bride/hydf1268389/Hindu/Munnuru-Kapu/Keerthi-G\n",
        "1085"
       ]
      },
      {
       "output_type": "stream",
       "stream": "stdout",
       "text": [
        " http://www.simplymarry.com/matrimonial/bride/hydf1304080/Others/Later-Later\n",
        "1086"
       ]
      },
      {
       "output_type": "stream",
       "stream": "stdout",
       "text": [
        " http://www.simplymarry.com/matrimonial/bride/warf1329652/Hindu/Padmasali/Sumalatha-Balina\n",
        "1087"
       ]
      },
      {
       "output_type": "stream",
       "stream": "stdout",
       "text": [
        " http://www.simplymarry.com/matrimonial/bride/anpf1249386/Hindu/Kamma/Jogeswari-Korpu\n",
        "1088"
       ]
      },
      {
       "output_type": "stream",
       "stream": "stdout",
       "text": [
        " http://www.simplymarry.com/matrimonial/bride/visf1339904/Hindu/Gavara/Dedeepya-Pilla\n",
        "1089"
       ]
      },
      {
       "output_type": "stream",
       "stream": "stdout",
       "text": [
        " http://www.simplymarry.com/matrimonial/bride/visf1265709/Hindu/Setti-Balija/Reshmachinni-Reshmachinni\n",
        "1090"
       ]
      },
      {
       "output_type": "stream",
       "stream": "stdout",
       "text": [
        " http://www.simplymarry.com/matrimonial/bride/mumf1267909/Hindu/Naidu/Padmini-Naidu\n",
        "1091"
       ]
      },
      {
       "output_type": "stream",
       "stream": "stdout",
       "text": [
        " http://www.simplymarry.com/matrimonial/bride/banf1197463/Hindu/Vokkaliga/Usha-Venkatesh\n",
        "1092"
       ]
      },
      {
       "output_type": "stream",
       "stream": "stdout",
       "text": [
        " http://www.simplymarry.com/matrimonial/bride/hydf1302775/Hindu/Kamma/Sanjana-Chowdary\n",
        "1093"
       ]
      },
      {
       "output_type": "stream",
       "stream": "stdout",
       "text": [
        " http://www.simplymarry.com/matrimonial/bride/nelf1145056/Hindu/Telugu/Sailakshmi-P\n",
        "1094"
       ]
      },
      {
       "output_type": "stream",
       "stream": "stdout",
       "text": [
        " http://www.simplymarry.com/matrimonial/bride/eluf1112490/Hindu/Kapu/Durga-Bhavani\n",
        "1095"
       ]
      },
      {
       "output_type": "stream",
       "stream": "stdout",
       "text": [
        " http://www.simplymarry.com/matrimonial/bride/chef1242775/Hindu/Brahmin/Sudheera-Ananthamakula\n",
        "1096"
       ]
      },
      {
       "output_type": "stream",
       "stream": "stdout",
       "text": [
        " http://www.simplymarry.com/matrimonial/bride/mumf1107145/Hindu/Yadav/Ganesh-Sahadev\n",
        "1097"
       ]
      },
      {
       "output_type": "stream",
       "stream": "stdout",
       "text": [
        " http://www.simplymarry.com/matrimonial/bride/hydf1296598/Hindu/Goud/Priyanka-Kk\n",
        "1098"
       ]
      },
      {
       "output_type": "stream",
       "stream": "stdout",
       "text": [
        " http://www.simplymarry.com/matrimonial/bride/x1306455/Hindu/Naidu/Priyanka-Devadas\n",
        "1099"
       ]
      },
      {
       "output_type": "stream",
       "stream": "stdout",
       "text": [
        " http://www.simplymarry.com/matrimonial/bride/hydf1234161/Hindu/Yadav/Lakshmi-Chanti\n",
        "1100"
       ]
      },
      {
       "output_type": "stream",
       "stream": "stdout",
       "text": [
        " http://www.simplymarry.com/matrimonial/bride/hydf1177617/Hindu/Kamma/D-Anitha\n",
        "1101"
       ]
      },
      {
       "output_type": "stream",
       "stream": "stdout",
       "text": [
        " http://www.simplymarry.com/matrimonial/bride/hydf1115801/Hindu/OBC/Barber/Naayee/Meena-S\n",
        "1102"
       ]
      },
      {
       "output_type": "stream",
       "stream": "stdout",
       "text": [
        " http://www.simplymarry.com/matrimonial/bride/hydf1312088/Hindu/Scheduled-Caste/Jalli-Balanaveena\n",
        "1103"
       ]
      },
      {
       "output_type": "stream",
       "stream": "stdout",
       "text": [
        " http://www.simplymarry.com/matrimonial/bride/hydf1115802/Hindu/Padmasali/Prasuna-Karnati\n",
        "1104"
       ]
      },
      {
       "output_type": "stream",
       "stream": "stdout",
       "text": [
        " http://www.simplymarry.com/matrimonial/bride/chif1280998/Hindu/Devandra-Kula-Vellalar/Ranjitha-Thiruveedhula\n",
        "1105"
       ]
      },
      {
       "output_type": "stream",
       "stream": "stdout",
       "text": [
        " http://www.simplymarry.com/matrimonial/bride/chef1277349/Hindu/Balija/Sasa-Sasa\n",
        "1106"
       ]
      },
      {
       "output_type": "stream",
       "stream": "stdout",
       "text": [
        " http://www.simplymarry.com/matrimonial/bride/chef1273756/Hindu/Gavara/Anuvarshini-Kothandaram\n",
        "1107"
       ]
      },
      {
       "output_type": "stream",
       "stream": "stdout",
       "text": [
        " http://www.simplymarry.com/matrimonial/bride/eluf1127645/Hindu/Kummari/Radhika-Radhi\n",
        "1108"
       ]
      },
      {
       "output_type": "stream",
       "stream": "stdout",
       "text": [
        " http://www.simplymarry.com/matrimonial/bride/kakf1118566/Hindu/Kamma/Avutapally-Indu\n",
        "1109"
       ]
      },
      {
       "output_type": "stream",
       "stream": "stdout",
       "text": [
        " http://www.simplymarry.com/matrimonial/bride/vijf1291920/Hindu/Reddy/Prasanna-Naga\n",
        "1110"
       ]
      },
      {
       "output_type": "stream",
       "stream": "stdout",
       "text": [
        " http://www.simplymarry.com/matrimonial/bride/eluf1245954/Hindu/Brahmin---Smartha/Later-Later\n",
        "1111"
       ]
      },
      {
       "output_type": "stream",
       "stream": "stdout",
       "text": [
        " http://www.simplymarry.com/matrimonial/bride/banf1249565/Hindu/Yadav/Jyothi-Yadav\n",
        "1112"
       ]
      },
      {
       "output_type": "stream",
       "stream": "stdout",
       "text": [
        " http://www.simplymarry.com/matrimonial/bride/gunf1249617/Hindu/Lingayath/Chukka-Sarvani\n",
        "1113"
       ]
      },
      {
       "output_type": "stream",
       "stream": "stdout",
       "text": [
        " http://www.simplymarry.com/matrimonial/bride/anpf1287456/Hindu/Kapu/Sudha-Sree\n",
        "1114"
       ]
      },
      {
       "output_type": "stream",
       "stream": "stdout",
       "text": [
        " http://www.simplymarry.com/matrimonial/bride/hydf1251586/Hindu/Kamma/Shanti-Tummala\n",
        "1115"
       ]
      },
      {
       "output_type": "stream",
       "stream": "stdout",
       "text": [
        " http://www.simplymarry.com/matrimonial/bride/eluf1243684/Hindu/Kamma/Sowjanya-Ganta\n",
        "1116"
       ]
      },
      {
       "output_type": "stream",
       "stream": "stdout",
       "text": [
        " http://www.simplymarry.com/matrimonial/bride/visf1275770/Hindu/Viswabrahmin/Later-Later\n",
        "1117"
       ]
      },
      {
       "output_type": "stream",
       "stream": "stdout",
       "text": [
        " http://www.simplymarry.com/matrimonial/bride/hydf1277284/Hindu/Brahmin---Gour/Ambati-Madhuri\n",
        "1118"
       ]
      },
      {
       "output_type": "stream",
       "stream": "stdout",
       "text": [
        " http://www.simplymarry.com/matrimonial/bride/vijf1168119/Hindu/Kapu-Naidu/Harini-Bathula\n",
        "1119"
       ]
      },
      {
       "output_type": "stream",
       "stream": "stdout",
       "text": [
        " http://www.simplymarry.com/matrimonial/bride/hydf1275513/Hindu/Rajput/Naveen-Naveen\n",
        "1120"
       ]
      },
      {
       "output_type": "stream",
       "stream": "stdout",
       "text": [
        " http://www.simplymarry.com/matrimonial/bride/hydf1235014/Hindu/Rajaka/Dvlr-Dvlr\n",
        "1121"
       ]
      },
      {
       "output_type": "stream",
       "stream": "stdout",
       "text": [
        " http://www.simplymarry.com/matrimonial/bride/hydf1075815/Hindu/Reddy/Vijaya-K\n",
        "1122"
       ]
      },
      {
       "output_type": "stream",
       "stream": "stdout",
       "text": [
        " http://www.simplymarry.com/matrimonial/bride/hydf1074545/Hindu/Mannuru-Kapu/John-King\n",
        "1123"
       ]
      },
      {
       "output_type": "stream",
       "stream": "stdout",
       "text": [
        " http://www.simplymarry.com/matrimonial/bride/shmf1149610/Hindu/Reddy/Shwetha-Bm\n",
        "1124"
       ]
      },
      {
       "output_type": "stream",
       "stream": "stdout",
       "text": [
        " http://www.simplymarry.com/matrimonial/bride/hydf1182777/Hindu/Vaddera/Madhavi-Kunchapu\n",
        "1125"
       ]
      },
      {
       "output_type": "stream",
       "stream": "stdout",
       "text": [
        " http://www.simplymarry.com/matrimonial/bride/hydf1090388/Hindu/Kamma/Shankar-Rao\n",
        "1126"
       ]
      },
      {
       "output_type": "stream",
       "stream": "stdout",
       "text": [
        " http://www.simplymarry.com/matrimonial/bride/mumf1180319/Hindu/Brahmin---Telugu/Vaishnavi-Bandlamuri\n",
        "1127"
       ]
      },
      {
       "output_type": "stream",
       "stream": "stdout",
       "text": [
        " http://www.simplymarry.com/matrimonial/bride/hydf1255931/Hindu/Brahmin---Nagar/Allur-Asha\n",
        "1128"
       ]
      },
      {
       "output_type": "stream",
       "stream": "stdout",
       "text": [
        " http://www.simplymarry.com/matrimonial/bride/hydf1072536/Hindu/Brahmin/S-K\n",
        "1129"
       ]
      },
      {
       "output_type": "stream",
       "stream": "stdout",
       "text": [
        " http://www.simplymarry.com/matrimonial/bride/hydf1241435/Hindu/First-name-Last-name\n",
        "1130"
       ]
      },
      {
       "output_type": "stream",
       "stream": "stdout",
       "text": [
        " http://www.simplymarry.com/matrimonial/bride/karf1161954/Hindu/Vysya/Manasa-Allenki\n",
        "1131"
       ]
      },
      {
       "output_type": "stream",
       "stream": "stdout",
       "text": [
        " http://www.simplymarry.com/matrimonial/bride/banf1165301/Hindu/Balija/Abhilasha-Abhilasha\n",
        "1132"
       ]
      },
      {
       "output_type": "stream",
       "stream": "stdout",
       "text": [
        " http://www.simplymarry.com/matrimonial/bride/hydf1100272/Hindu/Brahmin-6000-Niyogi/Sai-Kiranmayee\n",
        "1133"
       ]
      },
      {
       "output_type": "stream",
       "stream": "stdout",
       "text": [
        " http://www.simplymarry.com/matrimonial/bride/mumf1257975/Hindu/Brahmin---Vaidiki/Yanamandra-Ushasundari\n",
        "1134"
       ]
      },
      {
       "output_type": "stream",
       "stream": "stdout",
       "text": [
        " http://www.simplymarry.com/matrimonial/bride/delf969135/Hindu/Brahmin/Shalini-Y\n",
        "1135"
       ]
      },
      {
       "output_type": "stream",
       "stream": "stdout",
       "text": [
        " http://www.simplymarry.com/matrimonial/bride/visf1069076/Hindu/Kapu/Sravanthi-Sravs\n",
        "1136"
       ]
      },
      {
       "output_type": "stream",
       "stream": "stdout",
       "text": [
        " http://www.simplymarry.com/matrimonial/bride/hydf1219799/Hindu/Brahmin-6000-Niyogi/Sravani-Lakkaraju\n",
        "1137"
       ]
      },
      {
       "output_type": "stream",
       "stream": "stdout",
       "text": [
        " http://www.simplymarry.com/matrimonial/bride/vijf1228058/Hindu/Brahmin/Visali-Modali\n",
        "1138"
       ]
      },
      {
       "output_type": "stream",
       "stream": "stdout",
       "text": [
        " http://www.simplymarry.com/matrimonial/bride/hydf1236348/Hindu/Brahmin-Kanada-Madhva/Sudha-Parimala\n",
        "1139"
       ]
      },
      {
       "output_type": "stream",
       "stream": "stdout",
       "text": [
        " http://www.simplymarry.com/matrimonial/bride/punf1061375/Hindu/Telugu/Meenakshi-Gorel\n",
        "1140"
       ]
      },
      {
       "output_type": "stream",
       "stream": "stdout",
       "text": [
        " http://www.simplymarry.com/matrimonial/bride/secf1198781/Hindu/Mala/Boda-Sudha\n",
        "1141"
       ]
      },
      {
       "output_type": "stream",
       "stream": "stdout",
       "text": [
        " http://www.simplymarry.com/matrimonial/bride/vijf1026811/Hindu/Vishwakarma/R-Umakatyayini\n",
        "1142"
       ]
      },
      {
       "output_type": "stream",
       "stream": "stdout",
       "text": [
        " http://www.simplymarry.com/matrimonial/bride/visf1240564/Hindu/Yadav/Vidhya-Lakshmi\n",
        "1143"
       ]
      },
      {
       "output_type": "stream",
       "stream": "stdout",
       "text": [
        " http://www.simplymarry.com/matrimonial/bride/hydf1194899/Hindu/Scheduled-Caste/Dasari-Hemalatha\n",
        "1144"
       ]
      },
      {
       "output_type": "stream",
       "stream": "stdout",
       "text": [
        " http://www.simplymarry.com/matrimonial/bride/chef1207631/Hindu/Kamma/Poornima-Gunasekar\n",
        "1145"
       ]
      },
      {
       "output_type": "stream",
       "stream": "stdout",
       "text": [
        " http://www.simplymarry.com/matrimonial/bride/hydf1113288/Hindu/Reddy/Pothula-Uma\n",
        "1146"
       ]
      },
      {
       "output_type": "stream",
       "stream": "stdout",
       "text": [
        " http://www.simplymarry.com/matrimonial/bride/adif1197847/Hindu/Brahmin---Vaidiki/Vishali-Sirga\n",
        "1147"
       ]
      },
      {
       "output_type": "stream",
       "stream": "stdout",
       "text": [
        " http://www.simplymarry.com/matrimonial/bride/vizf1172823/Hindu/Telaga/Hyma-Vatahi\n",
        "1148"
       ]
      },
      {
       "output_type": "stream",
       "stream": "stdout",
       "text": [
        " http://www.simplymarry.com/matrimonial/bride/adif1203929/Hindu/Brahmin---Nagar/Sowmya-Gunjala\n",
        "1149"
       ]
      },
      {
       "output_type": "stream",
       "stream": "stdout",
       "text": [
        " http://www.simplymarry.com/matrimonial/bride/hydf1189315/Hindu/Rajaka/Prashanthi-Bommisetty\n",
        "1150"
       ]
      },
      {
       "output_type": "stream",
       "stream": "stdout",
       "text": [
        " http://www.simplymarry.com/matrimonial/bride/hydf1198286/Hindu/Madiga/Sony-Marry\n",
        "1151"
       ]
      },
      {
       "output_type": "stream",
       "stream": "stdout",
       "text": [
        " http://www.simplymarry.com/matrimonial/bride/mahf1185667/Hindu/Kamma/Pavani-Jyothi\n",
        "1152"
       ]
      },
      {
       "output_type": "stream",
       "stream": "stdout",
       "text": [
        " http://www.simplymarry.com/matrimonial/bride/banf1008098/Hindu/Scheduled-Caste/Sujatha-Narasimhulu\n",
        "1153"
       ]
      },
      {
       "output_type": "stream",
       "stream": "stdout",
       "text": [
        " http://www.simplymarry.com/matrimonial/bride/gunf1178607/Hindu/Kamma/Sathish-Kumar\n",
        "1154"
       ]
      },
      {
       "output_type": "stream",
       "stream": "stdout",
       "text": [
        " http://www.simplymarry.com/matrimonial/bride/hydf1148243/Hindu/Brahmin---Vaidiki/Monika-Chawali\n",
        "1155"
       ]
      },
      {
       "output_type": "stream",
       "stream": "stdout",
       "text": [
        " http://www.simplymarry.com/matrimonial/bride/hydf1205436/Hindu/Kamma/Syamalatha-Dasari\n",
        "1156"
       ]
      },
      {
       "output_type": "stream",
       "stream": "stdout",
       "text": [
        " http://www.simplymarry.com/matrimonial/bride/vijf1217005/Hindu/Kapu/Hima-Bindu\n",
        "1157"
       ]
      },
      {
       "output_type": "stream",
       "stream": "stdout",
       "text": [
        " http://www.simplymarry.com/matrimonial/bride/gunf978372/Hindu/Arya-Vysya/Naga-Mani\n",
        "1158"
       ]
      },
      {
       "output_type": "stream",
       "stream": "stdout",
       "text": [
        " http://www.simplymarry.com/matrimonial/bride/nizf1212709/Hindu/Brahmin-6000-Niyogi/Swathi-Swati\n",
        "1159"
       ]
      },
      {
       "output_type": "stream",
       "stream": "stdout",
       "text": [
        " http://www.simplymarry.com/matrimonial/bride/hydf961991/Hindu/Brahmin-6000-Niyogi/Amulya-Abburi\n",
        "1160"
       ]
      },
      {
       "output_type": "stream",
       "stream": "stdout",
       "text": [
        " http://www.simplymarry.com/matrimonial/bride/hydf1126277/Hindu/Mannuru-Kapu/Shilpa-Chetty\n",
        "1161"
       ]
      },
      {
       "output_type": "stream",
       "stream": "stdout",
       "text": [
        " http://www.simplymarry.com/matrimonial/bride/ongf1007237/Hindu/Kamma/Girija-Kakumani\n",
        "1162"
       ]
      },
      {
       "output_type": "stream",
       "stream": "stdout",
       "text": [
        " http://www.simplymarry.com/matrimonial/bride/coif953878/Hindu/Kamma/Gayathri-Srinivasan\n",
        "1163"
       ]
      },
      {
       "output_type": "stream",
       "stream": "stdout",
       "text": [
        " http://www.simplymarry.com/matrimonial/bride/warf1185523/Hindu/Padmasali/Chityala-Sruthi\n",
        "1164"
       ]
      },
      {
       "output_type": "stream",
       "stream": "stdout",
       "text": [
        " http://www.simplymarry.com/matrimonial/bride/velf1042569/Hindu/Reddy/Shylaja-S\n",
        "1165"
       ]
      },
      {
       "output_type": "stream",
       "stream": "stdout",
       "text": [
        " http://www.simplymarry.com/matrimonial/bride/visf1011965/Hindu/Arya-Vysya/Himabindu-Chimakurthy\n",
        "1166"
       ]
      },
      {
       "output_type": "stream",
       "stream": "stdout",
       "text": [
        " http://www.simplymarry.com/matrimonial/bride/eluf1030916/Hindu/Kapu-Naidu/Uma-Sri\n",
        "1167"
       ]
      },
      {
       "output_type": "stream",
       "stream": "stdout",
       "text": [
        " http://www.simplymarry.com/matrimonial/bride/visf1183639/Hindu/Brahmin---Vaidiki/Jayanti-Padma\n",
        "1168"
       ]
      },
      {
       "output_type": "stream",
       "stream": "stdout",
       "text": [
        " http://www.simplymarry.com/matrimonial/bride/mumf933224/Hindu/Devandra-Kula-Vellalar/Sharmila-Chettiar\n",
        "1169"
       ]
      },
      {
       "output_type": "stream",
       "stream": "stdout",
       "text": [
        " http://www.simplymarry.com/matrimonial/bride/hydf953116/Hindu/Brahmin---Vaidiki/Swathi-Vijay\n",
        "1170"
       ]
      },
      {
       "output_type": "stream",
       "stream": "stdout",
       "text": [
        " http://www.simplymarry.com/matrimonial/bride/secf1125363/Hindu/Setti-Balija/Vishnu-Priya\n",
        "1171"
       ]
      },
      {
       "output_type": "stream",
       "stream": "stdout",
       "text": [
        " http://www.simplymarry.com/matrimonial/bride/hydf977123/Hindu/Uppara/Vaishnavi-Sagar\n",
        "1172"
       ]
      },
      {
       "output_type": "stream",
       "stream": "stdout",
       "text": [
        " http://www.simplymarry.com/matrimonial/bride/vijf1175490/Hindu/OBC/Barber/Naayee/Sri-Lata\n",
        "1173"
       ]
      },
      {
       "output_type": "stream",
       "stream": "stdout",
       "text": [
        " http://www.simplymarry.com/matrimonial/bride/mumf1092003/Hindu/Telugu/Reshma-K\n",
        "1174"
       ]
      },
      {
       "output_type": "stream",
       "stream": "stdout",
       "text": [
        " http://www.simplymarry.com/matrimonial/bride/banf990639/Hindu/Scheduled-Caste/Leela-Vathi\n",
        "1175"
       ]
      },
      {
       "output_type": "stream",
       "stream": "stdout",
       "text": [
        " http://www.simplymarry.com/matrimonial/bride/hydf1104333/Hindu/Setti-Balija/Chandana-Appari\n",
        "1176"
       ]
      },
      {
       "output_type": "stream",
       "stream": "stdout",
       "text": [
        " http://www.simplymarry.com/matrimonial/bride/tanf1152355/Hindu/Brahmin/Rajkumar-R\n",
        "1177"
       ]
      },
      {
       "output_type": "stream",
       "stream": "stdout",
       "text": [
        " http://www.simplymarry.com/matrimonial/bride/banf1162942/Hindu/Adi-Dravida/Shylaja-Ns\n",
        "1178"
       ]
      },
      {
       "output_type": "stream",
       "stream": "stdout",
       "text": [
        " http://www.simplymarry.com/matrimonial/bride/kurf1155309/Hindu/Brahmin-6000-Niyogi/Subba-Lakshmi\n",
        "1179"
       ]
      },
      {
       "output_type": "stream",
       "stream": "stdout",
       "text": [
        " http://www.simplymarry.com/matrimonial/bride/banf1050196/Hindu/Yadav/Madhavi-Subramanyam\n",
        "1180"
       ]
      },
      {
       "output_type": "stream",
       "stream": "stdout",
       "text": [
        " http://www.simplymarry.com/matrimonial/bride/hydf555577/Hindu/Vysya/Mythry-Muvvala\n",
        "1181"
       ]
      },
      {
       "output_type": "stream",
       "stream": "stdout",
       "text": [
        " http://www.simplymarry.com/matrimonial/bride/kurf1140152/Hindu/Valmiki/Gouri-Sukanya\n",
        "1182"
       ]
      },
      {
       "output_type": "stream",
       "stream": "stdout",
       "text": [
        " http://www.simplymarry.com/matrimonial/bride/hydf1288226/Hindu/Arya-Vysya/K-Harini\n",
        "1183"
       ]
      },
      {
       "output_type": "stream",
       "stream": "stdout",
       "text": [
        " http://www.simplymarry.com/matrimonial/bride/gunf1084626/Hindu/Brahmin/Meduri-Haripriya\n",
        "1184"
       ]
      },
      {
       "output_type": "stream",
       "stream": "stdout",
       "text": [
        " http://www.simplymarry.com/matrimonial/bride/banf1156842/Hindu/Reddy/Tulasi-Tulasi\n",
        "1185"
       ]
      },
      {
       "output_type": "stream",
       "stream": "stdout",
       "text": [
        " http://www.simplymarry.com/matrimonial/bride/hydf930851/Hindu/Brahmin-6000-Niyogi/V-Bks\n",
        "1186"
       ]
      },
      {
       "output_type": "stream",
       "stream": "stdout",
       "text": [
        " http://www.simplymarry.com/matrimonial/bride/vijf1108534/Hindu/Brahmin---Vaidiki/Leelavathi-Maganti\n",
        "1187"
       ]
      },
      {
       "output_type": "stream",
       "stream": "stdout",
       "text": [
        " http://www.simplymarry.com/matrimonial/bride/hydf950071/Hindu/Brahmin---Vaidiki/Divya-Priya\n",
        "1188"
       ]
      },
      {
       "output_type": "stream",
       "stream": "stdout",
       "text": [
        " http://www.simplymarry.com/matrimonial/bride/kadf1042777/Hindu/Brahmin/Geeta-Geeta\n",
        "1189"
       ]
      },
      {
       "output_type": "stream",
       "stream": "stdout",
       "text": [
        " http://www.simplymarry.com/matrimonial/bride/nelf1092538/Hindu/Brahmin-6000-Niyogi/Kasavaraju-Subha\n",
        "1190"
       ]
      },
      {
       "output_type": "stream",
       "stream": "stdout",
       "text": [
        " http://www.simplymarry.com/matrimonial/bride/hydf865281/Hindu/Kapu/Sailaja-Chavvakula\n",
        "1191"
       ]
      },
      {
       "output_type": "stream",
       "stream": "stdout",
       "text": [
        " http://www.simplymarry.com/matrimonial/bride/visf980209/Hindu/Naidu/Patnala-Madhuri\n",
        "1192"
       ]
      },
      {
       "output_type": "stream",
       "stream": "stdout",
       "text": [
        " http://www.simplymarry.com/matrimonial/bride/hydf940569/Hindu/Reddy/Hima-Y\n",
        "1193"
       ]
      },
      {
       "output_type": "stream",
       "stream": "stdout",
       "text": [
        " http://www.simplymarry.com/matrimonial/bride/ongf985402/Hindu/Kamma/Ban-Dub\n",
        "1194"
       ]
      },
      {
       "output_type": "stream",
       "stream": "stdout",
       "text": [
        " http://www.simplymarry.com/matrimonial/bride/hydf932679/Hindu/Reddy/Tulasi-R\n",
        "1195"
       ]
      },
      {
       "output_type": "stream",
       "stream": "stdout",
       "text": [
        " http://www.simplymarry.com/matrimonial/bride/mumf883070/Hindu/Bhovi/Chaitra-Sivappa\n",
        "1196"
       ]
      },
      {
       "output_type": "stream",
       "stream": "stdout",
       "text": [
        " http://www.simplymarry.com/matrimonial/bride/kadf962473/Hindu/Brahmin-6000-Niyogi/Usha-Sri\n",
        "1197"
       ]
      },
      {
       "output_type": "stream",
       "stream": "stdout",
       "text": [
        " http://www.simplymarry.com/matrimonial/bride/chef892170/Hindu/Naidu/Poongothai-Munisamy\n",
        "1198"
       ]
      },
      {
       "output_type": "stream",
       "stream": "stdout",
       "text": [
        " http://www.simplymarry.com/matrimonial/bride/thaf1008793/Hindu/Devandra-Kula-Vellalar/Lavanya-Buddhi\n",
        "1199"
       ]
      },
      {
       "output_type": "stream",
       "stream": "stdout",
       "text": [
        " http://www.simplymarry.com/matrimonial/bride/srif1024510/Hindu/Yadav/Meher-Leela\n",
        "1200"
       ]
      },
      {
       "output_type": "stream",
       "stream": "stdout",
       "text": [
        " http://www.simplymarry.com/matrimonial/bride/ranf703724/Hindu/Telugu/Turmulla-Sangeeta\n",
        "1201"
       ]
      },
      {
       "output_type": "stream",
       "stream": "stdout",
       "text": [
        " http://www.simplymarry.com/matrimonial/bride/chef557532/Hindu/Balija/Ashwini-Pandurangan\n",
        "1202"
       ]
      },
      {
       "output_type": "stream",
       "stream": "stdout",
       "text": [
        " http://www.simplymarry.com/matrimonial/bride/chif782716/Hindu/Telugu/Usha-Sharmila\n",
        "1203"
       ]
      },
      {
       "output_type": "stream",
       "stream": "stdout",
       "text": [
        " http://www.simplymarry.com/matrimonial/bride/visf565479/Hindu/Kshatriya/Subhashini-Maddala\n",
        "1204"
       ]
      },
      {
       "output_type": "stream",
       "stream": "stdout",
       "text": [
        " http://www.simplymarry.com/matrimonial/bride/chef477516/Hindu/Besta/Radhika-Ambati\n",
        "1205"
       ]
      },
      {
       "output_type": "stream",
       "stream": "stdout",
       "text": [
        " http://www.simplymarry.com/matrimonial/bride/coif985725/Hindu/Vishwakarma/Krishnakumari-M\n",
        "1206"
       ]
      },
      {
       "output_type": "stream",
       "stream": "stdout",
       "text": [
        " http://www.simplymarry.com/matrimonial/bride/nelf989383/Hindu/Balija/Rekha-Devi\n",
        "1207"
       ]
      },
      {
       "output_type": "stream",
       "stream": "stdout",
       "text": [
        " http://www.simplymarry.com/matrimonial/bride/hydf987034/Hindu/Brahmin-6000-Niyogi/Ramasathya-Anasuya\n",
        "1208"
       ]
      },
      {
       "output_type": "stream",
       "stream": "stdout",
       "text": [
        " http://www.simplymarry.com/matrimonial/bride/vijf661579/Hindu/Viswabrahmin/Kalyani-K\n",
        "1209"
       ]
      },
      {
       "output_type": "stream",
       "stream": "stdout",
       "text": [
        " http://www.simplymarry.com/matrimonial/bride/jrkf614189/Hindu/Telugu/Sangeeta-Turumalla\n",
        "1210"
       ]
      },
      {
       "output_type": "stream",
       "stream": "stdout",
       "text": [
        " http://www.simplymarry.com/matrimonial/bride/chef1002836/Hindu/Telugu/Prabu-Hema\n",
        "1211"
       ]
      },
      {
       "output_type": "stream",
       "stream": "stdout",
       "text": [
        " http://www.simplymarry.com/matrimonial/bride/delf1007215/Hindu/Kshatriya/Leela-Rani\n",
        "1212"
       ]
      },
      {
       "output_type": "stream",
       "stream": "stdout",
       "text": [
        " http://www.simplymarry.com/matrimonial/bride/chef947347/Hindu/Vishwakarma/Priya-M\n",
        "1213"
       ]
      },
      {
       "output_type": "stream",
       "stream": "stdout",
       "text": [
        " http://www.simplymarry.com/matrimonial/bride/hydf972784/Hindu/Yadav/Madhuri-Golla\n",
        "1214"
       ]
      },
      {
       "output_type": "stream",
       "stream": "stdout",
       "text": [
        " http://www.simplymarry.com/matrimonial/bride/warf975158/Hindu/Padmasali/Mandala-Shylaja\n",
        "1215"
       ]
      },
      {
       "output_type": "stream",
       "stream": "stdout",
       "text": [
        " http://www.simplymarry.com/matrimonial/bride/mumf1007508/Hindu/Telugu/Sonal-Vadhyarap\n",
        "1216"
       ]
      },
      {
       "output_type": "stream",
       "stream": "stdout",
       "text": [
        " http://www.simplymarry.com/matrimonial/bride/vizf948344/Hindu/Velama/Umakalyani-Reddy\n",
        "1217"
       ]
      },
      {
       "output_type": "stream",
       "stream": "stdout",
       "text": [
        " http://www.simplymarry.com/matrimonial/bride/chef979364/Hindu/Kamma/Hema-Latha\n",
        "1218"
       ]
      },
      {
       "output_type": "stream",
       "stream": "stdout",
       "text": [
        " http://www.simplymarry.com/matrimonial/bride/punf930507/Hindu/Padmasali/Shailaja-Kotewar\n",
        "1219"
       ]
      },
      {
       "output_type": "stream",
       "stream": "stdout",
       "text": [
        " http://www.simplymarry.com/matrimonial/bride/hydf826402/Hindu/Mala/Archana-Jyothi\n",
        "1220"
       ]
      },
      {
       "output_type": "stream",
       "stream": "stdout",
       "text": [
        " http://www.simplymarry.com/matrimonial/bride/anpf940680/Hindu/OBC/Barber/Naayee/Pandluri-Chandrababu\n",
        "1221"
       ]
      },
      {
       "output_type": "stream",
       "stream": "stdout",
       "text": [
        " http://www.simplymarry.com/matrimonial/bride/ncrf937022/Hindu/Kshatriya/Anuradha-Murthy\n",
        "1222"
       ]
      },
      {
       "output_type": "stream",
       "stream": "stdout",
       "text": [
        " http://www.simplymarry.com/matrimonial/bride/secf906276/Hindu/Vysya/Sheela-Chandrasekhar\n",
        "1223"
       ]
      },
      {
       "output_type": "stream",
       "stream": "stdout",
       "text": [
        " http://www.simplymarry.com/matrimonial/bride/bolsatrediff/Hindu/Kapu/Telugu-Ammai\n",
        "1224"
       ]
      },
      {
       "output_type": "stream",
       "stream": "stdout",
       "text": [
        " http://www.simplymarry.com/matrimonial/bride/hydf923035/Hindu/Brahmin---Rarhi/Sasi-Kumar\n",
        "1225"
       ]
      },
      {
       "output_type": "stream",
       "stream": "stdout",
       "text": [
        " http://www.simplymarry.com/matrimonial/bride/hydf893209/Hindu/Munnuru-Kapu/Priyanka-Pusala\n",
        "1226"
       ]
      },
      {
       "output_type": "stream",
       "stream": "stdout",
       "text": [
        " http://www.simplymarry.com/matrimonial/bride/karf965510/Hindu/Yadav/Sunitha-Ellaboina\n",
        "1227"
       ]
      },
      {
       "output_type": "stream",
       "stream": "stdout",
       "text": [
        " http://www.simplymarry.com/matrimonial/bride/hydf958231/Hindu/Padmasali/Karre-Madhavi\n",
        "1228"
       ]
      },
      {
       "output_type": "stream",
       "stream": "stdout",
       "text": [
        " http://www.simplymarry.com/matrimonial/bride/karf852681/Hindu/Gavara/P-Kavitha\n",
        "1229"
       ]
      },
      {
       "output_type": "stream",
       "stream": "stdout",
       "text": [
        " http://www.simplymarry.com/matrimonial/bride/chef830071/Hindu/Balija/Later-Later\n",
        "1230"
       ]
      },
      {
       "output_type": "stream",
       "stream": "stdout",
       "text": [
        " http://www.simplymarry.com/matrimonial/bride/chef388174/Hindu/Kavitha-Devi\n",
        "1231"
       ]
      },
      {
       "output_type": "stream",
       "stream": "stdout",
       "text": [
        " http://www.simplymarry.com/matrimonial/bride/warf821010/Hindu/Padmasali/Gfadsv-Ftttshh\n",
        "1232"
       ]
      },
      {
       "output_type": "stream",
       "stream": "stdout",
       "text": [
        " http://www.simplymarry.com/matrimonial/bride/coif834490/Hindu/Chettiar/Maniammai-Natarajan\n",
        "1233"
       ]
      },
      {
       "output_type": "stream",
       "stream": "stdout",
       "text": [
        " http://www.simplymarry.com/matrimonial/bride/anpf369595/Hindu/Taruni-G\n",
        "1234"
       ]
      },
      {
       "output_type": "stream",
       "stream": "stdout",
       "text": [
        " http://www.simplymarry.com/matrimonial/bride/hydf1073316/Hindu/Brahmin---Telugu/P-C\n",
        "1235"
       ]
      },
      {
       "output_type": "stream",
       "stream": "stdout",
       "text": [
        " http://www.simplymarry.com/matrimonial/bride/hydf385333/Hindu/Reddy/Sweety-Reddy\n",
        "1236"
       ]
      },
      {
       "output_type": "stream",
       "stream": "stdout",
       "text": [
        " http://www.simplymarry.com/matrimonial/bride/anpf297455/Hindu/Saritha-Muthyala\n",
        "1237"
       ]
      },
      {
       "output_type": "stream",
       "stream": "stdout",
       "text": [
        " http://www.simplymarry.com/matrimonial/bride/chef917965/Hindu/Reddy/Ramya-Reddy\n",
        "1238"
       ]
      },
      {
       "output_type": "stream",
       "stream": "stdout",
       "text": [
        " http://www.simplymarry.com/matrimonial/bride/0005723429/Hindu/Balija/Sabitha-V\n",
        "1239"
       ]
      },
      {
       "output_type": "stream",
       "stream": "stdout",
       "text": [
        " http://www.simplymarry.com/matrimonial/bride/hydf596926/Hindu/Velama/Srilekha-Rao\n",
        "1240"
       ]
      },
      {
       "output_type": "stream",
       "stream": "stdout",
       "text": [
        " http://www.simplymarry.com/matrimonial/bride/banf830469/Hindu/Viswabrahmin/Sujatha-Ap\n",
        "1241"
       ]
      },
      {
       "output_type": "stream",
       "stream": "stdout",
       "text": [
        " http://www.simplymarry.com/matrimonial/bride/banf1108487/Hindu/Brahmin---Smartha/Chaitanya-Rupa\n",
        "1242"
       ]
      },
      {
       "output_type": "stream",
       "stream": "stdout",
       "text": [
        " http://www.simplymarry.com/matrimonial/bride/anpf710692/Hindu/OBC/Barber/Naayee/Swarnamabjari-Jampal\n",
        "1243"
       ]
      },
      {
       "output_type": "stream",
       "stream": "stdout",
       "text": [
        " http://www.simplymarry.com/matrimonial/bride/banf928076/Hindu/Kshatriya/Prathibha-K\n",
        "1244"
       ]
      },
      {
       "output_type": "stream",
       "stream": "stdout",
       "text": [
        " http://www.simplymarry.com/matrimonial/bride/chif897734/Hindu/Hindu-Others/Nampalli-Praveena\n",
        "1245"
       ]
      },
      {
       "output_type": "stream",
       "stream": "stdout",
       "text": [
        " http://www.simplymarry.com/matrimonial/bride/coif834426/Hindu/Kamma/R-S\n",
        "1246"
       ]
      },
      {
       "output_type": "stream",
       "stream": "stdout",
       "text": [
        " http://www.simplymarry.com/matrimonial/bride/chef190697/Hindu/Padmasali/Selvakkumari-Arunachalam\n",
        "1247"
       ]
      },
      {
       "output_type": "stream",
       "stream": "stdout",
       "text": [
        " http://www.simplymarry.com/matrimonial/bride/chef189938/Hindu/Kshatriya/Gowrishankar-Raju\n",
        "1248"
       ]
      },
      {
       "output_type": "stream",
       "stream": "stdout",
       "text": [
        " http://www.simplymarry.com/matrimonial/bride/hydf832504/Hindu/Mala/Hema-Latha\n",
        "1249"
       ]
      },
      {
       "output_type": "stream",
       "stream": "stdout",
       "text": [
        " http://www.simplymarry.com/matrimonial/bride/chif886722/Hindu/Kamma/Hari-Hari\n",
        "1250"
       ]
      },
      {
       "output_type": "stream",
       "stream": "stdout",
       "text": [
        " http://www.simplymarry.com/matrimonial/bride/banf902862/Hindu/Brahmin/Prashanthi-Y\n",
        "1251"
       ]
      },
      {
       "output_type": "stream",
       "stream": "stdout",
       "text": [
        " http://www.simplymarry.com/matrimonial/bride/anpf530920/Hindu/Kapu-Naidu/Srivanya-K\n",
        "1252"
       ]
      },
      {
       "output_type": "stream",
       "stream": "stdout",
       "text": [
        " http://www.simplymarry.com/matrimonial/bride/banf775132/Hindu/Reddy/Krishna-Reddy\n",
        "1253"
       ]
      },
      {
       "output_type": "stream",
       "stream": "stdout",
       "text": [
        " http://www.simplymarry.com/matrimonial/bride/warf791739/Hindu/Velama/Chintala-Anitha\n",
        "1254"
       ]
      },
      {
       "output_type": "stream",
       "stream": "stdout",
       "text": [
        " http://www.simplymarry.com/matrimonial/bride/hydf719471/Hindu/Mala/Prasanna-Vani\n",
        "1255"
       ]
      },
      {
       "output_type": "stream",
       "stream": "stdout",
       "text": [
        " http://www.simplymarry.com/matrimonial/bride/banf750833/Christian/Others/Sumana-Manne\n",
        "1256"
       ]
      },
      {
       "output_type": "stream",
       "stream": "stdout",
       "text": [
        " http://www.simplymarry.com/matrimonial/bride/banf750613/Hindu/Reddy/Radha-G\n",
        "1257"
       ]
      },
      {
       "output_type": "stream",
       "stream": "stdout",
       "text": [
        " http://www.simplymarry.com/matrimonial/bride/hydf854934/Hindu/Brahmin/Deepika-Copparapu\n",
        "1258"
       ]
      },
      {
       "output_type": "stream",
       "stream": "stdout",
       "text": [
        " http://www.simplymarry.com/matrimonial/bride/chaf670867/Hindu/Brahmin/Shubhangi-Nistala\n",
        "1259"
       ]
      },
      {
       "output_type": "stream",
       "stream": "stdout",
       "text": [
        " http://www.simplymarry.com/matrimonial/bride/chef565166/Hindu/Naidu/Aarthi-Govindaraj\n",
        "1260"
       ]
      },
      {
       "output_type": "stream",
       "stream": "stdout",
       "text": [
        " http://www.simplymarry.com/matrimonial/bride/banf847844/Hindu/Balija/Sharmila-Guruprasad\n",
        "1261"
       ]
      },
      {
       "output_type": "stream",
       "stream": "stdout",
       "text": [
        " http://www.simplymarry.com/matrimonial/bride/hydf656845/Hindu/Scheduled-Caste/Sridevi-Kota\n",
        "1262"
       ]
      },
      {
       "output_type": "stream",
       "stream": "stdout",
       "text": [
        " http://www.simplymarry.com/matrimonial/bride/hydf834265/Hindu/Madiga/Lavanya-M\n",
        "1263"
       ]
      },
      {
       "output_type": "stream",
       "stream": "stdout",
       "text": [
        " http://www.simplymarry.com/matrimonial/bride/anpf564594/Hindu/Viswabrahmin/Latharupam-Rupam\n",
        "1264"
       ]
      },
      {
       "output_type": "stream",
       "stream": "stdout",
       "text": [
        " http://www.simplymarry.com/matrimonial/bride/hydf531142/Hindu/Devandra-Kula-Vellalar/Jayaprasad-Challa\n",
        "1265"
       ]
      },
      {
       "output_type": "stream",
       "stream": "stdout",
       "text": [
        " http://www.simplymarry.com/matrimonial/bride/hydf720198/Hindu/Balija/Hema-Padma\n",
        "1266"
       ]
      },
      {
       "output_type": "stream",
       "stream": "stdout",
       "text": [
        " http://www.simplymarry.com/matrimonial/bride/ahef568008/Hindu/Naidu/Heena-Naidu\n",
        "1267"
       ]
      },
      {
       "output_type": "stream",
       "stream": "stdout",
       "text": [
        " http://www.simplymarry.com/matrimonial/bride/mumf752922/Hindu/Brahmin-6000-Niyogi/Indrani-Singarazu\n",
        "1268"
       ]
      },
      {
       "output_type": "stream",
       "stream": "stdout",
       "text": [
        " http://www.simplymarry.com/matrimonial/bride/anpf593094/Hindu/Scheduled-Caste/Kumari-Aruna\n",
        "1269"
       ]
      },
      {
       "output_type": "stream",
       "stream": "stdout",
       "text": [
        " http://www.simplymarry.com/matrimonial/bride/hydf142340/Hindu/Reddy/Vani-Chintala\n",
        "1270"
       ]
      },
      {
       "output_type": "stream",
       "stream": "stdout",
       "text": [
        " http://www.simplymarry.com/matrimonial/bride/hydf588622/Hindu/Balija/Bindubhargavi-Varanasi\n",
        "1271"
       ]
      },
      {
       "output_type": "stream",
       "stream": "stdout",
       "text": [
        " http://www.simplymarry.com/matrimonial/bride/thaf748254/Hindu/Mudiraj/Sujatha-Girap\n",
        "1272"
       ]
      },
      {
       "output_type": "stream",
       "stream": "stdout",
       "text": [
        " http://www.simplymarry.com/matrimonial/bride/mumf743580/Hindu/Brahmin-6000-Niyogi/Mallikamani-Singarazu\n",
        "1273"
       ]
      },
      {
       "output_type": "stream",
       "stream": "stdout",
       "text": [
        " http://www.simplymarry.com/matrimonial/bride/anpf382857/Hindu/Jo-Patnamsetty\n",
        "1274"
       ]
      },
      {
       "output_type": "stream",
       "stream": "stdout",
       "text": [
        " http://www.simplymarry.com/matrimonial/bride/banf421126/Hindu/Arya-Vysya/Chandra-Sheker\n",
        "1275"
       ]
      },
      {
       "output_type": "stream",
       "stream": "stdout",
       "text": [
        " http://www.simplymarry.com/matrimonial/bride/othf399417/Hindu/Brahmin/Asha-Kantamraju\n",
        "1276"
       ]
      },
      {
       "output_type": "stream",
       "stream": "stdout",
       "text": [
        " http://www.simplymarry.com/matrimonial/bride/anpf298777/Hindu/Sudha-Rani\n",
        "1277"
       ]
      },
      {
       "output_type": "stream",
       "stream": "stdout",
       "text": [
        " http://www.simplymarry.com/matrimonial/bride/hydf406211/Hindu/Kala-Gggg\n",
        "1278"
       ]
      },
      {
       "output_type": "stream",
       "stream": "stdout",
       "text": [
        " http://www.simplymarry.com/matrimonial/bride/anpf348241/Hindu/Annapurna-Shivaraj\n",
        "1279"
       ]
      },
      {
       "output_type": "stream",
       "stream": "stdout",
       "text": [
        " http://www.simplymarry.com/matrimonial/bride/chef468923/Hindu/V-Sabitha\n",
        "1280"
       ]
      },
      {
       "output_type": "stream",
       "stream": "stdout",
       "text": [
        " http://www.simplymarry.com/matrimonial/bride/mumf120142/Hindu/Yadav/Sujata-J\n",
        "1281"
       ]
      },
      {
       "output_type": "stream",
       "stream": "stdout",
       "text": [
        " http://www.simplymarry.com/matrimonial/bride/anpf234825/Hindu/Brahmin/K-Uma\n",
        "1282"
       ]
      },
      {
       "output_type": "stream",
       "stream": "stdout",
       "text": [
        " http://www.simplymarry.com/matrimonial/bride/anpf245743/Hindu/Gowda/Joshna-N\n",
        "1283"
       ]
      },
      {
       "output_type": "stream",
       "stream": "stdout",
       "text": [
        " http://www.simplymarry.com/matrimonial/bride/hydf290925/Hindu/Lakshmi-Pooja\n",
        "1284"
       ]
      },
      {
       "output_type": "stream",
       "stream": "stdout",
       "text": [
        " http://www.simplymarry.com/matrimonial/bride/ongf1103959/Hindu/Kamma/Deepthi-Thummala\n",
        "1285"
       ]
      },
      {
       "output_type": "stream",
       "stream": "stdout",
       "text": [
        " http://www.simplymarry.com/matrimonial/bride/delf110770/Christian/Catholic/Philo-Dorairaj\n",
        "1286"
       ]
      },
      {
       "output_type": "stream",
       "stream": "stdout",
       "text": [
        " http://www.simplymarry.com/matrimonial/bride/hydf928275/Hindu/Brahmin---Smartha/N-S\n",
        "1287"
       ]
      },
      {
       "output_type": "stream",
       "stream": "stdout",
       "text": [
        " http://www.simplymarry.com/matrimonial/bride/coif1042228/Hindu/Balija/Karthika-Balu\n",
        "1288"
       ]
      },
      {
       "output_type": "stream",
       "stream": "stdout",
       "text": [
        " http://www.simplymarry.com/matrimonial/bride/lavanya/Hindu/Kamakshi-Sanagaram\n",
        "1289"
       ]
      },
      {
       "output_type": "stream",
       "stream": "stdout",
       "text": [
        " http://www.simplymarry.com/matrimonial/bride/SMF1721374/Hindu/Naidu/Bheemanaidu\n",
        "1290"
       ]
      },
      {
       "output_type": "stream",
       "stream": "stdout",
       "text": [
        " http://www.simplymarry.com/matrimonial/bride/SMF1739777/Hindu/Munnuru-Kapu/Sarika-Kalasikam\n",
        "1291"
       ]
      },
      {
       "output_type": "stream",
       "stream": "stdout",
       "text": [
        " http://www.simplymarry.com/matrimonial/bride/hydf1169800/Hindu/Reddy/Swetha\n",
        "1292"
       ]
      },
      {
       "output_type": "stream",
       "stream": "stdout",
       "text": [
        " http://www.simplymarry.com/matrimonial/bride/SMF1623837/Hindu/Kamma/Lakshmi\n",
        "1293"
       ]
      },
      {
       "output_type": "stream",
       "stream": "stdout",
       "text": [
        " http://www.simplymarry.com/matrimonial/bride/SMF1597643/Christian/Orthodox/Reakha-Rao\n",
        "1294"
       ]
      },
      {
       "output_type": "stream",
       "stream": "stdout",
       "text": [
        " http://www.simplymarry.com/matrimonial/bride/SMF1642190/Hindu/Balija/Sunitha-Macherla\n",
        "1295"
       ]
      },
      {
       "output_type": "stream",
       "stream": "stdout",
       "text": [
        " http://www.simplymarry.com/matrimonial/bride/SMF1682563/Christian/Catholic/Vidya\n",
        "1296"
       ]
      },
      {
       "output_type": "stream",
       "stream": "stdout",
       "text": [
        " http://www.simplymarry.com/matrimonial/bride/SMF1695506/Hindu/Brahmin/Meduri-Lavanya\n",
        "1297"
       ]
      },
      {
       "output_type": "stream",
       "stream": "stdout",
       "text": [
        " http://www.simplymarry.com/matrimonial/bride/SMF1576760/Hindu/Brahmin/Shivani-Sharma\n",
        "1298"
       ]
      },
      {
       "output_type": "stream",
       "stream": "stdout",
       "text": [
        " http://www.simplymarry.com/matrimonial/bride/SMF1724512/Hindu/Naidu/Aprana-Devi\n",
        "1299"
       ]
      },
      {
       "output_type": "stream",
       "stream": "stdout",
       "text": [
        " http://www.simplymarry.com/matrimonial/bride/SMF1693985/Hindu/Viswabrahmin/Hema\n",
        "1300"
       ]
      },
      {
       "output_type": "stream",
       "stream": "stdout",
       "text": [
        " http://www.simplymarry.com/matrimonial/bride/SMM1645968/Hindu/Scheduled-Caste/Prerna.-Allam\n",
        "1301"
       ]
      },
      {
       "output_type": "stream",
       "stream": "stdout",
       "text": [
        " http://www.simplymarry.com/matrimonial/bride/SMF1611861/Hindu/Neha\n",
        "1302"
       ]
      },
      {
       "output_type": "stream",
       "stream": "stdout",
       "text": [
        " http://www.simplymarry.com/matrimonial/bride/SMF1613835/Hindu/Telaga/Prabhati-Dora\n",
        "1303"
       ]
      },
      {
       "output_type": "stream",
       "stream": "stdout",
       "text": [
        " http://www.simplymarry.com/matrimonial/bride/SMF1696995/Hindu/Reddy/Pallavi-Reddy-Thota\n",
        "1304"
       ]
      },
      {
       "output_type": "stream",
       "stream": "stdout",
       "text": [
        " http://www.simplymarry.com/matrimonial/bride/SMF1730829/Hindu/Arya-Vysya/Kavitha-Vallur\n",
        "1305"
       ]
      },
      {
       "output_type": "stream",
       "stream": "stdout",
       "text": [
        " http://www.simplymarry.com/matrimonial/bride/SMF1735041/Christian/Protestant/Vidhya\n",
        "1306"
       ]
      },
      {
       "output_type": "stream",
       "stream": "stdout",
       "text": [
        " http://www.simplymarry.com/matrimonial/bride/SMF1744944/Hindu/Naidu/Arti-N\n",
        "1307"
       ]
      },
      {
       "output_type": "stream",
       "stream": "stdout",
       "text": [
        " http://www.simplymarry.com/matrimonial/bride/SMF1639868/Hindu/Kuruba/Swethakp\n",
        "1308"
       ]
      },
      {
       "output_type": "stream",
       "stream": "stdout",
       "text": [
        " http://www.simplymarry.com/matrimonial/bride/SMF1703919/Hindu/Viswabrahmin/Lavanya.m\n",
        "1309"
       ]
      },
      {
       "output_type": "stream",
       "stream": "stdout",
       "text": [
        " http://www.simplymarry.com/matrimonial/bride/SMF1708578/Hindu/Arya-Vysya/Shilpi-Guntula\n",
        "1310"
       ]
      },
      {
       "output_type": "stream",
       "stream": "stdout",
       "text": [
        " http://www.simplymarry.com/matrimonial/bride/SMF1713096/Hindu/Scheduled-Caste/Sandya\n",
        "1311"
       ]
      },
      {
       "output_type": "stream",
       "stream": "stdout",
       "text": [
        " http://www.simplymarry.com/matrimonial/bride/SMF1727769/Christian/Protestant/Joy-Priscilla-Katuri\n",
        "1312"
       ]
      },
      {
       "output_type": "stream",
       "stream": "stdout",
       "text": [
        " http://www.simplymarry.com/matrimonial/bride/SMF1736956/Hindu/Settibalija/Veeravalli-Jagarini\n"
       ]
      }
     ],
     "prompt_number": 6
    },
    {
     "cell_type": "code",
     "collapsed": false,
     "input": [],
     "language": "python",
     "metadata": {},
     "outputs": []
    }
   ],
   "metadata": {}
  }
 ]
}
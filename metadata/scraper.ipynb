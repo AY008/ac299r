{
 "metadata": {
  "name": ""
 },
 "nbformat": 3,
 "nbformat_minor": 0,
 "worksheets": [
  {
   "cells": [
    {
     "cell_type": "heading",
     "level": 1,
     "metadata": {},
     "source": [
      "Nikhil's AC 299r: Data Exploration of Indian Matrimony Sites"
     ]
    },
    {
     "cell_type": "code",
     "collapsed": false,
     "input": [
      "# special IPython command to prepare the notebook for matplotlib\n",
      "%matplotlib inline \n",
      "\n",
      "from fnmatch import fnmatch\n",
      "\n",
      "import numpy as np\n",
      "import pandas as pd\n",
      "import matplotlib.pyplot as plt\n",
      "import requests\n",
      "from pattern import web\n",
      "\n",
      "\n",
      "# set some nicer defaults for matplotlib\n",
      "from matplotlib import rcParams\n",
      "\n",
      "#these colors come from colorbrewer2.org. Each is an RGB triplet\n",
      "dark2_colors = [(0.10588235294117647, 0.6196078431372549, 0.4666666666666667),\n",
      "                (0.8509803921568627, 0.37254901960784315, 0.00784313725490196),\n",
      "                (0.4588235294117647, 0.4392156862745098, 0.7019607843137254),\n",
      "                (0.9058823529411765, 0.1607843137254902, 0.5411764705882353),\n",
      "                (0.4, 0.6509803921568628, 0.11764705882352941),\n",
      "                (0.9019607843137255, 0.6705882352941176, 0.00784313725490196),\n",
      "                (0.6509803921568628, 0.4627450980392157, 0.11372549019607843),\n",
      "                (0.4, 0.4, 0.4)]\n",
      "\n",
      "rcParams['figure.figsize'] = (10, 6)\n",
      "rcParams['figure.dpi'] = 150\n",
      "rcParams['axes.color_cycle'] = dark2_colors\n",
      "rcParams['lines.linewidth'] = 2\n",
      "rcParams['axes.grid'] = True\n",
      "rcParams['axes.facecolor'] = '#eeeeee'\n",
      "rcParams['font.size'] = 14\n",
      "rcParams['patch.edgecolor'] = 'none'"
     ],
     "language": "python",
     "metadata": {},
     "outputs": [],
     "prompt_number": 2
    },
    {
     "cell_type": "raw",
     "metadata": {},
     "source": [
      "The below code extracts profile links from a saved SimplyMarry.com search results page."
     ]
    },
    {
     "cell_type": "code",
     "collapsed": false,
     "input": [
      "import unicodedata\n",
      "\n",
      "with open('grooms_marathi.html', 'r') as content_file:\n",
      "    content = content_file.read()\n",
      "    \n",
      "dom = web.Element(content)\n",
      "    \n",
      "def extract(content):\n",
      "    res = pd.DataFrame(columns=('age', 'height', 'caste', 'religion', 'language', 'author', 'education', 'employment', 'location', 'description', 'link', 'gender'))\n",
      "    for match in dom.by_tag('div.smsrchr_prodetpnl'):\n",
      "        first = match.by_tag('div.smsrchr_prodetpnl1')\n",
      "        \n",
      "        measure = len(first[0]('ul li'))\n",
      "        t1 = first[0]('ul li')[2].content\n",
      "        t2 = first[0]('ul li')[5].content\n",
      "        \n",
      "        if measure > 7:\n",
      "            t3 = first[0]('ul li')[8].content\n",
      "        else:\n",
      "            t3 = None\n",
      "            \n",
      "        if measure > 10:\n",
      "            t4 = first[0]('ul li')[11].content\n",
      "        else:\n",
      "            t4 = None            \n",
      "            \n",
      "        if measure > 13:\n",
      "            t5 = first[0]('ul li')[14].content\n",
      "        else:\n",
      "            t5 = None\n",
      "        \n",
      "        second = match.by_tag('div.smsrchr_prodetpnl2')\n",
      "        \n",
      "        measure = len(second[0]('ul li'))\n",
      "        t6 = second[0]('ul li')[2].content\n",
      "        \n",
      "        if measure > 4:\n",
      "            t7 = second[0]('ul li')[5].content\n",
      "        else:\n",
      "            t7 = None        \n",
      "\n",
      "        if measure > 7:\n",
      "            t8 = second[0]('ul li')[8].content\n",
      "        else:\n",
      "            t8 = None\n",
      "        \n",
      "        if measure > 10:\n",
      "            t9 = second[0]('ul li')[11].content\n",
      "        else:\n",
      "            t9 = None\n",
      "                \n",
      "        temp= unicode(match.by_tag('p')[0].content)\n",
      "        \n",
      "        temp = unicodedata.normalize('NFKD', temp).encode('ascii','ignore')\n",
      "        \n",
      "        pos= str.find(temp, '<')\n",
      "        \n",
      "        t10 = temp[:pos]\n",
      "        \n",
      "        t11 = match.by_tag('a')[0].attrs['href']\n",
      "        \n",
      "        res = res.append(pd.DataFrame([dict(age=t1[:-4], height=t2, caste=t3, religion=t4, language=t5, author=t6, education=t7, employment=t8, location=t9, description=t10, link=t11, gender=1) ]), ignore_index=True)\n",
      "    return res\n",
      "    \n",
      "to_write = extract(content)\n",
      "\n",
      "to_write.to_csv('grooms_marathi.csv', index=False)\n",
      "#critics = pd.read_csv('critics.csv')"
     ],
     "language": "python",
     "metadata": {},
     "outputs": [],
     "prompt_number": 8
    },
    {
     "cell_type": "markdown",
     "metadata": {},
     "source": [
      "The below code extracts full profiles from the above data frame of metadata."
     ]
    },
    {
     "cell_type": "code",
     "collapsed": false,
     "input": [
      "import unicodedata\n",
      "\n",
      "import requests\n",
      "import re\n",
      "\n",
      "cookies = dict(JSESSIONID=\"24AD72787C3136C64BD0B674E7FD55F2.SMAPP01\", SM_PUBLIC_ENCRYPTED_ID=\"wRTH7fh9ai/7ihX7Udb8WA==\", SM_PUBLIC_SESSION_KEY='HYJMRLXUOBYQXVRMSMMSCPWCWIOOBBUF',SimplyMarryAuthCookie='YTNwM2JBa1dnZ3JaY1p6d3Q2T1MyZz09Omw1NW5tTDVIM1EyV21qcDZGcTh3SkE9PQ')\n",
      "    \n",
      "def extract(content, plink):\n",
      "    dom = web.Element(content)\n",
      "    \n",
      "    temp = dom.by_tag('p#cRs_293')\n",
      "    if len(temp) >= 1:\n",
      "        about1 = unicodedata.normalize('NFKD', temp[0].content.strip()).encode('ascii','ignore')\n",
      "        print about1\n",
      "    else:\n",
      "        about1 = ''\n",
      "        \n",
      "    temp = dom.by_tag('div.pddetail_mid')\n",
      "    if len(temp) >= 1:\n",
      "        details = unicodedata.normalize('NFKD', temp[0].content.strip()).encode('ascii','ignore')\n",
      "    else:\n",
      "        details = ''\n",
      "        \n",
      "    temp = dom.by_tag('div.detsec_profiledet')\n",
      "    if len(temp) >= 2:\n",
      "        temp2 = temp[1].by_tag('p')\n",
      "        if len(temp2) >= 1:\n",
      "            about2 = unicodedata.normalize('NFKD', temp2[0].content).encode('ascii','ignore')\n",
      "        else:\n",
      "            about2 = ''\n",
      "    else:\n",
      "        about2 = ''\n",
      "    \n",
      "    lists = dom.by_tag('li.ulli_wth')\n",
      "    \n",
      "    marital_status1, marital_status2 = '', ''\n",
      "    have_children = ''\n",
      "    created_for = ''\n",
      "    last_login = None\n",
      "    age2, city2 = '', ''\n",
      "    \n",
      "    height1, height2 = '', ''\n",
      "    weight1, weight2 = '', ''\n",
      "    complexion1, complexion2 = '', ''\n",
      "    body1, body2 = '', ''\n",
      "    special1, special2 = '', ''\n",
      "    \n",
      "    college = ''\n",
      "    degree = ''\n",
      "    fields = ''\n",
      "    education2 = ''\n",
      "    employed1, employed2 = '', ''\n",
      "    occupation = ''\n",
      "    income1, income2 = '', ''\n",
      "    \n",
      "    religion1, religion2 = '', ''\n",
      "    mother1, mother2 = '', ''\n",
      "    caste1, caste2 = '', ''\n",
      "    subcaste = ''\n",
      "    manglik1, manglik2 = '', ''\n",
      "    gotra = ''\n",
      "    nakshatra = ''\n",
      "    raasi = ''\n",
      "    horoscope = ''\n",
      "    \n",
      "    birth1, birth2, birth3, birth4 = '', '', '', ''\n",
      "    \n",
      "    smoking1, smoking2 = '', ''\n",
      "    drinking1, drinking2 = '', ''\n",
      "    eating1, eating2 = '', ''\n",
      "    \n",
      "    father, mother, brothers, sisters, living = '', '', '', '', ''\n",
      "    \n",
      "    values1, values2 = '', ''\n",
      "    family_type1, family_type2 = '', ''\n",
      "    status1, status2= '', ''\n",
      "    about_family = ''\n",
      "    \n",
      "    \n",
      "    for i in lists:\n",
      "        if i.content.strip() == \"Marital Status\":\n",
      "            if marital_status1 == '':\n",
      "                marital_status1 = i.parent('li')[2].content\n",
      "            else:\n",
      "                marital_status2 = i.parent('li')[2].content\n",
      "        elif i.content.strip() == \"Have Children\":\n",
      "            if have_children == '':\n",
      "                have_children = i.parent('li')[2].content\n",
      "        elif i.content.strip() == \"Created For\":\n",
      "            created_for = i.parent('li')[2].content\n",
      "        elif i.content.strip() == \"Last Login\":\n",
      "            last_login = i.parent('li')[2].content\n",
      "        elif i.content.strip() == \"Age\":\n",
      "            age2 = i.parent('li')[2].content\n",
      "        elif i.content.strip() == \"City\":\n",
      "            city2 = i.parent('li')[2].content\n",
      "        elif i.content.strip() == \"Height\":\n",
      "            if height1 == '':\n",
      "                height1 = i.parent('li')[2].content\n",
      "            else:\n",
      "                height2 = i.parent('li')[2].content  \n",
      "        elif i.content.strip() == \"Weight\":\n",
      "            if weight1 == '':\n",
      "                weight1 = i.parent('li')[2].content\n",
      "            else:\n",
      "                weight2 = i.parent('li')[2].content\n",
      "        elif i.content.strip() == \"Complexion\":\n",
      "            if complexion1 == '':\n",
      "                complexion1 = i.parent('li')[2].content\n",
      "            else:\n",
      "                complexion2 = i.parent('li')[2].content        \n",
      "        elif i.content.strip() == \"Body Type\":\n",
      "            if body1 == '':\n",
      "                body1 = i.parent('li')[2].content\n",
      "            else:\n",
      "                body2 = i.parent('li')[2].content    \n",
      "        elif i.content.strip() == \"Special Case\":\n",
      "            special1 = i.parent('li')[2].content\n",
      "        elif i.content.strip() == \"Special Class\":\n",
      "            special2 = i.parent('li')[2].content\n",
      "        elif i.content.strip() == \"College/Institute\":\n",
      "            college = i.parent('li')[2].content\n",
      "        elif i.content.strip() == \"Highest Qualification\":\n",
      "            degree = i.parent('li')[2].content\n",
      "        elif i.content.strip() == \"Fields of Study\":\n",
      "            fields = i.parent('li')[2].content\n",
      "        elif i.content.strip() == \"Employed In\":\n",
      "            employed1 = i.parent('li')[2].content\n",
      "        elif i.content.strip() == \"Employed Sectors\":\n",
      "            employed2 = i.parent('li')[2].content\n",
      "        elif i.content.strip() == \"Education\":\n",
      "            education2 = i.parent('li')[2].content\n",
      "        elif i.content.strip() == \"Occupation\":\n",
      "            occupation = i.parent('li')[2].content\n",
      "        elif i.content.strip() == \"Annual Income\":\n",
      "            if income1 == '':\n",
      "                income1 = i.parent('li')[2].content\n",
      "            else:\n",
      "                income2 = i.parent('li')[2].content  \n",
      "        elif i.content.strip() == \"Religion\":\n",
      "            if religion1 == '':\n",
      "                religion1 = i.parent('li')[2].content\n",
      "            else:\n",
      "                religion2 = i.parent('li')[2].content  \n",
      "        elif i.content.strip() == \"Mother Tongue\":\n",
      "            if mother1 == '':\n",
      "                mother1 = i.parent('li')[2].content\n",
      "            else:\n",
      "                mother2 = i.parent('li')[2].content          \n",
      "        elif i.content.strip() == \"Caste\":\n",
      "            if caste1 == '':\n",
      "                caste1 = i.parent('li')[2].content\n",
      "            else:\n",
      "                caste2 = i.parent('li')[2].content  \n",
      "        elif i.content.strip() == \"Manglik\":\n",
      "            if manglik1 == '':\n",
      "                manglik1 = i.parent('li')[2].content\n",
      "            else:\n",
      "                manglik2 = i.parent('li')[2].content                 \n",
      "        elif i.content.strip() == \"Sub Caste\":\n",
      "            subcaste = i.parent('li')[2].content\n",
      "        elif i.content.strip() == \"Gotra /Gothram\":\n",
      "            gotra = i.parent('li')[2].content\n",
      "        elif i.content.strip() == \"Nakshatra (m)e\":\n",
      "            nakshatra = i.parent('li')[2].content  \n",
      "        elif i.content.strip() == \"Raasi/Moon Sign\":\n",
      "            raasi = i.parent('li')[2].content\n",
      "        elif i.content.strip() == \"Horoscope Required\":\n",
      "            horoscope = i.parent('li')[2].content\n",
      "        elif i.content.strip() == \"Date Of Birth\":\n",
      "            birth1 = i.parent('li')[2].content\n",
      "        elif i.content.strip() == \"Time Of Birth\":\n",
      "            birth2 = i.parent('li')[2].content\n",
      "        elif i.content.strip() == \"Country of birth\":\n",
      "            birth3 = i.parent('li')[2].content\n",
      "        elif i.content.strip() == \"Birth Place\":\n",
      "            birth4 = i.parent('li')[2].content\n",
      "        elif i.content.strip() == \"Smoking\":\n",
      "            if smoking1 == '':\n",
      "                smoking1 = i.parent('li')[2].content\n",
      "            else:\n",
      "                smoking2 = i.parent('li')[2].content          \n",
      "        elif i.content.strip() == \"Drinking\":\n",
      "            if drinking1 == '':\n",
      "                drinking1 = i.parent('li')[2].content\n",
      "            else:\n",
      "                drinking2 = i.parent('li')[2].content  \n",
      "        elif i.content.strip() == \"Eating Habits\":\n",
      "            if eating1 == '':\n",
      "                eating1 = i.parent('li')[2].content\n",
      "            else:\n",
      "                eating2 = i.parent('li')[2].content\n",
      "        elif \"Father\" in i.content.strip() and \"Occupation\" in i.content.strip():\n",
      "            father = i.parent('li')[2].content\n",
      "        elif \"Mother\" in i.content.strip() and \"Occupation\" in i.content.strip():\n",
      "            mother = i.parent('li')[2].content\n",
      "        elif i.content.strip() == \"Brothers\":\n",
      "            brothers = i.parent('li')[2].content\n",
      "        elif i.content.strip() == \"Sisters\":\n",
      "            sisters = i.parent('li')[2].content\n",
      "        elif i.content.strip() == \"Living with parents?\":\n",
      "            living = i.parent('li')[2].content\n",
      "        elif i.content.strip() == \"Family values\":\n",
      "            values1 = i.parent('li')[2].content\n",
      "        elif i.content.strip() == \"Family Values\":\n",
      "            values2 = i.parent('li')[2].content\n",
      "        elif i.content.strip() == \"Family Type\":\n",
      "            if family_type1 == '':\n",
      "                family_type1 = i.parent('li')[2].content\n",
      "            else:\n",
      "                family_type2 = i.parent('li')[2].content  \n",
      "        elif i.content.strip() == \"Family Status\":\n",
      "            if status1 == '':\n",
      "                status1 = i.parent('li')[2].content\n",
      "            else:\n",
      "                status2 = i.parent('li')[2].content      \n",
      "        elif i.content.strip() == \"About my family\":\n",
      "            about_family = i.parent('li')[2].content\n",
      "            about_family = unicodedata.normalize('NFKD', about_family).encode('ascii','ignore')\n",
      "\n",
      "    return pd.DataFrame([dict(url=str(plink), about1=about1, about2=about2, details=details, marital_status1=marital_status1, marital_status2=marital_status2, have_children=have_children, created_for=created_for, last_login=last_login, age2=age2, city2=city2, height1=height1, height2=height2, weight1=weight1, weight2=weight2, complexion1=complexion1, complexion2=complexion2, body1=body1, body2=body2, special1=special1, special2=special2, college=college, degree=degree, fields=fields, education2=education2, employed1=employed1, employed2=employed2, occupation=occupation, income1=income1, income2=income2, religion1=religion1, religion2=religion2, mother1=mother1, mother2=mother2, caste1=caste1, caste2=caste2, manglik1=manglik1, manglik2=manglik2, subcaste=subcaste, gotra=gotra, horoscope=horoscope, raasi=raasi, nakshatra=nakshatra, birth1=birth1, birth2=birth2, birth3=birth3, birth4=birth4, smoking1=smoking1, smoking2=smoking2, drinking1=drinking1, drinking2=drinking2, eating1=eating1, eating2=eating2, father=father, mother=mother, brothers=brothers, sisters=sisters, living=living, values1=values1, values2=values2, family_type1=family_type1, family_type2=family_type2, status1=status1, status2=status2, about_family=about_family) ])\n",
      "\n",
      "\n",
      "def get_full_profiles(csv):\n",
      "    profiles = pd.DataFrame(columns=('url', 'about1', 'about2', 'details', 'marital_status1', 'marital_status2', 'have_children', 'created_for', 'last_login', 'age2', 'city2', 'height1', 'height2', 'weight1', 'weight2', 'complexion1', 'complexion2', 'body1', 'body2', 'special1', 'special2', 'college', 'degree', 'fields', 'education2', 'employed1', 'employed2', 'occupation', 'income1', 'income2', 'religion1', 'religion2', 'mother1', 'mother2', 'caste1', 'caste2', 'manglik1', 'manglik2', 'subcaste', 'gotra', 'horoscope', 'raasi', 'nakshatra', 'birth1', 'birth2', 'birth3', 'birth4', 'smoking1', 'smoking2', 'drinking1', 'drinking2', 'eating1', 'eating2', 'father', 'mother', 'brothers', 'sisters', 'living', 'values1', 'values2', 'family_type1', 'family_type2', 'status1', 'status2', 'about_family'))\n",
      "    brides = pd.read_csv(csv)\n",
      "    num = 0\n",
      "    for url in brides.link:    \n",
      "        r = requests.get(url, cookies=cookies)\n",
      "        if r.status_code == 200:\n",
      "            num+=1\n",
      "            print num, url\n",
      "            content = r.text\n",
      "            content = re.sub(r'\\s\\s+', ' ', content)\n",
      "            dom = web.Element(content)        \n",
      "            profiles = profiles.append(extract(content, url), ignore_index=True) \n",
      "        else:\n",
      "            continue\n",
      "    return profiles\n",
      "\n",
      "get_full_profiles('grooms_marathi.csv').to_csv('grooms_marathi_full.csv', encoding='utf-8', index=False)"
     ],
     "language": "python",
     "metadata": {},
     "outputs": [
      {
       "output_type": "stream",
       "stream": "stdout",
       "text": [
        "1 http://www.simplymarry.com/matrimonial/groom/SMM1636620/Hindu/Maratha/Vivek-Phapale\n",
        "Simple well educated guy from Mumbai. Working as Senior Software Engineer in Mumbai.Staying with my parents . Hobbies includes listening to music, travelling. Simple well educated guy from Mumbai. Working as Senior Software Engineer in Mumbai.Staying with my parents . Hobbies includes listening to music, travelling."
       ]
      },
      {
       "output_type": "stream",
       "stream": "stdout",
       "text": [
        "\n",
        "2"
       ]
      },
      {
       "output_type": "stream",
       "stream": "stdout",
       "text": [
        " http://www.simplymarry.com/matrimonial/groom/SMM1598783/Hindu/Brahmin/Himanshu-Chate\n",
        "Am Himanshu Chate, from a small family comprising of me, mom and dad."
       ]
      },
      {
       "output_type": "stream",
       "stream": "stdout",
       "text": [
        "\n",
        "3"
       ]
      },
      {
       "output_type": "stream",
       "stream": "stdout",
       "text": [
        " http://www.simplymarry.com/matrimonial/groom/SMM1556397/Hindu/Brahmin/Manish-Suranglikar\n",
        "I am simple and fun loving person, down to earth and respectful towards my family, i like to play cricket, driving a car and listen music a lot. I am searching some one special who lives with me forever and respect me and my family a lot."
       ]
      },
      {
       "output_type": "stream",
       "stream": "stdout",
       "text": [
        "\n",
        "4"
       ]
      },
      {
       "output_type": "stream",
       "stream": "stdout",
       "text": [
        " http://www.simplymarry.com/matrimonial/groom/SMM1621724/Buddhist/Akshay-Janbandhu\n",
        "Myself Akshay, I am a simple and fun loving person and currently working in a private company in Nagpur as a Accounts Executive. My father is Ret. Professor and my mother is a housewife and have 2 sisters."
       ]
      },
      {
       "output_type": "stream",
       "stream": "stdout",
       "text": [
        "\n",
        "5"
       ]
      },
      {
       "output_type": "stream",
       "stream": "stdout",
       "text": [
        " http://www.simplymarry.com/matrimonial/groom/SMM1579112/Hindu/Dhangar/Piyush-Whanmane\n",
        "Hi, I am working with a Pvt Co. as an Asst. Manager. I believe in both Traditional and Modern Values. I am a fun loving guy. I am looking for a like minded girl. She should be Career Oriented and at the same time she should take care of my family."
       ]
      },
      {
       "output_type": "stream",
       "stream": "stdout",
       "text": [
        "\n",
        "6"
       ]
      },
      {
       "output_type": "stream",
       "stream": "stdout",
       "text": [
        " http://www.simplymarry.com/matrimonial/groom/SMM1603079/Hindu/Maratha/Dr.chaitanya-Jadhao\n",
        "I am pursuing M.D. medicine from medical college, Mumbai. I am interested in sports and dance, besides my studies. My father is an Engineer."
       ]
      },
      {
       "output_type": "stream",
       "stream": "stdout",
       "text": [
        "\n",
        "7"
       ]
      },
      {
       "output_type": "stream",
       "stream": "stdout",
       "text": [
        " http://www.simplymarry.com/matrimonial/groom/SMM1533258/Hindu/Brahmin---Deshastha/Prasanna-Ainapure\n",
        "Hello, i am Prasanna Ainapure, an Environmental Engineer and done MBA in Marketing and working with Thermax Ltd Pune in Sales &amp; Marketing. I'm a simple, peaceful, sociable person &amp; expect my life partner to be caring, considerate &amp; simple."
       ]
      },
      {
       "output_type": "stream",
       "stream": "stdout",
       "text": [
        "\n",
        "8"
       ]
      },
      {
       "output_type": "stream",
       "stream": "stdout",
       "text": [
        " http://www.simplymarry.com/matrimonial/groom/SMM1555980/Buddhist/Sudarshan-Dattaram-Mohite\n",
        "I am a person who is positive about every aspect of life. There are many things I like to do, to see, and to experience. I like travel, draw the paintings, playing sports and many more."
       ]
      },
      {
       "output_type": "stream",
       "stream": "stdout",
       "text": [
        "\n",
        "9"
       ]
      },
      {
       "output_type": "stream",
       "stream": "stdout",
       "text": [
        " http://www.simplymarry.com/matrimonial/groom/SMM1547046/Hindu/Bari/Pradeep-Devidas-Hande\n",
        "I live in Pune. Like to see movies. A very hard working person."
       ]
      },
      {
       "output_type": "stream",
       "stream": "stdout",
       "text": [
        "\n",
        "10"
       ]
      },
      {
       "output_type": "stream",
       "stream": "stdout",
       "text": [
        " http://www.simplymarry.com/matrimonial/groom/SMM1623620/Hindu/Mahar/Hitesh-H-Bhave\n",
        "I AM LOVING, CARING AND DECENT PERSON. LIKE WATCHING MOVIES, HANGING OUT AND SPENDING TIME WITH FAMILY."
       ]
      },
      {
       "output_type": "stream",
       "stream": "stdout",
       "text": [
        "\n",
        "11"
       ]
      },
      {
       "output_type": "stream",
       "stream": "stdout",
       "text": [
        " http://www.simplymarry.com/matrimonial/groom/SMM1564530/Hindu/Maratha/Harshad-Patil\n",
        "Hi, though its not my sole identity, i am an engineer by education &amp; most of the times, by attitude too. My life has always been a journey full of adventures and surprises. So far, I have enjoyed my life to the fullest and always tried to learn something out of it. I enjoy watching movies, occasional traveling, brisk walking etc. Reading has always been my passion and my collection of books represent variety of subjects. One may also find me occasionally though, working on crafts,paintings etc. My leisure pursuits give me some awesome opportunities to reinvent myself. I would be really fortunate if my spouse likes and appreciates my hobbies &amp; interests. I will really enjoy with a foodie wife. Being positive towards life, I am looking for an understanding and creative life partner. It would be great to see myself with someone who is full of energy and vigor. It is indeed difficult to frame a fixed criteria. However, I will be very happy with a well-educated, independent &amp; ambitious working wife, who respects family values and believes in marriage as an institution. Adjectives such as 'sensible' and 'sensitive' shall compliment her nature and attitude towards life. Life is a beautiful fabric and I want to select each thread of our life passionately with my spouse."
       ]
      },
      {
       "output_type": "stream",
       "stream": "stdout",
       "text": [
        "\n",
        "12"
       ]
      },
      {
       "output_type": "stream",
       "stream": "stdout",
       "text": [
        " http://www.simplymarry.com/matrimonial/groom/SMM1583821/Hindu/Maratha/Smm1583821\n",
        "I am a simple and honest person who believes in traditional and modern world."
       ]
      },
      {
       "output_type": "stream",
       "stream": "stdout",
       "text": [
        "\n",
        "13"
       ]
      },
      {
       "output_type": "stream",
       "stream": "stdout",
       "text": [
        " http://www.simplymarry.com/matrimonial/groom/SMM1534006/Buddhist/Jaigopal-Ambade\n",
        "I am fun loving person. I love to read books. my expectation about my life partner are the girl must be either from medical or engineer background and simple because I believe in simple living &amp; high thinking."
       ]
      },
      {
       "output_type": "stream",
       "stream": "stdout",
       "text": [
        "\n",
        "14"
       ]
      },
      {
       "output_type": "stream",
       "stream": "stdout",
       "text": [
        " http://www.simplymarry.com/matrimonial/groom/SMM1532312/Hindu/Mali/Pramod-Jadhav\n",
        "Hi, I am Pramod from Pune, Maharashtra. I did my MBA (Agricultural) from college of Agriculture, Pune. Currently, i am working as a Corporate Sales &amp; Marketing Manager for Incotec India Pvt. Ltd, Ahmadabad, Gujarat."
       ]
      },
      {
       "output_type": "stream",
       "stream": "stdout",
       "text": [
        "\n",
        "15"
       ]
      },
      {
       "output_type": "stream",
       "stream": "stdout",
       "text": [
        " http://www.simplymarry.com/matrimonial/groom/SMM1632518/Hindu/Bhavasar-Kshatriya/Janakiraman-Rao\n",
        "Am working as a Gazetted officer (QA manager) in dept of defence production, Ministry of Defence. We are a close knit family of four with parents, younger bro and me. Right now am working in Bihar and expecting transfer to South India."
       ]
      },
      {
       "output_type": "stream",
       "stream": "stdout",
       "text": [
        "\n",
        "16"
       ]
      },
      {
       "output_type": "stream",
       "stream": "stdout",
       "text": [
        " http://www.simplymarry.com/matrimonial/groom/SMM1641086/Hindu/Maratha/Raju\n",
        "Am BA from Mumbai University and own business in interiors. ."
       ]
      },
      {
       "output_type": "stream",
       "stream": "stdout",
       "text": [
        "\n",
        "17"
       ]
      },
      {
       "output_type": "stream",
       "stream": "stdout",
       "text": [
        " http://www.simplymarry.com/matrimonial/groom/SMM1547674/Hindu/Maratha/Swapnil-Parhad\n",
        "He is smart, fun loving, caring, simple and easy going person. He likes to read and travel. He believes in ethical values and at the same time has modern outlook too. Currently, he is working as a Key Account Manager in Kelloggs."
       ]
      },
      {
       "output_type": "stream",
       "stream": "stdout",
       "text": [
        "\n",
        "18"
       ]
      },
      {
       "output_type": "stream",
       "stream": "stdout",
       "text": [
        " http://www.simplymarry.com/matrimonial/groom/SMM1534748/Hindu/Maratha/Dipesh-Vijay-Salkar\n",
        "i am decent type of person ,i like the girl who love me ,my family so much.she will be ambitious and good nature girl and help me in everything. i don't care about looks but she will be looking cute by nature"
       ]
      },
      {
       "output_type": "stream",
       "stream": "stdout",
       "text": [
        "\n",
        "19"
       ]
      },
      {
       "output_type": "stream",
       "stream": "stdout",
       "text": [
        " http://www.simplymarry.com/matrimonial/groom/SMM1570432/Hindu/Brahmin/Vaibhav-Ramesh-Kulkarni\n",
        "My brother is very simple person. He is having interest in bike riding, trekking. He is very caring, loving and having respect for elders and for his parents. He has white patches on his body."
       ]
      },
      {
       "output_type": "stream",
       "stream": "stdout",
       "text": [
        "\n",
        "20"
       ]
      },
      {
       "output_type": "stream",
       "stream": "stdout",
       "text": [
        " http://www.simplymarry.com/matrimonial/groom/SMM1533334/Hindu/Kshatriya/Jitendra-H-Salvi\n",
        "I'm Simple Person with high Family values, Straight forward in nature and understating. I am Tall and Dark in Looks, Completed my Masters from MS university of Baroda. I have a younger brother studying Second year in B.COM"
       ]
      },
      {
       "output_type": "stream",
       "stream": "stdout",
       "text": [
        "\n",
        "21"
       ]
      },
      {
       "output_type": "stream",
       "stream": "stdout",
       "text": [
        " http://www.simplymarry.com/matrimonial/groom/SMM1612195/Hindu/Maratha/Manoj-Aier\n",
        "I am residing in goa since birth with my parents. I have done fabrication engg course and have a small workshop in Panjim. Have 2 sisters, both are married. I m down to earth person and very caring for my family."
       ]
      },
      {
       "output_type": "stream",
       "stream": "stdout",
       "text": [
        "\n",
        "22"
       ]
      },
      {
       "output_type": "stream",
       "stream": "stdout",
       "text": [
        " http://www.simplymarry.com/matrimonial/groom/SMM1642301/Hindu/Vishal-Pundlik-Ahire\n",
        "Am Vishal, friendly in nature. Currently working at Ambernath."
       ]
      },
      {
       "output_type": "stream",
       "stream": "stdout",
       "text": [
        "\n",
        "23"
       ]
      },
      {
       "output_type": "stream",
       "stream": "stdout",
       "text": [
        " http://www.simplymarry.com/matrimonial/groom/SMM1563440/Hindu/Agri/Sandip\n",
        "Hi, i am Sandip, living in Navi Mumbai. Am a business property consultants."
       ]
      },
      {
       "output_type": "stream",
       "stream": "stdout",
       "text": [
        "\n",
        "24"
       ]
      },
      {
       "output_type": "stream",
       "stream": "stdout",
       "text": [
        " http://www.simplymarry.com/matrimonial/groom/SMM1590039/Hindu/Maratha/Vishal\n",
        "He is very calm and of understanding nature. He works in Pune. He is a fun loving person who likes spending time with family."
       ]
      },
      {
       "output_type": "stream",
       "stream": "stdout",
       "text": [
        "\n",
        "25"
       ]
      },
      {
       "output_type": "stream",
       "stream": "stdout",
       "text": [
        " http://www.simplymarry.com/matrimonial/groom/SMM1530993/Hindu/Brahmin---Rigvedi/Amit-Vaidya\n",
        "My self Amit a working profesional looking for bride with graduation &amp; having service. Preference will be given areas pune, satara,nashik, ahmednagar,solapur etc. My expections are height should be minimum 5.2 with fair colour"
       ]
      },
      {
       "output_type": "stream",
       "stream": "stdout",
       "text": [
        "\n",
        "26"
       ]
      },
      {
       "output_type": "stream",
       "stream": "stdout",
       "text": [
        " http://www.simplymarry.com/matrimonial/groom/SMM1562202/Hindu/Maratha/Laxman\n",
        "I am very simple."
       ]
      },
      {
       "output_type": "stream",
       "stream": "stdout",
       "text": [
        "\n",
        "27"
       ]
      },
      {
       "output_type": "stream",
       "stream": "stdout",
       "text": [
        " http://www.simplymarry.com/matrimonial/groom/SMM1545709/Hindu/Chambhar/Yogeshwar-Krushnaji-Tandekar\n",
        "Hi. I'm yogeshwar. Works with an ICICI Bank Nagpur as a sales officer Exe. Done my education from Nagpur. Am a very religious person, likes to live a very simple life. I am looking out for simple girl become my better half"
       ]
      },
      {
       "output_type": "stream",
       "stream": "stdout",
       "text": [
        "\n",
        "28"
       ]
      },
      {
       "output_type": "stream",
       "stream": "stdout",
       "text": [
        " http://www.simplymarry.com/matrimonial/groom/SMM1564919/Hindu/Kunbi/Nitin-Patil\n",
        "I am a simple boy. Currently i am working in pune at IT company as Web Designer. I am 12th passed and BA appear and done animation diploma from mumbai. My Native place is chopda near by Jalgaon Dist. My father is a farmer and mother is a housewife. i like listening to music and traveling."
       ]
      },
      {
       "output_type": "stream",
       "stream": "stdout",
       "text": [
        "\n",
        "29"
       ]
      },
      {
       "output_type": "stream",
       "stream": "stdout",
       "text": [
        " http://www.simplymarry.com/matrimonial/groom/SMM1648677/Hindu/Dhangar/Shrikant-Rait\n",
        "Hi, i am an engineer, looking for a engineer girl."
       ]
      },
      {
       "output_type": "stream",
       "stream": "stdout",
       "text": [
        "\n",
        "30"
       ]
      },
      {
       "output_type": "stream",
       "stream": "stdout",
       "text": [
        " http://www.simplymarry.com/matrimonial/groom/SMM1597430/Hindu/Manas-Marakar\n",
        "I am a computer post-graduate and am inclined to programming since childhood. That's a reason I work as a Project Lead in an IT Company in Pune. I have decided to work in a company where I get to work on more challenges that bring out the best in me everyday. I have an entrepreneurial bend and would be surely venturing into my own business in the future. I might also consider opportunities working abroad to gain exposure. Having said this, I believe in living a balanced and satisfying lifestyle. I am not the kind of person who ruins his whole life by spending time just to earn money thus sacrificing precious time and memories with family, friends and doing things I really love. I believe that money is just a means to an end and am confident that I will provide a comfortable lifestyle and security to my family. I have many friends but a few close ones and I usually hang out with them over the weekends. I am a founder member of a Non-Profit and participate in social work and other activities that would empower the society. I am a foodie and love to try different cuisines from around the world. I love watching movies, playing badminton, cricket and reading books. Recently, I am reading the third book of the Shiva Trilogy (Oath of Vayuputras) and am loving it. I have been very transparent about myself and hope this information would give you an idea about me. I thank you again for reading my profile and wish you all the very best in life. On a parting note, here are a few lines that have stayed with me: If you want to be happy, be."
       ]
      },
      {
       "output_type": "stream",
       "stream": "stdout",
       "text": [
        "\n",
        "31"
       ]
      },
      {
       "output_type": "stream",
       "stream": "stdout",
       "text": [
        " http://www.simplymarry.com/matrimonial/groom/SMM1613686/Hindu/Chambhar/Sandeep\n",
        "Am a qualified professional cum businessman and belongs from a family having 6 members including me, my father, mother, 2 younger brothers of which 2nd one is married having 2 yrs old cute baby and his wife is a State govt, employee. Father retired from Union bank of India as a Sr. Branch manager, mother is a house wife and younger brother is running his own medical shop."
       ]
      },
      {
       "output_type": "stream",
       "stream": "stdout",
       "text": [
        "\n",
        "32"
       ]
      },
      {
       "output_type": "stream",
       "stream": "stdout",
       "text": [
        " http://www.simplymarry.com/matrimonial/groom/SMM1546278/Hindu/Brahmin---Deshastha/Abhijeet-Anant-Kulkarni\n",
        "I am Abhijeet Kulkarni from Udgaon, tal shirol, dist. kolhapur , working in Sanjay Ghodawat Polytechnic, atigre kolhapur, as a office superintendent joint family."
       ]
      },
      {
       "output_type": "stream",
       "stream": "stdout",
       "text": [
        "\n",
        "33"
       ]
      },
      {
       "output_type": "stream",
       "stream": "stdout",
       "text": [
        " http://www.simplymarry.com/matrimonial/groom/SMM1636709/Hindu/Brahmin/Sunit-Ramesh-Kulkarni\n",
        "I am a simple guy and am looking for a suitable and simple looking partner. I like trekking, music, playing cricket, reading and photography."
       ]
      },
      {
       "output_type": "stream",
       "stream": "stdout",
       "text": [
        "\n",
        "34"
       ]
      },
      {
       "output_type": "stream",
       "stream": "stdout",
       "text": [
        " http://www.simplymarry.com/matrimonial/groom/SMM1571184/Hindu/Maratha/Amit-Dattatray-Jarag\n",
        "I am simple and looking for a well educated house wife, basically from Kolhapur. Currently, I am working with Infosys Limited Pune as Project Lead. I am family oriented person and gives more values for joint family."
       ]
      },
      {
       "output_type": "stream",
       "stream": "stdout",
       "text": [
        "\n",
        "35"
       ]
      },
      {
       "output_type": "stream",
       "stream": "stdout",
       "text": [
        " http://www.simplymarry.com/matrimonial/groom/SMM1534715/Hindu/Maratha/Smm1534715\n",
        "I am a simple and straight forward person. I believe in simple living and high thinking. Like to explore new things, places and always thirsty of knowledge. I am working as Sr. Software development engineer with a US based product MNC. Besides computers my interest lies in nature, trekking, photography, reading, history, science and movies."
       ]
      },
      {
       "output_type": "stream",
       "stream": "stdout",
       "text": [
        "\n",
        "36"
       ]
      },
      {
       "output_type": "stream",
       "stream": "stdout",
       "text": [
        " http://www.simplymarry.com/matrimonial/groom/SMM1559985/Hindu/Maratha/Jatin-Patil\n",
        "I m a person who has a very open minded attitude towards life. I believe in being straight forward in whatever I do and believe. I listen to my heart and project my mind towards the same. I dont like lie and believe in truthfulness."
       ]
      },
      {
       "output_type": "stream",
       "stream": "stdout",
       "text": [
        "\n",
        "37"
       ]
      },
      {
       "output_type": "stream",
       "stream": "stdout",
       "text": [
        " http://www.simplymarry.com/matrimonial/groom/SMM1565315/Hindu/Chambhar/Sagar-Thorat\n",
        "Hi, This is sagar thorat from pune, working as a Sr. Graphic Designer in MNC company. Looking for a girl how can loves and understand me and my family."
       ]
      },
      {
       "output_type": "stream",
       "stream": "stdout",
       "text": [
        "\n",
        "38"
       ]
      },
      {
       "output_type": "stream",
       "stream": "stdout",
       "text": [
        " http://www.simplymarry.com/matrimonial/groom/SMM1623771/Hindu/Maratha/Sushant-Vishwas-Maskawar\n",
        "I am M-Tech completed (Structure) working in Indian Railway (Nagpur). My father is retired (P.W.D. Dept.) and Mother H.M. in Z.P. We are two brothers and one sister both are married and well settled."
       ]
      },
      {
       "output_type": "stream",
       "stream": "stdout",
       "text": [
        "\n",
        "39"
       ]
      },
      {
       "output_type": "stream",
       "stream": "stdout",
       "text": [
        " http://www.simplymarry.com/matrimonial/groom/SMM1575438/Hindu/Brahmin---Kokanastha/Nikhil\n",
        "Nikhil did his education from Abhinav Vidyalaya English Medium School. He completed his graduation in Fine Arts from Pune University (BFA) and Masters in Advertising Design from Savannah College of Art &amp; Design (Atlanta). While studying for his masters he also had an exciting opportunity to work with Cartoon Network as a design intern. After completing his Masters program he was hired as a Jr. Art Director in an Atlanta Ad Agency called Fitzgerald+Co. After that he was working with LOWE Lintas (Mumbai) as an Art Director with an annual package of Rs. 5.00 + Lac. He has recently shifted back to Pune and is self employed as freelance Print and Web designer for various companies. Being in Freelance his package exceeds Rs.6.00 lacs but is variable depending upon projects. In his undergrad and Masters program, he has been an outstanding student and has won several advertising awards while pursuing both the degrees. Apart from work he enjoys reading novels, watching movies, playing tennis, swimming and paragliding. He is also highly adventurous as a person who likes to travel and go on treks with friends whenever possible."
       ]
      },
      {
       "output_type": "stream",
       "stream": "stdout",
       "text": [
        "\n",
        "40"
       ]
      },
      {
       "output_type": "stream",
       "stream": "stdout",
       "text": [
        " http://www.simplymarry.com/matrimonial/groom/SMM1603188/Hindu/Bhandari/Harshad-R-Tandel\n",
        "I am Simple, Pratical, Caring &amp; Disciplined Guy.I am a fitness freak. Come from a Middle Class family. Values family a lot. Spiritual and abides to Rituals. Have a Brother and a Sister who stay in Same city and are well settled in their own family and work. My interest into Gyming and Health, so is my profession. Own 2 GYM of myself."
       ]
      },
      {
       "output_type": "stream",
       "stream": "stdout",
       "text": [
        "\n",
        "41"
       ]
      },
      {
       "output_type": "stream",
       "stream": "stdout",
       "text": [
        " http://www.simplymarry.com/matrimonial/groom/SMM1549202/Hindu/Brahmin---Kokanastha/Mayuresh-Sahasrabudhe\n",
        "Hi, myself mayuresh, working with reputed mnc, staying with mom, dad and bro, mom is a housewife, dad is working with nationalized bank, brother is working with mnc, i am looking for a girl who will support me in good and bad condition."
       ]
      },
      {
       "output_type": "stream",
       "stream": "stdout",
       "text": [
        "\n",
        "42"
       ]
      },
      {
       "output_type": "stream",
       "stream": "stdout",
       "text": [
        " http://www.simplymarry.com/matrimonial/groom/SMM1561943/Hindu/Amit-Kumar-Bhoi\n",
        "hi i am seeking well educated simple girl for my relative he was comlited 3 year diploma in civil engg and after complition of diploma he gaves 6-7 year expirieance now he appering 3rd year deegri engg be at nasik"
       ]
      },
      {
       "output_type": "stream",
       "stream": "stdout",
       "text": [
        "\n",
        "43"
       ]
      },
      {
       "output_type": "stream",
       "stream": "stdout",
       "text": [
        " http://www.simplymarry.com/matrimonial/groom/SMM1616338/Hindu/Agri/Ashwin-Patil\n",
        "I AM VERY SIMPLE IN NATURE. FAMILY LOVING. I HAVE COMPLETED MY HSC AFTER THAT I HAVE DONE 3 YEAR DIPLOMA IN AUTOMOBILE. IN MY FAMILY, I AM HAVING ONLY FOUR MEMBERS THAT INCLUDE MY FATHER IS A RETIRED PERSON. MY MOTHER IS A HOUSE WIFE AND MY BROTHER IS GRADUATE AND DOING JOB."
       ]
      },
      {
       "output_type": "stream",
       "stream": "stdout",
       "text": [
        "\n",
        "44"
       ]
      },
      {
       "output_type": "stream",
       "stream": "stdout",
       "text": [
        " http://www.simplymarry.com/matrimonial/groom/SMM1627841/Buddhist/Harshal-Madhukar-Patil\n",
        "I am typical Buddhist Indian. I am simple, fun loving person and have high family values. I love to travel in different places, spend time with Family and friends. I have completed my Enginnering from Govt College of Engg Chandrapur in 2007 and currently, I am working as a Project Engineer (Electrical)."
       ]
      },
      {
       "output_type": "stream",
       "stream": "stdout",
       "text": [
        "\n",
        "45"
       ]
      },
      {
       "output_type": "stream",
       "stream": "stdout",
       "text": [
        " http://www.simplymarry.com/matrimonial/groom/SMM1630408/Hindu/Bhavasar-Kshatriya/Kishorkumar-Achalkar\n",
        "I have completed M.A, B.Ed in Hindi and currently working as a Asst. Master with the reputed residential-school."
       ]
      },
      {
       "output_type": "stream",
       "stream": "stdout",
       "text": [
        "\n",
        "46"
       ]
      },
      {
       "output_type": "stream",
       "stream": "stdout",
       "text": [
        " http://www.simplymarry.com/matrimonial/groom/SMM1600592/Hindu/Agri/Dr.-Sagar-Mhatre\n",
        "I have completed my MD (Pediatrics/Balrog). BAMS from Maharastra. Own clinic in Mumbai."
       ]
      },
      {
       "output_type": "stream",
       "stream": "stdout",
       "text": [
        "\n",
        "47"
       ]
      },
      {
       "output_type": "stream",
       "stream": "stdout",
       "text": [
        " http://www.simplymarry.com/matrimonial/groom/SMM1549935/Buddhist/Mayur-Krishana-Pagare\n",
        "I am BE (Mechanical) engineer working in Pune in volkswagen India as an assistant manager. My family stays in Nasik. I am basically from middle class family. I am here to find my perfect soul mate for marriage."
       ]
      },
      {
       "output_type": "stream",
       "stream": "stdout",
       "text": [
        "\n",
        "48"
       ]
      },
      {
       "output_type": "stream",
       "stream": "stdout",
       "text": [
        " http://www.simplymarry.com/matrimonial/groom/SMM1528520/Hindu/Mali/Pravin-Gulab-Phule\n",
        "I am Know to be a warm, caring, And Friendly oriented and a rational person. Strongly instilled are the Indian valves &amp; traditions in me I am definitely looking for someone who's easy going and as a good scene of humor! Life can be quite complicated and stressful at times, and with that in mind, I think it's important to find someone who will be my partner, supporting, loving and taking care each other. I'm quite open-minded about life in general; tent to be accommodating and flexible."
       ]
      },
      {
       "output_type": "stream",
       "stream": "stdout",
       "text": [
        "\n",
        "49"
       ]
      },
      {
       "output_type": "stream",
       "stream": "stdout",
       "text": [
        " http://www.simplymarry.com/matrimonial/groom/SMM1528416/Hindu/Kunbi/Nitin-Motiram-Kule\n",
        "I was simple, loving, caring, love my self respect, very creative, honest to all, very friendly. well about him i have a lot to say Firstly she should be honest, because marriage is not only the bond between two persons, it is the bond of two families for whole life, so i think honesty and trust should always be there."
       ]
      },
      {
       "output_type": "stream",
       "stream": "stdout",
       "text": [
        "\n",
        "50"
       ]
      },
      {
       "output_type": "stream",
       "stream": "stdout",
       "text": [
        " http://www.simplymarry.com/matrimonial/groom/SMM1610416/Hindu/Thakur/Sunil-Pundlik-Thakur\n",
        "Working with Software company as Business Analyst. My goal is to establish successful Software development company. Marriage for me is a life long commitment, which needs to be honored and respected. And I completely believe in the institution of Marriage."
       ]
      },
      {
       "output_type": "stream",
       "stream": "stdout",
       "text": [
        "\n",
        "51"
       ]
      },
      {
       "output_type": "stream",
       "stream": "stdout",
       "text": [
        " http://www.simplymarry.com/matrimonial/groom/SMM1531844/Hindu/OBC/Barber/Naayee/Rakesh-Z-Patil\n",
        "I am a cool, kind and caring person having positive attitude and hate violence in any form. I am a person who believes in focusing on the solution, future rather than the problem or past and loves to visit to new places."
       ]
      },
      {
       "output_type": "stream",
       "stream": "stdout",
       "text": [
        "\n",
        "52"
       ]
      },
      {
       "output_type": "stream",
       "stream": "stdout",
       "text": [
        " http://www.simplymarry.com/matrimonial/groom/SMM1532007/Christian/Catholic/Sunny-David-Joseph\n",
        "Simple and hardworking. Not yet baptised. Parents marriage inter-caste. Dad christian and mother hindu. We follow both the religions. Family of four father, mother, younger brother and me. Loving family."
       ]
      },
      {
       "output_type": "stream",
       "stream": "stdout",
       "text": [
        "\n",
        "53"
       ]
      },
      {
       "output_type": "stream",
       "stream": "stdout",
       "text": [
        " http://www.simplymarry.com/matrimonial/groom/SMM1582208/Hindu/CKP/Ajay\n",
        "Easy going person with positive attitude towards life. Though not a good speaker but a very good listener."
       ]
      },
      {
       "output_type": "stream",
       "stream": "stdout",
       "text": [
        "\n",
        "54"
       ]
      },
      {
       "output_type": "stream",
       "stream": "stdout",
       "text": [
        " http://www.simplymarry.com/matrimonial/groom/SMM1531453/Hindu/Brahmin---Deshastha/Shreyas-Maitra\n",
        "I AM A SIMPLE &amp; CARING PERSON. MY WORK AND MY FAMILY ARE MY PRIORITIES. I LIKE READING, TRAVELLING AND EXPLORING NEW THINGS AROUND. I AM QUITE RELIGIOUS. LOVE LISTENING TO MUSIC. SEARCHING FOR A SIMPLE, WELL CULTURED AND HOMELY GIRL."
       ]
      },
      {
       "output_type": "stream",
       "stream": "stdout",
       "text": [
        "\n",
        "55"
       ]
      },
      {
       "output_type": "stream",
       "stream": "stdout",
       "text": [
        " http://www.simplymarry.com/matrimonial/groom/SMM1606324/Hindu/Brahmin/Yogesh-Samant\n",
        "I am born in Goa and brought up at Dahisar, Mumbai. Completed my education from Mumbai &amp; currently staying in Mumbai.\n",
        "I believe in simplicity. Love to travel. Like to spend most of my time with family."
       ]
      },
      {
       "output_type": "stream",
       "stream": "stdout",
       "text": [
        "\n",
        "56"
       ]
      },
      {
       "output_type": "stream",
       "stream": "stdout",
       "text": [
        " http://www.simplymarry.com/matrimonial/groom/SMM1554674/Buddhist/Bimbisarbarmase\n",
        "I am presently working with AIR INDIA as Crew member. I am looking suitable girl who is looking smart &amp; sober taking care of my parents &amp; should be having any degree in any field &amp; also having knowledge of cooking"
       ]
      },
      {
       "output_type": "stream",
       "stream": "stdout",
       "text": [
        "\n",
        "57"
       ]
      },
      {
       "output_type": "stream",
       "stream": "stdout",
       "text": [
        " http://www.simplymarry.com/matrimonial/groom/SMM1545904/Hindu/Maratha/Sandeep-Pundalik-Tarale\n",
        "My son is very sincere, broad minded and straight forward person. He likes travelling, reading books, watching movies, listening music and believe in joint family. He has 2 sisters and both are married."
       ]
      },
      {
       "output_type": "stream",
       "stream": "stdout",
       "text": [
        "\n",
        "58"
       ]
      },
      {
       "output_type": "stream",
       "stream": "stdout",
       "text": [
        " http://www.simplymarry.com/matrimonial/groom/SMM1531010/Hindu/Brahmin/Swapnil-Ashok-Yelgaonkar\n",
        "Hello, myself Swapnil Yelgaonkar from Karad. I did my graduation in Commerce and completed my CS Course and LLB. My friend call me as confident person, helpful in nature and always marks towards my goals."
       ]
      },
      {
       "output_type": "stream",
       "stream": "stdout",
       "text": [
        "\n",
        "59"
       ]
      },
      {
       "output_type": "stream",
       "stream": "stdout",
       "text": [
        " http://www.simplymarry.com/matrimonial/groom/SMM1529302/Buddhist/Kunal-Mawlikar\n",
        "Hi, I'm Kunal Mawlikar, a Corp. Trainer by profession and was practicing in Mumbai. I have resigned from my present job and presently pursuing PGDHRM. I'm passionate about good food and whenever I get free time, I love to sleep or watch movies."
       ]
      },
      {
       "output_type": "stream",
       "stream": "stdout",
       "text": [
        "\n",
        "60"
       ]
      },
      {
       "output_type": "stream",
       "stream": "stdout",
       "text": [
        " http://www.simplymarry.com/matrimonial/groom/SMM1637927/Hindu/Brahmin---Kokanastha/Omkar-Ulhas-Jog\n",
        "Hi I am a person who like to enjoy every moment of life, but still I am serious from inside. I like to go for outing. My father is a retired Govt employee and mother is housewife. I have one elder brother who is not married."
       ]
      },
      {
       "output_type": "stream",
       "stream": "stdout",
       "text": [
        "\n",
        "61"
       ]
      },
      {
       "output_type": "stream",
       "stream": "stdout",
       "text": [
        " http://www.simplymarry.com/matrimonial/groom/SMM1575138/Hindu/Bhandari/Jayant\n",
        "My brother is a good person by heart, very supportive and understanding.He has a good personality. By nature very loving and caring. He respects every body and so he is very well known in family and friends. Because of this kind of nature, we want the person in his life to be same."
       ]
      },
      {
       "output_type": "stream",
       "stream": "stdout",
       "text": [
        "\n",
        "62"
       ]
      },
      {
       "output_type": "stream",
       "stream": "stdout",
       "text": [
        " http://www.simplymarry.com/matrimonial/groom/SMM1609562/Hindu/Agri/Ketan-Mali\n",
        "Born and bought up in mumbai. Straight forward person. Food lover and like to watch movies. I love reading books. I have good sense of humor. I am looking for girl who should be honest. Should be frank and speak out her mind and want her to be my friend and rest of relation would automatically follow."
       ]
      },
      {
       "output_type": "stream",
       "stream": "stdout",
       "text": [
        "\n",
        "63"
       ]
      },
      {
       "output_type": "stream",
       "stream": "stdout",
       "text": [
        " http://www.simplymarry.com/matrimonial/groom/SMM1550970/Hindu/Kshatriya/Vinodsawanth\n",
        "Am a great human being who love music, watching movies. Looking for a good, pretty girl with good height and simplicity."
       ]
      },
      {
       "output_type": "stream",
       "stream": "stdout",
       "text": [
        "\n",
        "64"
       ]
      },
      {
       "output_type": "stream",
       "stream": "stdout",
       "text": [
        " http://www.simplymarry.com/matrimonial/groom/SMM1553842/Hindu/Brahmin---Daivadnya/Pradeep-Prabhakar-Belwalkar\n",
        "I am open minded, down to earth person."
       ]
      },
      {
       "output_type": "stream",
       "stream": "stdout",
       "text": [
        "\n",
        "65"
       ]
      },
      {
       "output_type": "stream",
       "stream": "stdout",
       "text": [
        " http://www.simplymarry.com/matrimonial/groom/SMM1533113/Hindu/Gomantak/Rajan-Kabre\n",
        "I am looking for a simple and well cultured girl as my life partner. i am pure vegetarian and belive in god. I am staying with my mother and elder sister in Thane; We are basically from gomantak maratha caste."
       ]
      },
      {
       "output_type": "stream",
       "stream": "stdout",
       "text": [
        "\n",
        "66"
       ]
      },
      {
       "output_type": "stream",
       "stream": "stdout",
       "text": [
        " http://www.simplymarry.com/matrimonial/groom/SMM1543827/Hindu/Sonar/Amit-Mundegaonkar\n",
        "I am Senior Software Engineer working in well know Software company L&Ties; Larsen and Toubro Integrated Engineering services. I belongs from Indore; my father is from Amravati (he passed away). I am from a service class family but my all relatives have goldsmith business, so it can be said that belongs to service as well as business class family. I am creative, energetic, enthusiastic, confident, ambitious, struggling to fulfill that and very much professional towards work, very much caring of my family. I am person who love to live life with full of energy; family is my first priority. I am a religious person who love to meditate and travel, listening music, reading good books related to spiritual and related to science. I am seeking for a good and well educated partner for myself who should be a pleasant, natural and believe that relationship is about two families not only individual."
       ]
      },
      {
       "output_type": "stream",
       "stream": "stdout",
       "text": [
        "\n",
        "67"
       ]
      },
      {
       "output_type": "stream",
       "stream": "stdout",
       "text": [
        " http://www.simplymarry.com/matrimonial/groom/SMM1558455/Buddhist/Rakesh-Suresh-Jagtap\n",
        "I am cool headed person Enjoy the each movement of life. life partner may be like that. Do not take tension. my life partner would be cool headed and understand cope with difficult situation. My father is govt. employed i have younger brother. sister is married. Mother is a house wife."
       ]
      },
      {
       "output_type": "stream",
       "stream": "stdout",
       "text": [
        "\n",
        "68"
       ]
      },
      {
       "output_type": "stream",
       "stream": "stdout",
       "text": [
        " http://www.simplymarry.com/matrimonial/groom/SMM1590163/Hindu/Kunbi/Dilip-Gawade\n",
        "I am so simple boy &amp; like to marry with person who is so understanding &amp; give respect to others. I want my jeevansathi very cool, careful, open minded &amp; adjustable in every moment of our life. Want my partner become everything for me in my life. I Have only 2 members in my family, Me &amp; my mom, My mom is like everything for me, My mother is very straight forward &amp; caring as well as loving personality. My mom is my world for me, like nothing can happen more beautiful than my mom."
       ]
      },
      {
       "output_type": "stream",
       "stream": "stdout",
       "text": [
        "\n",
        "69"
       ]
      },
      {
       "output_type": "stream",
       "stream": "stdout",
       "text": [
        " http://www.simplymarry.com/matrimonial/groom/SMM1541968/Hindu/Maratha/Dr-Umesh-Bhalke\n",
        "I AM SECOND YEAR YEAR MDS ORTHODONTICS. I AM interested in mbbs or bds girl with good understanding nature, caring, respectable she should be fair. I am caring, loveable, understanding person. she should respect elders."
       ]
      },
      {
       "output_type": "stream",
       "stream": "stdout",
       "text": [
        "\n",
        "70"
       ]
      },
      {
       "output_type": "stream",
       "stream": "stdout",
       "text": [
        " http://www.simplymarry.com/matrimonial/groom/SMM1586311/Hindu/Chambhar/Vishal-Bhandari\n",
        "Am a Software Professional. I'm frank, friendly and joyful person by nature."
       ]
      },
      {
       "output_type": "stream",
       "stream": "stdout",
       "text": [
        "\n",
        "71"
       ]
      },
      {
       "output_type": "stream",
       "stream": "stdout",
       "text": [
        " http://www.simplymarry.com/matrimonial/groom/SMM1550227/Hindu/Maratha/Mahesh-Shinde\n",
        "I am Mahesh, widower, having 2 kids. from Ratnagiri Mah. Working as a project manager for MNC Shipping company. Am a cool guy who like to travel, listen music, watching movies and reading books."
       ]
      },
      {
       "output_type": "stream",
       "stream": "stdout",
       "text": [
        "\n",
        "72"
       ]
      },
      {
       "output_type": "stream",
       "stream": "stdout",
       "text": [
        " http://www.simplymarry.com/matrimonial/groom/SMM1601728/Hindu/Maratha/Lalit-Bhaskar-Bhalerao\n",
        "Hi, myself Lalit Bhaskar Bhalerao, coming from upper a middle class family, working in a well known reputed construction company in Mumbai as an Asst. Manager, regulatory affairs. Likes driving, traveling, having time with family, friends, going to my native place Ahmadnagar and enjoying farm time. My family is very loving and we are all attached to each-other. Our family comprises of 5 members: Mom, Dad, two elder sisters, both married and settled down and happily enjoying life in their way. Now, we are a family of 3."
       ]
      },
      {
       "output_type": "stream",
       "stream": "stdout",
       "text": [
        "\n",
        "73"
       ]
      },
      {
       "output_type": "stream",
       "stream": "stdout",
       "text": [
        " http://www.simplymarry.com/matrimonial/groom/SMM1527231/Hindu/Koli-Mahadev/Amol-Mane\n",
        "I'm not Handsome. I don't have an amazing face or a flat stomach. I'm far from being considered a Actorl, but I'm ME. I eat food, have curves, love my PJ's, and will go without make up. I'm random and crazy, and I don't pretend to be someone I'm not. I am who I am, love me or not, It won't change ME!!!"
       ]
      },
      {
       "output_type": "stream",
       "stream": "stdout",
       "text": [
        "\n",
        "74"
       ]
      },
      {
       "output_type": "stream",
       "stream": "stdout",
       "text": [
        " http://www.simplymarry.com/matrimonial/groom/SMM1624841/Hindu/Brahmin/Yash-Limaye\n",
        "My brother is a simple guy, caring, loving and family person. He is looking for a simple girl who is willing to share her life with him."
       ]
      },
      {
       "output_type": "stream",
       "stream": "stdout",
       "text": [
        "\n",
        "75"
       ]
      },
      {
       "output_type": "stream",
       "stream": "stdout",
       "text": [
        " http://www.simplymarry.com/matrimonial/groom/SMM1550076/Hindu/Brahmin/Sunil-Thomre\n",
        "My friend is a businessman and would like to read books. He is also an astrologer by profession. He like watching movies, reading books and travel lot. He want to spent the rest of his life peacefully with a good partner."
       ]
      },
      {
       "output_type": "stream",
       "stream": "stdout",
       "text": [
        "\n",
        "76"
       ]
      },
      {
       "output_type": "stream",
       "stream": "stdout",
       "text": [
        " http://www.simplymarry.com/matrimonial/groom/SMM1534868/Hindu/Mali/Anil-Agatrao-Ghanwat\n",
        "Soft spoken, modern as well as traditional. Joint family consist of elder married brother, his wife, a son, a younger brother, married sister, mother. Living at Bhandup Mumbai in self owned flat. looking for a well educated, good looking and a working girl."
       ]
      },
      {
       "output_type": "stream",
       "stream": "stdout",
       "text": [
        "\n",
        "77"
       ]
      },
      {
       "output_type": "stream",
       "stream": "stdout",
       "text": [
        " http://www.simplymarry.com/matrimonial/groom/SMM1614858/Hindu/Chambhar/Vaibhav-Suryavanshi\n",
        "I am very friendly by nature."
       ]
      },
      {
       "output_type": "stream",
       "stream": "stdout",
       "text": [
        "\n",
        "78"
       ]
      },
      {
       "output_type": "stream",
       "stream": "stdout",
       "text": [
        " http://www.simplymarry.com/matrimonial/groom/SMM1564037/Hindu/Bhandari/Sameer-Gurunath-Velkar\n",
        "My native place is Vengurla. I have two younger sisters. Am looking for a bride from Haldankar, Manjrekar, Mayekar, Parkar, Patkar surname. I have booked one flat in Virar. Looking for a bride who should be well settled and should mixes up well with my family members and relatives."
       ]
      },
      {
       "output_type": "stream",
       "stream": "stdout",
       "text": [
        "\n",
        "79"
       ]
      },
      {
       "output_type": "stream",
       "stream": "stdout",
       "text": [
        " http://www.simplymarry.com/matrimonial/groom/SMM1599227/Hindu/Maratha/Mahesh-S-Suryawanshi\n",
        "I have completed my Degree in BCA (Bachelor in computer application) and now in private sector as Graphics designer. Father is Govt employee, mother is a housewife. I have one younger brother, he is doing diploma in Animation."
       ]
      },
      {
       "output_type": "stream",
       "stream": "stdout",
       "text": [
        "\n",
        "80"
       ]
      },
      {
       "output_type": "stream",
       "stream": "stdout",
       "text": [
        " http://www.simplymarry.com/matrimonial/groom/SMM1531202/Hindu/Brahmin---Kokanastha/Shounak-V-Kelkar\n",
        "hi about me simple , loving nature ,love food , movies , sports (badminton player) , love to travel doing my businesses and living with my family . looking for good life partner who should b honest and mature , with family values."
       ]
      },
      {
       "output_type": "stream",
       "stream": "stdout",
       "text": [
        "\n",
        "81"
       ]
      },
      {
       "output_type": "stream",
       "stream": "stdout",
       "text": [
        " http://www.simplymarry.com/matrimonial/groom/SMM1526129/Hindu/Bhandari/Bhushan-Ajgaonkar\n",
        "Hi, this is Bhushan Ajgaonkar, i love traveling, movies, music and sports. I have done BE Electrical, Currently working for a MNC. Also pursuing a part time MBA. Looking for someone, who would be my friend &amp; will stand by me in all the seasons of life."
       ]
      },
      {
       "output_type": "stream",
       "stream": "stdout",
       "text": [
        "\n",
        "82"
       ]
      },
      {
       "output_type": "stream",
       "stream": "stdout",
       "text": [
        " http://www.simplymarry.com/matrimonial/groom/SMM1624778/Hindu/Maratha/Sanjay-Patil\n",
        "I grew up in a cosmopolitan environment and thus, I identify with most communities of India and switch with ease in different settings. Life is good, comfortable and peaceful at the moment. However, I do understand that a good companion means an enjoyable life. Thus, the search. I am looking for a partner who is honest, kind, adventurous, independent, confident, well educated, generous and who can laugh at life and at himself. Someone who loves traveling and has a range of interests. Though fairly non-judgmental about people, I am also pretty perceptive. I have a fantastic set of friends and some of them go back to my childhood years. Simplicity and sincerity appeal to me. I am fearless, independent, honest, cheerful, affectionate, loyal, witty and optimistic and I do believe I am all of these. I break monotony by indulging in my hobbies that range from traveling, watching movies, reading, meeting friends, swimming or listening to music. I love nature and thus, take a keen interest in gardening. However, I am also very comfortable in my solitude and savor those quiet and peaceful days when the day stretches ahead of me with nothingness. I love Hindustani vocal, classical songs and Gazals. I have traveled extensively in India though there are some parts of the country that remain unexplored."
       ]
      },
      {
       "output_type": "stream",
       "stream": "stdout",
       "text": [
        "\n",
        "83"
       ]
      },
      {
       "output_type": "stream",
       "stream": "stdout",
       "text": [
        " http://www.simplymarry.com/matrimonial/groom/SMM1549275/Hindu/Maratha/Pravin-Ingale\n",
        "Hello, my name is Pravin Ingale. I am an easy going, fun loving, honest and family oriented person. I graduated with Civil Engineering. I am a Microsoft certified Technology Specialist and working as a Senior System Engineer with a private company in Pune. I am from a traditional Maratha family from Ahmednagar (Maharashtra). Father is a retired Army Officer and mother is a homemaker. My only sister is married and living in Indore now. Talking about my hobbies, I love traveling, watching movies, music, shopping, playing cricket, bowling. I would like to have a partner who is lovable, respectful, caring, family oriented, social, pretty and has blend of modern and traditional values."
       ]
      },
      {
       "output_type": "stream",
       "stream": "stdout",
       "text": [
        "\n",
        "84"
       ]
      },
      {
       "output_type": "stream",
       "stream": "stdout",
       "text": [
        " http://www.simplymarry.com/matrimonial/groom/SMM1545735/Hindu/Suthar/Vijay\n",
        "I am A simple person from a middle class family. Looking for a simple bride with understanding and caring nature. Working with a MNC."
       ]
      },
      {
       "output_type": "stream",
       "stream": "stdout",
       "text": [
        "\n",
        "85"
       ]
      },
      {
       "output_type": "stream",
       "stream": "stdout",
       "text": [
        " http://www.simplymarry.com/matrimonial/groom/SMM1616500/Hindu/96K-Kokanastha/Nikhil-Vijay-Shirke\n",
        "Myself Nikhil shirke and I have completed my Trade school in Engineering/ Technology. I am currently working as a Electrical Draughtsman."
       ]
      },
      {
       "output_type": "stream",
       "stream": "stdout",
       "text": [
        "\n",
        "86"
       ]
      },
      {
       "output_type": "stream",
       "stream": "stdout",
       "text": [
        " http://www.simplymarry.com/matrimonial/groom/SMM1607477/Hindu/Teli/Dr-Sandip-Kishor\n",
        "Myself, doctor Sandip K Gurmule, residing Nagpur, running my clinic in Narkhed dist Nagpur from 2 yrs. A very jolly person and believe in always working. Searching for a bride, who is caring and willing to work in my clinic with me."
       ]
      },
      {
       "output_type": "stream",
       "stream": "stdout",
       "text": [
        "\n",
        "87"
       ]
      },
      {
       "output_type": "stream",
       "stream": "stdout",
       "text": [
        " http://www.simplymarry.com/matrimonial/groom/SMM1636233/Hindu/Swakula-Sali/Chetan-Tawale\n",
        "Am working in IT sector, Nagpur as SEO Analyst. I am a person with simplicity, honesty, and a bit of attitude which is essential to survive in this world."
       ]
      },
      {
       "output_type": "stream",
       "stream": "stdout",
       "text": [
        "\n",
        "88"
       ]
      },
      {
       "output_type": "stream",
       "stream": "stdout",
       "text": [
        " http://www.simplymarry.com/matrimonial/groom/SMM1565657/Buddhist/Rahul-Jayprakash-Dange\n",
        "AM RAHUL, BEING CHARTERED ACCOUNTANTS I JOINED SEBI AS A MANAGER IN FINANCE AND ACCOUNTS DEPT. FROM SINCE 3 MONTH. I AM NOW LOOKING FOR A GOOD BRIDE WHO IS DOWN TO EARTH AND WHO CAN UNDERSTAND MY FEELINGS."
       ]
      },
      {
       "output_type": "stream",
       "stream": "stdout",
       "text": [
        "\n",
        "89"
       ]
      },
      {
       "output_type": "stream",
       "stream": "stdout",
       "text": [
        " http://www.simplymarry.com/matrimonial/groom/SMM1578135/Hindu/Bhavasar-Kshatriya/Dipak-Yashwantrao-Paradkar\n",
        "Hi, myself Dipak Paradkar. I am working with multinational company called Mott MacDonald P.LTD, which is in Ahmadabad. I need a partner who always support me in every condition, must be lovable and of good nature."
       ]
      },
      {
       "output_type": "stream",
       "stream": "stdout",
       "text": [
        "\n",
        "90"
       ]
      },
      {
       "output_type": "stream",
       "stream": "stdout",
       "text": [
        " http://www.simplymarry.com/matrimonial/groom/SMM1613079/Hindu/Brahmin---Deshastha/Sameer-Joshi\n",
        "I am a loving and caring person. Very honest, sensitive in nature and straight forward in my approach."
       ]
      },
      {
       "output_type": "stream",
       "stream": "stdout",
       "text": [
        "\n",
        "91"
       ]
      },
      {
       "output_type": "stream",
       "stream": "stdout",
       "text": [
        " http://www.simplymarry.com/matrimonial/groom/SMM1530601/Hindu/Brahmin---Kokanastha/Sachin-V-Velankar\n",
        "I am very honest and enthusiastic person. I enjoy watching movies, surfing on the net, traveling or trekking. My partner should be well educated and should be honest, as well as understanding. Preferable height 5.2 to 5.5, slim and fair."
       ]
      },
      {
       "output_type": "stream",
       "stream": "stdout",
       "text": [
        "\n",
        "92"
       ]
      },
      {
       "output_type": "stream",
       "stream": "stdout",
       "text": [
        " http://www.simplymarry.com/matrimonial/groom/SMM1574755/Hindu/Maratha/Pradeep-Pawar\n",
        "I am a simple, friendly and a caring person. I like people who have some motive in their life. I like swimming, reading adventurous books, playing cricket. I am looking for a sweet and a kindhearted wife."
       ]
      },
      {
       "output_type": "stream",
       "stream": "stdout",
       "text": [
        "\n",
        "93"
       ]
      },
      {
       "output_type": "stream",
       "stream": "stdout",
       "text": [
        " http://www.simplymarry.com/matrimonial/groom/SMM1523798/Hindu/Brahmin/Pranav-Uddhavrao-Yeotekar\n",
        "I am a bachelor of B.Sc science, but pursued animation after B.Sc as field of interest. recently got the good job in animation. Photography is another field of interest."
       ]
      },
      {
       "output_type": "stream",
       "stream": "stdout",
       "text": [
        "\n",
        "94"
       ]
      },
      {
       "output_type": "stream",
       "stream": "stdout",
       "text": [
        " http://www.simplymarry.com/matrimonial/groom/SMM1545390/Hindu/Mali/Rahul-Patil\n",
        "I am Rahul Patil. I started my career in 2005. Searching for a partner who is willing to help me in my business."
       ]
      },
      {
       "output_type": "stream",
       "stream": "stdout",
       "text": [
        "\n",
        "95"
       ]
      },
      {
       "output_type": "stream",
       "stream": "stdout",
       "text": [
        " http://www.simplymarry.com/matrimonial/groom/SMM1534913/Hindu/Brahmin---Karhade/Saurabh-Nishikant-Gothoskar\n",
        "I am intelligent, witty, honest, man of ethics, manly, robust, strongly believes in family values, sincere, interests are sports, politics, having independent accommodation in Mumbai, family knitted, studious and simple."
       ]
      },
      {
       "output_type": "stream",
       "stream": "stdout",
       "text": [
        "\n",
        "96"
       ]
      },
      {
       "output_type": "stream",
       "stream": "stdout",
       "text": [
        " http://www.simplymarry.com/matrimonial/groom/SMM1526538/Hindu/Maratha/Ajay-Salunkhe\n",
        "Straight forward, enjoy watching movies, honest, kind &amp; compassionate loving, and caring, about people like to travel and very fond of different food delicacies, nature &amp; music lover, especially old songs and romantic songs."
       ]
      },
      {
       "output_type": "stream",
       "stream": "stdout",
       "text": [
        "\n",
        "97"
       ]
      },
      {
       "output_type": "stream",
       "stream": "stdout",
       "text": [
        " http://www.simplymarry.com/matrimonial/groom/SMM1543128/Sikh/Sikh---Arora/Mohanty\n",
        "I am a simple guy."
       ]
      },
      {
       "output_type": "stream",
       "stream": "stdout",
       "text": [
        "\n",
        "98"
       ]
      },
      {
       "output_type": "stream",
       "stream": "stdout",
       "text": [
        " http://www.simplymarry.com/matrimonial/groom/SMM1534472/Hindu/Maratha/Indrajeet-Thorat\n",
        "Hi. I am looking for a life partner who would be a great companion and friend. Am from a well cultured family, settled in Pune. Mother is house wife. Brother is Architect. My dad is a Managing Director in Sugar Factory."
       ]
      },
      {
       "output_type": "stream",
       "stream": "stdout",
       "text": [
        "\n",
        "99"
       ]
      },
      {
       "output_type": "stream",
       "stream": "stdout",
       "text": [
        " http://www.simplymarry.com/matrimonial/groom/SMM1585298/Buddhist/Chetan\n",
        "Fun loving caring person, value family, relatives, friends and everybody."
       ]
      },
      {
       "output_type": "stream",
       "stream": "stdout",
       "text": [
        "\n",
        "100"
       ]
      },
      {
       "output_type": "stream",
       "stream": "stdout",
       "text": [
        " http://www.simplymarry.com/matrimonial/groom/SMM1571566/Jain/Digambar/Rahul-Jain\n",
        "I am very simple and sincere man. My goal of life is to be successful man both in professional and personal life. I like reading, listening music, playing cricket and chess. I have belief in religious values."
       ]
      },
      {
       "output_type": "stream",
       "stream": "stdout",
       "text": [
        "\n",
        "101"
       ]
      },
      {
       "output_type": "stream",
       "stream": "stdout",
       "text": [
        " http://www.simplymarry.com/matrimonial/groom/SMM1592886/Christian/Protestant/Bipin-Nadar\n",
        "I am a responsible, self confident and fun loving person who has a good set of values."
       ]
      },
      {
       "output_type": "stream",
       "stream": "stdout",
       "text": [
        "\n",
        "102"
       ]
      },
      {
       "output_type": "stream",
       "stream": "stdout",
       "text": [
        " http://www.simplymarry.com/matrimonial/groom/SMM1553095/Hindu/Maratha/Abhijeet-Pranai-Gawande\n",
        "My ambition is to live life happily, and be a millionaire. My aim is to make a good family and a good business in Vegas."
       ]
      },
      {
       "output_type": "stream",
       "stream": "stdout",
       "text": [
        "\n",
        "103"
       ]
      },
      {
       "output_type": "stream",
       "stream": "stdout",
       "text": [
        " http://www.simplymarry.com/matrimonial/groom/SMM1617209/Hindu/Lohar/Rahul-Mohan-Lohar\n",
        "Am a simple, family oriented, honest, hardworking and trust worthy person and belongs from a joint family."
       ]
      },
      {
       "output_type": "stream",
       "stream": "stdout",
       "text": [
        "\n",
        "104"
       ]
      },
      {
       "output_type": "stream",
       "stream": "stdout",
       "text": [
        " http://www.simplymarry.com/matrimonial/groom/SMM1525525/Hindu/Bhandari/Kiran-Haldankar\n",
        "I am Kiran Haldankar, have completed my Diploma in Digital Electronics from reputed Institute. Currently working in Vodafone from last 4 Years. I am simple, fun loving &amp; emotional person."
       ]
      },
      {
       "output_type": "stream",
       "stream": "stdout",
       "text": [
        "\n",
        "105"
       ]
      },
      {
       "output_type": "stream",
       "stream": "stdout",
       "text": [
        " http://www.simplymarry.com/matrimonial/groom/SMM1565207/Hindu/Dinesh-Dinkar\n",
        "I have one small sister &amp; brother, so i have their responsibility not financially but emotionally, i want my wife to realize this in the beginning only and he should take care of my parents as well his own parents."
       ]
      },
      {
       "output_type": "stream",
       "stream": "stdout",
       "text": [
        "\n",
        "106"
       ]
      },
      {
       "output_type": "stream",
       "stream": "stdout",
       "text": [
        " http://www.simplymarry.com/matrimonial/groom/SMM1538011/Buddhist/Mahesh-Jadhav\n",
        "I am straight forward and simple person."
       ]
      },
      {
       "output_type": "stream",
       "stream": "stdout",
       "text": [
        "\n",
        "107"
       ]
      },
      {
       "output_type": "stream",
       "stream": "stdout",
       "text": [
        " http://www.simplymarry.com/matrimonial/groom/SMM1528741/Hindu/Brahmin---Goswami/Gosavi/Pravin-Gosavi\n",
        "I'M VERY SIMPLE AND FUN LOVING GUY AND LOOKING FOR A LIFE PARTNER WITH WHOM I CAN LEAD A HAPPY LIFE."
       ]
      },
      {
       "output_type": "stream",
       "stream": "stdout",
       "text": [
        "\n",
        "108"
       ]
      },
      {
       "output_type": "stream",
       "stream": "stdout",
       "text": [
        " http://www.simplymarry.com/matrimonial/groom/SMM1542737/Buddhist/Abhay-Waghmare\n",
        "Hi!! I am abhay waghmare\n",
        "Born and brought up in mumbai shifted in pune for further education I have completed my Bachelors in Computers/ IT. I am currently doing construction business as a builder and land developer. My father is retired additional commissioner of sales tax\n",
        "My mother is retired matron of a hospital\n",
        "My friends describe me as: witty,hard working,dedicated to my work. Hobbies: listen music,play piano. Favorite sports: tennis,football and other outdoor sports."
       ]
      },
      {
       "output_type": "stream",
       "stream": "stdout",
       "text": [
        "\n",
        "109"
       ]
      },
      {
       "output_type": "stream",
       "stream": "stdout",
       "text": [
        " http://www.simplymarry.com/matrimonial/groom/SMM1551863/Hindu/Chambhar/Jitendra-Bhausaheb-Sonawane\n",
        "Myself Jitendra, have completed my BE from K.K. Wagh college of Engineering Nasik. Currently working in a reputed Pvt. Ltd. Co. in Mumbai from past 3 years. Currently i am in Mexico for Onsite work."
       ]
      },
      {
       "output_type": "stream",
       "stream": "stdout",
       "text": [
        "\n",
        "110"
       ]
      },
      {
       "output_type": "stream",
       "stream": "stdout",
       "text": [
        " http://www.simplymarry.com/matrimonial/groom/SMM1530221/Hindu/Mali/Ravindra-Baban-Alhat\n",
        "Am Ravindra Baban Alhat, stay near by Alandi. Have 2 brothers and they are married &amp; one sister who is also married; my father retire from bajaj auto &amp; my mother is a house wife. Now am a firework dealer in our town."
       ]
      },
      {
       "output_type": "stream",
       "stream": "stdout",
       "text": [
        "\n",
        "111"
       ]
      },
      {
       "output_type": "stream",
       "stream": "stdout",
       "text": [
        " http://www.simplymarry.com/matrimonial/groom/SMM1531802/Hindu/Maratha/Ghansham-B\n",
        "I am a calm guy who likes to be with family. Like to listen music, watching TV, traveling, etc."
       ]
      },
      {
       "output_type": "stream",
       "stream": "stdout",
       "text": [
        "\n",
        "112"
       ]
      },
      {
       "output_type": "stream",
       "stream": "stdout",
       "text": [
        " http://www.simplymarry.com/matrimonial/groom/SMM1523272/Hindu/Brahmin---Rigvedi/Pradeep-G-Joshi\n",
        "Pradeep is very calm in nature. He likes reading, travaling, trekking and painting."
       ]
      },
      {
       "output_type": "stream",
       "stream": "stdout",
       "text": [
        "\n",
        "113"
       ]
      },
      {
       "output_type": "stream",
       "stream": "stdout",
       "text": [
        " http://www.simplymarry.com/matrimonial/groom/SMM1562709/Jain/Digambar/Mandar-Kinikar\n",
        "I am a simple guy easy to get along, like traveling, Photography, Movies &amp; keeping Fit."
       ]
      },
      {
       "output_type": "stream",
       "stream": "stdout",
       "text": [
        "\n",
        "114"
       ]
      },
      {
       "output_type": "stream",
       "stream": "stdout",
       "text": [
        " http://www.simplymarry.com/matrimonial/groom/SMM1583074/Hindu/Swakula-Sali/Hemant-Ramchandra-Tawale\n",
        "I am so simple by nature, caretaker, try to find solution in worst condition. I am pursuing PhD (Medicine faculty) along with taking coaching class. I have huge goal on the way to success in the field"
       ]
      },
      {
       "output_type": "stream",
       "stream": "stdout",
       "text": [
        "\n",
        "115"
       ]
      },
      {
       "output_type": "stream",
       "stream": "stdout",
       "text": [
        " http://www.simplymarry.com/matrimonial/groom/SMM1626787/Hindu/Maratha/Rajan-Sahadev-Shetye\n",
        "I am a simple loving person and presently working as a Gramsevak in village Panchayat, Hasapur."
       ]
      },
      {
       "output_type": "stream",
       "stream": "stdout",
       "text": [
        "\n",
        "116"
       ]
      },
      {
       "output_type": "stream",
       "stream": "stdout",
       "text": [
        " http://www.simplymarry.com/matrimonial/groom/SMM1585930/Hindu/Suthar/Anoop-Hazare\n",
        "I am a happy go lucky nature man. I am with a belief that trust and understanding are two parameters which can make any relationship successful. I am residing with my parents in Delhi and have three sisters, married and settled in Delhi."
       ]
      },
      {
       "output_type": "stream",
       "stream": "stdout",
       "text": [
        "\n",
        "117"
       ]
      },
      {
       "output_type": "stream",
       "stream": "stdout",
       "text": [
        " http://www.simplymarry.com/matrimonial/groom/SMM1556453/Hindu/Maratha/Vishal-Deshmukh\n",
        "Hi, Am Vishal, did my MBA from University of Pune. Have worked in various companies as a Area &amp; regional manager. After that, i started my own business and now am expanding it in the state level."
       ]
      },
      {
       "output_type": "stream",
       "stream": "stdout",
       "text": [
        "\n",
        "118"
       ]
      },
      {
       "output_type": "stream",
       "stream": "stdout",
       "text": [
        " http://www.simplymarry.com/matrimonial/groom/SMM1526175/Hindu/Maratha/Sandeep\n",
        "I m very simple high thinking person looking for someone who can understand me and my family who can take care my and my family responsibilities and I would like to keep my partner always happy by all her wishes and plans."
       ]
      },
      {
       "output_type": "stream",
       "stream": "stdout",
       "text": [
        "\n",
        "119"
       ]
      },
      {
       "output_type": "stream",
       "stream": "stdout",
       "text": [
        " http://www.simplymarry.com/matrimonial/groom/SMM1537160/Hindu/Swakula-Sali/Naagaraj-Surasgar\n",
        "Am simple, positive, confident, energetic, honest person; my life style is both religious and moderate; i trust traditional values. I am co-founder / director of business House in Bangalore. My self &amp; my daughter living together with my Joint family. My daughter aged about 8 years is studying in 2nd std. I am confident to take care my partner at utmost level."
       ]
      },
      {
       "output_type": "stream",
       "stream": "stdout",
       "text": [
        "\n",
        "120"
       ]
      },
      {
       "output_type": "stream",
       "stream": "stdout",
       "text": [
        " http://www.simplymarry.com/matrimonial/groom/SMM1539713/Hindu/CKP/Nilesh-Prabhakar-Gupte\n",
        "Hi, i am a very simple person &amp; looking for a girl who is smart, good looking, intelligent, educated &amp; having family values. After marriage there is no restriction on her about job. But the only thing is that she should be capable of it."
       ]
      },
      {
       "output_type": "stream",
       "stream": "stdout",
       "text": [
        "\n",
        "121"
       ]
      },
      {
       "output_type": "stream",
       "stream": "stdout",
       "text": [
        " http://www.simplymarry.com/matrimonial/groom/SMM1543013/Hindu/Brahmin---Kokanastha/Suyog-Mhaskar\n",
        "I am Suyog Mhaskar, I am working in London as an IT Business Analyst. I have completed my Masters Degree in Advanced Software Engineering from King`s College London. Before coming to UK I was working in IBM (India &amp; USA) for 4 years. I have studied in Germany for 1 year during school days. I was born in Pune and brought up in Indore. I have traveled across the globe and I have understood different cultures in different countries."
       ]
      },
      {
       "output_type": "stream",
       "stream": "stdout",
       "text": [
        "\n",
        "122"
       ]
      },
      {
       "output_type": "stream",
       "stream": "stdout",
       "text": [
        " http://www.simplymarry.com/matrimonial/groom/SMM1520648/Hindu/Lingayath/Rahul-Bhimsen-Whatte\n",
        "Rahul, my brother, is tall and handsome. He is well educated and soft minded person. He is practicing law at Chakur court. He is earning a good amount of money through this. Also we own 20 acres of agricultural land at our native village Himpalner in Chakur Taluka."
       ]
      },
      {
       "output_type": "stream",
       "stream": "stdout",
       "text": [
        "\n",
        "123"
       ]
      },
      {
       "output_type": "stream",
       "stream": "stdout",
       "text": [
        " http://www.simplymarry.com/matrimonial/groom/SMM1544060/Hindu/Koshti/Vivek-Sakode\n",
        "Hi, Myself vivek BE (electronics graduate, working as a class-I gazetted employee at government polytechnic. Looking for a good looking and supportive life partner."
       ]
      },
      {
       "output_type": "stream",
       "stream": "stdout",
       "text": [
        "\n",
        "124"
       ]
      },
      {
       "output_type": "stream",
       "stream": "stdout",
       "text": [
        " http://www.simplymarry.com/matrimonial/groom/SMM1547616/Hindu/Brahmin/Sharad-S-Gajre\n",
        "Hi, I am Sharad from Pune. I have done M.Tech from CAD or CAM, a software professional employed in 3DPLM Software Solutions Ltd. I am smart and a happy go lucky person. I hope to find someone who is cheerful and a good friend."
       ]
      },
      {
       "output_type": "stream",
       "stream": "stdout",
       "text": [
        "\n",
        "125"
       ]
      },
      {
       "output_type": "stream",
       "stream": "stdout",
       "text": [
        " http://www.simplymarry.com/matrimonial/groom/SMM1526843/Hindu/Brahmin---Kokanastha/Ashish-Datar\n",
        "Hi, I am Ashish. I am easy going and take life as it comes. We are a family of 3, I being the only child of my father and mother. I am working in Amdocs in IT procurement department for last 3 years."
       ]
      },
      {
       "output_type": "stream",
       "stream": "stdout",
       "text": [
        "\n",
        "126"
       ]
      },
      {
       "output_type": "stream",
       "stream": "stdout",
       "text": [
        " http://www.simplymarry.com/matrimonial/groom/SMM1528600/Hindu/Maratha/Prashant-Jadhav\n",
        "I am a fun loving &amp; cheerful person. I believe in being happy &amp; making others happy. I respect everyone.\n",
        "Four things i believe in - Honesty,loyalty, faith and trust."
       ]
      },
      {
       "output_type": "stream",
       "stream": "stdout",
       "text": [
        "\n",
        "127"
       ]
      },
      {
       "output_type": "stream",
       "stream": "stdout",
       "text": [
        " http://www.simplymarry.com/matrimonial/groom/SMM1523474/Hindu/Teli/Abhijeet-Padole\n",
        "Hi, I am Abhijeet, currently working in a reputed company in Bangalore as a Senior Software Test Engineer. I am little introvert in nature hence looking for someone who is of opposite kind. Understanding, caring, calm are the things that defines me. I always like to be with people who are happy."
       ]
      },
      {
       "output_type": "stream",
       "stream": "stdout",
       "text": [
        "\n",
        "128"
       ]
      },
      {
       "output_type": "stream",
       "stream": "stdout",
       "text": [
        " http://www.simplymarry.com/matrimonial/groom/SMM1565579/Hindu/Chambhar/Amit-Jambhale\n",
        "I am seeking a suitable alliance for myself. I am tall and a handsome guy, currently employed as an Telecom Engineer in Reliance Communication. I am looking for a suitable bride from the same caste. My hobbies include playing chess, cooking, painting etc. Looking for a smart, educated girl that having good family values."
       ]
      },
      {
       "output_type": "stream",
       "stream": "stdout",
       "text": [
        "\n",
        "129"
       ]
      },
      {
       "output_type": "stream",
       "stream": "stdout",
       "text": [
        " http://www.simplymarry.com/matrimonial/groom/SMM1581758/Hindu/Kunbi/Dinesh-Dalvi\n",
        "I am a simple, loving, caring, honest and a cool-minded person."
       ]
      },
      {
       "output_type": "stream",
       "stream": "stdout",
       "text": [
        "\n",
        "130"
       ]
      },
      {
       "output_type": "stream",
       "stream": "stdout",
       "text": [
        " http://www.simplymarry.com/matrimonial/groom/SMM1528307/Hindu/Brahmin---Saraswat/Rohan-Wadikar\n",
        "Hi, This is Rohan, I am a straight forward person. Simple in lifestyle, not really down to earth type, but understanding. Committed, Responsible and Reliable. I am Sensitive person with quick-witted sense of humor. Believe in family values and tradition but with modern thoughts. I am very Ambitious and Career Oriented. Success for me means achieving career goals without compromising your relationship and your family life. Education - BE-Mech from Mumbai university, Executive MBA in Marketing from JBIMS. Currently working in Sales &amp; Marketing function with an MNC ( Non-IT). We are Residing at Jogeshwari. We are in a Joint Family Mother, Brother and Sister-in-law and their two kids. I am owning a house at Virar."
       ]
      },
      {
       "output_type": "stream",
       "stream": "stdout",
       "text": [
        "\n",
        "131"
       ]
      },
      {
       "output_type": "stream",
       "stream": "stdout",
       "text": [
        " http://www.simplymarry.com/matrimonial/groom/SMM1541860/Hindu/Maratha/Chandan-Rajaram-Chavan\n",
        "Hello, My name is Chandan Chavan.. DOB :- 10/05/1982 and time :- 11:15 pm (Mumbai).. I did Hotel Mgnt at start of my career and had worked with Taj Mahal Hotel (Mumbai) as Team Professional for 5 years than i went to Italy(Florence) and joined \"Slavatore Ferragamo\" still working their as a Executive , simultaneously, i did my Fashion Design Diploma, and have started my own business , and wanted to settled in India. I have Wonderful Family(Mom,brother,Sister who is married). Beside this professional i am very much fun loving guy, open mined and most important I Love to Travel all over world(i did travel half the world and now half i could like to do with my life partner. ;)).. And Last thing i love my family specially my Mom.. Thanks for reading.... Enjoy Life is Beautiful...Have a rocking day,Ciao Chandan"
       ]
      },
      {
       "output_type": "stream",
       "stream": "stdout",
       "text": [
        "\n",
        "132"
       ]
      },
      {
       "output_type": "stream",
       "stream": "stdout",
       "text": [
        " http://www.simplymarry.com/matrimonial/groom/SMM1571083/Hindu/Mahar/Vishal-Ramdas-Shinde\n",
        "This is Vishal Shinde. I am From mumbai, stay with my parents. I am B.Sc IT grad completed my graduation in 2008. Then joined BPO. Worked in BPO for 3 years. Currently working in Eclinicalworks which is SW company deals with medical sw. US based company. Works over there as Account manager. About my family, I stay with my mom, dad &amp; sister. My sis is little bit of MR, sometimes she is normal. I am putting this because i don't want lie to anyone."
       ]
      },
      {
       "output_type": "stream",
       "stream": "stdout",
       "text": [
        "\n",
        "133"
       ]
      },
      {
       "output_type": "stream",
       "stream": "stdout",
       "text": [
        " http://www.simplymarry.com/matrimonial/groom/SMM1529645/Hindu/Brahmin---Deshastha/Sourabh-Sunil-Gore\n",
        "I completed my post graduation in Farmacy. Presently I am working with Croda Group at Navi Mumbai as Executive. I am a believer of God. I am soft spoken and friendly in nature. I want partner well educated in any faculty &amp; good looking &amp; smart."
       ]
      },
      {
       "output_type": "stream",
       "stream": "stdout",
       "text": [
        "\n",
        "134"
       ]
      },
      {
       "output_type": "stream",
       "stream": "stdout",
       "text": [
        " http://www.simplymarry.com/matrimonial/groom/SMM1552977/Hindu/Pranav-Nagpurkar\n",
        "I am Pranav, completed my Masters in Finance. I am currently working as a Deputy Director of a leading B. School in Pune and Director - Finance of an Engineering company. My friends describe me as witty, hard-working, helping and outgoing. I am a permissive kind of person with strong internal locus of control. I depend strongly on values imbibed in me by my family to decide what is right or wrong."
       ]
      },
      {
       "output_type": "stream",
       "stream": "stdout",
       "text": [
        "\n",
        "135"
       ]
      },
      {
       "output_type": "stream",
       "stream": "stdout",
       "text": [
        " http://www.simplymarry.com/matrimonial/groom/SMM1527308/Hindu/Chambhar/Rajesh-Sadashiv-Sawakare\n",
        "I see myself as a stable, responsible, self confident and fun loving person who has a good set of values. I am the type of person who looks forward to start the day with all enthusiasm. It is in my nature to accept the facts of life whether they are pleasant or not. Essentially, I have entered the phase of my life where I'm ready to share the joys and sorrows of life with my better half. Drop in a line and we will take it from there. I am mechanical engineer working from last 4 years. i had completed my diploma in mechanical engineering and doing B-TECH final year from KSOU."
       ]
      },
      {
       "output_type": "stream",
       "stream": "stdout",
       "text": [
        "\n",
        "136"
       ]
      },
      {
       "output_type": "stream",
       "stream": "stdout",
       "text": [
        " http://www.simplymarry.com/matrimonial/groom/SMM1520631/Hindu/Brahmin/Abhay-Kulkarni\n",
        "Am a well settled, single man. Looking for a great life partner."
       ]
      },
      {
       "output_type": "stream",
       "stream": "stdout",
       "text": [
        "\n",
        "137"
       ]
      },
      {
       "output_type": "stream",
       "stream": "stdout",
       "text": [
        " http://www.simplymarry.com/matrimonial/groom/SMM1637837/Hindu/Brahmin---Karhade/Nikhil-Ambekar\n",
        "I am a very simple person. Happy go lucky, jovial, cheerful, but having lots of aspiration in life. I would like to be with the one who is career oriented, having her own thoughts about life. She should be good looking."
       ]
      },
      {
       "output_type": "stream",
       "stream": "stdout",
       "text": [
        "\n",
        "138"
       ]
      },
      {
       "output_type": "stream",
       "stream": "stdout",
       "text": [
        " http://www.simplymarry.com/matrimonial/groom/SMM1632441/Hindu/Maratha/Umesh-Bhuttewadkar\n",
        "Hi, My name is Umesh bhuttewadkar. I have completed my Bachelors in Engineering/ Technology. I am currently working as an Electronics / Telecom Engineer. My friends describe me as witty person."
       ]
      },
      {
       "output_type": "stream",
       "stream": "stdout",
       "text": [
        "\n",
        "139"
       ]
      },
      {
       "output_type": "stream",
       "stream": "stdout",
       "text": [
        " http://www.simplymarry.com/matrimonial/groom/SMM1530275/Hindu/Rajput/Pravin-Girase\n",
        "Hi, I am Pravin from Maharashtra, however I have been staying in Hyderabad since past 2 years. I am a physician by qualification, although I am working in field of drug safety or pharmacovigilance and am associated with one of the reputed pharmaceutical companies. I am having a job offer from a Swiss company and will be relocating to Switzerland in May 2013."
       ]
      },
      {
       "output_type": "stream",
       "stream": "stdout",
       "text": [
        "\n",
        "140"
       ]
      },
      {
       "output_type": "stream",
       "stream": "stdout",
       "text": [
        " http://www.simplymarry.com/matrimonial/groom/SMM1520210/Hindu/Lohar/Rohit-R.-Joshi\n",
        "I am from Mumbai. I have completed B.COM. from University of Mumbai. Currently I am working in Mediterranean Shipping Company (MSC). I like to live freely my hobbies are travelling, listening music. I live with my family, including me we are 4 members in our family. My mother is housewife. I have 1 brother."
       ]
      },
      {
       "output_type": "stream",
       "stream": "stdout",
       "text": [
        "\n",
        "141"
       ]
      },
      {
       "output_type": "stream",
       "stream": "stdout",
       "text": [
        " http://www.simplymarry.com/matrimonial/groom/SMM1567682/Hindu/Maratha/Vinod-G\n",
        "I am simple, intelligent and down to earth person, not just looking for life partner, but a person who can always be my friend throughout my life. Someone who is a genuine with thoughtful perception towards life. Having pleasant personality with nice looks. Future oriented prospects."
       ]
      },
      {
       "output_type": "stream",
       "stream": "stdout",
       "text": [
        "\n",
        "142"
       ]
      },
      {
       "output_type": "stream",
       "stream": "stdout",
       "text": [
        " http://www.simplymarry.com/matrimonial/groom/SMM1607167/Hindu/Pradeep-Thakkar\n",
        "Am working with Indian MNC as an Asst Manager - HR. Like travelling, trekking, see new places, etc. Have visited Singapore, Malaysia, Thailand, Mauritious and have grown up in many mixed cultures. My Father was Gujarati &amp; mother was Christian."
       ]
      },
      {
       "output_type": "stream",
       "stream": "stdout",
       "text": [
        "\n",
        "143"
       ]
      },
      {
       "output_type": "stream",
       "stream": "stdout",
       "text": [
        " http://www.simplymarry.com/matrimonial/groom/SMM1624849/Hindu/Maratha/Vishal-Patil\n",
        "Currently, am working as a Freelance visual artist since 2yr. Am a self learner and believe in smart work."
       ]
      },
      {
       "output_type": "stream",
       "stream": "stdout",
       "text": [
        "\n",
        "144"
       ]
      },
      {
       "output_type": "stream",
       "stream": "stdout",
       "text": [
        " http://www.simplymarry.com/matrimonial/groom/SMM1611894/Hindu/Teli/Chetan-B-Gabhane\n",
        "I am Chetan Gabhane from Maharashtra and currently working in Bangalore as a Software Engg."
       ]
      },
      {
       "output_type": "stream",
       "stream": "stdout",
       "text": [
        "\n",
        "145"
       ]
      },
      {
       "output_type": "stream",
       "stream": "stdout",
       "text": [
        " http://www.simplymarry.com/matrimonial/groom/SMM1538214/Buddhist/Sachin-Choure\n",
        "I am Sachin choure, have completed my graduation as BE computer engineering from Mumbai University. I am currently employed in Ashtech Info tech pvt. ltd. as customer support engineer for UNIX."
       ]
      },
      {
       "output_type": "stream",
       "stream": "stdout",
       "text": [
        "\n",
        "146"
       ]
      },
      {
       "output_type": "stream",
       "stream": "stdout",
       "text": [
        " http://www.simplymarry.com/matrimonial/groom/SMM1591730/Hindu/Leva-patil/Gokul-Sanjay-Patil\n",
        "I am a simple boy. I have studied PGDBM. I am an instructor to teach basic computer course subject to ITI students."
       ]
      },
      {
       "output_type": "stream",
       "stream": "stdout",
       "text": [
        "\n",
        "147"
       ]
      },
      {
       "output_type": "stream",
       "stream": "stdout",
       "text": [
        " http://www.simplymarry.com/matrimonial/groom/SMM1557253/Hindu/Vanjari/Pawan-Kamlakar-Sanap\n",
        "I'm known to be a warm, caring, friendly, family oriented and rational person. I'm pretty easy to get along with, generally a happy, and like to be around people. I need a simple and caring life partner."
       ]
      },
      {
       "output_type": "stream",
       "stream": "stdout",
       "text": [
        "\n",
        "148"
       ]
      },
      {
       "output_type": "stream",
       "stream": "stdout",
       "text": [
        " http://www.simplymarry.com/matrimonial/groom/SMM1543667/Hindu/Maandhar-Zuvatkhar\n",
        "Hi All, I am - Maandhar Zuvatkhar Lives in Mumbai, Maharashtra, India From Kandivali, India Knows Marathi, Hindi, Hinglish, English I am not very talkative but certainly take little time to open. Having said that, i am funloving person with good sense of humour. With Best Regards, Maandhar"
       ]
      },
      {
       "output_type": "stream",
       "stream": "stdout",
       "text": [
        "\n",
        "149"
       ]
      },
      {
       "output_type": "stream",
       "stream": "stdout",
       "text": [
        " http://www.simplymarry.com/matrimonial/groom/SMM1629386/Hindu/Mali/Bhushan-Mali\n",
        "I am an ambitious person. Outgoing, fun loving and little sensitive having respect for others emotions. I prefer to have space in own life and also respect others personal space."
       ]
      },
      {
       "output_type": "stream",
       "stream": "stdout",
       "text": [
        "\n",
        "150"
       ]
      },
      {
       "output_type": "stream",
       "stream": "stdout",
       "text": [
        " http://www.simplymarry.com/matrimonial/groom/SMM1558753/Hindu/CKP/Abhijeet-Sudhakar-Chitnis\n",
        "I am simple, fun loving and down to earth person. Loves to travel. Likes photography and listening music."
       ]
      },
      {
       "output_type": "stream",
       "stream": "stdout",
       "text": [
        "\n",
        "151"
       ]
      },
      {
       "output_type": "stream",
       "stream": "stdout",
       "text": [
        " http://www.simplymarry.com/matrimonial/groom/SMM1520227/Hindu/Vaishya-Vani/Yogesh-Kumar\n",
        "A simple sincere god fearing person. For me family comes first. Born and brought up in a very loving family, I have always believed love begets love. Seek a spouse who may not be very good looking but should possess a good heart and trust me as her family is no different from mine."
       ]
      },
      {
       "output_type": "stream",
       "stream": "stdout",
       "text": [
        "\n",
        "152"
       ]
      },
      {
       "output_type": "stream",
       "stream": "stdout",
       "text": [
        " http://www.simplymarry.com/matrimonial/groom/SMM1516297/Hindu/Bhandari/Sachin-Golatkar\n",
        "Am simple hardworking and sincere person professionally and personally; am a fun loving person."
       ]
      },
      {
       "output_type": "stream",
       "stream": "stdout",
       "text": [
        "\n",
        "153"
       ]
      },
      {
       "output_type": "stream",
       "stream": "stdout",
       "text": [
        " http://www.simplymarry.com/matrimonial/groom/SMM1521521/Hindu/Maratha/Deepak\n",
        "I am a person who likes to maintain a balance in personal and professional life. a smart, confident. I am born and brought in mumbai, well educated and well culture. I likes adventurous things like trekking. I am looking for a partner who is a good person, well educated, traditional values yet modern and complete faith in her life partner."
       ]
      },
      {
       "output_type": "stream",
       "stream": "stdout",
       "text": [
        "\n",
        "154"
       ]
      },
      {
       "output_type": "stream",
       "stream": "stdout",
       "text": [
        " http://www.simplymarry.com/matrimonial/groom/SMM1521537/Hindu/Maratha/Shailesh-Naik\n",
        "Am simple, understanding and caring person having good job and owns a house."
       ]
      },
      {
       "output_type": "stream",
       "stream": "stdout",
       "text": [
        "\n",
        "155"
       ]
      },
      {
       "output_type": "stream",
       "stream": "stdout",
       "text": [
        " http://www.simplymarry.com/matrimonial/groom/SMM1524616/Hindu/Maratha/Manoj\n",
        "Am a person who live life with fun and happiness, people say I fill my surrounding with joy and happiness. I respect moral values but hate moral policing. I love to visit new places and cannot stop myself to experiment new and happening things."
       ]
      },
      {
       "output_type": "stream",
       "stream": "stdout",
       "text": [
        "\n",
        "156"
       ]
      },
      {
       "output_type": "stream",
       "stream": "stdout",
       "text": [
        " http://www.simplymarry.com/matrimonial/groom/SMM1644816/Buddhist/Smm1644816\n",
        "Hi, I am a Fun Loving Modern guy who believes in liberty for all persons but never forget his culture and customs. I am looking for a trustworthy partner who can understand the situations we face in our life, should be follower of family values and culture. We can't explain about our self in this small space but yes we can introduce our self what kind of person we are."
       ]
      },
      {
       "output_type": "stream",
       "stream": "stdout",
       "text": [
        "\n",
        "157"
       ]
      },
      {
       "output_type": "stream",
       "stream": "stdout",
       "text": [
        " http://www.simplymarry.com/matrimonial/groom/SMM1551064/Hindu/Mahar/Praveen-Khode\n",
        "I work for TCS as Program Manager and live in Bangalore with mom. Dad has passed away. I have 2 elder sisters and 1 younger brother, all are married. I take interest in sports. A bit of health conscious too."
       ]
      },
      {
       "output_type": "stream",
       "stream": "stdout",
       "text": [
        "\n",
        "158"
       ]
      },
      {
       "output_type": "stream",
       "stream": "stdout",
       "text": [
        " http://www.simplymarry.com/matrimonial/groom/SMM1522891/Hindu/Maratha/Kishor-Subhash-Deokar\n",
        "Simple and down to earth person."
       ]
      },
      {
       "output_type": "stream",
       "stream": "stdout",
       "text": [
        "\n",
        "159"
       ]
      },
      {
       "output_type": "stream",
       "stream": "stdout",
       "text": [
        " http://www.simplymarry.com/matrimonial/groom/SMM1517509/Hindu/Kshatriya/Jagadeeshwara-Rao\n",
        "I am a fun oriented and loving guy, who is interested in music, i like traveling places. My family include: dad, 2 bro and 1 sis, everyone are married; year back mom passed away; I am looking for the suitable bride who should respect elders and should have helpful in nature in the mind."
       ]
      },
      {
       "output_type": "stream",
       "stream": "stdout",
       "text": [
        "\n",
        "160"
       ]
      },
      {
       "output_type": "stream",
       "stream": "stdout",
       "text": [
        " http://www.simplymarry.com/matrimonial/groom/SMM1519223/Hindu/Brahmin---Kokanastha/Bhushan-Prabhakar-Tilak\n",
        "Am the eldest son of my parents. i have done my diploma in printing technology from MIPT pune; I am looking after my family business as well as i have my own business of swimming pool heating systems. I have been through very rough time in last couple of years and looking for some one who can understand me."
       ]
      },
      {
       "output_type": "stream",
       "stream": "stdout",
       "text": [
        "\n",
        "161"
       ]
      },
      {
       "output_type": "stream",
       "stream": "stdout",
       "text": [
        " http://www.simplymarry.com/matrimonial/groom/SMM1608871/Hindu/Brahmin/Tushar-Murlidhar-Choudhari\n",
        "Hi I am a very simple person, working in Pune and belongs to a good family having traditional and simple values."
       ]
      },
      {
       "output_type": "stream",
       "stream": "stdout",
       "text": [
        "\n",
        "162"
       ]
      },
      {
       "output_type": "stream",
       "stream": "stdout",
       "text": [
        " http://www.simplymarry.com/matrimonial/groom/SMM1522380/Hindu/Brahmin/Vilas-Shende\n",
        "I am very simple and straightforward person. I am intelligent par excellent and understand things in deep levels. Life is not that how many years you lived but it is how (quality) you lived. Quality of course comes in Joy category. Looking for someone who is similar and like minded."
       ]
      },
      {
       "output_type": "stream",
       "stream": "stdout",
       "text": [
        "\n",
        "163"
       ]
      },
      {
       "output_type": "stream",
       "stream": "stdout",
       "text": [
        " http://www.simplymarry.com/matrimonial/groom/SMM1645067/Hindu/Mali/Mahendra-Kshirsagar\n",
        "I am a BAMS graduate practicing in Dombivli Maharashtra. Down to earth and family oriented person, who loves to travel a lot. Currently living with my family. Looking for a bride with mix traditional and modern values who can traveled along with me on this beautiful journey of life."
       ]
      },
      {
       "output_type": "stream",
       "stream": "stdout",
       "text": [
        "\n",
        "164"
       ]
      },
      {
       "output_type": "stream",
       "stream": "stdout",
       "text": [
        " http://www.simplymarry.com/matrimonial/groom/SMM1518795/Hindu/Brahmin---Deshastha/Yatin-V.-Panse\n",
        "We are 3 people in my Family. My Mom, Dad &amp; Me. i am the only son of my parents. i love to listen Music, reading books, Traveling &amp; Riding on my Bike. i love to play my PC Games &amp; Workouts in GYM. i like my Job. I am working as an Art Director in my agency."
       ]
      },
      {
       "output_type": "stream",
       "stream": "stdout",
       "text": [
        "\n",
        "165"
       ]
      },
      {
       "output_type": "stream",
       "stream": "stdout",
       "text": [
        " http://www.simplymarry.com/matrimonial/groom/SMM1580708/Hindu/Brahmin/Rohan-Sudhakar-Mahajan\n",
        "My brother only suffer delay in speech. He speak normally with our family n we understand his speech very well. N he do his job normally. He don't have any other problem. He is completely normal. He listen very well, he walk normal, he don't have any other problem except delay in speech."
       ]
      },
      {
       "output_type": "stream",
       "stream": "stdout",
       "text": [
        "\n",
        "166"
       ]
      },
      {
       "output_type": "stream",
       "stream": "stdout",
       "text": [
        " http://www.simplymarry.com/matrimonial/groom/SMM1540863/Hindu/Mali/Vinay-Pundalik-Bachhao\n",
        "Vinay is my youngest kid in the family. He is a very kind hearted, lovable and good human being. I am a proud father of him who follows and believes in all cultural and traditional values. He is a fun loving with a very understanding nature. Alos at times he help his mother to lessen the burden in the kitchen due his caring and helping nature. He likes traveling, going for long drive, dancing, cracking joke all time."
       ]
      },
      {
       "output_type": "stream",
       "stream": "stdout",
       "text": [
        "\n",
        "167"
       ]
      },
      {
       "output_type": "stream",
       "stream": "stdout",
       "text": [
        " http://www.simplymarry.com/matrimonial/groom/SMM1531594/Hindu/Lingayath/Sachin-Kamate\n",
        "I'm kindhearted, soft spoken, down to earth, fun loving individual who likes to socialize and mix with people. I believe in optimistic life, majorly driven and ambitious person. I like to aspire and learn new things in life. I'm frank in expressing my thoughts and more joyful with people around me all the time. I've done Masters In Computer Science (M. C. S.) from Pune University. Currently working with reputed IT industry as a Team Lead. I'm complete fitness freak, love traveling, reading, trekking, active in sports and explore new things in life."
       ]
      },
      {
       "output_type": "stream",
       "stream": "stdout",
       "text": [
        "\n",
        "168"
       ]
      },
      {
       "output_type": "stream",
       "stream": "stdout",
       "text": [
        " http://www.simplymarry.com/matrimonial/groom/SMM1517883/Hindu/Maratha/Chatur-Ahire\n",
        "Am a person who live life with fun and happiness; people say I fill my surrounding with joy and happiness. I respect moral values but hate moral policing. I love to visit new places and cannot stop myself to experiment new and happening things"
       ]
      },
      {
       "output_type": "stream",
       "stream": "stdout",
       "text": [
        "\n",
        "169"
       ]
      },
      {
       "output_type": "stream",
       "stream": "stdout",
       "text": [
        " http://www.simplymarry.com/matrimonial/groom/SMM1599461/Hindu/Agri/Sachin-Mahadev-Mhatre\n",
        "Hello, I'm Sachin Mahadev Mhatre. I'm currently working Pvt. Ltd. Co. Without my family I stand nothing, so they are my life for me. I'm down to earth person with big dreams, family oriented, traditional but not conservative. I'm very much committed to my family, work and my goals."
       ]
      },
      {
       "output_type": "stream",
       "stream": "stdout",
       "text": [
        "\n",
        "170"
       ]
      },
      {
       "output_type": "stream",
       "stream": "stdout",
       "text": [
        " http://www.simplymarry.com/matrimonial/groom/SMM1517429/Hindu/Brahmin---Karhade/Natesh-Shahane\n",
        "I am 49 5.11 built athlete type no spectacles, Dealing in industrial Machines and Instruments from last 15 years; My brother and sister staying at Pune, all are married working in their field and parent are with me."
       ]
      },
      {
       "output_type": "stream",
       "stream": "stdout",
       "text": [
        "\n",
        "171"
       ]
      },
      {
       "output_type": "stream",
       "stream": "stdout",
       "text": [
        " http://www.simplymarry.com/matrimonial/groom/SMM1574028/Hindu/Brahmin---Kokanastha/Abhijeet\n",
        "We are 4 in a family. My husband is a retd army officer and I am a housewife. My elder son is a doctor in the army and married. My son has done his B.Tech in Civil Engg. We are looking for a well educated girl with family values and an affluent background"
       ]
      },
      {
       "output_type": "stream",
       "stream": "stdout",
       "text": [
        "\n",
        "172"
       ]
      },
      {
       "output_type": "stream",
       "stream": "stdout",
       "text": [
        " http://www.simplymarry.com/matrimonial/groom/SMM1609152/Hindu/Teli/Trilok-Kubde\n",
        "Am a very simple and hard working person. Like music, outing with friends, watching movies, playing games, reading books, etc."
       ]
      },
      {
       "output_type": "stream",
       "stream": "stdout",
       "text": [
        "\n",
        "173"
       ]
      },
      {
       "output_type": "stream",
       "stream": "stdout",
       "text": [
        " http://www.simplymarry.com/matrimonial/groom/SMM1515178/Hindu/Brahmin/Pushkar-Prakash-Karmalkar\n",
        "Hi, I am Pushkar, Living in Thane. I am working in Media from last 14 years. I am very passionate about my work. I am very soft spoken and easy going person. Very homely. I'm looking for an understanding partner who will be great support in my life."
       ]
      },
      {
       "output_type": "stream",
       "stream": "stdout",
       "text": [
        "\n",
        "174"
       ]
      },
      {
       "output_type": "stream",
       "stream": "stdout",
       "text": [
        " http://www.simplymarry.com/matrimonial/groom/SMM1522261/Buddhist/Sam-Wasnik\n",
        "Our son is family oriented,understanding,down to earth from a decent and cultured family. Having Business own consultancy firm [Real Estate and vastu/property consultant]in Nagpur. Qualification -B.COM from Nagpur University, Ours is nuclear family rest all relatives very closely knitted.We belongs from well educated family background.Father is retd. From central govt office as class I officer [Depty. Controller ]ICAS ranking.mother household work,one elder sister and only son.Our extended family is all highly qualified and well settled. We have 3bedroom own independent house in posh locality of nagpur,car and rest all normal luxury for good living standard."
       ]
      },
      {
       "output_type": "stream",
       "stream": "stdout",
       "text": [
        "\n",
        "175"
       ]
      },
      {
       "output_type": "stream",
       "stream": "stdout",
       "text": [
        " http://www.simplymarry.com/matrimonial/groom/SMM1639915/Hindu/Koshti/Pawan-Yogeshwar-Nimje\n",
        "I am a fun loving guy, with moderate family values. Liberal and adjustable to every conditions."
       ]
      },
      {
       "output_type": "stream",
       "stream": "stdout",
       "text": [
        "\n",
        "176"
       ]
      },
      {
       "output_type": "stream",
       "stream": "stdout",
       "text": [
        " http://www.simplymarry.com/matrimonial/groom/SMM1632633/Hindu/Maratha/Sudam-Parshuram-Patil\n",
        "My brother is very soft minded, he is looking for a smart and frank girl as his life partner."
       ]
      },
      {
       "output_type": "stream",
       "stream": "stdout",
       "text": [
        "\n",
        "177"
       ]
      },
      {
       "output_type": "stream",
       "stream": "stdout",
       "text": [
        " http://www.simplymarry.com/matrimonial/groom/SMM1586399/Buddhist/Rahul-Bhalerao\n",
        "This is Rahul Bhalerao from Mumbai. I am very simple, honest &amp; senti kind of person. I believe in 4S (Safe, Simple, Secure &amp; Straight forward) policy for my life. Basically, i belong to a Lower-Middle Class family. I am also very much interested to find someone who will be my best friend, who'll respect others, who is adjustable, romantic and hold a very rich heart. Believe she is waiting for me."
       ]
      },
      {
       "output_type": "stream",
       "stream": "stdout",
       "text": [
        "\n",
        "178"
       ]
      },
      {
       "output_type": "stream",
       "stream": "stdout",
       "text": [
        " http://www.simplymarry.com/matrimonial/groom/SMM1511779/Hindu/Brahmin---Daivadnya/Sagar-Kulkarni\n",
        "This is Sagar Kulkarni. I am very down to earth and fun loving boy with lots of humor inside me and very friendly too. I strongly believe in maintaining relationship with my close ones. I am working in HSBC Bank as Asst. Manager."
       ]
      },
      {
       "output_type": "stream",
       "stream": "stdout",
       "text": [
        "\n",
        "179"
       ]
      },
      {
       "output_type": "stream",
       "stream": "stdout",
       "text": [
        " http://www.simplymarry.com/matrimonial/groom/SMM1523146/Hindu/Chambhar/Anup\n",
        "I m very simple high thinking person looking for someone who can understand me and my family who can take care my and my family responsibilities and I would like to keep my partner always happy by all her wishes and plans."
       ]
      },
      {
       "output_type": "stream",
       "stream": "stdout",
       "text": [
        "\n",
        "180"
       ]
      },
      {
       "output_type": "stream",
       "stream": "stdout",
       "text": [
        " http://www.simplymarry.com/matrimonial/groom/SMM1574066/Hindu/Koli/Kunal\n",
        "I am a responsible and hard working. Moreover, being a sociable person, I have many friends since I like to communicate with people and get to know new interesting peoples."
       ]
      },
      {
       "output_type": "stream",
       "stream": "stdout",
       "text": [
        "\n",
        "181"
       ]
      },
      {
       "output_type": "stream",
       "stream": "stdout",
       "text": [
        " http://www.simplymarry.com/matrimonial/groom/SMM1511632/Hindu/Maratha/Vilas-Shinde\n",
        "Hi, I am Vilas Shinde. I live in one of the most beautiful cities of Maharashtra,Pune. I have been using and doing the computer stuff from around 4 years &amp; I do have interests beyond the bits and bytes of computer and the list not small at all. So here it goes Cartoons, Comics, Comedy. Sports, Music, Movies &amp; Television. I'm looking for smart, beautiful, loving girl."
       ]
      },
      {
       "output_type": "stream",
       "stream": "stdout",
       "text": [
        "\n",
        "182"
       ]
      },
      {
       "output_type": "stream",
       "stream": "stdout",
       "text": [
        " http://www.simplymarry.com/matrimonial/groom/SMM1511607/Hindu/Brahmin/Rohit-Dinkarrao-Gomekar\n",
        "I am practical, fun-loving, unprompted, reticent but amiable person. I have very high regards for education. I like learning new languages, visiting new places, spending time with friends and shopping."
       ]
      },
      {
       "output_type": "stream",
       "stream": "stdout",
       "text": [
        "\n",
        "183"
       ]
      },
      {
       "output_type": "stream",
       "stream": "stdout",
       "text": [
        " http://www.simplymarry.com/matrimonial/groom/SMM1517740/Hindu/Kshatriya/R.-Vijay-Kumar\n",
        "I would describe myself as smart, I come from a moderate middle class joint family from north Bangalore, overall I had decent academic record, participated in various competitions during my school days, I am interested real estate business and agriculture too. I have the passion of watching comedy movie, football, cricket, tennis."
       ]
      },
      {
       "output_type": "stream",
       "stream": "stdout",
       "text": [
        "\n",
        "184"
       ]
      },
      {
       "output_type": "stream",
       "stream": "stdout",
       "text": [
        " http://www.simplymarry.com/matrimonial/groom/SMM1534857/Hindu/Agri/Pranav-Bhagwan-Patil\n",
        "I belongs to a well educated middle class background. My father is government servant (ACP, police force) and mother is a house wife. I have a younger brother who is an architect. I am looking for a girl who is good looking, well educated and working. I work as a Deputy Manager in Sales and Marketing in Italian MNC. Thane. I am a mechanical engineer and did MBA from SIESCOMS, Nerul. I like to read, watch movies, travel and play cricket, Football. I am also interested in photography. I am open to girl from other caste (Marathi only) but she should be well educated, career oriented and from a good family background."
       ]
      },
      {
       "output_type": "stream",
       "stream": "stdout",
       "text": [
        "\n",
        "185"
       ]
      },
      {
       "output_type": "stream",
       "stream": "stdout",
       "text": [
        " http://www.simplymarry.com/matrimonial/groom/SMM1587065/Hindu/Maratha/Aniket-Chandrakant-Ayare\n",
        "Am a business holder and looking for a compatible match."
       ]
      },
      {
       "output_type": "stream",
       "stream": "stdout",
       "text": [
        "\n",
        "186"
       ]
      },
      {
       "output_type": "stream",
       "stream": "stdout",
       "text": [
        " http://www.simplymarry.com/matrimonial/groom/SMM1586853/Hindu/Swakula-Sali/Samrat-Dahotre\n",
        "My son was born and brought up in Pune. He completed his training from the prestigious National De fence Academy, Khadakwasla (2005-2008) and is presently serving as a Captain in the Indian Army (Infantry). He has had an above average career so far and is doing well professionally. As much a family oriented person that he is, he is also outgoing, fun-loving and very sociable with a large circle of friends. He has a cheerful personality and loves sports, outdoors, driving, watching movies, reading &amp; spending time with friends &amp; family. We are looking for a suitable match for our son. A smart, well-educated, well-cultured and good-nature girl, who is willing to accompany him as per his Army postings. We would prefer army family background but that is not an absolute requirement."
       ]
      },
      {
       "output_type": "stream",
       "stream": "stdout",
       "text": [
        "\n",
        "187"
       ]
      },
      {
       "output_type": "stream",
       "stream": "stdout",
       "text": [
        " http://www.simplymarry.com/matrimonial/groom/SMM1603043/Buddhist/Amit-Kamble\n",
        "Am a cool and a very confident guy and very much caring for my parents."
       ]
      },
      {
       "output_type": "stream",
       "stream": "stdout",
       "text": [
        "\n",
        "188"
       ]
      },
      {
       "output_type": "stream",
       "stream": "stdout",
       "text": [
        " http://www.simplymarry.com/matrimonial/groom/SMM1566411/Hindu/Chambhar/Kailas-Ahire\n",
        "Hi, this is Kailas, I am simple, hard working and helpful person. I did M.Sc from Pune University Department and qualified NET also. Currently I am doing PhD and Preparing for IAS in Pune. I am from Nashik."
       ]
      },
      {
       "output_type": "stream",
       "stream": "stdout",
       "text": [
        "\n",
        "189"
       ]
      },
      {
       "output_type": "stream",
       "stream": "stdout",
       "text": [
        " http://www.simplymarry.com/matrimonial/groom/SMM1547280/Buddhist/Ajay-Dethe\n",
        "I am simple &amp; family oriented person. Looking for a life partner who knows family values, respect elders, understanding yet fun loving person."
       ]
      },
      {
       "output_type": "stream",
       "stream": "stdout",
       "text": [
        "\n",
        "190"
       ]
      },
      {
       "output_type": "stream",
       "stream": "stdout",
       "text": [
        " http://www.simplymarry.com/matrimonial/groom/SMM1542270/Hindu/Maratha/Mandar-Powar\n",
        "Hi I am down to earth, fun loving and straightforward guy who likes to watch movies, shopping, watching TV, etc. Am bit foodies too and loves traveling."
       ]
      },
      {
       "output_type": "stream",
       "stream": "stdout",
       "text": [
        "\n",
        "191"
       ]
      },
      {
       "output_type": "stream",
       "stream": "stdout",
       "text": [
        " http://www.simplymarry.com/matrimonial/groom/SMM1512896/Hindu/Brahmin---Saraswat/Avadhut-Sukhatankar\n",
        "I am a simple person, looking for a life long companion. I like travelling, reading, music."
       ]
      },
      {
       "output_type": "stream",
       "stream": "stdout",
       "text": [
        "\n",
        "192"
       ]
      },
      {
       "output_type": "stream",
       "stream": "stdout",
       "text": [
        " http://www.simplymarry.com/matrimonial/groom/SMM1536165/Christian/Catholic/John-A\n",
        "Looking for a suitable wife who would be understanding and caring. I am from a marathi family and well settled and wish to get married next year."
       ]
      },
      {
       "output_type": "stream",
       "stream": "stdout",
       "text": [
        "\n",
        "193"
       ]
      },
      {
       "output_type": "stream",
       "stream": "stdout",
       "text": [
        " http://www.simplymarry.com/matrimonial/groom/SMM1514189/Hindu/Vaishya-Vani/Lalit-Kothavade\n",
        "I am down to earth person. Working in top IT MNC in Pune. I am interested in good looking and caring girl as well as Working in Pune or Education Qualification (B Tech, M SC (Computer Science), MCA, MBA)."
       ]
      },
      {
       "output_type": "stream",
       "stream": "stdout",
       "text": [
        "\n",
        "194"
       ]
      },
      {
       "output_type": "stream",
       "stream": "stdout",
       "text": [
        " http://www.simplymarry.com/matrimonial/groom/SMM1511350/Hindu/Shimpi/Sachin-Prakash-Naik\n",
        "I have done B.Sc. (chem) &amp; PG Diploma in computer graphics, i m a fun loving but straight forward person. i love old film music, I am a Tabla player (not as a profession) &amp; i like to travel places. i love to make friends. i hate egoistic, cheaters &amp; lairs. i value HUMANITY &amp; RELATIONS. my lifestyle is very Normal &amp; middle class . i m a martial artist.. KARATE 2nd Dan BLACK BELT. my parents passed away very early. At present i m staying with my younger brother (married)recently. i would like to specify that my income is not definite, as in my profession i dont get regular monthly payments similar to that of a salaried person. i want to make at the TOP one or the other day, i know that Life is a struggle &amp; i will continue my struggle till end. my parents expired very early, i have 1 younger brother who is married recently. he has done love-marriage. He is a IT professional &amp; is working as a Sytem Admin in a reputed MNC &amp; his wife is a web designer working as a free lancer. At present i m staying with him in our ownership flat in mumbai. i have purchased my separate flat in mumbai but the construction have not yet started. i worked as a medical representative for some months &amp; then i worked as a Vigilance Officer in Cambata Aviation on Mumbai International Airport for a year &amp; Recently working as a Actor in theater, Serials &amp; films from 10 - 12 years, did professional Marathi &amp; Hindi theater for 9 years more that 1000 shows, 5-6 Marathi, hindi serials, 3 Marathi films, did dubbing projects in past &amp; over 1000 professional mimicry shows in Orchestras &amp; individual. Currently My upcoming Marathi film \"CHAANDI\" is releasing in couple of months.. Couple of films &amp; a TV serial are in future pipeline."
       ]
      },
      {
       "output_type": "stream",
       "stream": "stdout",
       "text": [
        "\n",
        "195"
       ]
      },
      {
       "output_type": "stream",
       "stream": "stdout",
       "text": [
        " http://www.simplymarry.com/matrimonial/groom/SMM1513713/Hindu/Brahmin---Rigvedi/Yogiraj-Renghe\n",
        "HI iam yogiraj aaaaaaaaaaaaaaaaaaaaaaaaaaaaaaaaaaaaaaaaaaaaaaaaaaaaaaaaaaaaaaaaaaaaaaaaaaaaaaaaaaaaaaaaaaaaaaaaaaaaaaaaaaaaaaaaaaaaaaaaaaaaaaaaaaaaaaaaaaaaaaaaaaaaaaaaaaaaaaaaaaaaaaaaaaaaaaaaaaaaaaaaaaaaaaaaaaaaaaaaaaaaaaaaaaaaaaaaaaaaaaaaaaaaaaaaaaaaaaaaaaaaaaaaaaaaaaaaaaaaaaaaaaaaaaaaaaaaaaaaaaaaaaaaaaaaaaaaa"
       ]
      },
      {
       "output_type": "stream",
       "stream": "stdout",
       "text": [
        "\n",
        "196"
       ]
      },
      {
       "output_type": "stream",
       "stream": "stdout",
       "text": [
        " http://www.simplymarry.com/matrimonial/groom/SMM1554068/Hindu/Dhangar/Mrunal-Ghatole\n",
        "Well it's difficult to express myself in some words but trying to explain as much as possible. I am a campaign manager by profession and a fun loving person by nature. Currently work with Google as a campaign manager. I found myself jovial, adventures, honest, responsible, creative, simple, caring, understanding, broadminded and down to earth person. I like to travel, play chess, watch movies, listen to songs and spend time with family and friends. Thank you for checking my profile. Please drop me a message or contact me to know me better as I believe a conversation helps more to understand each other instead of general description."
       ]
      },
      {
       "output_type": "stream",
       "stream": "stdout",
       "text": [
        "\n",
        "197"
       ]
      },
      {
       "output_type": "stream",
       "stream": "stdout",
       "text": [
        " http://www.simplymarry.com/matrimonial/groom/SMM1622377/Hindu/Bhavasar-Kshatriya/Nilesh-Mishra\n",
        "Am a simple, straightforward &amp; friendly person, working for a private concern in Mumbai."
       ]
      },
      {
       "output_type": "stream",
       "stream": "stdout",
       "text": [
        "\n",
        "198"
       ]
      },
      {
       "output_type": "stream",
       "stream": "stdout",
       "text": [
        " http://www.simplymarry.com/matrimonial/groom/SMM1621265/Hindu/Swakula-Sali/Dr-Sagar-Kapse\n",
        "I am Dr Sagar Kapse, have completed my Masters in Dental Surgery with Orthodontics as specialty. My friends describe me as: witty, humorous, caring and understanding person."
       ]
      },
      {
       "output_type": "stream",
       "stream": "stdout",
       "text": [
        "\n",
        "199"
       ]
      },
      {
       "output_type": "stream",
       "stream": "stdout",
       "text": [
        " http://www.simplymarry.com/matrimonial/groom/SMM1636284/Hindu/Vaibhav-Vaychal\n",
        "I am looking for a family loving partner, interested in music and reading. I am living in a joint family, i have father, mother and one younger brother. I have a traditional family, resides at Kalyan, wish to have a good match."
       ]
      },
      {
       "output_type": "stream",
       "stream": "stdout",
       "text": [
        "\n",
        "200"
       ]
      },
      {
       "output_type": "stream",
       "stream": "stdout",
       "text": [
        " http://www.simplymarry.com/matrimonial/groom/SMM1612300/Hindu/Teli/Shreyas\n",
        "Am a fun loving and good looking guy who loves to make friends, travel and enjoy every moment of life."
       ]
      },
      {
       "output_type": "stream",
       "stream": "stdout",
       "text": [
        "\n",
        "201"
       ]
      },
      {
       "output_type": "stream",
       "stream": "stdout",
       "text": [
        " http://www.simplymarry.com/matrimonial/groom/SMM1595664/Buddhist/Kapil-Shamkuwar\n",
        "I am a software professional. completed my graduation ( BCA), C-DAC and OCP.Currently working with MNC as a Sr. Database Administrator in Pune. We are a family of 4 members based in Nagpur. Father is retired bank manager, mother is homemaker, younger sister is working with an airlines company."
       ]
      },
      {
       "output_type": "stream",
       "stream": "stdout",
       "text": [
        "\n",
        "202"
       ]
      },
      {
       "output_type": "stream",
       "stream": "stdout",
       "text": [
        " http://www.simplymarry.com/matrimonial/groom/SMM1637448/Hindu/Kunbi/Kundan-R.-Mohod\n",
        "I am a person of positive attitude towards life. I am confident, loving &amp; caring. My father &amp; mother are retd. teachers. They are very innocent &amp; modern by nature. I am looking for a spouse who should be tender by nature &amp; to respect, to love my family &amp; values."
       ]
      },
      {
       "output_type": "stream",
       "stream": "stdout",
       "text": [
        "\n",
        "203"
       ]
      },
      {
       "output_type": "stream",
       "stream": "stdout",
       "text": [
        " http://www.simplymarry.com/matrimonial/groom/SMM1520126/Hindu/Mahar/Sainath-Dhende\n",
        "Hi, By profession i am a Software Programmer cum Freelance Technical Trainer. I am a simple person and like to interact with people with different views."
       ]
      },
      {
       "output_type": "stream",
       "stream": "stdout",
       "text": [
        "\n",
        "204"
       ]
      },
      {
       "output_type": "stream",
       "stream": "stdout",
       "text": [
        " http://www.simplymarry.com/matrimonial/groom/SMM1552957/Buddhist/Aurobindo-Athawale\n",
        "Hi, i am a simple, straight forward and very optimistic in life. I am frank in nature and doesn't like to play games. I am currently working as a senior site eng in construction company in Pune."
       ]
      },
      {
       "output_type": "stream",
       "stream": "stdout",
       "text": [
        "\n",
        "205"
       ]
      },
      {
       "output_type": "stream",
       "stream": "stdout",
       "text": [
        " http://www.simplymarry.com/matrimonial/groom/SMM1512438/Hindu/Maratha/Manish-Shegaokar\n",
        "Am a post graduate from Mumbai University &amp; from a respectable family. My life partner should also be from a respectable family, cultured &amp; well educated i.e, Bcom ./MBA/MSC/MCOM or equivalent. I have no cast preference, but she should be an Indian Hindu Religion. She should be my best friend, should also be an open minded, caring &amp; loving like me, but knows how to fulfill her responsibilities towards her in-laws."
       ]
      },
      {
       "output_type": "stream",
       "stream": "stdout",
       "text": [
        "\n",
        "206"
       ]
      },
      {
       "output_type": "stream",
       "stream": "stdout",
       "text": [
        " http://www.simplymarry.com/matrimonial/groom/SMM1557692/Hindu/Brahmin---Kokanastha/Praveen-N-Bapat\n",
        "I am simple, cultured and from orthodox family, like to work hard and achieve something of my dream with honesty, i respect elders and god fearing person, i am a well wisher of all those who are honest and work hard and deadly oppose laziness."
       ]
      },
      {
       "output_type": "stream",
       "stream": "stdout",
       "text": [
        "\n",
        "207"
       ]
      },
      {
       "output_type": "stream",
       "stream": "stdout",
       "text": [
        " http://www.simplymarry.com/matrimonial/groom/SMM1530713/Hindu/Brahmin/Jayram-Prabhu\n",
        "Am a person who live life with fun and happiness; people say I fill my surrounding with joy and happiness. I respect moral values but hate moral policing. I love to visit new places and cannot stop myself to experiment new and happening things"
       ]
      },
      {
       "output_type": "stream",
       "stream": "stdout",
       "text": [
        "\n",
        "208"
       ]
      },
      {
       "output_type": "stream",
       "stream": "stdout",
       "text": [
        " http://www.simplymarry.com/matrimonial/groom/SMM1522951/Hindu/Kunbi/Nikhil-Tayade\n",
        "This is Nikhil Tayade, working as an Application Consultant in a Software firm in Mumbai."
       ]
      },
      {
       "output_type": "stream",
       "stream": "stdout",
       "text": [
        "\n",
        "209"
       ]
      },
      {
       "output_type": "stream",
       "stream": "stdout",
       "text": [
        " http://www.simplymarry.com/matrimonial/groom/SMM1575135/Hindu/Brahmin---Rigvedi/Shripad-Ravindra-Kulkarni\n",
        "After getting experience in the present company I am sure I will be employed in a reputed pharma MNC. I prefer to go in Research in pharma. Simultaneously I am trying for PG in NYPER. I am a disciplined and possessing rich family culture. Financially our family is very sound. My father serves as a Gazetted Officer in Customs department. My younger brother is studying in 3rd year Engineering degree course. My would be spouse be so lucky to find a loving and happy family."
       ]
      },
      {
       "output_type": "stream",
       "stream": "stdout",
       "text": [
        "\n",
        "210"
       ]
      },
      {
       "output_type": "stream",
       "stream": "stdout",
       "text": [
        " http://www.simplymarry.com/matrimonial/groom/SMM1519306/Hindu/Maratha/Parag-Chandrakant-Patil\n",
        "Am a person who likes to live life to the fullest and also believe in \"Live and let Live\" policy."
       ]
      },
      {
       "output_type": "stream",
       "stream": "stdout",
       "text": [
        "\n",
        "211"
       ]
      },
      {
       "output_type": "stream",
       "stream": "stdout",
       "text": [
        " http://www.simplymarry.com/matrimonial/groom/SMM1594846/Hindu/Maratha/Swadesh-B\n",
        "I am a straightforward, intuitive and easy going person. I like dealing with life in a simple yet broad manner, living life one day at a time and at the same time fostering my goal to make it big some day is pretty much Me. I am positive and optimistic about life in general. Being able to read and react to situations is one of my cherished qualities. I like taking calculated risks which I believe makes life more rewarding and exciting. I would like to give my 100% when at work, and always prefer not to mix work with home. The idea is to deal with them as two different entities and sustain a good balance all through. Besides I love traveling, driving and given a chance would like exploring different cultures as I cover new land. My future plans are to work in USA for few years, then settle in Mumbai with Parents and would start my own business set up."
       ]
      },
      {
       "output_type": "stream",
       "stream": "stdout",
       "text": [
        "\n",
        "212"
       ]
      },
      {
       "output_type": "stream",
       "stream": "stdout",
       "text": [
        " http://www.simplymarry.com/matrimonial/groom/SMM1525828/Hindu/Brahmin---Saraswat/Prathamesh-Kulkarni\n",
        "He is basically a happy in nature, uphold family values, He respects his parents very much and expect the same from his life partner He loves western, Indian classic music, and Hindi, Marathi films, He loves Maharastrian, Mongalai food, Chinese and fast food His passion is latest gadgets He is looking for a girl who is slim or average, bachelors in education,must be working, must be traditional in approach and respect his parents highly"
       ]
      },
      {
       "output_type": "stream",
       "stream": "stdout",
       "text": [
        "\n",
        "213"
       ]
      },
      {
       "output_type": "stream",
       "stream": "stdout",
       "text": [
        " http://www.simplymarry.com/matrimonial/groom/SMM1517316/Hindu/Brahmin---Kokanastha/Ashutosh-Ramdas-Ponkshe\n",
        "I am a fun loving and down to earth person who loves to travel and prefers a down to earth partner having good moral values."
       ]
      },
      {
       "output_type": "stream",
       "stream": "stdout",
       "text": [
        "\n",
        "214"
       ]
      },
      {
       "output_type": "stream",
       "stream": "stdout",
       "text": [
        " http://www.simplymarry.com/matrimonial/groom/SMM1533464/Hindu/CKP/Dr.-Milind-Tungare\n",
        "I am a good natured, co-operative, understanding, simple guy. I am looking for a similar good natured simple, educated girl for marriage. I have a good sense of humour and easily mix with all friends and people."
       ]
      },
      {
       "output_type": "stream",
       "stream": "stdout",
       "text": [
        "\n",
        "215"
       ]
      },
      {
       "output_type": "stream",
       "stream": "stdout",
       "text": [
        " http://www.simplymarry.com/matrimonial/groom/SMM1515052/Hindu/Brahmin---Karhade/Sachin-Pendharkar\n",
        "Simple and straight forward, good at heart with lots of Humor. Family oriented with good moral values. I hail from a well cultured Brahman family staying in Mumbai, my father is now a retired person, my darling mom is our dedicated homemaker and my younger sister is married. We are a close knit family."
       ]
      },
      {
       "output_type": "stream",
       "stream": "stdout",
       "text": [
        "\n",
        "216"
       ]
      },
      {
       "output_type": "stream",
       "stream": "stdout",
       "text": [
        " http://www.simplymarry.com/matrimonial/groom/SMM1574916/Hindu/Brahmin---Deshastha/Shripad-Rajpathak\n",
        "Our son is good looking, average body type, fun loving,caring &amp; responsible person. We are looking for a suitable girl for him. It would be best if the girl is working and even better if she is also from the IT Industry."
       ]
      },
      {
       "output_type": "stream",
       "stream": "stdout",
       "text": [
        "\n",
        "217"
       ]
      },
      {
       "output_type": "stream",
       "stream": "stdout",
       "text": [
        " http://www.simplymarry.com/matrimonial/groom/SMM1524758/Buddhist/Sunil\n",
        "I am a cool kind of person, caring, positive attitude, hate violence in any form. I am a person who believes in focusing on the solution, future rather than the problem or past, love to visit new places."
       ]
      },
      {
       "output_type": "stream",
       "stream": "stdout",
       "text": [
        "\n",
        "218"
       ]
      },
      {
       "output_type": "stream",
       "stream": "stdout",
       "text": [
        " http://www.simplymarry.com/matrimonial/groom/SMM1563617/Buddhist/Nilesh-Prabhakar-Bhaskar\n",
        "Hi, I am computer graduate and currently working with Tech Mahindra, Hinjewadi, Pune. I like reading, Traveling, making new friends and socializing. I look forward to partner who is mature, active, soft nature yet intelligent and smart and good in conversation skills. In other words, somebody who enjoy life to the fullest."
       ]
      },
      {
       "output_type": "stream",
       "stream": "stdout",
       "text": [
        "\n",
        "219"
       ]
      },
      {
       "output_type": "stream",
       "stream": "stdout",
       "text": [
        " http://www.simplymarry.com/matrimonial/groom/SMM1508325/Hindu/Panchal/Amol-Ramesh-Dahanukar\n",
        "My self Amol Dahanukar. I'm very softspoken &amp; fun loving person. I have completed my graduation in commerce and then I completed diploma in Advertising &amp; multimedia. Currently working in JWT Advertising Agency as a Creative Director. I like to hangout with my friends and also like to explore places with them. My interests are in drawing, photography, traveling and sports. Have passionate about my work. Looking for a partner with a sense of understanding, a touch of gratitude and sincerity and supportive in nature. Also gives importance to family values &amp; her career."
       ]
      },
      {
       "output_type": "stream",
       "stream": "stdout",
       "text": [
        "\n",
        "220"
       ]
      },
      {
       "output_type": "stream",
       "stream": "stdout",
       "text": [
        " http://www.simplymarry.com/matrimonial/groom/SMM1516742/Hindu/Jitendra-Netke\n",
        "I am simple by nature, understand family values, fun loving &amp; working as a Sr. Project Engineer in Mumbai. Me working in Larsen &amp; Toubro Limited (L&T;). We are 4 members in family. 1 sister got married."
       ]
      },
      {
       "output_type": "stream",
       "stream": "stdout",
       "text": [
        "\n",
        "221"
       ]
      },
      {
       "output_type": "stream",
       "stream": "stdout",
       "text": [
        " http://www.simplymarry.com/matrimonial/groom/SMM1528321/Hindu/Kasar/Amit\n",
        "Friendly, mature, down to earth. realistic. Well settled. well educated with good family background. Working with investment bank in Mumbai. Parents are staying in Pune. My interests are Indian classical music. Dancing (Salsa, Tango etc), going on long drives, watching movies, playing cricket, trekking, traveling."
       ]
      },
      {
       "output_type": "stream",
       "stream": "stdout",
       "text": [
        "\n",
        "222"
       ]
      },
      {
       "output_type": "stream",
       "stream": "stdout",
       "text": [
        " http://www.simplymarry.com/matrimonial/groom/SMM1528390/Hindu/Nhavi/Sandeep-M.-Fulbandhe\n",
        "Am a nice person. Professionally qualified as a mechanical engineer, am working in Ashok Leyland ltd as Development engineer. Am living with my mother. I don't know if I am manglik or not. I belong from Pune."
       ]
      },
      {
       "output_type": "stream",
       "stream": "stdout",
       "text": [
        "\n",
        "223"
       ]
      },
      {
       "output_type": "stream",
       "stream": "stdout",
       "text": [
        " http://www.simplymarry.com/matrimonial/groom/SMM1600714/Buddhist/Bhushan-Kadam\n",
        "I am confident, ambitious person, with good sense of humor. Believe in enjoying every moment of my life. A true nature lover. Like traveling, long drives, trekking, listening music. I am an avid reader and big time foodie. Like to explore new areas (business, technology, new places etc). My family and friends means a lot to me. Expect partner who is independent, a good set of values instilled in her. Currently working with IT system Integrator as a BDE, in Mumbai. I am born and brought in Mumbai, completed PGDM in marketing and BE in Mechanical engineering."
       ]
      },
      {
       "output_type": "stream",
       "stream": "stdout",
       "text": [
        "\n",
        "224"
       ]
      },
      {
       "output_type": "stream",
       "stream": "stdout",
       "text": [
        " http://www.simplymarry.com/matrimonial/groom/SMM1531118/Hindu/Maratha/Shivprasad-Gaikwad\n",
        "hi I am dr Shivprasad Gaikwad &amp; very good personality w/very sucessful ambitions I always get what I want\n",
        "I love playing cricket &amp; sports\n",
        "My Hobbies are trecking &amp; going to different places\n",
        "I an also very happening person having city lifestyle as born in middle class family know to take care of my family &amp; having no bad habits."
       ]
      },
      {
       "output_type": "stream",
       "stream": "stdout",
       "text": [
        "\n",
        "225"
       ]
      },
      {
       "output_type": "stream",
       "stream": "stdout",
       "text": [
        " http://www.simplymarry.com/matrimonial/groom/SMM1525853/Hindu/Brahmin---Rigvedi/Amit-Arvind-Kulkarni\n",
        "Am Amit Kulkarni from Pune working in Mumbai from last 1 year."
       ]
      },
      {
       "output_type": "stream",
       "stream": "stdout",
       "text": [
        "\n",
        "226"
       ]
      },
      {
       "output_type": "stream",
       "stream": "stdout",
       "text": [
        " http://www.simplymarry.com/matrimonial/groom/SMM1577551/Hindu/Devang-Koshthi/Atul-Deoraoji-Dhakite\n",
        "I have completed Diploma in Chemical Engg from Govt. Polytechnic College and PGDBM from Welingkar Institute of Management, Mumbai. I am simple and fun loving person and love to make others laugh."
       ]
      },
      {
       "output_type": "stream",
       "stream": "stdout",
       "text": [
        "\n",
        "227"
       ]
      },
      {
       "output_type": "stream",
       "stream": "stdout",
       "text": [
        " http://www.simplymarry.com/matrimonial/groom/SMM1519613/Hindu/Vania/Mayur-Kothavade\n",
        "Hello, I am Mayur Kothavade, have completed bachelors and Diploma from North Maharashtra University and Institute. I have been working as a system Engineer in software MNC. I am looking for a cute bride."
       ]
      },
      {
       "output_type": "stream",
       "stream": "stdout",
       "text": [
        "\n",
        "228"
       ]
      },
      {
       "output_type": "stream",
       "stream": "stdout",
       "text": [
        " http://www.simplymarry.com/matrimonial/groom/SMM1545452/Buddhist/Satish-Lokhande\n",
        "Looking for a smart life partner for myself. Am a B.com. graduate from Mumbai university, staying at Mumbai. My family consists of my parents, father is retired person, mother is a house wife, elder brother has his own business, sister-in-law is housewife, and one younger sister."
       ]
      },
      {
       "output_type": "stream",
       "stream": "stdout",
       "text": [
        "\n",
        "229"
       ]
      },
      {
       "output_type": "stream",
       "stream": "stdout",
       "text": [
        " http://www.simplymarry.com/matrimonial/groom/SMM1605378/Hindu/Bhavasar-Kshatriya/Kamlesh-Hanchate\n",
        "Am very simple, down to earth person and looking for a simple, good looking &amp; well cultured life partner."
       ]
      },
      {
       "output_type": "stream",
       "stream": "stdout",
       "text": [
        "\n",
        "230"
       ]
      },
      {
       "output_type": "stream",
       "stream": "stdout",
       "text": [
        " http://www.simplymarry.com/matrimonial/groom/SMM1584448/Buddhist/Narendra-Jagtap\n",
        "Hello, I have completed graduation from Pune university. BE in (chemical). I have searching good looking and smart life partner. I am very simple, 5 members are in my family, father is retired, he was worked in electricity board. I have 2 brother, 1 younger and 1 elder."
       ]
      },
      {
       "output_type": "stream",
       "stream": "stdout",
       "text": [
        "\n",
        "231"
       ]
      },
      {
       "output_type": "stream",
       "stream": "stdout",
       "text": [
        " http://www.simplymarry.com/matrimonial/groom/SMM1525017/Hindu/Maratha/Mandar-Dilip-Bhoite\n",
        "i like trekking,reading,travelling."
       ]
      },
      {
       "output_type": "stream",
       "stream": "stdout",
       "text": [
        "\n",
        "232"
       ]
      },
      {
       "output_type": "stream",
       "stream": "stdout",
       "text": [
        " http://www.simplymarry.com/matrimonial/groom/SMM1525054/Hindu/Maratha/Pradeep-Bhogle\n",
        "I live in Mumbai from my Birth, I like Reading Books, Watching Movies, Playing Cricket, Traveling etc. Completed my Graduation from Lala Lajpat Rai College, Mumbai &amp; Presently working with Pharmaceutical Company."
       ]
      },
      {
       "output_type": "stream",
       "stream": "stdout",
       "text": [
        "\n",
        "233"
       ]
      },
      {
       "output_type": "stream",
       "stream": "stdout",
       "text": [
        " http://www.simplymarry.com/matrimonial/groom/SMM1504635/Hindu/Brahmin---Kokanastha/Samir\n",
        "We are well-educated and cultured family. Have broad outlook towards life. Respect individual feelings, thoughts and views. I am very close to my family and very few but close friends. I am person who believes and most of the times do succeed in maintaining good work life balance. I am easy going, fun-loving, caring, helping and most importantly trust-worthy. Always look to cherish smallest fun moments in life. Believe in positive attitude. On educational front, I have done my MBA- HR post completion of my Engineering. On a professional front, have worked as HR professional for over 6yrs. My last assignment was with Mahindra. Have recently started my own business ( Placement Consultancy) in Pune."
       ]
      },
      {
       "output_type": "stream",
       "stream": "stdout",
       "text": [
        "\n",
        "234"
       ]
      },
      {
       "output_type": "stream",
       "stream": "stdout",
       "text": [
        " http://www.simplymarry.com/matrimonial/groom/SMM1637930/Hindu/Devang-Koshthi/Sandeep-Nagpure\n",
        "Hi, i am working as an Asst Prof at an Engg college in Pune."
       ]
      },
      {
       "output_type": "stream",
       "stream": "stdout",
       "text": [
        "\n",
        "235"
       ]
      },
      {
       "output_type": "stream",
       "stream": "stdout",
       "text": [
        " http://www.simplymarry.com/matrimonial/groom/SMM1554358/Hindu/Maratha/Deepak-Deshmukh\n",
        "Hi i am Deepak. Basically i am looking for person from 96 kuli maratha, Preferred from Western Maharashtra, with Minimum Education BE/B-Tech/MCA/MBA/CA/LLB. Cultured, Understanding having high ethical and moral values. Independent, honest, open minded, sharing and caring kind of person."
       ]
      },
      {
       "output_type": "stream",
       "stream": "stdout",
       "text": [
        "\n",
        "236"
       ]
      },
      {
       "output_type": "stream",
       "stream": "stdout",
       "text": [
        " http://www.simplymarry.com/matrimonial/groom/SMM1532014/Jain/Digambar/Rajkumar-S.-Jain\n",
        "Hi, I am Raj very calm, down to earth, simple &amp; quite humorous. I live in mumbai with my only mother. I have completed B com from M.U. Currently I am working as Finance Executive. I am very good at carrom &amp; would like to visit new places."
       ]
      },
      {
       "output_type": "stream",
       "stream": "stdout",
       "text": [
        "\n",
        "237"
       ]
      },
      {
       "output_type": "stream",
       "stream": "stdout",
       "text": [
        " http://www.simplymarry.com/matrimonial/groom/SMM1516917/Hindu/Maratha/Nimesh-V.-More\n",
        "I'm a very simple living and high thinking person."
       ]
      },
      {
       "output_type": "stream",
       "stream": "stdout",
       "text": [
        "\n",
        "238"
       ]
      },
      {
       "output_type": "stream",
       "stream": "stdout",
       "text": [
        " http://www.simplymarry.com/matrimonial/groom/SMM1507892/Hindu/Brahmin/Krunal-Ashokkumar-Joshi\n",
        "I am Krunal Joshi,young energetic and enthusiastic person. I believe in attitude and i know it is small thing but makes a big difference. I am living life on my own terms but taking care of happiness, feelings and freedom. I believe in myself to create my own identity. I am working with private limited company as an export import documentation exper. My next move would be to join an MNC. I am pursuing MBA from United Business Institutes, Brussels - Belgium and also PGDIBO (Post Graduate Diploma in International Business Operations. I am looking for big opportunity and i will definitely make it."
       ]
      },
      {
       "output_type": "stream",
       "stream": "stdout",
       "text": [
        "\n",
        "239"
       ]
      },
      {
       "output_type": "stream",
       "stream": "stdout",
       "text": [
        " http://www.simplymarry.com/matrimonial/groom/SMM1525831/Buddhist/Kumar-Manu\n",
        "i am born in middle class marathi buddhist family. parents no more. living with two sisters in our own house, nagpur. i am working in international sports organization nagpur. as F.O.A. elder sis is working in a school."
       ]
      },
      {
       "output_type": "stream",
       "stream": "stdout",
       "text": [
        "\n",
        "240"
       ]
      },
      {
       "output_type": "stream",
       "stream": "stdout",
       "text": [
        " http://www.simplymarry.com/matrimonial/groom/SMM1527895/Hindu/Brahmin/Anup-Deo\n",
        "Hi, I am Anup Deo, I have completed my Masters in Finance. I am currently working as an Accounting Professional. I am a simple, fun loving person with family values, ethics and lots of honour and give importance to family and relationship."
       ]
      },
      {
       "output_type": "stream",
       "stream": "stdout",
       "text": [
        "\n",
        "241"
       ]
      },
      {
       "output_type": "stream",
       "stream": "stdout",
       "text": [
        " http://www.simplymarry.com/matrimonial/groom/SMM1522325/Hindu/Kunbi/Prabhakar-Ganpat-Peje\n",
        "I m a Simple Guy, Looking for a Simple girl."
       ]
      },
      {
       "output_type": "stream",
       "stream": "stdout",
       "text": [
        "\n",
        "242"
       ]
      },
      {
       "output_type": "stream",
       "stream": "stdout",
       "text": [
        " http://www.simplymarry.com/matrimonial/groom/SMM1527332/Hindu/Brahmin/Amit-Pathak\n",
        "Am a person who live life with fun and happiness; people say I fill my surrounding with joy and happiness. I respect moral values but hate moral policing. I love to visit new places and cannot stop myself to experiment new and happening things."
       ]
      },
      {
       "output_type": "stream",
       "stream": "stdout",
       "text": [
        "\n",
        "243"
       ]
      },
      {
       "output_type": "stream",
       "stream": "stdout",
       "text": [
        " http://www.simplymarry.com/matrimonial/groom/SMM1503400/Hindu/Maratha/Sachin-pawar-Pawar\n",
        "I stay in western suburbs of Mumbai. I am post graduate from mumbai university from commerce stream and persuing MBA. I am looking for smart, qualified partner. She should have a job. I like mountaineering, cricket, badminton, trips with friends and office colleagues."
       ]
      },
      {
       "output_type": "stream",
       "stream": "stdout",
       "text": [
        "\n",
        "244"
       ]
      },
      {
       "output_type": "stream",
       "stream": "stdout",
       "text": [
        " http://www.simplymarry.com/matrimonial/groom/SMM1614161/Hindu/Maratha/Dr.-Prashant\n",
        "I see myself as a stable, responsible, self confident and fun loving person who has a good set of values. I am the type of person who looks forward to start the day with all enthusiasm. It is in my nature to accept the facts of life whether they are pleasant or not."
       ]
      },
      {
       "output_type": "stream",
       "stream": "stdout",
       "text": [
        "\n",
        "245"
       ]
      },
      {
       "output_type": "stream",
       "stream": "stdout",
       "text": [
        " http://www.simplymarry.com/matrimonial/groom/SMM1552365/Hindu/Teli/Yogesh-Ghanshyam-Khadke\n",
        "M Yogesh Khadke Govt. Emp., Doing service for Gov. of India MINISTRY OF. DEFENCE at Nasik from last 5 yrs, Work In H.A.L.(Ministry Of De fence) Govt. Of India, Fighter aircraft Div. Nasik-MH. Permanent in Nasik, So many Time work with Russian Techi(Engg) , My Govt. Job Nontransferable. Basically I am from Nasik, , My bang lo in panchawati, Belong to moderate family background with a blend of traditional values. Father is Ret.(Govt) ,mother(h.w.) ,sister Chaitali a(MBA)."
       ]
      },
      {
       "output_type": "stream",
       "stream": "stdout",
       "text": [
        "\n",
        "246"
       ]
      },
      {
       "output_type": "stream",
       "stream": "stdout",
       "text": [
        " http://www.simplymarry.com/matrimonial/groom/SMM1591716/Hindu/Devang-Koshthi/Mahesh-R.-Lipare\n",
        "I was born and brought up in Mumbai. Am simple, hardworking and down to earth person."
       ]
      },
      {
       "output_type": "stream",
       "stream": "stdout",
       "text": [
        "\n",
        "247"
       ]
      },
      {
       "output_type": "stream",
       "stream": "stdout",
       "text": [
        " http://www.simplymarry.com/matrimonial/groom/SMM1513572/Hindu/CKP/Sanket-Bolinjkar\n",
        "I am a simple individual, staying with my family, looking for a partner who is like minded and open and support me in all my endeavors. I am open minded and bold in every step I take."
       ]
      },
      {
       "output_type": "stream",
       "stream": "stdout",
       "text": [
        "\n",
        "248"
       ]
      },
      {
       "output_type": "stream",
       "stream": "stdout",
       "text": [
        " http://www.simplymarry.com/matrimonial/groom/SMM1504679/Hindu/Chambhar/Vishal-Bhaskar-Bhosle\n",
        "I am working in Truck manufacturing com. I have one brother father is retired deputy commissioner in customs and cen, excise our family is well settled i am searching graduate fair and smart girl from good family"
       ]
      },
      {
       "output_type": "stream",
       "stream": "stdout",
       "text": [
        "\n",
        "249"
       ]
      },
      {
       "output_type": "stream",
       "stream": "stdout",
       "text": [
        " http://www.simplymarry.com/matrimonial/groom/SMM1530317/Hindu/Swakula-Sali/Priyakant-Kothekar\n",
        "I like to enjoy each &amp; every moment of my life. Working as Senior HR in Future Agrovet Ltd and will try to reach the maximum position as per my ability. I like to live in Joint Family. Planning to do business in future."
       ]
      },
      {
       "output_type": "stream",
       "stream": "stdout",
       "text": [
        "\n",
        "250"
       ]
      },
      {
       "output_type": "stream",
       "stream": "stdout",
       "text": [
        " http://www.simplymarry.com/matrimonial/groom/SMM1504057/Hindu/Maratha/Nilesh-Kamthe\n",
        "I am self confident,cool nature, I like traveling,reading, go close to nature, music. I like to do social work, I don't drink or smoke."
       ]
      },
      {
       "output_type": "stream",
       "stream": "stdout",
       "text": [
        "\n",
        "251"
       ]
      },
      {
       "output_type": "stream",
       "stream": "stdout",
       "text": [
        " http://www.simplymarry.com/matrimonial/groom/SMM1612043/Hindu/Maratha/Deepak-Khande\n",
        "Simple boy, belongs to a simple middle class family. I believe in myself and my destiny. I am looking for a life partner who is ambitious, kindhearted, down to earth and well educated. I am looking for a partner who is caring, loving and understanding. He should be matured enough to understand small things related to relations. He should be supportive."
       ]
      },
      {
       "output_type": "stream",
       "stream": "stdout",
       "text": [
        "\n",
        "252"
       ]
      },
      {
       "output_type": "stream",
       "stream": "stdout",
       "text": [
        " http://www.simplymarry.com/matrimonial/groom/SMM1629695/Hindu/Chambhar/Dinesh-Ghodke\n",
        "Hello! My name is Dinesh Ghodke. I have completed my Bachelors in Commerce. I am currently working as a Software Developer / Programmer. My hobbies/interests include music. I prefer reading business related books. My favourite sports are cricket, tennis. My family is traditional. I am looking for someone Understand."
       ]
      },
      {
       "output_type": "stream",
       "stream": "stdout",
       "text": [
        "\n",
        "253"
       ]
      },
      {
       "output_type": "stream",
       "stream": "stdout",
       "text": [
        " http://www.simplymarry.com/matrimonial/groom/SMM1512901/Hindu/Brahmin---Deshastha/R.-Arvind\n",
        "Father retired from sbi, mother retired from LIC, one daughter married, working CTS and my son is very accomodative, considerate, fun loving personality with human approach father and mother are independent"
       ]
      },
      {
       "output_type": "stream",
       "stream": "stdout",
       "text": [
        "\n",
        "254"
       ]
      },
      {
       "output_type": "stream",
       "stream": "stdout",
       "text": [
        " http://www.simplymarry.com/matrimonial/groom/SMM1503633/Hindu/Brahmin/Chandrashekhar-Joshi\n",
        "Our brother is one in a million who is well educated, intelligent and very caring. He looked after our parents, our Aai and Baba, himself. He adores children. Likes music, travelling, photography and is full of life. Likes watching movies, family get together and is very popular with his friends."
       ]
      },
      {
       "output_type": "stream",
       "stream": "stdout",
       "text": [
        "\n",
        "255"
       ]
      },
      {
       "output_type": "stream",
       "stream": "stdout",
       "text": [
        " http://www.simplymarry.com/matrimonial/groom/SMM1503753/Hindu/Teli/Nilesh-Shashikant-Kasbe\n",
        "I am a very much straightforward, honest, hardworking and loyal person; hate fake persons; own a catering business and also partner with my brother in computer sales; i live with my mother and younger sister in andheri versova"
       ]
      },
      {
       "output_type": "stream",
       "stream": "stdout",
       "text": [
        "\n",
        "256"
       ]
      },
      {
       "output_type": "stream",
       "stream": "stdout",
       "text": [
        " http://www.simplymarry.com/matrimonial/groom/SMM1529704/Hindu/Maratha/Prashant\n",
        "I am a cool kind of person, caring, positive attitude, hate violence in any form. I am a person who believes in focusing on the solution, future rather than the problem or past, love to visit new places."
       ]
      },
      {
       "output_type": "stream",
       "stream": "stdout",
       "text": [
        "\n",
        "257"
       ]
      },
      {
       "output_type": "stream",
       "stream": "stdout",
       "text": [
        " http://www.simplymarry.com/matrimonial/groom/SMM1562884/Hindu/Bhandari/Mahendra-Sarmalkar\n",
        "I am a very simple and a peaceful person. Take time to mix with people. I am a good listener than a good speaker. I did my B. Sc in Chemistry and then did my management course in International Marketing from NMIMS. I am working as an Manager - Exports with a reputed firm. My job profile is dealing with overseas clients and includes overseas traveling few times. My father passed away 9 years back and I stay with my Mother. I have an elder sister and an elder brother, both are married and settled."
       ]
      },
      {
       "output_type": "stream",
       "stream": "stdout",
       "text": [
        "\n",
        "258"
       ]
      },
      {
       "output_type": "stream",
       "stream": "stdout",
       "text": [
        " http://www.simplymarry.com/matrimonial/groom/SMM1501461/Jain/Shewetamber/Pankaj-Munot\n",
        "I am very friendly &amp; cool person &amp; also down to earth. I belong to a big family having very high moral values. I also care about my family very much especially all elders. My family is having business. I expect my partner to respect my family members, as i will also do the same with her family. i am searching for a soul mate who is compatible to me. I am currently working in MAHARASHTRA STATE POWER GENERATION COMPANY (govt. company) as J.E . Annual income 5.5 lakh with all facilities.i also completed MBA in finance."
       ]
      },
      {
       "output_type": "stream",
       "stream": "stdout",
       "text": [
        "\n",
        "259"
       ]
      },
      {
       "output_type": "stream",
       "stream": "stdout",
       "text": [
        " http://www.simplymarry.com/matrimonial/groom/SMM1529035/Hindu/Dhangar/Vinayak\n",
        "I m very simple high thinking person looking for someone who can understand me and my family who can take care my and my family responsibilities and I would like to keep my partner always happy by all her wishes and plans"
       ]
      },
      {
       "output_type": "stream",
       "stream": "stdout",
       "text": [
        "\n",
        "260"
       ]
      },
      {
       "output_type": "stream",
       "stream": "stdout",
       "text": [
        " http://www.simplymarry.com/matrimonial/groom/SMM1593921/Christian/Catholic/Simson-Joseph-Soares\n",
        "AM SIMSON J SOARES FROM VASAI (W), BELIEVES IN JESUS CHRIST AS SAVIOR. AM A FUN LOVING AND CHARMING PERSON HAVING RESPECT FOR PEOPLE."
       ]
      },
      {
       "output_type": "stream",
       "stream": "stdout",
       "text": [
        "\n",
        "261"
       ]
      },
      {
       "output_type": "stream",
       "stream": "stdout",
       "text": [
        " http://www.simplymarry.com/matrimonial/groom/SMM1549196/Buddhist/Swapnil-Waghmare\n",
        "Hi myself Swapnil Waghmare, born &amp; brought in Mumbai. Currently will appear for CA final &amp; CS Final in Nov 2012. Looking for a finance profession as a partner."
       ]
      },
      {
       "output_type": "stream",
       "stream": "stdout",
       "text": [
        "\n",
        "262"
       ]
      },
      {
       "output_type": "stream",
       "stream": "stdout",
       "text": [
        " http://www.simplymarry.com/matrimonial/groom/SMM1532185/Hindu/Nitin-Konde\n",
        "Am Nitin konde, currently working as Senior reporter for TIMES OF INDIA and also Asst professor of mass media. Am fun loving, person who take life as it comes. Also like traveling, hanging out with friends and family, etc. Have done my masters in journalism from Mumbai. In my family there are four members: me, my mom, dad and granny. Have an elder sister who is married and settled in USA. Seek for a better half who is truly understanding. If she want to continue in her profession she can."
       ]
      },
      {
       "output_type": "stream",
       "stream": "stdout",
       "text": [
        "\n",
        "263"
       ]
      },
      {
       "output_type": "stream",
       "stream": "stdout",
       "text": [
        " http://www.simplymarry.com/matrimonial/groom/SMM1575849/Hindu/Mali/Sushant-Navale\n",
        "I'm honest &amp; loyal person, like simplicity."
       ]
      },
      {
       "output_type": "stream",
       "stream": "stdout",
       "text": [
        "\n",
        "264"
       ]
      },
      {
       "output_type": "stream",
       "stream": "stdout",
       "text": [
        " http://www.simplymarry.com/matrimonial/groom/SMM1516554/Hindu/Bhavasar-Kshatriya/Parag-Paralikar\n",
        "Hi, This is Parag Paralikar, Sr. consultant at Capgemini. I am from Akola, done my Engg from SSGMCE Shegaon in Mechanical. Served 4 years in Inofosys, 1 year in IBM and currently working as Sr. Consultant at Capgemini."
       ]
      },
      {
       "output_type": "stream",
       "stream": "stdout",
       "text": [
        "\n",
        "265"
       ]
      },
      {
       "output_type": "stream",
       "stream": "stdout",
       "text": [
        " http://www.simplymarry.com/matrimonial/groom/SMM1502273/Hindu/Kokanastha-Maratha/Nain-Pawar\n",
        "Me an agnostic... simple... from a middle class family. working in Pvt Bank, Mumbai.... I would describe myself a relaxed and calm natured person, tend to mix with people once I get to know them a bit."
       ]
      },
      {
       "output_type": "stream",
       "stream": "stdout",
       "text": [
        "\n",
        "266"
       ]
      },
      {
       "output_type": "stream",
       "stream": "stdout",
       "text": [
        " http://www.simplymarry.com/matrimonial/groom/SMM1499736/Hindu/Brahmin/Kamlesh-R.-Baokar\n",
        "i am self employed work as a Investor, I an very kind and shy person. like to live with happy family &amp; i am Living with my two brother and one sister in bhayandar in my own flat. my native place is pen, Raigad."
       ]
      },
      {
       "output_type": "stream",
       "stream": "stdout",
       "text": [
        "\n",
        "267"
       ]
      },
      {
       "output_type": "stream",
       "stream": "stdout",
       "text": [
        " http://www.simplymarry.com/matrimonial/groom/SMM1583097/Hindu/Brahmin---Saraswat/Amit-Yeshwant-Rajpurkar\n",
        "I AM THE ONLY SON. MY JOB IS RELATED TO THE GULF COUNTRIES. HAVE NUMBER OF FLATS IN DAHISAR. HAVE TWO SISTERS, BOTH ARE MARRIED AND SETTLED. AM A WORKAHOLIC PERSON."
       ]
      },
      {
       "output_type": "stream",
       "stream": "stdout",
       "text": [
        "\n",
        "268"
       ]
      },
      {
       "output_type": "stream",
       "stream": "stdout",
       "text": [
        " http://www.simplymarry.com/matrimonial/groom/SMM1560383/Hindu/Brahmin---Daivadnya/Kashyap-Bharat-Narvekar\n",
        "I am a soft herated person and simple as well as down to earth. I have educated in hotel management from London. My hobbies are swimming, travel, shooting and fishing. I also listen to music just to relax."
       ]
      },
      {
       "output_type": "stream",
       "stream": "stdout",
       "text": [
        "\n",
        "269"
       ]
      },
      {
       "output_type": "stream",
       "stream": "stdout",
       "text": [
        " http://www.simplymarry.com/matrimonial/groom/SMM1567567/Hindu/Banjara/Vijay-Chavan\n",
        "I am simple person with high thinking, living separate from last few year without any personal family relationship. I need a simple girl who cares for me in any situation who love me forever, no issues about caste. I want an independent girl."
       ]
      },
      {
       "output_type": "stream",
       "stream": "stdout",
       "text": [
        "\n",
        "270"
       ]
      },
      {
       "output_type": "stream",
       "stream": "stdout",
       "text": [
        " http://www.simplymarry.com/matrimonial/groom/SMM1593545/Hindu/Shimpi/Krunal-Khairnar\n",
        "I have to say lot of things about me. But how to start &amp; from where to start. Fine, I am very enthusiastic, energetic, confident, hardworking, quite emotional, caring. Usually I am moderate some extend I kept my self in traditions. I would say I am fun loving, Joyful, cheerful. Always happy go lucky tackle problems &amp; get solutions. Positive attitude towards life &amp; opportunities. More family values are important according to me."
       ]
      },
      {
       "output_type": "stream",
       "stream": "stdout",
       "text": [
        "\n",
        "271"
       ]
      },
      {
       "output_type": "stream",
       "stream": "stdout",
       "text": [
        " http://www.simplymarry.com/matrimonial/groom/SMM1518382/Hindu/Praveen-Galdhar\n",
        "Am a simple person; like music, traveling, hanging out with friend. Am born and bought in Pune, we are family of 4 people: my mom, dad and younger brother. All the members are very lovely, caring and respectable."
       ]
      },
      {
       "output_type": "stream",
       "stream": "stdout",
       "text": [
        "\n",
        "272"
       ]
      },
      {
       "output_type": "stream",
       "stream": "stdout",
       "text": [
        " http://www.simplymarry.com/matrimonial/groom/SMM1502791/Buddhist/Santosh-Bhosale\n",
        "Hi, i am santosh,i am decent boy and having a accountable personality, i expected about my partner as conscious as me. I am very confident boy. I have completed diploma civil Engineering and working with PRIL form last 5 years."
       ]
      },
      {
       "output_type": "stream",
       "stream": "stdout",
       "text": [
        "\n",
        "273"
       ]
      },
      {
       "output_type": "stream",
       "stream": "stdout",
       "text": [
        " http://www.simplymarry.com/matrimonial/groom/SMM1504519/Hindu/Maratha/Sachin-Sawant\n",
        "i am simple,friendly, calm and have a good sense of humor."
       ]
      },
      {
       "output_type": "stream",
       "stream": "stdout",
       "text": [
        "\n",
        "274"
       ]
      },
      {
       "output_type": "stream",
       "stream": "stdout",
       "text": [
        " http://www.simplymarry.com/matrimonial/groom/SMM1518117/Hindu/Bhavasar-Kshatriya/Sandeep-R-Mirajkar\n",
        "MY SON IS WORKING IN MAERSK, CHENNAI. HE HAS STUDIED B.E. AND HAVE DONE SIX SIGMA - BLACK BELT. HE IS MY ONLY SON."
       ]
      },
      {
       "output_type": "stream",
       "stream": "stdout",
       "text": [
        "\n",
        "275"
       ]
      },
      {
       "output_type": "stream",
       "stream": "stdout",
       "text": [
        " http://www.simplymarry.com/matrimonial/groom/SMM1631598/Hindu/Maratha/Nilesh-Ghabak\n",
        "hiiiiiiiiiiiiiiiiiiiiiiiii im a smart boy and searching for my angel........................................ If u intrested in me then pls contact me..................................................."
       ]
      },
      {
       "output_type": "stream",
       "stream": "stdout",
       "text": [
        "\n",
        "276"
       ]
      },
      {
       "output_type": "stream",
       "stream": "stdout",
       "text": [
        " http://www.simplymarry.com/matrimonial/groom/SMM1578725/Buddhist/Harshad-Vinayak-Sawant\n",
        "Hello, I am very simple, silent person, pleasing in nature, obedient, down to earth, understanding, friendly &amp; with respect to elders. I believe in character ethics than personality ethics. I am a devoted person who will make the married life a bliss. As far as my educational background is considered, I have done B. E. (Mech) Form Govt. college of engineering, Karad in 2007. I am currently working as a Sr. Design Engineer for Vehicle Interiors(Cockpit Systems) since last 4 years &amp;\n",
        "currently I am working in research and development dept. as senior design engineer for VOLVO India at Bangalore. After getting good experience, I will shift to Pune. She should be the one who can understand me because marriage is based on trust, love and understanding between the two. Must have family values, respect for elders, Must be good in bonding relationship &amp; same she can expect from me."
       ]
      },
      {
       "output_type": "stream",
       "stream": "stdout",
       "text": [
        "\n",
        "277"
       ]
      },
      {
       "output_type": "stream",
       "stream": "stdout",
       "text": [
        " http://www.simplymarry.com/matrimonial/groom/SMM1511122/Jain/Digambar/Raunak-Dhanuskar\n",
        "I am looking for a modern, independent, attractive partner who also has a good sense of humour. Personally I have a face for every occasion since I can blend in with the crowd. I am a person who is very caring, loving, compassionate, considerate, cheerful, optimistic, calm, soft-spoken, strong-willed, and persevering. I m looking for a person who should be well settled and gives equal importance to work and family."
       ]
      },
      {
       "output_type": "stream",
       "stream": "stdout",
       "text": [
        "\n",
        "278"
       ]
      },
      {
       "output_type": "stream",
       "stream": "stdout",
       "text": [
        " http://www.simplymarry.com/matrimonial/groom/SMM1527017/Hindu/Chambhar/Virendra-Kamble\n",
        "I am a simple, confident, smart, fun-loving, caring, optimist, ambitious and career oriented Guy.I believe in living life to the fullest by being responsible, affectionate and caring to people around me. I am basically from nasik but working in pune as sales professional in one of the leading automobile spares company. Looking for for the life partner who understand me and preferably working ."
       ]
      },
      {
       "output_type": "stream",
       "stream": "stdout",
       "text": [
        "\n",
        "279"
       ]
      },
      {
       "output_type": "stream",
       "stream": "stdout",
       "text": [
        " http://www.simplymarry.com/matrimonial/groom/SMM1592237/Hindu/Mali/Sudhakar-Namdeo-Mali\n",
        "I am 27 years old, Hindu and living in Pune, Maharashtra. Currently working in a MNC as an Sr. Accounts Executive in Pune."
       ]
      },
      {
       "output_type": "stream",
       "stream": "stdout",
       "text": [
        "\n",
        "280"
       ]
      },
      {
       "output_type": "stream",
       "stream": "stdout",
       "text": [
        " http://www.simplymarry.com/matrimonial/groom/SMM1638970/Hindu/Maratha/Kshitij-Hore\n",
        "I am a very simple person."
       ]
      },
      {
       "output_type": "stream",
       "stream": "stdout",
       "text": [
        "\n",
        "281"
       ]
      },
      {
       "output_type": "stream",
       "stream": "stdout",
       "text": [
        " http://www.simplymarry.com/matrimonial/groom/SMM1502158/Buddhist/Avinash-Ashokrao-Warghae\n",
        "I am B.Sc., B.Ed.(Maths), completed some Computer course and having very good knowledge of Computer Hardware and Software by completing various types of course in Information Technology. I had a very good work experience with Reputed companies. I am working near my native place. Recently I am working in a reputed College in Wardha as an Office Superintendent."
       ]
      },
      {
       "output_type": "stream",
       "stream": "stdout",
       "text": [
        "\n",
        "282"
       ]
      },
      {
       "output_type": "stream",
       "stream": "stdout",
       "text": [
        " http://www.simplymarry.com/matrimonial/groom/SMM1576107/Hindu/Brahmin---Saraswat/Milind-Heble\n",
        "Am from middle class family, cultural &amp; social. Staying with Mother &amp; Elder Sister. Working as a video programmer in Broadcast &amp; television network from last 10 years. My mother is retired from BMC Health Department as a matron. My elder sister is working in export firm(Admin). Have done Higher secondary Electrical diploma, REINET Networking, Mac os sr. programing editor.\n",
        "Am simple by nature, cultural &amp; creative in my work, love life &amp; profession to the fullest extent. Being in Media (television) its been fun always."
       ]
      },
      {
       "output_type": "stream",
       "stream": "stdout",
       "text": [
        "\n",
        "283"
       ]
      },
      {
       "output_type": "stream",
       "stream": "stdout",
       "text": [
        " http://www.simplymarry.com/matrimonial/groom/SMM1560419/Hindu/Maratha/Akhilesh\n",
        "Down to earth person who likes travelling and meeting new people."
       ]
      },
      {
       "output_type": "stream",
       "stream": "stdout",
       "text": [
        "\n",
        "284"
       ]
      },
      {
       "output_type": "stream",
       "stream": "stdout",
       "text": [
        " http://www.simplymarry.com/matrimonial/groom/SMM1549067/Hindu/Maratha/Chetan\n",
        "I am simple, straight forward, fun loving person. Like to travel a lot, believe in honesty and trust. I stay in Mumbai, working in MNC, I am Looking for a bride who is simple by nature, smart and well educated."
       ]
      },
      {
       "output_type": "stream",
       "stream": "stdout",
       "text": [
        "\n",
        "285"
       ]
      },
      {
       "output_type": "stream",
       "stream": "stdout",
       "text": [
        " http://www.simplymarry.com/matrimonial/groom/SMM1570260/Hindu/Shimpi/Sachin-Khatavkar\n",
        "Hi I'm a simple guy. Looking for a simple girl who can understand my feelings. I am honest, understanding person. I have helping nature. I am a Believer of Indian values and tradition, but progressive in thought and action, religious and humorous by nature and affectionate to the family members. I am ambitious to achieve my goals in life. I like travel to new places."
       ]
      },
      {
       "output_type": "stream",
       "stream": "stdout",
       "text": [
        "\n",
        "286"
       ]
      },
      {
       "output_type": "stream",
       "stream": "stdout",
       "text": [
        " http://www.simplymarry.com/matrimonial/groom/SMF1639767/Buddhist/Bagade-Balaji-Jalindar\n",
        "287"
       ]
      },
      {
       "output_type": "stream",
       "stream": "stdout",
       "text": [
        " http://www.simplymarry.com/matrimonial/groom/SMM1506979/Hindu/Maratha/Sushil-Shankar-Kadam\n",
        "Hi, I am Sushil Kadam. Completed Engineering and then MBA in Finance from Sinhgad college Pune. I am a person with excellent academic background. Currently working in SUNGARD as a Quality Control Analyst since more than 2 years. I am simple and honest person. I respect traditional values but not conservative, quite emotional but fun-loving and family oriented person, independent in my thoughts and opinions but at the same time respectful of the thoughts and feelings of others. I like being natural and true and expect the same from people around me. I value honesty, simplicity and loyalty. I like to watch television shows and movies, listening to music, travelling and playing games. Looking for a descent life partner. I would like a partner for me who is understanding and caring and family oriented and who will respect me and my parents. Looking for a minimum graduate, well cultured and good character girl who can manage home with or without doing a job. Marriage for me is very sacred bond which I believe should be cherished with the love, understanding, and contribution of both the husband and wife; where ideas of both of them are valued and respected."
       ]
      },
      {
       "output_type": "stream",
       "stream": "stdout",
       "text": [
        "\n",
        "288"
       ]
      },
      {
       "output_type": "stream",
       "stream": "stdout",
       "text": [
        " http://www.simplymarry.com/matrimonial/groom/SMM1584697/Hindu/CKP/Kaushik-Deshpande\n",
        "I am a very down to earth person with family values and an ambitious goals for life. Have completed my education in electronics engg with a PGDBA course in Marketing. Working as a Sales Manager for a Swiss MNC and handling Northern India - Delhi NCR (Gurgaon, Faridabad, NOIDA , Gr. NOIDA, Ballabgarh etc), Punjab, Rajasthan, Himachal &amp; Western India (Maharashtra, Madhya Pradesh and Gujarat) The United Arab Emirates (Dubai, Sharjah, Ajman and Jabel Ali and Rasal Khaimah). My family constitutes my mom dad and my sister &amp; I share a very strong bond with my family member's."
       ]
      },
      {
       "output_type": "stream",
       "stream": "stdout",
       "text": [
        "\n",
        "289"
       ]
      },
      {
       "output_type": "stream",
       "stream": "stdout",
       "text": [
        " http://www.simplymarry.com/matrimonial/groom/SMM1603076/Hindu/Shimpi/Nilesh-Pramod-Hendre\n",
        "My brother is a down to earth, outgoing, amiable person with a good sense of humor. He is open minded &amp; caring too. He has done BE (Prod) from Pune and MBA Finance and is currently working as a Manager in a private sector firm."
       ]
      },
      {
       "output_type": "stream",
       "stream": "stdout",
       "text": [
        "\n",
        "290"
       ]
      },
      {
       "output_type": "stream",
       "stream": "stdout",
       "text": [
        " http://www.simplymarry.com/matrimonial/groom/SMM1518966/Hindu/Brahmin---Karhade/Shreesh-Khandekar\n",
        "Medical professional [B.H.M.S] and working since past 2.5 yrs in hospitals. Am simple, quiet, but yes short tempered too from a middle class, friendly and caring family."
       ]
      },
      {
       "output_type": "stream",
       "stream": "stdout",
       "text": [
        "\n",
        "291"
       ]
      },
      {
       "output_type": "stream",
       "stream": "stdout",
       "text": [
        " http://www.simplymarry.com/matrimonial/groom/SMM1598650/Hindu/Kunbi/Maruti-Nathuram-Karale\n",
        "I am simple, loving, caring and god fearing person."
       ]
      },
      {
       "output_type": "stream",
       "stream": "stdout",
       "text": [
        "\n",
        "292"
       ]
      },
      {
       "output_type": "stream",
       "stream": "stdout",
       "text": [
        " http://www.simplymarry.com/matrimonial/groom/SMM1575314/Hindu/Teli/Milind\n",
        "I have a business in Pune. Looking for a simple and down to earth girl."
       ]
      },
      {
       "output_type": "stream",
       "stream": "stdout",
       "text": [
        "\n",
        "293"
       ]
      },
      {
       "output_type": "stream",
       "stream": "stdout",
       "text": [
        " http://www.simplymarry.com/matrimonial/groom/SMM1497919/Hindu/Brahmin---Deshastha/Shriniwas-Desai\n",
        "Hi. I am 31, Hindu, living in Pune, Maharashtra &amp; working with private Ltd. company."
       ]
      },
      {
       "output_type": "stream",
       "stream": "stdout",
       "text": [
        "\n",
        "294"
       ]
      },
      {
       "output_type": "stream",
       "stream": "stdout",
       "text": [
        " http://www.simplymarry.com/matrimonial/groom/SMM1518348/Buddhist/Ganesh-Seetaram-Randhir\n",
        "I am very frank and down to earth person. I am enjoying each and every movement in my life on my conditions because there is no second chance. I am very honest with me and others, According by my friends and family I have good sens of humors."
       ]
      },
      {
       "output_type": "stream",
       "stream": "stdout",
       "text": [
        "\n",
        "295"
       ]
      },
      {
       "output_type": "stream",
       "stream": "stdout",
       "text": [
        " http://www.simplymarry.com/matrimonial/groom/SMM1496028/Hindu/Bhandari/Sid\n",
        "I am a person with a positive attitude towards life, very energetic and ambitious. I believe that I have a good sense of humour and always try to be in a cheerful &amp; pleasant mood whether at work or outside office. I am looking for a person full of energy, cheerful and who would be more like my best friend throughout the journey of my successful married life."
       ]
      },
      {
       "output_type": "stream",
       "stream": "stdout",
       "text": [
        "\n",
        "296"
       ]
      },
      {
       "output_type": "stream",
       "stream": "stdout",
       "text": [
        " http://www.simplymarry.com/matrimonial/groom/SMM1509902/Hindu/Maratha/Vikas-Bharekar\n",
        "I am vikas bharekar, creative &amp; love to do the things in perfection. Very specific, shopaholic, Health &amp; Food conscious, passionate about Indoor &amp; Outdoor sport, Love Music, Traveling &amp; Fun. I believe that marriage is a Life Time relation."
       ]
      },
      {
       "output_type": "stream",
       "stream": "stdout",
       "text": [
        "\n",
        "297"
       ]
      },
      {
       "output_type": "stream",
       "stream": "stdout",
       "text": [
        " http://www.simplymarry.com/matrimonial/groom/SMM1503702/Hindu/Maratha/Sagar-Balaso-Ingawale\n",
        "Myself an Architect by profession &amp; currently practicing in Mumbai. Have 6 year experience in Delhi &amp; now works as Associate Architects with Delhi firm."
       ]
      },
      {
       "output_type": "stream",
       "stream": "stdout",
       "text": [
        "\n",
        "298"
       ]
      },
      {
       "output_type": "stream",
       "stream": "stdout",
       "text": [
        " http://www.simplymarry.com/matrimonial/groom/SMM1507171/Hindu/Scheduled-Caste/Krishna-Kharatmol\n",
        "Hi, I am Krishna Kharatmol. I am simple and talkative person. Looking for girl who will be my wife as well as friend."
       ]
      },
      {
       "output_type": "stream",
       "stream": "stdout",
       "text": [
        "\n",
        "299"
       ]
      },
      {
       "output_type": "stream",
       "stream": "stdout",
       "text": [
        " http://www.simplymarry.com/matrimonial/groom/SMM1496780/Hindu/Brahmin---Smartha/Krishna-Kumar\n",
        "My Son Yeturi Krishna Kumar is a Chartered Accountant employed in a Multinational Company in Chennai. We are Marathi Smartha Desistha Brahmins settled in South India.He is friendly has an even-temper, kind and jovial. He believes in God and has family values. He is down to earth and has fine features with a fair complexion."
       ]
      },
      {
       "output_type": "stream",
       "stream": "stdout",
       "text": [
        "\n",
        "300"
       ]
      },
      {
       "output_type": "stream",
       "stream": "stdout",
       "text": [
        " http://www.simplymarry.com/matrimonial/groom/SMM1498710/Hindu/Maratha/Amit-Anil-Mahadik\n",
        "I have done my degree in Chemical Eng. through AMIE with first class. Currently working with one of the largest Chemical MNC at Navi Mumbai as \"Sr.executive- production\" and simultaneously pursuing MBA Finance through JBIMS (Part Time- Final year)."
       ]
      },
      {
       "output_type": "stream",
       "stream": "stdout",
       "text": [
        "\n",
        "301"
       ]
      },
      {
       "output_type": "stream",
       "stream": "stdout",
       "text": [
        " http://www.simplymarry.com/matrimonial/groom/SMM1498774/Buddhist/Swapnil-Jagtap\n",
        "i m a cool guy........................................................................................................................................................................................................"
       ]
      },
      {
       "output_type": "stream",
       "stream": "stdout",
       "text": [
        "\n",
        "302"
       ]
      },
      {
       "output_type": "stream",
       "stream": "stdout",
       "text": [
        " http://www.simplymarry.com/matrimonial/groom/SMM1496722/Hindu/Maratha/Manoj-M-Lakhan\n",
        "Hi, I'm Manoj. believe in hard work, relationship; wish to marry a simple, loving and sweet girl and who will take care of my family. she must be smart,well educated and have good sense of humour and romantic too"
       ]
      },
      {
       "output_type": "stream",
       "stream": "stdout",
       "text": [
        "\n",
        "303"
       ]
      },
      {
       "output_type": "stream",
       "stream": "stdout",
       "text": [
        " http://www.simplymarry.com/matrimonial/groom/SMM1631080/Hindu/Dnyaneshwar-Vishnu-Gavand\n",
        "I am a straight forward person."
       ]
      },
      {
       "output_type": "stream",
       "stream": "stdout",
       "text": [
        "\n",
        "304"
       ]
      },
      {
       "output_type": "stream",
       "stream": "stdout",
       "text": [
        " http://www.simplymarry.com/matrimonial/groom/SMM1568273/Hindu/Bhatraju/Prasad-Kasbekar\n",
        "305"
       ]
      },
      {
       "output_type": "stream",
       "stream": "stdout",
       "text": [
        " http://www.simplymarry.com/matrimonial/groom/SMM1532511/Hindu/Maratha/Manoj-Kailas-Shelke\n",
        "Am a very simple living high thinking kind of a person and am looking for someone who can understand me and my family. Someone who can take care of my as well as my family responsibilities."
       ]
      },
      {
       "output_type": "stream",
       "stream": "stdout",
       "text": [
        "\n",
        "306"
       ]
      },
      {
       "output_type": "stream",
       "stream": "stdout",
       "text": [
        " http://www.simplymarry.com/matrimonial/groom/SMM1585706/Hindu/Sunil-Mungekar\n",
        "Graduated with a Bachelor's degree in Computer Engineering. I have worked for Infosys Tech Ltd for 4 years as a Software Engineer. I even got an opportunity to work in US for a year while I was in Infy. But on coming back from US, I decided to quit the IT industry and follow my passion instead. I learned animation for 2 years and became an Animator. I am now working as an animator at Prana Studios, Mumbai. since the past 2 years. I like to draw, drive, travel. Other hobbies include photography. Love to watch movies. But I am not a sports person. My parents are retired. My father was a Manager at IOB and my mother was a Rationing Officer. My eldest sister is an Occupational Therapist and my elder brother is also a Manager in HDFC bank. Both are married. I am looking for a girl who's educated and working. Who's cheerful and talkative too. And someone preferably with an inclination towards any form of art."
       ]
      },
      {
       "output_type": "stream",
       "stream": "stdout",
       "text": [
        "\n",
        "307"
       ]
      },
      {
       "output_type": "stream",
       "stream": "stdout",
       "text": [
        " http://www.simplymarry.com/matrimonial/groom/SMM1513112/Hindu/Ashish\n",
        "Responsible, caring, honest, qualified and well settled."
       ]
      },
      {
       "output_type": "stream",
       "stream": "stdout",
       "text": [
        "\n",
        "308"
       ]
      },
      {
       "output_type": "stream",
       "stream": "stdout",
       "text": [
        " http://www.simplymarry.com/matrimonial/groom/SMM1567299/Hindu/Koshti/Mangesh-N\n",
        "Hi I am Mangesh. Currently working in software company in Pune. I like to play badminton, cricket. I like to watch movies, like to visit different places."
       ]
      },
      {
       "output_type": "stream",
       "stream": "stdout",
       "text": [
        "\n",
        "309"
       ]
      },
      {
       "output_type": "stream",
       "stream": "stdout",
       "text": [
        " http://www.simplymarry.com/matrimonial/groom/SMM1514902/Hindu/Kshatriya/Amar\n",
        "Hi, I'm a very simple and humble person. I have completed my MBA in IT and Master of Science in Electronics. I'm currently working as a BI Analyst. I want my partner to be smart, fun loving, gentle and ambitious. She should be wise as well as humble. She should have good family values. Besides this, I want her to be independent and create her own space, as she like. I would rather prefer my better half to be a working professional and want her to balance out her social and professional life properly."
       ]
      },
      {
       "output_type": "stream",
       "stream": "stdout",
       "text": [
        "\n",
        "310"
       ]
      },
      {
       "output_type": "stream",
       "stream": "stdout",
       "text": [
        " http://www.simplymarry.com/matrimonial/groom/SMM1549383/Hindu/Koshti/Jignesh-Koshti\n",
        "I was born and brought up in Malegaon (Nashik district). I did graduation in Mechanical Engineering from MIT, Pune. I joined TCS (Mumbai) in SEP 2008. Currently I am working in TCS on a Telecom project in Middle East and I travel overseas frequently. My family is settled in Surat (Gujarat)."
       ]
      },
      {
       "output_type": "stream",
       "stream": "stdout",
       "text": [
        "\n",
        "311"
       ]
      },
      {
       "output_type": "stream",
       "stream": "stdout",
       "text": [
        " http://www.simplymarry.com/matrimonial/groom/SMM1494702/Hindu/Maratha/Prasad-Bhosale\n",
        "I am highly ambitious, self made Entrepreneur. I am handsome, smart, caring, outgoing person, helping in nature; looking for a beautiful, Smart girl who can take her own decisions, having caring and loving nature, and who wud b with me in ups and downs of life"
       ]
      },
      {
       "output_type": "stream",
       "stream": "stdout",
       "text": [
        "\n",
        "312"
       ]
      },
      {
       "output_type": "stream",
       "stream": "stdout",
       "text": [
        " http://www.simplymarry.com/matrimonial/groom/SMM1517263/Hindu/Devang-Koshthi/Rohit-Mhetre\n",
        "Hi, I am Rohit R. Mhetre. I have done BE Instrumentation from Pune university and am currently working with Honeywell India as Lead project Engineer. I am God Fearing down to earth guy. Best Quality in me is \"Adaptability\". I am calculative while talking, taking decisions etc. I think hard before deriving any conclusion. Love watching and playing cricket. Big fan of action movies. Mother is House wife. Have a lovely younger sister. She has done MCM from Pune university. She is married and lives in California USA."
       ]
      },
      {
       "output_type": "stream",
       "stream": "stdout",
       "text": [
        "\n",
        "313"
       ]
      },
      {
       "output_type": "stream",
       "stream": "stdout",
       "text": [
        " http://www.simplymarry.com/matrimonial/groom/SMM1596279/Buddhist/Amardeep-Bagde\n",
        "I am simple, down to earth person who believes in family values. I am looking for good looking, progressive, cool mind, compassionate, adaptable &amp; optimistic soul mate who has a good expression of his understanding, ideas &amp; thought process and a person who is lively, cheerful &amp; passionate about life. Has a strong belief in our culture &amp; family values comprising a blend of tradition and modernity with progressive cosmopolitan outlook."
       ]
      },
      {
       "output_type": "stream",
       "stream": "stdout",
       "text": [
        "\n",
        "314"
       ]
      },
      {
       "output_type": "stream",
       "stream": "stdout",
       "text": [
        " http://www.simplymarry.com/matrimonial/groom/SMM1587809/Hindu/Dr.dhananjay-Charandas-Chapale\n",
        "Am fun loving person. Want a girl with similar qualities. Am a foodie person, love eating out and traveling. Seek for a partner who must be job oriented, have cultural values and must belongs to the medical field."
       ]
      },
      {
       "output_type": "stream",
       "stream": "stdout",
       "text": [
        "\n",
        "315"
       ]
      },
      {
       "output_type": "stream",
       "stream": "stdout",
       "text": [
        " http://www.simplymarry.com/matrimonial/groom/SMM1587841/Hindu/Koli/Sachin-H.gedewad\n",
        "Age 26, Employed in A Govt Sector as an engineer. Looking for a soul mate good looking and caring. Father is a Retired Govt Employee, mother Housewife, 2 sisters, one married, other is Perusing BE ENTC and Hometown is Nanded."
       ]
      },
      {
       "output_type": "stream",
       "stream": "stdout",
       "text": [
        "\n",
        "316"
       ]
      },
      {
       "output_type": "stream",
       "stream": "stdout",
       "text": [
        " http://www.simplymarry.com/matrimonial/groom/SMM1543524/Hindu/Bhavasar-Kshatriya/Rajendran\n",
        "I am a fun loving guy, My education qualification is MBA,PGDHRM and BBA (all regular) and done my SAP certification from SAP German. Currently working as a SAP Consultant in a reputed MNC company in chennai.Born in banglore and brought up in chennai. My father has his own business in chennai, my mother is a house wife, one elder brother he is married and looking after my father business and my Sister-in-Law is from Pune. we are staying in a joint family. looking for a right match for me."
       ]
      },
      {
       "output_type": "stream",
       "stream": "stdout",
       "text": [
        "\n",
        "317"
       ]
      },
      {
       "output_type": "stream",
       "stream": "stdout",
       "text": [
        " http://www.simplymarry.com/matrimonial/groom/SMM1491089/Hindu/Kunbi/Chetan-Tirbhane\n",
        "I'm very smart, frndly and very serious about my work; Just want a mature girl who can understand me."
       ]
      },
      {
       "output_type": "stream",
       "stream": "stdout",
       "text": [
        "\n",
        "318"
       ]
      },
      {
       "output_type": "stream",
       "stream": "stdout",
       "text": [
        " http://www.simplymarry.com/matrimonial/groom/SMM1514882/Christian/Catholic/Carles-Louis-Parge\n",
        "Friends say that i am caring &amp; loving person, also i am searching my partner as above same kind, god fearing partner. i like reading novels, and traveling. i have a brother &amp; a sister, mother is housewife, sister a teacher, brother is married and living separately in his own location."
       ]
      },
      {
       "output_type": "stream",
       "stream": "stdout",
       "text": [
        "\n",
        "319"
       ]
      },
      {
       "output_type": "stream",
       "stream": "stdout",
       "text": [
        " http://www.simplymarry.com/matrimonial/groom/SMM1557430/Jain/Digambar/Sachin-Bodkhe\n",
        "I am a very positive person with strong desires to achieve my dreams in life, very clear about my goal and firmly believe in handwork and knowledge are two important things that gives you ability to achieve everything you dream."
       ]
      },
      {
       "output_type": "stream",
       "stream": "stdout",
       "text": [
        "\n",
        "320"
       ]
      },
      {
       "output_type": "stream",
       "stream": "stdout",
       "text": [
        " http://www.simplymarry.com/matrimonial/groom/SMM1520739/Hindu/Koli-Mahadev/Prashant\n",
        "Am very simple person who is looking for someone who can understand me and my family and can take care of me and is well aware with family responsibilities."
       ]
      },
      {
       "output_type": "stream",
       "stream": "stdout",
       "text": [
        "\n",
        "321"
       ]
      },
      {
       "output_type": "stream",
       "stream": "stdout",
       "text": [
        " http://www.simplymarry.com/matrimonial/groom/SMM1637625/Hindu/Brahmin/Mahendra-Pathak\n",
        "I have completed my post graduation that is master of computer application (MCA). Currently, working as s/w developer in private company. My friends call me confident. My family culture is traditional."
       ]
      },
      {
       "output_type": "stream",
       "stream": "stdout",
       "text": [
        "\n",
        "322"
       ]
      },
      {
       "output_type": "stream",
       "stream": "stdout",
       "text": [
        " http://www.simplymarry.com/matrimonial/groom/SMM1589307/Hindu/Mali/Abhijeet\n",
        "I am a fun loving and an adventurous person. Love to explore and have special attraction towards art. Love to live life to fullest. I have lived and loved life in both village and metro."
       ]
      },
      {
       "output_type": "stream",
       "stream": "stdout",
       "text": [
        "\n",
        "323"
       ]
      },
      {
       "output_type": "stream",
       "stream": "stdout",
       "text": [
        " http://www.simplymarry.com/matrimonial/groom/SMM1493282/Hindu/Dhangar/Pravin-Pandurang-Marale\n",
        "Hi this is Pravin. I Have completed B.Com from Mumbai University. At present I am working in Pvt. Ltd. co. as an Excise &amp; Dispatch Executive in Navi Mumbai. I have one younger brother who is working in Powai. My mom is Housewife. My Native Place is Sangli."
       ]
      },
      {
       "output_type": "stream",
       "stream": "stdout",
       "text": [
        "\n",
        "324"
       ]
      },
      {
       "output_type": "stream",
       "stream": "stdout",
       "text": [
        " http://www.simplymarry.com/matrimonial/groom/SMM1566561/Buddhist/Sachin-Gaikwad\n",
        "Hi, I am Sachin Gaikwad working with HSBC Bank as an AM. I stay in Colaba in a Govt quarters with my mom and aunty. I own a flat of my own in Virar. I have completed my graduation in commerce from Mumbai university."
       ]
      },
      {
       "output_type": "stream",
       "stream": "stdout",
       "text": [
        "\n",
        "325"
       ]
      },
      {
       "output_type": "stream",
       "stream": "stdout",
       "text": [
        " http://www.simplymarry.com/matrimonial/groom/SMM1547223/Hindu/Brahmin---Saraswat/Kanchan.-M.-Desai\n",
        "I am simple happy go lucky person who accepts life as comes with a smile. The keyword in my life is TRUST &amp; there are no discounts or compromises. I don't believe in talking with words but i do very much believe in talking with deeds."
       ]
      },
      {
       "output_type": "stream",
       "stream": "stdout",
       "text": [
        "\n",
        "326"
       ]
      },
      {
       "output_type": "stream",
       "stream": "stdout",
       "text": [
        " http://www.simplymarry.com/matrimonial/groom/SMM1518070/Hindu/Swakula-Sali/Anand-Tambe\n",
        "Hi, am anand from hubli. Simple living person. staying with mother &amp; a younger brother. doing my own courier business. Looking for a simple kind of life partner, who can take care of my family."
       ]
      },
      {
       "output_type": "stream",
       "stream": "stdout",
       "text": [
        "\n",
        "327"
       ]
      },
      {
       "output_type": "stream",
       "stream": "stdout",
       "text": [
        " http://www.simplymarry.com/matrimonial/groom/SMM1566806/Hindu/Mali/Shrikant-Agam\n",
        "I am Shrikant Agam, done my Diploma and Bachelors in Electrical Engineering. I am very focused to my carrier. My nature is very friendly. I like to visit new places also like to make new friends and strengthened the relationship with the existing ones."
       ]
      },
      {
       "output_type": "stream",
       "stream": "stdout",
       "text": [
        "\n",
        "328"
       ]
      },
      {
       "output_type": "stream",
       "stream": "stdout",
       "text": [
        " http://www.simplymarry.com/matrimonial/groom/SMM1525710/Hindu/Dhangar/Amol-Abhimanyu-Kakade\n",
        "My self Amol Kakade, i am from Barshi in solapur dist. Currently living in mumbai. I have completed my MBA from pune university, working in bank."
       ]
      },
      {
       "output_type": "stream",
       "stream": "stdout",
       "text": [
        "\n",
        "329"
       ]
      },
      {
       "output_type": "stream",
       "stream": "stdout",
       "text": [
        " http://www.simplymarry.com/matrimonial/groom/SMM1505488/Hindu/Maratha/Shantanu-Shivaji-Kadam\n",
        "Hi, i am open minded person with a cool attitude. I have family of 6 members including me, my mother and father are government servants, Elder brother is working in private sector and his wife is housewife and he is having a daughter on 2 yrs. I am looking for a person who can understand me well and adjust with my family too. She may or may not be working."
       ]
      },
      {
       "output_type": "stream",
       "stream": "stdout",
       "text": [
        "\n",
        "330"
       ]
      },
      {
       "output_type": "stream",
       "stream": "stdout",
       "text": [
        " http://www.simplymarry.com/matrimonial/groom/SMM1527205/Buddhist/Nishant-V.-Motling\n",
        "I m very simple high thinking &amp; down Earth person, looking for someone who can understand me and my family who can take care my and my family responsibilities and I would like to keep my partner always happy by all her wishes and plans."
       ]
      },
      {
       "output_type": "stream",
       "stream": "stdout",
       "text": [
        "\n",
        "331"
       ]
      },
      {
       "output_type": "stream",
       "stream": "stdout",
       "text": [
        " http://www.simplymarry.com/matrimonial/groom/SMM1489968/Hindu/Shimpi/Dipak-Metkar\n",
        "I am a Bachelor in Mechanical Engineering and working in Larsen &amp; Toubro Limited at Mumbai. I stay at Kalyan."
       ]
      },
      {
       "output_type": "stream",
       "stream": "stdout",
       "text": [
        "\n",
        "332"
       ]
      },
      {
       "output_type": "stream",
       "stream": "stdout",
       "text": [
        " http://www.simplymarry.com/matrimonial/groom/SMM1524097/Hindu/Mahar/Giriraj-Nalawade\n",
        "I am a simple person, convent educated with good family values, own farms, car,house, no big responsibilities."
       ]
      },
      {
       "output_type": "stream",
       "stream": "stdout",
       "text": [
        "\n",
        "333"
       ]
      },
      {
       "output_type": "stream",
       "stream": "stdout",
       "text": [
        " http://www.simplymarry.com/matrimonial/groom/SMM1528670/Hindu/Scheduled-Caste/Sachin-Ughade\n",
        "Youngest in the family.i have two brothers and a sister.Born and brought up, done schooling from pune. On personal front- introvert is what friends tell me and yes i am.!! I think being introvert helps in balancing life and relationship rather than being outspoken. I guess i might be wrong. On professional front - i am working with prominent MNC \" Ge Capital from past 8yrs."
       ]
      },
      {
       "output_type": "stream",
       "stream": "stdout",
       "text": [
        "\n",
        "334"
       ]
      },
      {
       "output_type": "stream",
       "stream": "stdout",
       "text": [
        " http://www.simplymarry.com/matrimonial/groom/SMM1491960/Hindu/Maratha/Kapil\n",
        "I am a well educated, mannered, calm and understanding person. From 2006 to 2012, i was in Dubai."
       ]
      },
      {
       "output_type": "stream",
       "stream": "stdout",
       "text": [
        "\n",
        "335"
       ]
      },
      {
       "output_type": "stream",
       "stream": "stdout",
       "text": [
        " http://www.simplymarry.com/matrimonial/groom/SMM1517347/Hindu/Siddhartha-Pathak\n",
        "Fun loving person. Likes traveling and discovering new places. Loves adventures sports like trekking, river rafting, kayaking, paragliding. Loves listing music. Likes continental and Thai food, Indian food"
       ]
      },
      {
       "output_type": "stream",
       "stream": "stdout",
       "text": [
        "\n",
        "336"
       ]
      },
      {
       "output_type": "stream",
       "stream": "stdout",
       "text": [
        " http://www.simplymarry.com/matrimonial/groom/SMM1636790/Hindu/Maratha/Umesh-Sadashiv-Shede\n",
        "I am Umesh, have been completed BA in Economics."
       ]
      },
      {
       "output_type": "stream",
       "stream": "stdout",
       "text": [
        "\n",
        "337"
       ]
      },
      {
       "output_type": "stream",
       "stream": "stdout",
       "text": [
        " http://www.simplymarry.com/matrimonial/groom/SMM1526546/Hindu/Kayastha/Mandar-Shrivastava\n",
        "I have completed my bachelors in B.Sc( hotel management) and currently working as an HR manager with a leading ITES organist after pursuing MBA(HR) post my graduation. I am hard working, ambitious and a broad minded person. I love making new friends and good food and good music are my stress busters. Born and brought up in Mumbai i have recently shifted to Pune."
       ]
      },
      {
       "output_type": "stream",
       "stream": "stdout",
       "text": [
        "\n",
        "338"
       ]
      },
      {
       "output_type": "stream",
       "stream": "stdout",
       "text": [
        " http://www.simplymarry.com/matrimonial/groom/SMM1542109/Hindu/Dhangar/Mangaldas-Gawli\n",
        "I am a simple, down to earth guy, the thing which I like most is Photography, its my passion. I always prefer to be in a group, enjoy the life to the fullest extent. I am BE Mechanical Engineer. Working as a Project Engineer, Currently pursuing MBA. I wish to spend my life with a person who understands me and my values."
       ]
      },
      {
       "output_type": "stream",
       "stream": "stdout",
       "text": [
        "\n",
        "339"
       ]
      },
      {
       "output_type": "stream",
       "stream": "stdout",
       "text": [
        " http://www.simplymarry.com/matrimonial/groom/SMM1552614/Christian/Catholic/Rudheer-Bardeskar\n",
        "i am a very cool &amp; trust worthy i have a joint family with very religious thoughts i like to read surfing the net cooking &amp; travelling are some of my hobbies"
       ]
      },
      {
       "output_type": "stream",
       "stream": "stdout",
       "text": [
        "\n",
        "340"
       ]
      },
      {
       "output_type": "stream",
       "stream": "stdout",
       "text": [
        " http://www.simplymarry.com/matrimonial/groom/SMM1510703/Hindu/Chambhar/Vasant-Jayram-Wagh\n",
        "Hello, This is Vasant Wagh From kalyan Mumbai. I have done MCA from Hyderabad university and Currently working BDE, scoring good salary. Looking for suitable match from the same educational background and simple, down to earth."
       ]
      },
      {
       "output_type": "stream",
       "stream": "stdout",
       "text": [
        "\n",
        "341"
       ]
      },
      {
       "output_type": "stream",
       "stream": "stdout",
       "text": [
        " http://www.simplymarry.com/matrimonial/groom/SMM1519874/Hindu/Brahmin/Parag\n",
        "I am a cool kind of person, caring, positive attitude, hate violence in any form. I am a person who believes in focusing on the solution, future rather than the problem or past, love to visit new places."
       ]
      },
      {
       "output_type": "stream",
       "stream": "stdout",
       "text": [
        "\n",
        "342"
       ]
      },
      {
       "output_type": "stream",
       "stream": "stdout",
       "text": [
        " http://www.simplymarry.com/matrimonial/groom/SMM1505764/Hindu/Sonar/Sanjay-Balkrishna-Sonar\n",
        "hi,i am sanjay teacher by profession i believe that real house is made up from the member of house but not from four walls of house.that, why i am looking such type of member.i am humorous and emotional by nature"
       ]
      },
      {
       "output_type": "stream",
       "stream": "stdout",
       "text": [
        "\n",
        "343"
       ]
      },
      {
       "output_type": "stream",
       "stream": "stdout",
       "text": [
        " http://www.simplymarry.com/matrimonial/groom/SMM1633095/Hindu/Maratha/Praveen-Dongare\n",
        "I am a simple guy and looking for a simple girl. Someone who should be above 5'2\" tall, intelligent, pretty, hardworking, fair, friendly and have positive attitude."
       ]
      },
      {
       "output_type": "stream",
       "stream": "stdout",
       "text": [
        "\n",
        "344"
       ]
      },
      {
       "output_type": "stream",
       "stream": "stdout",
       "text": [
        " http://www.simplymarry.com/matrimonial/groom/SMM1487138/Hindu/Dipak-Ashok-More\n",
        "Hi, Myself Dipak Ashok, Currently i am working with E-Commerce industry. i like to travel a lot. My father is a government servant &amp; mother is a house wife. Our Relatives are Shinde, Bhosale, Salvi, Surve, Kadam, Palande and Dalvi."
       ]
      },
      {
       "output_type": "stream",
       "stream": "stdout",
       "text": [
        "\n",
        "345"
       ]
      },
      {
       "output_type": "stream",
       "stream": "stdout",
       "text": [
        " http://www.simplymarry.com/matrimonial/groom/SMM1508363/Hindu/Brahmin/Prathik\n",
        "He is calm, quiet, soft spoken &amp; soft nature. Loves nature. Enjoys reading &amp; music. Likes long drives, to try different types of food (Veg of course). Believes that, women are to be treated with respect and as equals. Does not mind for any relocation."
       ]
      },
      {
       "output_type": "stream",
       "stream": "stdout",
       "text": [
        "\n",
        "346"
       ]
      },
      {
       "output_type": "stream",
       "stream": "stdout",
       "text": [
        " http://www.simplymarry.com/matrimonial/groom/SMM1503829/Buddhist/Yogesh-N-Jadhav\n",
        "I am Yogesh Jadhav. I am simple, but highly motivated and serious about my career. My family is well educated. I need a girl who is caring, responsible and will understand me. I don't have any problem with her career and job in fact, I will prefer the same."
       ]
      },
      {
       "output_type": "stream",
       "stream": "stdout",
       "text": [
        "\n",
        "347"
       ]
      },
      {
       "output_type": "stream",
       "stream": "stdout",
       "text": [
        " http://www.simplymarry.com/matrimonial/groom/SMM1569459/Hindu/Bhandari/Hemant\n",
        "I am simple guy and looking for a simple, well educated and caring bride."
       ]
      },
      {
       "output_type": "stream",
       "stream": "stdout",
       "text": [
        "\n",
        "348"
       ]
      },
      {
       "output_type": "stream",
       "stream": "stdout",
       "text": [
        " http://www.simplymarry.com/matrimonial/groom/SMM1631909/Buddhist/Ankit\n",
        "I'm cool, friendly and understandable person. I need a bride who can take care of my family and myself. Understanding, education background should be technical. She should be simple and understandable."
       ]
      },
      {
       "output_type": "stream",
       "stream": "stdout",
       "text": [
        "\n",
        "349"
       ]
      },
      {
       "output_type": "stream",
       "stream": "stdout",
       "text": [
        " http://www.simplymarry.com/matrimonial/groom/SMM1556855/Jain/Digambar/Amod-Arun-Thalve\n",
        "Partner should ready to do service, should adjust in family as a joint family. She should have knowledge about 'Digamber Jain' cast and sub cast, we are 'Saitwal Jain'. We are residing in Dombivali(E)."
       ]
      },
      {
       "output_type": "stream",
       "stream": "stdout",
       "text": [
        "\n",
        "350"
       ]
      },
      {
       "output_type": "stream",
       "stream": "stdout",
       "text": [
        " http://www.simplymarry.com/matrimonial/groom/SMM1531798/Buddhist/Dr.anand-Kadamm\n",
        "my self dr.anand basically from nanded-mh now since last year in pune doing job &amp; pgdems from symboisis, basic qualification (BHMS)wanted to marry with simple family oriented girl as erly.about me, will discus."
       ]
      },
      {
       "output_type": "stream",
       "stream": "stdout",
       "text": [
        "\n",
        "351"
       ]
      },
      {
       "output_type": "stream",
       "stream": "stdout",
       "text": [
        " http://www.simplymarry.com/matrimonial/groom/SMM1489872/Hindu/96K-Kokanastha/Vishal\n",
        "I have done MBA in International Business. Now working in MNC. I am friendly and open minded person. I believe in God and parents. I am hard working, Self motivated person. I am down earth in nature. I have two younger Brothers. My Dad is a Govt Employee and Mom is a Housewife."
       ]
      },
      {
       "output_type": "stream",
       "stream": "stdout",
       "text": [
        "\n",
        "352"
       ]
      },
      {
       "output_type": "stream",
       "stream": "stdout",
       "text": [
        " http://www.simplymarry.com/matrimonial/groom/SMM1606981/Hindu/Maratha/Sandeep-Nana-Nesarikar\n",
        "I am very simple &amp; straight forward person."
       ]
      },
      {
       "output_type": "stream",
       "stream": "stdout",
       "text": [
        "\n",
        "353"
       ]
      },
      {
       "output_type": "stream",
       "stream": "stdout",
       "text": [
        " http://www.simplymarry.com/matrimonial/groom/SMM1531542/Hindu/Bhandari/Parag-Wairkar\n",
        "Hi, I am Soft-spoken, humorous, friendly, fun loving, adventurous and a creative person. My hobbies include listening to music, watching movies, etc. Currently I am working as a Senior Executive in an Insurance Company. I have done my B. Com (Banking and Insurance) from Mumbai University. For me, Family always comes first. Totally dedicated towards my parents.\n",
        "A dedicated professional, having being brought up in Hindu Bhandari Family. I would never judge a person from her profile picture, I'd rather judge her from the way she communicates. A happy go lucky, smart, and simple."
       ]
      },
      {
       "output_type": "stream",
       "stream": "stdout",
       "text": [
        "\n",
        "354"
       ]
      },
      {
       "output_type": "stream",
       "stream": "stdout",
       "text": [
        " http://www.simplymarry.com/matrimonial/groom/SMM1491769/Hindu/Koli-Mahadev/Nilesh-.v.-Vaity\n",
        "Hi, i am nilesh, b.com graduate, from mumbai university, working in export import firm in mumbai from last 3 years as executive, my height is 5.5ft, and looking for a good partner for whole life must be understanding and caring."
       ]
      },
      {
       "output_type": "stream",
       "stream": "stdout",
       "text": [
        "\n",
        "355"
       ]
      },
      {
       "output_type": "stream",
       "stream": "stdout",
       "text": [
        " http://www.simplymarry.com/matrimonial/groom/SMM1496460/Hindu/Shimpi/Dhiraj-Dilip-Shirsath\n",
        "My son is very lively and self motivated person who believes in family values. He is active in social &amp; family life. He is very adjustive in nature.He is dental surgeon by profession. Reading, tracking and music are some of the hobbies."
       ]
      },
      {
       "output_type": "stream",
       "stream": "stdout",
       "text": [
        "\n",
        "356"
       ]
      },
      {
       "output_type": "stream",
       "stream": "stdout",
       "text": [
        " http://www.simplymarry.com/matrimonial/groom/SMM1558255/Buddhist/Bharat-Kamble\n",
        "Interested in Spiritual and religious work. Gives more values to ethics and morality. Doing social and educational work. Engaged with NGO since last 35 years. Meditation is most priority. Devoted whole life for the development of poor and needy people."
       ]
      },
      {
       "output_type": "stream",
       "stream": "stdout",
       "text": [
        "\n",
        "357"
       ]
      },
      {
       "output_type": "stream",
       "stream": "stdout",
       "text": [
        " http://www.simplymarry.com/matrimonial/groom/SMM1542711/Hindu/Rajput/Parijat\n",
        "Hey Parijat is very intelligent &amp; good looking guy.Currently he is working in Mumbai &amp; he is caring &amp; very practical, futuristic &amp; independent guy. he is looking for bride of his field &amp; should be caring &amp; forbearing"
       ]
      },
      {
       "output_type": "stream",
       "stream": "stdout",
       "text": [
        "\n",
        "358"
       ]
      },
      {
       "output_type": "stream",
       "stream": "stdout",
       "text": [
        " http://www.simplymarry.com/matrimonial/groom/SMM1520986/Hindu/Maratha/Sumit-S-Sawant\n",
        "I AM INBORN BUSINESS-MAN, RISK-TAKER AND GOD FEARING HUMAN BEING. MY AMBITION IS TO BUILD ONE OF THE TOP COMPANY OF INDIA. I AM IN THAT PROCESS AT THIS MOMENT OF TIME. I WANT A BRIDE WHO IS SIMPLE, CARING AND WHO FOLLOWS HUMAN VALUES."
       ]
      },
      {
       "output_type": "stream",
       "stream": "stdout",
       "text": [
        "\n",
        "359"
       ]
      },
      {
       "output_type": "stream",
       "stream": "stdout",
       "text": [
        " http://www.simplymarry.com/matrimonial/groom/SMM1548798/Hindu/Brahmin---Deshastha/Nitin-Deshpande\n",
        "I AM VERY HARD WORKING PERSON, VERY STRAIGHT FORWARD, LOVES HINDI AND MARATHI MUSIC. SETTLED DOWN VERY WELL IN PUNE MAHARASHTRA. HAVING NICE LOOKING PERSONALITY. NO HABITS LIKE DRINKS, CIGRETTE, TOBBACO, GUTKHA ETC."
       ]
      },
      {
       "output_type": "stream",
       "stream": "stdout",
       "text": [
        "\n",
        "360"
       ]
      },
      {
       "output_type": "stream",
       "stream": "stdout",
       "text": [
        " http://www.simplymarry.com/matrimonial/groom/SMM1488061/Hindu/Kshatriya/Ritesh-Shirke\n",
        "I am soft spoken, down to earth person. we are three members in family, me &amp; mom, dad. looking for a girl from an educated &amp; cultured family for alliance. i am working with an MNC for project management work."
       ]
      },
      {
       "output_type": "stream",
       "stream": "stdout",
       "text": [
        "\n",
        "361"
       ]
      },
      {
       "output_type": "stream",
       "stream": "stdout",
       "text": [
        " http://www.simplymarry.com/matrimonial/groom/SMM1576231/Hindu/Sonar/Dr-Arman-D\n",
        "my brother is doing practice in orthopaedics,having very charming fun loving nature with a very positive attitude.\n",
        "he is very ambitions and accepting the same qualities from the partner.we searching a life partner for him having the medical profession ."
       ]
      },
      {
       "output_type": "stream",
       "stream": "stdout",
       "text": [
        "\n",
        "362"
       ]
      },
      {
       "output_type": "stream",
       "stream": "stdout",
       "text": [
        " http://www.simplymarry.com/matrimonial/groom/SMM1493757/Hindu/Brahmin/Praful\n",
        "Hi, I am Praful a BE Information science Graduate. I am working as Software engineer in MNC. I have two brothers, one is software engineer and younger one is pursuing his BBM. I was in London (UK) for 3 years on project assignment and returned last year. i get opportunities frequently to travel to other countries. I have also traveled to Switzerland, France, Germany, USA, Belgium, Paris for tourism."
       ]
      },
      {
       "output_type": "stream",
       "stream": "stdout",
       "text": [
        "\n",
        "363"
       ]
      },
      {
       "output_type": "stream",
       "stream": "stdout",
       "text": [
        " http://www.simplymarry.com/matrimonial/groom/SMM1493588/Hindu/Maratha/Abhishek-Patil\n",
        "HI, AM ABHISHEK PATIL, DOING MY OWN BUSINESS OF CONSTRUCTIONS AND GAS AGENCY AT JALGAON."
       ]
      },
      {
       "output_type": "stream",
       "stream": "stdout",
       "text": [
        "\n",
        "364"
       ]
      },
      {
       "output_type": "stream",
       "stream": "stdout",
       "text": [
        " http://www.simplymarry.com/matrimonial/groom/SMM1497977/Hindu/Brahmin---Kokanastha/Nitin-Ogale\n",
        "Hi, I am Nitin Ogale. Currently I am working in MNC in Pune. I am easy going person with belief in family values and culture. I like reading, listening music. I am fun loving person and like to travel. I am open minded and expects same form my partner also. I am down to earth, hard working, friendly and humorous person. I am a positive thinker."
       ]
      },
      {
       "output_type": "stream",
       "stream": "stdout",
       "text": [
        "\n",
        "365"
       ]
      },
      {
       "output_type": "stream",
       "stream": "stdout",
       "text": [
        " http://www.simplymarry.com/matrimonial/groom/SMM1550317/Hindu/Shimpi/Dr.aditya-Khurd\n",
        "I m doing my DNB.Gynecology...waiting for final result in a week...My parents r Doctors n we r having settled practice in pune.I hv only 1 brother who is doind Architecture in Pune....I m looking for a post graduate girl who has degree in gynecology."
       ]
      },
      {
       "output_type": "stream",
       "stream": "stdout",
       "text": [
        "\n",
        "366"
       ]
      },
      {
       "output_type": "stream",
       "stream": "stdout",
       "text": [
        " http://www.simplymarry.com/matrimonial/groom/SMM1484925/Hindu/Maratha/Mahesh-Jadhav\n",
        "I am a Chemical Engineer from Pune University &amp; Right now I am working in Muscat for Tecnicas Reunidas (Spanish EPC Group), Muscat (Oman), as an (Oil &amp; gas Refinery) Piping Engineer from last one &amp; half year. I am a friendly in nature, open minded person. I like peaceful atmosphere. Having hobbies like Reading books, Traveling to Historical places &amp; outdoor sports."
       ]
      },
      {
       "output_type": "stream",
       "stream": "stdout",
       "text": [
        "\n",
        "367"
       ]
      },
      {
       "output_type": "stream",
       "stream": "stdout",
       "text": [
        " http://www.simplymarry.com/matrimonial/groom/SMM1503708/Hindu/Vaibhav\n",
        "I love traveling, trekking &amp; listening to the music. I am born &amp; brought up in Mumbai. I love my family &amp; friends. I have done my Master from Welingkars &amp; PG from Mumbai University. I believe in simple living &amp; helping everyone around."
       ]
      },
      {
       "output_type": "stream",
       "stream": "stdout",
       "text": [
        "\n",
        "368"
       ]
      },
      {
       "output_type": "stream",
       "stream": "stdout",
       "text": [
        " http://www.simplymarry.com/matrimonial/groom/SMM1512927/Hindu/Koli-Mahadev/Vipul\n",
        "Am vipul working in a healthcare industry. We are basically from Mumbai. Now i am looking for a very understanding and intelligent wife."
       ]
      },
      {
       "output_type": "stream",
       "stream": "stdout",
       "text": [
        "\n",
        "369"
       ]
      },
      {
       "output_type": "stream",
       "stream": "stdout",
       "text": [
        " http://www.simplymarry.com/matrimonial/groom/SMM1525559/Hindu/Teli/Nilesh-Ingle\n",
        "Am a simple person and looking for my better half. I am fun loving who is aware of my responsibilities. I am currently working in a software firm located in Pune."
       ]
      },
      {
       "output_type": "stream",
       "stream": "stdout",
       "text": [
        "\n",
        "370"
       ]
      },
      {
       "output_type": "stream",
       "stream": "stdout",
       "text": [
        " http://www.simplymarry.com/matrimonial/groom/SMM1591038/Hindu/Brahmin---Deshastha/Shirish-Ramchandra-Patil\n",
        "I have done M.Com., Aurangabad (Marathwada University) and currently working as Manger in privet sector."
       ]
      },
      {
       "output_type": "stream",
       "stream": "stdout",
       "text": [
        "\n",
        "371"
       ]
      },
      {
       "output_type": "stream",
       "stream": "stdout",
       "text": [
        " http://www.simplymarry.com/matrimonial/groom/SMM1535895/Hindu/Brahmin---Deshastha/Amit-Madhusudan-Deshmukh\n",
        "I have my own flat and staying with my mother. My brother is settled in us and is married having one kid. I am looking for partner who good nature with or without employment. I am not traditional, but have respect for family values."
       ]
      },
      {
       "output_type": "stream",
       "stream": "stdout",
       "text": [
        "\n",
        "372"
       ]
      },
      {
       "output_type": "stream",
       "stream": "stdout",
       "text": [
        " http://www.simplymarry.com/matrimonial/groom/SMM1492054/Hindu/Sandip-R.-Kulkarni\n",
        "I am a simple living boy, done my engineering in mechanical, working as a Design engineer in pune. In my family, my father is working in MSEB, mother is a housewife, I have 2 sisters, in that one sister is married."
       ]
      },
      {
       "output_type": "stream",
       "stream": "stdout",
       "text": [
        "\n",
        "373"
       ]
      },
      {
       "output_type": "stream",
       "stream": "stdout",
       "text": [
        " http://www.simplymarry.com/matrimonial/groom/SMM1492205/Hindu/Kunbi/Jaywant-Hadshi\n",
        "Hi, I'm currently living in Nalasopara, Thane. I'm simple, calm in nature. I'm working in BMC as a Jr. Audit Assistant since last 6 yrs. I'm looking for a simple, intelligent and well educated girl from a good family. She should respect elders and be friendly with all family members."
       ]
      },
      {
       "output_type": "stream",
       "stream": "stdout",
       "text": [
        "\n",
        "374"
       ]
      },
      {
       "output_type": "stream",
       "stream": "stdout",
       "text": [
        " http://www.simplymarry.com/matrimonial/groom/SMM1529520/Hindu/Maratha/Prasad-Patil\n",
        "I am simple person living with family,looking for person who respect family values and tradition,should be open minded and believe in herself."
       ]
      },
      {
       "output_type": "stream",
       "stream": "stdout",
       "text": [
        "\n",
        "375"
       ]
      },
      {
       "output_type": "stream",
       "stream": "stdout",
       "text": [
        " http://www.simplymarry.com/matrimonial/groom/SMM1532499/Buddhist/Pankaj-Sahebrao-Bambole\n",
        "Am dentist; Am fun loving, dedicated to work and living wid parents. I have mother, who is housewife, two younger sisters, they are unmarried; dad is no more now. We r a small and sweet happy family, having own clinic and are well settled."
       ]
      },
      {
       "output_type": "stream",
       "stream": "stdout",
       "text": [
        "\n",
        "376"
       ]
      },
      {
       "output_type": "stream",
       "stream": "stdout",
       "text": [
        " http://www.simplymarry.com/matrimonial/groom/SMF1576684/Hindu/Brahmin---Deshastha/Yogendra-Mungee\n",
        "Simple &amp; down to earth person having a passion for living life to the fullest, to enjoy brighter sides of life. Cultured &amp; well mannered. Broad mindset &amp; deeply interested in music. Expecting a suitable match"
       ]
      },
      {
       "output_type": "stream",
       "stream": "stdout",
       "text": [
        "\n",
        "377"
       ]
      },
      {
       "output_type": "stream",
       "stream": "stdout",
       "text": [
        " http://www.simplymarry.com/matrimonial/groom/SMM1527462/Buddhist/Suyog-Shirsat\n",
        "Hi, I am Suyog Shirsat, I have completed my MBA and Pursuing ICWA. I am currently working with Prudential Godrej. My friends describe me as: Fun loving Character. Values: Commitment, honesty, helpfulness. Motto in life: Enjoy the best prepare for worst. Hobbies: Traveling. Favorite sports: Cricket &amp; carom. Views on marriage: A long term relationship which expects Trust and delivers love."
       ]
      },
      {
       "output_type": "stream",
       "stream": "stdout",
       "text": [
        "\n",
        "378"
       ]
      },
      {
       "output_type": "stream",
       "stream": "stdout",
       "text": [
        " http://www.simplymarry.com/matrimonial/groom/SMM1516384/Hindu/Maratha/Sanjay-Jadhav\n",
        "I AM STRAIGHTFORWARD, CARING PERSON. I WORK ABROAD SO I SPEND SOME TIME OUT OF INDIA. I HAVE PLANS TO SETTLED BACK IN INDIA AFTER COUPLE OF YEARS. I AM LOOKING FORWARD TO A PLEASING AND A CARING WIFE ALSO."
       ]
      },
      {
       "output_type": "stream",
       "stream": "stdout",
       "text": [
        "\n",
        "379"
       ]
      },
      {
       "output_type": "stream",
       "stream": "stdout",
       "text": [
        " http://www.simplymarry.com/matrimonial/groom/SMM1522473/Hindu/Brahmin/Sachit\n",
        "I am a cool kind of person, caring, positive attitude, hate violence in any form. I am a person who believes in focusing on the solution, future rather than the problem or past, love to visit new places."
       ]
      },
      {
       "output_type": "stream",
       "stream": "stdout",
       "text": [
        "\n",
        "380"
       ]
      },
      {
       "output_type": "stream",
       "stream": "stdout",
       "text": [
        " http://www.simplymarry.com/matrimonial/groom/SMM1593126/Hindu/Mali/Manish-Paighan\n",
        "Stock broker by profession, Both parents are Govt. servants. One younger sister, studying in 9th standard. Living in Panvel, Navi Mumbai. Looking for a suitable match."
       ]
      },
      {
       "output_type": "stream",
       "stream": "stdout",
       "text": [
        "\n",
        "381"
       ]
      },
      {
       "output_type": "stream",
       "stream": "stdout",
       "text": [
        " http://www.simplymarry.com/matrimonial/groom/SMM1593737/Hindu/Maratha/Sachet-H-Patil\n",
        "I am working in MSEB as a Testing Engineer for last two and a half year. I am a class II govt. officer. My father is working in central govt. RCF Ltd. I like playing badminton, guitar and also writing poems and songs."
       ]
      },
      {
       "output_type": "stream",
       "stream": "stdout",
       "text": [
        "\n",
        "382"
       ]
      },
      {
       "output_type": "stream",
       "stream": "stdout",
       "text": [
        " http://www.simplymarry.com/matrimonial/groom/SMM1493065/Hindu/Bhandari/Amol-Chaudhari\n",
        "I am simple, looking for a simple girl. I m an easy going fun loving person. I m from cultured and Educated family. I am good looking and having positive attitude. I can handle the family very well and can support in any situation. I am very caring and hardworking."
       ]
      },
      {
       "output_type": "stream",
       "stream": "stdout",
       "text": [
        "\n",
        "383"
       ]
      },
      {
       "output_type": "stream",
       "stream": "stdout",
       "text": [
        " http://www.simplymarry.com/matrimonial/groom/SMM1573847/Hindu/Brahmin/Tushar-M-Bargi\n",
        "Am a simple and fun loving person. Want my partner to be like minded. I like to play cricket and reading magazine. Am pursuing my MBA in HR and marketing with distance learning."
       ]
      },
      {
       "output_type": "stream",
       "stream": "stdout",
       "text": [
        "\n",
        "384"
       ]
      },
      {
       "output_type": "stream",
       "stream": "stdout",
       "text": [
        " http://www.simplymarry.com/matrimonial/groom/SMM1569652/Buddhist/Smm1569652\n",
        "I have done my MBA in IT and working as a SPM with an MNC. I like to spend time with my family and stay home with them as much as possible. Likes to watch movies, play cricket, football, chess, carrom board, travelling etc"
       ]
      },
      {
       "output_type": "stream",
       "stream": "stdout",
       "text": [
        "\n",
        "385"
       ]
      },
      {
       "output_type": "stream",
       "stream": "stdout",
       "text": [
        " http://www.simplymarry.com/matrimonial/groom/SMM1528597/Hindu/Maratha/Prithviraj-Jadhav\n",
        "I am decent, good looking and pleasant natured. Very patient and self motivated. Positive thinker. Equality always preferred. Care about others rights and values. Get Little possessive about close ones."
       ]
      },
      {
       "output_type": "stream",
       "stream": "stdout",
       "text": [
        "\n",
        "386"
       ]
      },
      {
       "output_type": "stream",
       "stream": "stdout",
       "text": [
        " http://www.simplymarry.com/matrimonial/groom/SMM1627587/Hindu/Koli/Prajwal-Bhujbalrao\n",
        "Hi, i am a very simple person but passionate about my work. I enjoy riding bike, long drives, playing computer games, reading inspiring novels autobiographies, love eating diff kind of foods, playing badminton, sometimes cooking etc."
       ]
      },
      {
       "output_type": "stream",
       "stream": "stdout",
       "text": [
        "\n",
        "387"
       ]
      },
      {
       "output_type": "stream",
       "stream": "stdout",
       "text": [
        " http://www.simplymarry.com/matrimonial/groom/SMM1507142/Hindu/Lingayath/Nikhil-Dolle\n",
        "A mechanical engg working as an software consultant in reputed company Godrej Infotech. I am the youngest person in my family, so being a favorite of all members. Mom, Dad, Elder brother &amp; sis in law. My hobbies are trekking, adventure sports and playing cricket. I love watching movies, listening music and am very friendly person having lots of friends."
       ]
      },
      {
       "output_type": "stream",
       "stream": "stdout",
       "text": [
        "\n",
        "388"
       ]
      },
      {
       "output_type": "stream",
       "stream": "stdout",
       "text": [
        " http://www.simplymarry.com/matrimonial/groom/SMM1538012/Hindu/Brahmin---Deshastha/Dr.-Saket-Sadawarte\n",
        "I am an Orthodontist and currently doing consulting practice and also planning for dental setup."
       ]
      },
      {
       "output_type": "stream",
       "stream": "stdout",
       "text": [
        "\n",
        "389"
       ]
      },
      {
       "output_type": "stream",
       "stream": "stdout",
       "text": [
        " http://www.simplymarry.com/matrimonial/groom/SMM1543151/Hindu/Chambhar/Dr.raviraj-Shinde\n",
        "Hi, am Dr. Raviraj, consultant Ayurvedic physician M.D and currently practicing in Pune. Am well educated, smart with the good mix of traditional and modern values."
       ]
      },
      {
       "output_type": "stream",
       "stream": "stdout",
       "text": [
        "\n",
        "390"
       ]
      },
      {
       "output_type": "stream",
       "stream": "stdout",
       "text": [
        " http://www.simplymarry.com/matrimonial/groom/SMM1563166/Hindu/Maratha/Raghuraj\n",
        "I'm ambitious and believe in simplicity. Based out of bangalore.Have a venture focussing towards the IT for the US and EU Markets.Interested in Partner who believes in values. Rest will be discussed once we connect."
       ]
      },
      {
       "output_type": "stream",
       "stream": "stdout",
       "text": [
        "\n",
        "391"
       ]
      },
      {
       "output_type": "stream",
       "stream": "stdout",
       "text": [
        " http://www.simplymarry.com/matrimonial/groom/SMM1582748/Hindu/Veerashaiva/Kiran\n",
        "I have completed \"Bachelor Of engineering (Mechanical)\" &amp; now I am working as a Asst. manager in one Japanese company at Gurgaon (Near New Delhi). I am planning to settle down at Pune or Aurangabad in near future. I am looking for the sole mate with below mentioned things. She Should respect the emotions of others, Good understanding. I am looking for girl who is having high level (Moderate) thinking, who can take care of our family &amp; love me. She should be loving, caring nature &amp; trust in me. I am not the kind of person who impose his thinking on others, so, I will not tell her to behave according to my need or thinking, she will be free to preserve her own hobbies &amp; interests, but along with this she should keep concentration to the family. \"life partner is supposed as the best friend &amp; life partner is the person who is near to our heart\" i expect her to give me the proper suggestions when I am taking any wrong decision. She should give proper suggestions to me whenever I am doing something mistake/wrong or whenever I require."
       ]
      },
      {
       "output_type": "stream",
       "stream": "stdout",
       "text": [
        "\n",
        "392"
       ]
      },
      {
       "output_type": "stream",
       "stream": "stdout",
       "text": [
        " http://www.simplymarry.com/matrimonial/groom/SMM1569331/Hindu/Maratha/Rohit-Rane\n",
        "Born and brought up in aamchi Mumbai. A well-educated teetotaler currently working as an Information Security Consultant in a reputed company in Mumbai. Few of my personality traits are : Simple, Honest, Ambitious Straight forward, Helpful and Family oriented with moderate cultural values. A convent educated with Bachelors in Chemical Engineering from Mumbai University. I enjoy music , movies and find time for hobbies in my spare time. I strive to balance between work and family /social life. Seeking alliance for a well educated, simple and decent girl with moderate values. She should be a cheerful person with a positive attitude towards life. I believe mutual respect and understanding is vital for any successful / long lasting relationship."
       ]
      },
      {
       "output_type": "stream",
       "stream": "stdout",
       "text": [
        "\n",
        "393"
       ]
      },
      {
       "output_type": "stream",
       "stream": "stdout",
       "text": [
        " http://www.simplymarry.com/matrimonial/groom/SMM1522860/Hindu/Maratha/Kiran-Vinayak-Parab\n",
        "I am working in TATA Consultancy Services as Clinical Data Process Associate, i will like to have my soul partner intelligent, simple, cute, must have her self respect, must respect others, able to face any problems in life, she must educated enough to work."
       ]
      },
      {
       "output_type": "stream",
       "stream": "stdout",
       "text": [
        "\n",
        "394"
       ]
      },
      {
       "output_type": "stream",
       "stream": "stdout",
       "text": [
        " http://www.simplymarry.com/matrimonial/groom/SMM1596434/Hindu/Chambhar/Rajdeep-S-Gavahane\n",
        "I am a Commerce Graduate, working for the State Bank of India, living in Mumbai, we are a family of Four, which includes Dad, Mom, Me and Younger Sister. I like to go places, do different things, learn new things and hobbies include Reading, Swimming, Music and Writing Poetry's. Looking for a Suitable Bride."
       ]
      },
      {
       "output_type": "stream",
       "stream": "stdout",
       "text": [
        "\n",
        "395"
       ]
      },
      {
       "output_type": "stream",
       "stream": "stdout",
       "text": [
        " http://www.simplymarry.com/matrimonial/groom/SMM1636390/Buddhist/Sahil-More\n",
        "Nice person, talkative, understanding nature and good looking."
       ]
      },
      {
       "output_type": "stream",
       "stream": "stdout",
       "text": [
        "\n",
        "396"
       ]
      },
      {
       "output_type": "stream",
       "stream": "stdout",
       "text": [
        " http://www.simplymarry.com/matrimonial/groom/SMM1505136/Hindu/Maratha/Sameer\n",
        "I'm sincere, hard working and lovable person and here to find someone with equal qualities."
       ]
      },
      {
       "output_type": "stream",
       "stream": "stdout",
       "text": [
        "\n",
        "397"
       ]
      },
      {
       "output_type": "stream",
       "stream": "stdout",
       "text": [
        " http://www.simplymarry.com/matrimonial/groom/SMM1570158/Hindu/Maratha/Aditya--Desai\n",
        "398"
       ]
      },
      {
       "output_type": "stream",
       "stream": "stdout",
       "text": [
        " http://www.simplymarry.com/matrimonial/groom/SMM1580841/Hindu/Bhavasar-Kshatriya/Sandeep-K-Lingarkar\n",
        "I can describe myself in short - simple living, high thinking, caring and helpful. B.Com (Mumbai University). Advanced Diploma in Computer Software, System Analysis &amp; Application (Board of Technical Examinations, Mumbai). Diploma in Advanced Computing (CDAC)."
       ]
      },
      {
       "output_type": "stream",
       "stream": "stdout",
       "text": [
        "\n",
        "399"
       ]
      },
      {
       "output_type": "stream",
       "stream": "stdout",
       "text": [
        " http://www.simplymarry.com/matrimonial/groom/SMM1569006/Buddhist/Ratnanand-Lautre\n",
        "I am well qualified well cultured family oriented groom, ready for marriage with a suitable match....Basically from Napgur but I had my education in Pune..and now I have decided to stay and settle in Pune itlself..."
       ]
      },
      {
       "output_type": "stream",
       "stream": "stdout",
       "text": [
        "\n",
        "400"
       ]
      },
      {
       "output_type": "stream",
       "stream": "stdout",
       "text": [
        " http://www.simplymarry.com/matrimonial/groom/SMM1542444/Hindu/Brahmin/Poojan-Godbole\n",
        "i am myself Poojan godbole , I have done B,E electronics and done M.tech in I.T , I am also appearing for PHD in the same. I am working in a Software company in Pune(Koregaon). I would like a simple like minded girl who will love me and respect my thoughts and ideas. I like to paint, hang out with my friends and eat at outlets.I am myself handsome , tall and well built."
       ]
      },
      {
       "output_type": "stream",
       "stream": "stdout",
       "text": [
        "\n",
        "401"
       ]
      },
      {
       "output_type": "stream",
       "stream": "stdout",
       "text": [
        " http://www.simplymarry.com/matrimonial/groom/SMM1508616/Buddhist/Subodha-Chawre\n",
        "Am an average looking guy and am working in manufacturing sector. I have simple life style, love to watch movies in theaters and hang out with my buddies. My parents are everything for me. My father is Retired central gov employee and mother is a house wife. My elder bro is teacher and younger sis is preparing for Banking exams. My sister-in-law is a housewife."
       ]
      },
      {
       "output_type": "stream",
       "stream": "stdout",
       "text": [
        "\n",
        "402"
       ]
      },
      {
       "output_type": "stream",
       "stream": "stdout",
       "text": [
        " http://www.simplymarry.com/matrimonial/groom/SMM1493153/Buddhist/Dr.-Vilas-Arjunrao\n",
        "Am a well settled in Parbhani, having own clinic. Seek for a well educated and good looking partner. Am doing practice in Parbhani."
       ]
      },
      {
       "output_type": "stream",
       "stream": "stdout",
       "text": [
        "\n",
        "403"
       ]
      },
      {
       "output_type": "stream",
       "stream": "stdout",
       "text": [
        " http://www.simplymarry.com/matrimonial/groom/SMM1493202/Hindu/Mali/Avnish-Sawarkar\n",
        "Hi i am Avnish. I am working in an MNC company. I live in Aurangabad. I am friendly, honest &amp; straight forward."
       ]
      },
      {
       "output_type": "stream",
       "stream": "stdout",
       "text": [
        "\n",
        "404"
       ]
      },
      {
       "output_type": "stream",
       "stream": "stdout",
       "text": [
        " http://www.simplymarry.com/matrimonial/groom/SMM1632367/Hindu/Kapil-S-Nagarkar\n",
        "Myself Kapil, am a simple &amp; straight forward person. Have my own business since last 9 yrs in Ulhaasnagar city."
       ]
      },
      {
       "output_type": "stream",
       "stream": "stdout",
       "text": [
        "\n",
        "405"
       ]
      },
      {
       "output_type": "stream",
       "stream": "stdout",
       "text": [
        " http://www.simplymarry.com/matrimonial/groom/SMM1505250/Hindu/Laxman-Madhukar-Mali\n",
        "i am BE electronic and tele. engineer and work in mahindra and mahindra at nashik as assist. manager.my family includes four members, 2 sisters, i unmarried and 1 married at sangli.\n",
        "i as looking for simple, good &amp; understanding wife."
       ]
      },
      {
       "output_type": "stream",
       "stream": "stdout",
       "text": [
        "\n",
        "406"
       ]
      },
      {
       "output_type": "stream",
       "stream": "stdout",
       "text": [
        " http://www.simplymarry.com/matrimonial/groom/SMM1486979/Buddhist/Rajiv\n",
        "I am a cool kind of person, caring, positive attitude, hate violence in any form. I am a person who believes in focusing on the solution, future rather than the problem or past, love to visit new places."
       ]
      },
      {
       "output_type": "stream",
       "stream": "stdout",
       "text": [
        "\n",
        "407"
       ]
      },
      {
       "output_type": "stream",
       "stream": "stdout",
       "text": [
        " http://www.simplymarry.com/matrimonial/groom/SMM1492844/Hindu/Brahmin---Karhade/Rohit\n",
        "Our son Rohit is a Business Analyst working with a reputed IT Service Provider in Mumbai. He is a smart, enthusiastic and sensible person who gets along well with friends and family. He loves driving, reading, traveling and listening to music during his free time. His job with his current employer has taken him to various places like Japan, France and Australia. He has just returned from the US after a one year stay and is currently working in Thane."
       ]
      },
      {
       "output_type": "stream",
       "stream": "stdout",
       "text": [
        "\n",
        "408"
       ]
      },
      {
       "output_type": "stream",
       "stream": "stdout",
       "text": [
        " http://www.simplymarry.com/matrimonial/groom/SMM1550622/Hindu/Teli/Mangesh-P.-Lode\n",
        "Am Mangesh Lode living with my family at Chandrapur &amp; doing job in Kepco KPS a power Plant at Warora(Wardha Power Compony) in F&A; department as an Administrator. i have 4 members in my family which r mother, father, a brother and me."
       ]
      },
      {
       "output_type": "stream",
       "stream": "stdout",
       "text": [
        "\n",
        "409"
       ]
      },
      {
       "output_type": "stream",
       "stream": "stdout",
       "text": [
        " http://www.simplymarry.com/matrimonial/groom/SMM1541814/Hindu/Kokanastha-Maratha/Amit-Anant-Kadam\n",
        "I see myself as simple, friendly and fun loving person. I was born and brought up in Mumbai. I am B.E. graduate from Mumbai University with excellent academics and right now employed with Blue Star Infotech Ltd as Sr. Software Engineer. In free time you will see me watching movies, sports, sometimes outing. Recently I bought home at Dombivali and plan is to settle there with parents."
       ]
      },
      {
       "output_type": "stream",
       "stream": "stdout",
       "text": [
        "\n",
        "410"
       ]
      },
      {
       "output_type": "stream",
       "stream": "stdout",
       "text": [
        " http://www.simplymarry.com/matrimonial/groom/SMM1596581/Hindu/Chambhar/Manohar-S\n",
        "Hi, i am Manohar. I am looking for a person who can understand and love me. I am looking for a life time relationship."
       ]
      },
      {
       "output_type": "stream",
       "stream": "stdout",
       "text": [
        "\n",
        "411"
       ]
      },
      {
       "output_type": "stream",
       "stream": "stdout",
       "text": [
        " http://www.simplymarry.com/matrimonial/groom/SMM1507055/Buddhist/Amit\n",
        "Am a person who live life with fun and happiness; people say I fill my surrounding with joy and happiness. I respect moral values but hate moral policing. I love to visit new places and cannot stop myself to experiment new and happening things"
       ]
      },
      {
       "output_type": "stream",
       "stream": "stdout",
       "text": [
        "\n",
        "412"
       ]
      },
      {
       "output_type": "stream",
       "stream": "stdout",
       "text": [
        " http://www.simplymarry.com/matrimonial/groom/SMM1507182/Hindu/Brahmin/Prashant-Sreekant-Halbe\n",
        "I have worked with many reputed MNCs/Retail stores in Mysore and Bangalore from 2006 onwards. I am currently working with a media firm and posted in Gurgaon. Have qualified as a Mountaineer with high grade, trained as a boxer and represented school and college teams in basketball. I was elected as class representative during second year college and have worked as an Office bearer with AISEC."
       ]
      },
      {
       "output_type": "stream",
       "stream": "stdout",
       "text": [
        "\n",
        "413"
       ]
      },
      {
       "output_type": "stream",
       "stream": "stdout",
       "text": [
        " http://www.simplymarry.com/matrimonial/groom/SMM1555293/Buddhist/Vishal-Khanderao\n",
        "Hi I am vishal khanderao, I have completed my high school in Computers/ IT. I am currently working as a Hardware &amp; Networking professional. I like people who are honest and soft spoken. Am a fun-loving and a very caring person"
       ]
      },
      {
       "output_type": "stream",
       "stream": "stdout",
       "text": [
        "\n",
        "414"
       ]
      },
      {
       "output_type": "stream",
       "stream": "stdout",
       "text": [
        " http://www.simplymarry.com/matrimonial/groom/SMM1482981/Hindu/Brahmin/Y-Kulkarni\n",
        "I have been in US for about approx more than 12 years since 98. Currently in India. May stay or go abroad again. Currently located in Pune."
       ]
      },
      {
       "output_type": "stream",
       "stream": "stdout",
       "text": [
        "\n",
        "415"
       ]
      },
      {
       "output_type": "stream",
       "stream": "stdout",
       "text": [
        " http://www.simplymarry.com/matrimonial/groom/SMM1496107/Hindu/Brahmin/Sandeep-Poshakwale\n",
        "Hi, My native place is Indore. Presently working with MNC in pune. I am a person with a mix of traditional and modern values. A simple person with optimistic view towards life. My friends describe me as a trustworthy, caring and down to earth person. I believe mutual understanding, respect and honesty are very important to build a good relationship."
       ]
      },
      {
       "output_type": "stream",
       "stream": "stdout",
       "text": [
        "\n",
        "416"
       ]
      },
      {
       "output_type": "stream",
       "stream": "stdout",
       "text": [
        " http://www.simplymarry.com/matrimonial/groom/SMM1596138/Hindu/Maratha/Amit-Deshmukh\n",
        "Myself, Amit Deshmukh living in Baramati, Pune. I am a fun loving and caring person. I am currently working as a Business Development officer in my friend's firm."
       ]
      },
      {
       "output_type": "stream",
       "stream": "stdout",
       "text": [
        "\n",
        "417"
       ]
      },
      {
       "output_type": "stream",
       "stream": "stdout",
       "text": [
        " http://www.simplymarry.com/matrimonial/groom/SMM1579079/Hindu/Aniket-Rajiv-Shingade\n",
        "I am open minded, down to earth personality, loving and caring in nature, like person with straight forward nature."
       ]
      },
      {
       "output_type": "stream",
       "stream": "stdout",
       "text": [
        "\n",
        "418"
       ]
      },
      {
       "output_type": "stream",
       "stream": "stdout",
       "text": [
        " http://www.simplymarry.com/matrimonial/groom/SMM1510660/Hindu/Brahmin/Vinay-Joshi\n",
        "Am a human resource professional working in MNC as a HR Manager. I am from middle class family, very straight forward; looking for same kind of life partner, who can be career oriented, literate, and from good family"
       ]
      },
      {
       "output_type": "stream",
       "stream": "stdout",
       "text": [
        "\n",
        "419"
       ]
      },
      {
       "output_type": "stream",
       "stream": "stdout",
       "text": [
        " http://www.simplymarry.com/matrimonial/groom/SMM1595758/Hindu/Maratha/Rahul-Pawar\n",
        "Done B-Pharmacy &amp; MBA, currently working with Multinational company Pharma located in Mumbai. Working in Regulatory Affairs department. Like to travel, exploring new places and watching movies."
       ]
      },
      {
       "output_type": "stream",
       "stream": "stdout",
       "text": [
        "\n",
        "420"
       ]
      },
      {
       "output_type": "stream",
       "stream": "stdout",
       "text": [
        " http://www.simplymarry.com/matrimonial/groom/SMM1499995/Hindu/Chambhar/Tushar-S.-Vankade\n",
        "Hi, this is Tushar, I am looking for my life partner who is simply beautiful &amp; family oriented. Currently working as Quantity Surveyor in Siddhi Group. I like to Read books &amp; Traveling."
       ]
      },
      {
       "output_type": "stream",
       "stream": "stdout",
       "text": [
        "\n",
        "421"
       ]
      },
      {
       "output_type": "stream",
       "stream": "stdout",
       "text": [
        " http://www.simplymarry.com/matrimonial/groom/SMM1494962/Hindu/Kshatriya/Nagaraj-Kubendra-Rao\n",
        "I am simple and a friendly guy. I am looking for a girl who can understand, love and care for me and my family. I have done my B.com in Bangalore university and I am working for MNC in IT department in bangalore."
       ]
      },
      {
       "output_type": "stream",
       "stream": "stdout",
       "text": [
        "\n",
        "422"
       ]
      },
      {
       "output_type": "stream",
       "stream": "stdout",
       "text": [
        " http://www.simplymarry.com/matrimonial/groom/SMM1562466/Hindu/Thakkar/Manish-Jalandar-Gaikwad\n",
        "Am Dr. Manish, a fun loving, jolly person yet responsible towards my work and family. Interested in dramatics, music and travelling. Wud like to have intelligent, smart partner, preferably doctor."
       ]
      },
      {
       "output_type": "stream",
       "stream": "stdout",
       "text": [
        "\n",
        "423"
       ]
      },
      {
       "output_type": "stream",
       "stream": "stdout",
       "text": [
        " http://www.simplymarry.com/matrimonial/groom/SMM1499547/Hindu/Scheduled-Caste/Prasadrao-Ramamoorthy\n",
        "I am a young man of 50 years old, having an average built and my height is 5 ft. 3 inches. I am working in a Private company and drawing a salary of Rs. 17000/- per month. I am single but have One son of 16 years old studying in XI standard (College)\n",
        "I have my own Flat but it is shared with my Brother. My 2 sisters are happily married and well settled."
       ]
      },
      {
       "output_type": "stream",
       "stream": "stdout",
       "text": [
        "\n",
        "424"
       ]
      },
      {
       "output_type": "stream",
       "stream": "stdout",
       "text": [
        " http://www.simplymarry.com/matrimonial/groom/SMM1475963/Hindu/Maratha/Yogesh-Raviraj-Chavan\n",
        "My son is honest, talented, without any bad habit, kind in nature, down to earth, hard working, God fearing, good looking, lovable, trust worthy, convent student, having service and own business with farming and farm house."
       ]
      },
      {
       "output_type": "stream",
       "stream": "stdout",
       "text": [
        "\n",
        "425"
       ]
      },
      {
       "output_type": "stream",
       "stream": "stdout",
       "text": [
        " http://www.simplymarry.com/matrimonial/groom/SMM1476116/Buddhist/Pankaj-Gujar\n",
        "I am adventures, open minded, fastidious reader and traveler also, works with heart and enjoy holidays with all is my funda. quit serious as all say, love my job and my family, eating is one of my hobbies. i will complete my M.D. in 2012."
       ]
      },
      {
       "output_type": "stream",
       "stream": "stdout",
       "text": [
        "\n",
        "426"
       ]
      },
      {
       "output_type": "stream",
       "stream": "stdout",
       "text": [
        " http://www.simplymarry.com/matrimonial/groom/SMM1486177/Hindu/Teli/Nikhil-Bisne\n",
        "Educated from DPS, New Delhi, BCA (GGSIP University, Delhi), MBA (Finance) Symbiosis, Pune. Currently pursuing advanced course in SAS."
       ]
      },
      {
       "output_type": "stream",
       "stream": "stdout",
       "text": [
        "\n",
        "427"
       ]
      },
      {
       "output_type": "stream",
       "stream": "stdout",
       "text": [
        " http://www.simplymarry.com/matrimonial/groom/SMM1494714/Hindu/Bhandari/Abhijit-Bugde\n",
        "Hi, I am very calm and understanding, residing at Mumbai with my parents. I am working in reputed Animation Company as a 3D Animator. Like to sketch, watching good movies, listening music and yes I like to go for a long rides on motorbikes."
       ]
      },
      {
       "output_type": "stream",
       "stream": "stdout",
       "text": [
        "\n",
        "428"
       ]
      },
      {
       "output_type": "stream",
       "stream": "stdout",
       "text": [
        " http://www.simplymarry.com/matrimonial/groom/SMM1542417/Hindu/Gurjar/Dr.aniket\n",
        "i have completed my MBBS from government medical college and currently pursuing diploma in radiology at nashik. fun loving guy and wish to find a girl from medical field as my companion and life partner."
       ]
      },
      {
       "output_type": "stream",
       "stream": "stdout",
       "text": [
        "\n",
        "429"
       ]
      },
      {
       "output_type": "stream",
       "stream": "stdout",
       "text": [
        " http://www.simplymarry.com/matrimonial/groom/SMM1475861/Buddhist/Pradip-Sonawane\n",
        "I hve done my Masters and currently working in one of leading PSU (govt) bank as a Manager."
       ]
      },
      {
       "output_type": "stream",
       "stream": "stdout",
       "text": [
        "\n",
        "430"
       ]
      },
      {
       "output_type": "stream",
       "stream": "stdout",
       "text": [
        " http://www.simplymarry.com/matrimonial/groom/SMM1525586/Buddhist/Nilesh\n",
        "Iam Nilesh working in reputed MNC,done gradutation from Pune Univ.looking for sweet and simple girl. Average body, hardworker, like movies, sight seeing, playing cricket, eating veg food,ocaasionaly non veg."
       ]
      },
      {
       "output_type": "stream",
       "stream": "stdout",
       "text": [
        "\n",
        "431"
       ]
      },
      {
       "output_type": "stream",
       "stream": "stdout",
       "text": [
        " http://www.simplymarry.com/matrimonial/groom/SMM1532302/Hindu/Maratha/Satish-Dhumal\n",
        "I am 39 yrs Simple Maratha Boy living since childhood from Lucknow.father was Retired from Army.2 elder brother (Married).1 younger Brother(Married).1 Younger Sister(Single)I am Working in a Real Estate Company.my Annual PackageRs 6 lakh."
       ]
      },
      {
       "output_type": "stream",
       "stream": "stdout",
       "text": [
        "\n",
        "432"
       ]
      },
      {
       "output_type": "stream",
       "stream": "stdout",
       "text": [
        " http://www.simplymarry.com/matrimonial/groom/SMM1621488/Hindu/Brahmin---Kokanastha/Sagar-Nene\n",
        "I have done B.E. (Computer Science) from Mumbai and PGDIT from Pune. Also passed JLPT N5 Certification. Presently working with an IT company in Pune. My hobbies include reading, playing, traveling, etc."
       ]
      },
      {
       "output_type": "stream",
       "stream": "stdout",
       "text": [
        "\n",
        "433"
       ]
      },
      {
       "output_type": "stream",
       "stream": "stdout",
       "text": [
        " http://www.simplymarry.com/matrimonial/groom/SMM1483103/Hindu/Maratha/Rahul-R-Jadhav\n",
        "My son RAHUL is very confident knows his aims and goals, always achieves them, his roots are deeply tied with his family, caring, loving, firm in his views, very straight forward, a good reader, has a huge friend circle and know how to maintain relations, respects elders and travels a lot."
       ]
      },
      {
       "output_type": "stream",
       "stream": "stdout",
       "text": [
        "\n",
        "434"
       ]
      },
      {
       "output_type": "stream",
       "stream": "stdout",
       "text": [
        " http://www.simplymarry.com/matrimonial/groom/SMM1557750/Hindu/Maratha/Hrishikesh-Hande\n",
        "I am a simple down to earth person. Looking for a girl who is matured, understanding etc."
       ]
      },
      {
       "output_type": "stream",
       "stream": "stdout",
       "text": [
        "\n",
        "435"
       ]
      },
      {
       "output_type": "stream",
       "stream": "stdout",
       "text": [
        " http://www.simplymarry.com/matrimonial/groom/SMM1525563/Buddhist/Ravindra-Umrao-Wasnik\n",
        "I am simple guy with positive attitude..... Would like to live the life as simple as it can be lived..... Would love to get a partner with immense understanding and simple nature..... Can't describe much here... You can meet me and explore more about me!!!!!!"
       ]
      },
      {
       "output_type": "stream",
       "stream": "stdout",
       "text": [
        "\n",
        "436"
       ]
      },
      {
       "output_type": "stream",
       "stream": "stdout",
       "text": [
        " http://www.simplymarry.com/matrimonial/groom/SMM1511064/Hindu/Swakula-Sali/Ravi\n",
        "My brother is very caring and responsible. he works in a pvt air line company as an air craft maintenance engineer. i am his elder sister working in kendriya vidhalaya as a teacher. my brother born in solapur and broghtup at Hyderabad."
       ]
      },
      {
       "output_type": "stream",
       "stream": "stdout",
       "text": [
        "\n",
        "437"
       ]
      },
      {
       "output_type": "stream",
       "stream": "stdout",
       "text": [
        " http://www.simplymarry.com/matrimonial/groom/SMM1499726/Christian/Protestant/Raj-Shelar\n",
        "I am Raj Shelar a Born Again Pentecostal Christian Believer, though born Hindu, we (family) were saved by Jesus Christ's amazing grace. I work for the Oil &amp; Gas MNC &amp; mostly travelling offshore &amp; different countries, financially stable, fun loving, humorous &amp; same time I love Jesus Christ my savior."
       ]
      },
      {
       "output_type": "stream",
       "stream": "stdout",
       "text": [
        "\n",
        "438"
       ]
      },
      {
       "output_type": "stream",
       "stream": "stdout",
       "text": [
        " http://www.simplymarry.com/matrimonial/groom/SMM1490720/Hindu/Matang/Avinash-Gaikwad\n",
        "I am an MBA working as an ERP consultant (SAP SD &amp; Oracle Apps) with CMM level 5 Company. in Pune. I am a person who has a good sense of humor. Loves to be with friends &amp; family. Quite serious about work and make friends easily."
       ]
      },
      {
       "output_type": "stream",
       "stream": "stdout",
       "text": [
        "\n",
        "439"
       ]
      },
      {
       "output_type": "stream",
       "stream": "stdout",
       "text": [
        " http://www.simplymarry.com/matrimonial/groom/SMM1582107/Hindu/Mali/Ganesh-Baban-Mali\n",
        "I believe in simplicity and trust. I would like to respect each individual and learn positive aspects from them. I have my own 2BHK flat in Chinchwad, Pune. Also, I have residential house and land in Satara."
       ]
      },
      {
       "output_type": "stream",
       "stream": "stdout",
       "text": [
        "\n",
        "440"
       ]
      },
      {
       "output_type": "stream",
       "stream": "stdout",
       "text": [
        " http://www.simplymarry.com/matrimonial/groom/SMM1585261/Hindu/Khatik/Navnath-D-Kharate\n",
        "I am a person with optimum confidence and one who like peace, culture, stability, love to help poor and needy people."
       ]
      },
      {
       "output_type": "stream",
       "stream": "stdout",
       "text": [
        "\n",
        "441"
       ]
      },
      {
       "output_type": "stream",
       "stream": "stdout",
       "text": [
        " http://www.simplymarry.com/matrimonial/groom/SMM1500908/Hindu/Mali/Chetan\n",
        "I love to stay cool and simple. I am a fun loving person. Like to travel a lot. Need someone who is open minded, loving and caring."
       ]
      },
      {
       "output_type": "stream",
       "stream": "stdout",
       "text": [
        "\n",
        "442"
       ]
      },
      {
       "output_type": "stream",
       "stream": "stdout",
       "text": [
        " http://www.simplymarry.com/matrimonial/groom/SMM1584350/Buddhist/Nilesh-Kharat\n",
        "MYSELF IS NILESH. LOOKING FOR AN UNDERSTANDING CARING AND LOVING BRIDE. PREFERABLY SHOULD BE AN ORPHAN GIRL. MYSELF IS VERY CARING AND UNDERSTANDING. I WANT FRIENDS FOR LIFE WHO CAN COULD BE MY GOOD COMPANION FOR ENTIRE LIFE."
       ]
      },
      {
       "output_type": "stream",
       "stream": "stdout",
       "text": [
        "\n",
        "443"
       ]
      },
      {
       "output_type": "stream",
       "stream": "stdout",
       "text": [
        " http://www.simplymarry.com/matrimonial/groom/SMM1628686/Hindu/Dhobi/Sagar-Jamdhade\n",
        "My elder son is a down to earth &amp; caring person. He is the most approachable person in our family and always helps us all in any conditions. He is very kind lovely and we look towards him as best person."
       ]
      },
      {
       "output_type": "stream",
       "stream": "stdout",
       "text": [
        "\n",
        "444"
       ]
      },
      {
       "output_type": "stream",
       "stream": "stdout",
       "text": [
        " http://www.simplymarry.com/matrimonial/groom/SMM1500649/Hindu/Maratha/Abhishek-Pasale\n",
        "I have done with B.F.T from pune. and now i am pursuing with MBA. I have decided to stand up on my own,and so il be getting into corporate and not joining my dads business. I seek for a loving, caring, honest girl"
       ]
      },
      {
       "output_type": "stream",
       "stream": "stdout",
       "text": [
        "\n",
        "445"
       ]
      },
      {
       "output_type": "stream",
       "stream": "stdout",
       "text": [
        " http://www.simplymarry.com/matrimonial/groom/SMM1519883/Hindu/Maratha/Nachiket-Tarate\n",
        "Hi, Thanks for visiting my profile. I am a Software Engineer and currently working as a Chief Engineer with Samsung R&D; Institute India - Delhi. I am a fun loving guy with a decent personality. I belong to a well educated and well cultured upper middle class family based in Ahmednagar, Maharashtra. I am an open minded and career oriented person, stick to what I believe and reach out for the things that are achievable. Seeking a well qualified, good looking girl with an attractive personality and a pleasant nature."
       ]
      },
      {
       "output_type": "stream",
       "stream": "stdout",
       "text": [
        "\n",
        "446"
       ]
      },
      {
       "output_type": "stream",
       "stream": "stdout",
       "text": [
        " http://www.simplymarry.com/matrimonial/groom/SMM1480755/Hindu/Bhavasar-Kshatriya/Mahesh-Kalekar\n",
        "Working for MNC company as An Asst Manager (Marketing) Bangalore. I have 3 brothers, 2 are married, younger one still pursuing MCA. Father (Business) &amp; mother (Housewife). Hobbies are playing cricket, cooking food, listening to music etc."
       ]
      },
      {
       "output_type": "stream",
       "stream": "stdout",
       "text": [
        "\n",
        "447"
       ]
      },
      {
       "output_type": "stream",
       "stream": "stdout",
       "text": [
        " http://www.simplymarry.com/matrimonial/groom/SMM1525865/Hindu/Swakula-Sali/Sameer-Ashok-Sali\n",
        "I am a postgraduate in maths with B.Ed, i am doing job of teaching from 7 yrs. i am well settled in nashik. i live with my parents."
       ]
      },
      {
       "output_type": "stream",
       "stream": "stdout",
       "text": [
        "\n",
        "448"
       ]
      },
      {
       "output_type": "stream",
       "stream": "stdout",
       "text": [
        " http://www.simplymarry.com/matrimonial/groom/SMM1473783/Hindu/Chambhar/Mahesh-Bhaskar-Nagaonkar\n",
        "I WOULD LIKE TO DESCRIBE MYSELF AS A HONEST, STRAIGHT FORWARD, DISCIPLINED, COMMITTED, HARDWORKING PERSON. I AM VERY KEEN ABOUT MORAL VALUES AND SUPPORTIVE AND CARING BY NATURE. I HAVE LOT OF INTEREST IN SPORTS AND MUSIC."
       ]
      },
      {
       "output_type": "stream",
       "stream": "stdout",
       "text": [
        "\n",
        "449"
       ]
      },
      {
       "output_type": "stream",
       "stream": "stdout",
       "text": [
        " http://www.simplymarry.com/matrimonial/groom/SMM1536853/Hindu/Chambhar/Shashank-P.-Mane\n",
        "Myself Architect from Sir J.J. College of Architecture, Mumbai and staying at Gurgaon. Am trying to put up my own setup and practicing in Architecture."
       ]
      },
      {
       "output_type": "stream",
       "stream": "stdout",
       "text": [
        "\n",
        "450"
       ]
      },
      {
       "output_type": "stream",
       "stream": "stdout",
       "text": [
        " http://www.simplymarry.com/matrimonial/groom/SMM1635296/Hindu/Maratha/Sanket\n",
        "451"
       ]
      },
      {
       "output_type": "stream",
       "stream": "stdout",
       "text": [
        " http://www.simplymarry.com/matrimonial/groom/SMM1513501/Hindu/Sonar/Kunal\n",
        "I am a cool kind of person, caring, positive attitude, hate violence in any form. I am a person who believes in focusing on the solution, future rather than the problem or past, love to visit new places."
       ]
      },
      {
       "output_type": "stream",
       "stream": "stdout",
       "text": [
        "\n",
        "452"
       ]
      },
      {
       "output_type": "stream",
       "stream": "stdout",
       "text": [
        " http://www.simplymarry.com/matrimonial/groom/SMM1592219/Hindu/Kunbi/Pranav-Deshmukh\n",
        "HI, I AM AN ARMY OFFICER. UNFORTUNATELY I LOST MY WIFE 2 YEARS BACK AND HAVE 3 YEARS OLD SON TO LOOK AFTER. I EXPECT TO GET A LIFE PARTNER WHO CAN ACCOMPANY ME THROUGHOUT MY LIFE."
       ]
      },
      {
       "output_type": "stream",
       "stream": "stdout",
       "text": [
        "\n",
        "453"
       ]
      },
      {
       "output_type": "stream",
       "stream": "stdout",
       "text": [
        " http://www.simplymarry.com/matrimonial/groom/SMM1491406/Hindu/Bhavasar-Kshatriya/Dr.-Abhijeet-Bhavsar\n",
        "Hi, I am Abhijeet Bhavsar. I have done my MBBS from Govt Medical college dhule, now I am pursuing my MD from Sion Hospital Mumbai as well as a medical officer. My friends describe me as simple, ambitious, humorous, friendly companion. My hobbies are painting, playing piano, listening to music. I would like to work in a govt organization after completion of my MD."
       ]
      },
      {
       "output_type": "stream",
       "stream": "stdout",
       "text": [
        "\n",
        "454"
       ]
      },
      {
       "output_type": "stream",
       "stream": "stdout",
       "text": [
        " http://www.simplymarry.com/matrimonial/groom/SMM1475373/Hindu/Maratha/Sachin-Ramchandra-Chavan\n",
        "I am Sachin Chavan, very simple but broad minded person; want a partner just like me. Im staying in a joint family with my Mom, Dad and elder brother; my family is very down to earth."
       ]
      },
      {
       "output_type": "stream",
       "stream": "stdout",
       "text": [
        "\n",
        "455"
       ]
      },
      {
       "output_type": "stream",
       "stream": "stdout",
       "text": [
        " http://www.simplymarry.com/matrimonial/groom/SMM1482092/Hindu/Maratha/Rohit-Yashwant-Sable\n",
        "I am a very friendly person, family oriented, like to spend my time with my family. They are very important to me. I also like to listen music, watch movies in my free time. I also like travelling."
       ]
      },
      {
       "output_type": "stream",
       "stream": "stdout",
       "text": [
        "\n",
        "456"
       ]
      },
      {
       "output_type": "stream",
       "stream": "stdout",
       "text": [
        " http://www.simplymarry.com/matrimonial/groom/SMM1537412/Hindu/CKP/Pushkaraj-Korde\n",
        "I am a very down to earth person; like to enjoy my life. Living with my parents as i am the only child. I love watching movies, listening to music and playing cricket as i have been a professional cricketer for a long time till i moved on for better career."
       ]
      },
      {
       "output_type": "stream",
       "stream": "stdout",
       "text": [
        "\n",
        "457"
       ]
      },
      {
       "output_type": "stream",
       "stream": "stdout",
       "text": [
        " http://www.simplymarry.com/matrimonial/groom/SMM1537262/Hindu/Suthar/Bhushan-Panchal\n",
        "I am simple guy, looking for a life partner who just care of relation and be positive. I like to play chess, listen music &amp; to watch cricket. We are 6 members in the family my father, mother, i have two brothers and one sister. I am a elder brother. I like to live in joint family after marriage."
       ]
      },
      {
       "output_type": "stream",
       "stream": "stdout",
       "text": [
        "\n",
        "458"
       ]
      },
      {
       "output_type": "stream",
       "stream": "stdout",
       "text": [
        " http://www.simplymarry.com/matrimonial/groom/SMM1503614/Buddhist/Smm1503614\n",
        "Hi, I am friendly and passionate Mechanical engineer working with MNC at pune as Engineering Manager (RnD). Am positive, easy going, fun loving person who likes making friends."
       ]
      },
      {
       "output_type": "stream",
       "stream": "stdout",
       "text": [
        "\n",
        "459"
       ]
      },
      {
       "output_type": "stream",
       "stream": "stdout",
       "text": [
        " http://www.simplymarry.com/matrimonial/groom/SMM1569959/Hindu/Chambhar/Dr-Devdatta-D\n",
        "I AM FUN LOVING, LOVING AND CARING PERSON. COMPLETED MY CPS RADIO, NOW WORKING IN KNOWN HOSP FOR EXPERIENCE, I WANT LOVING CARING GIRL. SHE MUST BE FAMILY ORIENTED AND FUN LOVING SAME LIKE ME. MEDICO AND NON MEDICO ANY."
       ]
      },
      {
       "output_type": "stream",
       "stream": "stdout",
       "text": [
        "\n",
        "460"
       ]
      },
      {
       "output_type": "stream",
       "stream": "stdout",
       "text": [
        " http://www.simplymarry.com/matrimonial/groom/SMM1483857/Hindu/Koli/Vishal-Onkar\n",
        "A Business Analyst by profession. I like being happy. Life is too complicated, the simple the equation the better it is."
       ]
      },
      {
       "output_type": "stream",
       "stream": "stdout",
       "text": [
        "\n",
        "461"
       ]
      },
      {
       "output_type": "stream",
       "stream": "stdout",
       "text": [
        " http://www.simplymarry.com/matrimonial/groom/SMM1621686/Buddhist/Anil-Sapkale\n",
        "MYSELF ANIL SAPKALE, PRESENTLY WORKING IN CIPLA AS A SR. PRODUCTION OFFICER. HAVE ONE ELDER BROTHER, WORKING AS A AREA MANAGER (MARRIED). SISTER-IN-LAW IS A DOCTOR. HAVE ONE SISTER (MARRIED). FATHER IS RETIRED FROM GOVT. SERVICE AND MOTHER IS HOUSE WIFE."
       ]
      },
      {
       "output_type": "stream",
       "stream": "stdout",
       "text": [
        "\n",
        "462"
       ]
      },
      {
       "output_type": "stream",
       "stream": "stdout",
       "text": [
        " http://www.simplymarry.com/matrimonial/groom/SMM1480863/Hindu/Maratha/Vikas-Vithal-More\n",
        "Simple, loving, caring and from a middle class traditional family and want my partner who can support for my entire life and likes to stay in combined family. I am working in National Safety Council, a autonomous body under minister of labour, Government of India."
       ]
      },
      {
       "output_type": "stream",
       "stream": "stdout",
       "text": [
        "\n",
        "463"
       ]
      },
      {
       "output_type": "stream",
       "stream": "stdout",
       "text": [
        " http://www.simplymarry.com/matrimonial/groom/SMM1618359/Hindu/Agri/Kuldeep-Raghunath-Patil\n",
        "Hi, I am fun loving, calm and bit shy person in nature. Currently working in pvt company as a Software Developer and am staying in the joint family."
       ]
      },
      {
       "output_type": "stream",
       "stream": "stdout",
       "text": [
        "\n",
        "464"
       ]
      },
      {
       "output_type": "stream",
       "stream": "stdout",
       "text": [
        " http://www.simplymarry.com/matrimonial/groom/SMM1550640/Hindu/Teli/Abhishek-Sakharwade\n",
        "I did my Bachelors from India's premier engineering institute, Pune in Electronics, and was awarded prestigious NXP Scholarship for M.S. Currently, working with one of the most reputed companies in telecommunication, Bangalore. I come from a highly educated and cultured family background."
       ]
      },
      {
       "output_type": "stream",
       "stream": "stdout",
       "text": [
        "\n",
        "465"
       ]
      },
      {
       "output_type": "stream",
       "stream": "stdout",
       "text": [
        " http://www.simplymarry.com/matrimonial/groom/SMM1480481/Muslim/Sunni/V.-I.-Inamdar\n",
        "I am peace loving person. I come from a well-educated, respected and decent family. I Respect all elders. I believe in Myself. My father is a retired employee of MSRTC. I have two younger sisters, one is already married &amp; other studying B. Pharmacy and Mother is a house-wife."
       ]
      },
      {
       "output_type": "stream",
       "stream": "stdout",
       "text": [
        "\n",
        "466"
       ]
      },
      {
       "output_type": "stream",
       "stream": "stdout",
       "text": [
        " http://www.simplymarry.com/matrimonial/groom/SMM1480299/Hindu/Nhavi/Swapnil-Ambre\n",
        "I am Swapnil Ambre, born and raised up in Mumbai. I am working as a film visual effect artist. I would like to find a life partner who is fun loving and simple."
       ]
      },
      {
       "output_type": "stream",
       "stream": "stdout",
       "text": [
        "\n",
        "467"
       ]
      },
      {
       "output_type": "stream",
       "stream": "stdout",
       "text": [
        " http://www.simplymarry.com/matrimonial/groom/SMM1520914/Hindu/Brahmin---Deshastha/Vijay-Kalidas-Kulkarni\n",
        "Hi, My name is Vijay Kulkarni &amp; i m working with one of the leading MNC Company in Solapur. We are basically from Solapur. I m looking for a traditional Brahmin Girl who can take care of my Mother and Father. We are just Three members in our Family, Father is Government Employee And mother is a housewife."
       ]
      },
      {
       "output_type": "stream",
       "stream": "stdout",
       "text": [
        "\n",
        "468"
       ]
      },
      {
       "output_type": "stream",
       "stream": "stdout",
       "text": [
        " http://www.simplymarry.com/matrimonial/groom/SMM1520557/Hindu/Kunbi/Santosh\n",
        "Hi., Am santosh, am very simple personal, I like stay in joint family. I stay with my mom and Dad."
       ]
      },
      {
       "output_type": "stream",
       "stream": "stdout",
       "text": [
        "\n",
        "469"
       ]
      },
      {
       "output_type": "stream",
       "stream": "stdout",
       "text": [
        " http://www.simplymarry.com/matrimonial/groom/SMM1500082/Hindu/Brahmin---Karhade/Niranjan-Desai\n",
        "Hello, I am Niranjan Desai. I have completed my Bachelors in Management. I was working in the Insurance sector for 2 years. I then quit to start my own business of trading in Fast Moving Consumer Goods. I have a distribution network set up to supply goods in and around Hubli. I am someone who loves his freedom and dislike being confined to rigid rules of the corporate world. I am of an artistic bent and have dabbled in nearly every art- related endeavor. Drawing, Painting, Clay Modelling, Music -vocal and Instrumental, writing \"poetry\", articles, editorials for club mags, I've been there, done all that. My hobbies include reading fiction and non fiction, photography and going on long drives in my car. Am an intelligent, witty, humorous, well behaved, a tad religious and an open-minded individual. I am looking for an intelligent and well behaved girl for a life partner."
       ]
      },
      {
       "output_type": "stream",
       "stream": "stdout",
       "text": [
        "\n",
        "470"
       ]
      },
      {
       "output_type": "stream",
       "stream": "stdout",
       "text": [
        " http://www.simplymarry.com/matrimonial/groom/SMM1604595/Christian/Protestant/Dwaraknath-Rao-Yadav\n",
        "He is a born again believer and have come into full time serving God. He has a call of an evangelist and he moves in the gifts of the Holy Spirit. He reside in Bangalore for the past 5 years and attends fellowship in Bangalore."
       ]
      },
      {
       "output_type": "stream",
       "stream": "stdout",
       "text": [
        "\n",
        "471"
       ]
      },
      {
       "output_type": "stream",
       "stream": "stdout",
       "text": [
        " http://www.simplymarry.com/matrimonial/groom/SMM1502491/Hindu/Suthar/Laxman-V.-Suryavanshi\n",
        "i am simple boy."
       ]
      },
      {
       "output_type": "stream",
       "stream": "stdout",
       "text": [
        "\n",
        "472"
       ]
      },
      {
       "output_type": "stream",
       "stream": "stdout",
       "text": [
        " http://www.simplymarry.com/matrimonial/groom/SMM1607130/Hindu/Pathare-Prabhu/Yogesh-Subhash-Rao\n",
        "He is a non vegetarian, love music, a social worker. Looking for a bride who is working and broad minded. The girl should be ready to stay with his parents. Love for outgoing on weekends. He is ambitious, smart and hard working."
       ]
      },
      {
       "output_type": "stream",
       "stream": "stdout",
       "text": [
        "\n",
        "473"
       ]
      },
      {
       "output_type": "stream",
       "stream": "stdout",
       "text": [
        " http://www.simplymarry.com/matrimonial/groom/SMM1517065/Hindu/Vaishya-Vani/Saniket-Patne\n",
        "I AM ADVENTUROUS PERSON. LIKE TO TRAVEL A LOT. I EAT VEG AND NON VEG BOTH. NON VEG AT SOME DAYS LIKE WEDNESDAYS, FRIDAYS OR SUNDAYS. I AM STRAIGHT FORWARD AND UNDERSTANDING PERSON. I AM FRIENDLY ALSO. I AM A TALKATIVE PERSON."
       ]
      },
      {
       "output_type": "stream",
       "stream": "stdout",
       "text": [
        "\n",
        "474"
       ]
      },
      {
       "output_type": "stream",
       "stream": "stdout",
       "text": [
        " http://www.simplymarry.com/matrimonial/groom/SMM1475221/Christian/Protestant/Rahul-Gaikwad\n",
        "Myself Rahul Gaikwad. I am a soft-spoken person who loves spending time with family and friends, and love my job. I have completed MBA from symbiosis and am currently working with a MNC in Pune."
       ]
      },
      {
       "output_type": "stream",
       "stream": "stdout",
       "text": [
        "\n",
        "475"
       ]
      },
      {
       "output_type": "stream",
       "stream": "stdout",
       "text": [
        " http://www.simplymarry.com/matrimonial/groom/SMM1493176/Hindu/Maratha/Rupesh-Gaikwad\n",
        "I have completed my B.E.(Computers) and having my own business in Mumbai, specifically involved in Wireless solutions, IP Surveillance systems and Networking Technology etc. We all are living in Mumbai and very well settled as well."
       ]
      },
      {
       "output_type": "stream",
       "stream": "stdout",
       "text": [
        "\n",
        "476"
       ]
      },
      {
       "output_type": "stream",
       "stream": "stdout",
       "text": [
        " http://www.simplymarry.com/matrimonial/groom/SMM1574851/Hindu/Brahmin/Keshavkrishnan\n",
        "Simple, Soft spoken, Organized, Orthodox and Caring. Presently working as Branch Manager for a Private Bank (co-operative) Organization. My parents are staying with me. I am a vegetarian, non-smoker and a non-drinker."
       ]
      },
      {
       "output_type": "stream",
       "stream": "stdout",
       "text": [
        "\n",
        "477"
       ]
      },
      {
       "output_type": "stream",
       "stream": "stdout",
       "text": [
        " http://www.simplymarry.com/matrimonial/groom/SMM1495610/Hindu/Mali/Nitin-Thokare\n",
        "I'm a simple living and rich thinking guy. Interested in science and technologies, fun, family relationships, social work etc.\n",
        "My hobbies includes watching movies, helping others, swimming, cooking, Internet surfing etc."
       ]
      },
      {
       "output_type": "stream",
       "stream": "stdout",
       "text": [
        "\n",
        "478"
       ]
      },
      {
       "output_type": "stream",
       "stream": "stdout",
       "text": [
        " http://www.simplymarry.com/matrimonial/groom/SMM1552801/Hindu/Koshti/Vilas-Sonkusare\n",
        "I am a very understanding, straightforward and broadminded person... I am looking for a partner who will be a friend, willing to stand by me at every stage of my life... should be well qualified, intelligent and understanding by nature."
       ]
      },
      {
       "output_type": "stream",
       "stream": "stdout",
       "text": [
        "\n",
        "479"
       ]
      },
      {
       "output_type": "stream",
       "stream": "stdout",
       "text": [
        " http://www.simplymarry.com/matrimonial/groom/SMM1535275/Hindu/Kadam-Nikhil-Patil\n",
        "i am cool and soft person friendly nature am helping to poor families and street children and some times we can go to old age homes donate money and clothes fruits and donate clothes school bags to street children."
       ]
      },
      {
       "output_type": "stream",
       "stream": "stdout",
       "text": [
        "\n",
        "480"
       ]
      },
      {
       "output_type": "stream",
       "stream": "stdout",
       "text": [
        " http://www.simplymarry.com/matrimonial/groom/SMM1476900/Hindu/Koli/Nandraj-Waghmare\n",
        "Hi I am Nandraj. I am simple and responsible man; i think marriages are made in heaven. I am looking for a life partner who is caring, loving and can make my home a sweet home."
       ]
      },
      {
       "output_type": "stream",
       "stream": "stdout",
       "text": [
        "\n",
        "481"
       ]
      },
      {
       "output_type": "stream",
       "stream": "stdout",
       "text": [
        " http://www.simplymarry.com/matrimonial/groom/SMM1580326/Hindu/Adesh-Jadhav\n",
        "I am from a middle class family, so seek for a life partner from same family status. Someone who is staying in Mumbai or Pune."
       ]
      },
      {
       "output_type": "stream",
       "stream": "stdout",
       "text": [
        "\n",
        "482"
       ]
      },
      {
       "output_type": "stream",
       "stream": "stdout",
       "text": [
        " http://www.simplymarry.com/matrimonial/groom/SMM1496570/Hindu/Maratha/Rahul-Kobal\n",
        "Hi, I am Rahul Kobal from Khed-Rajgurunagar (Pune). I am Career Oriented boy, with Straight forward nature. I am living in Vashi (Navi Mumbai). My hobbies are reading Chetan Bhagat Books, watching movies. I am looking for a person having career oriented nature &amp; loving, caring nature. I have completed my D-Pharmacy, B.SC (Biotech) and last from 4 years working with Pharmaceutical companies. I am also completing my MBA in Marketing. I am Looking for the good looking and well educated Life Partner."
       ]
      },
      {
       "output_type": "stream",
       "stream": "stdout",
       "text": [
        "\n",
        "483"
       ]
      },
      {
       "output_type": "stream",
       "stream": "stdout",
       "text": [
        " http://www.simplymarry.com/matrimonial/groom/SMM1528727/Hindu/Kunbi/Gopichand-Panghate\n",
        "Hi, I am fun loving guy, interested in travelling and hanging with friends. Interested in making friends and try to solve there problem if could, I get happyness by making others happy. Always try to work hard to get what I want.."
       ]
      },
      {
       "output_type": "stream",
       "stream": "stdout",
       "text": [
        "\n",
        "484"
       ]
      },
      {
       "output_type": "stream",
       "stream": "stdout",
       "text": [
        " http://www.simplymarry.com/matrimonial/groom/SMM1629101/Christian/Protestant/Sandeep-Satish-Gaikwad\n",
        "My brother is handsome, hard working, honest man, had a brief marriage of 5 months and divorced with no issues. I believe in God and his plans for each one of us. He is looking for a loving and encouraging life partner."
       ]
      },
      {
       "output_type": "stream",
       "stream": "stdout",
       "text": [
        "\n",
        "485"
       ]
      },
      {
       "output_type": "stream",
       "stream": "stdout",
       "text": [
        " http://www.simplymarry.com/matrimonial/groom/SMM1485924/Hindu/Brahmin/Sagar-Vaidya-Vaidya\n",
        "I am from Pune, i am very coolest person in my family, i have passed M.Com from pune university; presently working as a Sr. Accountant in Pvt Ltd. company. In My Family are my Retired Father, Mother - Home Maker, &amp; One Married Elder brother is settled in Gurgaon Haryana."
       ]
      },
      {
       "output_type": "stream",
       "stream": "stdout",
       "text": [
        "\n",
        "486"
       ]
      },
      {
       "output_type": "stream",
       "stream": "stdout",
       "text": [
        " http://www.simplymarry.com/matrimonial/groom/SMM1517014/Buddhist/Jake\n",
        "I born &amp; brought up in Mumbai. By profession I am a civil engineering &amp; working with one of the largest oil &amp; gas company of the world. I am looking for some one who is caring, loving &amp; understanding."
       ]
      },
      {
       "output_type": "stream",
       "stream": "stdout",
       "text": [
        "\n",
        "487"
       ]
      },
      {
       "output_type": "stream",
       "stream": "stdout",
       "text": [
        " http://www.simplymarry.com/matrimonial/groom/SMM1623290/Hindu/Bhandari/Jayesh-Sonsulkar\n",
        "Am B.Sc graduate in Science (Chemistry) from Mumbai University,. Have also done Computer Diploma in Software Exports (NIIT), Diploma in Graphics &amp; Animation (EDIT) and Diploma in Web Application (ZAP). Am a self employed professional owning an independent internet Computer center in Mumbai."
       ]
      },
      {
       "output_type": "stream",
       "stream": "stdout",
       "text": [
        "\n",
        "488"
       ]
      },
      {
       "output_type": "stream",
       "stream": "stdout",
       "text": [
        " http://www.simplymarry.com/matrimonial/groom/SMM1523749/Hindu/Kokanastha-Maratha/Vinod-Ghadigaonkar\n",
        "My marriage lasted hardly for just 3 months as shall discuss in detail once contacted, am a very understanding, straight forward and broadminded person. my hobbies are reading, listening to music, adventure sports, football, cricket."
       ]
      },
      {
       "output_type": "stream",
       "stream": "stdout",
       "text": [
        "\n",
        "489"
       ]
      },
      {
       "output_type": "stream",
       "stream": "stdout",
       "text": [
        " http://www.simplymarry.com/matrimonial/groom/SMM1496718/Hindu/Brahmin---Daivadnya/Prashant\n",
        "Am a person who live life with fun and happiness, people say I fill my surrounding with joy and happiness. I respect moral values but hate moral policing. I love to visit new places and cannot stop myself to experiment new and happening things."
       ]
      },
      {
       "output_type": "stream",
       "stream": "stdout",
       "text": [
        "\n",
        "490"
       ]
      },
      {
       "output_type": "stream",
       "stream": "stdout",
       "text": [
        " http://www.simplymarry.com/matrimonial/groom/SMM1475334/Hindu/Brahmin---Deshastha/Gajanan-Hari-Tare\n",
        "Hi, i am simple being professionally a civil engineer, working as of now but aspire to have my own consortium by next five years. As a person, i am a visionary, kindhearted as well go getter. \"Treat every being as we care for our client or customer\" is my motto. Also i am in reiki, pranic healing and daily meditation. Fitness forms a part of my daily routine \"people who don't find time for daily physical fitness must soon find time for daily physical illness\"."
       ]
      },
      {
       "output_type": "stream",
       "stream": "stdout",
       "text": [
        "\n",
        "491"
       ]
      },
      {
       "output_type": "stream",
       "stream": "stdout",
       "text": [
        " http://www.simplymarry.com/matrimonial/groom/SMM1595584/Hindu/Maratha/Amol-Arvind-Wagh\n",
        "I am a fun loving guy, very optimistic towards life you will always find me smiling ,kind hearted and generous , confident and down to earth at the same time.. i love long drives and /love riding too.. I am working with an IT company as Asst. Manager in HR. ( convent educated) Looking for another amazing personality as a life partner."
       ]
      },
      {
       "output_type": "stream",
       "stream": "stdout",
       "text": [
        "\n",
        "492"
       ]
      },
      {
       "output_type": "stream",
       "stream": "stdout",
       "text": [
        " http://www.simplymarry.com/matrimonial/groom/SMM1601600/Hindu/Maratha/Raju-Shelar\n",
        "I am the eldest son of my family. Have two younger brothers. 1st one is MBBS Doctor, preparing for MD exams and youngest one is a Computer Software engineer employed and also pursing M.Tech 1st year course. I got admitted to an Engineering college free seat in general merit in E and TC but left it as i plan to be self-employed and manage my family business."
       ]
      },
      {
       "output_type": "stream",
       "stream": "stdout",
       "text": [
        "\n",
        "493"
       ]
      },
      {
       "output_type": "stream",
       "stream": "stdout",
       "text": [
        " http://www.simplymarry.com/matrimonial/groom/SMM1570752/Hindu/Brahmin/Ashwin-Shashikant-Desai\n",
        "I come from simple brahmin family having full of cultural values. I have good looking, smart, decent and well versed personality. My hobbies are writing articles and playing musical instruments. I am a teetotaler (nirvyasani) and am not addicted to any bad habits."
       ]
      },
      {
       "output_type": "stream",
       "stream": "stdout",
       "text": [
        "\n",
        "494"
       ]
      },
      {
       "output_type": "stream",
       "stream": "stdout",
       "text": [
        " http://www.simplymarry.com/matrimonial/groom/SMM1597489/Hindu/Rishi-Deshpande\n",
        "Hello, I am Rishi Deshpande, working in Pune. Looking for a true relationship."
       ]
      },
      {
       "output_type": "stream",
       "stream": "stdout",
       "text": [
        "\n",
        "495"
       ]
      },
      {
       "output_type": "stream",
       "stream": "stdout",
       "text": [
        " http://www.simplymarry.com/matrimonial/groom/SMM1574463/Hindu/Brahmin---Deshastha/Kuldeep-D-Sardeshmukh\n",
        "Hi, i am Kuldeep, born &amp; bought up in Pune. In my family: me, mother &amp; sister. Mother is a homemaker, sister got married &amp; i am working in the private company. Father passed away. Am very fun loving person in nature."
       ]
      },
      {
       "output_type": "stream",
       "stream": "stdout",
       "text": [
        "\n",
        "496"
       ]
      },
      {
       "output_type": "stream",
       "stream": "stdout",
       "text": [
        " http://www.simplymarry.com/matrimonial/groom/SMM1476566/Hindu/Maratha/Swapnil-Bhosle\n",
        "LOOKING FOR A SUITABLE MATCH FROM CULTURED MAHARASHTRA 96 KULI MARATHA FAMILY. I AM PRESENTLY WORKING IN FINLAND BASED MNC IN MUMBAI AND MY NATIVE PLACE IS NAGPUR. A WORKING GIRL IS PREFERRED."
       ]
      },
      {
       "output_type": "stream",
       "stream": "stdout",
       "text": [
        "\n",
        "497"
       ]
      },
      {
       "output_type": "stream",
       "stream": "stdout",
       "text": [
        " http://www.simplymarry.com/matrimonial/groom/SMM1554007/Hindu/Kunbi/Pradip\n",
        "I am simple, confident and down to earth person. I am working as Senior Software Professional at MNC. I am looking for a life partner who is educated, understandable in nature and with positive attitude."
       ]
      },
      {
       "output_type": "stream",
       "stream": "stdout",
       "text": [
        "\n",
        "498"
       ]
      },
      {
       "output_type": "stream",
       "stream": "stdout",
       "text": [
        " http://www.simplymarry.com/matrimonial/groom/SMM1503022/Hindu/Vaishya-Vani/Chetankumar-Malpure\n",
        "Hi, This is Chetankumar. My hometown is in Nashik (Maharashtra)I like to reading story books, surfing internet and traveling. I like to accept the challenges and complete that Challenge. I am enjoying every moment of my life."
       ]
      },
      {
       "output_type": "stream",
       "stream": "stdout",
       "text": [
        "\n",
        "499"
       ]
      },
      {
       "output_type": "stream",
       "stream": "stdout",
       "text": [
        " http://www.simplymarry.com/matrimonial/groom/SMM1478621/Hindu/Kunbi/Nitin-Bobde\n",
        "I am a simple and down to earth person. Looking for a partner whom I'll consider as my equal and believe in taking decisions with mutual understanding. Am from chandrapur and employed in MNC in Pune as a Software professional."
       ]
      },
      {
       "output_type": "stream",
       "stream": "stdout",
       "text": [
        "\n",
        "500"
       ]
      },
      {
       "output_type": "stream",
       "stream": "stdout",
       "text": [
        " http://www.simplymarry.com/matrimonial/groom/SMM1467241/Buddhist/Vijay-Kumar-Chopade\n",
        "work is worship for me, i have values for my work more than myself. i love to have free minded woman. i love adventures, ambitions are the most important things in my life and i love to fulfill it."
       ]
      },
      {
       "output_type": "stream",
       "stream": "stdout",
       "text": [
        "\n",
        "501"
       ]
      },
      {
       "output_type": "stream",
       "stream": "stdout",
       "text": [
        " http://www.simplymarry.com/matrimonial/groom/SMM1549291/Hindu/Brahmin---Deshastha/Major-Prasad-Bansod\n",
        "Hi I am Major in Army, selected through NDA. I like reading, music. I am a divorce and want to marry a presentable and self dependable girl. Prferably Marathi speaking girl. She should be any graduate or divorce."
       ]
      },
      {
       "output_type": "stream",
       "stream": "stdout",
       "text": [
        "\n",
        "502"
       ]
      },
      {
       "output_type": "stream",
       "stream": "stdout",
       "text": [
        " http://www.simplymarry.com/matrimonial/groom/SMM1473987/Hindu/Brahmin---Deshastha/Samir-M.-Ashtikar\n",
        "Our son is a mature and balanced person with respect for elders. He is very caring, helpful, down to earth and gives equal importance to career and family. He likes spending time with family and close friends. He is quite tech-savvy and his hobbies include internet surfing, watching English movies, driving and reading. He is jovial and easily gels with people. He firmly believes in God and respects the Indian culture and value system. He has had an outstanding academic &amp; professional journey so far. He has done his schooling from CBSE. He stood 1st in Vadodara city and 9th in Gujarat state in the 12th Board exams and also received the Dhirubhai Ambani Scholarship. He stood first in final year of BE (Mechanical) and got Distinction with 2 Gold Medals from Maharaja Sayajirao University (MSU) of Vadodara. Currently, he is pursuing MBA from ICFAI University via distance learning. He is currently working in Oil and Gas sector as a Deputy Manager. He is a module lead in SAP Implementation project. Having worked in the Supply Chain function for four years, he then became the SAP Super User for MM Module in his company and received a two-week training in the company headquarters in the UK in 2008. He visited the UK for receiving SAP Super User award for his project work in 2010. He has also won multiple awards &amp; recognition in his company for his work. We are a very close knit family of 4 members, based at Vadodara. FATHER: U. K. trained Mech. Engr. Worked as G.M, CEO, President etc. Currently retired. MOTHER: Homemaker, M.A. 1st Class with Sanskrit from Pune Uni, UGC Scholar. SISTER: Elder, married, PG Diploma in Business Management, currently pursuing MBA (distance learning)."
       ]
      },
      {
       "output_type": "stream",
       "stream": "stdout",
       "text": [
        "\n",
        "503"
       ]
      },
      {
       "output_type": "stream",
       "stream": "stdout",
       "text": [
        " http://www.simplymarry.com/matrimonial/groom/SMM1483518/Hindu/Maratha/Sankalp-Keshav-Gawde\n",
        "Hi, I am 26 Yrs old. Staying in Mumbai, Virar, Working in a Clinical Research sector as a lead data manager at TCS. I am a person who loves to live life simple. I have done M.Sc in Clinical Research after B.Sc. in Chemistry. Completed LLB 1st year."
       ]
      },
      {
       "output_type": "stream",
       "stream": "stdout",
       "text": [
        "\n",
        "504"
       ]
      },
      {
       "output_type": "stream",
       "stream": "stdout",
       "text": [
        " http://www.simplymarry.com/matrimonial/groom/SMM1473532/Hindu/Bhavasar-Kshatriya/A-L-Jagadeeshwara\n",
        "I am looking for a suitable girl who is understandable towards me and my family; she should be good looking and obey the elders, she should be more confidence about herself and should be self motivated."
       ]
      },
      {
       "output_type": "stream",
       "stream": "stdout",
       "text": [
        "\n",
        "505"
       ]
      },
      {
       "output_type": "stream",
       "stream": "stdout",
       "text": [
        " http://www.simplymarry.com/matrimonial/groom/SMM1517223/Hindu/Sumit-Gaikwad\n",
        "Straight forward, party loving, business oriented, practical, love to go on beaches, like to play chess, like to listen good music."
       ]
      },
      {
       "output_type": "stream",
       "stream": "stdout",
       "text": [
        "\n",
        "506"
       ]
      },
      {
       "output_type": "stream",
       "stream": "stdout",
       "text": [
        " http://www.simplymarry.com/matrimonial/groom/SMM1494461/Hindu/Chambhar/Rnh\n",
        "Smart, confident, caring person. working in merchant navy as an engineer. living in Goa. Expecting a good looking girl. Education, employed or non employed no bar, simply expecting good match for better half of life."
       ]
      },
      {
       "output_type": "stream",
       "stream": "stdout",
       "text": [
        "\n",
        "507"
       ]
      },
      {
       "output_type": "stream",
       "stream": "stdout",
       "text": [
        " http://www.simplymarry.com/matrimonial/groom/SMM1466031/Hindu/Brahmin---Saraswat/Abhishek-Mantri\n",
        "I'm Abhishek Mantri, 27 yr old software professional from Thane, currently working in Amdocs, pune. I like to travel, read, listening to music etc. Not an introvert but I take my own time, while making new friends. I'm a firm believer of total honesty and commitment in a romantic relationship. I'm looking for a person who can be my friend first. Understanding, down to earth, modern yet valuing traditions, trustworthy, practical, hard working. One who can respect my family. I'm looking for a partner who shares my values, who understands the language of silence. My partner can expect same from me."
       ]
      },
      {
       "output_type": "stream",
       "stream": "stdout",
       "text": [
        "\n",
        "508"
       ]
      },
      {
       "output_type": "stream",
       "stream": "stdout",
       "text": [
        " http://www.simplymarry.com/matrimonial/groom/SMM1488085/Hindu/Makrand-Eliza\n",
        "I am a fun loving guy and wish to marry a girl who is very friendly loving enthusiastic. she shall take care of my parents and she will be the happiest girl in the world with me."
       ]
      },
      {
       "output_type": "stream",
       "stream": "stdout",
       "text": [
        "\n",
        "509"
       ]
      },
      {
       "output_type": "stream",
       "stream": "stdout",
       "text": [
        " http://www.simplymarry.com/matrimonial/groom/SMM1493467/Christian/Catholic/Alfonse-Mathew\n",
        "Cool calm &amp; calculative. Mother is a christian Maharashtrian and father is a south indian. I have an elder sister who is an IT professional. Family resides in Aurangabad while i stay in Mumbai. Belong to a upper middle class family."
       ]
      },
      {
       "output_type": "stream",
       "stream": "stdout",
       "text": [
        "\n",
        "510"
       ]
      },
      {
       "output_type": "stream",
       "stream": "stdout",
       "text": [
        " http://www.simplymarry.com/matrimonial/groom/SMM1503428/Buddhist/Ankur-W\n",
        "About Me: I am caring, loyal and a liberal person with great ambitions yet down to earth and I consciously keep family on priority.I dream big and plan for making it to reality. Mutual space is the key of any relationship and I love to give space to others. Being from an artistic blend family, music is my first passion. I like dance, theatre ,fitness and travelling also. I intend to be a dependable, caring and a loving partner. About Family: We are a closely-knit happy family.An Educated, social having belief in cultural &amp; spiritual values. Father working as Manager in Govt. Bank, Mother VRS from PSU Bank, Younger sister working as Business Coordinator Manager after completion of her LLB/PGDM. Education and work B.E. (Computer Science) from Nagpur University (Raisoni College). At present pursuing MBA(PGDIT) from Symbiosis Pune. Currently working with reputed CMMI Level 5 IT company in Pune as a Senior Software Developer. Prefered Partner: Looking for a compatible person who can be my best friend.One who is ambitious, Believes in Family values, caring and above all fun loving and who has artistic blend in her personality.She should have love for the young ones and respect for elders."
       ]
      },
      {
       "output_type": "stream",
       "stream": "stdout",
       "text": [
        "\n",
        "511"
       ]
      },
      {
       "output_type": "stream",
       "stream": "stdout",
       "text": [
        " http://www.simplymarry.com/matrimonial/groom/SMM1496426/Hindu/Maratha/Prashant\n",
        "I am a simple, down to earth and family oriented person."
       ]
      },
      {
       "output_type": "stream",
       "stream": "stdout",
       "text": [
        "\n",
        "512"
       ]
      },
      {
       "output_type": "stream",
       "stream": "stdout",
       "text": [
        " http://www.simplymarry.com/matrimonial/groom/SMM1600279/Jain/Jain-Others/Rahul\n",
        "Easy going, ambitious, modern in views and have traditional values. Looking for a like minded girl who can be adjustable. Religion, caste or language no bar."
       ]
      },
      {
       "output_type": "stream",
       "stream": "stdout",
       "text": [
        "\n",
        "513"
       ]
      },
      {
       "output_type": "stream",
       "stream": "stdout",
       "text": [
        " http://www.simplymarry.com/matrimonial/groom/SMM1572109/Buddhist/Vivek-Tayade\n",
        "Very open minded person, did my graduation from Pune, post graduation from Pune university. Seeking for a caring, supportive and friendly life partner."
       ]
      },
      {
       "output_type": "stream",
       "stream": "stdout",
       "text": [
        "\n",
        "514"
       ]
      },
      {
       "output_type": "stream",
       "stream": "stdout",
       "text": [
        " http://www.simplymarry.com/matrimonial/groom/SMM1506976/Hindu/Maratha/Vilas-Salunke\n",
        "Hi, My self vilas salunke from surat. I am very frank and straight forward person who believes in practicality. As I am an interior designer, I do job as well as professional practice also. I am well focused on my career and as family responsibilities are part of life, I always handle them very calmly."
       ]
      },
      {
       "output_type": "stream",
       "stream": "stdout",
       "text": [
        "\n",
        "515"
       ]
      },
      {
       "output_type": "stream",
       "stream": "stdout",
       "text": [
        " http://www.simplymarry.com/matrimonial/groom/SMM1605190/Hindu/Kokanastha-Maratha/Ketan-Vijay-Shinde\n",
        "My brother is happy go-lucky and hard working person who is liberal in values. He is a perfect blend of modern and traditional values, helpful and gets along very well with people from different strata and is brought in a well cultured family."
       ]
      },
      {
       "output_type": "stream",
       "stream": "stdout",
       "text": [
        "\n",
        "516"
       ]
      },
      {
       "output_type": "stream",
       "stream": "stdout",
       "text": [
        " http://www.simplymarry.com/matrimonial/groom/SMM1602563/Hindu/Maratha/Vikas-Ahinave\n",
        "I am simple, straightforward &amp; friendly person, working as Partner of well reputed CA firm in Pimpri chinchwad. I love spending time with family and friends. I am looking for a career opportunities in abroad. I am looking for a partner who is understanding and caring."
       ]
      },
      {
       "output_type": "stream",
       "stream": "stdout",
       "text": [
        "\n",
        "517"
       ]
      },
      {
       "output_type": "stream",
       "stream": "stdout",
       "text": [
        " http://www.simplymarry.com/matrimonial/groom/SMM1484059/Hindu/Maratha/Mangesh-Kisan-Tambe\n",
        "I AM VERY FREE MINDED AND SIMPLE PERSON; FROM A JOINT FAMILY; I AM SELF EMPLOYED, HAVE TAKEN OVER MY DAD'S OWN BUSINESS FROM LAST THREE MONTH."
       ]
      },
      {
       "output_type": "stream",
       "stream": "stdout",
       "text": [
        "\n",
        "518"
       ]
      },
      {
       "output_type": "stream",
       "stream": "stdout",
       "text": [
        " http://www.simplymarry.com/matrimonial/groom/SMM1500646/Hindu/Maratha/Amar-Dolare\n",
        "Am a highly motivated, quick learner and hard working person. who has no problem to work in team. i believe in proving my best in whatever responsibility that is entrusted to me and i make sure that my work is completed in very professional manner."
       ]
      },
      {
       "output_type": "stream",
       "stream": "stdout",
       "text": [
        "\n",
        "519"
       ]
      },
      {
       "output_type": "stream",
       "stream": "stdout",
       "text": [
        " http://www.simplymarry.com/matrimonial/groom/SMM1534047/Hindu/Maratha/Arun-Nikam\n",
        "I am down to earth, confident, smart, fun loving, and caring as well. I believe in living in the present with an eye on the future and believe in enjoying every moment of life. I like to travel and reading books."
       ]
      },
      {
       "output_type": "stream",
       "stream": "stdout",
       "text": [
        "\n",
        "520"
       ]
      },
      {
       "output_type": "stream",
       "stream": "stdout",
       "text": [
        " http://www.simplymarry.com/matrimonial/groom/SMM1473988/Hindu/Brahmin---Deshastha/Abhinav-Nilangekar\n",
        "I am a very jovial &amp; jolly person. I simply love trekking, traveling &amp; love all kind of adventurous sports &amp; also have a great taste for all kinds of music. Also at the same time I am a very spiritual person although being very modern externally. I have certain ethical standards for my life and which I think is a must for every conscious person. Currently I am working with an Infrastructure company as a Sr. Executive at Mumbai. I believe in living a quality life with the family values with which I have brought up."
       ]
      },
      {
       "output_type": "stream",
       "stream": "stdout",
       "text": [
        "\n",
        "521"
       ]
      },
      {
       "output_type": "stream",
       "stream": "stdout",
       "text": [
        " http://www.simplymarry.com/matrimonial/groom/SMM1528285/Hindu/Brahmin/Malay-Khanwalkar\n",
        "Hi. I am a software consultant working in Pune. I have a masters in Business Administration degree in Marketing and Systems. I love playing Basketball from childhood and been part of teams at various levels. I enjoy swimming and Table Tennis too. Friends call me a jovial person with some wacky / mundane sense of humor."
       ]
      },
      {
       "output_type": "stream",
       "stream": "stdout",
       "text": [
        "\n",
        "522"
       ]
      },
      {
       "output_type": "stream",
       "stream": "stdout",
       "text": [
        " http://www.simplymarry.com/matrimonial/groom/SMM1540168/Hindu/Maratha/Sunil-Sathyanarayana\n",
        "Hello, this is Sunil from Bangalore working with a MNC. My family name is \"Suryavamshi\". I am Simple , fun loving and a Hard working person and I like my family a lot. I respect every individuals point of view and have a positive approach towards my life looking forward for a girl traditional values who could accept me and my family as her own family."
       ]
      },
      {
       "output_type": "stream",
       "stream": "stdout",
       "text": [
        "\n",
        "523"
       ]
      },
      {
       "output_type": "stream",
       "stream": "stdout",
       "text": [
        " http://www.simplymarry.com/matrimonial/groom/SMM1566994/Christian/Protestant/Vivek-Mhankiale\n",
        "This is Vivek Mhankale. I am from Pune. I have completed MCS. Currently working in MNC as a System Admin(IT) from past 5 years. I am a fun loving, god fearing person. Looking for appropriate match. Girl should be well educated and good looking."
       ]
      },
      {
       "output_type": "stream",
       "stream": "stdout",
       "text": [
        "\n",
        "524"
       ]
      },
      {
       "output_type": "stream",
       "stream": "stdout",
       "text": [
        " http://www.simplymarry.com/matrimonial/groom/SMM1469098/Hindu/Brahmin---Rigvedi/Shripad-Bhong\n",
        "Down to earth person, born &amp; brought in Ahmednagar in a Nuclear family. I am looking for a partner who can understand me &amp; my parents."
       ]
      },
      {
       "output_type": "stream",
       "stream": "stdout",
       "text": [
        "\n",
        "525"
       ]
      },
      {
       "output_type": "stream",
       "stream": "stdout",
       "text": [
        " http://www.simplymarry.com/matrimonial/groom/SMM1468967/Hindu/Koli-Mahadev/Vishal-Ashok-Rokade\n",
        "I am calm, caring, understanding in nature. I love to roam, read, music etc. I am passionate about my aspirations and aims in life. I value and respect the relations in my life. I am from Middle Class family."
       ]
      },
      {
       "output_type": "stream",
       "stream": "stdout",
       "text": [
        "\n",
        "526"
       ]
      },
      {
       "output_type": "stream",
       "stream": "stdout",
       "text": [
        " http://www.simplymarry.com/matrimonial/groom/SMM1573474/Hindu/Brahmin---Saraswat/Ganesh-Pednekar\n",
        "I am a simple fun loving person and always like to enjoy life to the fullest. Like to visit new places, watching movies, going to gym and eating food. Currently looking for a partner who can understand me and accept me the way i am."
       ]
      },
      {
       "output_type": "stream",
       "stream": "stdout",
       "text": [
        "\n",
        "527"
       ]
      },
      {
       "output_type": "stream",
       "stream": "stdout",
       "text": [
        " http://www.simplymarry.com/matrimonial/groom/SMM1463305/Hindu/Mahar/Rajendra-Bansidhappa-Gaikwad\n",
        "I work as a Civil Engineer with the government of Maharashtra. Am straight forward, kind, loving, caring kind of a person. My hobbies are reading almost any kind of book that I lay my hands on, watching cricket matches. Snaps of mine displayed here have been clicked just 4 months ago."
       ]
      },
      {
       "output_type": "stream",
       "stream": "stdout",
       "text": [
        "\n",
        "528"
       ]
      },
      {
       "output_type": "stream",
       "stream": "stdout",
       "text": [
        " http://www.simplymarry.com/matrimonial/groom/SMM1473217/Jain/Digambar/Sourabh-Shikhare\n",
        "Hi, I have completed my Masters in Management.Currently I am working as Director in a Technology company co-founded by me which is in space of capital markets. I am confident and outgoing person. I like to go out meet friends, network with people from various industry. Besides I like to go on adventure sports like trekking, white water rafting etc; I like sports. I personally play tennis and cricket. I watch Soccer, Tennis and Cricket. I am die hard Barcelona Fan. Favorite sports: Cricket, Soccer and tennis."
       ]
      },
      {
       "output_type": "stream",
       "stream": "stdout",
       "text": [
        "\n",
        "529"
       ]
      },
      {
       "output_type": "stream",
       "stream": "stdout",
       "text": [
        " http://www.simplymarry.com/matrimonial/groom/SMM1494130/Hindu/Lingayath/Yogesh\n",
        "Am a person who live life with fun and happiness; people say I fill my surrounding with joy and happiness. I respect moral values but hate moral policing. I love to visit new places and cannot stop myself to experiment new and happening things."
       ]
      },
      {
       "output_type": "stream",
       "stream": "stdout",
       "text": [
        "\n",
        "530"
       ]
      },
      {
       "output_type": "stream",
       "stream": "stdout",
       "text": [
        " http://www.simplymarry.com/matrimonial/groom/SMM1591646/Hindu/Brahmin---Saraswat/Rohit-S.-Marathe\n",
        "I consider myself a pragmatic person with clearly defined family values, trying to integrate orthodox ideas with those modern- at a feasible, moderate level. An ambitious and hardworking person, I aspire to keep challenging myself towards higher goals in the quest for a brighter future and a better \"me\". I am an MBA (Sales and Marketing), currently working as a DGM with private company in Mumbai. I am an avid reader, love discovering new destinations, enjoy the sound of melodious music, like to have a good conversation and believe in working out to keep myself fit and healthy."
       ]
      },
      {
       "output_type": "stream",
       "stream": "stdout",
       "text": [
        "\n",
        "531"
       ]
      },
      {
       "output_type": "stream",
       "stream": "stdout",
       "text": [
        " http://www.simplymarry.com/matrimonial/groom/SMM1506809/Hindu/Nhavi/Jitendra\n",
        "I am a cool kind of person, caring, positive attitude, hate violence in any form. I am a person who believes in focusing on the solution, future rather than the problem or past, love to visit new places."
       ]
      },
      {
       "output_type": "stream",
       "stream": "stdout",
       "text": [
        "\n",
        "532"
       ]
      },
      {
       "output_type": "stream",
       "stream": "stdout",
       "text": [
        " http://www.simplymarry.com/matrimonial/groom/SMM1572339/Hindu/Chambhar/Vishal-Sopan-Borhade\n",
        "I am fun loving guy. I like music, traveling, food &amp; my home. I have pets &amp; i love them. I believe in culture. My target is to be a good business man in future &amp; i had done enough things in my life. I like Professionalism. We are big family. I am staying with my mother &amp; father &amp; they both are loving &amp; filmy"
       ]
      },
      {
       "output_type": "stream",
       "stream": "stdout",
       "text": [
        "\n",
        "533"
       ]
      },
      {
       "output_type": "stream",
       "stream": "stdout",
       "text": [
        " http://www.simplymarry.com/matrimonial/groom/SMM1600883/Hindu/Bhandari/Sachin\n",
        "I am born and brought up in Mumbai. I am a very simple, polite, kindhearted, sensible, committed, talented, not well educated, understanding, adventurous, emotional person, yet hard-working and confident having positive outlook towards life. I am looking forward to settled with kindhearted and understanding woman, who will shower lots of love to me and my family."
       ]
      },
      {
       "output_type": "stream",
       "stream": "stdout",
       "text": [
        "\n",
        "534"
       ]
      },
      {
       "output_type": "stream",
       "stream": "stdout",
       "text": [
        " http://www.simplymarry.com/matrimonial/groom/SMM1484743/Jain/Digambar/Siddhant-Awati\n",
        "I am a very friendly and cool person. I like to learn new things, travelling, swimming, movies, music are my hobbies. I like people who respect elders and value them. I am not that addicted to reading but love to read short stories and fiction. I am working in IT company and have total of 3.8 years of experience."
       ]
      },
      {
       "output_type": "stream",
       "stream": "stdout",
       "text": [
        "\n",
        "535"
       ]
      },
      {
       "output_type": "stream",
       "stream": "stdout",
       "text": [
        " http://www.simplymarry.com/matrimonial/groom/SMM1596744/Hindu/Teli/Rutesh-Lonkar\n",
        "Hi, am Rutesh Lonkar. I did M.Tech in communication and now working as an Associate professor in the reputed college of engineering. I am down to earth and god fearing person and looking for someone suitable."
       ]
      },
      {
       "output_type": "stream",
       "stream": "stdout",
       "text": [
        "\n",
        "536"
       ]
      },
      {
       "output_type": "stream",
       "stream": "stdout",
       "text": [
        " http://www.simplymarry.com/matrimonial/groom/SMM1484519/Hindu/Brahmin---Kokanastha/Manjeet-Gole\n",
        "I am a friendly, caring and very down to earth person."
       ]
      },
      {
       "output_type": "stream",
       "stream": "stdout",
       "text": [
        "\n",
        "537"
       ]
      },
      {
       "output_type": "stream",
       "stream": "stdout",
       "text": [
        " http://www.simplymarry.com/matrimonial/groom/SMM1472535/Hindu/Brahmin---Saraswat/Rahul-Dhond\n",
        "I have completed my MBA in Finance and Mcom in account and currently working in US bank as Team Supervisor. I am looking for bride preferably from Mumbai, Thane or Pune."
       ]
      },
      {
       "output_type": "stream",
       "stream": "stdout",
       "text": [
        "\n",
        "538"
       ]
      },
      {
       "output_type": "stream",
       "stream": "stdout",
       "text": [
        " http://www.simplymarry.com/matrimonial/groom/SMM1471900/Hindu/Maratha/San-Deep\n",
        "Hi, this is Sandeep, a simple, honest, handsome, confident and a fun loving person. Originally from Mumbai; currently settled at Pune. Convent educated and a post graduate with a certificate from Microsoft Corp and presently, working for a well known MNC."
       ]
      },
      {
       "output_type": "stream",
       "stream": "stdout",
       "text": [
        "\n",
        "539"
       ]
      },
      {
       "output_type": "stream",
       "stream": "stdout",
       "text": [
        " http://www.simplymarry.com/matrimonial/groom/SMM1500218/Hindu/Brahmin---Deshastha/Chaitanya-Bhise\n",
        "I like to read, travel a lot. Looking for some who is like minded and will stand by me through thick and thin and expect the same from me too. I like to live my life to the fullest with no regrets whatsoever."
       ]
      },
      {
       "output_type": "stream",
       "stream": "stdout",
       "text": [
        "\n",
        "540"
       ]
      },
      {
       "output_type": "stream",
       "stream": "stdout",
       "text": [
        " http://www.simplymarry.com/matrimonial/groom/SMM1503975/Hindu/Brahmin---Deshastha/Rushikesh-Samudra\n",
        "I am passionate about coding. I love to read fictional novels and have written and published one. It's titled, \"The God Who Failed\" and it's available at Amazon.com and Crosswords across India. I am a down to earth person."
       ]
      },
      {
       "output_type": "stream",
       "stream": "stdout",
       "text": [
        "\n",
        "541"
       ]
      },
      {
       "output_type": "stream",
       "stream": "stdout",
       "text": [
        " http://www.simplymarry.com/matrimonial/groom/SMM1469572/Buddhist/Prashant-Sarode\n",
        "This is Prashant. I am caring, understanding and fun loving guy. Belong to a well educated family. Father is Govt. Employee &amp; Mother is house-wife. I have one elder brother &amp; one younger sister (both r married). Brother has done BE(ETC) &amp; Sister has done M.C.M. I have done Bachelors Degree BCS from Ahmednagar, Masters degree M.C.M. &amp; M.B.A. from Beed. Currently working as Marketing Executive at MKCL's RLC in Beed. Also I take coaching of Comp. Prog. Languages for Computer Sci students. I respect family values &amp; expect same form my partner"
       ]
      },
      {
       "output_type": "stream",
       "stream": "stdout",
       "text": [
        "\n",
        "542"
       ]
      },
      {
       "output_type": "stream",
       "stream": "stdout",
       "text": [
        " http://www.simplymarry.com/matrimonial/groom/SMM1521707/Buddhist/Pranjal-Chaore\n",
        "I am a Homoeopathic physician practicing in Nagpur at my clinic. I don't have any brother or sister."
       ]
      },
      {
       "output_type": "stream",
       "stream": "stdout",
       "text": [
        "\n",
        "543"
       ]
      },
      {
       "output_type": "stream",
       "stream": "stdout",
       "text": [
        " http://www.simplymarry.com/matrimonial/groom/SMM1505452/Hindu/Pravin-Nerkar\n",
        "I have done B.E.in Computer science from PICT Pune , currently working with Microsoft India as Development Lead , worked earlier with Infosys Technology, travelled, worked in CANADA and UK for 1 Years, Well settled in Pune since 10 years ,"
       ]
      },
      {
       "output_type": "stream",
       "stream": "stdout",
       "text": [
        "\n",
        "544"
       ]
      },
      {
       "output_type": "stream",
       "stream": "stdout",
       "text": [
        " http://www.simplymarry.com/matrimonial/groom/SMM1463978/Hindu/Uday-Kolapkar\n",
        "Very optimistic &amp; energetic towards life. Like to interact people from various fields &amp; specialty. Highly social&amp; like to help people &amp; friends. Always like to read something. Interested in music, dramas and movies. Very serious about work &amp; carrier. Living alone in Mumbai."
       ]
      },
      {
       "output_type": "stream",
       "stream": "stdout",
       "text": [
        "\n",
        "545"
       ]
      },
      {
       "output_type": "stream",
       "stream": "stdout",
       "text": [
        " http://www.simplymarry.com/matrimonial/groom/SMM1488277/Hindu/Brahmin---Deshastha/Swanand-Sandiprao-Gite\n",
        "Hi, Am fun loving, caring &amp; soft spoken. I like traveling, photography. I have two sisters both are married, From last 6 yrs am in Hyderabad. looking for a loving &amp; caring bride who can balance professional &amp; personal life."
       ]
      },
      {
       "output_type": "stream",
       "stream": "stdout",
       "text": [
        "\n",
        "546"
       ]
      },
      {
       "output_type": "stream",
       "stream": "stdout",
       "text": [
        " http://www.simplymarry.com/matrimonial/groom/SMM1516744/Hindu/Maratha/Ranjeetsinh-Ghorpade\n",
        "I am a guy brought up with discrete values and disciplines in my family. A very social &amp; friendly person. Curious to learn new things &amp; adventure loving. Being an Computer Engg., I enjoy working with PC's., Also being a Piscean water bodies are dear to me, hence beaches are spots I like to visit. My hobbies are Playing with Guitar and Casio, Adventure sports, Reading, Movies, Music, Traveling, Visit all new spaces."
       ]
      },
      {
       "output_type": "stream",
       "stream": "stdout",
       "text": [
        "\n",
        "547"
       ]
      },
      {
       "output_type": "stream",
       "stream": "stdout",
       "text": [
        " http://www.simplymarry.com/matrimonial/groom/SMM1482880/Hindu/Gurjar/Milind-Patil\n",
        "I'm looking for a good, beautiful, well behaved partner for myself who will match with me. I'm working in an IT Company as a SAP Finance Consultant."
       ]
      },
      {
       "output_type": "stream",
       "stream": "stdout",
       "text": [
        "\n",
        "548"
       ]
      },
      {
       "output_type": "stream",
       "stream": "stdout",
       "text": [
        " http://www.simplymarry.com/matrimonial/groom/SMM1487904/Hindu/Maratha/Sandeep-Laxman-Wagh\n",
        "Myself Sandeep Laxman Wagh. I am Diploma holder in Mechanical Engineering. At present I am working with M/s. Siemens Limited (Quality Incoming - Switchboard division, Kalwa works) as a Testing Engineer. I am living in Badlapur (Thane) with my parents. My father is working in private company in Badlapur. My mother is housewife &amp; I have one married brother."
       ]
      },
      {
       "output_type": "stream",
       "stream": "stdout",
       "text": [
        "\n",
        "549"
       ]
      },
      {
       "output_type": "stream",
       "stream": "stdout",
       "text": [
        " http://www.simplymarry.com/matrimonial/groom/SMM1465804/Hindu/Brahmin---Smartha/Mandar-Shashikant-Rege\n",
        "I am Mandar Shashikant Rege. I have done BE (Mech) and currently working in Sales &amp; Marketing. My hobbies are cricket, listening music, hanging out, travelling, social networking, etc. I am religious in moderation. I like to enjoy life &amp; experiment it."
       ]
      },
      {
       "output_type": "stream",
       "stream": "stdout",
       "text": [
        "\n",
        "550"
       ]
      },
      {
       "output_type": "stream",
       "stream": "stdout",
       "text": [
        " http://www.simplymarry.com/matrimonial/groom/SMM1473015/Hindu/Brahmin---Deshastha/Sachin-Kshirsagar\n",
        "Im carrier ambitious, well mannered, simple looking person, wants to marry a girl who can adjust with me and with my parents; if she is ready to work after marriage then it is good."
       ]
      },
      {
       "output_type": "stream",
       "stream": "stdout",
       "text": [
        "\n",
        "551"
       ]
      },
      {
       "output_type": "stream",
       "stream": "stdout",
       "text": [
        " http://www.simplymarry.com/matrimonial/groom/SMM1628445/Hindu/Gabit/Chetan-B-Koyande\n",
        "I am a fun loving guy, honest, hard-worker, little bit moody, holistic, confident, protective, sensitive, cling, tenacious, family and home oriented having helpful nature, nurturing, emotional and crabby."
       ]
      },
      {
       "output_type": "stream",
       "stream": "stdout",
       "text": [
        "\n",
        "552"
       ]
      },
      {
       "output_type": "stream",
       "stream": "stdout",
       "text": [
        " http://www.simplymarry.com/matrimonial/groom/SMM1474843/Hindu/Bhandari/Amit-Mayekar\n",
        "Hi, I am Amit. It is very difficult to describe about self but still here I go. I believe in living a simple, peaceful, balanced &amp; successful life. I would like to accept life as it comes. I am not serious about life but yes I am sincere.\n",
        "I like to make friends &amp; meeting people. I enjoy with friends more than a lonely life. I like to travel, trekking, monsoon tours, and long drives. Roaming in and around Mumbai is a great time pass for me. I enjoy the energy which Mumbai has. I like all types of music from Bhimsen joshi to Karsh kale. I have a good sense of humor, for those who like humor I could be good choice. Enjoy, have a wonderful life."
       ]
      },
      {
       "output_type": "stream",
       "stream": "stdout",
       "text": [
        "\n",
        "553"
       ]
      },
      {
       "output_type": "stream",
       "stream": "stdout",
       "text": [
        " http://www.simplymarry.com/matrimonial/groom/SMM1476721/Buddhist/Sangharsh-Sitaram-Ramteke\n",
        "I AM SELF DEPENDENT,POSITIVE ATTITUDE PERSON, I AM LIVING IN NAGPUR, MY PARENTS LIVES NEAR NAGPUR IE.PAVNI. I WANT A GIRL WHO SHOULD BE GRADUATE, AMBITIOUS, WORKING, IT WILL BE GOOD IF SHE BELONG TO VIDARBHA."
       ]
      },
      {
       "output_type": "stream",
       "stream": "stdout",
       "text": [
        "\n",
        "554"
       ]
      },
      {
       "output_type": "stream",
       "stream": "stdout",
       "text": [
        " http://www.simplymarry.com/matrimonial/groom/SMM1507384/Hindu/Swakula-Sali/Sachin-Dharankar\n",
        "I am cool person. I am loving &amp; care taking person. I like to travel. My hobbies are playing games, watching TV &amp; movies.I like to leave in joint family. My expectation of my life partner she will be educated &amp; loving person &amp; taking care."
       ]
      },
      {
       "output_type": "stream",
       "stream": "stdout",
       "text": [
        "\n",
        "555"
       ]
      },
      {
       "output_type": "stream",
       "stream": "stdout",
       "text": [
        " http://www.simplymarry.com/matrimonial/groom/SMM1459871/Hindu/Brahmin---Kokanastha/Samir-Joshi\n",
        "We are well-educated family having broad outlook towards life. Respect individual feelings, thoughts and views. I believe and most of the times do succeed in maintaining good work- life balance. I am easy going, fun-loving, caring, helping and most importantly trust-worthy."
       ]
      },
      {
       "output_type": "stream",
       "stream": "stdout",
       "text": [
        "\n",
        "556"
       ]
      },
      {
       "output_type": "stream",
       "stream": "stdout",
       "text": [
        " http://www.simplymarry.com/matrimonial/groom/SMM1470001/Hindu/Chambhar/Upendra\n",
        "I am a responsible, self confident and fun loving person who has a good set of values."
       ]
      },
      {
       "output_type": "stream",
       "stream": "stdout",
       "text": [
        "\n",
        "557"
       ]
      },
      {
       "output_type": "stream",
       "stream": "stdout",
       "text": [
        " http://www.simplymarry.com/matrimonial/groom/SMM1515367/Hindu/Panchal/Rahul\n",
        "I m very simple high thinking person looking for someone who can understand me and my family who can take care my and my family responsibilities and I would like to keep my partner always happy by all her wishes and plans."
       ]
      },
      {
       "output_type": "stream",
       "stream": "stdout",
       "text": [
        "\n",
        "558"
       ]
      },
      {
       "output_type": "stream",
       "stream": "stdout",
       "text": [
        " http://www.simplymarry.com/matrimonial/groom/SMM1469438/Buddhist/Mahendra-R-Shende\n",
        "Simple and gentle; believe in simple living and high thinking; i believe in honesty and truthfulness. i expect same from my would be; i also believe that education is very much essential for progress in the life. i have simple family, father enjoying his retired life and mother is homemaker, 02 brothers married and 02 sisters married."
       ]
      },
      {
       "output_type": "stream",
       "stream": "stdout",
       "text": [
        "\n",
        "559"
       ]
      },
      {
       "output_type": "stream",
       "stream": "stdout",
       "text": [
        " http://www.simplymarry.com/matrimonial/groom/SMM1469550/Hindu/Shimpi/Kedar\n",
        "I am working as a faculty in a medical institution in Belgaum. I completed my higher education in Mumbai. I am looking for a suitable matrimonial alliance. I am willing to work anywhere in India/abroad."
       ]
      },
      {
       "output_type": "stream",
       "stream": "stdout",
       "text": [
        "\n",
        "560"
       ]
      },
      {
       "output_type": "stream",
       "stream": "stdout",
       "text": [
        " http://www.simplymarry.com/matrimonial/groom/SMM1485549/Jain/Digambar/Prasad-Patil\n",
        "I am basically from Mumbai and an Electronics Engineer working in TCS as a Sr. Tech Associate. People who know me well describe me as a friendly, very practical and fun loving and genuine a good friend, happy go lucky kinda person. I like pulling legs is my best time pass. Am very optimistic and like to be surrounded by such people. I am not an introvert nor an out an out extroverted person. I'd like to believe I have a good balance there. I like making friends and to spend time, hangout with them is my one of my favorite hobby. I belong to a traditional family to which I value the most. In short lives life to the fullest."
       ]
      },
      {
       "output_type": "stream",
       "stream": "stdout",
       "text": [
        "\n",
        "561"
       ]
      },
      {
       "output_type": "stream",
       "stream": "stdout",
       "text": [
        " http://www.simplymarry.com/matrimonial/groom/SMM1502666/Christian/Catholic/Prashant-Pereira\n",
        "God fearing, loving caring and understanding n simple..fun loving......would love to marry girl who had the same features...i m coming from a joint family........................................................................."
       ]
      },
      {
       "output_type": "stream",
       "stream": "stdout",
       "text": [
        "\n",
        "562"
       ]
      },
      {
       "output_type": "stream",
       "stream": "stdout",
       "text": [
        " http://www.simplymarry.com/matrimonial/groom/SMM1501969/Hindu/Maratha/Suraj-Gaikwad\n",
        "Myself Suraj and I did my MBA in Finance and currently working with the Finance Co. I believe in simple living. Living with my parents in Kolhapur."
       ]
      },
      {
       "output_type": "stream",
       "stream": "stdout",
       "text": [
        "\n",
        "563"
       ]
      },
      {
       "output_type": "stream",
       "stream": "stdout",
       "text": [
        " http://www.simplymarry.com/matrimonial/groom/SMM1531810/Hindu/Brahmin---Deshastha/Aditya-Manoharrao-Tamboli\n",
        "I AM PURSUING GRADUATION IN ENGINEERING I WOULD LIKE TO TRAVEL, I HAVE PASSION ABOUT BIKES,i LIKE SKETCHING, LISTING MUSIC. I LIKE TO TALK I ENJOYS FAMILY GATHERING MY MOTHER IS HOUSE WIFE I HAD A SISTER SHE IS MARRIED"
       ]
      },
      {
       "output_type": "stream",
       "stream": "stdout",
       "text": [
        "\n",
        "564"
       ]
      },
      {
       "output_type": "stream",
       "stream": "stdout",
       "text": [
        " http://www.simplymarry.com/matrimonial/groom/SMM1584316/Hindu/Maratha/Santosh-N-Powar\n",
        "Am a hard working person. Like playing cricket. Am a loving personality and good in marketing handling terms. Am working in field of insurance, security system, electronics and telecommunication and love cooking."
       ]
      },
      {
       "output_type": "stream",
       "stream": "stdout",
       "text": [
        "\n",
        "565"
       ]
      },
      {
       "output_type": "stream",
       "stream": "stdout",
       "text": [
        " http://www.simplymarry.com/matrimonial/groom/SMM1475640/Hindu/Maratha/Santosh-Kashid\n",
        "I AM FUN LOVING, CARING PERSON WITH GOOD NATURE. I WANT A GOOD PARTNER WHO KNOWN &amp; UNDERSTAND ME. I AM BUSINESS PERSON WORKS AS A CONTRACTOR IN COM. SECTOR AND I AM GOOD LOOKING."
       ]
      },
      {
       "output_type": "stream",
       "stream": "stdout",
       "text": [
        "\n",
        "566"
       ]
      },
      {
       "output_type": "stream",
       "stream": "stdout",
       "text": [
        " http://www.simplymarry.com/matrimonial/groom/SMM1633359/Hindu/Maratha/Sagar\n",
        "Am a person who believe in simple living and high thinking. Am emotional,caring and a big dreamer."
       ]
      },
      {
       "output_type": "stream",
       "stream": "stdout",
       "text": [
        "\n",
        "567"
       ]
      },
      {
       "output_type": "stream",
       "stream": "stdout",
       "text": [
        " http://www.simplymarry.com/matrimonial/groom/SMM1559111/Hindu/Mahar/Ankush-Nagtilak\n",
        "I would like to describe myself as a maverick. I am basically inquisitive in nature, very passionate about music, very aspiring about my career. Generally people state me as an astute. I majorly believe in the saying \"simple living and high thinking\" and would surely follow that. My ideal partner should be understandable, loving and caring. I have to give respect to relationship, respect parents, nice to talk to always."
       ]
      },
      {
       "output_type": "stream",
       "stream": "stdout",
       "text": [
        "\n",
        "568"
       ]
      },
      {
       "output_type": "stream",
       "stream": "stdout",
       "text": [
        " http://www.simplymarry.com/matrimonial/groom/SMM1479900/Hindu/Maratha/Amol-Sandbhor\n",
        "I am a Mechanical engineer, Working as a car design engineer, I like cricket, I like to enjoy every moment of life, Responsible and family oriented, I hate liars and I like to marry a beautiful, well educated and responsible girl."
       ]
      },
      {
       "output_type": "stream",
       "stream": "stdout",
       "text": [
        "\n",
        "569"
       ]
      },
      {
       "output_type": "stream",
       "stream": "stdout",
       "text": [
        " http://www.simplymarry.com/matrimonial/groom/SMM1624707/Jain/Digambar/Amit-Ramchand-Gujar\n",
        "Amit Gujar from Miraj, Maharashtra. He has completed his diploma course in Electronics. He is simple, loving, caring and down to earth person. He is property owner of his father. Looking for a simple and down to earth bride who can take care of his mother."
       ]
      },
      {
       "output_type": "stream",
       "stream": "stdout",
       "text": [
        "\n",
        "570"
       ]
      },
      {
       "output_type": "stream",
       "stream": "stdout",
       "text": [
        " http://www.simplymarry.com/matrimonial/groom/SMM1564872/Hindu/Chambhar/Rakesh-Rakesh\n",
        "I am Rakesh from pune, looking for a caring and a good looking girl. Need the one who is very understanding."
       ]
      },
      {
       "output_type": "stream",
       "stream": "stdout",
       "text": [
        "\n",
        "571"
       ]
      },
      {
       "output_type": "stream",
       "stream": "stdout",
       "text": [
        " http://www.simplymarry.com/matrimonial/groom/SMM1518032/Buddhist/Ranbaglepadmaraj\n",
        "Am a person who live life with fun and happiness; people say I fill my surrounding with joy and happiness. I respect moral values but hate moral policing. I love to visit new places and cannot stop myself to experiment new and happening things."
       ]
      },
      {
       "output_type": "stream",
       "stream": "stdout",
       "text": [
        "\n",
        "572"
       ]
      },
      {
       "output_type": "stream",
       "stream": "stdout",
       "text": [
        " http://www.simplymarry.com/matrimonial/groom/SMM1468464/Hindu/Kunbi/Anand-Bonde\n",
        "I have spent most of my life and completed all my education (convent educated) from Pune. I am an open minded person who believes in a relation based on equality in terms of importance and responsibility of both husband and wife. We prefer to leave the decision to the girl about continuing her professional career (job) after marriage. However, we are willing to support her fully if she wishes to pursue her career interests. I am interested in pursuing further opportunities of higher studies in future. I prefer to settle in Pune city in future."
       ]
      },
      {
       "output_type": "stream",
       "stream": "stdout",
       "text": [
        "\n",
        "573"
       ]
      },
      {
       "output_type": "stream",
       "stream": "stdout",
       "text": [
        " http://www.simplymarry.com/matrimonial/groom/SMM1470410/Hindu/Maratha/Abhijit-Shinde\n",
        "Hi. My name is Abhijit Shinde, basically from Kolhapur but now in Pune. I am simple &amp; Straight forward. Working with Infosys as Process Specialist. I have completed Microsoft Certified Technology Specialist: SQL Server 2008, Database Development Certification. I am career and family oriented. Parents are most imp for me. Looking for the girl who can be the partner having self respect, honest, caring, loving, educated and well settled. Hobby: Traveling, Listening music, Sport: Cricket"
       ]
      },
      {
       "output_type": "stream",
       "stream": "stdout",
       "text": [
        "\n",
        "574"
       ]
      },
      {
       "output_type": "stream",
       "stream": "stdout",
       "text": [
        " http://www.simplymarry.com/matrimonial/groom/SMM1460097/Hindu/Bhandari/Swapnil-Mungekar\n",
        "I am calm by nature, bit lazy, bit humorous sometimes over, complete foodie, love to travel and eat specialties of places. I am looking for a girl with whom my ideas of relationship matches and we can work out this relationship joyfully."
       ]
      },
      {
       "output_type": "stream",
       "stream": "stdout",
       "text": [
        "\n",
        "575"
       ]
      },
      {
       "output_type": "stream",
       "stream": "stdout",
       "text": [
        " http://www.simplymarry.com/matrimonial/groom/SMM1632321/Buddhist/Aanika-Sathe\n",
        "LOOKING FOR A PARTNER WHO IS GOOD LOOKING, WELL EDUCATED AND HAVING FAMILY GOOD BACKGROUND."
       ]
      },
      {
       "output_type": "stream",
       "stream": "stdout",
       "text": [
        "\n",
        "576"
       ]
      },
      {
       "output_type": "stream",
       "stream": "stdout",
       "text": [
        " http://www.simplymarry.com/matrimonial/groom/SMM1481775/Hindu/Brahmin/Sagar-Dattatraya-Retat\n",
        "Hi, i am a simple man and always love to be a simple. I am looking for a suitable partner who will believe in me and my family.\n",
        "My hobbies are playing cricket, music, hanging out with friends, eating good food."
       ]
      },
      {
       "output_type": "stream",
       "stream": "stdout",
       "text": [
        "\n",
        "577"
       ]
      },
      {
       "output_type": "stream",
       "stream": "stdout",
       "text": [
        " http://www.simplymarry.com/matrimonial/groom/SMM1596666/Hindu/Maratha/Viresh-Ashok-Pote\n",
        "Like to enjoy outdoor walks, meeting people, enjoy the company of friends, being social to all. Like to have fun, adore my sister's children. Love taking them out, looking for someone with same interest, someone who loves to travel, socialize and who adore children."
       ]
      },
      {
       "output_type": "stream",
       "stream": "stdout",
       "text": [
        "\n",
        "578"
       ]
      },
      {
       "output_type": "stream",
       "stream": "stdout",
       "text": [
        " http://www.simplymarry.com/matrimonial/groom/SMM1484362/Hindu/Vanjari/Satish-Nagare\n",
        "I am a simple good natured guy who likes to travel around the world. my hobbies are traveling &amp; photography. I am a foodie also. I am an extrovert, that's why I chose marketing as a my career."
       ]
      },
      {
       "output_type": "stream",
       "stream": "stdout",
       "text": [
        "\n",
        "579"
       ]
      },
      {
       "output_type": "stream",
       "stream": "stdout",
       "text": [
        " http://www.simplymarry.com/matrimonial/groom/SMM1457346/Christian/Protestant/Ratan-Gawai\n",
        "Born in Akola and grew up in Chandrapur, Completed my schooling and graduation from Chandrapur and moved to Pune in 2005 after passing out engineering. Having a firm belief in Jesus Christ as my Savior &amp; it grows everyday. I felt his existence in my life through the power and blessings He has bestowed upon my family since when my father passed away in accident. I value relationship, family, love and true commitment. I take up life cool and seriously depending on the situation it comes with kinda silent player but know how and when to strike the chord. working in IT MNC with 6+ yrs exp, likes to hangout with close friends only, having interest in Technology and creativity and a Hollywood romantic, comedy, action movie freak."
       ]
      },
      {
       "output_type": "stream",
       "stream": "stdout",
       "text": [
        "\n",
        "580"
       ]
      },
      {
       "output_type": "stream",
       "stream": "stdout",
       "text": [
        " http://www.simplymarry.com/matrimonial/groom/SMM1492727/Hindu/96K-Kokanastha/Arjun\n",
        "I am engineer working with government organisation, I love travelling, eating best indian food; Seek for a loving, caring and a best friend as a life partner who is joyful and is willing to take care of the family."
       ]
      },
      {
       "output_type": "stream",
       "stream": "stdout",
       "text": [
        "\n",
        "581"
       ]
      },
      {
       "output_type": "stream",
       "stream": "stdout",
       "text": [
        " http://www.simplymarry.com/matrimonial/groom/SMM1509828/Hindu/Bari/Nitesh-Jagdish-Bari\n",
        "Am very neutral in nature, caring &amp; try to keep others happy, very lovable to close ones. I am looking for a person who would be a good companion to me and will be with me in every step of my life."
       ]
      },
      {
       "output_type": "stream",
       "stream": "stdout",
       "text": [
        "\n",
        "582"
       ]
      },
      {
       "output_type": "stream",
       "stream": "stdout",
       "text": [
        " http://www.simplymarry.com/matrimonial/groom/SMM1551838/Hindu/Brahmin---Smartha/Amey-Wagle\n",
        "My son is a C.A by qualification and is working in a reputed CA firm since last 4 years as an Assistant Manager, specializing in taxation. His likings are non veg food and photography. He loves to travel and click pix"
       ]
      },
      {
       "output_type": "stream",
       "stream": "stdout",
       "text": [
        "\n",
        "583"
       ]
      },
      {
       "output_type": "stream",
       "stream": "stdout",
       "text": [
        " http://www.simplymarry.com/matrimonial/groom/SMM1530857/Hindu/Harsh\n",
        "I am an open minded person who knows the limitations, i am here to search my life partner, i am hardworking person from a family of professionals, i am looking out for a like minded person to spend life happily."
       ]
      },
      {
       "output_type": "stream",
       "stream": "stdout",
       "text": [
        "\n",
        "584"
       ]
      },
      {
       "output_type": "stream",
       "stream": "stdout",
       "text": [
        " http://www.simplymarry.com/matrimonial/groom/SMM1475991/Hindu/Bhavasar-Kshatriya/Drsakthi-Balan\n",
        "THANKS FOR VISITING MY PROFILE. Am an Ayurveda physician, did BAMS from chennai, preparing for PG exams too. at present i own self established hospital at chennai and tirupattur. From nuclear family. Middle class. Four members, Me, Dad (retd, engineer) Mom (home maker) younger Sister (Dip-grad). My Interests are plenty like am a big music lover, love traveling, fun person basically with adapting nature."
       ]
      },
      {
       "output_type": "stream",
       "stream": "stdout",
       "text": [
        "\n",
        "585"
       ]
      },
      {
       "output_type": "stream",
       "stream": "stdout",
       "text": [
        " http://www.simplymarry.com/matrimonial/groom/SMM1605932/Buddhist/Bharat-C-Bagde\n",
        "Am a simple person and living with parents, have 1 sister married and 1 younger brother unmarried."
       ]
      },
      {
       "output_type": "stream",
       "stream": "stdout",
       "text": [
        "\n",
        "586"
       ]
      },
      {
       "output_type": "stream",
       "stream": "stdout",
       "text": [
        " http://www.simplymarry.com/matrimonial/groom/SMM1459312/Jain/Shewetamber/Prasad-K-Mehta\n",
        "I am very enthusiastic person with good family values. i am living with my son, his wife &amp; grand son. I have 2 daughters Doctor &amp; C.A &amp; both are married &amp; well settled. Me &amp; my son are looking over my business. We live in our own house."
       ]
      },
      {
       "output_type": "stream",
       "stream": "stdout",
       "text": [
        "\n",
        "587"
       ]
      },
      {
       "output_type": "stream",
       "stream": "stdout",
       "text": [
        " http://www.simplymarry.com/matrimonial/groom/SMM1494732/Hindu/Maratha/Nilesh-Kisan-Dongre\n",
        "Am a knowledge savvy and innovative person. Am a qualified and professional bankers with gud exp. in the same field. Looking for a partner who will understand me and be with me at every stage of life."
       ]
      },
      {
       "output_type": "stream",
       "stream": "stdout",
       "text": [
        "\n",
        "588"
       ]
      },
      {
       "output_type": "stream",
       "stream": "stdout",
       "text": [
        " http://www.simplymarry.com/matrimonial/groom/SMM1632010/Buddhist/Vishal-Pawar\n",
        "He is born and brought up in Mumbai. Have done BE in Computers from Mumbai University. Works as Technical assistant for reputed Game Publishing firm."
       ]
      },
      {
       "output_type": "stream",
       "stream": "stdout",
       "text": [
        "\n",
        "589"
       ]
      },
      {
       "output_type": "stream",
       "stream": "stdout",
       "text": [
        " http://www.simplymarry.com/matrimonial/groom/SMM1632782/Hindu/Vanjari/Abhishek-Sangle\n",
        "I am a mature, friendly and fun loving person. I enjoy every day of my life. I am very down to earth person. I am loving and caring by nature. I have strong family values. I believe in give respect and take respect."
       ]
      },
      {
       "output_type": "stream",
       "stream": "stdout",
       "text": [
        "\n",
        "590"
       ]
      },
      {
       "output_type": "stream",
       "stream": "stdout",
       "text": [
        " http://www.simplymarry.com/matrimonial/groom/SMM1532342/Buddhist/Dr-Nayan-Brahme\n",
        "I have completed my MBBS from Mumbai and now me doing my PG degree course. My Father is retired senior manager from a Nationalized bank. Mother is a homemaker. My elder sister is Doing her MRCP in London after completing her MD Pediatrics. My brother in law also doing MRCP after completing his MD Pediatrics."
       ]
      },
      {
       "output_type": "stream",
       "stream": "stdout",
       "text": [
        "\n",
        "591"
       ]
      },
      {
       "output_type": "stream",
       "stream": "stdout",
       "text": [
        " http://www.simplymarry.com/matrimonial/groom/SMM1463949/Hindu/Maratha/Sachin-Shirke\n",
        "I am very much open minded &amp; respect everyone who comes in my life.I am looking for some one who will understand me.No doubt i will make her happy like she was never before far as permanent income is concerned,i have some properties which i have given on rent,which gives me freedom to do business.And finally thanks for Visiting my Profile.Have a nice time.Take Care."
       ]
      },
      {
       "output_type": "stream",
       "stream": "stdout",
       "text": [
        "\n",
        "592"
       ]
      },
      {
       "output_type": "stream",
       "stream": "stdout",
       "text": [
        " http://www.simplymarry.com/matrimonial/groom/SMM1521228/Hindu/Maratha/Ajit-Mahadik\n",
        "Am a person who live life with fun and happiness; people say I fill my surrounding with joy and happiness. I respect moral values but hate moral policing. I love to visit new places and cannot stop myself to experiment new and happening things."
       ]
      },
      {
       "output_type": "stream",
       "stream": "stdout",
       "text": [
        "\n",
        "593"
       ]
      },
      {
       "output_type": "stream",
       "stream": "stdout",
       "text": [
        " http://www.simplymarry.com/matrimonial/groom/SMM1537422/Hindu/Shimpi/Shailesh-Manohar-Mulay\n",
        "Hi, I am smart, ambitious, well mannered person with positive attitude. My key attributes are social nature, persistence, responsible, courteous, and respectful. I have a mature outlook towards life while maintaining a good sense of humor. I am having firm belief in core human values and decent living. I have great respect of elders and am of a strong view that parents are second to none. As far as marriage is considered I think it's a very committed relationship and an intuition which should be respected by one and all. Currently I'm pursuing CA &amp; CS Final exam as well as working as Deputy Manager-Accounts in Gharpure Engg &amp; Const. Pvt Ltd. My father is working as a Sr. Accounts officer in Premium Transmission Ltd &amp; my mother is a House wife. I have one younger brother who has completed his MCS and searching for a job."
       ]
      },
      {
       "output_type": "stream",
       "stream": "stdout",
       "text": [
        "\n",
        "594"
       ]
      },
      {
       "output_type": "stream",
       "stream": "stdout",
       "text": [
        " http://www.simplymarry.com/matrimonial/groom/SMM1609279/Hindu/Bhandari/Suhas-Mungekar\n",
        "Am working with JPmorgan since last 7 years. Likes visiting to new places and watching movies. Looking for a life partner who is caring and supportive in nature."
       ]
      },
      {
       "output_type": "stream",
       "stream": "stdout",
       "text": [
        "\n",
        "595"
       ]
      },
      {
       "output_type": "stream",
       "stream": "stdout",
       "text": [
        " http://www.simplymarry.com/matrimonial/groom/SMM1603030/Hindu/Leva-patil/Narendra\n",
        "Am serving in Army since last 8 yrs as a Clerk and presently in Nasik. Am also doing Dip in Mech and Bcom (eng)."
       ]
      },
      {
       "output_type": "stream",
       "stream": "stdout",
       "text": [
        "\n",
        "596"
       ]
      },
      {
       "output_type": "stream",
       "stream": "stdout",
       "text": [
        " http://www.simplymarry.com/matrimonial/groom/SMM1525297/Hindu/Vaishya-Vani/Ca\n",
        "My son, by qualification is a CA and CFA (US). By profession, he is employed with a large MNC consulting firm. He works as a VP in their strategy team. As a part of his extra-curricular activity, he has learnt various dance forms. He is currently learning the contemporary dance form. He is a social and fun-loving person by nature."
       ]
      },
      {
       "output_type": "stream",
       "stream": "stdout",
       "text": [
        "\n",
        "597"
       ]
      },
      {
       "output_type": "stream",
       "stream": "stdout",
       "text": [
        " http://www.simplymarry.com/matrimonial/groom/SMM1558316/Hindu/Chambhar/Pss\n",
        "Am a m simple, god looking, BAMS doctor, practicing in ,mumbai. Has done my studies from Mumbai. Am looking for a partner who is simple, understanding, supportive and should b more of a friend."
       ]
      },
      {
       "output_type": "stream",
       "stream": "stdout",
       "text": [
        "\n",
        "598"
       ]
      },
      {
       "output_type": "stream",
       "stream": "stdout",
       "text": [
        " http://www.simplymarry.com/matrimonial/groom/SMM1545530/Hindu/Maratha/Kashavekumar-S-Jadhave\n",
        "I am a very friendly person. I live in pattukkottai in TAMIL NADU. I am a landlord. I want a partner who is caring &amp; loving. And non-working. I live with my father and brother &amp; sister in law. My family has traditional values."
       ]
      },
      {
       "output_type": "stream",
       "stream": "stdout",
       "text": [
        "\n",
        "599"
       ]
      },
      {
       "output_type": "stream",
       "stream": "stdout",
       "text": [
        " http://www.simplymarry.com/matrimonial/groom/SMM1566545/Hindu/Brahmin---Deshastha/Pradip-Kulkarni\n",
        "I am a well educated person. I am working in Gulf country from 14 Years. My Family is a Joint Family and Other Members are living in Maharashtra. I have 2 elder Brothers, who has married and One elder Sister, who has married."
       ]
      },
      {
       "output_type": "stream",
       "stream": "stdout",
       "text": [
        "\n",
        "600"
       ]
      },
      {
       "output_type": "stream",
       "stream": "stdout",
       "text": [
        " http://www.simplymarry.com/matrimonial/groom/SMM1577995/Buddhist/Niranjan-Shirke\n",
        "Hi,I work as a windows administrator in a Finance company in Malad. I like reading, driving, listening to music, watching movies. I want a girl who is polite and understanding. Somebody who is nice to talk to."
       ]
      },
      {
       "output_type": "stream",
       "stream": "stdout",
       "text": [
        "\n",
        "601"
       ]
      },
      {
       "output_type": "stream",
       "stream": "stdout",
       "text": [
        " http://www.simplymarry.com/matrimonial/groom/SMM1553601/Hindu/Maratha/R-Patil\n",
        "Hi, I am currently working in a reputed IT Firm. I have been staying in Mumbai for the past eight years and currently own a house. I have completed my education from Nashik &amp; Pune. My parents reside close to Nashik i.e Dhule. I have 1 elder sister and 2 younger sisters and all the of them are married. I belongs to a very close knitted family."
       ]
      },
      {
       "output_type": "stream",
       "stream": "stdout",
       "text": [
        "\n",
        "602"
       ]
      },
      {
       "output_type": "stream",
       "stream": "stdout",
       "text": [
        " http://www.simplymarry.com/matrimonial/groom/SMM1540601/Buddhist/Pankaj-Meshram\n",
        "I AM SIMPLY LIVING WITH MIDDLE CLASS FAMILY,WORKED AT SBI AS A ASSTT. MANAGER FOR THE LAST TWO YEAR,AND TRYING TO GET ANOTHER PROMOTION. FAMILY NO MATTER SUPPORTING WITH EACH OTHER HAVING GOOD UNDERSTANDING"
       ]
      },
      {
       "output_type": "stream",
       "stream": "stdout",
       "text": [
        "\n",
        "603"
       ]
      },
      {
       "output_type": "stream",
       "stream": "stdout",
       "text": [
        " http://www.simplymarry.com/matrimonial/groom/SMM1457288/Hindu/Bhavasar-Kshatriya/Prasanna\n",
        "myself good looking man, and i hope to see my girl should be quite beautiful, smart then me, and i like sports very much if she is any sports or singing, it is good for me and even i like movies very much usually, i watch movies thrice a week."
       ]
      },
      {
       "output_type": "stream",
       "stream": "stdout",
       "text": [
        "\n",
        "604"
       ]
      },
      {
       "output_type": "stream",
       "stream": "stdout",
       "text": [
        " http://www.simplymarry.com/matrimonial/groom/SMM1579448/Hindu/Teli/Vinay-M-Kurle\n",
        "Three members in family. Dad, Mom and Myself. Work with Times of India Group as Sr. Managaer in Projects Dept. Sister married for last 9 years and stay at Kandivali with her Husband and 8 yr son. I Like to travel, explore new places."
       ]
      },
      {
       "output_type": "stream",
       "stream": "stdout",
       "text": [
        "\n",
        "605"
       ]
      },
      {
       "output_type": "stream",
       "stream": "stdout",
       "text": [
        " http://www.simplymarry.com/matrimonial/groom/SMM1478534/Christian/Protestant/Allwin\n",
        "Fun loving, adaptable, caring and sensitive, determined, hardworking, outgoing."
       ]
      },
      {
       "output_type": "stream",
       "stream": "stdout",
       "text": [
        "\n",
        "606"
       ]
      },
      {
       "output_type": "stream",
       "stream": "stdout",
       "text": [
        " http://www.simplymarry.com/matrimonial/groom/SMM1594015/Buddhist/Sachin-Sudhakar-Bhagat\n",
        "Am Sachin, living with my parents and am looking for a partner who will be caring and loving towards me and my family."
       ]
      },
      {
       "output_type": "stream",
       "stream": "stdout",
       "text": [
        "\n",
        "607"
       ]
      },
      {
       "output_type": "stream",
       "stream": "stdout",
       "text": [
        " http://www.simplymarry.com/matrimonial/groom/SMM1469459/Hindu/Brahmin---Deshastha/Mahesh-Hukeri\n",
        "I am simple by nature; i like travelling, reading; have lots of friend; i am very friendly and from the moderate joint family; i love to watch movies, drama; like helping needy people."
       ]
      },
      {
       "output_type": "stream",
       "stream": "stdout",
       "text": [
        "\n",
        "608"
       ]
      },
      {
       "output_type": "stream",
       "stream": "stdout",
       "text": [
        " http://www.simplymarry.com/matrimonial/groom/SMM1493803/Hindu/Mali/Rahul-Ningappa-Kudoli\n",
        "Need understandable, caring, sensible partner who can always walk beside me as my best friend."
       ]
      },
      {
       "output_type": "stream",
       "stream": "stdout",
       "text": [
        "\n",
        "609"
       ]
      },
      {
       "output_type": "stream",
       "stream": "stdout",
       "text": [
        " http://www.simplymarry.com/matrimonial/groom/SMM1464350/Hindu/Suthar/Prasad-Gajanan-Adiwarekar\n",
        "I am down to earth person and like to live a simple life. I am bit religious, but still believe in modern thought process. Looking for a bride who will be understanding in nature, qualified and good looking."
       ]
      },
      {
       "output_type": "stream",
       "stream": "stdout",
       "text": [
        "\n",
        "610"
       ]
      },
      {
       "output_type": "stream",
       "stream": "stdout",
       "text": [
        " http://www.simplymarry.com/matrimonial/groom/SMM1514888/Hindu/Brahmin---Karhade/Kaustubh-Gune\n",
        "I am a smart, simple and happy go lucky person. I am down to earth and respect family ethics and culture. My hobbies include going on long rides and reading books. I am looking for a beautiful and smart and well educated girl. She should respect family culture."
       ]
      },
      {
       "output_type": "stream",
       "stream": "stdout",
       "text": [
        "\n",
        "611"
       ]
      },
      {
       "output_type": "stream",
       "stream": "stdout",
       "text": [
        " http://www.simplymarry.com/matrimonial/groom/SMM1564361/Hindu/Maratha/Tambe-Vishwas-Jagannath\n",
        "I like track, watching birds, animals etc. Have two daughters and a son, elder daughter working as an asstt. teacher in gov aided school. younger daughter completed B.Sc. and appear for B.Ed.Course."
       ]
      },
      {
       "output_type": "stream",
       "stream": "stdout",
       "text": [
        "\n",
        "612"
       ]
      },
      {
       "output_type": "stream",
       "stream": "stdout",
       "text": [
        " http://www.simplymarry.com/matrimonial/groom/SMM1463930/Hindu/Maratha/Pramod\n",
        "I m looking for a simple, caring, well educated and well settled person."
       ]
      },
      {
       "output_type": "stream",
       "stream": "stdout",
       "text": [
        "\n",
        "613"
       ]
      },
      {
       "output_type": "stream",
       "stream": "stdout",
       "text": [
        " http://www.simplymarry.com/matrimonial/groom/SMM1561613/Hindu/Kunbi/Yogesh-Raut\n",
        "I am very much enjoyable person having own 1BHK flat in Mumbai (Sion). Looking for girl who can be best partner. I am PGDBA from Welingkar Institute of Management, Presently working with multinational company."
       ]
      },
      {
       "output_type": "stream",
       "stream": "stdout",
       "text": [
        "\n",
        "614"
       ]
      },
      {
       "output_type": "stream",
       "stream": "stdout",
       "text": [
        " http://www.simplymarry.com/matrimonial/groom/SMM1466170/Hindu/Shimpi/Sameer-Danave\n",
        "I am a cool, simple minded guy. I am a Computer Engineer working in Software industry. I expect a fair, good looking engineer OR MBA girl. She should be homely and uphold family values."
       ]
      },
      {
       "output_type": "stream",
       "stream": "stdout",
       "text": [
        "\n",
        "615"
       ]
      },
      {
       "output_type": "stream",
       "stream": "stdout",
       "text": [
        " http://www.simplymarry.com/matrimonial/groom/SMM1475490/Buddhist/Mayur-R-Dhanawde\n",
        "I am simple, intelligent and down to earth person, not just looking for life partner, but who can always be my friend, throughout my life, someone who is a genuine person with thoughtful perception towards life."
       ]
      },
      {
       "output_type": "stream",
       "stream": "stdout",
       "text": [
        "\n",
        "616"
       ]
      },
      {
       "output_type": "stream",
       "stream": "stdout",
       "text": [
        " http://www.simplymarry.com/matrimonial/groom/SMM1508358/Hindu/Mali/Ashish-Tarar\n",
        "Am a person who believes in balanced work life and a professional motivational speaker. I am having my own educational academy. I enjoy to mentor needy people. I am much more passionate in acting, swimming and playing snooker."
       ]
      },
      {
       "output_type": "stream",
       "stream": "stdout",
       "text": [
        "\n",
        "617"
       ]
      },
      {
       "output_type": "stream",
       "stream": "stdout",
       "text": [
        " http://www.simplymarry.com/matrimonial/groom/SMM1625247/Hindu/Maratha/Satyavan-Mohan-Chavan\n",
        "I am a sweet boy.I have completed my graduation from Sathaye College and currently working in a private company as a Artist. I always believe in values and morals. I am looking for a sweet beautiful girl."
       ]
      },
      {
       "output_type": "stream",
       "stream": "stdout",
       "text": [
        "\n",
        "618"
       ]
      },
      {
       "output_type": "stream",
       "stream": "stdout",
       "text": [
        " http://www.simplymarry.com/matrimonial/groom/SMM1492402/Hindu/Maratha/Nitin-Ugale\n",
        "I am very loving and loyal. I can be an excellent husband-cum friend."
       ]
      },
      {
       "output_type": "stream",
       "stream": "stdout",
       "text": [
        "\n",
        "619"
       ]
      },
      {
       "output_type": "stream",
       "stream": "stdout",
       "text": [
        " http://www.simplymarry.com/matrimonial/groom/SMM1580521/Hindu/Brahmin/Deval-Dilip-Dindore\n",
        "Hello, I have completed my B.Sc (Physics). Currently taking coaching classes. Belongs to a middle class family with traditional values."
       ]
      },
      {
       "output_type": "stream",
       "stream": "stdout",
       "text": [
        "\n",
        "620"
       ]
      },
      {
       "output_type": "stream",
       "stream": "stdout",
       "text": [
        " http://www.simplymarry.com/matrimonial/groom/SMM1476748/Buddhist/Vinish-Kadbe\n",
        "VINISH IS VERY SIMPLE AND CARING BOY. HE IS A GOVT. EMPLOYEE IN BHOPAL. HE IS LOOKING FOR A SIMPLE AND CARING GIRL. 5 MEMBERS IN OUR FAMILY, MY FATHER IS A CENTRAL GOVT. EMPLOYEE IN BHOPAL AND MY MOTHER IS HOUSEWIFE."
       ]
      },
      {
       "output_type": "stream",
       "stream": "stdout",
       "text": [
        "\n",
        "621"
       ]
      },
      {
       "output_type": "stream",
       "stream": "stdout",
       "text": [
        " http://www.simplymarry.com/matrimonial/groom/SMM1494955/Hindu/Brahmin/Mukul\n",
        "I'm very simple high thinking person; looking for someone who can understand me and my family who can take care of me and my family responsibilities."
       ]
      },
      {
       "output_type": "stream",
       "stream": "stdout",
       "text": [
        "\n",
        "622"
       ]
      },
      {
       "output_type": "stream",
       "stream": "stdout",
       "text": [
        " http://www.simplymarry.com/matrimonial/groom/SMM1473922/Hindu/Maratha/Ashish-Jadhav\n",
        "I am jolly, love to be with family, respect women. i am hardworking and capable to take care of family. at present settled in Thane with property of my own; i stay with my parents; have one married sister; most of my family members are from medical background."
       ]
      },
      {
       "output_type": "stream",
       "stream": "stdout",
       "text": [
        "\n",
        "623"
       ]
      },
      {
       "output_type": "stream",
       "stream": "stdout",
       "text": [
        " http://www.simplymarry.com/matrimonial/groom/SMM1457029/Hindu/Vaishya-Vani/Meghraj\n",
        "Fun loving, adaptable, caring and sensitive, determined, hardworking, outgoing."
       ]
      },
      {
       "output_type": "stream",
       "stream": "stdout",
       "text": [
        "\n",
        "624"
       ]
      },
      {
       "output_type": "stream",
       "stream": "stdout",
       "text": [
        " http://www.simplymarry.com/matrimonial/groom/SMM1503317/Hindu/Kumbhar/Nilesh-Sadashiv-Rangavkar\n",
        "I am very simple and enjoy full person. I have two unmarried brothers and single sister. My parents and live at lanja, ratnagiri. I am responsible person in my family. So i want very simple and helpful girl in my life."
       ]
      },
      {
       "output_type": "stream",
       "stream": "stdout",
       "text": [
        "\n",
        "625"
       ]
      },
      {
       "output_type": "stream",
       "stream": "stdout",
       "text": [
        " http://www.simplymarry.com/matrimonial/groom/SMM1510346/Hindu/Vaishya-Vani/Tushar-Sakhare\n",
        "I am proficient in my work, having good habits, gels easily with anybody, having good nature that everybody feels good when they are with me. My family members are well educated that's why grow in a good educational environment."
       ]
      },
      {
       "output_type": "stream",
       "stream": "stdout",
       "text": [
        "\n",
        "626"
       ]
      },
      {
       "output_type": "stream",
       "stream": "stdout",
       "text": [
        " http://www.simplymarry.com/matrimonial/groom/SMM1540148/Hindu/Nhavi/Manish-Channe\n",
        "Hello.. Myself Manish, Thanks for vising my profile, I think, its little difficult to describe yourself in few words, however I have to do it here.. I have done bachelors in Information Technology, I am working with one of the leading IT companies in Pune. Have a liberal outlook about life &amp; society, however never tend to forget the roots &amp; the principles.I believe its very important to maintain trust, dignity &amp; respect in any relationship thus expect the transparency. I respect giving personal space to the individual. I may not be the perfect one neither do I expect the perfect one. However I certainly expect someone who is caring, understanding, honest, respectful &amp; successful. I am looking for someone who is committed, honest, presentable &amp; most importantly.someone having good values. If you think my profile suits your preferences, Please feel free to contact me.. :)"
       ]
      },
      {
       "output_type": "stream",
       "stream": "stdout",
       "text": [
        "\n",
        "627"
       ]
      },
      {
       "output_type": "stream",
       "stream": "stdout",
       "text": [
        " http://www.simplymarry.com/matrimonial/groom/SMM1610431/Hindu/Bhandari/Abhi\n",
        "Am born and raised in Mumbai and Have done MBA in Finance from a top B school in India. Looking for someone who is smart, caring, understanding and who can be a great companion in life."
       ]
      },
      {
       "output_type": "stream",
       "stream": "stdout",
       "text": [
        "\n",
        "628"
       ]
      },
      {
       "output_type": "stream",
       "stream": "stdout",
       "text": [
        " http://www.simplymarry.com/matrimonial/groom/SMM1458982/Christian/Catholic/Savio-Andrades\n",
        "I am fun loving guy, who likes to live my life tension free. Looking forward to live my dreams. I like digital photography, trekking and being with the nature. Monsoon is my favorite season and I make myself available for some beautiful waterfall treat. I bet you wouldn't get bored with me."
       ]
      },
      {
       "output_type": "stream",
       "stream": "stdout",
       "text": [
        "\n",
        "629"
       ]
      },
      {
       "output_type": "stream",
       "stream": "stdout",
       "text": [
        " http://www.simplymarry.com/matrimonial/groom/SMM1491856/Hindu/Brahmin/Aniket-Joglekar\n",
        "I am aniket, i am a CA, working in a CA firm, i m hardworking, enjoys travel, i like pets, passionate about driving cars. I expect my partner to be well educated, loving and understanding. I want her to manage home as well as her carrier."
       ]
      },
      {
       "output_type": "stream",
       "stream": "stdout",
       "text": [
        "\n",
        "630"
       ]
      },
      {
       "output_type": "stream",
       "stream": "stdout",
       "text": [
        " http://www.simplymarry.com/matrimonial/groom/SMM1564318/Hindu/Maratha/Nilesh-Kashid\n",
        "Hello, This is Nilesh. I am known to be fun loving, highly ambitious, dedicated, well cultured &amp; mannered person with a high respect to family values among my friends &amp; relatives. I am a Gold Medallist for B.Tech. from C.O.E.P., Pune &amp; have also done my M.E. in Structural Engineering. I am presently working as a Structural Design Engineer with a MNC in Pune. Here I am looking for a caring, well educated, cultured soul mate preferably from an engineering profession."
       ]
      },
      {
       "output_type": "stream",
       "stream": "stdout",
       "text": [
        "\n",
        "631"
       ]
      },
      {
       "output_type": "stream",
       "stream": "stdout",
       "text": [
        " http://www.simplymarry.com/matrimonial/groom/SMM1453589/Hindu/Koshti/Naresh-Parate\n",
        "Hello,I am design engineer working with MNC company in aurangabad,belongs from middle class family.I like playing &amp; watching cricket,traveling &amp; movies.Girl i am looking for should be loving,understadable &amp; well educated."
       ]
      },
      {
       "output_type": "stream",
       "stream": "stdout",
       "text": [
        "\n",
        "632"
       ]
      },
      {
       "output_type": "stream",
       "stream": "stdout",
       "text": [
        " http://www.simplymarry.com/matrimonial/groom/SMM1517964/Hindu/Koli-Mahadev/Sanjay-Deoram-Dharade\n",
        "I have leave with my mother, brother and his wife.both are govt servant. I am straight forward, soft minded. MY mother is house wife. Brother work in BMC, he is married his wife also work with Union Bank of India. My Father is no more. he was a ovt met servant. I have One sister, she is also a govt servant and married. I have completed my B.com From Somaiya Collage of Vidyavihar. I am working in N.M.M.C as a Data Entry Operator cum Clerk last Five years."
       ]
      },
      {
       "output_type": "stream",
       "stream": "stdout",
       "text": [
        "\n",
        "633"
       ]
      },
      {
       "output_type": "stream",
       "stream": "stdout",
       "text": [
        " http://www.simplymarry.com/matrimonial/groom/SMM1452035/Hindu/Brahmin---Deshastha/Radhakrishna-Shrinivasrao-Bhalerao\n",
        "I am 27 , Unmarried ,Hindu living in Pimpri And Chinchwad , Maharashtra , india hi this is radhakrishna .in search of partner who is well educated ,well mannered ,n njoys each moment of life........i likes to travel often ....."
       ]
      },
      {
       "output_type": "stream",
       "stream": "stdout",
       "text": [
        "\n",
        "634"
       ]
      },
      {
       "output_type": "stream",
       "stream": "stdout",
       "text": [
        " http://www.simplymarry.com/matrimonial/groom/SMM1523353/Hindu/Brahmin---Deshastha/Sachin\n",
        "I am a simple person with high aspirations who believes in family values. Raised in middle class family, I have done Masters in Computer Management but didn't want bind myself in 9 to 6 Job so started my own business at my home city Parbhani. Being self motivated person I started with nothing but achieving heights in my own business module. I am looking for a girl who strongly believes in family values and can stand by me in my thick and thin."
       ]
      },
      {
       "output_type": "stream",
       "stream": "stdout",
       "text": [
        "\n",
        "635"
       ]
      },
      {
       "output_type": "stream",
       "stream": "stdout",
       "text": [
        " http://www.simplymarry.com/matrimonial/groom/SMM1463079/Buddhist/Vikas\n",
        "Hi I am Vikas, Funloving and From well culture family. I have done my Engg and working in Private sector. My Family has five Mem.Giving more importance to personal life than Profe. belive in Life is beautiful ."
       ]
      },
      {
       "output_type": "stream",
       "stream": "stdout",
       "text": [
        "\n",
        "636"
       ]
      },
      {
       "output_type": "stream",
       "stream": "stdout",
       "text": [
        " http://www.simplymarry.com/matrimonial/groom/SMM1513533/Buddhist/Vishal-Murlidhar-Shamkule\n",
        "Hi, this is vishal, looking for a simple girl who can adjust me and my family, give respect and take respect and support me for whole life."
       ]
      },
      {
       "output_type": "stream",
       "stream": "stdout",
       "text": [
        "\n",
        "637"
       ]
      },
      {
       "output_type": "stream",
       "stream": "stdout",
       "text": [
        " http://www.simplymarry.com/matrimonial/groom/SMM1537671/Hindu/Maratha/Krishna-Suste\n",
        "Like being indulged in social work. Am a teacher but now have self regain and self chosen marketing field in LIC direct executive."
       ]
      },
      {
       "output_type": "stream",
       "stream": "stdout",
       "text": [
        "\n",
        "638"
       ]
      },
      {
       "output_type": "stream",
       "stream": "stdout",
       "text": [
        " http://www.simplymarry.com/matrimonial/groom/SMM1472780/Hindu/Maratha/Yogesh-Nalawade\n",
        "Im a simple boy, who believes in simple living and high thinking. I want a bride, who can understand me and believe in me, who is caring, loving and understanding. I have my own business and we have a joint family."
       ]
      },
      {
       "output_type": "stream",
       "stream": "stdout",
       "text": [
        "\n",
        "639"
       ]
      },
      {
       "output_type": "stream",
       "stream": "stdout",
       "text": [
        " http://www.simplymarry.com/matrimonial/groom/SMM1513584/Hindu/Mali/Nilesh-Ubale\n",
        "I am Nilesh ubale, I am mechanical engineer working in power sector in Nagpur city. I am simple guy with silent in nature. I am searching for girl who is simple in nature and understand the family values."
       ]
      },
      {
       "output_type": "stream",
       "stream": "stdout",
       "text": [
        "\n",
        "640"
       ]
      },
      {
       "output_type": "stream",
       "stream": "stdout",
       "text": [
        " http://www.simplymarry.com/matrimonial/groom/SMM1619743/Jain/Digambar/Rahul-Rameshchandra-Kothari\n",
        "I am a simple living and hard working person. Like to care for all and help others where ever possible. Do not like gossiping and spending time on unproductive matters and love being with like minded people and reading."
       ]
      },
      {
       "output_type": "stream",
       "stream": "stdout",
       "text": [
        "\n",
        "641"
       ]
      },
      {
       "output_type": "stream",
       "stream": "stdout",
       "text": [
        " http://www.simplymarry.com/matrimonial/groom/SMM1563668/Jain/Shewetamber/Vinay-Kothari\n",
        "I believe whatever happens, happens for a reason. I would describe myself as a happy go lucky person who lives each day as it comes and enjoying the life to its best. I believe in making the best of today to have a better tomorrow. My interests are freaking out and travel ling, going to places, learning new things, making friends. I work for a renowned MNC for their US based process (night shift) which is into Reinsurance Broking Business for clients based all over the Globe at a senior position."
       ]
      },
      {
       "output_type": "stream",
       "stream": "stdout",
       "text": [
        "\n",
        "642"
       ]
      },
      {
       "output_type": "stream",
       "stream": "stdout",
       "text": [
        " http://www.simplymarry.com/matrimonial/groom/SMM1476401/Hindu/Maratha/Sangram\n",
        "I am born and brought up in Pune. Currently working as Test Analyst in Pune, Hinjewadi. I have a sister, who is married and settled in US. My Mother is a Housewife. Father is an Advocate. My hobbies are surfing internet and listening to music."
       ]
      },
      {
       "output_type": "stream",
       "stream": "stdout",
       "text": [
        "\n",
        "643"
       ]
      },
      {
       "output_type": "stream",
       "stream": "stdout",
       "text": [
        " http://www.simplymarry.com/matrimonial/groom/SMM1562332/Buddhist/Anand-Thoolkar\n",
        "I have a 5 yrs old child, my wife expired during delivery."
       ]
      },
      {
       "output_type": "stream",
       "stream": "stdout",
       "text": [
        "\n",
        "644"
       ]
      },
      {
       "output_type": "stream",
       "stream": "stdout",
       "text": [
        " http://www.simplymarry.com/matrimonial/groom/SMM1471819/Hindu/Bhavasar-Kshatriya/Sachin\n",
        "Hi, am Sachin, working as an Engineering Manager for an MNC in Hyderabad. Am a fun loving, cheerful, hardworking and straight forward person. I love spending time with my friends and family. I'm a foodie guy. I love going on long drives, Gym, playing cricket, music, movies. We are looking for a partner who is simple and understanding, who respect and mainly understands family and relations."
       ]
      },
      {
       "output_type": "stream",
       "stream": "stdout",
       "text": [
        "\n",
        "645"
       ]
      },
      {
       "output_type": "stream",
       "stream": "stdout",
       "text": [
        " http://www.simplymarry.com/matrimonial/groom/SMM1568519/Hindu/Swakula-Sali/Dr-Swapnil-Rajaram\n",
        "Am a straight forward and happy go lucky type of a person. Live in the joint family and wish to continue the same. Expect a girl from well educated family. She should be BAMS/ MBBS/ MD / MS/ PG diploma."
       ]
      },
      {
       "output_type": "stream",
       "stream": "stdout",
       "text": [
        "\n",
        "646"
       ]
      },
      {
       "output_type": "stream",
       "stream": "stdout",
       "text": [
        " http://www.simplymarry.com/matrimonial/groom/SMM1448931/Hindu/Brahmin---Karhade/Bhalchandra-Halbe\n",
        "Hi, I am Bhalchandra Halbe. I have completed my Bachelors in Arts and currently pursuing PGDCRM thru correspondence, from Symbiosis DLC in Pune. I am currently working as a Team Leader in a MNC in Pune. I am a soldier by Heart. I am not a too religious person, but yes I firmly believe in God. My friends describe me as: Confident, Outgoing, Friendly, Supportive and encourager. Motto in life: Enjoy life as it comes and be truthful to your own Heart. Hobbies: Listening Music(Anything that sounds good), Going on long drives. Favorite books: Not at all, I'm not a bookish person. Favorite sports: Volleyball, Swimming, Cricket and to some extent football as well. Views on marriage: Marriage to me signifies the creation of a family group. Also marriage ideally occurs when two individuals know each other, respect and cherish each other, and love each other as human beings. Hence Just looking for a life partner who will support throughout."
       ]
      },
      {
       "output_type": "stream",
       "stream": "stdout",
       "text": [
        "\n",
        "647"
       ]
      },
      {
       "output_type": "stream",
       "stream": "stdout",
       "text": [
        " http://www.simplymarry.com/matrimonial/groom/SMM1525105/Hindu/Maratha/Nilesh-Hiraman-Hire\n",
        "Am 31yrs old, Doctor by profession, residing in Mumbai. Searching for someone slim beautiful, talented, smart &amp; talkative. Father is rtd. professor, mother is a housewife, brother &amp; his wife software engineer, sister &amp; her husband is doctor (Anesthesiologist)."
       ]
      },
      {
       "output_type": "stream",
       "stream": "stdout",
       "text": [
        "\n",
        "648"
       ]
      },
      {
       "output_type": "stream",
       "stream": "stdout",
       "text": [
        " http://www.simplymarry.com/matrimonial/groom/SMM1443164/Hindu/Maratha/Sandeep-Pradeep-Shinde\n",
        "I am Sandeep Shinde. I have completed my Bachelors in Commerce. Currently perusing MBA from SMU first year. Currently working as a Executive in Credit control - Revenue in leading Media network. I like to enjoy every second of life whether its happy moments or sad. My friends describe me as: Fun loving &amp; naughty. Motto in life: Live life king size. Hobbies: Singing, Reading, Outing and Drawing. Favorite sports: Cricket. Views on marriage: Life long friendship."
       ]
      },
      {
       "output_type": "stream",
       "stream": "stdout",
       "text": [
        "\n",
        "649"
       ]
      },
      {
       "output_type": "stream",
       "stream": "stdout",
       "text": [
        " http://www.simplymarry.com/matrimonial/groom/SMM1582442/Buddhist/Rakesh-Kumar-Patil\n",
        "I am a simply guy with full of traditional values."
       ]
      },
      {
       "output_type": "stream",
       "stream": "stdout",
       "text": [
        "\n",
        "650"
       ]
      },
      {
       "output_type": "stream",
       "stream": "stdout",
       "text": [
        " http://www.simplymarry.com/matrimonial/groom/SMM1582166/Hindu/Brahmin---Saraswat/Omkar-Rajdhyaksha\n",
        "HE IS THE ONLY SON. FATHER GOT EXPIRED RECENTLY. WORKING FOR AN SHIPPING COMPANY. DONE HIS MBA. HE IS VERY RELIGIOUS, VERY CALM AND A SMILING BOY WHO IS FAMILY ORIENTED."
       ]
      },
      {
       "output_type": "stream",
       "stream": "stdout",
       "text": [
        "\n",
        "651"
       ]
      },
      {
       "output_type": "stream",
       "stream": "stdout",
       "text": [
        " http://www.simplymarry.com/matrimonial/groom/SMM1567992/Hindu/Mali/Dhiraj-Shrikhande\n",
        "Belongs to a traditional nuclear family of four. I am working with PSU bank as a Manager and currently posted in Mumbai."
       ]
      },
      {
       "output_type": "stream",
       "stream": "stdout",
       "text": [
        "\n",
        "652"
       ]
      },
      {
       "output_type": "stream",
       "stream": "stdout",
       "text": [
        " http://www.simplymarry.com/matrimonial/groom/SMM1448223/Hindu/Maratha/Kiran-Laxman-Mhaske\n",
        "I AM SIMPLE. LOOKING FOR SIMPLE AND UNDERSTANDABLE PARTNER. JOINT FAMILY. I AM B.Sc.GRADUATE. I AM LIVING IN MUMBAI.WORKING IN MSD PHARMA.PVT.LTD. I AM FUN LOVING AND UNDERSTANDING. AND HAVING RESPECT FOR FAMILY AND TRADITIONAL VALUE."
       ]
      },
      {
       "output_type": "stream",
       "stream": "stdout",
       "text": [
        "\n",
        "653"
       ]
      },
      {
       "output_type": "stream",
       "stream": "stdout",
       "text": [
        " http://www.simplymarry.com/matrimonial/groom/SMF1508237/Hindu/Maratha/Atul-Marne\n",
        "i am so coooooooooollllllllllllll.........................................................................................................................................................................................................................................................................."
       ]
      },
      {
       "output_type": "stream",
       "stream": "stdout",
       "text": [
        "\n",
        "654"
       ]
      },
      {
       "output_type": "stream",
       "stream": "stdout",
       "text": [
        " http://www.simplymarry.com/matrimonial/groom/SMM1508423/Buddhist/Prashant-Moon\n",
        "I am known to be a warm, caring, friendly, family oriented person. I'm pretty easy to get along with, generally a sunny person. I like to be around people who see the lighter vein in everything they do. I'm quite open-minded &amp; out spoken about life in general; tend to be accommodating and flexible. I am known to be very silent person in my family as I dislike violence. I am looking for the good life partner for good future &amp; moral support. I do not believe in dowry system."
       ]
      },
      {
       "output_type": "stream",
       "stream": "stdout",
       "text": [
        "\n",
        "655"
       ]
      },
      {
       "output_type": "stream",
       "stream": "stdout",
       "text": [
        " http://www.simplymarry.com/matrimonial/groom/SMM1456577/Hindu/Brahmin---Daivadnya/Sanket-S.-Navghare\n",
        "Hi, I have an outgoing personality, love nature a lot and like to spend most off time in nature, loves adventure, trekking, traveling, sketching. Point of view towards life is very simple happy go lucky and facing life the same way it comes to you."
       ]
      },
      {
       "output_type": "stream",
       "stream": "stdout",
       "text": [
        "\n",
        "656"
       ]
      },
      {
       "output_type": "stream",
       "stream": "stdout",
       "text": [
        " http://www.simplymarry.com/matrimonial/groom/SMM1570822/Hindu/Hiten-S-Jankar\n",
        "I am a Simple &amp; easy going person. With a witty, realistic, honest, organized, dedicated, helpful, gentle and try to make things Perfect. I expect my partner to be well-settled,understanding, and honest, humble, caring,and should be rational in behavior and expectations."
       ]
      },
      {
       "output_type": "stream",
       "stream": "stdout",
       "text": [
        "\n",
        "657"
       ]
      },
      {
       "output_type": "stream",
       "stream": "stdout",
       "text": [
        " http://www.simplymarry.com/matrimonial/groom/SMM1543352/Buddhist/Nitin-Jagannath-Sambodhi\n",
        "658"
       ]
      },
      {
       "output_type": "stream",
       "stream": "stdout",
       "text": [
        " http://www.simplymarry.com/matrimonial/groom/SMM1621313/Hindu/Mahar/Ajay-Arbale\n",
        "Am simple but classy with no-nonsense and sportive person. Market Researcher by profession. Enjoys photography, learning music and plans to Master equestrian and flying."
       ]
      },
      {
       "output_type": "stream",
       "stream": "stdout",
       "text": [
        "\n",
        "659"
       ]
      },
      {
       "output_type": "stream",
       "stream": "stdout",
       "text": [
        " http://www.simplymarry.com/matrimonial/groom/SMM1473456/Hindu/Brahmin---Saraswat/Milind-Heble\n",
        "Hi this is Milind. I am working in TV channel as a video editor. I am staying with my mother and elder sister. Basically my father is from karwar (we are chitrapur saraswat) and mother is Ckp."
       ]
      },
      {
       "output_type": "stream",
       "stream": "stdout",
       "text": [
        "\n",
        "660"
       ]
      },
      {
       "output_type": "stream",
       "stream": "stdout",
       "text": [
        " http://www.simplymarry.com/matrimonial/groom/SMM1473407/Hindu/Maratha/Sunil\n",
        "Fun loving, adaptable, caring and sensitive, determined, hardworking, outgoing."
       ]
      },
      {
       "output_type": "stream",
       "stream": "stdout",
       "text": [
        "\n",
        "661"
       ]
      },
      {
       "output_type": "stream",
       "stream": "stdout",
       "text": [
        " http://www.simplymarry.com/matrimonial/groom/SMM1442416/Christian/Others/Pranjal-Namey\n",
        "Hi, I am a simple, God fearing person and looking for a life partner who would be loving, caring &amp; God fearing."
       ]
      },
      {
       "output_type": "stream",
       "stream": "stdout",
       "text": [
        "\n",
        "662"
       ]
      },
      {
       "output_type": "stream",
       "stream": "stdout",
       "text": [
        " http://www.simplymarry.com/matrimonial/groom/SMM1447843/Hindu/Maratha/Bhoite-Shivaji-Shrimant\n",
        "I am Shivaji from Maharastra, have completed my education from Pune from 11th std to P.G. and right now, working in a MNC Pharma as Research Scientist."
       ]
      },
      {
       "output_type": "stream",
       "stream": "stdout",
       "text": [
        "\n",
        "663"
       ]
      },
      {
       "output_type": "stream",
       "stream": "stdout",
       "text": [
        " http://www.simplymarry.com/matrimonial/groom/SMM1475559/Buddhist/Dhawal\n",
        "I have done BE in Mechanical from VNIT Nagpur. I am working as Assistant Manager (Engineering) in a Maharatna Public Sector Undertaking, presently posted at Raipur (Chattisgarh). Father: PhD, Principal in a Senior College (Commerce &amp; Management) in Nagpur. Mother: Opted VRS, worked in Reserve Bank of India, Elder Brother: BE (Mechanical), VNIT Nagpur and M.Tech from IIT Kanpur, working in a Software firm in Pune. Sister-in-law: BE in Electronics, working in a Govt. Organization in Pune."
       ]
      },
      {
       "output_type": "stream",
       "stream": "stdout",
       "text": [
        "\n",
        "664"
       ]
      },
      {
       "output_type": "stream",
       "stream": "stdout",
       "text": [
        " http://www.simplymarry.com/matrimonial/groom/SMM1489956/Hindu/Maratha/Kunal-Deshmukh\n",
        "Hello, I am kunal deshmukh. I am very simple, straight forward, fun loving human being and looking for similar soul. My friends describe me as: confident. Hobbies: Travelling. Favorite sports: Badminton, football."
       ]
      },
      {
       "output_type": "stream",
       "stream": "stdout",
       "text": [
        "\n",
        "665"
       ]
      },
      {
       "output_type": "stream",
       "stream": "stdout",
       "text": [
        " http://www.simplymarry.com/matrimonial/groom/SMM1583380/Hindu/Rajput/Rohit-Patil\n",
        "Am a simple and smart guy and in search of smart, beautiful and educated partner."
       ]
      },
      {
       "output_type": "stream",
       "stream": "stdout",
       "text": [
        "\n",
        "666"
       ]
      },
      {
       "output_type": "stream",
       "stream": "stdout",
       "text": [
        " http://www.simplymarry.com/matrimonial/groom/SMM1485008/Buddhist/Prakash-Jagtap\n",
        "Hi, i am from kalyan. I speak English, hindi and marathi. I am smart and pleasing in nature and have lot of friends. I hope to find someone who is cheerful, pleasing and a good friend. My hobbies include reading and travelling."
       ]
      },
      {
       "output_type": "stream",
       "stream": "stdout",
       "text": [
        "\n",
        "667"
       ]
      },
      {
       "output_type": "stream",
       "stream": "stdout",
       "text": [
        " http://www.simplymarry.com/matrimonial/groom/SMM1501621/Hindu/Kunbi/Abhinav-Sudhir-Pawar\n",
        "I am cool. Love bodybuilding. My dream is to see the whole world with my life partner. And keep my parents and my partner happy."
       ]
      },
      {
       "output_type": "stream",
       "stream": "stdout",
       "text": [
        "\n",
        "668"
       ]
      },
      {
       "output_type": "stream",
       "stream": "stdout",
       "text": [
        " http://www.simplymarry.com/matrimonial/groom/SMM1543675/Hindu/Brahmin/Vibhas-Dindal\n",
        "I am born in Ujjain Madhya Pradesh. I am a Photographer &amp; photo editor and very close to my family and friends."
       ]
      },
      {
       "output_type": "stream",
       "stream": "stdout",
       "text": [
        "\n",
        "669"
       ]
      },
      {
       "output_type": "stream",
       "stream": "stdout",
       "text": [
        " http://www.simplymarry.com/matrimonial/groom/SMM1576784/Buddhist/Tanmay\n",
        "An easy going person from a well cultured and well known family. Looking for a decent understanding caring and loving life partner. I am from software field so will prefer someone from software field."
       ]
      },
      {
       "output_type": "stream",
       "stream": "stdout",
       "text": [
        "\n",
        "670"
       ]
      },
      {
       "output_type": "stream",
       "stream": "stdout",
       "text": [
        " http://www.simplymarry.com/matrimonial/groom/SMM1542605/Hindu/Maratha/Ketan-Ghosalkar\n",
        "Am a fun loving and out-going guy who likes to travel to new places."
       ]
      },
      {
       "output_type": "stream",
       "stream": "stdout",
       "text": [
        "\n",
        "671"
       ]
      },
      {
       "output_type": "stream",
       "stream": "stdout",
       "text": [
        " http://www.simplymarry.com/matrimonial/groom/SMM1445539/Hindu/Brahmin---Deshastha/Gunwant-Vijay-Patil\n",
        "m selfemployed. My native place is Rohina - Latur, From Last ten yrs im in Pune. I have completed my BFA From Pune University. Im Running my company in name of Turnhere Design House. Located At MG Road Camp Pune. Im Looking For Simple &amp; Educated Life Partner who can understand accordingly."
       ]
      },
      {
       "output_type": "stream",
       "stream": "stdout",
       "text": [
        "\n",
        "672"
       ]
      },
      {
       "output_type": "stream",
       "stream": "stdout",
       "text": [
        " http://www.simplymarry.com/matrimonial/groom/SMM1521222/Hindu/Kunbi/Narendra-B-Mathankar\n",
        "I am fun loving person who believes in enjoying and utilizing each and every moment of life as each and every moment in life is unique and can't be achieved back at any cost once it's past. I always respect others feeling and strongly believe that one should not hurt other just to achieve their own benefit as others also have same feeling as you. I love dancing, travelling, writing poems, Articles, stories, sketching, acting and playing cricket and badminton"
       ]
      },
      {
       "output_type": "stream",
       "stream": "stdout",
       "text": [
        "\n",
        "673"
       ]
      },
      {
       "output_type": "stream",
       "stream": "stdout",
       "text": [
        " http://www.simplymarry.com/matrimonial/groom/SMM1484423/Hindu/Vaishya-Vani/Sham-Kharade\n",
        "I'M A SIMPLE GUY. LOOKING FOR A CARING AND LOVING PARTNER."
       ]
      },
      {
       "output_type": "stream",
       "stream": "stdout",
       "text": [
        "\n",
        "674"
       ]
      },
      {
       "output_type": "stream",
       "stream": "stdout",
       "text": [
        " http://www.simplymarry.com/matrimonial/groom/SMM1514645/Hindu/Sonar/Chandrakant-Soni\n",
        "I am a simple and down to earth guy. Believe in family values. Like movies and picnics. I am very optimistic about the future."
       ]
      },
      {
       "output_type": "stream",
       "stream": "stdout",
       "text": [
        "\n",
        "675"
       ]
      },
      {
       "output_type": "stream",
       "stream": "stdout",
       "text": [
        " http://www.simplymarry.com/matrimonial/groom/SMM1455103/Hindu/Brahmin/Prachit-P-Jamdar\n",
        "I am a hard working and a honest guy, who is a workaholic and who likes to dream big and also achieve big things in his life. I am a straight forward guy. I am a shy person, who doesn't like to talk much and also keep things to himself."
       ]
      },
      {
       "output_type": "stream",
       "stream": "stdout",
       "text": [
        "\n",
        "676"
       ]
      },
      {
       "output_type": "stream",
       "stream": "stdout",
       "text": [
        " http://www.simplymarry.com/matrimonial/groom/SMM1622682/Hindu/Koshti/Devendra-Rupram-Bokde\n",
        "Looking for a moderate wife having lovely nature and support my vision. I am a high thinking and simple living guy. I love Tracking, Painting and Photography. I am an open book."
       ]
      },
      {
       "output_type": "stream",
       "stream": "stdout",
       "text": [
        "\n",
        "677"
       ]
      },
      {
       "output_type": "stream",
       "stream": "stdout",
       "text": [
        " http://www.simplymarry.com/matrimonial/groom/SMM1469684/Buddhist/Prafull-Prakash-Pandit\n",
        "My Son has done B.E in E&TC; from Mumbai University and now working with TATA Communications Ltd as a Senior Executive.\n",
        "Our Family comprises of five members. We stay in Ambernath,Thane district. My Son works and stays in Pune as of now.\n",
        "We're looking for a Girl who believes in Buddha's teachings, who is independent, has liberal views, goes by reasoning and has an understanding nature."
       ]
      },
      {
       "output_type": "stream",
       "stream": "stdout",
       "text": [
        "\n",
        "678"
       ]
      },
      {
       "output_type": "stream",
       "stream": "stdout",
       "text": [
        " http://www.simplymarry.com/matrimonial/groom/SMM1598462/Hindu/Kokanastha-Maratha/Mangesh-Ghosalkar\n",
        "My close friend Mangesh is working all together with me in an MNC and we both are into Animation department as Senior managers. He is good in art and is living with his parents in Mumbai. Seeking for a compatible partner for him."
       ]
      },
      {
       "output_type": "stream",
       "stream": "stdout",
       "text": [
        "\n",
        "679"
       ]
      },
      {
       "output_type": "stream",
       "stream": "stdout",
       "text": [
        " http://www.simplymarry.com/matrimonial/groom/SMM1577532/Hindu/Mahar/Ravikiran\n",
        "I am currently working in Hyderabad in private company as Crop Manager. Basically am from Sangli, Maharashtra. I am down to earth, simple, ambitious person, looking for girl who is modern yet have traditional values."
       ]
      },
      {
       "output_type": "stream",
       "stream": "stdout",
       "text": [
        "\n",
        "680"
       ]
      },
      {
       "output_type": "stream",
       "stream": "stdout",
       "text": [
        " http://www.simplymarry.com/matrimonial/groom/SMM1508729/Hindu/Brahmin---Saraswat/Durgesh-R\n",
        "Hi, i m good looking person with good personality. Working with a good salary. Just love to work hard and scarify myself to my better future."
       ]
      },
      {
       "output_type": "stream",
       "stream": "stdout",
       "text": [
        "\n",
        "681"
       ]
      },
      {
       "output_type": "stream",
       "stream": "stdout",
       "text": [
        " http://www.simplymarry.com/matrimonial/groom/SMM1487996/Hindu/Maratha/Rahul-Hanmant-Salunkhe\n",
        "Hello, Myself Salunkhe Rahul. Am Master in Mechanical Engineering, working as Fluid Thermal System Design Engineer at Pune. My native is in Nagthane (Satara). I am a simple and joyful person."
       ]
      },
      {
       "output_type": "stream",
       "stream": "stdout",
       "text": [
        "\n",
        "682"
       ]
      },
      {
       "output_type": "stream",
       "stream": "stdout",
       "text": [
        " http://www.simplymarry.com/matrimonial/groom/SMM1571994/Hindu/Sonar/Swapnil-Dilip-Dhomne\n",
        "I am 24 yrs old. I am done with my studies and right now, am a involved and a helping hands in my fathers business and managing my own business too."
       ]
      },
      {
       "output_type": "stream",
       "stream": "stdout",
       "text": [
        "\n",
        "683"
       ]
      },
      {
       "output_type": "stream",
       "stream": "stdout",
       "text": [
        " http://www.simplymarry.com/matrimonial/groom/SMM1480425/Hindu/Brahmin---Deshastha/Swapnil-Joshi\n",
        "I am an ambitious guy, looking for the ambitious girl who wants to fly with dreams and make them true on this earth. I have father, younger sister and me, father is working with birla group, younger sister is doing engineering and myself with an mnc company in daman and diu, truly speaking, i don't take cigarettes and alcohol."
       ]
      },
      {
       "output_type": "stream",
       "stream": "stdout",
       "text": [
        "\n",
        "684"
       ]
      },
      {
       "output_type": "stream",
       "stream": "stdout",
       "text": [
        " http://www.simplymarry.com/matrimonial/groom/SMM1504340/Hindu/Maratha/Sudhnm\n",
        "I am looking for a modern, independent, attractive partner who also has a good sense of humour. Personally I have a face for every occasion since I can blend in with the crowd. I am a person who is very caring, loving, compassionate, considerate, cheerful, optimistic, calm, soft-spoken, strong-willed, and persevering. I m looking for a person who should be well settled and gives equal importance to work and family."
       ]
      },
      {
       "output_type": "stream",
       "stream": "stdout",
       "text": [
        "\n",
        "685"
       ]
      },
      {
       "output_type": "stream",
       "stream": "stdout",
       "text": [
        " http://www.simplymarry.com/matrimonial/groom/SMM1566919/Hindu/Brahmin/Mahesh\n",
        "Fun loving person and highly appreciate those having a good sense of humor and a positive outlook. Always been very close to my family and friends and try to remain in touch. Would like to meet someone who shares the same value &amp; respect I place in family, friends &amp; culture."
       ]
      },
      {
       "output_type": "stream",
       "stream": "stdout",
       "text": [
        "\n",
        "686"
       ]
      },
      {
       "output_type": "stream",
       "stream": "stdout",
       "text": [
        " http://www.simplymarry.com/matrimonial/groom/SMM1628586/Hindu/Gupta/Shiva-Mehn\n",
        "We are three siblings and I am his elder sister, married. My brother is well educated, fair, good looking and down to earth person. My father is working for private company and my mother is retired."
       ]
      },
      {
       "output_type": "stream",
       "stream": "stdout",
       "text": [
        "\n",
        "687"
       ]
      },
      {
       "output_type": "stream",
       "stream": "stdout",
       "text": [
        " http://www.simplymarry.com/matrimonial/groom/SMM1529196/Christian/Protestant/Rakesh-R.-Kamble\n",
        "Hello, thanks for showing interest in my profile. I am a god fearing person who believes in god. I am a postgraduate in professional social work and have experience of working for social development since last seven years. Recently, I am working in YASHADA, a government training organization on the post of Project Officer and handling Nashik and Thane district. I have been working for watershed development project run by central government for government of Maharashtra. I am a fun loving person who loves to enjoy every moment of life. My hobby is listening music and traveling in leisure time. I respect elders and love parents."
       ]
      },
      {
       "output_type": "stream",
       "stream": "stdout",
       "text": [
        "\n",
        "688"
       ]
      },
      {
       "output_type": "stream",
       "stream": "stdout",
       "text": [
        " http://www.simplymarry.com/matrimonial/groom/SMM1581897/Hindu/Maratha/Ashok\n",
        "I am MBA, B.Com and Engineering degree holder. Loves to be around my friends and family. Believes in giving equal importance to family and career. I find myself to be gentle, caring and ambitious person who understands the true meaning of a relationship and will do everything possible to maintain that. Always ready to explore new possibilities."
       ]
      },
      {
       "output_type": "stream",
       "stream": "stdout",
       "text": [
        "\n",
        "689"
       ]
      },
      {
       "output_type": "stream",
       "stream": "stdout",
       "text": [
        " http://www.simplymarry.com/matrimonial/groom/SMM1469194/Hindu/Kunbi/Samir-Chavan\n",
        "Hey, I m in search of a such a partner who have a beautiful nature. I am a very simple, very grounded, straight from heart person. I always believe in ethical and moral values of society. I have a faith in our religion. I would love to be love and care by my partner."
       ]
      },
      {
       "output_type": "stream",
       "stream": "stdout",
       "text": [
        "\n",
        "690"
       ]
      },
      {
       "output_type": "stream",
       "stream": "stdout",
       "text": [
        " http://www.simplymarry.com/matrimonial/groom/SMM1438094/Hindu/Brahmin/Mangesh-M-Kanaiya\n",
        "I am B.Com graduate &amp; staying with my parents. I was in Muscuit for one year as a Sales Executive &amp; 3 yrs in Malaysia as a Over Head Crane Operator. At present, workings with the reputed travel company as a Marketing Executive. I am ready to re-locate with her if my future life partner required."
       ]
      },
      {
       "output_type": "stream",
       "stream": "stdout",
       "text": [
        "\n",
        "691"
       ]
      },
      {
       "output_type": "stream",
       "stream": "stdout",
       "text": [
        " http://www.simplymarry.com/matrimonial/groom/SMM1458719/Buddhist/Sachin-Jagtap\n",
        "I am simple and easy going person. I just love hang out on weekends, love to watch movies, going to GYM, and i love to dance too. I respect the value of life partner, so in search of a good person, should not have ego problem, should respect elders. I do work in Hinjewadi DLF Synechron company."
       ]
      },
      {
       "output_type": "stream",
       "stream": "stdout",
       "text": [
        "\n",
        "692"
       ]
      },
      {
       "output_type": "stream",
       "stream": "stdout",
       "text": [
        " http://www.simplymarry.com/matrimonial/groom/SMM1452176/Hindu/Maratha/Kamlesh-Vichare\n",
        "i m simple, good looking, good health by god grace, family comprises mother she is a home maker, father is retd, sis is a software programmer, married to film tech, have 2 own flats in mumbai. i m the second officer in merchant navy."
       ]
      },
      {
       "output_type": "stream",
       "stream": "stdout",
       "text": [
        "\n",
        "693"
       ]
      },
      {
       "output_type": "stream",
       "stream": "stdout",
       "text": [
        " http://www.simplymarry.com/matrimonial/groom/SMM1473142/Hindu/Brahmin---Deshastha/Gaurav-Arun-Kshirsagar\n",
        "I am simple, easy going and progressive, calm by nature. i live with my mom. my father is no more. i have one married sister, staying in pune. i want a simple partner, who could understand me and who is a suitable match for me."
       ]
      },
      {
       "output_type": "stream",
       "stream": "stdout",
       "text": [
        "\n",
        "694"
       ]
      },
      {
       "output_type": "stream",
       "stream": "stdout",
       "text": [
        " http://www.simplymarry.com/matrimonial/groom/SMM1446612/Hindu/Dhangar/Pankaj-Walhekar\n",
        "My self Dr Pankaj doing MD(med)in AYU. Recently i started a 40 bed multi speciality hospital in Nashik. i'm fun loving,caring,and conscientious."
       ]
      },
      {
       "output_type": "stream",
       "stream": "stdout",
       "text": [
        "\n",
        "695"
       ]
      },
      {
       "output_type": "stream",
       "stream": "stdout",
       "text": [
        " http://www.simplymarry.com/matrimonial/groom/SMM1501717/Hindu/Maratha/Gorakh-Arjun-Sawant\n",
        "I see myself as a stable, responsible, self confident and fun loving person who has a good set of values. I am the type of person who looks forward to start the day with all enthusiasm. It is in my nature to accept the facts of life whether they are pleasant or not. Essentially, I have entered the phase of my life where I'm ready to share the joys and sorrows of life with my better half. Drop in a line and we will take it from there."
       ]
      },
      {
       "output_type": "stream",
       "stream": "stdout",
       "text": [
        "\n",
        "696"
       ]
      },
      {
       "output_type": "stream",
       "stream": "stdout",
       "text": [
        " http://www.simplymarry.com/matrimonial/groom/SMM1455459/Hindu/Dhobi/Sandeep-P.-Wagh\n",
        "simple down to earth, caring, fun loving person caring towards family. njoy every moment of life, very friendly nature. all my friend describes me very cool person, respecting others and i love my family more than myself."
       ]
      },
      {
       "output_type": "stream",
       "stream": "stdout",
       "text": [
        "\n",
        "697"
       ]
      },
      {
       "output_type": "stream",
       "stream": "stdout",
       "text": [
        " http://www.simplymarry.com/matrimonial/groom/SMM1568860/Buddhist/Swapnil-Ingle\n",
        "Hi my name is Swapnil Ingle. My hobbies are swimming, trekking etc. I am family oriented person love to spend time with mom and dad. My mother is principle and father is retired. I have a elder brother who is married and working in Mumbai."
       ]
      },
      {
       "output_type": "stream",
       "stream": "stdout",
       "text": [
        "\n",
        "698"
       ]
      },
      {
       "output_type": "stream",
       "stream": "stdout",
       "text": [
        " http://www.simplymarry.com/matrimonial/groom/SMM1526439/Hindu/Maratha/Amit-H-Khot\n",
        "I always keep on smiling and love people who smile. I like to travel and make new friends. I hate persons who have something in face and something in mind. I love pets, i spend most of my time with my friends."
       ]
      },
      {
       "output_type": "stream",
       "stream": "stdout",
       "text": [
        "\n",
        "699"
       ]
      },
      {
       "output_type": "stream",
       "stream": "stdout",
       "text": [
        " http://www.simplymarry.com/matrimonial/groom/SMM1474077/Hindu/CKP/Leelesh\n",
        "Well, I am simple down to earth individual, love to freak out and have fun, well educated with good family virtues and currently working with software company as a executive officer. Looking forward for a partner who would be supportive, she should be loving, caring and of course understanding."
       ]
      },
      {
       "output_type": "stream",
       "stream": "stdout",
       "text": [
        "\n",
        "700"
       ]
      },
      {
       "output_type": "stream",
       "stream": "stdout",
       "text": [
        " http://www.simplymarry.com/matrimonial/groom/SMM1474580/Hindu/Mali/Amol-Ganorkar\n",
        "I am fun loving person, from Nagpur and looking for a working partner."
       ]
      },
      {
       "output_type": "stream",
       "stream": "stdout",
       "text": [
        "\n",
        "701"
       ]
      },
      {
       "output_type": "stream",
       "stream": "stdout",
       "text": [
        " http://www.simplymarry.com/matrimonial/groom/SMM1506213/Hindu/Brahmin---Kokanastha/Rohit-Barve\n",
        "Hello I am Rohit Barve . I work in a well established IT company as a software developer. I am a caring person. By profession I am a software engineer, and by heart being a nature loving person, I like to travel a lot! I live in Pune with my mother , father and sister ."
       ]
      },
      {
       "output_type": "stream",
       "stream": "stdout",
       "text": [
        "\n",
        "702"
       ]
      },
      {
       "output_type": "stream",
       "stream": "stdout",
       "text": [
        " http://www.simplymarry.com/matrimonial/groom/SMM1573193/Buddhist/Mayur-Meshram\n",
        "I am a person who is focused towards my career and does not believe in Castism or racism. By nature, i am very calm and non gossiping kind of a person. Born and brought up in a good family background with good human values having respect for elderly people. Open minded but don't gel with people easily and take time. Loves to travel and enjoy life to the fullest at the same time i am calculative and observant. I am fond of pets, especially dogs. Like western music, Indian classical and Bollywood music. Very strong minded/ fitness conscious, loves to watch movies and loves non-veg food. My parents are from Vidarbha but we are settled in Pune for last 20 yrs and am currently in Amsterdam for a project."
       ]
      },
      {
       "output_type": "stream",
       "stream": "stdout",
       "text": [
        "\n",
        "703"
       ]
      },
      {
       "output_type": "stream",
       "stream": "stdout",
       "text": [
        " http://www.simplymarry.com/matrimonial/groom/SMM1557231/Hindu/Brahmin---Kokanastha/Anup-Karandikar\n",
        "Am a straight forward, simple &amp; down to earth guy with family values. Love music, bikes, electronic gadgets, food and travelling. Looking for a girl who can share all this with me, is smart, simple, educated and confident."
       ]
      },
      {
       "output_type": "stream",
       "stream": "stdout",
       "text": [
        "\n",
        "704"
       ]
      },
      {
       "output_type": "stream",
       "stream": "stdout",
       "text": [
        " http://www.simplymarry.com/matrimonial/groom/SMM1466721/Hindu/Brahmin---Deshastha/Sathya-Narayanan\n",
        "I am from a middle class family; At present I am working at Saudi Arabia in an MNC. I have been survived by father only. mother passed away, 2 sisters all married. I am working on rotation basis, 2 months work and 2 months vacation."
       ]
      },
      {
       "output_type": "stream",
       "stream": "stdout",
       "text": [
        "\n",
        "705"
       ]
      },
      {
       "output_type": "stream",
       "stream": "stdout",
       "text": [
        " http://www.simplymarry.com/matrimonial/groom/SMM1471453/Hindu/Brahmin---Deshastha/Amey-Agnihotri\n",
        "I am a Software Engineer based in Pune. I am looking for a partner who is outgoing, outspoken, liberal and practical. I love watching movies, listening to music, eating out and hanging out with friends."
       ]
      },
      {
       "output_type": "stream",
       "stream": "stdout",
       "text": [
        "\n",
        "706"
       ]
      },
      {
       "output_type": "stream",
       "stream": "stdout",
       "text": [
        " http://www.simplymarry.com/matrimonial/groom/SMM1511801/Hindu/Chandraseniya-Kayastha-Prab/Lokesh\n",
        "I m very simple high thinking person looking for someone who can understand me and my family who can take care my and my family responsibilities and I would like to keep my partner always happy by all her wishes and plans."
       ]
      },
      {
       "output_type": "stream",
       "stream": "stdout",
       "text": [
        "\n",
        "707"
       ]
      },
      {
       "output_type": "stream",
       "stream": "stdout",
       "text": [
        " http://www.simplymarry.com/matrimonial/groom/SMM1443204/Hindu/Mali/Pankaj-Bansilal-Deore\n",
        "Hi, This is Pankaj Deore.\n",
        "I am very innocent person, always down to earth.\n",
        "Looking for trusty partner who can believe on me and ready to survive with me. Please go through my profile."
       ]
      },
      {
       "output_type": "stream",
       "stream": "stdout",
       "text": [
        "\n",
        "708"
       ]
      },
      {
       "output_type": "stream",
       "stream": "stdout",
       "text": [
        " http://www.simplymarry.com/matrimonial/groom/SMM1453076/Hindu/Brahmin---Deshastha/Aditya-Sarvesh-Rao\n",
        "Simple with considerate approach and pure vegetarian. Father (Sarvesh Rao) Electronics Engg. own business of Medical Instruments as Medico electronics at Nagpur, mother home maker, brother married and IT Engineer in the same co. capgemini at Pune."
       ]
      },
      {
       "output_type": "stream",
       "stream": "stdout",
       "text": [
        "\n",
        "709"
       ]
      },
      {
       "output_type": "stream",
       "stream": "stdout",
       "text": [
        " http://www.simplymarry.com/matrimonial/groom/SMM1487317/Hindu/Brahmin---Deshastha/Dr-Amol\n",
        "I m a straight forward person, looking for a well cultured girl, i m a orthopedic surgeon working in mumbai."
       ]
      },
      {
       "output_type": "stream",
       "stream": "stdout",
       "text": [
        "\n",
        "710"
       ]
      },
      {
       "output_type": "stream",
       "stream": "stdout",
       "text": [
        " http://www.simplymarry.com/matrimonial/groom/SMM1479726/Hindu/Brahmin---Rigvedi/Sachin-Bhagwat\n",
        "I am very simple, honest and down to earth person. My family is having good nature, loyal with everyone, traditional and believes in god. I am searching for a simple, trustworthy and smart wife. She should respect my parents, but should have own decision making power."
       ]
      },
      {
       "output_type": "stream",
       "stream": "stdout",
       "text": [
        "\n",
        "711"
       ]
      },
      {
       "output_type": "stream",
       "stream": "stdout",
       "text": [
        " http://www.simplymarry.com/matrimonial/groom/SMM1452778/Hindu/Devang-Koshthi/Jitesh-Suresh-Lakare\n",
        "Simple and a clear person. Currently serving with FLSmidth LTD. as a Lead Engineer in as a PROJECT &amp; PLANNING ENGINEER. I am a B.E. Mechanical Engg. from Pune University; Am a simple person; like to watch movies, to travel, etc."
       ]
      },
      {
       "output_type": "stream",
       "stream": "stdout",
       "text": [
        "\n",
        "712"
       ]
      },
      {
       "output_type": "stream",
       "stream": "stdout",
       "text": [
        " http://www.simplymarry.com/matrimonial/groom/SMM1460865/Hindu/Agri/Sandip-Sadanand-Tare\n",
        "i am sandip born and brought up in Mumbai.\n",
        "currently i am working in Mumbai. i like to roam and eating out.i m shy but i am very humble person. i am looking for a lady who is very humble but beautiful and who would like to take care of mine."
       ]
      },
      {
       "output_type": "stream",
       "stream": "stdout",
       "text": [
        "\n",
        "713"
       ]
      },
      {
       "output_type": "stream",
       "stream": "stdout",
       "text": [
        " http://www.simplymarry.com/matrimonial/groom/SMM1458408/Hindu/Maratha/Mahendra\n",
        "I am a hardworking and sincere person; am looking forward for a good cultured and well mannered girl who can be a good wife. I am working as s Supervisor in a private company. I am looking forward for a maharashtrian girl as my would be wife"
       ]
      },
      {
       "output_type": "stream",
       "stream": "stdout",
       "text": [
        "\n",
        "714"
       ]
      },
      {
       "output_type": "stream",
       "stream": "stdout",
       "text": [
        " http://www.simplymarry.com/matrimonial/groom/SMM1514731/Hindu/Bhandari/Ameya-Ashok-Pednekar\n",
        "I am a simple living guy, born and brought up in mumbai. I am the only son living with my mom and dad. Passionate to keep myself fit and with a good physic as hard workout in gym is my zeal. Like to travel and explore new places. Looking for a pretty, bubbly, simple living and understanding partner."
       ]
      },
      {
       "output_type": "stream",
       "stream": "stdout",
       "text": [
        "\n",
        "715"
       ]
      },
      {
       "output_type": "stream",
       "stream": "stdout",
       "text": [
        " http://www.simplymarry.com/matrimonial/groom/SMM1511095/Hindu/Mali/Sagar-Tathe\n",
        "Down to earth, honest, smart &amp; ambitious. Living with a family with liberal values. Adventure and fun loving person. Love to travel. Belongs to a well settled family in Pune. Looking for a honest, smart &amp; a lovely match."
       ]
      },
      {
       "output_type": "stream",
       "stream": "stdout",
       "text": [
        "\n",
        "716"
       ]
      },
      {
       "output_type": "stream",
       "stream": "stdout",
       "text": [
        " http://www.simplymarry.com/matrimonial/groom/SMM1619593/Hindu/Lohar/Aniket-Pawar\n",
        "Am 10% handicap in left leg due to Forceps delivery. Owned the Computer institute and running classes and looking further in diversifying my business."
       ]
      },
      {
       "output_type": "stream",
       "stream": "stdout",
       "text": [
        "\n",
        "717"
       ]
      },
      {
       "output_type": "stream",
       "stream": "stdout",
       "text": [
        " http://www.simplymarry.com/matrimonial/groom/SMM1436555/Hindu/Brahmin---Deshastha/Nikhil\n",
        "Simple, straightforward, kindhearted, cooperative, caring and understanding nature. Like traveling, music and movies. Smart, good looking and fair. Looking for a life partner of similar nature preferably from Pune."
       ]
      },
      {
       "output_type": "stream",
       "stream": "stdout",
       "text": [
        "\n",
        "718"
       ]
      },
      {
       "output_type": "stream",
       "stream": "stdout",
       "text": [
        " http://www.simplymarry.com/matrimonial/groom/SMM1476647/Hindu/Brahmin---Karhade/Shriksnt-Talwalkar\n",
        "Normal living standard. From a middle class family. Working as a Lab technician. Father Retired Railway employee. Mother is a housewife and have one brother who is in Gwalior."
       ]
      },
      {
       "output_type": "stream",
       "stream": "stdout",
       "text": [
        "\n",
        "719"
       ]
      },
      {
       "output_type": "stream",
       "stream": "stdout",
       "text": [
        " http://www.simplymarry.com/matrimonial/groom/SMM1432421/Hindu/Leva-patil/Shailesh-R-Shinde\n",
        "I am a simple, straight forward guy with good aspirations and a simple philosophy. Believe in trust towards each other is the most important thing in life. My necessity is the well being of my family persons &amp; friends. If I see them in bad time I am hurt always. My greatest ambition is to earn sufficient money and utilize that for good cause. In my partner, I am looking for a well educated, kindhearted, honest, simple, caring &amp; good looking person who can understand and maintain relationships in life and share our journey called Life."
       ]
      },
      {
       "output_type": "stream",
       "stream": "stdout",
       "text": [
        "\n",
        "720"
       ]
      },
      {
       "output_type": "stream",
       "stream": "stdout",
       "text": [
        " http://www.simplymarry.com/matrimonial/groom/SMM1497542/Hindu/Gondhali/Vinay-Prakash-Alekar\n",
        "Hi, My name is vinay prakash alekar. I am from pune, working as graphic designer in advertising field."
       ]
      },
      {
       "output_type": "stream",
       "stream": "stdout",
       "text": [
        "\n",
        "721"
       ]
      },
      {
       "output_type": "stream",
       "stream": "stdout",
       "text": [
        " http://www.simplymarry.com/matrimonial/groom/SMM1562222/Hindu/Nhavi/Abhijit-Rajendra-Sande\n",
        "I have done BDS from Tatyasaheb Kore Dental College Pargaon, Kolhapur affiliated to Maharashtra Health University, Nashik, and then Completing MDS in Oral Medicine and Radiology. I would like to Work as an Associate Professor in any Medical College in Maharashtra, along with a private Practice as a Dentist and looking for a dental surgeon preferably or any other Medical Post Graduate, Chartered Accountant, or any other Higher Education."
       ]
      },
      {
       "output_type": "stream",
       "stream": "stdout",
       "text": [
        "\n",
        "722"
       ]
      },
      {
       "output_type": "stream",
       "stream": "stdout",
       "text": [
        " http://www.simplymarry.com/matrimonial/groom/SMM1562264/Hindu/Maratha/Sandeep-Patil\n",
        "I am looking for a good and beautiful life partner."
       ]
      },
      {
       "output_type": "stream",
       "stream": "stdout",
       "text": [
        "\n",
        "723"
       ]
      },
      {
       "output_type": "stream",
       "stream": "stdout",
       "text": [
        " http://www.simplymarry.com/matrimonial/groom/SMM1455024/Hindu/Scheduled-Caste/Chetan-Hirekenchammanavar\n",
        "I am a Fun loving boy. I work as an Assistant Manager in State Bank of India. My father is an Estate Agent &amp; my Mom is Incharge at Govt. Civil Hospital. I have One sister. she is Doing her B.com 2 &amp; she is Unmarried. I am here to search a girl who is Well Cultured, well educated, good sense of humour, Fun loving &amp; who respect elders. She should be Understandable, little bit emotional, but not a sentimental."
       ]
      },
      {
       "output_type": "stream",
       "stream": "stdout",
       "text": [
        "\n",
        "724"
       ]
      },
      {
       "output_type": "stream",
       "stream": "stdout",
       "text": [
        " http://www.simplymarry.com/matrimonial/groom/SMM1579068/Hindu/Khatik/Satish-M\n",
        "Hi, I am Satish. I am simple and soft person. I like to live simple. I believe in \"Live and let live\"."
       ]
      },
      {
       "output_type": "stream",
       "stream": "stdout",
       "text": [
        "\n",
        "725"
       ]
      },
      {
       "output_type": "stream",
       "stream": "stdout",
       "text": [
        " http://www.simplymarry.com/matrimonial/groom/SMM1540327/Hindu/Agri/Dinesh-Patil\n",
        "I have completed my M.com from Mumbai University and currently working with Sumangal Press Pvt. Ltd. I can not imagine my life without my family. They are my strengths. I believe that every problem has solution. So be positive in your life is most important thing."
       ]
      },
      {
       "output_type": "stream",
       "stream": "stdout",
       "text": [
        "\n",
        "726"
       ]
      },
      {
       "output_type": "stream",
       "stream": "stdout",
       "text": [
        " http://www.simplymarry.com/matrimonial/groom/SMM1506158/Buddhist/Abhijit-Kamble\n",
        ".i like tracking ,bike riding, Movies. i am working in private company in pune as accountant and doing business of Computer Sales and servicing and also industrial scrap trading. i want a partner who looking good ,understand my feelings and always keep smile"
       ]
      },
      {
       "output_type": "stream",
       "stream": "stdout",
       "text": [
        "\n",
        "727"
       ]
      },
      {
       "output_type": "stream",
       "stream": "stdout",
       "text": [
        " http://www.simplymarry.com/matrimonial/groom/SMM1574603/Hindu/Kunbi/Sandeep-Narendra-Patil\n",
        "HI I'M SIMPLE &amp; COOL GUY. CARING AND SUPPORTIVE TOO. AM WORKING IN IMPORT EXPORT FIELD IN LTD COMPANY. AM HELPFUL AND INTERESTED IN TRAVELING &amp; PHOTOGRAPHY."
       ]
      },
      {
       "output_type": "stream",
       "stream": "stdout",
       "text": [
        "\n",
        "728"
       ]
      },
      {
       "output_type": "stream",
       "stream": "stdout",
       "text": [
        " http://www.simplymarry.com/matrimonial/groom/SMM1504295/Jain/Digambar/Amit-Warkari\n",
        "I have completed my BE (EXTC). Currently pursuing MBA (Fin)from Mumbai University. Am currently working as a Software Professional cum Consultant in Mumbai. Belongs to an upper middle class family with liberal values."
       ]
      },
      {
       "output_type": "stream",
       "stream": "stdout",
       "text": [
        "\n",
        "729"
       ]
      },
      {
       "output_type": "stream",
       "stream": "stdout",
       "text": [
        " http://www.simplymarry.com/matrimonial/groom/SMM1517459/Hindu/Brahmin---Karhade/Parijat-Vinod-Kanetkar\n",
        "My son, Parijat; is an intellectual, simple and a good-at-heart man. He comes from a family of educationists and intellectuals. He has a younger sister who is also identified with the word \"intelligence\". He is a optimistic individual who does not lose hope even when the ship is caught in a storm. Parijat is known to be a fierce friend, always lives for friendship and is hungry for it. He is pretty vocal when it comes to relations and will exert to the maximum limit possible to do maintenance management. He believes in living life to the fullest and with honor. He is armed with a doctorate in Biotechnology from the Institute of Chemical Technology (ICT) and at present handling 2 crucial portfolios in the Pharmaceutical Industry (Regulatory Affairs &amp; Product Management - International Business). He handles pressure cooker situations with ease and is calm &amp; composed for solving the issues."
       ]
      },
      {
       "output_type": "stream",
       "stream": "stdout",
       "text": [
        "\n",
        "730"
       ]
      },
      {
       "output_type": "stream",
       "stream": "stdout",
       "text": [
        " http://www.simplymarry.com/matrimonial/groom/SMM1444495/Hindu/Maratha/Sujitsinh.s.-Chavan\n",
        "A typical Capricorn.Belong to A Traditional Educated Maratha Family. For Every Handsome Man There is A Beautiful women made for him of his choice and liking vice verse.\n",
        "Firmly Believe Marriage are made on Earth."
       ]
      },
      {
       "output_type": "stream",
       "stream": "stdout",
       "text": [
        "\n",
        "731"
       ]
      },
      {
       "output_type": "stream",
       "stream": "stdout",
       "text": [
        " http://www.simplymarry.com/matrimonial/groom/SMM1444268/Hindu/Gurav/Rakesh-Chavan\n",
        "Love to watch movies, reading, listening to music and traveling. I am a man of few words. A loving and caring person who values family and close friends. I am searching for the right woman to share my life with, someone who can be there for me through the good and bad times and giving me the shoulder to cry on when I need one. Someone who has a sense of humor and who can accept me for who I am, no pretense."
       ]
      },
      {
       "output_type": "stream",
       "stream": "stdout",
       "text": [
        "\n",
        "732"
       ]
      },
      {
       "output_type": "stream",
       "stream": "stdout",
       "text": [
        " http://www.simplymarry.com/matrimonial/groom/SMM1629633/Hindu/Brahmin---Kokanastha/Rohit-Limaye\n",
        "I am an outdoor &amp; ambitious person. Some of my hobbies are reading, travelling &amp; Photography."
       ]
      },
      {
       "output_type": "stream",
       "stream": "stdout",
       "text": [
        "\n",
        "733"
       ]
      },
      {
       "output_type": "stream",
       "stream": "stdout",
       "text": [
        " http://www.simplymarry.com/matrimonial/groom/SMM1488986/Buddhist/Smm1488986\n",
        "An open minded caring person who values relations. I am fun loving, confident and ambitious. I have completed MBA- IT from pune university and currently working in a reputed IT company. My dad is an officer in Central Govt. Mother is housewife and younger sister is in her final year of engineering. Looking forward for a partner who is intelligent, loving and caring and good looking."
       ]
      },
      {
       "output_type": "stream",
       "stream": "stdout",
       "text": [
        "\n",
        "734"
       ]
      },
      {
       "output_type": "stream",
       "stream": "stdout",
       "text": [
        " http://www.simplymarry.com/matrimonial/groom/SMM1448159/Hindu/Vaishya-Vani/Mahanteshwar-Bhosage\n",
        "worked as Writer, Director and Editor for different commercial projects in Marathi &amp; Kannada Film Industry. Currently working on script for Marathi Film. Interested Partner from same field, or related."
       ]
      },
      {
       "output_type": "stream",
       "stream": "stdout",
       "text": [
        "\n",
        "735"
       ]
      },
      {
       "output_type": "stream",
       "stream": "stdout",
       "text": [
        " http://www.simplymarry.com/matrimonial/groom/SMM1570994/Hindu/Maratha/Amit-K-Choudhari\n",
        "Myself Amit Choudhari and a professional person with no bad habits."
       ]
      },
      {
       "output_type": "stream",
       "stream": "stdout",
       "text": [
        "\n",
        "736"
       ]
      },
      {
       "output_type": "stream",
       "stream": "stdout",
       "text": [
        " http://www.simplymarry.com/matrimonial/groom/SMM1458586/Hindu/Sachin-Sasne\n",
        "I am simple, honest, friendly, down to earth, fun loving person with good sense of humor having positive outlook towards life. I always make time for the people in my life and love spending time with family and friends. I have done B.E. in Mechanical from Pune University and PGDAC(CDAC) from Pune. By profession I am a software engineer working in IT company in Pune. My favourite pass time is to hang out with friends, listening to music, watching movies. I like sketching, cricket, outdoor sports and like gym to keep myself fit. My life partner should simple, honest, understanding, well educated and can get along with my family with whom I could share life's up and down."
       ]
      },
      {
       "output_type": "stream",
       "stream": "stdout",
       "text": [
        "\n",
        "737"
       ]
      },
      {
       "output_type": "stream",
       "stream": "stdout",
       "text": [
        " http://www.simplymarry.com/matrimonial/groom/SMM1550913/Hindu/Brahmin---Rigvedi/Mandar-Kulkarni\n",
        "I am hard working, down to earth, liberal and moderate person with traditional blend of life."
       ]
      },
      {
       "output_type": "stream",
       "stream": "stdout",
       "text": [
        "\n",
        "738"
       ]
      },
      {
       "output_type": "stream",
       "stream": "stdout",
       "text": [
        " http://www.simplymarry.com/matrimonial/groom/SMM1574535/Hindu/Maratha/Amit-Parshuram-More\n",
        "Am Amit, am searching for a compatible life partner. My father is an auto driver &amp; my mother is a house wife."
       ]
      },
      {
       "output_type": "stream",
       "stream": "stdout",
       "text": [
        "\n",
        "739"
       ]
      },
      {
       "output_type": "stream",
       "stream": "stdout",
       "text": [
        " http://www.simplymarry.com/matrimonial/groom/SMM1473173/Hindu/Sonar/Nilesh-Dixit\n",
        "My friends describe me as cool, happy go lucky person; want to live every moment of my life fully and need a suitable match from same cast. medicos will be preferred."
       ]
      },
      {
       "output_type": "stream",
       "stream": "stdout",
       "text": [
        "\n",
        "740"
       ]
      },
      {
       "output_type": "stream",
       "stream": "stdout",
       "text": [
        " http://www.simplymarry.com/matrimonial/groom/SMM1578217/Hindu/Chambhar/Kirankumar-Khamkar\n",
        "Hi, I am a mechanical engineer by profession, working in L&amp;T.; Currently pursuing executive MBA and would complete the same by June 2013. By nature and thinking, i am very assertive, organized and disciplined. Looking for a partner who possesses same qualities."
       ]
      },
      {
       "output_type": "stream",
       "stream": "stdout",
       "text": [
        "\n",
        "741"
       ]
      },
      {
       "output_type": "stream",
       "stream": "stdout",
       "text": [
        " http://www.simplymarry.com/matrimonial/groom/SMM1481187/Hindu/Maratha/Charudatt-P.-Jadhav\n",
        "I am self depended good and Hardworking person. Living in Mumbai (virar east). Working in Raychem Rpg Pvt.Ltd company. I am Looking for a life partner she should also be self depended, good and hardworking girl."
       ]
      },
      {
       "output_type": "stream",
       "stream": "stdout",
       "text": [
        "\n",
        "742"
       ]
      },
      {
       "output_type": "stream",
       "stream": "stdout",
       "text": [
        " http://www.simplymarry.com/matrimonial/groom/SMM1588073/Hindu/Maratha/Shankar-Ganesh-Tambe\n",
        "I am a very simple man, quite friendly by nature as well as down to earth. Running my own business successfully along with my younger brother. Expecting a girl who is simple and caring by nature."
       ]
      },
      {
       "output_type": "stream",
       "stream": "stdout",
       "text": [
        "\n",
        "743"
       ]
      },
      {
       "output_type": "stream",
       "stream": "stdout",
       "text": [
        " http://www.simplymarry.com/matrimonial/groom/SMM1538389/Hindu/Brahmin/Shyam-Sawalapurkar\n",
        "I am living at mumbai &amp; belong from Amravati. My father and mother is living in Amravati. Father retired &amp; mother is a house wife."
       ]
      },
      {
       "output_type": "stream",
       "stream": "stdout",
       "text": [
        "\n",
        "744"
       ]
      },
      {
       "output_type": "stream",
       "stream": "stdout",
       "text": [
        " http://www.simplymarry.com/matrimonial/groom/SMM1482157/Hindu/Brahmin---Kokanastha/Shrikant-Ramchandra-Phatak\n",
        "I'M WORKING AS CLERK IN GOVT SERVICE. I'M PARTIALLY DEAF FROM BIRTH BUT CAN DO ALL THE WORK ON MY OWN. I TRAVEL ALONE AND DO SHOPPING ON MY OWN. MY FATHER IS RETIRED AND MOTHER IS HOUSEWIFE. MY BROTHER IS DOING HIS OWN BUSINESS."
       ]
      },
      {
       "output_type": "stream",
       "stream": "stdout",
       "text": [
        "\n",
        "745"
       ]
      },
      {
       "output_type": "stream",
       "stream": "stdout",
       "text": [
        " http://www.simplymarry.com/matrimonial/groom/SMM1590185/Buddhist/Vaibhav-Suryanvanshi\n",
        "NAMO BUDHAYE . I'M AGRICULTURE ASSISTANT , I LIVE IN KHED RATNAGIRI. I HAVE FAMILY OF TWO SISTERS AND ONE BROTHER I'M THE ELDEST IN MY FAMILY . I'M LOOKING FOR A BRIDE WHO IS FAMILY ORIENTED ........"
       ]
      },
      {
       "output_type": "stream",
       "stream": "stdout",
       "text": [
        "\n",
        "746"
       ]
      },
      {
       "output_type": "stream",
       "stream": "stdout",
       "text": [
        " http://www.simplymarry.com/matrimonial/groom/SMM1428850/Hindu/Navin-Arun-Athavale\n",
        "I am the only child of my parents and they are staying with me. I believe that marriages are made in heaven. I seek for a partner who would be a friend first."
       ]
      },
      {
       "output_type": "stream",
       "stream": "stdout",
       "text": [
        "\n",
        "747"
       ]
      },
      {
       "output_type": "stream",
       "stream": "stdout",
       "text": [
        " http://www.simplymarry.com/matrimonial/groom/SMM1428936/Hindu/Mali/Ranjeet-Dilip-Mali\n",
        "I am a very simple man; own a business and seek for a working women."
       ]
      },
      {
       "output_type": "stream",
       "stream": "stdout",
       "text": [
        "\n",
        "748"
       ]
      },
      {
       "output_type": "stream",
       "stream": "stdout",
       "text": [
        " http://www.simplymarry.com/matrimonial/groom/SMM1460429/Hindu/Nhavi/Prasad-Verulkar\n",
        "Myself in few words i would say i am amicable, diligent, humorous and honest. I have pursued B. Tech in Mechanical Engineering and right now employed in a reputed I. T firm. I hail from a family with discipline and moral values but at the same time i am fun loving, caring with a down to earth attitude. I am an optimist who try to make most of my life and give my best attempt in whatever i do. I seek pleasure in smiling face's"
       ]
      },
      {
       "output_type": "stream",
       "stream": "stdout",
       "text": [
        "\n",
        "749"
       ]
      },
      {
       "output_type": "stream",
       "stream": "stdout",
       "text": [
        " http://www.simplymarry.com/matrimonial/groom/SMM1597126/Hindu/Maratha/Arun-Shelar\n",
        "Very enthusiastic, hard working and romantic person. Likes to enjoy every movement of life. A family oriented and fun loving person and looking for a girl with same nature."
       ]
      },
      {
       "output_type": "stream",
       "stream": "stdout",
       "text": [
        "\n",
        "750"
       ]
      },
      {
       "output_type": "stream",
       "stream": "stdout",
       "text": [
        " http://www.simplymarry.com/matrimonial/groom/SMM1462720/Hindu/Brahmin---Saraswat/Satchidannand\n",
        "Fun loving, adaptable, caring and sensitive, determined, hardworking, outgoing."
       ]
      },
      {
       "output_type": "stream",
       "stream": "stdout",
       "text": [
        "\n",
        "751"
       ]
      },
      {
       "output_type": "stream",
       "stream": "stdout",
       "text": [
        " http://www.simplymarry.com/matrimonial/groom/SMM1462682/Hindu/Brahmin/Sachin\n",
        "Fun loving, adaptable, caring and sensitive, determined, hardworking, outgoing."
       ]
      },
      {
       "output_type": "stream",
       "stream": "stdout",
       "text": [
        "\n",
        "752"
       ]
      },
      {
       "output_type": "stream",
       "stream": "stdout",
       "text": [
        " http://www.simplymarry.com/matrimonial/groom/SMM1490634/Hindu/Swakula-Sali/Vinod-P\n",
        "I am Fun loving Person &amp; like to enjoy life. My attitude is very sporty. I love sports, mostly cricket, Football, hockey, Volleyball. As my personality is build by sports, so i think my partner should respect it."
       ]
      },
      {
       "output_type": "stream",
       "stream": "stdout",
       "text": [
        "\n",
        "753"
       ]
      },
      {
       "output_type": "stream",
       "stream": "stdout",
       "text": [
        " http://www.simplymarry.com/matrimonial/groom/SMM1485242/Hindu/Maratha/Jaydatta-Ravindra-Gawali\n",
        "I am a simple, kindhearted guy who believes in living life to the fullest. I like traveling, music, sports like football, tennis, cricket. I wish to have a peaceful and romantic married life."
       ]
      },
      {
       "output_type": "stream",
       "stream": "stdout",
       "text": [
        "\n",
        "754"
       ]
      },
      {
       "output_type": "stream",
       "stream": "stdout",
       "text": [
        " http://www.simplymarry.com/matrimonial/groom/SMM1469602/Hindu/Maratha/Rohit-Vijay-Sawant\n",
        "Hello, This is Rohit Sawant. I am an I.T Professional working as a senior software developer in a I.T company with name Mastek Limited. I have done my Engineering from Mumbai University in electronics and telecom. I am a simple guy with a good sense of humor (Simple by nature). I stay in thane with my family. We are total four members me, my mother, Father &amp; grandmother. I have two elder sisters both are happily married. I find happiness in simple things like reading a good book, going to gym to workout, passing quality time with my friends and loved once. My interests are in quite a different field's astrology, Gym, Share market, books. In search of a decent girl who is good looking, simple in nature and has a good sense of humor too. Last but not the least I am quite a Romantic guy."
       ]
      },
      {
       "output_type": "stream",
       "stream": "stdout",
       "text": [
        "\n",
        "755"
       ]
      },
      {
       "output_type": "stream",
       "stream": "stdout",
       "text": [
        " http://www.simplymarry.com/matrimonial/groom/SMM1529857/Hindu/Chambhar/Pravin-Vilas-Gajare\n",
        "I look handsome,pretty. I like to visit various places. I completed my diploma from CWIT pune. My nature is cool. I have good personality &amp; good knowledge of sense. I have 1 brother. I like to play cricket, Chess, &amp; LISTENING MUSIC."
       ]
      },
      {
       "output_type": "stream",
       "stream": "stdout",
       "text": [
        "\n",
        "756"
       ]
      },
      {
       "output_type": "stream",
       "stream": "stdout",
       "text": [
        " http://www.simplymarry.com/matrimonial/groom/SMM1435727/Hindu/Brahmin---Daivadnya/Vaibhav-Pulekar\n",
        "I am happy go lucky person and live life to the fullest. I am amiable and social person and like to meet new people. I love to travel and discover new places. I like peace and am looking for a loving understanding and ambitious girl."
       ]
      },
      {
       "output_type": "stream",
       "stream": "stdout",
       "text": [
        "\n",
        "757"
       ]
      },
      {
       "output_type": "stream",
       "stream": "stdout",
       "text": [
        " http://www.simplymarry.com/matrimonial/groom/SMM1480027/Hindu/Dhangar/Yogesh-Dhulgude\n",
        "I am a family oriented person. I like to make friends. Initially i hesitate but once the comfort level is gained i get along very well with people. I have a good sense of humour, well at least that is what my friends tell me. I like reading, playing and watching cricket. like to watch movies a lot and am a huge fan of Bollywood songs."
       ]
      },
      {
       "output_type": "stream",
       "stream": "stdout",
       "text": [
        "\n",
        "758"
       ]
      },
      {
       "output_type": "stream",
       "stream": "stdout",
       "text": [
        " http://www.simplymarry.com/matrimonial/groom/SMM1476140/Hindu/Maratha/Girish-Lad\n",
        "I am simple and down to earth person, looking for a girl who is good looking and having traditional values, caring one also."
       ]
      },
      {
       "output_type": "stream",
       "stream": "stdout",
       "text": [
        "\n",
        "759"
       ]
      },
      {
       "output_type": "stream",
       "stream": "stdout",
       "text": [
        " http://www.simplymarry.com/matrimonial/groom/SMM1477264/Hindu/CKP/Mihir-Deshmukh\n",
        "I am a very understanding, straightforward and broadminded person. I am looking for a partner who will be a friend, willing to stand by me at every stage of my life, should be well qualified, intelligent and understanding by nature."
       ]
      },
      {
       "output_type": "stream",
       "stream": "stdout",
       "text": [
        "\n",
        "760"
       ]
      },
      {
       "output_type": "stream",
       "stream": "stdout",
       "text": [
        " http://www.simplymarry.com/matrimonial/groom/SMF1566423/Hindu/Chambhar/Vishal-Borhade\n",
        "I am fun loving guy. I like music, traveling, food &amp; my home. I have pets &amp; i love them. I believe in culture. My target is to be a good business man in future &amp; i had done enough things in my life. I like Professionalism. We are big family. I am staying with my mother &amp; father &amp; they both are loving &amp; filmy."
       ]
      },
      {
       "output_type": "stream",
       "stream": "stdout",
       "text": [
        "\n",
        "761"
       ]
      },
      {
       "output_type": "stream",
       "stream": "stdout",
       "text": [
        " http://www.simplymarry.com/matrimonial/groom/SMM1434428/Hindu/Maratha/Vishal-Sindhe\n",
        "Am a simple, honest and easy going person. Living with my dad, mom and one younger brother who is doing his MS in Auto-design."
       ]
      },
      {
       "output_type": "stream",
       "stream": "stdout",
       "text": [
        "\n",
        "762"
       ]
      },
      {
       "output_type": "stream",
       "stream": "stdout",
       "text": [
        " http://www.simplymarry.com/matrimonial/groom/SMM1546618/Hindu/Brahmin---Kokanastha/Vaibhav\n",
        "Myself an army officer, my parents and an elder brother are settled in ghaziabad. Looking for a partner who is comfortable with life of a def personnel."
       ]
      },
      {
       "output_type": "stream",
       "stream": "stdout",
       "text": [
        "\n",
        "763"
       ]
      },
      {
       "output_type": "stream",
       "stream": "stdout",
       "text": [
        " http://www.simplymarry.com/matrimonial/groom/SMM1592748/Hindu/Maratha/Nitin-Kisan-Khaire\n",
        "Hi , I like to read a books , traveling in weekend and visit a new place is my hobby ,\n",
        "I am looking life partner who is carrying to both me and my family. I am belongs from middle class family."
       ]
      },
      {
       "output_type": "stream",
       "stream": "stdout",
       "text": [
        "\n",
        "764"
       ]
      },
      {
       "output_type": "stream",
       "stream": "stdout",
       "text": [
        " http://www.simplymarry.com/matrimonial/groom/SMM1484744/Buddhist/Priydarshi\n",
        "Hi, I'm simple, god fearing; fun loving person who believes life is precious and likes to live each moment of life to the fullest. I love to spend time with family and friends. I am a mixture of traditional values and modern lifestyle."
       ]
      },
      {
       "output_type": "stream",
       "stream": "stdout",
       "text": [
        "\n",
        "765"
       ]
      },
      {
       "output_type": "stream",
       "stream": "stdout",
       "text": [
        " http://www.simplymarry.com/matrimonial/groom/SMM1463242/Buddhist/Sagar\n",
        "Hi, I am Sagar well settled, cool and calm person, having strong family values. I love to visit new places and hang out with my loved ones. I am a foodie and loves to eat. I am a career oriented person with higher aspirations."
       ]
      },
      {
       "output_type": "stream",
       "stream": "stdout",
       "text": [
        "\n",
        "766"
       ]
      },
      {
       "output_type": "stream",
       "stream": "stdout",
       "text": [
        " http://www.simplymarry.com/matrimonial/groom/SMM1474960/Buddhist/Smm1474960\n",
        "Basically from vidharbha, settled in Mumbai suburb, Looking for a partner who will be there with me in every point of life and in every decision; Someone who will be a better half and a great friend, understanding and helping in nature."
       ]
      },
      {
       "output_type": "stream",
       "stream": "stdout",
       "text": [
        "\n",
        "767"
       ]
      },
      {
       "output_type": "stream",
       "stream": "stdout",
       "text": [
        " http://www.simplymarry.com/matrimonial/groom/SMM1465513/Hindu/Scheduled-Caste/Prasen-Meshram\n",
        "I believe in simple living high thinking, born and brought in mumbai, my family consist of 5 members, dad is retired, mom homemaker, elder sister is married and younger brother, i have done my business management degree and have been working since then. i am into event management &amp; advertising business, recently started a film production house. I am an independent, friendly, down to earth and caring person, have respect for elders, love music, loves to travel, good sense of humor (i guess) and loves to live every moment of life."
       ]
      },
      {
       "output_type": "stream",
       "stream": "stdout",
       "text": [
        "\n",
        "768"
       ]
      },
      {
       "output_type": "stream",
       "stream": "stdout",
       "text": [
        " http://www.simplymarry.com/matrimonial/groom/SMM1491342/Christian/Protestant/Sunny-S.\n",
        "I am from pune, 27 yrs old proprietor of Sunny Designs N Prints, (digital and offset printing business), i am simple, fun loving and down to earth person. I consider myself a sensitive, kind, and gentle person who enjoys being with people. I like going to the movies, listening to music."
       ]
      },
      {
       "output_type": "stream",
       "stream": "stdout",
       "text": [
        "\n",
        "769"
       ]
      },
      {
       "output_type": "stream",
       "stream": "stdout",
       "text": [
        " http://www.simplymarry.com/matrimonial/groom/SMM1493793/Hindu/Devang-Koshthi/Girish-Satale\n",
        "I am very caring and straight talking guy, looking for a sweet and simple descent girl as my life partner."
       ]
      },
      {
       "output_type": "stream",
       "stream": "stdout",
       "text": [
        "\n",
        "770"
       ]
      },
      {
       "output_type": "stream",
       "stream": "stdout",
       "text": [
        " http://www.simplymarry.com/matrimonial/groom/SMM1599557/Buddhist/Sugat-Jawade\n",
        "At present working as an Assistant prof and also having private clinic in Wardha. Looking for a decent, understanding medicos girl, preferably from Vidarbh region who is willing to settle down in Wardha."
       ]
      },
      {
       "output_type": "stream",
       "stream": "stdout",
       "text": [
        "\n",
        "771"
       ]
      },
      {
       "output_type": "stream",
       "stream": "stdout",
       "text": [
        " http://www.simplymarry.com/matrimonial/groom/SMM1564435/Buddhist/Balvir\n",
        "A simple boy with a very positive attitude towards life. A passionate, aggressive but Caring person, like to be with cheerful people. Prefers to take Calculated Risk &amp; Bold Moves. Also, very close to my family. I am a person with Traditional cum Moderate Values. A Career Oriented individual but personnel life will be on priority always."
       ]
      },
      {
       "output_type": "stream",
       "stream": "stdout",
       "text": [
        "\n",
        "772"
       ]
      },
      {
       "output_type": "stream",
       "stream": "stdout",
       "text": [
        " http://www.simplymarry.com/matrimonial/groom/SMM1468031/Hindu/Brahmin---Deshastha/Sanket-Agarkar\n",
        "I am a good nature, enthusiastic and career oriented person. My family consists of 4 members. My father, mother, me and my younger sister. I am looking for well educated, career and family oriented girl."
       ]
      },
      {
       "output_type": "stream",
       "stream": "stdout",
       "text": [
        "\n",
        "773"
       ]
      },
      {
       "output_type": "stream",
       "stream": "stdout",
       "text": [
        " http://www.simplymarry.com/matrimonial/groom/SMM1524021/Hindu/Maratha/Amit\n",
        "I am a simple, well cultured, very down to earth person, looking for an educated, cultured and a good looking bride. Working with a shipping company as an operations Analyst in UAE."
       ]
      },
      {
       "output_type": "stream",
       "stream": "stdout",
       "text": [
        "\n",
        "774"
       ]
      },
      {
       "output_type": "stream",
       "stream": "stdout",
       "text": [
        " http://www.simplymarry.com/matrimonial/groom/SMM1497201/Buddhist/Vaibhav-Y.-Surwade\n",
        "I am working in msedcl as Jr engineer, well settled in mumbai. working at dahanoo, looking for suitable match from Buddhist only. she should bw well educated, good looking, caring, should be understanding, priority will be given to education."
       ]
      },
      {
       "output_type": "stream",
       "stream": "stdout",
       "text": [
        "\n",
        "775"
       ]
      },
      {
       "output_type": "stream",
       "stream": "stdout",
       "text": [
        " http://www.simplymarry.com/matrimonial/groom/SMM1440558/Hindu/Kokanastha-Maratha/Srinivas-Bhosale\n",
        "I am a confident and responsible guy. i value relationship. I enjoy life as it comes. i love my family and expect the same from my life partner. Marriage means a lot to me as it bonds not only two souls but two families also."
       ]
      },
      {
       "output_type": "stream",
       "stream": "stdout",
       "text": [
        "\n",
        "776"
       ]
      },
      {
       "output_type": "stream",
       "stream": "stdout",
       "text": [
        " http://www.simplymarry.com/matrimonial/groom/SMM1459662/Hindu/Bhandari/Shri\n",
        "Hello, Myself being simple, honest &amp; down to earth person. After graduation done professional Certification such as ITILv3, VCPv4, MCITP, MCTS, MCSE. etc.Currently working as a Senior Consultant in a reputed MNC (IT), having a stable career.\n",
        "I own a 1BHK flat at thane. Strictly a Non smoker and non drinker. My mantra for life is to believe in your self, stay focused and keep going."
       ]
      },
      {
       "output_type": "stream",
       "stream": "stdout",
       "text": [
        "\n",
        "777"
       ]
      },
      {
       "output_type": "stream",
       "stream": "stdout",
       "text": [
        " http://www.simplymarry.com/matrimonial/groom/SMM1564121/Hindu/Brahmin---Saraswat/Vaibhav-Narendranath-Kanvinde\n",
        "My son has completed MMS &amp; he is currently working with Advertising Company in Pune. He is career oriented but believes in work life balance. He likes to spend spare his time with his friends and family. He likes reading, traveling &amp; gaming. We are looking for a girl who is well educated, smart, friendly and caring in nature."
       ]
      },
      {
       "output_type": "stream",
       "stream": "stdout",
       "text": [
        "\n",
        "778"
       ]
      },
      {
       "output_type": "stream",
       "stream": "stdout",
       "text": [
        " http://www.simplymarry.com/matrimonial/groom/SMM1431604/Hindu/Maratha/Suhas-Sunil-Kadvekar\n",
        "Convent educated, from well cultured family settled in Nasik, Our son is working with reputed IT company at Pune. We are four members in family, daughter is married, father working in private sector company, mother housewife."
       ]
      },
      {
       "output_type": "stream",
       "stream": "stdout",
       "text": [
        "\n",
        "779"
       ]
      },
      {
       "output_type": "stream",
       "stream": "stdout",
       "text": [
        " http://www.simplymarry.com/matrimonial/groom/SMM1427417/Christian/Protestant/Sylvester-Wilson-Pathole\n",
        "i m very much down to earth, looking for a god fearing girl, will self confident and willing to live with me in a joint family, also she should be self motivating and believer in Christ, mostly residing in Mumbai."
       ]
      },
      {
       "output_type": "stream",
       "stream": "stdout",
       "text": [
        "\n",
        "780"
       ]
      },
      {
       "output_type": "stream",
       "stream": "stdout",
       "text": [
        " http://www.simplymarry.com/matrimonial/groom/SMF1629253/Hindu/Brahmin/Sandip-Madhukarro-Pathak\n",
        "i am job in bmc mumbai. in teacher. and my fatheris death. my birdar is prvt job my home is murtizapur dist akola except in handicapt match mytwo sistre in mairted.mmmmmmmmmmmmmmmmmmmmmmmmmmmmmmmmmmmmm"
       ]
      },
      {
       "output_type": "stream",
       "stream": "stdout",
       "text": [
        "\n",
        "781"
       ]
      },
      {
       "output_type": "stream",
       "stream": "stdout",
       "text": [
        " http://www.simplymarry.com/matrimonial/groom/SMM1614960/Buddhist/Nikunj\n",
        "I am simple, adjustable, down to earth and a cool guy from a middle class family. Looking for a soul mate, she should be beautiful from heart because that's what matters to me. I dont believe in getting into a relationship without knowing each other. She should be compatible enough with me so lets hope for the best."
       ]
      },
      {
       "output_type": "stream",
       "stream": "stdout",
       "text": [
        "\n",
        "782"
       ]
      },
      {
       "output_type": "stream",
       "stream": "stdout",
       "text": [
        " http://www.simplymarry.com/matrimonial/groom/SMM1509091/Hindu/Brahmin/Sushil-Ashok-Joshi\n",
        "he is simple and down to earth person. he likes cricket , he likes travelling and listening music. he believes in god. we are joint family.father is retired from MTNL.mother is housewife.my self married and my wife is teacher."
       ]
      },
      {
       "output_type": "stream",
       "stream": "stdout",
       "text": [
        "\n",
        "783"
       ]
      },
      {
       "output_type": "stream",
       "stream": "stdout",
       "text": [
        " http://www.simplymarry.com/matrimonial/groom/SMM1622044/Hindu/Santosh-Redij\n",
        "I have completed CA Inter and also done CPFA (Certified Personal Financial Adviser) certification through NISM. Currently, working with a Pvt Ltd company as an operation Manager since 3 years. I like reading books and am also fitness enthusiast. Likes going out and enjoying time by watching movies and eating out."
       ]
      },
      {
       "output_type": "stream",
       "stream": "stdout",
       "text": [
        "\n",
        "784"
       ]
      },
      {
       "output_type": "stream",
       "stream": "stdout",
       "text": [
        " http://www.simplymarry.com/matrimonial/groom/SMM1562018/Hindu/Maratha/Prakash-Vishnu-Pawar\n",
        "From 1994 to as on date I'm living in Pune;but basically I'm from farmer family which is residing at satara district.I'm down to earth person &amp; believe in simple living.more about myself - I'm a self motivated professional in work field. Well, In my free time, I like to go for outings near nature, like to reading books/literature, like to listen songs/instrumentals, watching drama-movies &amp; enjoy the life fullest. I'm happy go lucky person &amp; don't like emotional blunder. I'm practical but still joyful. I like to collect happiness from small small things &amp; love to accept new challenges to reach at expected aims.I respect sincere peoples.Have lot of plans which can be shared afterwards! I expect a satisfied, honest and joyful life with my better half with our joint efforts &amp; love for each other."
       ]
      },
      {
       "output_type": "stream",
       "stream": "stdout",
       "text": [
        "\n",
        "785"
       ]
      },
      {
       "output_type": "stream",
       "stream": "stdout",
       "text": [
        " http://www.simplymarry.com/matrimonial/groom/SMM1610106/Buddhist/Harshal-Patil\n",
        "My son has completed his B.Tech and MBA from Pune and working in HDFC in the Project finance division."
       ]
      },
      {
       "output_type": "stream",
       "stream": "stdout",
       "text": [
        "\n",
        "786"
       ]
      },
      {
       "output_type": "stream",
       "stream": "stdout",
       "text": [
        " http://www.simplymarry.com/matrimonial/groom/SMM1429571/Hindu/Mahar/Jeevak-Gajbhiye\n",
        "I am jeevak Gajbhiye, presently working in Lokshai Warta marathi news paper as Sr. photojournalist."
       ]
      },
      {
       "output_type": "stream",
       "stream": "stdout",
       "text": [
        "\n",
        "787"
       ]
      },
      {
       "output_type": "stream",
       "stream": "stdout",
       "text": [
        " http://www.simplymarry.com/matrimonial/groom/SMM1425772/Hindu/Brahmin/Yadnesh-Gaud\n",
        "I am very passionate about my Job and love my Mom &amp; Dad a lot. Born &amp; Brought up in Mumbai, shifted in Pune. Have been travelling all around the globe since childhood, looking forward to settle down in Pune itself, develop our Plots, etc. Love travelling, exploring different places. Love watching TV Series, listening to Songs; Want everyone around me happy and put my best efforts for the same."
       ]
      },
      {
       "output_type": "stream",
       "stream": "stdout",
       "text": [
        "\n",
        "788"
       ]
      },
      {
       "output_type": "stream",
       "stream": "stdout",
       "text": [
        " http://www.simplymarry.com/matrimonial/groom/SMM1470390/Hindu/Maratha/Nilesh\n",
        "Fun loving, adaptable, caring and sensitive, determined, hardworking, outgoing."
       ]
      },
      {
       "output_type": "stream",
       "stream": "stdout",
       "text": [
        "\n",
        "789"
       ]
      },
      {
       "output_type": "stream",
       "stream": "stdout",
       "text": [
        " http://www.simplymarry.com/matrimonial/groom/SMM1588925/Hindu/Smm1588925\n",
        "Working with the reputed hospital in Mumbai as a Radiologist. Am a simple, gentle and fairly mature guy. Drink and smoke occasionally. Am independent and confident enough to take care of myself and my future partner."
       ]
      },
      {
       "output_type": "stream",
       "stream": "stdout",
       "text": [
        "\n",
        "790"
       ]
      },
      {
       "output_type": "stream",
       "stream": "stdout",
       "text": [
        " http://www.simplymarry.com/matrimonial/groom/SMM1451182/Hindu/Brahmin---Kokanastha/Sudesh-Ponkshe\n",
        "Hi, myself Sudesh, like to go for outings with family and friends. Listening to old film songs, spending time with my family. I am very simple person who likes to enjoy every moment of life. Like to watch action and comedy films."
       ]
      },
      {
       "output_type": "stream",
       "stream": "stdout",
       "text": [
        "\n",
        "791"
       ]
      },
      {
       "output_type": "stream",
       "stream": "stdout",
       "text": [
        " http://www.simplymarry.com/matrimonial/groom/SMM1478879/Hindu/Vaishya-Vani/Psd\n",
        "Hello, i am a cool guy, i am here for marriage and to get the perfect bride for me. I am in Management field from last 2 years."
       ]
      },
      {
       "output_type": "stream",
       "stream": "stdout",
       "text": [
        "\n",
        "792"
       ]
      },
      {
       "output_type": "stream",
       "stream": "stdout",
       "text": [
        " http://www.simplymarry.com/matrimonial/groom/SMM1420235/Hindu/Kshatriya/Bhavesh\n",
        "I am from Mumbai. Working with well known Bank. I am here to search my suitable life partner."
       ]
      },
      {
       "output_type": "stream",
       "stream": "stdout",
       "text": [
        "\n",
        "793"
       ]
      },
      {
       "output_type": "stream",
       "stream": "stdout",
       "text": [
        " http://www.simplymarry.com/matrimonial/groom/SMM1613830/Hindu/Prakash-Badgujar\n",
        "I am Prakash Badgujar from Vadodara, Gujarat. I have done work with so many hotels and restaurants. I like to travel in abroad. I am loveable, understanding and live life at the fullest. I do not like dishonest and unreliable people."
       ]
      },
      {
       "output_type": "stream",
       "stream": "stdout",
       "text": [
        "\n",
        "794"
       ]
      },
      {
       "output_type": "stream",
       "stream": "stdout",
       "text": [
        " http://www.simplymarry.com/matrimonial/groom/SMM1565544/Hindu/Devang-Koshthi/Swetang-Shripad\n",
        "I am simple, down to earth, well i will prefer my partner she should be understanding and matured like to take responsibility she should be always supportive in nature and she simple in nature and understanding."
       ]
      },
      {
       "output_type": "stream",
       "stream": "stdout",
       "text": [
        "\n",
        "795"
       ]
      },
      {
       "output_type": "stream",
       "stream": "stdout",
       "text": [
        " http://www.simplymarry.com/matrimonial/groom/SMM1607786/Hindu/Vanjari/Prashant-Ghuge\n",
        "Myself, prashant currently working with GlaxoSmithKline (GSK) Pharmaceuticals Ltd at Aurangabad. Completed my graduation in Pharmacy &amp; post graduation in MBA Marketing. Basically from Shirdi. Looking for a smart looking life partner, who can adjust in a joint family."
       ]
      },
      {
       "output_type": "stream",
       "stream": "stdout",
       "text": [
        "\n",
        "796"
       ]
      },
      {
       "output_type": "stream",
       "stream": "stdout",
       "text": [
        " http://www.simplymarry.com/matrimonial/groom/SMM1555829/Hindu/Brahmin---Deshastha/Shripad-Katakkar\n",
        "I believe that Service to humanity is service to GOD. I am a fun loving happy go lucky man. My likings are trekking, driving car, riding motorcycle, photography, reading, etc. I am well placed in a public sector bank in Middle Management Grade working as IT Professional."
       ]
      },
      {
       "output_type": "stream",
       "stream": "stdout",
       "text": [
        "\n",
        "797"
       ]
      },
      {
       "output_type": "stream",
       "stream": "stdout",
       "text": [
        " http://www.simplymarry.com/matrimonial/groom/SMM1624794/Hindu/Brahmin---Deshastha/Siva-Kumar-E\n",
        "Residing at Bangalore, stay with brothers, working since seven years in a private sector as an admin manager. Am a person with positive thinking, broad minded, good attitude. I have two brothers and mother, brother is working central govt and namco midc, mother is a housewife. I have vitiligo skin that's why i want partner like the same. Elder brother is married and have one son."
       ]
      },
      {
       "output_type": "stream",
       "stream": "stdout",
       "text": [
        "\n",
        "798"
       ]
      },
      {
       "output_type": "stream",
       "stream": "stdout",
       "text": [
        " http://www.simplymarry.com/matrimonial/groom/SMM1569901/Hindu/Maratha/Suresh-Shivaji-Patil\n",
        "I am suresh from mumbai.i am a mechanical engineer working in BMC as a Sub Engineer.i am very simple, responsible."
       ]
      },
      {
       "output_type": "stream",
       "stream": "stdout",
       "text": [
        "\n",
        "799"
       ]
      },
      {
       "output_type": "stream",
       "stream": "stdout",
       "text": [
        " http://www.simplymarry.com/matrimonial/groom/SMM1419103/Hindu/Maratha/Ramakant-jadhav-Jadhav\n",
        "I am basically from 96K Maratha, well settled family &amp; extrovert, living in Bangalore. I work in Finance dept of one of the reputed MNC and I belong to a close knit family."
       ]
      },
      {
       "output_type": "stream",
       "stream": "stdout",
       "text": [
        "\n",
        "800"
       ]
      },
      {
       "output_type": "stream",
       "stream": "stdout",
       "text": [
        " http://www.simplymarry.com/matrimonial/groom/SMM1432016/Buddhist/Jagdish\n",
        "Me from Pune. Am a very cool, silence person. Currently working in Botree Software Pvt. Ltd. Chennai as a Soft. Professional."
       ]
      },
      {
       "output_type": "stream",
       "stream": "stdout",
       "text": [
        "\n",
        "801"
       ]
      },
      {
       "output_type": "stream",
       "stream": "stdout",
       "text": [
        " http://www.simplymarry.com/matrimonial/groom/SMM1431705/Hindu/CKP/Pritesh-Karkhanis\n",
        "I am a Fun loving, Independent, talkative, understanding, caring, happy go lucky person with always smile on my face and zeal to bring the happiness to my family. I believe in modern as well as traditional values. I am very dedicated and passionate about my responsibilities towards family as well as my career. I have completed my MBA in Finance from ISBM, Pune. I did my M.com from Pune University &amp; have cleared CA I &amp; would like to complete my CA soon. My hobbies include Travelling, Photography and Dancing. Apart from that reading is what keeps me occupied often. I hardly read fiction or philosophical books. I love to explore new places and meet new people and getting to know different cultures. My favorite pastime includes listening to music and watching movies. I am complete foodie and love to try different veg &amp; non-veg cuisines. I'm currently working as a Sr. Accountant &amp; Project Leader with Applied Micro Circuits Corporation, Pune. I enjoy my work and its fun. I prefer to maintain an effective work-personal life balance. I believe in finish your work and go home early policy and always try to ensure that this is achieved."
       ]
      },
      {
       "output_type": "stream",
       "stream": "stdout",
       "text": [
        "\n",
        "802"
       ]
      },
      {
       "output_type": "stream",
       "stream": "stdout",
       "text": [
        " http://www.simplymarry.com/matrimonial/groom/SMM1489637/Hindu/Bhandari/Pushkar-Shirodkar\n",
        "Fun Loving; who loves life and believes in living every second of life to its fullest, respect for elders and love for the ones younger. I desires to have in-laws from joint family."
       ]
      },
      {
       "output_type": "stream",
       "stream": "stdout",
       "text": [
        "\n",
        "803"
       ]
      },
      {
       "output_type": "stream",
       "stream": "stdout",
       "text": [
        " http://www.simplymarry.com/matrimonial/groom/SMM1474095/Hindu/Brahmin---Karhade/Sanjiv-Moghe\n",
        "I'm Sanjiv Moghe, a graphic designer works with \" Kuprkabi Ceramic Design Studio\" Mumbai. A simple person, enjoy life as it comes. Believes in cultural values yet have modern approach. People think I am ambitious and hardworking. I think I am passionate about \"Design Factor\". I am looking for someone who can accept me with what I am."
       ]
      },
      {
       "output_type": "stream",
       "stream": "stdout",
       "text": [
        "\n",
        "804"
       ]
      },
      {
       "output_type": "stream",
       "stream": "stdout",
       "text": [
        " http://www.simplymarry.com/matrimonial/groom/SMM1453870/Hindu/Gabit/Hemant-Pednekar\n",
        "Fun loving, adaptable, caring and sensitive, determined,hardworking outgoing."
       ]
      },
      {
       "output_type": "stream",
       "stream": "stdout",
       "text": [
        "\n",
        "805"
       ]
      },
      {
       "output_type": "stream",
       "stream": "stdout",
       "text": [
        " http://www.simplymarry.com/matrimonial/groom/SMM1434703/Hindu/Suthar/Sanket-Jagtap\n",
        "I am down to earth,ambitious,honest,straight forward,Respectful,fun loving person. Carrer oriented, Practical. i am looking for a girl with similar qualities, i can be a very good alliance and life partner"
       ]
      },
      {
       "output_type": "stream",
       "stream": "stdout",
       "text": [
        "\n",
        "806"
       ]
      },
      {
       "output_type": "stream",
       "stream": "stdout",
       "text": [
        " http://www.simplymarry.com/matrimonial/groom/SMM1561679/Hindu/Kunbi/Anand-Mhaskar\n",
        "Hi, I am Anand, stays at Shahapur. I am very kind, understanding, down to earth in nature. I have completed Bcom. I have my own gifts and article shop in Shahapur. In my family we are four person. My parents and brother. I am looking for a girl who will be good, kind and understanding in nature."
       ]
      },
      {
       "output_type": "stream",
       "stream": "stdout",
       "text": [
        "\n",
        "807"
       ]
      },
      {
       "output_type": "stream",
       "stream": "stdout",
       "text": [
        " http://www.simplymarry.com/matrimonial/groom/SMM1422034/Hindu/Brahmin---Kokanastha/Sanjay-Dharap\n",
        "He is a Simple person who wants to live life king size and stays at Badlapur. Parents stays with younger brother at Mulund. He works in a Factory near Badlapur. He is a simple and god loving person."
       ]
      },
      {
       "output_type": "stream",
       "stream": "stdout",
       "text": [
        "\n",
        "808"
       ]
      },
      {
       "output_type": "stream",
       "stream": "stdout",
       "text": [
        " http://www.simplymarry.com/matrimonial/groom/SMM1623325/Hindu/Jangam/Veersh-Swami\n",
        "I am separated, love just left us stranded high &amp; dry. Believe in moving on and looking ahead in life. Guy with moderate values, not very religious but with a high spiritual orientation and bearing. Looking for love once again."
       ]
      },
      {
       "output_type": "stream",
       "stream": "stdout",
       "text": [
        "\n",
        "809"
       ]
      },
      {
       "output_type": "stream",
       "stream": "stdout",
       "text": [
        " http://www.simplymarry.com/matrimonial/groom/SMM1499685/Buddhist/Shailendra-N-More\n",
        "Handsome person with a confident personality. Like to take up challenges, travel to foreign cities, do Social work. I own a Flat in Kandivili Mumbai. Stay with my Mom, Brother and Sister in law. Have over 7 years of Work experience. Have traveled abroad many times. Looking forward to a beautiful and well educated life partner with a decent job or business."
       ]
      },
      {
       "output_type": "stream",
       "stream": "stdout",
       "text": [
        "\n",
        "810"
       ]
      },
      {
       "output_type": "stream",
       "stream": "stdout",
       "text": [
        " http://www.simplymarry.com/matrimonial/groom/SMM1452152/Buddhist/Kapil-Bansode\n",
        "Truth &amp; honesty are basic principle of my Life. I like to live every moment of life. According to me, Relations are build on good communications, So expects a good communication &amp; meet as a person before any fruitful development. Looking for Good Human Being. Partner Preference: Looking for Social &amp; Good Human Being. Would like to communicate one to one before any fruitful development. I do believe in communicating in free atmosphere which will make clear understanding to take important decision for both life's."
       ]
      },
      {
       "output_type": "stream",
       "stream": "stdout",
       "text": [
        "\n",
        "811"
       ]
      },
      {
       "output_type": "stream",
       "stream": "stdout",
       "text": [
        " http://www.simplymarry.com/matrimonial/groom/SMM1442686/Hindu/Maratha/Kiran-Chandrakant-Deshmukh\n",
        "Myself is Kiran Deshmukh. I am very friendly, caring, honest and hard working person. I am working as Manager Finance and Accounts in MNC."
       ]
      },
      {
       "output_type": "stream",
       "stream": "stdout",
       "text": [
        "\n",
        "812"
       ]
      },
      {
       "output_type": "stream",
       "stream": "stdout",
       "text": [
        " http://www.simplymarry.com/matrimonial/groom/SMM1542255/Hindu/Maratha/Sampat-Godage\n",
        "i am Handsome,charming,romantic,lovable,well Understanding personality.working with govt. organisation (NARI ICMR ) PUNE Iwant good understanding lovable ,family oriented,Educated, caring life partner."
       ]
      },
      {
       "output_type": "stream",
       "stream": "stdout",
       "text": [
        "\n",
        "813"
       ]
      },
      {
       "output_type": "stream",
       "stream": "stdout",
       "text": [
        " http://www.simplymarry.com/matrimonial/groom/SMM1461111/Hindu/Bhandari/Smm1461111\n",
        "Hi, am a simple person, have a Saumya Mangal and have no bad habits. I have 2 brothers, both are married and living separately. One sister, married and living a happy life with her partner. My father is no more and I am staying with my mother. I am a religious person and my native place is Goa. I am staying in a Chawl."
       ]
      },
      {
       "output_type": "stream",
       "stream": "stdout",
       "text": [
        "\n",
        "814"
       ]
      },
      {
       "output_type": "stream",
       "stream": "stdout",
       "text": [
        " http://www.simplymarry.com/matrimonial/groom/SMM1416825/Hindu/Hindu-Others/Praneel-Sadanand-Panchal\n",
        "He is very independent, fun loving person, socialize in many activities, hardworking, very much caring for partner as well as for everyone, loves to travel a lot, family oriented, he is friendly by nature."
       ]
      },
      {
       "output_type": "stream",
       "stream": "stdout",
       "text": [
        "\n",
        "815"
       ]
      },
      {
       "output_type": "stream",
       "stream": "stdout",
       "text": [
        " http://www.simplymarry.com/matrimonial/groom/SMM1460683/Hindu/Maratha/Bhushan-Morje\n",
        "Shree Ganeshay Namah, I am commerce graduate. I have done Diploma in Computerised Accounts. My interest &amp; hobbies like reading.I am liberal, caring and understanding person, down to earth, practical and Spiritual. I am a person with a pleasant nature and positive approach towards life. I love to spent time with my family and enjoy every moment of life with everybody around me. My family life is top most priority for me. I am presently working with Bombay Natural History Society as Accountant. I dont have bad habits like smoking, drinking and gambling. It is against our Family Culture. Focused on Balancing mind, body &amp; soul by practising YOG as a way of life. My short term goal is get Married to lovely girl and long term goal is to live happy life."
       ]
      },
      {
       "output_type": "stream",
       "stream": "stdout",
       "text": [
        "\n",
        "816"
       ]
      },
      {
       "output_type": "stream",
       "stream": "stdout",
       "text": [
        " http://www.simplymarry.com/matrimonial/groom/SMM1595722/Hindu/Bhandari/Aryan-Bhalerao\n",
        "817"
       ]
      },
      {
       "output_type": "stream",
       "stream": "stdout",
       "text": [
        " http://www.simplymarry.com/matrimonial/groom/SMM1433358/Hindu/Maratha/Manoj-S-Salunke\n",
        "I am Simple with some goals in life and searching for a very simple and sweet life partner. I am very understanding and matured boy. I have Completed my B.com, MPM, DLL &amp; LW, LLB-I from Pune University. I am a convent Student. I am very frank and emotional guy."
       ]
      },
      {
       "output_type": "stream",
       "stream": "stdout",
       "text": [
        "\n",
        "818"
       ]
      },
      {
       "output_type": "stream",
       "stream": "stdout",
       "text": [
        " http://www.simplymarry.com/matrimonial/groom/SMM1540611/Hindu/Maratha/Kunal-Rajendra-Kalke\n",
        "I am quite, simple and down to earth person. Few adjectives which can describe me are adaptable, extrovert, fun loving, friendly etc. My hobbies are playing and watching cricket, dramatics, making new friends, organizing social and cultural events etc. Born and brought up in Mumbai, in a simple Maharashtrian family."
       ]
      },
      {
       "output_type": "stream",
       "stream": "stdout",
       "text": [
        "\n",
        "819"
       ]
      },
      {
       "output_type": "stream",
       "stream": "stdout",
       "text": [
        " http://www.simplymarry.com/matrimonial/groom/SMM1472572/Hindu/Mali/Yashwant-Shankar-Kudale\n",
        "My self yashwant from pune city. I like to have a partner who is self dependent, Cooperative, good looking and good in nature. I have completed my M.Sc. in Chemistry and currently worked in pharmaceutical sector."
       ]
      },
      {
       "output_type": "stream",
       "stream": "stdout",
       "text": [
        "\n",
        "820"
       ]
      },
      {
       "output_type": "stream",
       "stream": "stdout",
       "text": [
        " http://www.simplymarry.com/matrimonial/groom/SMM1446022/Hindu/Brahmin/Kedar\n",
        "Army officer with adventurous background. Lean tall &amp; well built. Done B.Com from Pune &amp; Masters in Military Studies from Dehradun. Well settled in life &amp; profession. Basically Non Veg &amp; loves work out, Gym &amp; sports. Swimming is passion."
       ]
      },
      {
       "output_type": "stream",
       "stream": "stdout",
       "text": [
        "\n",
        "821"
       ]
      },
      {
       "output_type": "stream",
       "stream": "stdout",
       "text": [
        " http://www.simplymarry.com/matrimonial/groom/SMM1570982/Hindu/Brahmin---Karhade/Ravindra-Desai\n",
        "I am a simple, educated and good cultural values. I am a straight person. I like travelling, watching movies. Presently I am working in a Private Company as Senior Engineer / Team Leader. Partner should be of similar background. Detail can be discussed later."
       ]
      },
      {
       "output_type": "stream",
       "stream": "stdout",
       "text": [
        "\n",
        "822"
       ]
      },
      {
       "output_type": "stream",
       "stream": "stdout",
       "text": [
        " http://www.simplymarry.com/matrimonial/groom/SMM1570960/Hindu/Maratha/Rahul-Patil\n",
        "I'm an HIV Positive. Love life, friendly and free-spirited person. Proactive in adventure outings and cycling to keep body endurance level and stamina toned. Dancing and music are my passion and travelling a great stress-buster."
       ]
      },
      {
       "output_type": "stream",
       "stream": "stdout",
       "text": [
        "\n",
        "823"
       ]
      },
      {
       "output_type": "stream",
       "stream": "stdout",
       "text": [
        " http://www.simplymarry.com/matrimonial/groom/SMM1511617/Hindu/Shimpi/Praveen\n",
        "My self Praveen, I have completed MBA Finance from ICFAI University &amp; M.Com from KSOU. We are looking for a Namadeva simple girl. Am easy going fun loving guy looking for a partner. She should be understandable &amp; Good Looking."
       ]
      },
      {
       "output_type": "stream",
       "stream": "stdout",
       "text": [
        "\n",
        "824"
       ]
      },
      {
       "output_type": "stream",
       "stream": "stdout",
       "text": [
        " http://www.simplymarry.com/matrimonial/groom/SMM1415204/Hindu/Brahmin---Deshastha/Pravin-M-Talegaonkar\n",
        "Hi, i am a simple person with positive approach towards life. I am staying at Navi Mumbai due to my job. Looking for a life partner as friend, who can understand me and my family. I think life is very beautiful with family and friends."
       ]
      },
      {
       "output_type": "stream",
       "stream": "stdout",
       "text": [
        "\n",
        "825"
       ]
      },
      {
       "output_type": "stream",
       "stream": "stdout",
       "text": [
        " http://www.simplymarry.com/matrimonial/groom/SMM1464332/Hindu/Vanjari/Sunil-B.-Sanap\n",
        "Hi, i am sunil, looking for a partner who understand me and support me. I am Cool with bold attitude."
       ]
      },
      {
       "output_type": "stream",
       "stream": "stdout",
       "text": [
        "\n",
        "826"
       ]
      },
      {
       "output_type": "stream",
       "stream": "stdout",
       "text": [
        " http://www.simplymarry.com/matrimonial/groom/SMM1579197/Hindu/Kshatriya/Alok-Chavan\n",
        "I am a simple, outspoken &amp; lively person who loves traveling. Perfection is what I pursue &amp; hard work is what I believe in. I am looking for a companion who is caring, compassionate &amp; understanding. Being adaptable is key requirement to be able to blend in anywhere at anytime."
       ]
      },
      {
       "output_type": "stream",
       "stream": "stdout",
       "text": [
        "\n",
        "827"
       ]
      },
      {
       "output_type": "stream",
       "stream": "stdout",
       "text": [
        " http://www.simplymarry.com/matrimonial/groom/SMM1621317/Hindu/Maratha/Gopal-Marathe\n",
        "Myself Gopal. I have completed my Masters in Business Management. I am currently working as an Investment Professional in Pune. My friends describe me as confident, modern and smart person."
       ]
      },
      {
       "output_type": "stream",
       "stream": "stdout",
       "text": [
        "\n",
        "828"
       ]
      },
      {
       "output_type": "stream",
       "stream": "stdout",
       "text": [
        " http://www.simplymarry.com/matrimonial/groom/SMM1566377/Hindu/Siddhartha-Dongre\n",
        "829"
       ]
      },
      {
       "output_type": "stream",
       "stream": "stdout",
       "text": [
        " http://www.simplymarry.com/matrimonial/groom/SMM1468715/Hindu/Brahmin---Kokanastha/Yadnesh-Marathe\n",
        "Hi, I am Yadnesh Marathe from Pune. I am working with ICICI Bank as Corporate Relationship Officer in Pune. I am very simple and ambitious guy. I love my family a lot. I am the only sibling of my parents."
       ]
      },
      {
       "output_type": "stream",
       "stream": "stdout",
       "text": [
        "\n",
        "830"
       ]
      },
      {
       "output_type": "stream",
       "stream": "stdout",
       "text": [
        " http://www.simplymarry.com/matrimonial/groom/SMM1414104/Hindu/Nitesh-Bharat-Bhagwat\n",
        "I AM VERY HARD WORKING PERSON,; I HAVE NO BROTHERS &amp; SISTERS. I AM VERY COOL &amp; CALM TYPE PERSON BUT SOMETIMES BECOME ANGRY. MY PARENTS ARE ALSO VERY COOPERATIVE &amp; LOVING WITH EVERYONE. I ALWAYS BELIEVE IN LIVING HAPPILY. I HAVE PASSED THE DIPLOMA IN COMPUTER HARDWARE ENGINEERING OF 6 MONTHS FROM CAT IN A GRADE. I ALSO HAVE PASSED THE DTP COURSE OF 3 MONTHS FROM CAT IN B GRADE. I ALSO PASSED THE TALLY COURSE IN A GRADE. I HAVE TWO YEARS EXPERIENCE OF TEACHING COMPUTER IN PARAM COMPUTERS IN MALEGAON."
       ]
      },
      {
       "output_type": "stream",
       "stream": "stdout",
       "text": [
        "\n",
        "831"
       ]
      },
      {
       "output_type": "stream",
       "stream": "stdout",
       "text": [
        " http://www.simplymarry.com/matrimonial/groom/SMM1458913/Hindu/Maratha/Aditya-Rane\n",
        "looking for a family girl. I am calm and enough talkative. Believe in a family values and traditions. She must be caring, loving and co-operative and good in nature. Must be ready to live with my parents."
       ]
      },
      {
       "output_type": "stream",
       "stream": "stdout",
       "text": [
        "\n",
        "832"
       ]
      },
      {
       "output_type": "stream",
       "stream": "stdout",
       "text": [
        " http://www.simplymarry.com/matrimonial/groom/SMM1458573/Hindu/Koshti/Pranav-Landge\n",
        "Hi, i completed my engineering in chemical field. i m very straight forward person. my life style is simple. i m finding a girl who have good nature, well minded who knows family value and having good thinking."
       ]
      },
      {
       "output_type": "stream",
       "stream": "stdout",
       "text": [
        "\n",
        "833"
       ]
      },
      {
       "output_type": "stream",
       "stream": "stdout",
       "text": [
        " http://www.simplymarry.com/matrimonial/groom/SMM1569755/Hindu/Vanjari/Nilesh-Vanjari\n",
        "My Self Nilesh, I am here to find nice girl who can understand my family as well as me. she should be well educated and have good family background. I am working With International company as Marketing Executive."
       ]
      },
      {
       "output_type": "stream",
       "stream": "stdout",
       "text": [
        "\n",
        "834"
       ]
      },
      {
       "output_type": "stream",
       "stream": "stdout",
       "text": [
        " http://www.simplymarry.com/matrimonial/groom/SMM1571732/Hindu/Brahmin---Saraswat/Gaurang-T\n",
        "I am a happy-go-lucky kind of person. Enjoys every moments of life. I'm very simple &amp; honest person. I am quite talkative with a person with whom my wave length matches. I want a life partner who believes in relations and respects the same. She will get all the importance in my life."
       ]
      },
      {
       "output_type": "stream",
       "stream": "stdout",
       "text": [
        "\n",
        "835"
       ]
      },
      {
       "output_type": "stream",
       "stream": "stdout",
       "text": [
        " http://www.simplymarry.com/matrimonial/groom/SMM1592081/Hindu/Leva-patil/Milind-Nilikanth-Chaudhari\n",
        "MY BROTHER IS A SIMPLE BUT HONEST PERSON WHO BELIEVES IN ENJOYING EVERY MOMENT OF LIFE. HE IS VERY LOVING AND CARING IN NATURE."
       ]
      },
      {
       "output_type": "stream",
       "stream": "stdout",
       "text": [
        "\n",
        "836"
       ]
      },
      {
       "output_type": "stream",
       "stream": "stdout",
       "text": [
        " http://www.simplymarry.com/matrimonial/groom/SMM1433823/Hindu/Rajput/Vinod-Rajput\n",
        "Hi, I'm Vinod, very simple, easy going, down to earth person and looking for friendly, smart and intelligent soul mate."
       ]
      },
      {
       "output_type": "stream",
       "stream": "stdout",
       "text": [
        "\n",
        "837"
       ]
      },
      {
       "output_type": "stream",
       "stream": "stdout",
       "text": [
        " http://www.simplymarry.com/matrimonial/groom/SMM1472440/Jain/Shewetamber/Abhay\n",
        "Hi, myself Abhay Lalwani, working as a DSA in the The Times of India."
       ]
      },
      {
       "output_type": "stream",
       "stream": "stdout",
       "text": [
        "\n",
        "838"
       ]
      },
      {
       "output_type": "stream",
       "stream": "stdout",
       "text": [
        " http://www.simplymarry.com/matrimonial/groom/SMM1456060/Buddhist/Anand-Patil\n",
        "Hi, i am Anand Patil. I had completed my diploma in mechanical engineering. I am business man. We manufacture kitchen equipment for restaurants, hotels &amp; Commercial canteens. We also do dealing in air conditioners and even manufacture some specifically designed air conditioned we have a monthly income in five figures. Have 8 members in family with 1 sister, mother, father, 1 uncle, 2 aunts and 1 cousin living together. Wish to marry a girls who can take care of all my family members and my self should also be interested in handling my office work &amp; help me in office work."
       ]
      },
      {
       "output_type": "stream",
       "stream": "stdout",
       "text": [
        "\n",
        "839"
       ]
      },
      {
       "output_type": "stream",
       "stream": "stdout",
       "text": [
        " http://www.simplymarry.com/matrimonial/groom/SMM1558679/Buddhist/Rohan-Ashok-Kamble\n",
        "Hi, I am a simple guy with great family values. I have completed my B. E. Computers from Mumbai University. My hobbies are dancing, travelling and internet browsing. I also love to play badminton and carom. I expect my life partner to be caring and understandable."
       ]
      },
      {
       "output_type": "stream",
       "stream": "stdout",
       "text": [
        "\n",
        "840"
       ]
      },
      {
       "output_type": "stream",
       "stream": "stdout",
       "text": [
        " http://www.simplymarry.com/matrimonial/groom/SMM1442241/Hindu/Brahmin/Sandeep-Santosh-Dede\n",
        "I LIKE TO LEARN NEW THING AND LIKE TO ACCEPT CHALLENGES; I LIKE WATCHING MOVIES AND LISTING OLD &amp; NEW SONGS, LIKE TO PLAY CHESS &amp; TENNIS. Currently working with Hindustan Unilever ltd like listening music."
       ]
      },
      {
       "output_type": "stream",
       "stream": "stdout",
       "text": [
        "\n",
        "841"
       ]
      },
      {
       "output_type": "stream",
       "stream": "stdout",
       "text": [
        " http://www.simplymarry.com/matrimonial/groom/SMM1516632/Hindu/Kunbi/Mahendra-Thakre\n",
        "Am a person who live life with fun and happiness, people say I fill my surrounding with joy and happiness. I respect moral values but hate moral policing. I love to visit new places and cannot stop myself to experiment new and happening things."
       ]
      },
      {
       "output_type": "stream",
       "stream": "stdout",
       "text": [
        "\n",
        "842"
       ]
      },
      {
       "output_type": "stream",
       "stream": "stdout",
       "text": [
        " http://www.simplymarry.com/matrimonial/groom/SMM1578543/Hindu/Koli-Mahadev/Sandeep-Jadhav\n",
        "I am a cool boy, living with my family. I am looking for a simple life partner with whom you can spend your rest life with. Also, i am a hard worker boy with reserved nature."
       ]
      },
      {
       "output_type": "stream",
       "stream": "stdout",
       "text": [
        "\n",
        "843"
       ]
      },
      {
       "output_type": "stream",
       "stream": "stdout",
       "text": [
        " http://www.simplymarry.com/matrimonial/groom/SMM1425107/Hindu/Maratha/Rajendra\n",
        "I am straight forward, simple, down to earth, civilized and traditional person. I trust on god. Also i like faithful and good persons. I have positive attitude, highly thinking power and believing in simple living."
       ]
      },
      {
       "output_type": "stream",
       "stream": "stdout",
       "text": [
        "\n",
        "844"
       ]
      },
      {
       "output_type": "stream",
       "stream": "stdout",
       "text": [
        " http://www.simplymarry.com/matrimonial/groom/SMM1472869/Buddhist/Pradeep\n",
        "I have born and brought up in mumbai. Presently working in Pune wih MNC since last 5.5 years. I like photography and travelling. I would like to stay in pune or mumbai in future. Thanks, Pradeep"
       ]
      },
      {
       "output_type": "stream",
       "stream": "stdout",
       "text": [
        "\n",
        "845"
       ]
      },
      {
       "output_type": "stream",
       "stream": "stdout",
       "text": [
        " http://www.simplymarry.com/matrimonial/groom/SMM1536781/Hindu/SKP/Abhijit-Darne\n",
        "Hi I am Abhijit. A Marketing Professional. I like to live life to the fullest, ensuring my tomorrow is always better than yesterday. Love listening to music, watching movies, travelling, exploring new places, going for long drives and pampering the taste buds. I would like to find someone who is well educated, cheerful and shares similar interests should be from a good family with strong family values. I am stylish yet simple, very down to earth guy, who believes in simple living high thinking and one who gets along really well with people. I have done my schooling from a convent school, Graduation in Commerce from KJ Somaiya college of Science &amp; Commerce. Recently completed my 3yrs Part time MBA in Marketing -MMM-(Masters in marketing management -Mumbai University) with a First-class. Currently working with a Reputed Educational firm as Asst. Manager Marketing since a year &amp; half. With years long rich experience of working in MNC's and latest possession of Masters degree last month."
       ]
      },
      {
       "output_type": "stream",
       "stream": "stdout",
       "text": [
        "\n",
        "846"
       ]
      },
      {
       "output_type": "stream",
       "stream": "stdout",
       "text": [
        " http://www.simplymarry.com/matrimonial/groom/SMM1500264/Hindu/Scheduled-Caste/Harish-Bhagat\n",
        "A boy having positive attitude towards life and nature. Believes in conveying regards and respect to everyone. Very fortunate to have lovely family, career and work profile. He is an honest, hardworking and simple person being religious and an understanding. very down to earth. Belongs to a business family with a passion to learn and endeavor to handle adverse situations with calmness and intelligently. Is very emotional and softhearted person. Very fun loving person with a mix attitude towards traditional and modern values. inclined towards religious beliefs, like to visit temple frequently. love to live with a smile, always fond of delicious food. Hobby includes Traveling, playing games, at times talking with friends and family, reading and listening music."
       ]
      },
      {
       "output_type": "stream",
       "stream": "stdout",
       "text": [
        "\n",
        "847"
       ]
      },
      {
       "output_type": "stream",
       "stream": "stdout",
       "text": [
        " http://www.simplymarry.com/matrimonial/groom/SMM1467110/Hindu/Lingayath/Amogh-Dhanale\n",
        "I m an optimistic person, i have an active life and enjoy, having adventures and challenges in my life that keeps me going on. i love traveling and visiting to places that has pure serene and naturally beautiful."
       ]
      },
      {
       "output_type": "stream",
       "stream": "stdout",
       "text": [
        "\n",
        "848"
       ]
      },
      {
       "output_type": "stream",
       "stream": "stdout",
       "text": [
        " http://www.simplymarry.com/matrimonial/groom/SMM1489922/Hindu/Brahmin---Daivadnya/Suyog-Pisat\n",
        "I am working in a Indian Ordnance Factories, Ministry of Defence, Govt. of India. in Ambernath in Administration dept. as a Non gazetted officer. I had bought a flat in Ambernath but presently i am residing in Dombivli with my parents."
       ]
      },
      {
       "output_type": "stream",
       "stream": "stdout",
       "text": [
        "\n",
        "849"
       ]
      },
      {
       "output_type": "stream",
       "stream": "stdout",
       "text": [
        " http://www.simplymarry.com/matrimonial/groom/SMM1412211/Hindu/Brahmin---Saraswat/Parag\n",
        "I am Partially Deaf (Profound). I can speak very well, clearly and understand lips reading. Although, I have hearing impaired, I am leading my life in a perfectly normal and healthy way and am working as a Graphic Designer in Mumbai."
       ]
      },
      {
       "output_type": "stream",
       "stream": "stdout",
       "text": [
        "\n",
        "850"
       ]
      },
      {
       "output_type": "stream",
       "stream": "stdout",
       "text": [
        " http://www.simplymarry.com/matrimonial/groom/SMM1496100/Hindu/Matang/Sudhir\n",
        "I am sudhir, am from pune, but now working in mumbai; looking for a gud girl and a well educated life partner."
       ]
      },
      {
       "output_type": "stream",
       "stream": "stdout",
       "text": [
        "\n",
        "851"
       ]
      },
      {
       "output_type": "stream",
       "stream": "stdout",
       "text": [
        " http://www.simplymarry.com/matrimonial/groom/SMM1610934/Hindu/Kshatriya/Prathamesh-Tawde\n",
        "Hi, i love to travel, sports and adventure. I am a simple, loving and down to earth person, looking for a simple and caring life partner, who would make me complete. She should be carrier oriented."
       ]
      },
      {
       "output_type": "stream",
       "stream": "stdout",
       "text": [
        "\n",
        "852"
       ]
      },
      {
       "output_type": "stream",
       "stream": "stdout",
       "text": [
        " http://www.simplymarry.com/matrimonial/groom/SMM1418726/Hindu/Brahmin---Deshastha/Shri\n",
        "Simple, energetic, smiling, cool, down to earth, have romantic personality with no ego and no bad habits."
       ]
      },
      {
       "output_type": "stream",
       "stream": "stdout",
       "text": [
        "\n",
        "853"
       ]
      },
      {
       "output_type": "stream",
       "stream": "stdout",
       "text": [
        " http://www.simplymarry.com/matrimonial/groom/SMM1501663/Hindu/Koli/Shailendra-Ramesh-Balku\n",
        "Hi i am shailendra...likes to live each n every movement of life happily. Looking for a life partner who can understand me very well, love me a lot. Currently working in Indian Navy as Lower Division clerk."
       ]
      },
      {
       "output_type": "stream",
       "stream": "stdout",
       "text": [
        "\n",
        "854"
       ]
      },
      {
       "output_type": "stream",
       "stream": "stdout",
       "text": [
        " http://www.simplymarry.com/matrimonial/groom/SMM1508501/Hindu/Maratha/Ajinkya\n",
        "I am looking for a modern, independent, attractive partner who also has a good sense of humour. Personally I have a face for every occasion since I can blend in with the crowd. I am a person who is very caring, loving, compassionate, considerate, cheerful, optimistic, calm, soft-spoken, strong-willed, and persevering. I m looking for a person who should be well settled and gives equal importance to work and family."
       ]
      },
      {
       "output_type": "stream",
       "stream": "stdout",
       "text": [
        "\n",
        "855"
       ]
      },
      {
       "output_type": "stream",
       "stream": "stdout",
       "text": [
        " http://www.simplymarry.com/matrimonial/groom/SMM1515503/Hindu/Kunbi/Dr.bhushan\n",
        "Hi, i am working as medical officer at rural hospital of gondia since 2 years &amp; also preparing for pg exam. My life partner should preferably medico, down to earth girl, with understanding nature."
       ]
      },
      {
       "output_type": "stream",
       "stream": "stdout",
       "text": [
        "\n",
        "856"
       ]
      },
      {
       "output_type": "stream",
       "stream": "stdout",
       "text": [
        " http://www.simplymarry.com/matrimonial/groom/SMM1453741/Hindu/Brahmin---Deshastha/Pushkar-Kulkarni\n",
        "I am working in a MNC as Executive - QAC; I am simple &amp; believe in the family values &amp; expect same from my partner. Someone who is Simple &amp; belong to a Brahmin family."
       ]
      },
      {
       "output_type": "stream",
       "stream": "stdout",
       "text": [
        "\n",
        "857"
       ]
      },
      {
       "output_type": "stream",
       "stream": "stdout",
       "text": [
        " http://www.simplymarry.com/matrimonial/groom/SMM1461320/Hindu/Devang-Koshthi/Santoshb\n",
        "Hi, this is my brother's profile, he has done MA in History and B.Pd also done Diploma in Civil Engineer and working in Consulting field in constructions. our family is a middle class family family, father is a retired person and mother is a housewife."
       ]
      },
      {
       "output_type": "stream",
       "stream": "stdout",
       "text": [
        "\n",
        "858"
       ]
      },
      {
       "output_type": "stream",
       "stream": "stdout",
       "text": [
        " http://www.simplymarry.com/matrimonial/groom/SMM1481109/Hindu/Agri/Rajesh-Gajanan-Phulare\n",
        "I'm simple, honest, caring person, working in private organisation. interested in watching movies, news, sports."
       ]
      },
      {
       "output_type": "stream",
       "stream": "stdout",
       "text": [
        "\n",
        "859"
       ]
      },
      {
       "output_type": "stream",
       "stream": "stdout",
       "text": [
        " http://www.simplymarry.com/matrimonial/groom/SMM1528151/Hindu/Agri/Ravi\n",
        "Simple, sincere and fun loving guy who respects family and traditional values. I value the relationships and family is my first priority. I love to live with a smile besides loving food, traveling and computer games."
       ]
      },
      {
       "output_type": "stream",
       "stream": "stdout",
       "text": [
        "\n",
        "860"
       ]
      },
      {
       "output_type": "stream",
       "stream": "stdout",
       "text": [
        " http://www.simplymarry.com/matrimonial/groom/SMM1472799/Hindu/Maharashtrian/Sandeep\n",
        "I am an honest, independent &amp; ambitious person, who values Career and Family equally. An MBA from one of India's Premier institutes, I am currently working with a Multinational Company. On personal front, I am outgoing, fun loving, enthusiastic and quite easy to get along with. I like socializing, traveling and adventure sports. Looking for a life partner who is practical, career oriented &amp; has a zestful approach towards life."
       ]
      },
      {
       "output_type": "stream",
       "stream": "stdout",
       "text": [
        "\n",
        "861"
       ]
      },
      {
       "output_type": "stream",
       "stream": "stdout",
       "text": [
        " http://www.simplymarry.com/matrimonial/groom/SMM1470710/Hindu/Swakula-Sali/Mayur-R.-Shingade\n",
        "Hello, I am Mayur; I am engaged in my family business of dealing in natural stones. I am the 4th generation in our family business. We are located at two places in Pune. I am very passionate about my work and thoroughly enjoy it. My other interests are super bikes and fish keeping. Besides this I enjoy listening to rock music, Indian classical music, I love the talkies. I am quiet a social person and I like to go out with friends for dinner. I like honest people and for me honesty is a way of life. I am looking forward to good companionship, a good friend, so long as we get along well and find each other compatible everything else is just inconsequential."
       ]
      },
      {
       "output_type": "stream",
       "stream": "stdout",
       "text": [
        "\n",
        "862"
       ]
      },
      {
       "output_type": "stream",
       "stream": "stdout",
       "text": [
        " http://www.simplymarry.com/matrimonial/groom/SMM1501237/Hindu/Mali/Abhijeet-Ramchandra-Girme\n",
        "Hello i am a cool person. respect every ones aspect of life. i am believer of god. like making friends."
       ]
      },
      {
       "output_type": "stream",
       "stream": "stdout",
       "text": [
        "\n",
        "863"
       ]
      },
      {
       "output_type": "stream",
       "stream": "stdout",
       "text": [
        " http://www.simplymarry.com/matrimonial/groom/SMM1584629/Jain/Digambar/Rahul\n",
        "Family oriented, Fun loving, simple lifestyle, likes travel, photography etc."
       ]
      },
      {
       "output_type": "stream",
       "stream": "stdout",
       "text": [
        "\n",
        "864"
       ]
      },
      {
       "output_type": "stream",
       "stream": "stdout",
       "text": [
        " http://www.simplymarry.com/matrimonial/groom/SMM1421564/Hindu/Maratha/Vivek-wadekar\n",
        "I am very cool and understandable person."
       ]
      },
      {
       "output_type": "stream",
       "stream": "stdout",
       "text": [
        "\n",
        "865"
       ]
      },
      {
       "output_type": "stream",
       "stream": "stdout",
       "text": [
        " http://www.simplymarry.com/matrimonial/groom/SMM1416865/Hindu/Brahmin---Smartha/Gourang-C-Sankannanavar\n",
        "Hi, To start with I am very fun loving, humorous and modern guy with a blend of religions and traditional values. I love trekking and hiking and have done a lot. We are a very small and cute family of 4, Father, Mother and a younger sister. Have completed my degree from Pendharkar college Dombivli. Do have my own 1BHK flat in Dombivli. I always keep anger away from me and always try to patch up things that are torn (mostly relations). I hate fighting and quarreling and always try to adjust things as per situations as its said life is too small for LOVE, then how are we supposed to Hate someone."
       ]
      },
      {
       "output_type": "stream",
       "stream": "stdout",
       "text": [
        "\n",
        "866"
       ]
      },
      {
       "output_type": "stream",
       "stream": "stdout",
       "text": [
        " http://www.simplymarry.com/matrimonial/groom/SMM1442055/Hindu/Maratha/Dilip-Y-Pawar\n",
        "Staying with my kids; have own house in pune. I am very simple person, lovable, taking care of my family. i am searching my partner who is not working, manage only home with no other responsibility."
       ]
      },
      {
       "output_type": "stream",
       "stream": "stdout",
       "text": [
        "\n",
        "867"
       ]
      },
      {
       "output_type": "stream",
       "stream": "stdout",
       "text": [
        " http://www.simplymarry.com/matrimonial/groom/SMM1480171/Hindu/Maratha/Amol-Chandrakant-Jadhav\n",
        "I'm very simple, honest &amp; senti kind of a person. I believe in 4S (Safe, Simple, Secure &amp; Straight forward) policy for my life. Basically I have grown up in the Middle Class family. I have a lot of friends. I am very affectionate, caring &amp; family oriented, fun loving, down to earth person who likes music, travelling. I was working in Animation industry from last 7 years and now I have started my own Animation studio from Last 2 years."
       ]
      },
      {
       "output_type": "stream",
       "stream": "stdout",
       "text": [
        "\n",
        "868"
       ]
      },
      {
       "output_type": "stream",
       "stream": "stdout",
       "text": [
        " http://www.simplymarry.com/matrimonial/groom/SMM1446050/Hindu/Maratha/Shinde-Kalpesh-Dnyaneshawer\n",
        "I am a BAMS Dr from Nasik university. i just completed my studies."
       ]
      },
      {
       "output_type": "stream",
       "stream": "stdout",
       "text": [
        "\n",
        "869"
       ]
      },
      {
       "output_type": "stream",
       "stream": "stdout",
       "text": [
        " http://www.simplymarry.com/matrimonial/groom/SMM1539133/Hindu/Gondhali/Nilesh-Gangawane\n",
        "Hi. I am Nilesh from Mumbai. I have completed MBA (Finance - JBIMS), BE (Mechanical -SPCE), LLB. and MBL. Currently working as a Manager with SBI Capital Markets Limited in Mumbai. We basically belong to Konkan region."
       ]
      },
      {
       "output_type": "stream",
       "stream": "stdout",
       "text": [
        "\n",
        "870"
       ]
      },
      {
       "output_type": "stream",
       "stream": "stdout",
       "text": [
        " http://www.simplymarry.com/matrimonial/groom/SMM1409972/Hindu/Brahmin---Kokanastha/Ojas-Pradeep-Durve\n",
        "I love to explore new places, travel a lot, love photography. Sporting activities is what I love to indulge in. Watch movies.\n",
        "Enjoy life to the fullest. Caring and kind by nature."
       ]
      },
      {
       "output_type": "stream",
       "stream": "stdout",
       "text": [
        "\n",
        "871"
       ]
      },
      {
       "output_type": "stream",
       "stream": "stdout",
       "text": [
        " http://www.simplymarry.com/matrimonial/groom/SMM1441358/Christian/Protestant/Tush-P\n",
        "love and live life to the fullest. Keep a positive attitude while keeping all that's important a top priority, like to work, handsome, mature, independent minded yet sensitive and considerate person."
       ]
      },
      {
       "output_type": "stream",
       "stream": "stdout",
       "text": [
        "\n",
        "872"
       ]
      },
      {
       "output_type": "stream",
       "stream": "stdout",
       "text": [
        " http://www.simplymarry.com/matrimonial/groom/SMM1470260/Hindu/Nhavi/Vikas-Deokar\n",
        "I AM A VERY HAPPY PERSONALITY. I AM A GOOD LISTENER."
       ]
      },
      {
       "output_type": "stream",
       "stream": "stdout",
       "text": [
        "\n",
        "873"
       ]
      },
      {
       "output_type": "stream",
       "stream": "stdout",
       "text": [
        " http://www.simplymarry.com/matrimonial/groom/SMM1424950/Christian/Protestant/Enosh-Bansode\n",
        "I have completed my Masters in Computers/ IT. I am currently working as a Computer Professional. My friends describe me as: Well mannered person and good Photographer. Motto in life: To live God fearing life. Hobbies: Photography."
       ]
      },
      {
       "output_type": "stream",
       "stream": "stdout",
       "text": [
        "\n",
        "874"
       ]
      },
      {
       "output_type": "stream",
       "stream": "stdout",
       "text": [
        " http://www.simplymarry.com/matrimonial/groom/SMM1562623/Hindu/Teli/Shashank-Bhange\n",
        "Hi, i am posting on the behalf of groom. He is good in sports. He is pretty average when it comes to studies. He is really emotional when it comes to family, loves to travel to places, also like to drive bike [but he is not that speedy kind of a guy]."
       ]
      },
      {
       "output_type": "stream",
       "stream": "stdout",
       "text": [
        "\n",
        "875"
       ]
      },
      {
       "output_type": "stream",
       "stream": "stdout",
       "text": [
        " http://www.simplymarry.com/matrimonial/groom/SMM1534813/Hindu/Vysya/Nayan-Maruti-Gawade\n",
        "I am a simple living men, believing in god.i have one son hi is with me.i am earning 10 to 15thousand per month.searching love......hobbies;cooking,playing cricket,reading books,help the animals ."
       ]
      },
      {
       "output_type": "stream",
       "stream": "stdout",
       "text": [
        "\n",
        "876"
       ]
      },
      {
       "output_type": "stream",
       "stream": "stdout",
       "text": [
        " http://www.simplymarry.com/matrimonial/groom/SMM1480833/Hindu/Chambhar/Gaurav-Shinde\n",
        "I am a career oriented &amp; a versatile kind of a person. I believe in handwork &amp; focused approach."
       ]
      },
      {
       "output_type": "stream",
       "stream": "stdout",
       "text": [
        "\n",
        "877"
       ]
      },
      {
       "output_type": "stream",
       "stream": "stdout",
       "text": [
        " http://www.simplymarry.com/matrimonial/groom/SMM1457066/Hindu/Leva-Patidar/Bhushan-Arun-Deshmukh\n",
        "Am Bhushan deshmukh from Jalgaon and looking for a sweet life partner. Am working in US as Software Developer in Mumbai."
       ]
      },
      {
       "output_type": "stream",
       "stream": "stdout",
       "text": [
        "\n",
        "878"
       ]
      },
      {
       "output_type": "stream",
       "stream": "stdout",
       "text": [
        " http://www.simplymarry.com/matrimonial/groom/SMM1448512/Hindu/Bhavasar-Kshatriya/Smm1448512\n",
        "Hello, I am working as a class one officer in state government of Maharashtra. I am very confident about life and all my decisions. Am very emotional, expressive, straight forward person. Likes cricket, cinema, reading books, exercise, meaningful conversation, tasty food."
       ]
      },
      {
       "output_type": "stream",
       "stream": "stdout",
       "text": [
        "\n",
        "879"
       ]
      },
      {
       "output_type": "stream",
       "stream": "stdout",
       "text": [
        " http://www.simplymarry.com/matrimonial/groom/SMM1418934/Hindu/Maratha/Abhijit-Ashok-Angre\n",
        "I am Abhijit Angre, simple, straight forward and a broad minded guy. I am currently working in Mphasis an HP company as lead infrastructure engineer. I love listening to music, working out in GYM and going out for hangout. Currently working in Pune and stay in Pune and searching for a soul mate who can love me and can expect the same from me. I am very positive attitude Guy and always like to be happy."
       ]
      },
      {
       "output_type": "stream",
       "stream": "stdout",
       "text": [
        "\n",
        "880"
       ]
      },
      {
       "output_type": "stream",
       "stream": "stdout",
       "text": [
        " http://www.simplymarry.com/matrimonial/groom/SMM1414835/Hindu/Brahmin/Abhijit-Anand-Ranade\n",
        "Tall, dark and good looking. Having a family business which is well known in my city. We are in this business from 46 years. Firstly grand father, than father, than mother and from 4 years now I m managing our business."
       ]
      },
      {
       "output_type": "stream",
       "stream": "stdout",
       "text": [
        "\n",
        "881"
       ]
      },
      {
       "output_type": "stream",
       "stream": "stdout",
       "text": [
        " http://www.simplymarry.com/matrimonial/groom/SMM1596691/Hindu/Maratha/Sameer-Mahadev-Jagadale\n",
        "Am Sameer, working as a Software consultant in CRM. Likes traveling, playing cricket and am ambitious too."
       ]
      },
      {
       "output_type": "stream",
       "stream": "stdout",
       "text": [
        "\n",
        "882"
       ]
      },
      {
       "output_type": "stream",
       "stream": "stdout",
       "text": [
        " http://www.simplymarry.com/matrimonial/groom/SMM1542736/Hindu/Deven-Vagal\n",
        "Hi i am from mumbai.I know it is too difficult to find someone with whom u can spend your entire life. I am working as a Senior Software Developer. I enjoy to enjoy every moment in my life.I am lovable, caring, understanding,honest by nature.I love Adventure games, Photography is my passion."
       ]
      },
      {
       "output_type": "stream",
       "stream": "stdout",
       "text": [
        "\n",
        "883"
       ]
      },
      {
       "output_type": "stream",
       "stream": "stdout",
       "text": [
        " http://www.simplymarry.com/matrimonial/groom/SMM1408187/Hindu/Lingayath/Amol-Ramesh-Nashte\n",
        "Am an Architect by profession and currently practicing on my own."
       ]
      },
      {
       "output_type": "stream",
       "stream": "stdout",
       "text": [
        "\n",
        "884"
       ]
      },
      {
       "output_type": "stream",
       "stream": "stdout",
       "text": [
        " http://www.simplymarry.com/matrimonial/groom/SMM1492910/Hindu/Mali/Vaibhav-Sanjay-Shivarkar\n",
        "I am very cool and calm, passionate about my work, self-motivated, supportive nature, care-taker of my family. My hobbies are trekking, event management, social activities etc. I am looking for a partner who is going to understand and support me and my family for entire life. she should be matured in all concerns."
       ]
      },
      {
       "output_type": "stream",
       "stream": "stdout",
       "text": [
        "\n",
        "885"
       ]
      },
      {
       "output_type": "stream",
       "stream": "stdout",
       "text": [
        " http://www.simplymarry.com/matrimonial/groom/SMM1416997/Buddhist/Paritosh\n",
        "Myself Paritosh, am a simple and polite person, have done M.Com from B.M.C.C College Pune and have also done M.B.A in Retail. Currently working with the reputed Co. as a Store Manager."
       ]
      },
      {
       "output_type": "stream",
       "stream": "stdout",
       "text": [
        "\n",
        "886"
       ]
      },
      {
       "output_type": "stream",
       "stream": "stdout",
       "text": [
        " http://www.simplymarry.com/matrimonial/groom/SMM1578493/Hindu/Bhandari/Mahendra-Naik\n",
        "Easy going, I prefer enjoying my life to the fullest and making the most of it. I prefer leading a simple lifestyle rather than a tedious one. Live in the present without thinking about the future or recalling the past."
       ]
      },
      {
       "output_type": "stream",
       "stream": "stdout",
       "text": [
        "\n",
        "887"
       ]
      },
      {
       "output_type": "stream",
       "stream": "stdout",
       "text": [
        " http://www.simplymarry.com/matrimonial/groom/SMM1437380/Hindu/Bhandari/Sandeep-Haldankar\n",
        "My Son Sandeep, is very simple and down to earth person. He is very lively. His hobbies are to listen to music; Ghazals, Romantic Songs, etc. He is good in sports and enjoys most of the outdoor as well as indoor games including Carrom, Chess, Cricket, Badminton, Flying Kites."
       ]
      },
      {
       "output_type": "stream",
       "stream": "stdout",
       "text": [
        "\n",
        "888"
       ]
      },
      {
       "output_type": "stream",
       "stream": "stdout",
       "text": [
        " http://www.simplymarry.com/matrimonial/groom/SMM1532575/Christian/Others/Vinayak-Gaikwad\n",
        "Hi, I am Vinay Gaikwad from Mumbai. I am God fearing &amp; fun loving person with passion to live for Jesus. I reside in mumbai with my mom, dad &amp; younger brother. I like to travel and enjoy my life everyday. I am looking for a life partner who is God fearing, passionate for Jesus. One who loves to enjoy every bit of life. I would also prefer one who has inclination towards music and singing."
       ]
      },
      {
       "output_type": "stream",
       "stream": "stdout",
       "text": [
        "\n",
        "889"
       ]
      },
      {
       "output_type": "stream",
       "stream": "stdout",
       "text": [
        " http://www.simplymarry.com/matrimonial/groom/SMM1547834/Hindu/Maratha/Charit-Varghade\n",
        "My personality would be best described as a 'Happy Go Lucky' kind of a person who loves to live life to the fullest. I believe in living in the present with an eye on the future and like to enjoy every moment of life."
       ]
      },
      {
       "output_type": "stream",
       "stream": "stdout",
       "text": [
        "\n",
        "890"
       ]
      },
      {
       "output_type": "stream",
       "stream": "stdout",
       "text": [
        " http://www.simplymarry.com/matrimonial/groom/SMM1457585/Hindu/Bhavasar-Kshatriya/Krishna-Umesh-Sanyasi\n",
        "I am a astrologer and spiritual healer, my son is studying in b.com and doing good business and earning well. my second daughter got married. have two sons, younger son is doing B.E. NEED A GOOD FAMILY WITH TRADITIONAL VALUES."
       ]
      },
      {
       "output_type": "stream",
       "stream": "stdout",
       "text": [
        "\n",
        "891"
       ]
      },
      {
       "output_type": "stream",
       "stream": "stdout",
       "text": [
        " http://www.simplymarry.com/matrimonial/groom/SMM1431619/Hindu/Brahmin---Deshastha/Devesh-Kulkarni\n",
        "I am Devesh, simple, live and born in Nasik, now work as an accountant; my father is a pensioner of central railway; mother is housewife; one sister married doing service in Nasik."
       ]
      },
      {
       "output_type": "stream",
       "stream": "stdout",
       "text": [
        "\n",
        "892"
       ]
      },
      {
       "output_type": "stream",
       "stream": "stdout",
       "text": [
        " http://www.simplymarry.com/matrimonial/groom/SMM1418719/Hindu/Brahmin/Raj-Agnihotri\n",
        "Hi, This is Raj Agnihotri, Basically, I am from pune, Maharashtra. I like to play Badminton, Like to eat and cook home food, Love to ride bikes &amp; cars."
       ]
      },
      {
       "output_type": "stream",
       "stream": "stdout",
       "text": [
        "\n",
        "893"
       ]
      },
      {
       "output_type": "stream",
       "stream": "stdout",
       "text": [
        " http://www.simplymarry.com/matrimonial/groom/SMM1454215/Hindu/Maratha/Hemant\n",
        "Fun loving, adaptable, caring and sensitive, determined, hardworking, outgoing."
       ]
      },
      {
       "output_type": "stream",
       "stream": "stdout",
       "text": [
        "\n",
        "894"
       ]
      },
      {
       "output_type": "stream",
       "stream": "stdout",
       "text": [
        " http://www.simplymarry.com/matrimonial/groom/SMM1575016/Hindu/Lingayath/Konade-Veeru-Shankar\n",
        "Have completed Master of arts in Hindi subjects and Diploma in computer hardware and networking engineer. Currently working in Wipro Technologies as a Desktop support engineer. Working in Solapur Maharashtra."
       ]
      },
      {
       "output_type": "stream",
       "stream": "stdout",
       "text": [
        "\n",
        "895"
       ]
      },
      {
       "output_type": "stream",
       "stream": "stdout",
       "text": [
        " http://www.simplymarry.com/matrimonial/groom/SMM1453702/Hindu/Brahmin---Deshastha/Manas-B\n",
        "I am a simple, social and fun loving Person. I am a family person with a broad outlook towards life. I am graduated from BUITBhopal University in Electronics and communication Engineering. I am currently associated with a Top notch MNC based out of Gurgaon in Networking domain as an Software developer. Before moving to Gurgaon I worked in Bangalore. Brought up in Ujjain. I believe in living life to fullest and enjoy every moment of it. I like to remain in touch with latest advancements in technology. Very athletic, like to play sports and remain healthy. I am looking for a Smart, decent and family oriented person with good moral values. She must be friendly and social person with a good sense of humour."
       ]
      },
      {
       "output_type": "stream",
       "stream": "stdout",
       "text": [
        "\n",
        "896"
       ]
      },
      {
       "output_type": "stream",
       "stream": "stdout",
       "text": [
        " http://www.simplymarry.com/matrimonial/groom/SMM1418330/Hindu/Brahmin---Deshastha/Kiran-Raghunath-Vedpathak\n",
        "Vedpathak kiran, A science graduate, computer course manager, having 17+ years exp."
       ]
      },
      {
       "output_type": "stream",
       "stream": "stdout",
       "text": [
        "\n",
        "897"
       ]
      },
      {
       "output_type": "stream",
       "stream": "stdout",
       "text": [
        " http://www.simplymarry.com/matrimonial/groom/SMM1414730/Hindu/Maratha/Kiran-Gawas\n",
        "I am a cool guy. I want a partner who should be very caring and understanding. I believe in Simplicity."
       ]
      },
      {
       "output_type": "stream",
       "stream": "stdout",
       "text": [
        "\n",
        "898"
       ]
      },
      {
       "output_type": "stream",
       "stream": "stdout",
       "text": [
        " http://www.simplymarry.com/matrimonial/groom/SMF1461076/Hindu/Maratha/Shailesh-Pawar\n",
        "Myself Shailesh, from Middle class family,working as sales Engineer in private sector. I like to travel, Listening Music, Movies,. Looking for a life partner who will be a friendly nature, lovable, care taking,"
       ]
      },
      {
       "output_type": "stream",
       "stream": "stdout",
       "text": [
        "\n",
        "899"
       ]
      },
      {
       "output_type": "stream",
       "stream": "stdout",
       "text": [
        " http://www.simplymarry.com/matrimonial/groom/SMM1430681/Hindu/Maratha/Govardhan\n",
        "I have two brothers and a sister, all well qualified and settled. Looking for a simple qualified partner with good nature and human values. Working in IT with pursuing master in Science. I am a simple person."
       ]
      },
      {
       "output_type": "stream",
       "stream": "stdout",
       "text": [
        "\n",
        "900"
       ]
      },
      {
       "output_type": "stream",
       "stream": "stdout",
       "text": [
        " http://www.simplymarry.com/matrimonial/groom/SMM1430126/Hindu/Maratha/Khairnar-Mahesh\n",
        "I am a simple man. I am working in Hotel and Sugar mill Industries and this is my own business. I have Two brothers and One sisters. They are married and well settled. I stay with my father and mother. I want my partner to be honest and flexible."
       ]
      },
      {
       "output_type": "stream",
       "stream": "stdout",
       "text": [
        "\n",
        "901"
       ]
      },
      {
       "output_type": "stream",
       "stream": "stdout",
       "text": [
        " http://www.simplymarry.com/matrimonial/groom/SMM1474131/Hindu/Maratha/Santosh-Babanrao-More\n",
        "My name is santosh and i am B.E in Automobile. My Family is very big and simple. mother is a (TEACHER), have 6 Brothers, 1 sister, 2 uncles, 2 aunts, 2 sisters in laws and 2 kids. my family is well Educated and i am a quiet shy person."
       ]
      },
      {
       "output_type": "stream",
       "stream": "stdout",
       "text": [
        "\n",
        "902"
       ]
      },
      {
       "output_type": "stream",
       "stream": "stdout",
       "text": [
        " http://www.simplymarry.com/matrimonial/groom/SMM1552972/Hindu/Brahmin---Kokanastha/Sarang\n",
        "Listening music is favorate hobby.Also like to read reality novels.Love to dance.Prefer to watch lawn tennis,F1 racing,Olympics.I am practical thinking.I prefer to enjoy and live each moment of life.I love to make social freinds."
       ]
      },
      {
       "output_type": "stream",
       "stream": "stdout",
       "text": [
        "\n",
        "903"
       ]
      },
      {
       "output_type": "stream",
       "stream": "stdout",
       "text": [
        " http://www.simplymarry.com/matrimonial/groom/SMM1469835/Hindu/Maratha/Dr-Solanke\n",
        "Fun loving, adaptable, caring and sensitive, determined, hardworking, outgoing."
       ]
      },
      {
       "output_type": "stream",
       "stream": "stdout",
       "text": [
        "\n",
        "904"
       ]
      },
      {
       "output_type": "stream",
       "stream": "stdout",
       "text": [
        " http://www.simplymarry.com/matrimonial/groom/SMM1479836/Buddhist/Amit-Shelar\n",
        "I am a Civil Engineer, working with the Pvt company in Pune. Believe in living simple life with my family."
       ]
      },
      {
       "output_type": "stream",
       "stream": "stdout",
       "text": [
        "\n",
        "905"
       ]
      },
      {
       "output_type": "stream",
       "stream": "stdout",
       "text": [
        " http://www.simplymarry.com/matrimonial/groom/SMM1436507/Hindu/Brahmin/Mangesh-P\n",
        "hi i am Mangesh Business Owner /in the suburbs of Mumbai.MFG in engg projects. I love to travel, wish had more vacation days. Sports, hiking, are always fun. I like watching movies, enjoy good food and also read a lot. Any activity in the company of friends or family will make me smile. Looking for someone with similar tastes. Someone I can share life with."
       ]
      },
      {
       "output_type": "stream",
       "stream": "stdout",
       "text": [
        "\n",
        "906"
       ]
      },
      {
       "output_type": "stream",
       "stream": "stdout",
       "text": [
        " http://www.simplymarry.com/matrimonial/groom/SMM1580541/Hindu/Sonar/Mahendra-Kawle\n",
        "MY SON IS CURRENTLY WORKING IN TCS AS AN ASSTT SYSTEM ENG. HE IS THE ONLY SON &amp; HAVE A DAUGHTER. MY WIFE IS A HOUSE WIFE. I AM A GOVT SERVENT IN M.P. ELECTRICITY BOARD UJJAIN."
       ]
      },
      {
       "output_type": "stream",
       "stream": "stdout",
       "text": [
        "\n",
        "907"
       ]
      },
      {
       "output_type": "stream",
       "stream": "stdout",
       "text": [
        " http://www.simplymarry.com/matrimonial/groom/SMM1412440/Hindu/Maratha/Shantanu-Gharge\n",
        "I am a very understanding, straightforward and broadminded person. I am qualified, &amp; family oriented comprehensive and adjustable. I believe the beauty of mind is eternal where as physical beauty is likely to fade over time. Therefore, I am serious for looking a sensible, understanding life partner forward for a fresh beginning."
       ]
      },
      {
       "output_type": "stream",
       "stream": "stdout",
       "text": [
        "\n",
        "908"
       ]
      },
      {
       "output_type": "stream",
       "stream": "stdout",
       "text": [
        " http://www.simplymarry.com/matrimonial/groom/SMM1432180/Hindu/Matang/Sanjeev-Netke\n",
        "Am Sanjeev, stay in Thane along with my family &amp; working in the private sector, Mumbai in a coordinator post."
       ]
      },
      {
       "output_type": "stream",
       "stream": "stdout",
       "text": [
        "\n",
        "909"
       ]
      },
      {
       "output_type": "stream",
       "stream": "stdout",
       "text": [
        " http://www.simplymarry.com/matrimonial/groom/SMM1519672/Hindu/Matang/Rajendra-Shankarrao-Basnure\n",
        "I am a rajendra, i am jr assistant in zilla parishad nanded i am also a drawing &amp; painting diploma holder studied college of MGM nanded,i am finding a life partner for marriage.i am studying now vocal music of voilin."
       ]
      },
      {
       "output_type": "stream",
       "stream": "stdout",
       "text": [
        "\n",
        "910"
       ]
      },
      {
       "output_type": "stream",
       "stream": "stdout",
       "text": [
        " http://www.simplymarry.com/matrimonial/groom/SMM1402808/Buddhist/Swapnil\n",
        "hi, my name is swapnil , simple in nature looking for the same kind of girl."
       ]
      },
      {
       "output_type": "stream",
       "stream": "stdout",
       "text": [
        "\n",
        "911"
       ]
      },
      {
       "output_type": "stream",
       "stream": "stdout",
       "text": [
        " http://www.simplymarry.com/matrimonial/groom/SMM1415262/Buddhist/Sachin-Ahire\n",
        "I am Sachin Ahire looking for a beautiful, well qualified, well cultured working class girl as a life partner who will be supportive and adjustable in living a lovable life."
       ]
      },
      {
       "output_type": "stream",
       "stream": "stdout",
       "text": [
        "\n",
        "912"
       ]
      },
      {
       "output_type": "stream",
       "stream": "stdout",
       "text": [
        " http://www.simplymarry.com/matrimonial/groom/SMM1558256/Hindu/Drrushikesh-Gosavi\n",
        "Looking for a bride who is well educated and belonging to a good family.I want a life partner who is caring, loving, faithful and who will be with me in my ups and downs. I want a person who is having good moral values."
       ]
      },
      {
       "output_type": "stream",
       "stream": "stdout",
       "text": [
        "\n",
        "913"
       ]
      },
      {
       "output_type": "stream",
       "stream": "stdout",
       "text": [
        " http://www.simplymarry.com/matrimonial/groom/SMM1544088/Hindu/Kokanastha-Maratha/Shri-P\n",
        "Am a simple and down to earth person. An avid traveler and someone who loves to keep hoping all over India."
       ]
      },
      {
       "output_type": "stream",
       "stream": "stdout",
       "text": [
        "\n",
        "914"
       ]
      },
      {
       "output_type": "stream",
       "stream": "stdout",
       "text": [
        " http://www.simplymarry.com/matrimonial/groom/SMM1432007/Hindu/Brahmin---Kokanastha/Shripad-Gondhalekar\n",
        "my brother is a simple, a honest and caring. he works as a high school teacher in a private convent in Anjangaon [Amravati Dist]. he also runs coaching classes. He lives with mother and father. time of birth is 5.15 am, place of birth is Anjangaon surji. He is B.Sc, B.ed, MA in History, PGDCS, singing is his interest and he likes music and songs."
       ]
      },
      {
       "output_type": "stream",
       "stream": "stdout",
       "text": [
        "\n",
        "915"
       ]
      },
      {
       "output_type": "stream",
       "stream": "stdout",
       "text": [
        " http://www.simplymarry.com/matrimonial/groom/SMM1418651/Hindu/Brahmin---Kokanastha/Rajas-Joshi\n",
        "Am simple, down to earth, fun loving &amp; spiritual person. I believe in live &amp; let live."
       ]
      },
      {
       "output_type": "stream",
       "stream": "stdout",
       "text": [
        "\n",
        "916"
       ]
      },
      {
       "output_type": "stream",
       "stream": "stdout",
       "text": [
        " http://www.simplymarry.com/matrimonial/groom/SMM1490291/Hindu/Koshti/Nitin-Namdeo-Hedau\n",
        "I am working in a company called cognizant from last five years, i have two sisters and one brother, my father and mother are in Nagpur, my brother is in mumbai, he is married with ruchi nimje, my both sisters are married."
       ]
      },
      {
       "output_type": "stream",
       "stream": "stdout",
       "text": [
        "\n",
        "917"
       ]
      },
      {
       "output_type": "stream",
       "stream": "stdout",
       "text": [
        " http://www.simplymarry.com/matrimonial/groom/SMM1426979/Hindu/Brahmin---Deshastha/Hrushikesh-S.-Deshpande\n",
        "I am an honest individual who comes from a Middle class Maharashtrian family. I am a significantly career oriented person and aim to go very high in my career. Apart from work, I like listening to music, watching movies &amp; reading good books."
       ]
      },
      {
       "output_type": "stream",
       "stream": "stdout",
       "text": [
        "\n",
        "918"
       ]
      },
      {
       "output_type": "stream",
       "stream": "stdout",
       "text": [
        " http://www.simplymarry.com/matrimonial/groom/SMM1431092/Hindu/Brahmin/Milind\n",
        "At present living with parents. Presently Doing many jobs like Daily newspaper advts designing, giving service to 4 national bank's div. Branches - having multi- xerox machine and would like to have a proper life partner who will give cooperation in every mode of life to be stable."
       ]
      },
      {
       "output_type": "stream",
       "stream": "stdout",
       "text": [
        "\n",
        "919"
       ]
      },
      {
       "output_type": "stream",
       "stream": "stdout",
       "text": [
        " http://www.simplymarry.com/matrimonial/groom/SMM1402277/Buddhist/Kirtikumar-Tulshiram-Ramteke\n",
        "I'm a Software Engineer. I love to read books, surfing net, watching television and traveling. Besides my hobbies I understand the family values and take care of my family."
       ]
      },
      {
       "output_type": "stream",
       "stream": "stdout",
       "text": [
        "\n",
        "920"
       ]
      },
      {
       "output_type": "stream",
       "stream": "stdout",
       "text": [
        " http://www.simplymarry.com/matrimonial/groom/SMM1453514/Hindu/Brahmin/Dr-Subodh-S\n",
        "I am a family oriented person looking for an understanding life partner. preferred qualifications are graduate/postgraduate in allopathic or dental sciences.Right now we are staying in Bidar, Karnataka."
       ]
      },
      {
       "output_type": "stream",
       "stream": "stdout",
       "text": [
        "\n",
        "921"
       ]
      },
      {
       "output_type": "stream",
       "stream": "stdout",
       "text": [
        " http://www.simplymarry.com/matrimonial/groom/SMM1405212/Hindu/Leva-patil/Hp\n",
        "Born and brought up in Mumbai. I am straight forward and have a practical view of life. I am Working for reputed IT company in Mumbai."
       ]
      },
      {
       "output_type": "stream",
       "stream": "stdout",
       "text": [
        "\n",
        "922"
       ]
      },
      {
       "output_type": "stream",
       "stream": "stdout",
       "text": [
        " http://www.simplymarry.com/matrimonial/groom/SMM1602195/Hindu/Brahmin---Deshastha/Narendra-Nanajkar\n",
        "I am simple and good looking person. I like to listen music, playing cricket and traveling. I am an open minded family oriented person and like to live my life happily. I am in search of a very good looking, beautiful, charming and loving girl."
       ]
      },
      {
       "output_type": "stream",
       "stream": "stdout",
       "text": [
        "\n",
        "923"
       ]
      },
      {
       "output_type": "stream",
       "stream": "stdout",
       "text": [
        " http://www.simplymarry.com/matrimonial/groom/SMM1442430/Hindu/Maratha/Hrishi\n",
        "Hi, I am a Mechanical Engineer with MBA in Marketing. Recently obtained my Ph.D. Employed as a Professor and Head of the Department in a reputed Management Institute. I have applied for Permanent Immigration to Canada. I am simple and down to earth. Looking for someone who is well educated, independent and smart, understanding and flexible by nature."
       ]
      },
      {
       "output_type": "stream",
       "stream": "stdout",
       "text": [
        "\n",
        "924"
       ]
      },
      {
       "output_type": "stream",
       "stream": "stdout",
       "text": [
        " http://www.simplymarry.com/matrimonial/groom/SMM1421940/Hindu/Brahmin---Kokanastha/Amit-Padmakar-Oak\n",
        "Hi, This is amit here and looking for a girl to get marry.I am working with MNC and also started my own business. I am looking for a girl who will give me a moral support in my Business as i wanted to do my carrier in business. I am from a middle class family. My elder brother is married and having 1 sweet daughter. My mom is no more and i am staying with my dad. My brother stays near to our house. I am staying on a rental basis. Our family attachment is very high and all are supporting to each other."
       ]
      },
      {
       "output_type": "stream",
       "stream": "stdout",
       "text": [
        "\n",
        "925"
       ]
      },
      {
       "output_type": "stream",
       "stream": "stdout",
       "text": [
        " http://www.simplymarry.com/matrimonial/groom/SMM1462985/Hindu/Brahmin---Saraswat/Aniruddha-Gurunath-Rege\n",
        "I am a typical taurean with drive for beauty in any form, obstinate, dependable, extremely sensitive, energetic, zealous, honest, extrovert to a select few, hardworking and ambitious. I firmly believe in God. I am a born singer, a percussionist, like to sketch portraits. Apart from these I like to listen music (Hindustani vocal or instrumental) either at home or in concerts, read poetry (Marathi or Urdu ghazal), trekking, chatting with friends, watching games, cooking etc. I also have great liking for kids. I have done MCA from VJTI, Mumbai and currently working in a mumbai based IT consultancy firm. Hailing from a middle class family, I am a single child of my parents, my mother is a housewife and my father passed away in my college days."
       ]
      },
      {
       "output_type": "stream",
       "stream": "stdout",
       "text": [
        "\n",
        "926"
       ]
      },
      {
       "output_type": "stream",
       "stream": "stdout",
       "text": [
        " http://www.simplymarry.com/matrimonial/groom/SMM1465335/Hindu/Rajput/Mayur-P-Patil\n",
        "i am MBA marketing working in BOB as marketing manager at surat my father is retired super class I officer my mother is housewife i have one married sister she stays at pune my brother in law is engineer"
       ]
      },
      {
       "output_type": "stream",
       "stream": "stdout",
       "text": [
        "\n",
        "927"
       ]
      },
      {
       "output_type": "stream",
       "stream": "stdout",
       "text": [
        " http://www.simplymarry.com/matrimonial/groom/SMM1508441/Hindu/Brahmin---Kokanastha/Amit-Vinayak-Phatak\n",
        "My son is a stock sub-broker. He is technical analyst. He has deep interest in capital market.apart from this my son's hobbies are playing badminton, cricket, chess and swimming. he loves photography,traveling,yoga."
       ]
      },
      {
       "output_type": "stream",
       "stream": "stdout",
       "text": [
        "\n",
        "928"
       ]
      },
      {
       "output_type": "stream",
       "stream": "stdout",
       "text": [
        " http://www.simplymarry.com/matrimonial/groom/SMM1441624/Hindu/Sonar/Deepak-Balaram-Devrukhkar\n",
        "I am a Honest and a friendly individual. I am looking for a family oriented girl who would like to live a descent living. She should have completed education at least till 10th standard."
       ]
      },
      {
       "output_type": "stream",
       "stream": "stdout",
       "text": [
        "\n",
        "929"
       ]
      },
      {
       "output_type": "stream",
       "stream": "stdout",
       "text": [
        " http://www.simplymarry.com/matrimonial/groom/SMM1556100/Hindu/Brahmin---Deshastha/Kunal-Rakhe\n",
        "Hi,l this is Kunal. I am a mechanical Engineer. I am in Mumbai Recent days, working as a piping Engineer in BPCL Refinery Mahul on Behalf of Aarvi encon pvt. ltd. I have an Elder sister (married) and My Mother, my father Passed away few months back. I want a Girl, who is ready to take care of my mother like hers. I am Trying to get out of India and soon in future i will be in Gulf. I am waiting for my passport."
       ]
      },
      {
       "output_type": "stream",
       "stream": "stdout",
       "text": [
        "\n",
        "930"
       ]
      },
      {
       "output_type": "stream",
       "stream": "stdout",
       "text": [
        " http://www.simplymarry.com/matrimonial/groom/SMM1457586/Hindu/SKP/Mohanish-Bharat-Vartak\n",
        "I am Mohanish Vartak completed my graduation in nautical science. Family live in beautiful city Vasai, Mumbai past more than 100 years. Presently sailing as 2nd officer &amp; holding 1st mate (chief officer). Started my career in merchant navy 2006 and its being 7.5 years I am working with one of the top leading ownership shipping company. I am simple living, grew up in middle class, responsible, sober, honest, humble, understanding, straightforward, broadminded, positive attitude, patient, patriot and time bounded person."
       ]
      },
      {
       "output_type": "stream",
       "stream": "stdout",
       "text": [
        "\n",
        "931"
       ]
      },
      {
       "output_type": "stream",
       "stream": "stdout",
       "text": [
        " http://www.simplymarry.com/matrimonial/groom/SMM1538973/Hindu/Kokanastha-Maratha/Sudhir-Salvi\n",
        "I am confident career oriented and looking for life partner who will help me and my family."
       ]
      },
      {
       "output_type": "stream",
       "stream": "stdout",
       "text": [
        "\n",
        "932"
       ]
      },
      {
       "output_type": "stream",
       "stream": "stdout",
       "text": [
        " http://www.simplymarry.com/matrimonial/groom/SMM1416280/Hindu/Kokanastha-Maratha/Ashish-Rajan-Sawant\n",
        "My name is Ashish Rajan Sawant. My age is 31 years. My native place is Kalawal- Malvan, Dist- Sindhudurg. After completed my graduation in Arts with specializes in Political Science, I have successfully completed my Post Graduation in Management (M.B.A.) with dual specialization in Information Technology- Marketing. Currently, I am in my Family Business &amp; want to continue this with Worldwide Expansion. We are in Agriculture &amp; Processed Foods Supply. I also have my own business of Web &amp; WAP solution, Mobile Application &amp; Content development, Online Event Management and innovative Mobile- Value Added Service/Telecom business Solution, Research &amp; Marketing Services. I live with my family including my parents &amp; a sister. We are from respected &amp; well cultured family."
       ]
      },
      {
       "output_type": "stream",
       "stream": "stdout",
       "text": [
        "\n",
        "933"
       ]
      },
      {
       "output_type": "stream",
       "stream": "stdout",
       "text": [
        " http://www.simplymarry.com/matrimonial/groom/SMM1507992/Hindu/Bhandari/Abhijeet-Haldankar\n",
        "Hi, My name is Abhijeet Haldankar. I have done my MBA in Operations Management. I am working in a IT MNC company located in Andheri. In my family, there is Mom, who is a homemaker, Dad, who is retired, and have a young sister who is unmarried. As far as I'm concerned, my friends describe me as Shy, Caring, Generous, Kind, Quiet and Thoughtful."
       ]
      },
      {
       "output_type": "stream",
       "stream": "stdout",
       "text": [
        "\n",
        "934"
       ]
      },
      {
       "output_type": "stream",
       "stream": "stdout",
       "text": [
        " http://www.simplymarry.com/matrimonial/groom/SMM1436111/Hindu/Bhavasar-Kshatriya/Vivek-Shankar-Takwale\n",
        "I am good looking, fair handsome boy, interested in civil services, trying for same for last few years, love nature, likes river rafting, running, roaming in Himalaya; i believe in god and i'm hard working too."
       ]
      },
      {
       "output_type": "stream",
       "stream": "stdout",
       "text": [
        "\n",
        "935"
       ]
      },
      {
       "output_type": "stream",
       "stream": "stdout",
       "text": [
        " http://www.simplymarry.com/matrimonial/groom/SMM1409479/Hindu/Brahmin---Deshastha/Hemant-Takalkar\n",
        "worked in bank for 33 years. now looking after sports activities. travel lot in India, love nature, relationship, music, helping attitude. keen to learn more, faith in what i am doing and also in god. love human being."
       ]
      },
      {
       "output_type": "stream",
       "stream": "stdout",
       "text": [
        "\n",
        "936"
       ]
      },
      {
       "output_type": "stream",
       "stream": "stdout",
       "text": [
        " http://www.simplymarry.com/matrimonial/groom/SMM1472918/Hindu/Koshti/Amit-Bokade\n",
        "I am a simple person and would like to marry a girl who can share all her worries with me and always keep smiling. I am working in MNC located at pune and have own flat which is under-construction."
       ]
      },
      {
       "output_type": "stream",
       "stream": "stdout",
       "text": [
        "\n",
        "937"
       ]
      },
      {
       "output_type": "stream",
       "stream": "stdout",
       "text": [
        " http://www.simplymarry.com/matrimonial/groom/SMM1432195/Hindu/Brahmin---Deshastha/Prathmesh-Vijay-Bembalkar\n",
        "Hi, I am Prathmesh, Software engineer by professional. Likes listening songs, watching movies, drawing and driving. Looking for a simple, smart girl. I am living in Mumbai, born in dombivali and living with parents."
       ]
      },
      {
       "output_type": "stream",
       "stream": "stdout",
       "text": [
        "\n",
        "938"
       ]
      },
      {
       "output_type": "stream",
       "stream": "stdout",
       "text": [
        " http://www.simplymarry.com/matrimonial/groom/SMM1400346/Hindu/Brahmin/Ganesh-Ashok-Deshmukh\n",
        "I am very simple person, belong to a middle class family. I love travelling, listening music, watching movies. I am working with MNC and currently located at Phoenix (USA)."
       ]
      },
      {
       "output_type": "stream",
       "stream": "stdout",
       "text": [
        "\n",
        "939"
       ]
      },
      {
       "output_type": "stream",
       "stream": "stdout",
       "text": [
        " http://www.simplymarry.com/matrimonial/groom/SMM1403046/Hindu/Brahmin---Deshastha/Ssj\n",
        "I am working as a Sr. Data Scientist at Bangalore. My hobbies are traveling, trekking, cooking and sometimes painting. I also like playing tabala, violin. I am liberal, open minded but at the same time have great faith in our culture and its values. I am deeply involved in my professional work but I am not workaholic. I like to spend time with my family and enjoy it a lot."
       ]
      },
      {
       "output_type": "stream",
       "stream": "stdout",
       "text": [
        "\n",
        "940"
       ]
      },
      {
       "output_type": "stream",
       "stream": "stdout",
       "text": [
        " http://www.simplymarry.com/matrimonial/groom/SMM1402727/Hindu/Maratha/Sachin-Chavan\n",
        "Hi I am Sachin Chavan...I have been born and brought up in Mumbai, completed my masters from Pune University, then PG Diploma in Computer Applications. Working for a leading telecom company since last 6 years. I stay at lower parel with my parents. I would describe my self as a simple, caring, friendly and easy going person. I think you will know me better if we happen to meet or communicate with each other, than me saying. Well off course i am traditional but can adjust with the situation, I always prefer take care of my parents.. life is like a roller coaster ride for me... and m enjoying it, one important thing about me is i talk too much to some ppl.. and very little to some. trying to improve on that point i love to join new courses n learn something all d time. i like simple ppl more... too much fashion n attitude turns me off... well these r my views maybe wrong or may change also.."
       ]
      },
      {
       "output_type": "stream",
       "stream": "stdout",
       "text": [
        "\n",
        "941"
       ]
      },
      {
       "output_type": "stream",
       "stream": "stdout",
       "text": [
        " http://www.simplymarry.com/matrimonial/groom/SMM1430529/Hindu/Vanjari/Vijay-Bade\n",
        "hi, i am open minded and liberal person, in search of medico or engineer working in pune who would be great companion for me. she should be understanding and have good sense of humour, vegetarian girl is preferred."
       ]
      },
      {
       "output_type": "stream",
       "stream": "stdout",
       "text": [
        "\n",
        "942"
       ]
      },
      {
       "output_type": "stream",
       "stream": "stdout",
       "text": [
        " http://www.simplymarry.com/matrimonial/groom/SMM1547404/Hindu/Kokanastha-Maratha/Onkar-Jadhav\n",
        "Hi, I am jovial, friendly, fun loving and down to earth person by nature. I belongs to Marathi family having our root at Malavan-Sindhudurg. Currently working with an IT company as a Senior Database Administrator."
       ]
      },
      {
       "output_type": "stream",
       "stream": "stdout",
       "text": [
        "\n",
        "943"
       ]
      },
      {
       "output_type": "stream",
       "stream": "stdout",
       "text": [
        " http://www.simplymarry.com/matrimonial/groom/SMM1418496/Hindu/Mali/Vaibhav-Pharande\n",
        "Myself Vaibhav, I am person who believe in \"Simple Living and High Thinking\". I am career oriented guy, fun loving and friendly; like to go for outings, hang out with friends. I like photography and i'm very simple in nature."
       ]
      },
      {
       "output_type": "stream",
       "stream": "stdout",
       "text": [
        "\n",
        "944"
       ]
      },
      {
       "output_type": "stream",
       "stream": "stdout",
       "text": [
        " http://www.simplymarry.com/matrimonial/groom/SMM1623185/Hindu/Brahmin---Deshastha/Saurabh-Kokil\n",
        "I am simple, smart, hard working, caring, self ambitious and understanding person, belongs to a middle class family."
       ]
      },
      {
       "output_type": "stream",
       "stream": "stdout",
       "text": [
        "\n",
        "945"
       ]
      },
      {
       "output_type": "stream",
       "stream": "stdout",
       "text": [
        " http://www.simplymarry.com/matrimonial/groom/SMM1402184/Hindu/Brahmin/Shekhar-V-Gandhi\n",
        "my son is working in Hyderabad ad sr. manager, i m a house maker my husband is a MBBS doctor. my son is very sensible hardworking and creative."
       ]
      },
      {
       "output_type": "stream",
       "stream": "stdout",
       "text": [
        "\n",
        "946"
       ]
      },
      {
       "output_type": "stream",
       "stream": "stdout",
       "text": [
        " http://www.simplymarry.com/matrimonial/groom/SMM1411204/Buddhist/Siddhart-Manohare\n",
        "i have done my schooling from amravti. i have done BA from amravti. i love playing games, singing, reading."
       ]
      },
      {
       "output_type": "stream",
       "stream": "stdout",
       "text": [
        "\n",
        "947"
       ]
      },
      {
       "output_type": "stream",
       "stream": "stdout",
       "text": [
        " http://www.simplymarry.com/matrimonial/groom/SMM1475109/Hindu/Rotkara\n",
        "I am simple, honest, down to earth person. My hobbies are playing music keyboard and reading books. my favorite sports is chess, carom, soccer, cricket and Swimming. I am searching for a partner who wants to enjoy living with a joint family."
       ]
      },
      {
       "output_type": "stream",
       "stream": "stdout",
       "text": [
        "\n",
        "948"
       ]
      },
      {
       "output_type": "stream",
       "stream": "stdout",
       "text": [
        " http://www.simplymarry.com/matrimonial/groom/SMM1447969/Hindu/Chambhar/Amey-Vasant-Birwadkar\n",
        "My Self Amey Birwadkar, from dombivli.. Working in MNC...As a TECH&gt;Sales Executive, im living with my mother, hv 2 married sisters. Im very simple in nature and like to be simple. My partner should be at least graduate in her studies, loving and should be understanding."
       ]
      },
      {
       "output_type": "stream",
       "stream": "stdout",
       "text": [
        "\n",
        "949"
       ]
      },
      {
       "output_type": "stream",
       "stream": "stdout",
       "text": [
        " http://www.simplymarry.com/matrimonial/groom/SMM1452525/Buddhist/Bhushan-Gondane\n",
        "he belongs to very simple family. he is good and simple, hardworking man, along with good businessman. he is always serious with his work. he wants a simple caring, helping nature and a mature girl."
       ]
      },
      {
       "output_type": "stream",
       "stream": "stdout",
       "text": [
        "\n",
        "950"
       ]
      },
      {
       "output_type": "stream",
       "stream": "stdout",
       "text": [
        " http://www.simplymarry.com/matrimonial/groom/SMM1410746/Hindu/Bhandari/Rajan-S.-Chavan\n",
        "Hi, i am rajan s.chavan. i am looking for the woman who can help and support me to live rest of my life. i am now working SATARA pvt company. i like simple, loving, enthusiastic and a romantic person who is ready to accept me."
       ]
      },
      {
       "output_type": "stream",
       "stream": "stdout",
       "text": [
        "\n",
        "951"
       ]
      },
      {
       "output_type": "stream",
       "stream": "stdout",
       "text": [
        " http://www.simplymarry.com/matrimonial/groom/SMM1404882/Hindu/Brahmin---Kokanastha/Yogesh-Jagdish-Karmarkar\n",
        "Am financially well settled person. Wear specs. Have two sisters and both are married. My mother passed away recently. Am looking for a partner who is honest and simple."
       ]
      },
      {
       "output_type": "stream",
       "stream": "stdout",
       "text": [
        "\n",
        "952"
       ]
      },
      {
       "output_type": "stream",
       "stream": "stdout",
       "text": [
        " http://www.simplymarry.com/matrimonial/groom/SMM1404642/Hindu/Dhangar/Dr-Mangesh-Gadhari\n",
        "hi..i m simple,caring and family guy,have five members in family.Father retired,mother housewife and elder brother,younger sister. I have completed MD in 2010,presently working with UNICEF as consultant health and nutrition."
       ]
      },
      {
       "output_type": "stream",
       "stream": "stdout",
       "text": [
        "\n",
        "953"
       ]
      },
      {
       "output_type": "stream",
       "stream": "stdout",
       "text": [
        " http://www.simplymarry.com/matrimonial/groom/SMM1612109/Hindu/Agri/Mahesh-U-Mhatre\n",
        "My life motto is simple: Follow your dreams.. I'm not immature...I just know how to have fun! I respect those who respect me and forget those who forget me. Simple as that. I believe what we do flows from who we are. Love me when I least deserve it because that's when I really need it. I am who I am and your approval isn't needed! Admit it. Life would be so boring without me! I'm happy. I love my life. I have everything and everyone I need."
       ]
      },
      {
       "output_type": "stream",
       "stream": "stdout",
       "text": [
        "\n",
        "954"
       ]
      },
      {
       "output_type": "stream",
       "stream": "stdout",
       "text": [
        " http://www.simplymarry.com/matrimonial/groom/SMM1494274/Buddhist/Yogesh-Sadashiv-Kadam\n",
        "I am very smart, calm person. Always remains helpful, respectful for others, believes in smart work &amp; hard work. Always tries for better results, like reading, writing, playing cricket and watching cricket."
       ]
      },
      {
       "output_type": "stream",
       "stream": "stdout",
       "text": [
        "\n",
        "955"
       ]
      },
      {
       "output_type": "stream",
       "stream": "stdout",
       "text": [
        " http://www.simplymarry.com/matrimonial/groom/SMM1433727/Hindu/Bhavasar-Kshatriya/Aniruddha\n",
        "Smart and ambitious, well read, and sensitive with a good blend of Maharashtra Culture, coming from educated family and looking for a girl on similar lines. Have seen many facets of life and I can definitely say - 'Life is amazing and I am still exploring it."
       ]
      },
      {
       "output_type": "stream",
       "stream": "stdout",
       "text": [
        "\n",
        "956"
       ]
      },
      {
       "output_type": "stream",
       "stream": "stdout",
       "text": [
        " http://www.simplymarry.com/matrimonial/groom/SMM1401623/Hindu/Chambhar/Atish\n",
        "Hi, I am Atish, staying in Mumbai and seek for a lovable and caring bride."
       ]
      },
      {
       "output_type": "stream",
       "stream": "stdout",
       "text": [
        "\n",
        "957"
       ]
      },
      {
       "output_type": "stream",
       "stream": "stdout",
       "text": [
        " http://www.simplymarry.com/matrimonial/groom/SMM1410512/Hindu/Brahmin---Saraswat/Sudhir-Patkar\n",
        "God fearing, sincere person who gratifies honesty, integrity of a person; believes in beauty of mind, looking for a good natured working, non working girl. veg preferred."
       ]
      },
      {
       "output_type": "stream",
       "stream": "stdout",
       "text": [
        "\n",
        "958"
       ]
      },
      {
       "output_type": "stream",
       "stream": "stdout",
       "text": [
        " http://www.simplymarry.com/matrimonial/groom/SMM1416501/Hindu/Kshatriya/Niranjana-Rao-L\n",
        "I am smart, ambitious, well mannered young Boy with positive attitude! My key attributes are social nature, persistence, responsible, courteous, and respectful. I have a mature outlook towards life while maintaining a good sense of humor .I having firm belief in core human values and decent living. I have great respect of elders and am of a strong view that parents are second to none. As far as marriage is considered I think it?s a very committed relationship and an intuition which should be respected by one and all."
       ]
      },
      {
       "output_type": "stream",
       "stream": "stdout",
       "text": [
        "\n",
        "959"
       ]
      },
      {
       "output_type": "stream",
       "stream": "stdout",
       "text": [
        " http://www.simplymarry.com/matrimonial/groom/SMM1416631/Hindu/Kshatriya/Vinit-Sambrekar\n",
        "My life partner should be friendly, open minded &amp; should support in all the aspects. My self working as HSE engineer. Am cool minded &amp; jolly person. Like to visit the tourist spots. Interested to learn new things."
       ]
      },
      {
       "output_type": "stream",
       "stream": "stdout",
       "text": [
        "\n",
        "960"
       ]
      },
      {
       "output_type": "stream",
       "stream": "stdout",
       "text": [
        " http://www.simplymarry.com/matrimonial/groom/SMM1527722/Buddhist/Sunil-Kamble\n",
        "Simple, Loads of Patients, romantic, like all festivals, especially Ganesh feast, like to visit new places and spend time with my family, cricket lover, singing, Bit shy kind of a person but once's get indulge will got to see my new avatar."
       ]
      },
      {
       "output_type": "stream",
       "stream": "stdout",
       "text": [
        "\n",
        "961"
       ]
      },
      {
       "output_type": "stream",
       "stream": "stdout",
       "text": [
        " http://www.simplymarry.com/matrimonial/groom/SMM1403910/Hindu/Maratha/Deshmukh\n",
        "Working as a Project Leader with top software firm in Pune. Have been to USA for work around 3 years. I belongs to very happy family and staying with parents at Pune. I am jovial person and would like to keep career, health and family life in balance."
       ]
      },
      {
       "output_type": "stream",
       "stream": "stdout",
       "text": [
        "\n",
        "962"
       ]
      },
      {
       "output_type": "stream",
       "stream": "stdout",
       "text": [
        " http://www.simplymarry.com/matrimonial/groom/SMM1617812/Hindu/Kunbi/Satish-Raghav\n",
        "I am a very genuine, honest &amp; straight forward person. I have trust on god. Though I am not a brahmin but i can tell full ganpati abhishek in Sanskrit. Mahalaxmi mantra in Sanskrit &amp; Hanuman chalisa in hind."
       ]
      },
      {
       "output_type": "stream",
       "stream": "stdout",
       "text": [
        "\n",
        "963"
       ]
      },
      {
       "output_type": "stream",
       "stream": "stdout",
       "text": [
        " http://www.simplymarry.com/matrimonial/groom/SMM1563827/Hindu/Maratha/Prashant-Prakash-Ghadi\n",
        "Smart, Simple living, Fun Loving, Caring, Friendly, Listening to all kind of music, fond of Charcoal painting, Like to watch movies a, also like to travel and trekking to new places."
       ]
      },
      {
       "output_type": "stream",
       "stream": "stdout",
       "text": [
        "\n",
        "964"
       ]
      },
      {
       "output_type": "stream",
       "stream": "stdout",
       "text": [
        " http://www.simplymarry.com/matrimonial/groom/SMM1432858/Christian/Protestant/Devraj-Shinde\n",
        "M Vice principal At Dr.G.D. Pol Foundation College of Nursing; carrier oriented, introvert, book-worm, prefer Marathi girl; dark in colour but good at heart and always believe in work not luck."
       ]
      },
      {
       "output_type": "stream",
       "stream": "stdout",
       "text": [
        "\n",
        "965"
       ]
      },
      {
       "output_type": "stream",
       "stream": "stdout",
       "text": [
        " http://www.simplymarry.com/matrimonial/groom/SMM1574080/Buddhist/Sudeep-Gaurkar\n",
        "My son is living in Bangalore. He has done his B.Tech from Calicut. We are looking for a suitable match for him. Someone who should be slim, beautiful, graduate in either science or engineering and is from a well to do family."
       ]
      },
      {
       "output_type": "stream",
       "stream": "stdout",
       "text": [
        "\n",
        "966"
       ]
      },
      {
       "output_type": "stream",
       "stream": "stdout",
       "text": [
        " http://www.simplymarry.com/matrimonial/groom/SMF1575823/Hindu/CKP/Avdhoot-Chaubal\n",
        "Hi, I am simple boy. I have completed my engineering diploma from Government Polytechnic Mumbai. I like to play musical instrument. I am very understanding person, looking for a partner who will be a friend and understanding by nature."
       ]
      },
      {
       "output_type": "stream",
       "stream": "stdout",
       "text": [
        "\n",
        "967"
       ]
      },
      {
       "output_type": "stream",
       "stream": "stdout",
       "text": [
        " http://www.simplymarry.com/matrimonial/groom/SMM1485332/Buddhist/Smm1485332\n",
        "I am Highly educated with well-paid SAP Consultant job. I am very friendly and family oriented person. I am looking for a girl who is family oriented too. I am only son of parents. My parents and me are very much caring. Looking for a for a girl who believe in long term fruitful life, believe in love, faith and sense of responsibility toward every aspect of life."
       ]
      },
      {
       "output_type": "stream",
       "stream": "stdout",
       "text": [
        "\n",
        "968"
       ]
      },
      {
       "output_type": "stream",
       "stream": "stdout",
       "text": [
        " http://www.simplymarry.com/matrimonial/groom/SMM1428280/Hindu/Maratha/C.-Satish-Pawar\n",
        "I am family and carrier oriented person who believe in simplicity and humanity and like being practical and sensible. My friends consider me to as a humorous person."
       ]
      },
      {
       "output_type": "stream",
       "stream": "stdout",
       "text": [
        "\n",
        "969"
       ]
      },
      {
       "output_type": "stream",
       "stream": "stdout",
       "text": [
        " http://www.simplymarry.com/matrimonial/groom/SMM1500591/Buddhist/Ram\n",
        "I am looking for a modern, independent, attractive partner who also has a good sense of humor. Personally I have a face for every occasion since I can blend in with the crowd. I am a person who is very caring, loving, compassionate, considerate, cheerful, optimistic, calm, soft-spoken, strong-willed, and persevering. I m looking for a person who should be well settled and gives equal importance to work and family."
       ]
      },
      {
       "output_type": "stream",
       "stream": "stdout",
       "text": [
        "\n",
        "970"
       ]
      },
      {
       "output_type": "stream",
       "stream": "stdout",
       "text": [
        " http://www.simplymarry.com/matrimonial/groom/SMM1397141/Christian/Protestant/Vinod-William-Kank\n",
        "I m merchant naval officer."
       ]
      },
      {
       "output_type": "stream",
       "stream": "stdout",
       "text": [
        "\n",
        "971"
       ]
      },
      {
       "output_type": "stream",
       "stream": "stdout",
       "text": [
        " http://www.simplymarry.com/matrimonial/groom/SMM1488122/Hindu/Sonar/Mangesh-Vinayak-Shivarekar\n",
        "Mangesh is the Youth of today with confidant behavior in all acts. Good friend circle right from NMV high school. Likes trekking, driving and reading. He has completed post graduation (diploma) in Intellectual property rights &amp; Clinical research. We are family of 5 members. His elder brother &amp; his wife are in USA, California, Sunneyvale. I am Vinayak Shivarekar, father of Mangesh, Ex.Divisional manager of TATA Motors, Pune. My wife &amp; me are financially independent. We are having 2 BHK 2 flats in Pune city. We are looking for a bride, who will develop her career &amp; respect Family values.She will be at par with our son."
       ]
      },
      {
       "output_type": "stream",
       "stream": "stdout",
       "text": [
        "\n",
        "972"
       ]
      },
      {
       "output_type": "stream",
       "stream": "stdout",
       "text": [
        " http://www.simplymarry.com/matrimonial/groom/SMM1457024/Hindu/Vishwakarma/Pralhad-Pandloskar\n",
        "Easy, simple, normal life style with big dreams. love picnic, parties, travelling. enjoy every bit of life. i wish to make better life by all means. i believe that big dreams needs guts to bring them into real world."
       ]
      },
      {
       "output_type": "stream",
       "stream": "stdout",
       "text": [
        "\n",
        "973"
       ]
      },
      {
       "output_type": "stream",
       "stream": "stdout",
       "text": [
        " http://www.simplymarry.com/matrimonial/groom/SMF1538022/Hindu/Anand-Damodhar-Shelke\n",
        "I am Advocate In Aurangabad High Court, District &amp; Session Court. I Am Honest, Good, Handsome, Friendly, Smart, Good Looking, Loving &amp; understand Person. &amp; Done all the work concerned with Court, All Matters are handle."
       ]
      },
      {
       "output_type": "stream",
       "stream": "stdout",
       "text": [
        "\n",
        "974"
       ]
      },
      {
       "output_type": "stream",
       "stream": "stdout",
       "text": [
        " http://www.simplymarry.com/matrimonial/groom/SMM1419479/Hindu/Mali/Mangesh-Chaure\n",
        "I like to enjoy with friends. My family &amp; friends are everything for me. I like to listen music, watching movies. Like to Go out for picnic &amp; trekking. Presently i am working on Mumbai Monorail Project with Scomi Engg. Our company is among the top 5 manufacturers in Monorail."
       ]
      },
      {
       "output_type": "stream",
       "stream": "stdout",
       "text": [
        "\n",
        "975"
       ]
      },
      {
       "output_type": "stream",
       "stream": "stdout",
       "text": [
        " http://www.simplymarry.com/matrimonial/groom/SMM1439258/Hindu/Maratha/G.d\n",
        "Software Professional, fun loving, like honesty and sincere people. Don't like to hurt anyone in anyway."
       ]
      },
      {
       "output_type": "stream",
       "stream": "stdout",
       "text": [
        "\n",
        "976"
       ]
      },
      {
       "output_type": "stream",
       "stream": "stdout",
       "text": [
        " http://www.simplymarry.com/matrimonial/groom/SMM1526955/Hindu/Maratha/Ramesh-Bajarang-Banadar\n",
        "I am graduate; Like music, reading, creating new things logically in animation, traveling around the world, accepting challenges in creativity fields. I like to meet a person for their personality rather than their looks. Should be more loving, caring, open minded, genuine, enthusiasm, ambitious and who is a good mix of the east and the west and having strong connection with my Indian culture."
       ]
      },
      {
       "output_type": "stream",
       "stream": "stdout",
       "text": [
        "\n",
        "977"
       ]
      },
      {
       "output_type": "stream",
       "stream": "stdout",
       "text": [
        " http://www.simplymarry.com/matrimonial/groom/SMM1603220/Hindu/Maratha/Ashok-Waman-Patil\n",
        "I am very simple, like to be happy &amp; make others happy. Me and my mother are there in my sweet &amp; small family. My brother &amp; sister are Married &amp; well settled in their life. I am looking for a girl who is nice, caring &amp; co-operative in nature."
       ]
      },
      {
       "output_type": "stream",
       "stream": "stdout",
       "text": [
        "\n",
        "978"
       ]
      },
      {
       "output_type": "stream",
       "stream": "stdout",
       "text": [
        " http://www.simplymarry.com/matrimonial/groom/SMM1434796/Hindu/Dhobi/Ravi-S\n",
        "I am Ravi borne &amp; brought in pune, working in software firm, mother is house wife, i am staying with my aunt in pune, studied in pune. Total work experience is 5 years in Human resource department; current position is senior associate."
       ]
      },
      {
       "output_type": "stream",
       "stream": "stdout",
       "text": [
        "\n",
        "979"
       ]
      },
      {
       "output_type": "stream",
       "stream": "stdout",
       "text": [
        " http://www.simplymarry.com/matrimonial/groom/SMM1464027/Hindu/Brahmin/Gajendra-Prabhakar-Deshmukh\n",
        "i am hard worker,100% job oriented man\n",
        "i am looking brahmin nice girl in media i am reputed person in district"
       ]
      },
      {
       "output_type": "stream",
       "stream": "stdout",
       "text": [
        "\n",
        "980"
       ]
      },
      {
       "output_type": "stream",
       "stream": "stdout",
       "text": [
        " http://www.simplymarry.com/matrimonial/groom/SMM1430318/Hindu/Maratha/Mangesh-Subhash-Mane\n",
        "I am a very simple person. I am working in Pune as a Project leader In Onward tech. Ltd. I have a younger sister."
       ]
      },
      {
       "output_type": "stream",
       "stream": "stdout",
       "text": [
        "\n",
        "981"
       ]
      },
      {
       "output_type": "stream",
       "stream": "stdout",
       "text": [
        " http://www.simplymarry.com/matrimonial/groom/SMM1399135/Hindu/Matang/Jagdish-Dadu-Salve\n",
        "I have completed my education from PUNE, HV Desai college and now i am working in municipal corporation as a health super wiser in Pune. I am a down to earth person."
       ]
      },
      {
       "output_type": "stream",
       "stream": "stdout",
       "text": [
        "\n",
        "982"
       ]
      },
      {
       "output_type": "stream",
       "stream": "stdout",
       "text": [
        " http://www.simplymarry.com/matrimonial/groom/SMM1518052/Hindu/Kshatriya/Ravishankar\n",
        "We are a middle class family i am residing with parents father retired from PSU sector &amp; elder brother married with a kid residing separately myself fun loving person interest in sports, music &amp; traveling, i am graduate working at corporate company as a credit manager."
       ]
      },
      {
       "output_type": "stream",
       "stream": "stdout",
       "text": [
        "\n",
        "983"
       ]
      },
      {
       "output_type": "stream",
       "stream": "stdout",
       "text": [
        " http://www.simplymarry.com/matrimonial/groom/SMM1464833/Hindu/Brahmin---Deshastha/Saurabh-Ratnaparkhe\n",
        "I Am a simple person, who like to live life with self respect and gratitude. Looking for a life partner who could understand me and my family. Could be more of a friend to me and a daughter to my parents."
       ]
      },
      {
       "output_type": "stream",
       "stream": "stdout",
       "text": [
        "\n",
        "984"
       ]
      },
      {
       "output_type": "stream",
       "stream": "stdout",
       "text": [
        " http://www.simplymarry.com/matrimonial/groom/SMM1553694/Hindu/Mali/Mangesh-Nagnath-Sachane\n",
        "I am simple and interested in developing the software, i like to watch movies and go on long drives. Good looking and the positive thinking. very positive attitude towards life, well-mannered, smart, homely, mature, has a good understanding power, less talkative, fun-loving, caring towards my family."
       ]
      },
      {
       "output_type": "stream",
       "stream": "stdout",
       "text": [
        "\n",
        "985"
       ]
      },
      {
       "output_type": "stream",
       "stream": "stdout",
       "text": [
        " http://www.simplymarry.com/matrimonial/groom/SMM1442058/Hindu/Kunbi/Sujit\n",
        "I am a very happy go lucky kind of person. I am a very friendly person and I believe communication &amp; trust is the most important success key in any relationship. People may perceive me as reserved to start with but once I get to know the other person I am on roll. I am looking for my soul mate that is enthusiastic, smart, caring and family oriented."
       ]
      },
      {
       "output_type": "stream",
       "stream": "stdout",
       "text": [
        "\n",
        "986"
       ]
      },
      {
       "output_type": "stream",
       "stream": "stdout",
       "text": [
        " http://www.simplymarry.com/matrimonial/groom/SMM1407712/Hindu/Kokanastha-Maratha/Rajendra-Shivram-Dalvi\n",
        "HI, i m a career oriented person. I like to spend my time with my friends &amp; family. I like to travel, Reading books, Movies, also i like to drive my car as well as Bike. I m a media Person with clean Habits."
       ]
      },
      {
       "output_type": "stream",
       "stream": "stdout",
       "text": [
        "\n",
        "987"
       ]
      },
      {
       "output_type": "stream",
       "stream": "stdout",
       "text": [
        " http://www.simplymarry.com/matrimonial/groom/SMM1543109/Hindu/Brahmin---Saraswat/Amol-Bhandarkar\n",
        "Hi, I am having a software firm in Goa. We are a family of 4 mom dad and my younger sis who is already married and settled. Looking for a understanding girl from Goa or Maharashtra preferable an graduate or Diploma."
       ]
      },
      {
       "output_type": "stream",
       "stream": "stdout",
       "text": [
        "\n",
        "988"
       ]
      },
      {
       "output_type": "stream",
       "stream": "stdout",
       "text": [
        " http://www.simplymarry.com/matrimonial/groom/SMM1557320/Hindu/Agri/Vijaykumar-Jadhav\n",
        "I BELIEVE IN SIMPLE LIVING AND HIGH THINKING AND EXPECT THE SAME FROM MY PARTNER. I ENJOY MY PROFESSION BUT AT THE SAME TIME LIKE TO SPEND TIME WITH FAMILY AND FRIENDS. LOVE NATURE, WATCHING TV AND TRAVELLING. I BELIEVE MARRIAGES ARE MADE IN HEAVEN AND CELEBRATED ON EARTH."
       ]
      },
      {
       "output_type": "stream",
       "stream": "stdout",
       "text": [
        "\n",
        "989"
       ]
      },
      {
       "output_type": "stream",
       "stream": "stdout",
       "text": [
        " http://www.simplymarry.com/matrimonial/groom/SMM1571435/Hindu/Chambhar/Jeetendra-Ashok-Sonawane\n",
        "Hi, I am Jeetendra Sonawane. I am 29 years old, decent guy. Like listening to music, watching latest films at Multiplex,T.V, browsing internet and reading books and newspaper. I am a soft-spoken, understanding, down-to earth, simple, polite, well disciplined person having good etiquette with high morals and ethics. I have done B.Sc (Computer Science) and MBA (Human Resources). Presently, working with MNC Infosys BPO, Pune as Australian Payroll Specialist."
       ]
      },
      {
       "output_type": "stream",
       "stream": "stdout",
       "text": [
        "\n",
        "990"
       ]
      },
      {
       "output_type": "stream",
       "stream": "stdout",
       "text": [
        " http://www.simplymarry.com/matrimonial/groom/SMM1437247/Buddhist/Ajay-Kumar-Uker\n",
        "I guess the most difficult task to describe oneself. I am simple, confident, fun loving, ambitious, smart and well mannered person with positive attitude. My key attributes are social and helping nature, persistence, responsible, courageous and respectful. Belong to well cultured family and decent living and having great respect of elders as well as youngsters. As for as marriage is considered, I think it's very committed relationship &amp; an institution which should be respected by one and all. Overall looking for my life partner should be a great companion &amp; very very good friend. Maintaining a good sense of humor &amp; mature outlook towards life and having firmly believe in core human values. Belongs to well cultured family."
       ]
      },
      {
       "output_type": "stream",
       "stream": "stdout",
       "text": [
        "\n",
        "991"
       ]
      },
      {
       "output_type": "stream",
       "stream": "stdout",
       "text": [
        " http://www.simplymarry.com/matrimonial/groom/SMM1404170/Hindu/Maratha/Shashikant\n",
        "Hi, I am Shashikant, very easy going, honest, straight forward and simple guy. I am separated with no child."
       ]
      },
      {
       "output_type": "stream",
       "stream": "stdout",
       "text": [
        "\n",
        "992"
       ]
      },
      {
       "output_type": "stream",
       "stream": "stdout",
       "text": [
        " http://www.simplymarry.com/matrimonial/groom/SMM1424424/Hindu/Suthar/Ganesh-V.-Rajguru\n",
        "Myself Ganesh V. Rajguru, I m very creative &amp; Research minded person, i m a commercial graphic designer, i have my own business Advertising &amp; Marketing, i want a very simple, smart &amp; Educated girl as life partner."
       ]
      },
      {
       "output_type": "stream",
       "stream": "stdout",
       "text": [
        "\n",
        "993"
       ]
      },
      {
       "output_type": "stream",
       "stream": "stdout",
       "text": [
        " http://www.simplymarry.com/matrimonial/groom/SMM1424168/Hindu/Nhavi/M.-M-Shembekar\n",
        "My son is known to be a warm, caring, friendly, family oriented person. He is pretty easy to get along with, generally a sunny person. He like to be around people who see the lighter vein in everything they do. He is open-minded about life in general, tend to be accommodating and flexible."
       ]
      },
      {
       "output_type": "stream",
       "stream": "stdout",
       "text": [
        "\n",
        "994"
       ]
      },
      {
       "output_type": "stream",
       "stream": "stdout",
       "text": [
        " http://www.simplymarry.com/matrimonial/groom/SMM1432784/Hindu/Maratha/Vijayendra-Gajanan-Sawant\n",
        "I am true blue Gemini and hence I'm sort of a mix between ambitious, focused, irritating (sometimes) and friendly, easy going and sometimes lazy. My hobbies include reading, sports, working out, movies and chilling out with friends. I like to travel and visit new places, which explains why most of my time is taken up by the long travelling distance between my home and my office. I make friends very easily and they tend to remain friends for a lifetime. I have been brought up in a middle class, yet liberal environment with very strong family values. I would be looking for a girl who is strong and independent, has a good sense of humor and has good family values. In short I am looking for a girl who's compatible with me and my family and who's dumb enough to be my partner and my soul mate for this journey that lasts a lifetime."
       ]
      },
      {
       "output_type": "stream",
       "stream": "stdout",
       "text": [
        "\n",
        "995"
       ]
      },
      {
       "output_type": "stream",
       "stream": "stdout",
       "text": [
        " http://www.simplymarry.com/matrimonial/groom/SMM1415982/Hindu/Brahmin---Deshastha/Yogesh-Pandit\n",
        "I am a simple, fun loving guy; looking for a girl who should not be materialistic. I am ambitious by nature and my hobbies are reading novels and writing poems. I like to play chess and carrom. I need a partner who gives more importance to love, trust and understanding. Because the foundation of any relationship is based on it."
       ]
      },
      {
       "output_type": "stream",
       "stream": "stdout",
       "text": [
        "\n",
        "996"
       ]
      },
      {
       "output_type": "stream",
       "stream": "stdout",
       "text": [
        " http://www.simplymarry.com/matrimonial/groom/SMM1470935/Hindu/Maratha/Rahul\n",
        "Fun loving, adaptable, caring and sensitive, determined, hardworking, outgoing."
       ]
      },
      {
       "output_type": "stream",
       "stream": "stdout",
       "text": [
        "\n",
        "997"
       ]
      },
      {
       "output_type": "stream",
       "stream": "stdout",
       "text": [
        " http://www.simplymarry.com/matrimonial/groom/SMM1471004/Hindu/Mahar/Amit-Shende\n",
        "I am a simple person, caring towards my family and friends based in Mumbai &amp; working with Western Railway. My friends describe me as a fun loving and outgoing person, who enjoys life to its fullest. I am ambitious and currently preparing for IRS and IAS exams in Officer cadre."
       ]
      },
      {
       "output_type": "stream",
       "stream": "stdout",
       "text": [
        "\n",
        "998"
       ]
      },
      {
       "output_type": "stream",
       "stream": "stdout",
       "text": [
        " http://www.simplymarry.com/matrimonial/groom/SMM1532303/Buddhist/Rahul-Bhorkade\n",
        "Hi, I am glad to introduce myself as Rahul, born and brought up in Mumbai, My father?s Native place solapur and mother is from Latur. I live with parents and 2 sisters in Kurla Mumbai. I'm eldest and younger sister is working at govt Hospital. One of younger sister completed her education looking for job in teaching field. I am friendly, frank , supportive family valued person. I am caring, honest person. I live life to fullest and live in moment.I am open to change and make an effort to accept others feelings or thoughts and space. I Be-live in Man, women equality. Every individual is unique and i am searching person who accept me as I am and will make an initiative to frankly share her thoughts, feelings. I am looking for friend in role of wife to share/express happiness, celebration sorrows. I would wish to connect with person who sees bad things in me and still loves me."
       ]
      },
      {
       "output_type": "stream",
       "stream": "stdout",
       "text": [
        "\n",
        "999"
       ]
      },
      {
       "output_type": "stream",
       "stream": "stdout",
       "text": [
        " http://www.simplymarry.com/matrimonial/groom/SMM1436329/Buddhist/Shailesh-Wasnik\n",
        "Myself Shailesh wasnik working in pvt company as a mechanical engineer. We are six members in family with happiness,care, respect and love.I am looking for partner who makes life full of joy and love. Both the elder sister are married and settled. younger brother is preparing for competitive exams."
       ]
      },
      {
       "output_type": "stream",
       "stream": "stdout",
       "text": [
        "\n",
        "1000"
       ]
      },
      {
       "output_type": "stream",
       "stream": "stdout",
       "text": [
        " http://www.simplymarry.com/matrimonial/groom/SMM1533304/Hindu/Maratha/Yashwant-Bapurao-Kolhe\n",
        "My son have completed Bachelor of Management Studies as well as M.Com from Mumbai university. He also have completed his MBA in Banking and Finance from University of Wales, London,UK"
       ]
      },
      {
       "output_type": "stream",
       "stream": "stdout",
       "text": [
        "\n",
        "1001"
       ]
      },
      {
       "output_type": "stream",
       "stream": "stdout",
       "text": [
        " http://www.simplymarry.com/matrimonial/groom/SMM1503917/Hindu/Brahmin/Mukesh-Datar\n",
        "Looking for a bride who can keep me and my family happy, a girl who is understanding and for whom i am the most important person in this world."
       ]
      },
      {
       "output_type": "stream",
       "stream": "stdout",
       "text": [
        "\n",
        "1002"
       ]
      },
      {
       "output_type": "stream",
       "stream": "stdout",
       "text": [
        " http://www.simplymarry.com/matrimonial/groom/SMM1597286/Buddhist/Rupesh-Thul\n",
        "My brother is a family oriented person. We r 4 members in the family."
       ]
      },
      {
       "output_type": "stream",
       "stream": "stdout",
       "text": [
        "\n",
        "1003"
       ]
      },
      {
       "output_type": "stream",
       "stream": "stdout",
       "text": [
        " http://www.simplymarry.com/matrimonial/groom/SMM1549730/Hindu/Jangam/Ashok-Mathpati\n",
        "Hi, I have completed my Master in commerce &amp; am working for a Channabasweshwar pharmacy college Latur. My hobbies include listening to music, painting &amp; adventure sports. I like reading books."
       ]
      },
      {
       "output_type": "stream",
       "stream": "stdout",
       "text": [
        "\n",
        "1004"
       ]
      },
      {
       "output_type": "stream",
       "stream": "stdout",
       "text": [
        " http://www.simplymarry.com/matrimonial/groom/SMM1615455/Hindu/Suthar/Ganesh-V-More\n",
        "I have completed M.Sc in Organic chemistry. Qualified NET (JRF-CSIR), SET. GATE-2010, GATE-2011 qualified and now pursuing Ph.D from a well reputed Chemical institute, Mumbai."
       ]
      },
      {
       "output_type": "stream",
       "stream": "stdout",
       "text": [
        "\n",
        "1005"
       ]
      },
      {
       "output_type": "stream",
       "stream": "stdout",
       "text": [
        " http://www.simplymarry.com/matrimonial/groom/SMM1427339/Buddhist/Sandeep-Motilal-Sonarkar\n",
        "Hi, I am sandeep Sonarkar basically from vidarbha region. I am fun loving person from middle class well-educated family. I believe in myself, life is very sweet &amp; likes to enjoy every movement of life. I like to accept the challenges and struggling to achieve it, by my smart work, hard work and positive thinking. About my family background, my father has Govt. Service in Post Office as an officer, mother is Housewife and I have one younger brother, he has done MBA (Pharmaceutical) and working in Amaravati. I hate those people who betray and underestimate me. I am looking for a girl, who understand me, caring, fun loving, supportive, easygoing, down-to-earth and give respect &amp; importance to family values."
       ]
      },
      {
       "output_type": "stream",
       "stream": "stdout",
       "text": [
        "\n",
        "1006"
       ]
      },
      {
       "output_type": "stream",
       "stream": "stdout",
       "text": [
        " http://www.simplymarry.com/matrimonial/groom/SMM1456307/Hindu/Bhandari/Manoj-Prabhakar-Kudalkar\n",
        "No demands no complains, that's what I am.\n",
        "Like to live a simple life. Have a very modest nature and would love to marry a girl with same nature.\n",
        "Don't have much to say, you can recognize my nature in first meet."
       ]
      },
      {
       "output_type": "stream",
       "stream": "stdout",
       "text": [
        "\n",
        "1007"
       ]
      },
      {
       "output_type": "stream",
       "stream": "stdout",
       "text": [
        " http://www.simplymarry.com/matrimonial/groom/SMM1414921/Hindu/Brahmin---Saraswat/Satish-Yashwant-Rajadhyaksha\n",
        "Hi, I have completed my PGD in Hospitality after B.Com. Currently, I am working as ERP technical assistance. I live in Vile, Parle. I have mother and one married sister. I want a working girl who could even look after responsibilities of house and suitable for me."
       ]
      },
      {
       "output_type": "stream",
       "stream": "stdout",
       "text": [
        "\n",
        "1008"
       ]
      },
      {
       "output_type": "stream",
       "stream": "stdout",
       "text": [
        " http://www.simplymarry.com/matrimonial/groom/SMM1570896/Hindu/Suthar/Pravinkumar-V.-Sutar\n",
        "Hi! I am ADVOCATE Pravinkumar V. Sutar from India. 36 year's old. From a middle class family. I am straight forward, Hard working, Caring, Kind heart, Possess keen sense of humor,I am sensitive and of creative nature. I write Novels, Dramas, Poems."
       ]
      },
      {
       "output_type": "stream",
       "stream": "stdout",
       "text": [
        "\n",
        "1009"
       ]
      },
      {
       "output_type": "stream",
       "stream": "stdout",
       "text": [
        " http://www.simplymarry.com/matrimonial/groom/SMM1569818/Hindu/Dhangar/Abhijeet-Dhawale\n",
        "I am a straight forward guy like to speak truth hate lie n I am what I am I am nt here to praise me rest is when u talk utalk u cum to knw nwaz I enjoy ma lif to its fullest beleive tht never hurt others n ha I hate politics"
       ]
      },
      {
       "output_type": "stream",
       "stream": "stdout",
       "text": [
        "\n",
        "1010"
       ]
      },
      {
       "output_type": "stream",
       "stream": "stdout",
       "text": [
        " http://www.simplymarry.com/matrimonial/groom/SMM1405637/Hindu/Bhandari/Sachin-Ramesh-Patekar\n",
        "Hi, I am Sachin Patekar, working with an IT company as a Server Engineer. Also has own business of tours and travels. We give cars on hire. He is good in nature. Respect elders and like to keep people happy around him."
       ]
      },
      {
       "output_type": "stream",
       "stream": "stdout",
       "text": [
        "\n",
        "1011"
       ]
      },
      {
       "output_type": "stream",
       "stream": "stdout",
       "text": [
        " http://www.simplymarry.com/matrimonial/groom/SMM1576633/Hindu/Maratha/Swapnil-Rajaram-Chavan\n",
        "He is friendly, happy go lucky boy, hardworking, care taking. Loves watching movies, listening music, reading books."
       ]
      },
      {
       "output_type": "stream",
       "stream": "stdout",
       "text": [
        "\n",
        "1012"
       ]
      },
      {
       "output_type": "stream",
       "stream": "stdout",
       "text": [
        " http://www.simplymarry.com/matrimonial/groom/SMM1504793/Hindu/Chambhar/Prashant-Sonawane\n",
        "I am simple nature person. I am working in MNC as a Engineer. In my family 3 members are there.My father retired from bank.Mother is Housewife and brother studing MCA. My partner should be simple in nature. she believe me and She understand my feeling."
       ]
      },
      {
       "output_type": "stream",
       "stream": "stdout",
       "text": [
        "\n",
        "1013"
       ]
      },
      {
       "output_type": "stream",
       "stream": "stdout",
       "text": [
        " http://www.simplymarry.com/matrimonial/groom/SMF1504536/Hindu/Brahmin/Yashwant-Kulkarni\n",
        "Write about yourself, your likes and dislikes, personality and traits, aspirations in life, unique characteristics, etc.A boy having positive attitude towards life and nature . Believes in conveying regards and respect to everyone . Very fortunate to have lovely family, career and work profile. He is an honest, hardworking and simple person being religious and an understanding. very down to earth. Belongs to a business family with a passion to learn and endeavor to handle adverse situations with calmness and intelligently. Is very emotional and soft hearted person. Very fun loving person with a mix attitude towards traditional and mordern values. inclined towards religious beliefs, like to visit temple frequently. love to live with a smile, always fond of delicious food. Hobby includes Travelling, playing games, at times talking with freinds and family, reading and listening music"
       ]
      },
      {
       "output_type": "stream",
       "stream": "stdout",
       "text": [
        "\n",
        "1014"
       ]
      },
      {
       "output_type": "stream",
       "stream": "stdout",
       "text": [
        " http://www.simplymarry.com/matrimonial/groom/SMM1433529/Hindu/Nhavi/Aniket-Arvind-Lokhande\n",
        "Hi, My son has completed his BE in Computer &amp; at present he is working in U.K. He is very confident, self decision maker, a good sport person, also he have a Mech. workshop. he follow the commitment &amp; work accordingly."
       ]
      },
      {
       "output_type": "stream",
       "stream": "stdout",
       "text": [
        "\n",
        "1015"
       ]
      },
      {
       "output_type": "stream",
       "stream": "stdout",
       "text": [
        " http://www.simplymarry.com/matrimonial/groom/SMM1478963/Hindu/Vaishnav/Manjeet-Mapara\n",
        "I could be described as a witty person with a good sense of humour and fun to be with but intense and dedicated in relation to my profession. I have a keen interest in sports and used to play a number of sports for my school and college.I also believe in utilising time to its maximum. Graduation (B.D.S)-Govt Dental College Mumbai; Certificate course from University of Chicago dental (Mumbai centre) in Surgical Periodontics; Worked in Associated dental practices (A.D.P) Somerset (UK) and concomitantly passed the International qualifying exam-I and Straight wire therapy advanced course; Diplomat from ICNOG ITALY (Orthodontics) at Bangalore; Received a national award from the honorary cabinet minister of India for science and technology for an Indigenous Dental Implant system with a novel surface in New Delhi; M.D.S from Manipal (Periodontics)' 5 years of self owned two chair practice) in Mumbai(Colaba) between 2002 -2006. Have completed ORE PART1 (UK; Currently have a clinic in Navi Mumbai and am planning to reopen the Colaba Branch; Also considering opening a manufacturing unit of dental implants as Department of Science and Technology (Gov of India) is backing me with funds."
       ]
      },
      {
       "output_type": "stream",
       "stream": "stdout",
       "text": [
        "\n",
        "1016"
       ]
      },
      {
       "output_type": "stream",
       "stream": "stdout",
       "text": [
        " http://www.simplymarry.com/matrimonial/groom/SMM1510022/Buddhist/Subhash\n",
        "I am fun loving, caring, joy full person, I am confident, full of positive attitude, always being in a family filled with happiness and enjoyment. I am creative and studying is one of my hobbies, friends and family loves my presence I am a talkative person and love being with them."
       ]
      },
      {
       "output_type": "stream",
       "stream": "stdout",
       "text": [
        "\n",
        "1017"
       ]
      },
      {
       "output_type": "stream",
       "stream": "stdout",
       "text": [
        " http://www.simplymarry.com/matrimonial/groom/SMM1622265/Buddhist/Ashish\n",
        "My brother is very humble, caring and loving person. He is looking for a girl from Bangalore. He is a CA professional and the only one son in the family."
       ]
      },
      {
       "output_type": "stream",
       "stream": "stdout",
       "text": [
        "\n",
        "1018"
       ]
      },
      {
       "output_type": "stream",
       "stream": "stdout",
       "text": [
        " http://www.simplymarry.com/matrimonial/groom/SMM1514265/Hindu/Mali/Aashish\n",
        "Hello, I am Aashish, working in an MNC as a Business development manager. Am a down earth and simple person. Likes to travel &amp; cooking."
       ]
      },
      {
       "output_type": "stream",
       "stream": "stdout",
       "text": [
        "\n",
        "1019"
       ]
      },
      {
       "output_type": "stream",
       "stream": "stdout",
       "text": [
        " http://www.simplymarry.com/matrimonial/groom/SMM1507903/Hindu/Maratha/Milind-Nelge\n",
        "I am a simple &amp; down to earth person love to enjoy life to the fullest. I am looking for a partner who would support me through out my life. I believe in sharing life with my partner &amp; expect it to be union of two families."
       ]
      },
      {
       "output_type": "stream",
       "stream": "stdout",
       "text": [
        "\n",
        "1020"
       ]
      },
      {
       "output_type": "stream",
       "stream": "stdout",
       "text": [
        " http://www.simplymarry.com/matrimonial/groom/SMM1606859/Hindu/Brahmin/Suhas\n",
        "I did BE from Pune university and then Joined HT as an Engineer. Left company as an Assistant manager and joined PUMBA and completed MBA. Now working with the well known MNC as a Manager in international business division and staying with parents in Pune."
       ]
      },
      {
       "output_type": "stream",
       "stream": "stdout",
       "text": [
        "\n",
        "1021"
       ]
      },
      {
       "output_type": "stream",
       "stream": "stdout",
       "text": [
        " http://www.simplymarry.com/matrimonial/groom/SMM1441058/Hindu/Maratha/Rohan-Hodage\n",
        "My Self Rohan, looking for a good life partner."
       ]
      },
      {
       "output_type": "stream",
       "stream": "stdout",
       "text": [
        "\n",
        "1022"
       ]
      },
      {
       "output_type": "stream",
       "stream": "stdout",
       "text": [
        " http://www.simplymarry.com/matrimonial/groom/SMM1485414/Hindu/Lohar/Rupesh-Ramesh-Shende\n",
        "This is Rupesh R. Shende, working under software firm as a senior programmer as well as running own business with software development &amp; training solutions. Having two younger brothers both are doing B.E. in Electronics and Mechanical Engineering.\n",
        "Expecting girl of innocent nature, with moral values, should be loving to me, my family and should go with my business ahead."
       ]
      },
      {
       "output_type": "stream",
       "stream": "stdout",
       "text": [
        "\n",
        "1023"
       ]
      },
      {
       "output_type": "stream",
       "stream": "stdout",
       "text": [
        " http://www.simplymarry.com/matrimonial/groom/SMM1592739/Hindu/Brahmin/Aniket-Moghe\n",
        "simple.straight frwrd."
       ]
      },
      {
       "output_type": "stream",
       "stream": "stdout",
       "text": [
        "\n",
        "1024"
       ]
      },
      {
       "output_type": "stream",
       "stream": "stdout",
       "text": [
        " http://www.simplymarry.com/matrimonial/groom/SMM1550725/Buddhist/Amol-Lakhotiya\n",
        "Hi basically i am from wardha,but currently living in mumbai.I have 4 member in my family,my father,mother &amp; one sister. my father retired bank manager &amp; mother is house women.My sister is married and well established in Akola. I have completed M A &amp; ITI (ELECTRICAL)Working with western railway as a Jr. Electrical Engineer i am the only son of my parents. presently residing at mumbai in my own flat."
       ]
      },
      {
       "output_type": "stream",
       "stream": "stdout",
       "text": [
        "\n",
        "1025"
       ]
      },
      {
       "output_type": "stream",
       "stream": "stdout",
       "text": [
        " http://www.simplymarry.com/matrimonial/groom/SMM1469427/Hindu/Maratha/Vishal-Suresh-Jagdale\n",
        "Hi, myslef vishal, i am an advocate, practicing in pune court; i have completed my law from Pune university. Residing at pimpri, pune."
       ]
      },
      {
       "output_type": "stream",
       "stream": "stdout",
       "text": [
        "\n",
        "1026"
       ]
      },
      {
       "output_type": "stream",
       "stream": "stdout",
       "text": [
        " http://www.simplymarry.com/matrimonial/groom/SMM1424312/Buddhist/Vishal-Bhimrao-Ramteke\n",
        "I M AMBITIOUS, CARING, GENEROUS, FRIENDLY, STUBBORN, TALKATIVE, TIDY, JOLLY, SHOPPER, TECHNO-SAVVY."
       ]
      },
      {
       "output_type": "stream",
       "stream": "stdout",
       "text": [
        "\n",
        "1027"
       ]
      },
      {
       "output_type": "stream",
       "stream": "stdout",
       "text": [
        " http://www.simplymarry.com/matrimonial/groom/SMM1424294/Hindu/Mali/Santosh-V.-Dhadge\n",
        "Myself Santosh Vasant Dhadge, basically from Nasik. I studied M.B.A. Marketing from one of the reputed colleges under Pune University. Professionally I worked in Mumbai and Pune. Nature wise I am confident, adaptable, straightforward, interactive sort of person. I will love to take calculative risks in life preferably and much independent, I love raking all of decisions on my own. We are a family of Four people: My Father was a government employee, was retired in the year 2006, My Mother is a house wife, younger Brother is an M.B.A. and is a manager in reputed Bank. We are residing at Nasik. I am looking for a girl who seems to be average in all sphere of life. she must be at least graduate preferably working, confident, a little bit independent has ability to takes decision on her own."
       ]
      },
      {
       "output_type": "stream",
       "stream": "stdout",
       "text": [
        "\n",
        "1028"
       ]
      },
      {
       "output_type": "stream",
       "stream": "stdout",
       "text": [
        " http://www.simplymarry.com/matrimonial/groom/SMM1427984/Hindu/Somvanshi/Yatil-Raut\n",
        "Hi this is Yatil, belongs to Somvanshi Pathare Kshatriya community. I am very smart in looks, smiling face, soft, calm, height 5'11\". Always keep happy environment in the family and have the strong decision making ability in any tense situation."
       ]
      },
      {
       "output_type": "stream",
       "stream": "stdout",
       "text": [
        "\n",
        "1029"
       ]
      },
      {
       "output_type": "stream",
       "stream": "stdout",
       "text": [
        " http://www.simplymarry.com/matrimonial/groom/SMM1601141/Hindu/Mali/Mandar-Mali\n",
        "Handsome, well built, family loving, positive thinker, very good crisis handler, loves electronic gadgets, driving, music and travelling. Have done Schooling and Diploma in Mech Eng in India and MBA-International Marketing from UK. As of now, working as an Asst Manager at Kolhapur."
       ]
      },
      {
       "output_type": "stream",
       "stream": "stdout",
       "text": [
        "\n",
        "1030"
       ]
      },
      {
       "output_type": "stream",
       "stream": "stdout",
       "text": [
        " http://www.simplymarry.com/matrimonial/groom/SMM1418021/Hindu/Maratha/Vinayak-Desai\n",
        "He is a person working in a field of glamor. but he is ground to earth and respect his religion and tradition. he wants the person who also respect and respect his family a lot, especial he cares for mother a lot after dad passed."
       ]
      },
      {
       "output_type": "stream",
       "stream": "stdout",
       "text": [
        "\n",
        "1031"
       ]
      },
      {
       "output_type": "stream",
       "stream": "stdout",
       "text": [
        " http://www.simplymarry.com/matrimonial/groom/SMM1461929/Hindu/Mali/Sameer-Kolhe\n",
        "Hi, my name is Sameer kolhe. I am a resident of Navi Mumbai, Vashi and work for Builders and Developers. I'm smart and pleasing by nature."
       ]
      },
      {
       "output_type": "stream",
       "stream": "stdout",
       "text": [
        "\n",
        "1032"
       ]
      },
      {
       "output_type": "stream",
       "stream": "stdout",
       "text": [
        " http://www.simplymarry.com/matrimonial/groom/SMM1465491/Hindu/Teli/Parag-Digambar-Hatwar\n",
        "I am simple &amp; hard working person. attached to hotel industry since last 14 years. work 7-8 year abroad in same field, love to create new cocktail, cook food, and making new friends. apart from my job i like gardening, listening to music, playing games (indoor or outdoor) &amp; drawing. looking for a caring partner who can understand my hotel industry job, adjust me and my family accordingly. my partner should be working or willing to work in a private or govt. sector and support me."
       ]
      },
      {
       "output_type": "stream",
       "stream": "stdout",
       "text": [
        "\n",
        "1033"
       ]
      },
      {
       "output_type": "stream",
       "stream": "stdout",
       "text": [
        " http://www.simplymarry.com/matrimonial/groom/SMM1403097/Hindu/Otari/Hemant-Patil\n",
        "Easy going and Friendly... Very energetic and always ready to try out new things.... I like to travel a lot... I am very honest and optimistic person. I have no problems questioning my own beliefs thereby making them stronger.. In short, I know ME."
       ]
      },
      {
       "output_type": "stream",
       "stream": "stdout",
       "text": [
        "\n",
        "1034"
       ]
      },
      {
       "output_type": "stream",
       "stream": "stdout",
       "text": [
        " http://www.simplymarry.com/matrimonial/groom/SMM1588456/Hindu/Brahmin/Amol-Alekar\n",
        "Hi, i am a simple, practical and logical person. I am a simple man with varied interests in music, new technologies, sports and movies. I love my family and close to my friends."
       ]
      },
      {
       "output_type": "stream",
       "stream": "stdout",
       "text": [
        "\n",
        "1035"
       ]
      },
      {
       "output_type": "stream",
       "stream": "stdout",
       "text": [
        " http://www.simplymarry.com/matrimonial/groom/SMM1467463/Hindu/Maratha/Jayendra-B-Gawde\n",
        "Fun loving, adaptable, caring and sensitive, determined, hardworking and outgoing person."
       ]
      },
      {
       "output_type": "stream",
       "stream": "stdout",
       "text": [
        "\n",
        "1036"
       ]
      },
      {
       "output_type": "stream",
       "stream": "stdout",
       "text": [
        " http://www.simplymarry.com/matrimonial/groom/SMM1518905/Hindu/Brahmin/Mandar\n",
        "Like to live life as it comes and not worry about small things in life. Hobbies are sports (cricket, badminton) whenever there is time, listening to music and traveling. Love to maintain a good work-life balance too."
       ]
      },
      {
       "output_type": "stream",
       "stream": "stdout",
       "text": [
        "\n",
        "1037"
       ]
      },
      {
       "output_type": "stream",
       "stream": "stdout",
       "text": [
        " http://www.simplymarry.com/matrimonial/groom/SMM1413727/Hindu/Brahmin---Kokanastha/Kaustubh-Vartak\n",
        "MY SON MR. KAUSTUBH STAY AT DADAR WITH US; CURRENTLY HE IS WORKING WITH JET AIRWAYS AND LOOKING FOR A SHARP AND ACTIVE, MODERN AND TRADITIONAL CULTURED GIRL. HIS HOBBIES ARE READING, WATCHING MOVIE AND LISTENING CLASSICAL MARATHI MUSIC."
       ]
      },
      {
       "output_type": "stream",
       "stream": "stdout",
       "text": [
        "\n",
        "1038"
       ]
      },
      {
       "output_type": "stream",
       "stream": "stdout",
       "text": [
        " http://www.simplymarry.com/matrimonial/groom/SMM1401614/Hindu/Bhavasar-Kshatriya/Sathish-Babu\n",
        "A simple, loving and affectionate person who is looking for someone compatible and with whom I can share my life happily."
       ]
      },
      {
       "output_type": "stream",
       "stream": "stdout",
       "text": [
        "\n",
        "1039"
       ]
      },
      {
       "output_type": "stream",
       "stream": "stdout",
       "text": [
        " http://www.simplymarry.com/matrimonial/groom/SMM1407223/Hindu/Brahmin---Saraswat/Nikhil-Harlikar\n",
        "I am a family oriented person with interests in music and sports. I play drums and most of the racket sports. I am born and brought up in Pune and am a complete Punekar. Currently working in Pune as a Team lead."
       ]
      },
      {
       "output_type": "stream",
       "stream": "stdout",
       "text": [
        "\n",
        "1040"
       ]
      },
      {
       "output_type": "stream",
       "stream": "stdout",
       "text": [
        " http://www.simplymarry.com/matrimonial/groom/SMM1530098/Hindu/Maratha/Piyush\n",
        "Simple person, like to read books and travel. Have interest in painting, swimming, listening to music and playing instruments."
       ]
      },
      {
       "output_type": "stream",
       "stream": "stdout",
       "text": [
        "\n",
        "1041"
       ]
      },
      {
       "output_type": "stream",
       "stream": "stdout",
       "text": [
        " http://www.simplymarry.com/matrimonial/groom/SMM1440371/Hindu/Kshatriya/Rohan-Tavare\n",
        "Enkon Consultancy Services Pvt. Ltd working as (DIRECTOR). I am Providing Management Consultancy Services in India and Abroad. About Education- Mechanical Engineer. We are settled in Mumbai for last 30 years. Mother -Retired from Govt. Service 38 years (M. T. N. L). Father - Retired from Govt. Service (IDEMI). Institute For Design Of Electrical Measuring Instrument. (Pass way in 2011) Brother - Sales Based Motivational Performance Excellence Programs various business sector- conducting a guest lecture."
       ]
      },
      {
       "output_type": "stream",
       "stream": "stdout",
       "text": [
        "\n",
        "1042"
       ]
      },
      {
       "output_type": "stream",
       "stream": "stdout",
       "text": [
        " http://www.simplymarry.com/matrimonial/groom/SMM1532593/Hindu/Chambhar/Swapnil-Pabrekar\n",
        "A Fun loving, socially active, adjusting, caring &amp; charming guy with adventurous streak &amp; modern outlook towards life. Working in a competitive &amp; booming environment of IT &amp; Telecommunication in middle level Management."
       ]
      },
      {
       "output_type": "stream",
       "stream": "stdout",
       "text": [
        "\n",
        "1043"
       ]
      },
      {
       "output_type": "stream",
       "stream": "stdout",
       "text": [
        " http://www.simplymarry.com/matrimonial/groom/SMM1400136/Hindu/Teli/Mahesh-Gaikwad\n",
        "Hi, I am Mahesh. I am residing in Thane city. I am a Law graduate (LL.B.) in addition with the Maters in HR development management, MBA (Both from MUMBAI UNIVERSITY). Basic qualification is Post Graduate in Analytical Chemistry recognized by Board of Technical Education, Maharashtra State. Presently working with company in Thane."
       ]
      },
      {
       "output_type": "stream",
       "stream": "stdout",
       "text": [
        "\n",
        "1044"
       ]
      },
      {
       "output_type": "stream",
       "stream": "stdout",
       "text": [
        " http://www.simplymarry.com/matrimonial/groom/SMM1419215/Hindu/Agri/Ganesh-Keshav-Patil\n",
        "Am very simple, frank, shy person medium build personality."
       ]
      },
      {
       "output_type": "stream",
       "stream": "stdout",
       "text": [
        "\n",
        "1045"
       ]
      },
      {
       "output_type": "stream",
       "stream": "stdout",
       "text": [
        " http://www.simplymarry.com/matrimonial/groom/SMM1411514/Hindu/Sutar/Ajay-V.wadaskar\n",
        "I AM A SIMPLE AND HONORABLE GUY, WITH GOOD NATURE WHO LIKE TRAVELING."
       ]
      },
      {
       "output_type": "stream",
       "stream": "stdout",
       "text": [
        "\n",
        "1046"
       ]
      },
      {
       "output_type": "stream",
       "stream": "stdout",
       "text": [
        " http://www.simplymarry.com/matrimonial/groom/SMM1408796/Hindu/Brahmin---Saraswat/Amit-Desai\n",
        "I am an Author, Entrepreneur &amp; a Professional Photographer. Photography started as a passion and soon it became my Profession. I'm the Owner of Art Pixel Photography &amp; I do a lot of Candid Destination Weddings, Architectural &amp; Interiors, Lifestyle &amp; Fine Art Photography. I have done B.Com (Hons) &amp; then Masters in Financial Services Management - M. F. S. M (Equivalent to MBA in Finance). I (including my family) have modern yet traditional &amp; middle class values. We are broad &amp; open minded in nature. I am looking for my better half with similar upbringing, values &amp; culture."
       ]
      },
      {
       "output_type": "stream",
       "stream": "stdout",
       "text": [
        "\n",
        "1047"
       ]
      },
      {
       "output_type": "stream",
       "stream": "stdout",
       "text": [
        " http://www.simplymarry.com/matrimonial/groom/SMM1504567/Hindu/Brahmin---Karhade/Ashish-Eshwariprasad-Padhye\n",
        "I am an easy going guy who hates strict rules, and takes on life as it comes. Having done schooling and graduation from south India and post-graduation from Gujarat, I have been exposed to a variety of cultures and lifestyles &amp; have learnt to admire and adapt to each of them, despite being a maharashtrian from root. This helped me develop a broad outlook of things around me. I love travelling &amp; have been to various places all over south and north India and it has been a rich learning experience. A software engineer by profession, I understand the need to constantly update my knowledge not just in my field but in all fields. People around me find me funny, soft spoken &amp; one who avoids heated arguments. I am basically a food lover and have a taste for many different cuisines. I am pretty much an emotional person. In my soul-mate I would look for a true friend who is caring, understanding, smart and having strong family values."
       ]
      },
      {
       "output_type": "stream",
       "stream": "stdout",
       "text": [
        "\n",
        "1048"
       ]
      },
      {
       "output_type": "stream",
       "stream": "stdout",
       "text": [
        " http://www.simplymarry.com/matrimonial/groom/SMM1544395/Hindu/Bhandari/Nilesh\n",
        "Done LL.B, working in Adv. firm as Asst Manager Marketing. Staying alone in Mumbai, owned House. Family staying in native. Completely abstainer. Need someone with calm nature, good character and qualification."
       ]
      },
      {
       "output_type": "stream",
       "stream": "stdout",
       "text": [
        "\n",
        "1049"
       ]
      },
      {
       "output_type": "stream",
       "stream": "stdout",
       "text": [
        " http://www.simplymarry.com/matrimonial/groom/SMM1483253/Hindu/Teli/Mayur-Dhale\n",
        "I am from Nagpur currently living in Pune, working in software company for last 5 years and earlier worked in Steel industry.\n",
        "I believe in simplicity is best policy. I am quite down to earth, honest and helping nature."
       ]
      },
      {
       "output_type": "stream",
       "stream": "stdout",
       "text": [
        "\n",
        "1050"
       ]
      },
      {
       "output_type": "stream",
       "stream": "stdout",
       "text": [
        " http://www.simplymarry.com/matrimonial/groom/SMM1421821/Hindu/Maratha/Shinde\n",
        "Only son, working as a Manager in Clinical Research Department in a French Pharmaceutical MNC in Bangalore Born. Brought up and educated in Burdwan and Raipur; Education: B.Sc Microbiology, M.Sc Botany with Microbiology + PGD Clinical Research from Pune University."
       ]
      },
      {
       "output_type": "stream",
       "stream": "stdout",
       "text": [
        "\n",
        "1051"
       ]
      },
      {
       "output_type": "stream",
       "stream": "stdout",
       "text": [
        " http://www.simplymarry.com/matrimonial/groom/SMM1478861/Hindu/Dhangar/Rajat-Naik\n",
        "I am Confident, Calm, caring, Enthusiastic &amp; Energetic. B.Tech. Mechanical Engineer &amp; worked in 3 different industries. My hobbies are swimming, cricket, football, singing. I am looking for bride who is well educated &amp; professionally qualified."
       ]
      },
      {
       "output_type": "stream",
       "stream": "stdout",
       "text": [
        "\n",
        "1052"
       ]
      },
      {
       "output_type": "stream",
       "stream": "stdout",
       "text": [
        " http://www.simplymarry.com/matrimonial/groom/SMM1615265/Hindu/Kunbi/Nilesh-Kashiram-Lahim\n",
        "Hi, this is Nilesh living at Andheri, completed B.Sc in Zoology With Network Engineering. Working with YOU Broadband and Cable India Ltd as Sr.Network &amp; Network Security Engineer."
       ]
      },
      {
       "output_type": "stream",
       "stream": "stdout",
       "text": [
        "\n",
        "1053"
       ]
      },
      {
       "output_type": "stream",
       "stream": "stdout",
       "text": [
        " http://www.simplymarry.com/matrimonial/groom/SMM1462658/Hindu/Brahmin/Vijay\n",
        "Am tall, slim and little emotional person. Owned a well settled business and living with my parents. We are total 4 siblings: 2 brothers &amp; 2 sisters. All are well educated. Father retired from Govt. service &amp; Mother is a house wife."
       ]
      },
      {
       "output_type": "stream",
       "stream": "stdout",
       "text": [
        "\n",
        "1054"
       ]
      },
      {
       "output_type": "stream",
       "stream": "stdout",
       "text": [
        " http://www.simplymarry.com/matrimonial/groom/SMM1490405/Hindu/Brahmin/Alok-Parkash\n",
        "Hi, I'm simple, god fearing, fun loving person who believes life is precious and likes to live each moment of life to the fullest. I love to spend time with family and friends. I am a mixture of traditional values and modern lifestyle."
       ]
      },
      {
       "output_type": "stream",
       "stream": "stdout",
       "text": [
        "\n",
        "1055"
       ]
      },
      {
       "output_type": "stream",
       "stream": "stdout",
       "text": [
        " http://www.simplymarry.com/matrimonial/groom/SMM1407215/Buddhist/Achal-Sitaprao\n",
        "Hi, Thanks for viewing my profile. I am Mechanical Engineer, right now working with Europian MNC. Cool, confident, good looking, caring, respectfull nature, always smiley. My father runs small business, mother is housewife. Younger sister is well educated &amp; married, another younger sister is MBA graduate and preparing for GOVT. Services. Younger brother persuing Diploma in Civil Engineering. Well educated, cultured family."
       ]
      },
      {
       "output_type": "stream",
       "stream": "stdout",
       "text": [
        "\n",
        "1056"
       ]
      },
      {
       "output_type": "stream",
       "stream": "stdout",
       "text": [
        " http://www.simplymarry.com/matrimonial/groom/SMM1516487/Hindu/Sagar-Shelke\n",
        "I would describe myself as a fun-loving, well mannered , disciplined, articulate, respecting our traditions and traditional values and modern in outlook. I love making friends and care about relations. I am a Team Lead working in a Software product development company. I am looking for a girl who is well educated and values relationships."
       ]
      },
      {
       "output_type": "stream",
       "stream": "stdout",
       "text": [
        "\n",
        "1057"
       ]
      },
      {
       "output_type": "stream",
       "stream": "stdout",
       "text": [
        " http://www.simplymarry.com/matrimonial/groom/SMM1528830/Hindu/Chambhar/Amit-D-Koregaonkar\n",
        "HI! I am a simple fun loving person.. I am a doctor specialized in community medicine (MD Community Medicine)...i love going out and partying. A total foodie...A sportsman (Baseball at national level &amp; many other at lesser level)...A technology freak...and love meeting people...And there is lots more...contat me to know me.."
       ]
      },
      {
       "output_type": "stream",
       "stream": "stdout",
       "text": [
        "\n",
        "1058"
       ]
      },
      {
       "output_type": "stream",
       "stream": "stdout",
       "text": [
        " http://www.simplymarry.com/matrimonial/groom/SMM1454206/Hindu/Maratha/Prakash-Upale\n",
        "I am confident, good looking and traditional guy. Looking for a girl with positive attitude and from good family background. She must be smart and lovely, must be understanding and well qualified and someone preferably doing job."
       ]
      },
      {
       "output_type": "stream",
       "stream": "stdout",
       "text": [
        "\n",
        "1059"
       ]
      },
      {
       "output_type": "stream",
       "stream": "stdout",
       "text": [
        " http://www.simplymarry.com/matrimonial/groom/SMM1472238/Hindu/Hindu-Others/Lalit-Mahale\n",
        "Myself Lalit Mahale &amp; i am currently working in 3i Infotech as a L3 engineer &amp; i am very much happy with my current life, i always enjoy my life. I am also looking for a good life partner."
       ]
      },
      {
       "output_type": "stream",
       "stream": "stdout",
       "text": [
        "\n",
        "1060"
       ]
      },
      {
       "output_type": "stream",
       "stream": "stdout",
       "text": [
        " http://www.simplymarry.com/matrimonial/groom/SMM1409929/Hindu/Bhavasar-Kshatriya/Govardhan\n",
        "My son is a B.Sc graduate and currently working as a software professional."
       ]
      },
      {
       "output_type": "stream",
       "stream": "stdout",
       "text": [
        "\n",
        "1061"
       ]
      },
      {
       "output_type": "stream",
       "stream": "stdout",
       "text": [
        " http://www.simplymarry.com/matrimonial/groom/SMM1518068/Hindu/Maratha/Nagabhushan-Pannalkar\n",
        "I am a traditional Maratha with good cultural values. I value simplicity more than anything else. Health is my first preference, so I don't smoke and drink. I expect my wife to be a well behaved, educated individual."
       ]
      },
      {
       "output_type": "stream",
       "stream": "stdout",
       "text": [
        "\n",
        "1062"
       ]
      },
      {
       "output_type": "stream",
       "stream": "stdout",
       "text": [
        " http://www.simplymarry.com/matrimonial/groom/SMM1403803/Hindu/Sonar/Smm1403803\n",
        "I belongs to a traditional yet progressive middle class Maharashtra household from Kalyan, Maharashtra. I'm a management cum technology consultant (who does fairly like his work) working with a delhi based start-up - Kasper Consulting after having completed my MBA from XLRI Jamshedpur. Prior to that I was working with Infosys Technologies based in Chennai, Bangalore and the US. I'm basically an engineering graduate from VESIT, Mumbai. Although I have been brought up in a religious family wherein we do have quite a religious functions at home throughout the year such as Ganpati festival, I believer 'm quite an agnostic influenced by the likes of Bertrand Russell. As you would have guessed, I do like to read and although nowadays a large fraction of the books being management books, I do like to read classics, philosophy, biographies, short stories etc. I have also read a few Marathi books, mostly classics such as Yugandhar. Another hobby that takes a lot of time of mine is traveling, especially the type that provide a rush of adrenalin - such as hiking, skiing, kayaking, rafting, cycling, etc."
       ]
      },
      {
       "output_type": "stream",
       "stream": "stdout",
       "text": [
        "\n",
        "1063"
       ]
      },
      {
       "output_type": "stream",
       "stream": "stdout",
       "text": [
        " http://www.simplymarry.com/matrimonial/groom/SMM1423833/Hindu/Rajput/Swapnil-Vasant-Patil\n",
        "I AM DR. SWAPNIL PATIL. LOOKING FOR LOVING AND CARING GIRL. I AM VERY CARING AND LOVING PERSON."
       ]
      },
      {
       "output_type": "stream",
       "stream": "stdout",
       "text": [
        "\n",
        "1064"
       ]
      },
      {
       "output_type": "stream",
       "stream": "stdout",
       "text": [
        " http://www.simplymarry.com/matrimonial/groom/SMM1467643/Hindu/CKP/Nikhil-Pramod-Vaidya\n",
        "I am simple, understanding and family oriented person. I am ambitious but at the same time I enjoy whatever life pays back to me. I enjoy every moment of my professional as well as personal life. For me my family always comes first. I strongly believe that family means respecting each other in spite of our differences, protecting and supporting each other. Being an enterprise for last 6 years, I am able to maintain balance between professional life and personal life."
       ]
      },
      {
       "output_type": "stream",
       "stream": "stdout",
       "text": [
        "\n",
        "1065"
       ]
      },
      {
       "output_type": "stream",
       "stream": "stdout",
       "text": [
        " http://www.simplymarry.com/matrimonial/groom/SMM1520249/Hindu/Brahmin---Saraswat/A-Nadkarni\n",
        "My self person having positive attitude towards life, like to learn new things in life, ambitious at same time values relationships. Currently working as consultant in an MNC in mumbai. Likes to explore new places."
       ]
      },
      {
       "output_type": "stream",
       "stream": "stdout",
       "text": [
        "\n",
        "1066"
       ]
      },
      {
       "output_type": "stream",
       "stream": "stdout",
       "text": [
        " http://www.simplymarry.com/matrimonial/groom/SMM1491110/Hindu/OBC/Barber/Naayee/Devendra\n",
        "Am a person who live life with fun and happiness; people say I fill my surrounding with joy and happiness. I respect moral values but hate moral policing. I love to visit new places and cannot stop myself to experiment new and happening things."
       ]
      },
      {
       "output_type": "stream",
       "stream": "stdout",
       "text": [
        "\n",
        "1067"
       ]
      },
      {
       "output_type": "stream",
       "stream": "stdout",
       "text": [
        " http://www.simplymarry.com/matrimonial/groom/SMM1447745/Muslim/Sunni/Mohammad-Asarfi\n",
        "I am a self made and independent person. I am a Hindu but converted to Muslim due to some reasons. I lost my parents. I live in Mumbai and is in to Business. Life was not then easy when i came to Mumbai. Today, i settled and is planning to get marry to someone who is mature enough to understand the importance of marriage life. I am a self made person and would definitely look forward for a broadminded girl love honesty and respect is what i look for in relationship. I am an independent person and i take my own decision waiting for someone who can accompany me in this real journey which we call as life."
       ]
      },
      {
       "output_type": "stream",
       "stream": "stdout",
       "text": [
        "\n",
        "1068"
       ]
      },
      {
       "output_type": "stream",
       "stream": "stdout",
       "text": [
        " http://www.simplymarry.com/matrimonial/groom/SMM1447323/Hindu/Brahmin---Kokanastha/Amit-Vasudeo-Barve\n",
        "i am amit barve , i am bcom llb ,i am doing tax and investment consultancy and partner in developer firm at silvassa i am staying at malad, i have 2 own bhk flat at malad, i have i elder brother staying at kandivali"
       ]
      },
      {
       "output_type": "stream",
       "stream": "stdout",
       "text": [
        "\n",
        "1069"
       ]
      },
      {
       "output_type": "stream",
       "stream": "stdout",
       "text": [
        " http://www.simplymarry.com/matrimonial/groom/SMM1389795/Hindu/Mahar/Sushil-Satdive\n",
        "i like travelling watching movies listening music i think life is beautiful i like to enjoy life.i like partner who understand me and good looking smart caring i like to visit new places.my dream is go to abroad in life"
       ]
      },
      {
       "output_type": "stream",
       "stream": "stdout",
       "text": [
        "\n",
        "1070"
       ]
      },
      {
       "output_type": "stream",
       "stream": "stdout",
       "text": [
        " http://www.simplymarry.com/matrimonial/groom/SMM1562177/Hindu/Tushar-Bandekar\n",
        "Pretty easy going, very open minded and laid back at times. Friends describe me as gentle by nature and down to earth person. I am far from being perfect but I think I am very honest and sincere. On a cautionary note, I have a bit calm and quiet personality and also take little bit time to open up. On the positive side, I am a good listener, well read and usually aware of what is going around in the world. And yes, I do know how to respect women. I recently moved back to Mumbai from US in March after about 5 years in US. It wasn't an easy decision leaving the life of comfort, decent salary, green card and of course a great city. But I think it as a professionally better opportunity. I bought a flat in Mumbai few years back (My parents currently stay with me but they have their house nearby). I like traveling, good music, dancing, movies, shopping, gymming (6/7 hrs a week), occasional cooking (veggie Indian/Chinese), museums, economics, stock markets, intellectual conversations etc. Fav. hobby is weight training (I might not look that beefy but can bench 200+ lbs). Normally I love hanging out with friends on weekends or evenings but still trying to adjust to Mumbai life. (I dont have a big friend circle in Mumbai since I moved back. Also going to take driving classes. We have a car but I am not used to driving in India. I don't have any expectations as such. I like sweet girl, prefer someone who is compassionate and caring. No big ego or attitude. I also think being madly in love with someone is really cool. Looking for an open minded, liberal thinking, educated, easy going, loving, caring, friendly and a sweet girl. Don't believe in caste system and horoscope (no issues if you need horoscope matching though) Don't really care about anything other than compatibility (You can't judge a person by their language, religion, country, family etc). Also not sure about the Indian values but believe in human values and personal freedom."
       ]
      },
      {
       "output_type": "stream",
       "stream": "stdout",
       "text": [
        "\n",
        "1071"
       ]
      },
      {
       "output_type": "stream",
       "stream": "stdout",
       "text": [
        " http://www.simplymarry.com/matrimonial/groom/SMM1410654/Hindu/Bhandari/Himanshu-More\n",
        "I'm down to earth, easygoing and calm. I'm genuinely kind, caring, sincere, loyal and understanding, have a good sense of humor and a good listener with bundles of compassion. Also very easy to get along with. At times I can be emotional and softy. I enjoy spending time with family/relatives and catching up with friends, playing squash, badminton (and occasionally cricket), visiting cinemas and eating whenever I can. I also sometimes just like chilling out in front of the telly, I enjoy watching comedy programs as well as my favorite, being the documentaries, I know, your thinking how boring, but I like to know how things are made and how they work. My recent interest is in photography and I'm still exploring my abilities. I have traveled to many places all over the world and would love to be able to carry this on when married with my partner. Last year I was in England, as a secondment and moved back to Australia. I took this opportunity to travel across Europe and to test my photographic skills. Presently enjoying job at Perth."
       ]
      },
      {
       "output_type": "stream",
       "stream": "stdout",
       "text": [
        "\n",
        "1072"
       ]
      },
      {
       "output_type": "stream",
       "stream": "stdout",
       "text": [
        " http://www.simplymarry.com/matrimonial/groom/SMM1469052/Hindu/Suthar/Abhijit-Sutar\n",
        "hi, I am abhijit."
       ]
      },
      {
       "output_type": "stream",
       "stream": "stdout",
       "text": [
        "\n",
        "1073"
       ]
      },
      {
       "output_type": "stream",
       "stream": "stdout",
       "text": [
        " http://www.simplymarry.com/matrimonial/groom/SMM1395830/Hindu/Maratha/Dipak-Dinkar-Gaikwad\n",
        "Am Dipak and have completed my B.Com (Commerce)+ DTM + DOEACC. Currently working as a Accountant in pvt. company."
       ]
      },
      {
       "output_type": "stream",
       "stream": "stdout",
       "text": [
        "\n",
        "1074"
       ]
      },
      {
       "output_type": "stream",
       "stream": "stdout",
       "text": [
        " http://www.simplymarry.com/matrimonial/groom/SMM1405235/Hindu/Brahmin---Deshastha/Shreyas-Deshpande\n",
        "I am a person who loves to live simple life. Completed B.E in Mechanical from Nagpur. Lives in Pune and doing job and planning to settle in Pune. Love to visit different places, to learn new skills."
       ]
      },
      {
       "output_type": "stream",
       "stream": "stdout",
       "text": [
        "\n",
        "1075"
       ]
      },
      {
       "output_type": "stream",
       "stream": "stdout",
       "text": [
        " http://www.simplymarry.com/matrimonial/groom/SMM1407971/Buddhist/Vijay-Kamble\n",
        "Am vijay, living in thane with my family; working as a hospital profession. i like singing, sport, travling ; Want my partner to be good, sweet and honest"
       ]
      },
      {
       "output_type": "stream",
       "stream": "stdout",
       "text": [
        "\n",
        "1076"
       ]
      },
      {
       "output_type": "stream",
       "stream": "stdout",
       "text": [
        " http://www.simplymarry.com/matrimonial/groom/SMM1596593/Buddhist/Siddharth-Inje\n",
        "Hi, am a simple &amp; caring person. Likes to travel &amp; listen to music. Belongs to a middle class family."
       ]
      },
      {
       "output_type": "stream",
       "stream": "stdout",
       "text": [
        "\n",
        "1077"
       ]
      },
      {
       "output_type": "stream",
       "stream": "stdout",
       "text": [
        " http://www.simplymarry.com/matrimonial/groom/SMM1586384/Hindu/Maratha/Gaikwad-Chirag-Narayanrao\n",
        "I am from a middle class family, want a simple &amp; sincere girl who can take care of my family and myself. Father is retired, have one brother and sister, both are married and mother is no more."
       ]
      },
      {
       "output_type": "stream",
       "stream": "stdout",
       "text": [
        "\n",
        "1078"
       ]
      },
      {
       "output_type": "stream",
       "stream": "stdout",
       "text": [
        " http://www.simplymarry.com/matrimonial/groom/SMM1437242/Hindu/Konkani/Vijay-Chavan\n",
        "He is very hardworking guy, &amp; ability to accept any challenges. Few good things about me: I easily forgive people who wrong me, in fact sometimes I don't even let them know that they've wronged so as not to agitate the situation. I am Friendly, Caring and Humble person. I sacrifice a lot for my family."
       ]
      },
      {
       "output_type": "stream",
       "stream": "stdout",
       "text": [
        "\n",
        "1079"
       ]
      },
      {
       "output_type": "stream",
       "stream": "stdout",
       "text": [
        " http://www.simplymarry.com/matrimonial/groom/SMM1398051/Hindu/Maratha/Dinesh-Pednekar\n",
        "Hi.. thanks to visit my profile, My self Dinesh pednekar, I leaving at Thane, I hv completed my graduation &amp; currently working with Reliance Capital Ltd, I searching for good understanding &amp; lovable life partner.."
       ]
      },
      {
       "output_type": "stream",
       "stream": "stdout",
       "text": [
        "\n",
        "1080"
       ]
      },
      {
       "output_type": "stream",
       "stream": "stdout",
       "text": [
        " http://www.simplymarry.com/matrimonial/groom/SMM1464214/Hindu/Mali/Purushottam-Babanrao-Navale\n",
        "Ambitious, caring, loveable person, high desirable, think lot from my life. Seek a partner who should be of same passion. Looking for educated lovable and caring life pattern. Should always be with me in mean time also."
       ]
      },
      {
       "output_type": "stream",
       "stream": "stdout",
       "text": [
        "\n",
        "1081"
       ]
      },
      {
       "output_type": "stream",
       "stream": "stdout",
       "text": [
        " http://www.simplymarry.com/matrimonial/groom/SMM1617948/Hindu/Brahmin---Kokanastha/Prashant-Nagarkar\n",
        "A MAN OF RESPONSIBILITY, HARD WORKER, DISCIPLINED AND PRINCIPLED, AND WHO CARES AND MAN OF GREAT INTEGRITY."
       ]
      },
      {
       "output_type": "stream",
       "stream": "stdout",
       "text": [
        "\n",
        "1082"
       ]
      },
      {
       "output_type": "stream",
       "stream": "stdout",
       "text": [
        " http://www.simplymarry.com/matrimonial/groom/SMM1499342/Hindu/Maratha/Ganesh-Bhangre\n",
        "I am a hardworking guy, i believe in god, i prefer to gain respect rather than earning lot of money, but that doesn't mean i don't want money. i like to surf net and i love to work for public. i have completed my MBA."
       ]
      },
      {
       "output_type": "stream",
       "stream": "stdout",
       "text": [
        "\n",
        "1083"
       ]
      },
      {
       "output_type": "stream",
       "stream": "stdout",
       "text": [
        " http://www.simplymarry.com/matrimonial/groom/SMM1477534/Hindu/Rajput/Dr-Sudhendra-Kumar\n",
        "I am Dr. Sudhendra Kumar, B.Sc BASM MBBS, (Internal Medicines), DSVD (Skin), Cosmetology, I love my profession, 15 years of Experience in medicine field. My hobbies are Photography, collection of photographs, Adventures, I speak multiple languages and learn to more languages. I have my own car Innova and like to long drive. Interested in electronic remote toys. Sharing some time with my friends. i am seeing a doctor girl."
       ]
      },
      {
       "output_type": "stream",
       "stream": "stdout",
       "text": [
        "\n",
        "1084"
       ]
      },
      {
       "output_type": "stream",
       "stream": "stdout",
       "text": [
        " http://www.simplymarry.com/matrimonial/groom/SMM1406745/Hindu/Maratha/Abhay-S.-Sawant\n",
        "I`m a person with Visions &amp; like to bring visions into life. I`m a kind of traditional person, but appreciate moderate culture. I`m well educated having bachelor of Fine Arts degree in drawing and painting from Sir. J.J. school of art. My hobbies are canvas painting, photography, Collecting knowledge books &amp; cds, Writing short themes, Internet surfing, Watching movies &amp; dramas, Listening to music."
       ]
      },
      {
       "output_type": "stream",
       "stream": "stdout",
       "text": [
        "\n",
        "1085"
       ]
      },
      {
       "output_type": "stream",
       "stream": "stdout",
       "text": [
        " http://www.simplymarry.com/matrimonial/groom/SMM1478884/Hindu/Mali/Yogesh-Wankhade\n",
        "Myself yogesh, i m in search of a good life partner for me who is modern &amp; cool like me."
       ]
      },
      {
       "output_type": "stream",
       "stream": "stdout",
       "text": [
        "\n",
        "1086"
       ]
      },
      {
       "output_type": "stream",
       "stream": "stdout",
       "text": [
        " http://www.simplymarry.com/matrimonial/groom/SMM1426271/Hindu/Milind-Kumar\n",
        "He is introvert with good sense of humour, loves to travel and lovable."
       ]
      },
      {
       "output_type": "stream",
       "stream": "stdout",
       "text": [
        "\n",
        "1087"
       ]
      },
      {
       "output_type": "stream",
       "stream": "stdout",
       "text": [
        " http://www.simplymarry.com/matrimonial/groom/SMM1448425/Hindu/Sonar/Abc\n",
        "i am a simple and good looking person, i am here to find a true partner who shares my feelings by heart, respect to others, down to earth."
       ]
      },
      {
       "output_type": "stream",
       "stream": "stdout",
       "text": [
        "\n",
        "1088"
       ]
      },
      {
       "output_type": "stream",
       "stream": "stdout",
       "text": [
        " http://www.simplymarry.com/matrimonial/groom/SMM1418603/Hindu/Agri/Satyajit-Mhatre\n",
        "I am a simple and easy going person with good family values. I am honest, caring and very understanding by nature. I am a creative person. I am a Structural Engineer working with a renowned UK based MNC and belong to a closely knit family."
       ]
      },
      {
       "output_type": "stream",
       "stream": "stdout",
       "text": [
        "\n",
        "1089"
       ]
      },
      {
       "output_type": "stream",
       "stream": "stdout",
       "text": [
        " http://www.simplymarry.com/matrimonial/groom/SMM1571076/Hindu/Maratha/Sameer-B\n",
        "I am fun loving person with good values. I am looking for someone who can be good friend of mine. Looking for Open minded, educated, smart partner. I love going out with my friends, Traveling, reading novels etc."
       ]
      },
      {
       "output_type": "stream",
       "stream": "stdout",
       "text": [
        "\n",
        "1090"
       ]
      },
      {
       "output_type": "stream",
       "stream": "stdout",
       "text": [
        " http://www.simplymarry.com/matrimonial/groom/SMM1405419/Hindu/Chambhar/Raghunath-Gopal-Baviskar\n",
        "myself Raghunath Baviskar. I have done my MBA Finance and I am doing job in cotton yarn company as a Tax and Account Asst.from two years and I am Positive Thinking and Silence person\n",
        "and my Eyes very attractive"
       ]
      },
      {
       "output_type": "stream",
       "stream": "stdout",
       "text": [
        "\n",
        "1091"
       ]
      },
      {
       "output_type": "stream",
       "stream": "stdout",
       "text": [
        " http://www.simplymarry.com/matrimonial/groom/SMM1527803/Hindu/Maratha/Avinash\n",
        "Hi, am Avinash, live in Pune. I am a post graduate in computer science from University of Pune. Currently working as Software Engineer in MNC."
       ]
      },
      {
       "output_type": "stream",
       "stream": "stdout",
       "text": [
        "\n",
        "1092"
       ]
      },
      {
       "output_type": "stream",
       "stream": "stdout",
       "text": [
        " http://www.simplymarry.com/matrimonial/groom/SMM1608377/Hindu/Vaishya-Vani/Bipin-Pathre\n",
        "I am very understandable &amp; adjusting person with family values and responsibilities, interested in watching cricket, football &amp; tennis. Very cool in nature, interested in bride who can values family."
       ]
      },
      {
       "output_type": "stream",
       "stream": "stdout",
       "text": [
        "\n",
        "1093"
       ]
      },
      {
       "output_type": "stream",
       "stream": "stdout",
       "text": [
        " http://www.simplymarry.com/matrimonial/groom/SMM1387113/Hindu/Kshatriya/Narayanrao\n",
        "I am Kshatriya only son residing with mother, father had expired in my teenage, my educational is B.A, LL.B (Spl), LL.M.is discontinued from Shivaji University, Pune, having good name in the legal profession with Own House, Car, Plots and computerized office. I am VERY SHORT PERIOD MARRIED BOY NOT MORE THAN 02 days."
       ]
      },
      {
       "output_type": "stream",
       "stream": "stdout",
       "text": [
        "\n",
        "1094"
       ]
      },
      {
       "output_type": "stream",
       "stream": "stdout",
       "text": [
        " http://www.simplymarry.com/matrimonial/groom/SMM1527136/Hindu/Maratha/Nilesh-Sakahle\n",
        "i have done B.E. from Shivaji University &amp; PGDM from IES MCRC Mumbai. currently working with an advisory firm located in mumbai. works on business continuity, fraud investigations 7 information security area. i can analyse my self as soft spoken and kind hearted, i trust in happy go nature. like to here soft music."
       ]
      },
      {
       "output_type": "stream",
       "stream": "stdout",
       "text": [
        "\n",
        "1095"
       ]
      },
      {
       "output_type": "stream",
       "stream": "stdout",
       "text": [
        " http://www.simplymarry.com/matrimonial/groom/SMM1402263/Buddhist/Tanaji-Shankar-Babar\n",
        "I am Tanaji Shankar Babar, resident of Solapur, I am very down to earth person. Have three daughter out of them two married. One is learning a diploma in polytechnic."
       ]
      },
      {
       "output_type": "stream",
       "stream": "stdout",
       "text": [
        "\n",
        "1096"
       ]
      },
      {
       "output_type": "stream",
       "stream": "stdout",
       "text": [
        " http://www.simplymarry.com/matrimonial/groom/SMM1604138/Hindu/Brahmin/Aditya-Prakash-Kulkarni\n",
        "I am a simple and honest boy. Looking for a suitable bride from well cultured Maharastrian Brahmin family."
       ]
      },
      {
       "output_type": "stream",
       "stream": "stdout",
       "text": [
        "\n",
        "1097"
       ]
      },
      {
       "output_type": "stream",
       "stream": "stdout",
       "text": [
        " http://www.simplymarry.com/matrimonial/groom/SMM1487011/Hindu/Maratha/Shashank-Pawar\n",
        "Work, family and relations comes first. Im a social person. Love to enjoy life. Like to live balanced life. Im a straight forward and short tempered person; Hate lies and fake people."
       ]
      },
      {
       "output_type": "stream",
       "stream": "stdout",
       "text": [
        "\n",
        "1098"
       ]
      },
      {
       "output_type": "stream",
       "stream": "stdout",
       "text": [
        " http://www.simplymarry.com/matrimonial/groom/SMM1468190/Hindu/Brahmin---Deshastha/Abhijeet-Kusre\n",
        "Hi, myself Abhijeet from raipur. I am working in Pune (M.H) from last 1.5 years. I am looking for a working professional girl with family values. I am born and brought up in a Joint Family, so seeking a girl who should be able to adjust herself in that environment. For her my parents and family should come first."
       ]
      },
      {
       "output_type": "stream",
       "stream": "stdout",
       "text": [
        "\n",
        "1099"
       ]
      },
      {
       "output_type": "stream",
       "stream": "stdout",
       "text": [
        " http://www.simplymarry.com/matrimonial/groom/SMM1420582/Hindu/Kunbi/Nilesh\n",
        "I am one of the coolest person; love to visit new places with friends; try to enjoy each and every moment of life in every circumstances and searching for the same kind of partner to have fun of joyful life."
       ]
      },
      {
       "output_type": "stream",
       "stream": "stdout",
       "text": [
        "\n",
        "1100"
       ]
      },
      {
       "output_type": "stream",
       "stream": "stdout",
       "text": [
        " http://www.simplymarry.com/matrimonial/groom/SMM1416227/Hindu/Leva-Patidar/Swapnil-Patil\n",
        "I am a Chef by Profession. I am a Fun Loving guy. My hobbies are Cooking food of various Cuisines, Playing Cricket and Collecting Currencies of Different Countries. I was Working for 4 years with a Italian Cruise Company."
       ]
      },
      {
       "output_type": "stream",
       "stream": "stdout",
       "text": [
        "\n",
        "1101"
       ]
      },
      {
       "output_type": "stream",
       "stream": "stdout",
       "text": [
        " http://www.simplymarry.com/matrimonial/groom/SMM1413336/Hindu/Maratha/Santosh\n",
        "Myself Santosh Jadhav, From Mumbai, Native Place - Ratnagiri {Lanja}. I am Fun Loving, Frank. My Hobbies are Playing Chess, Carom, Surfing Mall, I'm respecting Traditional &amp; Cultural."
       ]
      },
      {
       "output_type": "stream",
       "stream": "stdout",
       "text": [
        "\n",
        "1102"
       ]
      },
      {
       "output_type": "stream",
       "stream": "stdout",
       "text": [
        " http://www.simplymarry.com/matrimonial/groom/SMM1497588/Hindu/Matang/Sahebrao-Bhalerao\n",
        "I am very adjustable &amp; understanding Person.\n",
        "I am ready to stay anywhere in the world.\n",
        "I would like to go other religion . I belong to a simple middle class family with rich traditional values. I believe in truth and love simple life with smile on my face whichever be the circumstances. I am expecting a very understanding partner."
       ]
      },
      {
       "output_type": "stream",
       "stream": "stdout",
       "text": [
        "\n",
        "1103"
       ]
      },
      {
       "output_type": "stream",
       "stream": "stdout",
       "text": [
        " http://www.simplymarry.com/matrimonial/groom/SMM1420818/Hindu/Vanjari/Amol-Khedkar\n",
        "I am a Optimist &amp; a social person, Gym enthusiast, Transparent and open minded. Believe in and respect cultural and religious values, Avid reader. Like traveling and Love pets, Movies and shopping. Liberal &amp; Fun loving person. 14 + years of experience out of which 10 Years of Work experience in Human Resource and Man Power planning. 3 + years, as a Self employed in an IT consulting Firm."
       ]
      },
      {
       "output_type": "stream",
       "stream": "stdout",
       "text": [
        "\n",
        "1104"
       ]
      },
      {
       "output_type": "stream",
       "stream": "stdout",
       "text": [
        " http://www.simplymarry.com/matrimonial/groom/SMM1450102/Hindu/Brahmin---Deshastha/Radhesh-Walwadkar\n",
        "Loves Indian Classical Music. Learning Sarod for over 4 years now in Mumbai. Loaner &amp; love to live a bit of reclusive life. Love Trekking. Looking for someone who can accept me as I am &amp; help in achieving my goals."
       ]
      },
      {
       "output_type": "stream",
       "stream": "stdout",
       "text": [
        "\n",
        "1105"
       ]
      },
      {
       "output_type": "stream",
       "stream": "stdout",
       "text": [
        " http://www.simplymarry.com/matrimonial/groom/SMM1599127/Hindu/Vanjari/Naresh-Khedkar\n",
        "I am a straight forward and fun loving person. I like watching TV and Cricket. I am searching for a girl having job in Pune, especially in IT field. I work in a Private software company having 2.6 years of experience."
       ]
      },
      {
       "output_type": "stream",
       "stream": "stdout",
       "text": [
        "\n",
        "1106"
       ]
      },
      {
       "output_type": "stream",
       "stream": "stdout",
       "text": [
        " http://www.simplymarry.com/matrimonial/groom/SMM1415260/Buddhist/Bhushan-Premdas-Meshram\n",
        "My son is studying in a third year MS in Gujarat and looking for a perfect bride for our son."
       ]
      },
      {
       "output_type": "stream",
       "stream": "stdout",
       "text": [
        "\n",
        "1107"
       ]
      },
      {
       "output_type": "stream",
       "stream": "stdout",
       "text": [
        " http://www.simplymarry.com/matrimonial/groom/SMM1464849/Hindu/Gondhali/Sachin-Gayakwad\n",
        "god fearing,hard working and religious,loves our customs and tradition with modern liberal blend,very humorous and fun loving guy with knowledge of great responsibilities,believes in karma and faala, you do you get is my policy of life"
       ]
      },
      {
       "output_type": "stream",
       "stream": "stdout",
       "text": [
        "\n",
        "1108"
       ]
      },
      {
       "output_type": "stream",
       "stream": "stdout",
       "text": [
        " http://www.simplymarry.com/matrimonial/groom/SMM1412628/Hindu/Maratha/Chandrasen-Patil\n",
        "I come from a moderate family. Originally from Kolhapur, working in Pune. Pretty homesick. Love driving and Music. At times I can be a little workaholic. Down to earth &amp; simple living and Drink occasionally."
       ]
      },
      {
       "output_type": "stream",
       "stream": "stdout",
       "text": [
        "\n",
        "1109"
       ]
      },
      {
       "output_type": "stream",
       "stream": "stdout",
       "text": [
        " http://www.simplymarry.com/matrimonial/groom/SMM1493232/Hindu/Brahmin/Praful\n",
        "I am a simple guy; likes reading books and travelling around; i likes making friends, enjoying every bit of my life. I am calm and kind hearted person. I stay in Bangalore with my family. Looking out for a simple and similar partner."
       ]
      },
      {
       "output_type": "stream",
       "stream": "stdout",
       "text": [
        "\n",
        "1110"
       ]
      },
      {
       "output_type": "stream",
       "stream": "stdout",
       "text": [
        " http://www.simplymarry.com/matrimonial/groom/SMM1431085/Hindu/Dhangar/Atul-Jagannath-Teware\n",
        "I'm a very hard working person; run my own business; i believe in god and love my culture; belong to a middle class family; i'm looking for a life partner who is lovable in nature and a good human being."
       ]
      },
      {
       "output_type": "stream",
       "stream": "stdout",
       "text": [
        "\n",
        "1111"
       ]
      },
      {
       "output_type": "stream",
       "stream": "stdout",
       "text": [
        " http://www.simplymarry.com/matrimonial/groom/SMM1610068/Hindu/Vaishya-Vani/Kunal-Mapuskar\n",
        "I'm a fun loving person. Like spending time traveling places and shooting pictures. I've completed my graduation in commerce from Mumbai University. Currently working with a reputed MNC. I'm looking for a partner whose interests do not clash with mine, should be open minded and ready to accept the changes."
       ]
      },
      {
       "output_type": "stream",
       "stream": "stdout",
       "text": [
        "\n",
        "1112"
       ]
      },
      {
       "output_type": "stream",
       "stream": "stdout",
       "text": [
        " http://www.simplymarry.com/matrimonial/groom/SMM1468266/Hindu/Maratha/Sachin-Balasaheb-Wagh\n",
        "This is sachin, working as an Assembly Engineer and looking for a good life partner; i am living in nashik city &amp; looking for a best match as a life partner, a conservative girl with a family values intact."
       ]
      },
      {
       "output_type": "stream",
       "stream": "stdout",
       "text": [
        "\n",
        "1113"
       ]
      },
      {
       "output_type": "stream",
       "stream": "stdout",
       "text": [
        " http://www.simplymarry.com/matrimonial/groom/SMM1522362/Hindu/Vaishya-Vani/Abhishek-Shirsat\n",
        "Good understanding of hindu culture, respect for women, have a happy nature, mature, have been to African countries for projects, now settled down in India and working with an MNC based in Andheri; also staying with parents."
       ]
      },
      {
       "output_type": "stream",
       "stream": "stdout",
       "text": [
        "\n",
        "1114"
       ]
      },
      {
       "output_type": "stream",
       "stream": "stdout",
       "text": [
        " http://www.simplymarry.com/matrimonial/groom/SMM1568580/Hindu/Kunbi/Vivek-Shitole\n",
        "I am basically from Buldhana, currently staying at Mumbai due to my job. I am a Pharma Graduate (B.Pharm) from Pune University currently working with a reputed pharma organization in Regulatory Affairs Department as a assistant manager since Aug 2007. I am calm &amp; cool person believe in simple living. I am looking for looking for a life partner who will be caring, down to earth and simple."
       ]
      },
      {
       "output_type": "stream",
       "stream": "stdout",
       "text": [
        "\n",
        "1115"
       ]
      },
      {
       "output_type": "stream",
       "stream": "stdout",
       "text": [
        " http://www.simplymarry.com/matrimonial/groom/SMM1618718/Hindu/Kayastha/Himanshu-Kulshrestha\n",
        "I am a handsome guy and very happy with my friends. I like to mingle with a lot of people. I like photography so we go out to hill stations nearby during the weekends. I want to be a very successful person in life."
       ]
      },
      {
       "output_type": "stream",
       "stream": "stdout",
       "text": [
        "\n",
        "1116"
       ]
      },
      {
       "output_type": "stream",
       "stream": "stdout",
       "text": [
        " http://www.simplymarry.com/matrimonial/groom/SMM1422059/Hindu/Rajesh-Kambale\n",
        "I am a very straight forward guy; dislike people who lie. I am also passiveness about the close ones."
       ]
      },
      {
       "output_type": "stream",
       "stream": "stdout",
       "text": [
        "\n",
        "1117"
       ]
      },
      {
       "output_type": "stream",
       "stream": "stdout",
       "text": [
        " http://www.simplymarry.com/matrimonial/groom/SMM1420704/Hindu/Maratha/Rajesh-C-Bhosale\n",
        "My name is Rajesh Bhosale. I am a simple boy, like to marry a simple girl. I live in Pune city &amp; belong to a very simple background."
       ]
      },
      {
       "output_type": "stream",
       "stream": "stdout",
       "text": [
        "\n",
        "1118"
       ]
      },
      {
       "output_type": "stream",
       "stream": "stdout",
       "text": [
        " http://www.simplymarry.com/matrimonial/groom/SMM1393327/Buddhist/Swapnil-Meshram\n",
        "I am simple and cool boy from Nagpur. Nagpur is my native place and workplace. I have a farm on NH6 that is 28 KM from Nagpur. At present, 3 members are there in my family my mother, sister and me and my mother is a pensioner. My father died in 1999 in a road accident."
       ]
      },
      {
       "output_type": "stream",
       "stream": "stdout",
       "text": [
        "\n",
        "1119"
       ]
      },
      {
       "output_type": "stream",
       "stream": "stdout",
       "text": [
        " http://www.simplymarry.com/matrimonial/groom/SMM1491437/Hindu/Brahmin---Daivadnya/Rohan-Kishor-Mathkar\n",
        "Hi, I am fun loving, good looking person, working as a VMware admin for Syntel at pune location. I like to live in Truth and trust. Workout is my hobby, accept Changes in life. Have own 1 bhk flat in dombivali (Thane)."
       ]
      },
      {
       "output_type": "stream",
       "stream": "stdout",
       "text": [
        "\n",
        "1120"
       ]
      },
      {
       "output_type": "stream",
       "stream": "stdout",
       "text": [
        " http://www.simplymarry.com/matrimonial/groom/SMM1488728/Hindu/Maratha/Abhishek-Shinde\n",
        "I come from a traditional and cultured family. I am very confident, intelligent, good sense of humor, caring, emotional and loving person. Also I am a very understanding, straightforward and broadminded person."
       ]
      },
      {
       "output_type": "stream",
       "stream": "stdout",
       "text": [
        "\n",
        "1121"
       ]
      },
      {
       "output_type": "stream",
       "stream": "stdout",
       "text": [
        " http://www.simplymarry.com/matrimonial/groom/SMM1427729/Hindu/Maratha/Sandeep\n",
        "27 yr old. Planning to buy house bet Bhandup-Thane &amp; at least 1 car at end of 2012. My partner must have finance knowladge. Also caring for family. If you are interested please contact me."
       ]
      },
      {
       "output_type": "stream",
       "stream": "stdout",
       "text": [
        "\n",
        "1122"
       ]
      },
      {
       "output_type": "stream",
       "stream": "stdout",
       "text": [
        " http://www.simplymarry.com/matrimonial/groom/SMM1431739/Hindu/Kshatriya/Yogiraj-Telkar\n",
        "I have done my Engineering in Civil domain and i am pursuing PG course from distance education. Right now I am working as Assistant Engineer in Water Resource Dept. (Govt Of Karnataka). I am expecting girl from a reputed, traditional &amp; educated family."
       ]
      },
      {
       "output_type": "stream",
       "stream": "stdout",
       "text": [
        "\n",
        "1123"
       ]
      },
      {
       "output_type": "stream",
       "stream": "stdout",
       "text": [
        " http://www.simplymarry.com/matrimonial/groom/SMM1419868/Hindu/Yogesh\n",
        "Hiiiiiiiiiiiiiiiiiiiiiiiiiiiiiiiiiiiiiiiiiiiiiiiiiiiiiiiiiiiiiiiiiiiiiiiiiiiiiiiiiiiiiiiiiiiiiiiii Im Yogesh im Simple My Hobbies is Driving, Study,Walking i m working in pune from Goverment Job In Pune"
       ]
      },
      {
       "output_type": "stream",
       "stream": "stdout",
       "text": [
        "\n",
        "1124"
       ]
      },
      {
       "output_type": "stream",
       "stream": "stdout",
       "text": [
        " http://www.simplymarry.com/matrimonial/groom/SMM1460293/Hindu/Gabit/Makarand-Digambar-Kubal\n",
        "My self Architect by profession currently working in reputed Real estate company in Mumbai. Simple and understanding nature with distant vision towards career. Always think positively about every aspect of life."
       ]
      },
      {
       "output_type": "stream",
       "stream": "stdout",
       "text": [
        "\n",
        "1125"
       ]
      },
      {
       "output_type": "stream",
       "stream": "stdout",
       "text": [
        " http://www.simplymarry.com/matrimonial/groom/SMM1518004/Buddhist/Amol-Tukaram-Sorte\n",
        "I would love person who would take care of me and my family. I am very open minded. I respect women. Still awaiting for the right woman in my life. 5 am very understanding person and also i am looking that girl who understand me."
       ]
      },
      {
       "output_type": "stream",
       "stream": "stdout",
       "text": [
        "\n",
        "1126"
       ]
      },
      {
       "output_type": "stream",
       "stream": "stdout",
       "text": [
        " http://www.simplymarry.com/matrimonial/groom/SMM1405712/Hindu/Swakula-Sali/Manohar-K.\n",
        "I AM A GRAPHIC DESIGNER, MY HOBBIES ARE PHOTOGRAPHY, LISTENING MUSIC, WATCHING T.V., TRAVELLING ETC. BELIEVE IN GOD STRONGLY, LIKE PEACE MINDED PEOPLES. OPEN HEARTED AND INTERESTING IN SPIRITUALITY."
       ]
      },
      {
       "output_type": "stream",
       "stream": "stdout",
       "text": [
        "\n",
        "1127"
       ]
      },
      {
       "output_type": "stream",
       "stream": "stdout",
       "text": [
        " http://www.simplymarry.com/matrimonial/groom/SMM1422860/Hindu/Maratha/Pramod-Sawant\n",
        "I am a person who believes in developing and maintaining long relations with people. I am quit witted and like to enjoy each and every moment of my life. My hobbies are Swimming, Reading &amp; Site Seeing."
       ]
      },
      {
       "output_type": "stream",
       "stream": "stdout",
       "text": [
        "\n",
        "1128"
       ]
      },
      {
       "output_type": "stream",
       "stream": "stdout",
       "text": [
        " http://www.simplymarry.com/matrimonial/groom/SMM1551827/Hindu/Hindu-Others/Dr-Nikhil-V.\n",
        "Myself Dr. Nikhil V. Suramwar, am very friendly in nature and knows the imp of family. Have done my Ph.D. in Chemistry and working as Scientist in reputed organization. I'm looking for simple kind hearted person as my future life partner."
       ]
      },
      {
       "output_type": "stream",
       "stream": "stdout",
       "text": [
        "\n",
        "1129"
       ]
      },
      {
       "output_type": "stream",
       "stream": "stdout",
       "text": [
        " http://www.simplymarry.com/matrimonial/groom/SMM1385872/Jain/Digambar/Sushil-Neminath-Mangale\n",
        "Hi! / Hello! I have completed my B.Sc (Science)Chemistry"
       ]
      },
      {
       "output_type": "stream",
       "stream": "stdout",
       "text": [
        "\n",
        "1130"
       ]
      },
      {
       "output_type": "stream",
       "stream": "stdout",
       "text": [
        " http://www.simplymarry.com/matrimonial/groom/SMM1495711/Jain/Digambar/Nikil-Doshi\n",
        "Completed my B.E. in Computer Science from Walchand Inst of Tech, Solapur. Currently working as Sr. Software Developer at Sokrati, Pune. Earlier used to work in Cognizant for 1.4 yrs. Like to play cricket, badminton. Love to watch movies."
       ]
      },
      {
       "output_type": "stream",
       "stream": "stdout",
       "text": [
        "\n",
        "1131"
       ]
      },
      {
       "output_type": "stream",
       "stream": "stdout",
       "text": [
        " http://www.simplymarry.com/matrimonial/groom/SMM1503937/Buddhist/Sachin-Shegaonkar\n",
        "I am a smart, handsome and hard working boy. Never cheat anyone and would accept the same from others."
       ]
      },
      {
       "output_type": "stream",
       "stream": "stdout",
       "text": [
        "\n",
        "1132"
       ]
      },
      {
       "output_type": "stream",
       "stream": "stdout",
       "text": [
        " http://www.simplymarry.com/matrimonial/groom/SMM1421728/Christian/Protestant/Sameer-Shirole\n",
        "I am an simple person, down to earth and religious; god fearing person and has completed my graduation from Commerce and have also done MBA in marketing."
       ]
      },
      {
       "output_type": "stream",
       "stream": "stdout",
       "text": [
        "\n",
        "1133"
       ]
      },
      {
       "output_type": "stream",
       "stream": "stdout",
       "text": [
        " http://www.simplymarry.com/matrimonial/groom/SMM1416728/Buddhist/Sumit-Gadahire\n",
        "Hello, I m sumit, working is rustomjee developer as a planning engineer, living in Mumbai with my family. I m born in Mumbai, my hobbies are photography, sketching and traveling. I m looking a girl, who can take care of my family."
       ]
      },
      {
       "output_type": "stream",
       "stream": "stdout",
       "text": [
        "\n",
        "1134"
       ]
      },
      {
       "output_type": "stream",
       "stream": "stdout",
       "text": [
        " http://www.simplymarry.com/matrimonial/groom/SMM1552318/Hindu/Kunbi/Ratnakar-Thakare\n",
        "self motivated ,caring,loving personality, confident ,independent,family oriented,traditional as well modern mix culture, motivate other for their future carrier, like teaching , traveling, shopping, try different cousin ,"
       ]
      },
      {
       "output_type": "stream",
       "stream": "stdout",
       "text": [
        "\n",
        "1135"
       ]
      },
      {
       "output_type": "stream",
       "stream": "stdout",
       "text": [
        " http://www.simplymarry.com/matrimonial/groom/mumm1383237/Hindu/Lingayath/Digvijay-Sakarekar\n",
        "I consider myself as an easy-going person who loves to laugh and have a good time. I treasure my family and friends, enjoy my job and am grateful for everything life has given me. I am aspired and enthusiastic about most things in life, and enjoy trying out new things. Enjoy traveling, and someday would want to travel around the world. I am absolutely passionate about trying out new cuisines and traveling to new places. I am having a keen sense of moral values and responsibilities and juggles my professional and personal life with equal vigour. A level headed and friendly person I can finely balance traditional and modern norms."
       ]
      },
      {
       "output_type": "stream",
       "stream": "stdout",
       "text": [
        "\n",
        "1136"
       ]
      },
      {
       "output_type": "stream",
       "stream": "stdout",
       "text": [
        " http://www.simplymarry.com/matrimonial/groom/SMM1510140/Hindu/Maratha/Indreejeet\n",
        "I am a cool kind of person, caring, positive attitude, hate violence in any form. I am a person who believes in focusing on the solution, future rather than the problem or past, love to visit new places."
       ]
      },
      {
       "output_type": "stream",
       "stream": "stdout",
       "text": [
        "\n",
        "1137"
       ]
      },
      {
       "output_type": "stream",
       "stream": "stdout",
       "text": [
        " http://www.simplymarry.com/matrimonial/groom/SMM1416807/Hindu/Gurav/Pankaj-P.-Sonawane\n",
        "My son is a fun loving person who likes to enjoy his life at the fullest while balancing his profession. He is professionally well settled in his career, working in a top MNC Banking, Finance &amp; Insurance organization as a Quality Manager. He likes to travel different places and his hobbies are traveling, watching movies, trekking, playing football &amp; photography. He is a son of an army person, well behaved, disciplined and open minded in nature who believes in respecting everyone. He has a friendly nature, socially poised and love to make friends. He is a bit talkative, emotional, loving and very much caring are some of the attributes which he possess."
       ]
      },
      {
       "output_type": "stream",
       "stream": "stdout",
       "text": [
        "\n",
        "1138"
       ]
      },
      {
       "output_type": "stream",
       "stream": "stdout",
       "text": [
        " http://www.simplymarry.com/matrimonial/groom/punm1378855/Hindu/Brahmin/Anup-Sheth\n",
        "He is sportive, loving, caring and responsible, strong belief in his family and looking for suitable match. Interested in adventure sports and Nature loving. Working with a private multinational IT company."
       ]
      },
      {
       "output_type": "stream",
       "stream": "stdout",
       "text": [
        "\n",
        "1139"
       ]
      },
      {
       "output_type": "stream",
       "stream": "stdout",
       "text": [
        " http://www.simplymarry.com/matrimonial/groom/SMM1388890/Hindu/Suthar/Ravien-Mestry\n",
        "live &amp; let live person, like to do court marriage or vedic marriage as i don't afford too much expense on my marriage i m only earning member in my family i m living with my father , mother &amp; younger brother my sister is married"
       ]
      },
      {
       "output_type": "stream",
       "stream": "stdout",
       "text": [
        "\n",
        "1140"
       ]
      },
      {
       "output_type": "stream",
       "stream": "stdout",
       "text": [
        " http://www.simplymarry.com/matrimonial/groom/SMM1416319/Buddhist/Praveen-Gaikwad\n",
        "I am simple guy from Nasik, having my own business of pharmacy. Looking for an educated and family oriented girl. D. Pharm or B. Pharm most appreciated."
       ]
      },
      {
       "output_type": "stream",
       "stream": "stdout",
       "text": [
        "\n",
        "1141"
       ]
      },
      {
       "output_type": "stream",
       "stream": "stdout",
       "text": [
        " http://www.simplymarry.com/matrimonial/groom/SMM1488801/Hindu/Mahar/Sandeep\n",
        "I m very simple high thinking person looking for someone who can understand me and my family who can take care me and my family responsibilities and I would like to keep my partner always happy by all her wishes and plans."
       ]
      },
      {
       "output_type": "stream",
       "stream": "stdout",
       "text": [
        "\n",
        "1142"
       ]
      },
      {
       "output_type": "stream",
       "stream": "stdout",
       "text": [
        " http://www.simplymarry.com/matrimonial/groom/SMM1508420/Hindu/Maratha/Dnyandev-Bharmu-Kondekar\n",
        "I am a fun loving person. I am hardworking,and passionate at nature. I am very attached to my family. I am currently residing in US and working in Accenture. I am spiritual and simple in nature. I love listening to Marathi, Hindi music along with western music. I am working as a Associate Manager (SAP Netweaver Basis Technical consultant). I have a keen interest in the social work and I try to contribute to society as much as i can. I love action movies. I have a passion for dancing as well which helps me to destress. I am on deputation in US since May 2011 in Accenture. I am located in Wilmington (Delaware). I am returning India on 17th January 2012."
       ]
      },
      {
       "output_type": "stream",
       "stream": "stdout",
       "text": [
        "\n",
        "1143"
       ]
      },
      {
       "output_type": "stream",
       "stream": "stdout",
       "text": [
        " http://www.simplymarry.com/matrimonial/groom/SMM1386498/Christian/Protestant/Sonal-Khajekar\n",
        "Hi I am Sonal Khajekar born and brought up in Christian family, currently working in NBFC (Non-Banking Financial Company) as an Regional Manager HR heading MH &amp; Goa, i have my mother, she is a house wife and an Elder brother, who is currently working with Software Company as a Project Lead. I am looking for a god fearing, beautiful, career oriented, the best person to manage the professional and family responsibilities, love me and my family."
       ]
      },
      {
       "output_type": "stream",
       "stream": "stdout",
       "text": [
        "\n",
        "1144"
       ]
      },
      {
       "output_type": "stream",
       "stream": "stdout",
       "text": [
        " http://www.simplymarry.com/matrimonial/groom/SMM1476716/Hindu/Maratha/Nitin-Panaskar\n",
        "I am presently pursuing M.Tech (Mechanical Engg.) from IIT Hyderabad. I have also done PGDM (HR Management). I am in last yr of M,Tech. I have 5 yrs of industrial and teaching experience. (Previous experience includes Sr. QA Executive in Godrej). I am liberal person. I am looking for a well educated, good nature girl, good looking preferred."
       ]
      },
      {
       "output_type": "stream",
       "stream": "stdout",
       "text": [
        "\n",
        "1145"
       ]
      },
      {
       "output_type": "stream",
       "stream": "stdout",
       "text": [
        " http://www.simplymarry.com/matrimonial/groom/SMM1594344/Hindu/Mali/Pankaj-Pande\n",
        "Hi, i have completed my MCA and Bsc Horticulture from YCMOU. Have interest in farming and that is why working as a farmer."
       ]
      },
      {
       "output_type": "stream",
       "stream": "stdout",
       "text": [
        "\n",
        "1146"
       ]
      },
      {
       "output_type": "stream",
       "stream": "stdout",
       "text": [
        " http://www.simplymarry.com/matrimonial/groom/SMM1545806/Hindu/Brahmin---Deshastha/Aalok-Joshi\n",
        "I am an outgoing, social and sporty person. I respect my family values and is traditional as well as modern as required. I love traveling, visiting to new places and enjoy company of family &amp; friends, completed my PG from university of Pune and currently working with MNC in Indore."
       ]
      },
      {
       "output_type": "stream",
       "stream": "stdout",
       "text": [
        "\n",
        "1147"
       ]
      },
      {
       "output_type": "stream",
       "stream": "stdout",
       "text": [
        " http://www.simplymarry.com/matrimonial/groom/SMM1400386/Hindu/Yadav/Lalitkumar-Ganesh-Yadav\n",
        "I am from a middle class family. Like to live simple life. Currently working with an Austrian MNC in Automobile domain. I live in Pune. Recently did my M.Tech Design from College of Engineering Pune. Like to travel"
       ]
      },
      {
       "output_type": "stream",
       "stream": "stdout",
       "text": [
        "\n",
        "1148"
       ]
      },
      {
       "output_type": "stream",
       "stream": "stdout",
       "text": [
        " http://www.simplymarry.com/matrimonial/groom/SMM1418728/Hindu/Brahmin/Dr.-Vaibhav-Pednekar\n",
        "Simple guy, who loves to have fun, but wants a life partner who is loving and who can stand by me in every situation not just good but even bad times. Should support my family and also can work if she wishes too."
       ]
      },
      {
       "output_type": "stream",
       "stream": "stdout",
       "text": [
        "\n",
        "1149"
       ]
      },
      {
       "output_type": "stream",
       "stream": "stdout",
       "text": [
        " http://www.simplymarry.com/matrimonial/groom/SMM1519027/Hindu/Brahmin/Yogesh-Pathak\n",
        "Myself Yogesh Pathak. I am a cool person.The most important thing in my life is confidence in me myself and my family. I like to visit new places, traveling through mountains is my hobby."
       ]
      },
      {
       "output_type": "stream",
       "stream": "stdout",
       "text": [
        "\n",
        "1150"
       ]
      },
      {
       "output_type": "stream",
       "stream": "stdout",
       "text": [
        " http://www.simplymarry.com/matrimonial/groom/SMM1500134/Hindu/Mali/Somnath\n",
        "Hi, I am Soft spoken, optimistic, bonded to family. I like reading and listening to music, simple yet liberal lifestyle. We are a simple, educated family with strong cultural background. We believe in god and truthful living."
       ]
      },
      {
       "output_type": "stream",
       "stream": "stdout",
       "text": [
        "\n",
        "1151"
       ]
      },
      {
       "output_type": "stream",
       "stream": "stdout",
       "text": [
        " http://www.simplymarry.com/matrimonial/groom/SMM1617802/Hindu/Maratha/Ranjeet-Somwanshi\n",
        "I always like to be unique, live to ride and enjoy my life king size, money and ride is my passion."
       ]
      },
      {
       "output_type": "stream",
       "stream": "stdout",
       "text": [
        "\n",
        "1152"
       ]
      },
      {
       "output_type": "stream",
       "stream": "stdout",
       "text": [
        " http://www.simplymarry.com/matrimonial/groom/SMM1422345/Hindu/Mali/Mangesh\n",
        "He is a software engineer B.E (computer), working as a senior associate in a well-known IT Organization at pune. He was at wellington, New Zealand for 2 years on company project. He is just back from New Zealand. He is very handsome. He is a career oriented person with clear sets of goals in life. He is a mature and a responsible person."
       ]
      },
      {
       "output_type": "stream",
       "stream": "stdout",
       "text": [
        "\n",
        "1153"
       ]
      },
      {
       "output_type": "stream",
       "stream": "stdout",
       "text": [
        " http://www.simplymarry.com/matrimonial/groom/SMM1463675/Hindu/Brahmin---Deshastha/Amit-G\n",
        "I am cheerful, straight forward, go getter, caring &amp; socially poised person. Well cultured &amp; educated, I exhibit a calm, composed &amp; positive attitude with a good sense of humour I have a mature outlook towards life and believe in enjoying life along with family &amp; friends I have a strong sense of responsibility towards my family, work, self development &amp; society. Education &amp; Occupation - I have done BE from Pune University . Currently working as a project/delivery manager in an Indian IT MNC. I am a seasoned IT professional with excellent track record of end to end project &amp; program mgmt. I have worked with various firms (as company's customers) in Germany, Dubai, Abu Dhabi, Phillipines. Plan to stay abroad for a few years. Hobbies - Reading novels, mgmt books, articles on varied topics, watching cinema &amp; theatre programs, travelling, interest in music. I am a foodie and like to taste variety of vegetarian cuisines &amp; cook too. Outlook towards marriage - Life long companionship where in both show trust, love &amp; respect for each other, their families, and have faith in &amp; lean on each other's strengths while forgiving weaknesses. It needs conscious efforts &amp; mutual understanding to make &amp; live a beautiful, enjoyable, fun-filled &amp; happy life together."
       ]
      },
      {
       "output_type": "stream",
       "stream": "stdout",
       "text": [
        "\n",
        "1154"
       ]
      },
      {
       "output_type": "stream",
       "stream": "stdout",
       "text": [
        " http://www.simplymarry.com/matrimonial/groom/SMM1414384/Hindu/Bhandari/Kalidas-Baboni-Naik\n",
        "A nice gentleman with a lot of ego, loving and caring abilities."
       ]
      },
      {
       "output_type": "stream",
       "stream": "stdout",
       "text": [
        "\n",
        "1155"
       ]
      },
      {
       "output_type": "stream",
       "stream": "stdout",
       "text": [
        " http://www.simplymarry.com/matrimonial/groom/SMM1567837/Hindu/Lingayath/Abhijeet-Vasant-Vader\n",
        "I am a simple person, like old songs, love programming. I prefer a computer graduate bride, who must be caring and skilled in nourishing the family values and relationships. I have been working as freelancer also."
       ]
      },
      {
       "output_type": "stream",
       "stream": "stdout",
       "text": [
        "\n",
        "1156"
       ]
      },
      {
       "output_type": "stream",
       "stream": "stdout",
       "text": [
        " http://www.simplymarry.com/matrimonial/groom/SMM1387367/Hindu/Milind-Khairnar\n",
        "I have done Diploma &amp; Degree in Civil Engineering. PG in Construction Business Management from MIT college of Management, Pune. Currently working as a Planning Engineer for Construction projects. I am fun loving person."
       ]
      },
      {
       "output_type": "stream",
       "stream": "stdout",
       "text": [
        "\n",
        "1157"
       ]
      },
      {
       "output_type": "stream",
       "stream": "stdout",
       "text": [
        " http://www.simplymarry.com/matrimonial/groom/SMM1547299/Hindu/Brahmin/Kundan-Ghade\n",
        "Hi, Dunno really where to start from but like I mentioned am divorcee. My 1st marriage apparently didn't work. But life is not that difficult they way we see. Still can be happy, loving and peaceful. So yes am looking for a partner who will except the way I am now and who is also looking for mutual feelings. I am in to entertainment business. That's what I do for living. I am looking for someone who is serious about life, traditional yet moderate, Patient, humble who knows exactly the value of marriage and raising children. Little bit about me, so here it goes. I am 5.9\", I like adventure sports, traveling, indoor-outdoor activities. In free time, I do practice martial-art for fitness."
       ]
      },
      {
       "output_type": "stream",
       "stream": "stdout",
       "text": [
        "\n",
        "1158"
       ]
      },
      {
       "output_type": "stream",
       "stream": "stdout",
       "text": [
        " http://www.simplymarry.com/matrimonial/groom/SMM1611956/Hindu/Swakula-Sali/Harsha\n",
        "Doing my Masters and at present working as Managerial level in marketing and sales. Loves to travel and explore new places."
       ]
      },
      {
       "output_type": "stream",
       "stream": "stdout",
       "text": [
        "\n",
        "1159"
       ]
      },
      {
       "output_type": "stream",
       "stream": "stdout",
       "text": [
        " http://www.simplymarry.com/matrimonial/groom/SMM1562484/Hindu/Maratha/Chetan-P-Jori\n",
        "Hi, I would call myself as a confident, independent, caring &amp; down to earth person. I like to be practical in life. I belongs to a very happy, satisfied, middle class and cooperative family of 4, my parents and a younger sister who is happily married. Father and mother both are retired. I am a Nature lover &amp; love trekking. I am currently working abroad."
       ]
      },
      {
       "output_type": "stream",
       "stream": "stdout",
       "text": [
        "\n",
        "1160"
       ]
      },
      {
       "output_type": "stream",
       "stream": "stdout",
       "text": [
        " http://www.simplymarry.com/matrimonial/groom/SMM1501868/Buddhist/Vishal\n",
        "Myself vishal lokhande, currently i am working Sanpulse technologies pvt ltd as an Solaris administrator and i am looking simple normal and good educated bridge with she wants to understand me and my family."
       ]
      },
      {
       "output_type": "stream",
       "stream": "stdout",
       "text": [
        "\n",
        "1161"
       ]
      },
      {
       "output_type": "stream",
       "stream": "stdout",
       "text": [
        " http://www.simplymarry.com/matrimonial/groom/SMM1398894/Buddhist/Sujit-Onkar-Sapkale\n",
        "I like drawing and painting with full of joy with new creations. I like traveling and viewing new things. I am very soft hearted person and cannot bear the heart broken things. I love my family and able to take responsibilities of them."
       ]
      },
      {
       "output_type": "stream",
       "stream": "stdout",
       "text": [
        "\n",
        "1162"
       ]
      },
      {
       "output_type": "stream",
       "stream": "stdout",
       "text": [
        " http://www.simplymarry.com/matrimonial/groom/SMM1440809/Hindu/Maratha/Harsha-Rao-R\n",
        "Good looking well cultured and from a traditional family with traditional values, i like playing cricket reading books soduko and working out, i am basically happy go lucky chap, humorous and always keep people near by happy."
       ]
      },
      {
       "output_type": "stream",
       "stream": "stdout",
       "text": [
        "\n",
        "1163"
       ]
      },
      {
       "output_type": "stream",
       "stream": "stdout",
       "text": [
        " http://www.simplymarry.com/matrimonial/groom/SMM1485971/Hindu/Kshatriya/Prakash\n",
        "Simple living high thinking. Looking for the one who can understand me better and live for life with happy moments, looking for slim and fair person, studied in Bangalore and working in Bangalore. Parents no more."
       ]
      },
      {
       "output_type": "stream",
       "stream": "stdout",
       "text": [
        "\n",
        "1164"
       ]
      },
      {
       "output_type": "stream",
       "stream": "stdout",
       "text": [
        " http://www.simplymarry.com/matrimonial/groom/SMM1555106/Hindu/Bhandari/Janardan-Kanmbli\n",
        "Hi, Myself Janardan Kambli and am basically from Mumbai but presently working in an IT MNC in Pune as a System Support Administrator. I have a self owned flat here &amp; I am well settled. My family stays in Mumbai."
       ]
      },
      {
       "output_type": "stream",
       "stream": "stdout",
       "text": [
        "\n",
        "1165"
       ]
      },
      {
       "output_type": "stream",
       "stream": "stdout",
       "text": [
        " http://www.simplymarry.com/matrimonial/groom/SMM1485121/Hindu/Vaishya-Vani/Maneesh-Parkar\n",
        "I am Mumbai base Businessman. Also i am a founder &amp; associate with some good NGO\"s. I am a smart, positive, independent &amp; fun loving person. I am liberal in my views &amp; also respect my culture &amp; traditions. I do like taking breaks from my work life &amp; enjoy my personal life with my family &amp; friends"
       ]
      },
      {
       "output_type": "stream",
       "stream": "stdout",
       "text": [
        "\n",
        "1166"
       ]
      },
      {
       "output_type": "stream",
       "stream": "stdout",
       "text": [
        " http://www.simplymarry.com/matrimonial/groom/nagm1381485/Hindu/Viswabrahmin/Aniruddha-Namojwar\n",
        "I am Sr. engineer in Larsan &amp; tubro ECC Mumbai. I am a civil Engineer."
       ]
      },
      {
       "output_type": "stream",
       "stream": "stdout",
       "text": [
        "\n",
        "1167"
       ]
      },
      {
       "output_type": "stream",
       "stream": "stdout",
       "text": [
        " http://www.simplymarry.com/matrimonial/groom/SMM1426226/Hindu/Bhovi/Nilesh\n",
        "I am Nilesh. I am Science graduate from Amravti Uni. and Working as a Medical representative in Shreya Life Sciences Pvt.Ltd.\n",
        "I am looking for a simple, loving, well educated life partner."
       ]
      },
      {
       "output_type": "stream",
       "stream": "stdout",
       "text": [
        "\n",
        "1168"
       ]
      },
      {
       "output_type": "stream",
       "stream": "stdout",
       "text": [
        " http://www.simplymarry.com/matrimonial/groom/SMM1431398/Hindu/Maratha/Roshan-Parab\n",
        "Roshan Parab working with Cognizant Mumbai."
       ]
      },
      {
       "output_type": "stream",
       "stream": "stdout",
       "text": [
        "\n",
        "1169"
       ]
      },
      {
       "output_type": "stream",
       "stream": "stdout",
       "text": [
        " http://www.simplymarry.com/matrimonial/groom/SMM1474482/Hindu/Lingayath/Pravin-Todkar\n",
        "I am IT professional born and brought up in a middle class family. Looking for a good looking, mature and caring girl. Should be practical, ambitious and pleasant enough."
       ]
      },
      {
       "output_type": "stream",
       "stream": "stdout",
       "text": [
        "\n",
        "1170"
       ]
      },
      {
       "output_type": "stream",
       "stream": "stdout",
       "text": [
        " http://www.simplymarry.com/matrimonial/groom/SMF1474376/Buddhist/Chetan\n",
        "Home Loving, attentive, sincere &amp; caring personality. WORKING in JSW ISPAT KALM (Junior Enginer) in IT DEPT &amp; (MANAGING-DIRECTOR) GLOBUS ITI, KAMPTEE."
       ]
      },
      {
       "output_type": "stream",
       "stream": "stdout",
       "text": [
        "\n",
        "1171"
       ]
      },
      {
       "output_type": "stream",
       "stream": "stdout",
       "text": [
        " http://www.simplymarry.com/matrimonial/groom/SMM1405340/Hindu/Matang/Pruthvi\n",
        "I am Pruthvi from Mumbai, completed my graduation in BE electronic and telecommunication; now currently I am working in MNC software company as a Network Engineer and i am a cool and simple person."
       ]
      },
      {
       "output_type": "stream",
       "stream": "stdout",
       "text": [
        "\n",
        "1172"
       ]
      },
      {
       "output_type": "stream",
       "stream": "stdout",
       "text": [
        " http://www.simplymarry.com/matrimonial/groom/SMM1477782/Hindu/Devang-Koshthi/Amit-Chandrakant-Kalke\n",
        "I am looking for bride who is very sensitive, smart, able to handle all domestic situation, will support to me and can handle home very smoothly. Not very fashionable but she should be simple in living and high thinking character."
       ]
      },
      {
       "output_type": "stream",
       "stream": "stdout",
       "text": [
        "\n",
        "1173"
       ]
      },
      {
       "output_type": "stream",
       "stream": "stdout",
       "text": [
        " http://www.simplymarry.com/matrimonial/groom/SMM1450479/Hindu/Maratha/Srikant\n",
        "Am a simple person, working with the private sector in Pune."
       ]
      },
      {
       "output_type": "stream",
       "stream": "stdout",
       "text": [
        "\n",
        "1174"
       ]
      },
      {
       "output_type": "stream",
       "stream": "stdout",
       "text": [
        " http://www.simplymarry.com/matrimonial/groom/SMM1399993/Hindu/Maratha/Ganesh-Jayprakash-Gawkar\n",
        "my name is ganesh. i am simple person. i would like to marry a simple, loving girl, preferable someone who is interestd in being a house wife."
       ]
      },
      {
       "output_type": "stream",
       "stream": "stdout",
       "text": [
        "\n",
        "1175"
       ]
      },
      {
       "output_type": "stream",
       "stream": "stdout",
       "text": [
        " http://www.simplymarry.com/matrimonial/groom/SMM1572099/Hindu/Kumbhar/Smm1572099\n",
        "i am very straight forward, understanding,innocent,broad minded, and many more."
       ]
      },
      {
       "output_type": "stream",
       "stream": "stdout",
       "text": [
        "\n",
        "1176"
       ]
      },
      {
       "output_type": "stream",
       "stream": "stdout",
       "text": [
        " http://www.simplymarry.com/matrimonial/groom/SMM1402089/Buddhist/Kishore-Shinde\n",
        "My self kishore shinde. Working in health care co. as a Jr. manager. annual income is Inr.3,00,000. I am vegetarian."
       ]
      },
      {
       "output_type": "stream",
       "stream": "stdout",
       "text": [
        "\n",
        "1177"
       ]
      },
      {
       "output_type": "stream",
       "stream": "stdout",
       "text": [
        " http://www.simplymarry.com/matrimonial/groom/SMM1534825/Hindu/Maratha/Mayur-Wandhekar\n",
        "cool and thinking want familier partener first preference is only for understanding between she and me religion and cast does not matters must be loving carring cool minded ready to relocate pune thanks"
       ]
      },
      {
       "output_type": "stream",
       "stream": "stdout",
       "text": [
        "\n",
        "1178"
       ]
      },
      {
       "output_type": "stream",
       "stream": "stdout",
       "text": [
        " http://www.simplymarry.com/matrimonial/groom/SMM1526762/Hindu/Maratha/Swapnil-P-Adhale\n",
        "Im very much simple guy.i need tsuch bride who can be with my family and reaches my expectations.i dont need any high profiled one but simple and cozy girl as my life partner.and she should be atleast graduate."
       ]
      },
      {
       "output_type": "stream",
       "stream": "stdout",
       "text": [
        "\n",
        "1179"
       ]
      },
      {
       "output_type": "stream",
       "stream": "stdout",
       "text": [
        " http://www.simplymarry.com/matrimonial/groom/SMM1616533/Hindu/Bhavasar-Kshatriya/Dr.yogesh-Yogesh\n",
        "Hi, i am currently working as a Govt doctor in Chikmagalur. My family is settled in Bangalore and I have plans of doing specialistion in cardiology."
       ]
      },
      {
       "output_type": "stream",
       "stream": "stdout",
       "text": [
        "\n",
        "1180"
       ]
      },
      {
       "output_type": "stream",
       "stream": "stdout",
       "text": [
        " http://www.simplymarry.com/matrimonial/groom/SMM1453852/Buddhist/Rupesh-Shivsharan\n",
        "Hi, I am computer engineer, presently settled in pune and working in MNC. i am a hardworking, ambitious, confident and more determine in my work. Education: B.E in Computer Engineer from SIT, Pune University. MS in ISM from De Montfort University, United Kingdom - England."
       ]
      },
      {
       "output_type": "stream",
       "stream": "stdout",
       "text": [
        "\n",
        "1181"
       ]
      },
      {
       "output_type": "stream",
       "stream": "stdout",
       "text": [
        " http://www.simplymarry.com/matrimonial/groom/mumm1379412/Hindu/Maratha/Santosh-Sawant-Bhosle\n",
        "I'm a cool ,confident, &amp; caring guy with strong believe in efforts, hardships and success. Passionate about work, music, sports &amp; traveling.............."
       ]
      },
      {
       "output_type": "stream",
       "stream": "stdout",
       "text": [
        "\n",
        "1182"
       ]
      },
      {
       "output_type": "stream",
       "stream": "stdout",
       "text": [
        " http://www.simplymarry.com/matrimonial/groom/SMM1471259/Buddhist/Ram\n",
        "AM SIMPLE HUMAN BEING, WORKING FOR THE BEST LIVELIHOOD AND TO PROVE MY EXISTENCE IN THIS WORLD. TO ACHIEVE THAT I HAVE COMPLETED MY POST GRADUATION WITH DISTINCTION IN COMPUTER SC AND ENGG AND NOW WORKING WITH AN MAHARATNA PSU."
       ]
      },
      {
       "output_type": "stream",
       "stream": "stdout",
       "text": [
        "\n",
        "1183"
       ]
      },
      {
       "output_type": "stream",
       "stream": "stdout",
       "text": [
        " http://www.simplymarry.com/matrimonial/groom/punm1371582/Hindu/Brahmin/Abhishek-Rao\n",
        "Currently, working as an Program Manager in an online retailer (e-commerce) company, based in Delhi after completing MBA from Indian Institute of Management, Indore in Operations and Marketing. Before opting for MBA program, have worked with Reliance Industries Limited for 3 years in Gujarat. Presently residing in Delhi but willing to relocate in Bangalore or Chennai. He is an extrovert, pragmatic kind of person and looking forward for somebody with like minded thoughts, intellectual and who understands the need of space in each other lives."
       ]
      },
      {
       "output_type": "stream",
       "stream": "stdout",
       "text": [
        "\n",
        "1184"
       ]
      },
      {
       "output_type": "stream",
       "stream": "stdout",
       "text": [
        " http://www.simplymarry.com/matrimonial/groom/SMM1496224/Hindu/Chambhar/Ram-Jagtap\n",
        "HI I AM RAM JAGTAP FROM KURLA MUMBAI. I HAVE COMPLETED MY B.COM GRADUATION FROM MUMBAI UNIVERSITY. I HAVE ALSO PASSED CET EXAM FOR M.B.A. NOW I AM GOING FOR MY M.B.A STUDIES. I AM ALSO WORKING IN HDFC SECURITIES LTD HEAD OFFICE MUMBAI. IN MY FAMILY THERE ARE 7 MEMBERS. I HAVE MOTHER AND 2 BROTHERS AND SISTER OF WHICH 1 BRO AND 1 SISTER IS MARRIED. ONLY ME (YOUNGER-ONE) AND MY MIDDLE BRO IS UNMARRIED. MY ELDER BRO HAVE 2 CHILDREN OF 2 YRS AND 6 MONTHS RESPECTIVELY. MY FAMILY IS BEAUTIFUL AND LOVABLE AND VERY CARING AT EVERY KIND OF CRITICAL SITUATION. I AM HONEST AND JOLLY PERSON WITH FULL OF RESPECT FOR OUR CULTURE AND TRADITION."
       ]
      },
      {
       "output_type": "stream",
       "stream": "stdout",
       "text": [
        "\n",
        "1185"
       ]
      },
      {
       "output_type": "stream",
       "stream": "stdout",
       "text": [
        " http://www.simplymarry.com/matrimonial/groom/SMM1512894/Hindu/Brahmin---Deshastha/Rahul-Parmanand\n",
        "My self rahul, working as premier banking manager in hdfc bank in pune after mba frm bimm pune, prior to mba was in hotel industry been abroad in Europe for a year. i am a career oriented person with strong religious and family values, m the only son of my parents; only motto of life is to live the life to the fullest and enjoy every every moment of it.."
       ]
      },
      {
       "output_type": "stream",
       "stream": "stdout",
       "text": [
        "\n",
        "1186"
       ]
      },
      {
       "output_type": "stream",
       "stream": "stdout",
       "text": [
        " http://www.simplymarry.com/matrimonial/groom/SMM1537649/Hindu/Maratha/Amol-Sawant\n",
        "I am a person who is positive about every aspect of life."
       ]
      },
      {
       "output_type": "stream",
       "stream": "stdout",
       "text": [
        "\n",
        "1187"
       ]
      },
      {
       "output_type": "stream",
       "stream": "stdout",
       "text": [
        " http://www.simplymarry.com/matrimonial/groom/SMM1487427/Hindu/Maratha/Amit-Methepatil\n",
        "Hi, i am an Engineer by Profession. I have completed my Graduation in Civil Engineering and later Post Graduation in project Engineering management and currently working in Mumbai. I like all kinds of sports, and love traveling to explore new places. It would be great to have someone sharing the same interests. My Father is a retried government servant and enjoys his life by keeping himself busy in his routines. My Mother is government servant, working as a Principal at School level. I have two Elder sisters, both are married and well settled in respective Metro cities in India. I am looking for a decent girl with good education background and high values, equally Indian and ethnic at heart."
       ]
      },
      {
       "output_type": "stream",
       "stream": "stdout",
       "text": [
        "\n",
        "1188"
       ]
      },
      {
       "output_type": "stream",
       "stream": "stdout",
       "text": [
        " http://www.simplymarry.com/matrimonial/groom/SMM1560359/Hindu/Bhavasar-Kshatriya/Babu-Prasad\n",
        "He is very simple and down to earth, Hardworking, loving and caring. We are looking for a very very simple girl living in Bangalore, with good understanding who can take good care of the family."
       ]
      },
      {
       "output_type": "stream",
       "stream": "stdout",
       "text": [
        "\n",
        "1189"
       ]
      },
      {
       "output_type": "stream",
       "stream": "stdout",
       "text": [
        " http://www.simplymarry.com/matrimonial/groom/SMM1580915/Hindu/Brahmin/Amol-Karulkar\n",
        "I am Amol, a very friendly and fun loving person. Completed my graduation [B.S.C] in Hotel Management and Catering Technology. Currently working in a 5 star hotel. I like going on love drive and trip."
       ]
      },
      {
       "output_type": "stream",
       "stream": "stdout",
       "text": [
        "\n",
        "1190"
       ]
      },
      {
       "output_type": "stream",
       "stream": "stdout",
       "text": [
        " http://www.simplymarry.com/matrimonial/groom/SMM1570759/Hindu/Kedar-Sudhir-Kasbekar\n",
        "I AM LOVING, DOWN TO EARTH, RESPECT ELDERS, ONLY SON OF MY PARENTS, B.COM, LLB FROM MUMBAI UNIVERSITY. COACHING TABLE-TENNIS IS MY PROFESSION, REPRESENTED MUMBAI CITY &amp; 6TH IN RANK IN MAHARASHTRA STATE LEVEL, MUMBAI UNIVERSITY COACH, ALSO REPRESENTED MUMBAI UNI. IN INTER STATE TOURNAMENTS. I AM AN OFFICIAL COACH FOR CCI (CRICKET CLUB OF INDIA) FOR T.T, QUEEN MERRY'S SCHOOL, RUNNING MY OWN ACADEMY IN MUMBAI."
       ]
      },
      {
       "output_type": "stream",
       "stream": "stdout",
       "text": [
        "\n",
        "1191"
       ]
      },
      {
       "output_type": "stream",
       "stream": "stdout",
       "text": [
        " http://www.simplymarry.com/matrimonial/groom/SMM1437238/Hindu/Koli-Mahadev/Gorakh-Warghade\n",
        "Am a lovable and positive person. I am Gorakh Warghade, have completed my Masters in Commerce and currently working as an Accounting Professional (Others)."
       ]
      },
      {
       "output_type": "stream",
       "stream": "stdout",
       "text": [
        "\n",
        "1192"
       ]
      },
      {
       "output_type": "stream",
       "stream": "stdout",
       "text": [
        " http://www.simplymarry.com/matrimonial/groom/SMM1517959/Hindu/Brahmin---Deshastha/Shailesh-Naik\n",
        "I am basically from Ahmednagar. Have completed MCA from Pune University. At present, working as a Software Engineer in Navi Mumbai."
       ]
      },
      {
       "output_type": "stream",
       "stream": "stdout",
       "text": [
        "\n",
        "1193"
       ]
      },
      {
       "output_type": "stream",
       "stream": "stdout",
       "text": [
        " http://www.simplymarry.com/matrimonial/groom/SMM1460190/Buddhist/Rajesh\n",
        "I am cool, likes reading books, playing tennis, badminton, very friendly nature, very much understanding. Simple things make me happy and give satisfaction. I am an emotional person. Satisfaction and peace is more valuable to me than anything."
       ]
      },
      {
       "output_type": "stream",
       "stream": "stdout",
       "text": [
        "\n",
        "1194"
       ]
      },
      {
       "output_type": "stream",
       "stream": "stdout",
       "text": [
        " http://www.simplymarry.com/matrimonial/groom/SMM1517908/Hindu/Lingayath/Prafull-Kamunwar\n",
        "I m looking a simple, caring understanding calm type, well qualified,flexible,well adjustable character, moderate family,honest,approach to senior polite manner, god bearing, respect to seniors, jolly type life partner"
       ]
      },
      {
       "output_type": "stream",
       "stream": "stdout",
       "text": [
        "\n",
        "1195"
       ]
      },
      {
       "output_type": "stream",
       "stream": "stdout",
       "text": [
        " http://www.simplymarry.com/matrimonial/groom/SMM1488080/Hindu/Maratha/Bhushan\n",
        "Mentally Stable, Confident and believe on self respect."
       ]
      },
      {
       "output_type": "stream",
       "stream": "stdout",
       "text": [
        "\n",
        "1196"
       ]
      },
      {
       "output_type": "stream",
       "stream": "stdout",
       "text": [
        " http://www.simplymarry.com/matrimonial/groom/SMM1399495/Hindu/Brahmin/Kurulkar-Ashish-Sudhakar\n",
        "Traditional Brahmin, Simple but traditional, belong to a Middle class family. have faith on god; 7 Years in-sight in admin field including 5+ Years managing &amp; Maintaining Front Office Automation software. Performing Coordination and liaisoning with clientele belonging to varied strata. Nice team player. Pretty much articulate in communication and presentations. Effective conveyer of technical information to managerial staff."
       ]
      },
      {
       "output_type": "stream",
       "stream": "stdout",
       "text": [
        "\n",
        "1197"
       ]
      },
      {
       "output_type": "stream",
       "stream": "stdout",
       "text": [
        " http://www.simplymarry.com/matrimonial/groom/SMM1465199/Hindu/Brahmin/Abhijeet\n",
        "I am simple, honest, caring, working in public sector, MBA, CA final student, bit ambitious, bit humorous person, regarding hobbies are traveling, music, movies, bit novel reading, making friends, enjoying every bit of life."
       ]
      },
      {
       "output_type": "stream",
       "stream": "stdout",
       "text": [
        "\n",
        "1198"
       ]
      },
      {
       "output_type": "stream",
       "stream": "stdout",
       "text": [
        " http://www.simplymarry.com/matrimonial/groom/SMM1421575/Hindu/Brahmin---Kokanastha/Abhijit-Sharad-Kumthekar\n",
        "hi, i am very simple good looking and ambitious person. father- retired (teacher), mother - house wife, sister - married having good family background original from chandwad (nashik) having own house in pune."
       ]
      },
      {
       "output_type": "stream",
       "stream": "stdout",
       "text": [
        "\n",
        "1199"
       ]
      },
      {
       "output_type": "stream",
       "stream": "stdout",
       "text": [
        " http://www.simplymarry.com/matrimonial/groom/SMM1444032/Hindu/Scheduled-Caste/Nitin.-Y.-Kumbhar\n",
        "simple living ,caring , adjust my self to any condition, like to say people happy .i love my family"
       ]
      },
      {
       "output_type": "stream",
       "stream": "stdout",
       "text": [
        "\n",
        "1200"
       ]
      },
      {
       "output_type": "stream",
       "stream": "stdout",
       "text": [
        " http://www.simplymarry.com/matrimonial/groom/SMM1588315/Hindu/Bhavasar-Kshatriya/Mysker-Venkat\n",
        "Hi, I am looking for a match for my brother who is the Wealth Manager in Hyderabad."
       ]
      },
      {
       "output_type": "stream",
       "stream": "stdout",
       "text": [
        "\n",
        "1201"
       ]
      },
      {
       "output_type": "stream",
       "stream": "stdout",
       "text": [
        " http://www.simplymarry.com/matrimonial/groom/SMM1488227/Buddhist/Rajiv-Kamble\n",
        "I am fun loving guy, love to watch movie (action) and love to discover new good places, and capture memories in my digital camera. I like to go on long drives. i like to eat sea food and traditional food."
       ]
      },
      {
       "output_type": "stream",
       "stream": "stdout",
       "text": [
        "\n",
        "1202"
       ]
      },
      {
       "output_type": "stream",
       "stream": "stdout",
       "text": [
        " http://www.simplymarry.com/matrimonial/groom/SMM1604718/Hindu/Maratha/Rahul-Gholap\n",
        "I am fun loving, confident and caring person. Working as system admin in a reputed IT company."
       ]
      },
      {
       "output_type": "stream",
       "stream": "stdout",
       "text": [
        "\n",
        "1203"
       ]
      },
      {
       "output_type": "stream",
       "stream": "stdout",
       "text": [
        " http://www.simplymarry.com/matrimonial/groom/SMM1498958/Hindu/Maratha/Pravin\n",
        "Am a person who live life with fun and happiness; people say I fill my surrounding with joy and happiness. I respect moral values but hate moral policing. I love to visit new places and cannot stop myself to experiment new and happening things."
       ]
      },
      {
       "output_type": "stream",
       "stream": "stdout",
       "text": [
        "\n",
        "1204"
       ]
      },
      {
       "output_type": "stream",
       "stream": "stdout",
       "text": [
        " http://www.simplymarry.com/matrimonial/groom/SMM1585213/Hindu/Maratha/Rakesh-Parshuram-Salunkhe\n",
        "Am looking for a simple, very friendly person. I have completed my computer diploma from Aptech, have my own business of construction."
       ]
      },
      {
       "output_type": "stream",
       "stream": "stdout",
       "text": [
        "\n",
        "1205"
       ]
      },
      {
       "output_type": "stream",
       "stream": "stdout",
       "text": [
        " http://www.simplymarry.com/matrimonial/groom/SMM1457902/Hindu/Sonar/Amar-Suhas-Wakharkar\n",
        "simple, sober, upright, hardworking, open minded. attached to family. partner should be very good looking, healthy, smart and co operative. amar has traveled a lot within and outside India. partner should be compatible in all aspects. apart from that no rigid in terms of qualifications."
       ]
      },
      {
       "output_type": "stream",
       "stream": "stdout",
       "text": [
        "\n",
        "1206"
       ]
      },
      {
       "output_type": "stream",
       "stream": "stdout",
       "text": [
        " http://www.simplymarry.com/matrimonial/groom/nagm1379019/Buddhist/Abhijit-Mankar\n",
        "I am prospective doctor, seeking for a life partner who is ground to earth and ready to support me in good and bad times, understanding the preloaded, auto executing unpredictable algorithm of life."
       ]
      },
      {
       "output_type": "stream",
       "stream": "stdout",
       "text": [
        "\n",
        "1207"
       ]
      },
      {
       "output_type": "stream",
       "stream": "stdout",
       "text": [
        " http://www.simplymarry.com/matrimonial/groom/SMM1466122/Hindu/Kokanastha-Maratha/Santosh-Vijay-Parab\n",
        "I am a creative person. A graphic designer and Commercial artist. Like photography, editing and creative work. I like to enjoy every movement of life with family, friends &amp; future life partner."
       ]
      },
      {
       "output_type": "stream",
       "stream": "stdout",
       "text": [
        "\n",
        "1208"
       ]
      },
      {
       "output_type": "stream",
       "stream": "stdout",
       "text": [
        " http://www.simplymarry.com/matrimonial/groom/SMM1401061/Hindu/Maratha/Amol-Dukare\n",
        "I am an Engineer. I want to work with a MNC."
       ]
      },
      {
       "output_type": "stream",
       "stream": "stdout",
       "text": [
        "\n",
        "1209"
       ]
      },
      {
       "output_type": "stream",
       "stream": "stdout",
       "text": [
        " http://www.simplymarry.com/matrimonial/groom/SMM1388516/Hindu/Koshti/Jeet-Namdeorao-Ambolikar\n",
        "I HAVE SIMPLE &amp; EASY LIVING STYLE. RESPECT FOR ELDERS, LIKE THE PARTNER FAVOURABLE TO ME &amp; MY FAMILY . I LIKE MOTORCYCLE RIDING AS WELL AS WATCHING TV SPECIALLY SUSPENSE SERIALS. I HAVE ONE SISTER MARRIED IN GUJRAT. MY FATHER IS RETD. FROM GOVN. SERVICE &amp; MOTHER IS HOUSEWIFE."
       ]
      },
      {
       "output_type": "stream",
       "stream": "stdout",
       "text": [
        "\n",
        "1210"
       ]
      },
      {
       "output_type": "stream",
       "stream": "stdout",
       "text": [
        " http://www.simplymarry.com/matrimonial/groom/SMM1521879/Hindu/Kunbi/Alok-Mhatle\n",
        "I am basically from Mumbai. My family includes my father who is retired. my mother was a housewife and my elder sister is married and settled. I am currently based in Mumbai as I am working for a software organization in Mumbai."
       ]
      },
      {
       "output_type": "stream",
       "stream": "stdout",
       "text": [
        "\n",
        "1211"
       ]
      },
      {
       "output_type": "stream",
       "stream": "stdout",
       "text": [
        " http://www.simplymarry.com/matrimonial/groom/SMM1536875/Hindu/Chambhar/Shailesh-Shendage\n",
        "Hi, I'm shailesh shendage, Msc. Bed. I'm basically simple, caring, down to earth ,very friendly person. I enjoy music, reading and like to explore new places.I'm nature lover.I have interest in electronics things later in computers things. Now working as lecturer.since june 2011.And will remain in educational field."
       ]
      },
      {
       "output_type": "stream",
       "stream": "stdout",
       "text": [
        "\n",
        "1212"
       ]
      },
      {
       "output_type": "stream",
       "stream": "stdout",
       "text": [
        " http://www.simplymarry.com/matrimonial/groom/SMM1520361/Hindu/Brahmin/Dr-subodh-Subodh\n",
        "I am a simple man, living with my parent, in a liberal family, have finished my entire education on merit basis under Govt quota. Looking for a girl from medical stream.MBBS, MD, BDS or MDS.i do believe in simple living and high thinking."
       ]
      },
      {
       "output_type": "stream",
       "stream": "stdout",
       "text": [
        "\n",
        "1213"
       ]
      },
      {
       "output_type": "stream",
       "stream": "stdout",
       "text": [
        " http://www.simplymarry.com/matrimonial/groom/SMM1572037/Hindu/Ankur-Pathak\n",
        "My son is an orthodox natured person, loves to make selected friends, enjoys going for good movies, loves music, does not have any bad habit(smoking,drinking). We are from Gwalior-now settled in Delhi/NCR.he is at present holding the position of Sr.Engineer-Projects in the organization.His younger brother is with INFOSYS,Mother is working as Lecturer in govt.school in Delhi and I have been working as Manager-Stores."
       ]
      },
      {
       "output_type": "stream",
       "stream": "stdout",
       "text": [
        "\n",
        "1214"
       ]
      },
      {
       "output_type": "stream",
       "stream": "stdout",
       "text": [
        " http://www.simplymarry.com/matrimonial/groom/mumm1374296/Hindu/Vaishya-Vani/Sushant-Kode\n",
        "I am an honest, straight forward, ambitious and fun loving person. I believe in fidelity in relationships. I inhabit values of modern times, along with cultural &amp; traditional values of my I am an honest, straight forward, ambitious and fun loving person. I believe in fidelity in relationships. I inhabit values of modern times, along with cultural &amp; traditional values of my family"
       ]
      },
      {
       "output_type": "stream",
       "stream": "stdout",
       "text": [
        "\n",
        "1215"
       ]
      },
      {
       "output_type": "stream",
       "stream": "stdout",
       "text": [
        " http://www.simplymarry.com/matrimonial/groom/SMM1437329/Hindu/Brahmin---Daivadnya/Sandeep-Mahadeo-Joshi\n",
        "good person, i like photography, good personality."
       ]
      },
      {
       "output_type": "stream",
       "stream": "stdout",
       "text": [
        "\n",
        "1216"
       ]
      },
      {
       "output_type": "stream",
       "stream": "stdout",
       "text": [
        " http://www.simplymarry.com/matrimonial/groom/SMM1505662/Hindu/Brahmin/Vijay-D.-Gajare\n",
        "i like everything bcoz it created by god. i love everybody who are in my touch. ithink everything will be normal after some time. time is money so dont waste time. please do fast . time gone then everything is gone"
       ]
      },
      {
       "output_type": "stream",
       "stream": "stdout",
       "text": [
        "\n",
        "1217"
       ]
      },
      {
       "output_type": "stream",
       "stream": "stdout",
       "text": [
        " http://www.simplymarry.com/matrimonial/groom/SMM1481633/Hindu/Mali/Ganesh-Shinalkar\n",
        "Hi, i am ganesh here, leading a simple life. my village is in pune, and i am working in Mumbai in pharma sector."
       ]
      },
      {
       "output_type": "stream",
       "stream": "stdout",
       "text": [
        "\n",
        "1218"
       ]
      },
      {
       "output_type": "stream",
       "stream": "stdout",
       "text": [
        " http://www.simplymarry.com/matrimonial/groom/SMM1597587/Hindu/Maratha/Sanjay-Dattatraya-Lokhande\n",
        "Hi, I am sanjay Lokhande. I am working in software company as a software Engineer. I like to visit new places."
       ]
      },
      {
       "output_type": "stream",
       "stream": "stdout",
       "text": [
        "\n",
        "1219"
       ]
      },
      {
       "output_type": "stream",
       "stream": "stdout",
       "text": [
        " http://www.simplymarry.com/matrimonial/groom/SMM1458819/Hindu/Maratha/Vikram-Balaso-Mane\n",
        "I believe in god, also Fun loving, adaptable, caring and sensitive, determined, hardworking, outgoing. i believe in simple living, i like listening to old songs and playing with kids. i love my mom &amp; younger brother."
       ]
      },
      {
       "output_type": "stream",
       "stream": "stdout",
       "text": [
        "\n",
        "1220"
       ]
      },
      {
       "output_type": "stream",
       "stream": "stdout",
       "text": [
        " http://www.simplymarry.com/matrimonial/groom/SMM1402663/Hindu/Teli/Vijay-Gomase\n",
        "Smart But down to earth person like sweet, always smiling. Very High Ambitions in Life being for a Very Successful person."
       ]
      },
      {
       "output_type": "stream",
       "stream": "stdout",
       "text": [
        "\n",
        "1221"
       ]
      },
      {
       "output_type": "stream",
       "stream": "stdout",
       "text": [
        " http://www.simplymarry.com/matrimonial/groom/SMM1387590/Hindu/Bhandari/Abhijit-Kocharekar\n",
        "Hi, I am Abhijit Kocharekar, working as Assistant Manager - IT for a MNC. Looking for a girl who will support me and my family.\n",
        "I am very open minded, straight forward, carrier oriented as well as emotional person. I am looking for a girl who will support me and my family. She should be Caring, loving me, my parents, respect family values. I am looking for someone who would be a great companion throughout my life."
       ]
      },
      {
       "output_type": "stream",
       "stream": "stdout",
       "text": [
        "\n",
        "1222"
       ]
      },
      {
       "output_type": "stream",
       "stream": "stdout",
       "text": [
        " http://www.simplymarry.com/matrimonial/groom/banm1372995/Hindu/Kshatriya/Ajay-Pl\n",
        "m simple fun loving person i take life as it comes i manage problems sportivly my policy is liv life ful size m a diploma holder in electonics n communicaton eng n m a buisnessman"
       ]
      },
      {
       "output_type": "stream",
       "stream": "stdout",
       "text": [
        "\n",
        "1223"
       ]
      },
      {
       "output_type": "stream",
       "stream": "stdout",
       "text": [
        " http://www.simplymarry.com/matrimonial/groom/SMM1562033/Hindu/Leva-patil/Bhushan-Dinkar-Thombare\n",
        "i am looking for simple beautiful girl,i love music,electronics,composing music,photography,cooking,astrology,science of GOD,Bhagvat gita. i play guitar,violin,keyboards,i also sing."
       ]
      },
      {
       "output_type": "stream",
       "stream": "stdout",
       "text": [
        "\n",
        "1224"
       ]
      },
      {
       "output_type": "stream",
       "stream": "stdout",
       "text": [
        " http://www.simplymarry.com/matrimonial/groom/SMF1473062/Hindu/Brahmin/Akshay\n",
        "Fun loving, adaptable, caring and sensitive, determined, hardworking, outgoing."
       ]
      },
      {
       "output_type": "stream",
       "stream": "stdout",
       "text": [
        "\n",
        "1225"
       ]
      },
      {
       "output_type": "stream",
       "stream": "stdout",
       "text": [
        " http://www.simplymarry.com/matrimonial/groom/SMM1413168/Hindu/Brahmin---Daivadnya/Omkar\n",
        "I am simple easy going person. Am passionate for Science, Classical Music, Photography, making Origami, Traveling, Cooking and mainly books. Am a selective about movies stuff. As an Software Professional computer is part of my daily life. Am an IOS (iPhone/iPad) application developer working with an major Private Firm in PUNE from last 1+ years. As my friends says I have generic sense of humor and I am kind or fun loving person. And personally I like to live life simply."
       ]
      },
      {
       "output_type": "stream",
       "stream": "stdout",
       "text": [
        "\n",
        "1226"
       ]
      },
      {
       "output_type": "stream",
       "stream": "stdout",
       "text": [
        " http://www.simplymarry.com/matrimonial/groom/SMM1513781/Hindu/Devang-Koshthi/Sagar-Dhakate\n",
        "I m tall, confident, loving n caring. I love readiNg, trekking, travelling etc I have completed my B.Tech.Mech Engg. from BITS,(Goa), M.Tech. Design Engg. from IIT, Mumbai, MBA in Project Mgmt. from MITSOM, Pune. Now working as Dy. RTO (Class 1) officer in Pune."
       ]
      },
      {
       "output_type": "stream",
       "stream": "stdout",
       "text": [
        "\n",
        "1227"
       ]
      },
      {
       "output_type": "stream",
       "stream": "stdout",
       "text": [
        " http://www.simplymarry.com/matrimonial/groom/banm1369030/Hindu/Brahmin--Gowd-Saraswat/Aniket\n",
        "I am born and brought up in Mumbai &amp; have completed my Bachelors in Engineering from K.J.Somaiya COE Mumbai. Currently working for MNC in Bangalore. I have visited US &amp; Mexico twice and Germany once on office assignments. I am a recipient of Star Performer Of the year 2012-13 Award .Driving is my passion. I like to go on long drives during vacations. Listening to debates on TV channels on various topics entertains me. Watching One Day Cricket matches is my great pleasure. My parents say that i am a very caring and perfect planner. I am occasionally non veg. Frequently I enjoy window shopping. I am very selective in brands. I perceive myself to be understanding, value relationships, respectful to elders and sincere &amp; hardworking when it comes to business."
       ]
      },
      {
       "output_type": "stream",
       "stream": "stdout",
       "text": [
        "\n",
        "1228"
       ]
      },
      {
       "output_type": "stream",
       "stream": "stdout",
       "text": [
        " http://www.simplymarry.com/matrimonial/groom/SMM1480198/Hindu/Brahmin/Ameya-Ashok-Thombare\n",
        "He is a simple guy. Loves to watch movies, internet surfing. We are looking out for a simple girl who is a blend of traditional &amp; modern values."
       ]
      },
      {
       "output_type": "stream",
       "stream": "stdout",
       "text": [
        "\n",
        "1229"
       ]
      },
      {
       "output_type": "stream",
       "stream": "stdout",
       "text": [
        " http://www.simplymarry.com/matrimonial/groom/SMM1498927/Hindu/Swakula-Sali/Nilesh-Chittevan\n",
        "My family is open minded. My father is retired art teacher &amp; mother is housewife. I believe more in family values and family relations have always been at fair consideration for me. I anticipate my life partner to be with simple life style and preserving family importance. I would appreciate her to be motivated for her professional career."
       ]
      },
      {
       "output_type": "stream",
       "stream": "stdout",
       "text": [
        "\n",
        "1230"
       ]
      },
      {
       "output_type": "stream",
       "stream": "stdout",
       "text": [
        " http://www.simplymarry.com/matrimonial/groom/SMM1498708/Hindu/Sonar/Anankar\n",
        "Well i need understandable, caring , sensible partner and always walks beside me as my best friend. she respect the value of relationship with everyone. i like to have"
       ]
      },
      {
       "output_type": "stream",
       "stream": "stdout",
       "text": [
        "\n",
        "1231"
       ]
      },
      {
       "output_type": "stream",
       "stream": "stdout",
       "text": [
        " http://www.simplymarry.com/matrimonial/groom/SMM1525544/Hindu/Koshti/Pravin\n",
        "Hi, this is prajwal, a civil engineer by profession and working as a Manager-Tech in PSU BANK in Chennai. I like reading fiction novels, watching old classical movies, songs, hanging out with friends; Seek a life partner, preferably engineer, Architect, BSC, MSC or software professional; down to earth nature and having good family background."
       ]
      },
      {
       "output_type": "stream",
       "stream": "stdout",
       "text": [
        "\n",
        "1232"
       ]
      },
      {
       "output_type": "stream",
       "stream": "stdout",
       "text": [
        " http://www.simplymarry.com/matrimonial/groom/SMM1388674/Hindu/Sonar/Abhijit-Parwatkar\n",
        "Simple life, always try to find out new ways to live better life. I like to spend some time with my family and like to read different books to gain knowledge about current scenario."
       ]
      },
      {
       "output_type": "stream",
       "stream": "stdout",
       "text": [
        "\n",
        "1233"
       ]
      },
      {
       "output_type": "stream",
       "stream": "stdout",
       "text": [
        " http://www.simplymarry.com/matrimonial/groom/SMM1609415/Hindu/Matang/Trushitkumar-Madhavrao-Bavdhankar\n",
        "Hi, I have done B.Sc., B.Ed and am working in Irrigation department as a Senior Clerk. I am preparing for competitive exams. I am from middle class family having my father who is a retired teacher and mother is also retired Z.P.Servant."
       ]
      },
      {
       "output_type": "stream",
       "stream": "stdout",
       "text": [
        "\n",
        "1234"
       ]
      },
      {
       "output_type": "stream",
       "stream": "stdout",
       "text": [
        " http://www.simplymarry.com/matrimonial/groom/shmm1364243/Hindu/Shimpi/Deepk-Uv\n",
        "I am a smart goor looking and ambitious guy. Loving and caring person this is what other say about me. I am a very confident, good -looking, jovial, talkative boy. I am a very positive person and love to take everything in my stride as it comes. I am a hare worker and definitely justity my professionalism when required. But on the other hand. I also strike a personal and professional life."
       ]
      },
      {
       "output_type": "stream",
       "stream": "stdout",
       "text": [
        "\n",
        "1235"
       ]
      },
      {
       "output_type": "stream",
       "stream": "stdout",
       "text": [
        " http://www.simplymarry.com/matrimonial/groom/SMM1609798/Hindu/Scheduled-Caste/Aryan\n",
        "A modern well educated person, with very high moral values. Likes to travel and visit new places, likes to play musical instruments,running own venture for IT training and software development. A very co operative and interesting person."
       ]
      },
      {
       "output_type": "stream",
       "stream": "stdout",
       "text": [
        "\n",
        "1236"
       ]
      },
      {
       "output_type": "stream",
       "stream": "stdout",
       "text": [
        " http://www.simplymarry.com/matrimonial/groom/SMM1528963/Hindu/Suthar/Samrat-Suryawanshi\n",
        "I am 31 , Unmarried ,Hindu living in Nashik , Maharashtra , india Working for MSM Discovery with distributor , M. A. History appear from university of pune, &amp; certificate course in computer hardware from GOVT. I. T. I."
       ]
      },
      {
       "output_type": "stream",
       "stream": "stdout",
       "text": [
        "\n",
        "1237"
       ]
      },
      {
       "output_type": "stream",
       "stream": "stdout",
       "text": [
        " http://www.simplymarry.com/matrimonial/groom/SMM1477102/Hindu/Rahul\n",
        "I am a fun loving, down to earth; looking for a caring person. I believe in enjoying life as life is too short so it should be enjoyed."
       ]
      },
      {
       "output_type": "stream",
       "stream": "stdout",
       "text": [
        "\n",
        "1238"
       ]
      },
      {
       "output_type": "stream",
       "stream": "stdout",
       "text": [
        " http://www.simplymarry.com/matrimonial/groom/SMM1395715/Hindu/Kunbi/Y\n",
        "looking for wife.. ."
       ]
      },
      {
       "output_type": "stream",
       "stream": "stdout",
       "text": [
        "\n",
        "1239"
       ]
      },
      {
       "output_type": "stream",
       "stream": "stdout",
       "text": [
        " http://www.simplymarry.com/matrimonial/groom/SMM1394402/Hindu/Maratha/Santhip-Balakrishnan-Pol\n",
        "Hi, myself Santhip Balkrishna pol, i am a software tester by profession, did my schooling &amp; college from Tamil Nadu. My native place in Karve, Vita Sangli, my mom's home town is Visapur or Tasgaon."
       ]
      },
      {
       "output_type": "stream",
       "stream": "stdout",
       "text": [
        "\n",
        "1240"
       ]
      },
      {
       "output_type": "stream",
       "stream": "stdout",
       "text": [
        " http://www.simplymarry.com/matrimonial/groom/SMM1467188/Buddhist/Dhananjay-Dani\n",
        "Hi, I'm a highly ambitious person with loads of with positive attitude. I am hard working, but not impatient. People also\n",
        "say I am broad-minded, which I think means, being liberal in thinking. I am a go-getter, and compromise is one thing, not for me."
       ]
      },
      {
       "output_type": "stream",
       "stream": "stdout",
       "text": [
        "\n",
        "1241"
       ]
      },
      {
       "output_type": "stream",
       "stream": "stdout",
       "text": [
        " http://www.simplymarry.com/matrimonial/groom/punm1383883/Hindu/Shimpi/Mahesh-Khairnar\n",
        "Hi, I am a software engineer currently working at a Pune based MNC. I believe in simple leaving and high thinking. Looking for a life partner, who believe in the same."
       ]
      },
      {
       "output_type": "stream",
       "stream": "stdout",
       "text": [
        "\n",
        "1242"
       ]
      },
      {
       "output_type": "stream",
       "stream": "stdout",
       "text": [
        " http://www.simplymarry.com/matrimonial/groom/SMM1552310/Christian/Protestant/Mangesh-Lavhale\n",
        "I am god fearing, came from a well educated family."
       ]
      },
      {
       "output_type": "stream",
       "stream": "stdout",
       "text": [
        "\n",
        "1243"
       ]
      },
      {
       "output_type": "stream",
       "stream": "stdout",
       "text": [
        " http://www.simplymarry.com/matrimonial/groom/SMM1428163/Hindu/Maratha/Arun-Chavhan\n",
        "Am arun, have simple personality. have my own business. I want a simple girl."
       ]
      },
      {
       "output_type": "stream",
       "stream": "stdout",
       "text": [
        "\n",
        "1244"
       ]
      },
      {
       "output_type": "stream",
       "stream": "stdout",
       "text": [
        " http://www.simplymarry.com/matrimonial/groom/SMM1442900/Hindu/Maratha/Ranjeet-Jagadale\n",
        "I am very friendly and understanding person, take things lightly and have a very cool attitude. I am from Goa and my parents stay in Goa. I am working as Assistant Professor in Medical college,. I would expect my partner to be pretty and understanding."
       ]
      },
      {
       "output_type": "stream",
       "stream": "stdout",
       "text": [
        "\n",
        "1245"
       ]
      },
      {
       "output_type": "stream",
       "stream": "stdout",
       "text": [
        " http://www.simplymarry.com/matrimonial/groom/SMM1527446/Hindu/Bhavasar-Kshatriya/Sudheendra\n",
        "I am Simple, Down to earth, Professionally settled very much ambitious to soar high, god fearing, loving and lovable person from a cultured family. I am a non smoker, non alcoholic and enjoys parties with friends with soft drinks, like Indian food very much and a very family oriented."
       ]
      },
      {
       "output_type": "stream",
       "stream": "stdout",
       "text": [
        "\n",
        "1246"
       ]
      },
      {
       "output_type": "stream",
       "stream": "stdout",
       "text": [
        " http://www.simplymarry.com/matrimonial/groom/SMM1403729/Hindu/Maratha/Atul-Chavan\n",
        "Hi, i am a divorcee with 7 years old son. Own a house in Pune city, Maratha. I am a simple and a positive thinking person and loving."
       ]
      },
      {
       "output_type": "stream",
       "stream": "stdout",
       "text": [
        "\n",
        "1247"
       ]
      },
      {
       "output_type": "stream",
       "stream": "stdout",
       "text": [
        " http://www.simplymarry.com/matrimonial/groom/SMM1552004/Hindu/Maratha/Pankaj-Pravin-Fulzade\n",
        "I am very friendly and hard working person. Like playing cricket. I am a Police officer in Central Govt."
       ]
      },
      {
       "output_type": "stream",
       "stream": "stdout",
       "text": [
        "\n",
        "1248"
       ]
      },
      {
       "output_type": "stream",
       "stream": "stdout",
       "text": [
        " http://www.simplymarry.com/matrimonial/groom/nagm1368094/Buddhist/Shailesh-Last-name\n",
        "A very simple boy, but give more importance to truthfulness.i believe in spending short but satisfactory life instead of long unvaluable life.Always help others &amp; never hurt anyone by any way.Also always think of others happiness.."
       ]
      },
      {
       "output_type": "stream",
       "stream": "stdout",
       "text": [
        "\n",
        "1249"
       ]
      },
      {
       "output_type": "stream",
       "stream": "stdout",
       "text": [
        " http://www.simplymarry.com/matrimonial/groom/mumm1379160/Buddhist/Anand-Pawar\n",
        "I am fair,well educated,broad minded guy. I belive in slow n steady but progress in life always..I am not much talkative but i love to open my heart to close ones."
       ]
      },
      {
       "output_type": "stream",
       "stream": "stdout",
       "text": [
        "\n",
        "1250"
       ]
      },
      {
       "output_type": "stream",
       "stream": "stdout",
       "text": [
        " http://www.simplymarry.com/matrimonial/groom/SMM1394961/Buddhist/Anand-Laxman-More\n",
        "I am free minded and very frank with every one and i am working as an cameraman for 4 years. Also trying in Marathi Industry as an actor and a cameraman. I am also doing act in drama and teatars."
       ]
      },
      {
       "output_type": "stream",
       "stream": "stdout",
       "text": [
        "\n",
        "1251"
       ]
      },
      {
       "output_type": "stream",
       "stream": "stdout",
       "text": [
        " http://www.simplymarry.com/matrimonial/groom/punm1361493/Hindu/Kumbhar/Sagar-Gaikwad\n",
        "I'm a simple person who likes to live life to the fullest. I like watching movies, shopping, long drives and of course going out on weekends. I'm not well settled yet, but working hard for the same. I work as system admin. for IBM. I do night shift and completely different life than what we normally live. I smoke, but drink socially."
       ]
      },
      {
       "output_type": "stream",
       "stream": "stdout",
       "text": [
        "\n",
        "1252"
       ]
      },
      {
       "output_type": "stream",
       "stream": "stdout",
       "text": [
        " http://www.simplymarry.com/matrimonial/groom/SMM1396649/Hindu/Chambhar/Rahul-Wanare\n",
        "Hello.. Thanks for visiting my profile.. Like everyone else around here I am looking for a life partner who is committed, loyal, caring etc etc.. I dont think she has to be perfect.. only perfect for me :)... I am a simple, independent and confident man.. who believes in family values at heart but has adapted to the modern aspects of this changing world.. and i am working as design &amp; planning manager in EFC Projects Ltd at Navi Mumbai. I love adventures game, travelling, architecture, experiencing new cultures and most of all learning new things &amp; making friends :P Well if you still wanna know more.. come say hi :)....."
       ]
      },
      {
       "output_type": "stream",
       "stream": "stdout",
       "text": [
        "\n",
        "1253"
       ]
      },
      {
       "output_type": "stream",
       "stream": "stdout",
       "text": [
        " http://www.simplymarry.com/matrimonial/groom/SMM1538781/Hindu/Brahmin---Goswami/Gosavi/Satish-Rajendra-Gosavi\n",
        "I am Satish gosavi. I have completed my MBA in Marketing and currently I am working as a Banking Professional in highly reputed private sector bank. Values: Indian Culture. Motto in life: Live Happy. Hobbies: spend life with friends and family. Favorite sports: cricket and football. Views on marriage: It's made in heaven and which build a strong relationship between two families and there values."
       ]
      },
      {
       "output_type": "stream",
       "stream": "stdout",
       "text": [
        "\n",
        "1254"
       ]
      },
      {
       "output_type": "stream",
       "stream": "stdout",
       "text": [
        " http://www.simplymarry.com/matrimonial/groom/SMM1517333/Hindu/Mali/Gajanan-Mehare\n",
        "We are seeking a suitable alliance for our son. We are looking for a suitable bride from the same caste. Gajanan is a smart, simple, caring yet strong headed individual. He has completed his M. pharm in pharmaceutics and is currently working in a pharmaceutical company (DRL) at Hyderabad as Jr. Manager. Simultaneously, he is pursuing a doctorate in pharmacy."
       ]
      },
      {
       "output_type": "stream",
       "stream": "stdout",
       "text": [
        "\n",
        "1255"
       ]
      },
      {
       "output_type": "stream",
       "stream": "stdout",
       "text": [
        " http://www.simplymarry.com/matrimonial/groom/SMM1405906/Hindu/Maratha/Ravikant-Shivajirao-Ghodke\n",
        "Hi, I am Ravikant. I am so caring, emotional, mature, understanding, fun loving &amp; hardworking (smart way) boy. work is worship for me. My family is my first priority. I am a good artist. I like books, traveling, songs, adventure, &amp; I LIKE TO FACE EVERY SECOND NEW CHALLENGES IN MY LIFE."
       ]
      },
      {
       "output_type": "stream",
       "stream": "stdout",
       "text": [
        "\n",
        "1256"
       ]
      },
      {
       "output_type": "stream",
       "stream": "stdout",
       "text": [
        " http://www.simplymarry.com/matrimonial/groom/SMM1417734/Buddhist/Prashant-Tayade\n",
        "Hi, myself prashant and i am living in Nagpur, i have completed my b.com i do my work very confidently. I am very simple and honest person, i am very innocent person and i love my parents very much and we all are helpful people."
       ]
      },
      {
       "output_type": "stream",
       "stream": "stdout",
       "text": [
        "\n",
        "1257"
       ]
      },
      {
       "output_type": "stream",
       "stream": "stdout",
       "text": [
        " http://www.simplymarry.com/matrimonial/groom/SMM1492258/Hindu/CKP/Mahesh\n",
        "I am an electronics engineer working as a project leader (IT) in a reputed MNC; looking for a life partner who is mature, intelligent and independent. My family values were always liberal to enjoy life and just perfect to be on the right track. We have open communication among us. I want my life partner to be of same thinking, so that she can blend in easily making life more happy."
       ]
      },
      {
       "output_type": "stream",
       "stream": "stdout",
       "text": [
        "\n",
        "1258"
       ]
      },
      {
       "output_type": "stream",
       "stream": "stdout",
       "text": [
        " http://www.simplymarry.com/matrimonial/groom/punm1361132/Hindu/Maratha/Abhay-Nimbalkar\n",
        "Well! Let me see how I can fill this space without being too petty &amp; blowing my own trumpet. I am a fun loving, easy going,open minded, individual ,having a cheerful nature &amp; a pleasant disposition,a positive thinker who always sees the brighter side of life.Am confident with a strong sense of courage,conviction &amp; will power.Good, work life balance.Keep fit &amp; have a healthy lifestyle.Mix well socially &amp; take pride in my profession.I am Presently sailing as a Captain &amp; have traveled all over the world.I like people who are confident &amp; goal oriented.I am a health freak &amp; like to maintain a good physique.I have a passion for sports, I play all racket sports, presently indulging myself at Golf and Yoga. I have a very simple &amp; candid approach towards life.I hate lies &amp; believe your up bringing really accounts for your behavior &amp; thought process.I have gone through a bad patch because of compatibility, but have emerged a stronger person.My parents are the two strong pillars on whom I can lean through thick &amp; thin.I come from an educated nuclear family which consists of,,,Father(a senior Defense Officer, Brigadier in the Indian Army ),mother(B.Sc,B.Lib,Bed),&amp; Me.Some people have misconceptions of Merchant Navy &amp; sailing.I sail for six weeks at one time &amp; have six weeks off thereafter, as leave."
       ]
      },
      {
       "output_type": "stream",
       "stream": "stdout",
       "text": [
        "\n",
        "1259"
       ]
      },
      {
       "output_type": "stream",
       "stream": "stdout",
       "text": [
        " http://www.simplymarry.com/matrimonial/groom/SMM1603332/Hindu/Bhandari/Sachin-Shirwadkar\n",
        "I AM A SIMPLE BOY, LIVING WITH MY MOTHER AND BROTHER. AM WORKING IN CENTRAL GOVT AS A SECURITY GUARD FOR LAST 2 YRS."
       ]
      },
      {
       "output_type": "stream",
       "stream": "stdout",
       "text": [
        "\n",
        "1260"
       ]
      },
      {
       "output_type": "stream",
       "stream": "stdout",
       "text": [
        " http://www.simplymarry.com/matrimonial/groom/SMM1531901/Hindu/Maratha/Dr-Vijay-Kautik\n",
        "Hello,I am Dr vijay Deore(Ph.9221462378) from mumbai.I am from middle class family,originally from Nashik.Currently I have completed my PG-Msc Pharmaceautical Medicine from KEM Hospital,Mumbai after BAMS &amp; joined a job in Ayuevedic pharma company at Andheri.Also side by side runs own Clinic at Navi Mumbai.I am looking for my life partner having simple,loving personality,intelligent,caring for family values, mutual understanding nature,inspiring and support me in my important decisions,having qualification BAMS/BHMS/B pharmacy /Bsc in biological subjects preferred"
       ]
      },
      {
       "output_type": "stream",
       "stream": "stdout",
       "text": [
        "\n",
        "1261"
       ]
      },
      {
       "output_type": "stream",
       "stream": "stdout",
       "text": [
        " http://www.simplymarry.com/matrimonial/groom/SMM1396528/Hindu/Brahmin/Shyam-Ramakant-Takalkar\n",
        "Hi, i am cool kind of person having very smart in look. I am understanding, caring &amp; respective in nature. looking positive attitudes beautiful girl belongs from anywhere from India. Now i am living in Pune."
       ]
      },
      {
       "output_type": "stream",
       "stream": "stdout",
       "text": [
        "\n",
        "1262"
       ]
      },
      {
       "output_type": "stream",
       "stream": "stdout",
       "text": [
        " http://www.simplymarry.com/matrimonial/groom/mumm1363693/Hindu/Maratha/Nitesh-Ghadge\n",
        "Hi this is Nitesh, belong from a very good &amp; decent family. I appreciate the values of Hinduism but consider myself spiritual more than religious. Belonging to a closely\n",
        "knit family I give due importance to my parents decisions."
       ]
      },
      {
       "output_type": "stream",
       "stream": "stdout",
       "text": [
        "\n",
        "1263"
       ]
      },
      {
       "output_type": "stream",
       "stream": "stdout",
       "text": [
        " http://www.simplymarry.com/matrimonial/groom/SMM1421439/Hindu/Maratha/Ramesh-Purushottam-Dharne\n",
        "I am Born and brought-up in Mumbai, watching movies and playing cricket, roaming on weekend with friends, making new friends, convent educated, caring in nature, listening to music, like to spent time with my loved ones."
       ]
      },
      {
       "output_type": "stream",
       "stream": "stdout",
       "text": [
        "\n",
        "1264"
       ]
      },
      {
       "output_type": "stream",
       "stream": "stdout",
       "text": [
        " http://www.simplymarry.com/matrimonial/groom/SMM1529998/Hindu/Kshatriya/Pankaj-Dikholkar\n",
        "Witty, artistic, intelligent, hardworking, jovial and a person with attention to detail is what describes me. I believe in taking care of small things in life, if they are taken care of, larger ones fall in place. I like enjoying life, at the same time, have a life that is well planned and thought of. Traveling, Art &amp; Photography are what I'm passionate about. Have traveled wide enough, but believe strongly in basic Indian values &amp; culture.\n",
        "I like to socialise a lot and have friends across ages &amp; geographies. Like to keep myself fit and healthy i spend atleast 4 days/week in gym. Participate in StanChart Marathon every year...Ran 21 KMs in 2 hr 33 mins . its an achievement.\n",
        "Love travel and nature - treks in hilly mountain range and specially during rainy seasons are my favorite.\n",
        "Looking for an alliance with basic intelligence, common sense and most importantly, sense of humor. A person who is fairly outgoing, at the same time respects family values/traditions and believes in the cultural roots."
       ]
      },
      {
       "output_type": "stream",
       "stream": "stdout",
       "text": [
        "\n",
        "1265"
       ]
      },
      {
       "output_type": "stream",
       "stream": "stdout",
       "text": [
        " http://www.simplymarry.com/matrimonial/groom/SMM1547275/Hindu/Dhobi/Avdhut-P.-Raut\n",
        "I am responsible, well educated, well settled, with good family background, ambitious, caring and loving. Have positive and practical approach towards life, never give up, independent and workaholic, confident and helping."
       ]
      },
      {
       "output_type": "stream",
       "stream": "stdout",
       "text": [
        "\n",
        "1266"
       ]
      },
      {
       "output_type": "stream",
       "stream": "stdout",
       "text": [
        " http://www.simplymarry.com/matrimonial/groom/SMM1531482/Hindu/Maratha/Rahul\n",
        "I am Rahul from junnar dist Pune."
       ]
      },
      {
       "output_type": "stream",
       "stream": "stdout",
       "text": [
        "\n",
        "1267"
       ]
      },
      {
       "output_type": "stream",
       "stream": "stdout",
       "text": [
        " http://www.simplymarry.com/matrimonial/groom/punm1380609/Hindu/Maratha/Rajendra-Dhuri\n",
        "I am Rajendra from Pune (cultural) city. I am working with India's largest automobile company TATA MOTORS from last twenty years. Dislike fake and lairs."
       ]
      },
      {
       "output_type": "stream",
       "stream": "stdout",
       "text": [
        "\n",
        "1268"
       ]
      },
      {
       "output_type": "stream",
       "stream": "stdout",
       "text": [
        " http://www.simplymarry.com/matrimonial/groom/SMM1507749/Hindu/Bhandari/Ashwin-Vengurlekar\n",
        "Hi my self Ashwin vengurlekar, working one on top most MNS in India, I am looking for decent and good looking groom who will understand me and adjust me with my parents, should be good qualified and employed."
       ]
      },
      {
       "output_type": "stream",
       "stream": "stdout",
       "text": [
        "\n",
        "1269"
       ]
      },
      {
       "output_type": "stream",
       "stream": "stdout",
       "text": [
        " http://www.simplymarry.com/matrimonial/groom/mumm1360174/Hindu/Maratha/Sunil-K.-Patil\n",
        "Thank you for viewing my profile . I am 96K Deshast maratha B.E Mech, Smart, unaddicted, unfortunately divorced. Now I am looking for suitable match for happy life. I am free from any habit hence healthy, frank and loving nature. Athhannav Bavis Akahattar Aksast Bya-anshi . About myself, for last twelve year, I am permanently working in Govt. service as a 'Quality Control Engineer? in Inspection Section in Mumbai. Besides I having my own residence 1 BHK flat in Mumbai and I in karad too. Rest will be discuss on actual meeting. If you find me suitable for you then please response immediately so that there is easy way to decide further process. Mutual adjustment most essential and can help to start life very immediately. Hoping your early reply. Bye"
       ]
      },
      {
       "output_type": "stream",
       "stream": "stdout",
       "text": [
        "\n",
        "1270"
       ]
      },
      {
       "output_type": "stream",
       "stream": "stdout",
       "text": [
        " http://www.simplymarry.com/matrimonial/groom/SMM1498427/Hindu/Vaishya-Vani/Dr-Deshmukh-Sacheen\n",
        "HI, MYSELF DR. DESHMUKH SACHEEN TRYAMBAKRAO COMPLETED MBBS FROM GOVERNMENT MEDICAL COLLEGE AURANGABAD, REGISTERED WITH MEDICAL COUNCIL OF INDIA.\n",
        "CURRENTLY DOING DCH UNDER CPS MUMBAI IN BHATTAD HOSPITAL, LATUR."
       ]
      },
      {
       "output_type": "stream",
       "stream": "stdout",
       "text": [
        "\n",
        "1271"
       ]
      },
      {
       "output_type": "stream",
       "stream": "stdout",
       "text": [
        " http://www.simplymarry.com/matrimonial/groom/SMM1613282/Hindu/Brahmin/Manoj-Marathe\n",
        "I am an engineer by profession. A consultant and an entrepreneur in manufacturing field. Simple, down to earth with interest in sports and traveling. I do social works as duty for needy people that give me satisfaction."
       ]
      },
      {
       "output_type": "stream",
       "stream": "stdout",
       "text": [
        "\n",
        "1272"
       ]
      },
      {
       "output_type": "stream",
       "stream": "stdout",
       "text": [
        " http://www.simplymarry.com/matrimonial/groom/SMM1594078/Hindu/Maratha/Vishwa-Pawar\n",
        "Confident, vagabond and responsible person. Also hardworking and sensible, loves to be and make others happy."
       ]
      },
      {
       "output_type": "stream",
       "stream": "stdout",
       "text": [
        "\n",
        "1273"
       ]
      },
      {
       "output_type": "stream",
       "stream": "stdout",
       "text": [
        " http://www.simplymarry.com/matrimonial/groom/SMM1589586/Hindu/Hindu-Others/Sagar\n",
        "We are living in a nuclear family. Sagar has two younger brothers, both are pursuing engineering. Myself, working in a nationalized bank and my wife is a house maker. We are looking for an educated and well mannered bride for our son."
       ]
      },
      {
       "output_type": "stream",
       "stream": "stdout",
       "text": [
        "\n",
        "1274"
       ]
      },
      {
       "output_type": "stream",
       "stream": "stdout",
       "text": [
        " http://www.simplymarry.com/matrimonial/groom/SMM1543844/Hindu/Brahmin/Mayuresh-Kusurkar\n",
        "I dont know how am I gonna ans this 'about me' without being a stereotype. So tell me,how wud u ans this question? a part of this is u gotta 'praise' urself, ... i guess if u r really good, u never like to do that !! some part is of cliches like 'down to earth', 'humble', kind, caring &amp; such shitty words..... which only means 'fill in the gaps'.... Some people wudnt like my words but hey its better to speak ur mind... Anyway, so I like eng movies, eng serials, read some novels, sometimes I m workoholic..... recently I have started liking trekking...... I would be interested to talk with u if u too like to speak ur mind..... Thank u for visiting my profile &amp; those people who mind reading this..I wud say 'Get urself a boring guy'... I m sorry but I hate to write cliches."
       ]
      },
      {
       "output_type": "stream",
       "stream": "stdout",
       "text": [
        "\n",
        "1275"
       ]
      },
      {
       "output_type": "stream",
       "stream": "stdout",
       "text": [
        " http://www.simplymarry.com/matrimonial/groom/SMM1511164/Hindu/Mali/Rajesh-Damodar-Vidhate\n",
        "I am down to earth person, my nature is devotional but I believe in hard work. I like trvelling, and visiting to new places. I have 2 brother's N 2 sister's. I am friendly person, I always respect elders."
       ]
      },
      {
       "output_type": "stream",
       "stream": "stdout",
       "text": [
        "\n",
        "1276"
       ]
      },
      {
       "output_type": "stream",
       "stream": "stdout",
       "text": [
        " http://www.simplymarry.com/matrimonial/groom/SMM1450074/Hindu/Maharashtrian/Sachin-Dumbre\n",
        "Name: SACHIN MANOHAR DUMBRE. i am Chartered Accountant (CA) and Company Secretary (CS)."
       ]
      },
      {
       "output_type": "stream",
       "stream": "stdout",
       "text": [
        "\n",
        "1277"
       ]
      },
      {
       "output_type": "stream",
       "stream": "stdout",
       "text": [
        " http://www.simplymarry.com/matrimonial/groom/SMM1398283/Hindu/Mali/Sandeep-Shelar\n",
        "Hi, I am Sandeep.I am the person who loves the soil,so always like to be on the Earth. I like to contribute to social services without compromising with the personal life. Being the Chemical Engineer how i turned in to the poet just 2 year back and on the verge to publish the poem book, i still wondering. I believe that, individuals life is very precious gift of god, ups-downs in it are intentionally managed by supreme to make us strong &amp; test life. I have respect towards every living entity on this planet &amp; always try to keep everyone happy &amp; comfortable which are on the periphery of my life circle. Personal and family life, goals &amp; responsibilities will be always in first priority in my life &amp; so looking for soul-mate who's attitude towards life is similar or having better than this."
       ]
      },
      {
       "output_type": "stream",
       "stream": "stdout",
       "text": [
        "\n",
        "1278"
       ]
      },
      {
       "output_type": "stream",
       "stream": "stdout",
       "text": [
        " http://www.simplymarry.com/matrimonial/groom/SMM1545205/Hindu/Bhavasar-Kshatriya/Rajendran-M\n",
        "Done my MBA, PGDHRM and BBA (all in regular) and having 6yrs exp in Sales and marketing. After doing my SAP Certification i joined with TVS Infotech LTD, Chennai (TVS Group Company). I am a fun loving person and always like to have people around me."
       ]
      },
      {
       "output_type": "stream",
       "stream": "stdout",
       "text": [
        "\n",
        "1279"
       ]
      },
      {
       "output_type": "stream",
       "stream": "stdout",
       "text": [
        " http://www.simplymarry.com/matrimonial/groom/SMM1487430/Hindu/Swakula-Sali/Srikanth-Krishna-Kamble\n",
        "Hi, I am currently working as a IT Analyst in a MNC at PUNE. I am into Software Profession from July' 2007. First 4 years I was in Hyderabad and now in Pune from Aug-2011. B.Tech (ECE-2007 Passed out)."
       ]
      },
      {
       "output_type": "stream",
       "stream": "stdout",
       "text": [
        "\n",
        "1280"
       ]
      },
      {
       "output_type": "stream",
       "stream": "stdout",
       "text": [
        " http://www.simplymarry.com/matrimonial/groom/punm1371694/Hindu/Mali/Aditya-Borawake\n",
        "We are looking for a well educated, good looking, sincere girl for Aditya. He has completed B.Sc (Horti) &amp; MBA (both in Pune). He is currently working as an Export Manager in a private company (Pune)."
       ]
      },
      {
       "output_type": "stream",
       "stream": "stdout",
       "text": [
        "\n",
        "1281"
       ]
      },
      {
       "output_type": "stream",
       "stream": "stdout",
       "text": [
        " http://www.simplymarry.com/matrimonial/groom/SMM1458008/Hindu/Brahmin/Aditya\n",
        "i am honest, and straight forward person."
       ]
      },
      {
       "output_type": "stream",
       "stream": "stdout",
       "text": [
        "\n",
        "1282"
       ]
      },
      {
       "output_type": "stream",
       "stream": "stdout",
       "text": [
        " http://www.simplymarry.com/matrimonial/groom/SMM1613136/Hindu/Rohini-Sharma\n",
        "I am from a liberal family. My father is retired and my mother is a homemaker. I am looking for a homely nature and a caring life partner. I love making friends, partying and sleeping. Also like reading novels."
       ]
      },
      {
       "output_type": "stream",
       "stream": "stdout",
       "text": [
        "\n",
        "1283"
       ]
      },
      {
       "output_type": "stream",
       "stream": "stdout",
       "text": [
        " http://www.simplymarry.com/matrimonial/groom/SMM1394616/Hindu/Brahmin---Kokanastha/Ankush-Prakash-Apte\n",
        "Hi, i am Ankush, Passed Diploma in Printing Technology &amp; Diploma in Print Administration &amp; Management from Pune University. Now i am running our family commercial Offset Printing Press at our own premises at Sangli with my loving father."
       ]
      },
      {
       "output_type": "stream",
       "stream": "stdout",
       "text": [
        "\n",
        "1284"
       ]
      },
      {
       "output_type": "stream",
       "stream": "stdout",
       "text": [
        " http://www.simplymarry.com/matrimonial/groom/SMM1522291/Muslim/Sunni/Shaikh-Shamshouddin-Yunus\n",
        "1285"
       ]
      },
      {
       "output_type": "stream",
       "stream": "stdout",
       "text": [
        " http://www.simplymarry.com/matrimonial/groom/punm1363943/Hindu/Brahmin/Akshay-Ghalsasi\n",
        "I am a friendly, fun loving and jovial person and enjoy the company of like-minded people. I believe in simplicity and appreciate things which are conveyed in most natural manner. I would also like to describe myself as a kind, considerate and responsible person who can take good care of my family. I inhabit values of modern times, along with cultural &amp; traditional values of my family. My Philosophy of life is to live each moment to its fullest. Like to spend my free time watching movies, television shows, Marathi stage plays. I am also fond of reading literature, novels: Sidney Sheldon, Mario puzo, Agatha christhie, being some of my favorite authors. I spend a good amount of time listening music. I am blessed with a huge friend circle and love to spend my spare time with closed ones. I am a share broker by profession, having my own office in Pune, we indulge in managing equity, commodity, and derivative portfolios for our clients, assisting them to trade in the stock market through fundamental research and technical analysis tools."
       ]
      },
      {
       "output_type": "stream",
       "stream": "stdout",
       "text": [
        "\n",
        "1286"
       ]
      },
      {
       "output_type": "stream",
       "stream": "stdout",
       "text": [
        " http://www.simplymarry.com/matrimonial/groom/punm1366867/Hindu/Brahmin/Amol-Prayag\n",
        "I like traveling, water sports. i am straight forward &amp; fun loving guy. i have done mechanical engineering &amp; afterwards i have done MBA from symbiosis international university. I use to travel to Europe once in a year for work assignment."
       ]
      },
      {
       "output_type": "stream",
       "stream": "stdout",
       "text": [
        "\n",
        "1287"
       ]
      },
      {
       "output_type": "stream",
       "stream": "stdout",
       "text": [
        " http://www.simplymarry.com/matrimonial/groom/SMM1584089/Hindu/Kasar/Yogendra-Mashete\n",
        "My son Yogendra Suresh Mashete is Software Engineer and has earned degree in Masters in Computer Science from USA. Also has worked in Chicago for one year, now he is working in India in Mumbai at goregaon IT park. He is a simple guy, ambitious and believing in family values. We are searching for someone belonging to my caste (twasta kasar), she should be Bachelor in Engineering, working as Lecturer/Teacher/Professor in College."
       ]
      },
      {
       "output_type": "stream",
       "stream": "stdout",
       "text": [
        "\n",
        "1288"
       ]
      },
      {
       "output_type": "stream",
       "stream": "stdout",
       "text": [
        " http://www.simplymarry.com/matrimonial/groom/SMM1525850/Hindu/Brahmin/Mahesh-Kagawade\n",
        "Hi I am Electronics engineer from Shivaji University and working as senior Quality Control engineer with MNC. I am simple modern.Hi I am Electronics engineer from Shivaji University and working as senior Quality Control engineer with MNC. I am simple modern."
       ]
      },
      {
       "output_type": "stream",
       "stream": "stdout",
       "text": [
        "\n",
        "1289"
       ]
      },
      {
       "output_type": "stream",
       "stream": "stdout",
       "text": [
        " http://www.simplymarry.com/matrimonial/groom/SMM1482450/Hindu/Maratha/Abhijeet-Sake\n",
        "I am simple, hard working man, i m staying in own flat in badlapur, i have only father but staying in village. i want a simple and helping partner. i want a working bride."
       ]
      },
      {
       "output_type": "stream",
       "stream": "stdout",
       "text": [
        "\n",
        "1290"
       ]
      },
      {
       "output_type": "stream",
       "stream": "stdout",
       "text": [
        " http://www.simplymarry.com/matrimonial/groom/SMM1463447/Buddhist/Manish-Thool\n",
        "I AM VERY FRIENDLY BY NATURE. I AM A POET. I WANT A WIFE WHO UNDERSTAND ME AND UNDERSTAND MY FEELINGS ALSO AND I THINK I AM A VERY NICE PERSON."
       ]
      },
      {
       "output_type": "stream",
       "stream": "stdout",
       "text": [
        "\n",
        "1291"
       ]
      },
      {
       "output_type": "stream",
       "stream": "stdout",
       "text": [
        " http://www.simplymarry.com/matrimonial/groom/SMM1585058/Hindu/Teli/Dr.-Mukesh-Haribhau\n",
        "I am from middle class family. My father is Naib Tahasildar at Bhandara and mother is housewife. I have one sister who is married. I have completed MBBS from GMC Yavatmal. Then DNB Family Medicine from MGIMS Sevagram. I have also done diploma in geriatric medicine. Now i am working at district hospital Bhandara and started my own clinic at Bhandara. I am looking for a simple girl from the same profession who can understand me and will be a friend rather than wife."
       ]
      },
      {
       "output_type": "stream",
       "stream": "stdout",
       "text": [
        "\n",
        "1292"
       ]
      },
      {
       "output_type": "stream",
       "stream": "stdout",
       "text": [
        " http://www.simplymarry.com/matrimonial/groom/SMM1584875/Buddhist/Sachin-Khanduji-Tajane\n",
        "I am cool engineer living in Pune. I started my own Design &amp; Manufacturing company from 2010 in partnership. I am taking care of Design &amp; proposal department. Before that i was working in private company for 5 years as design manager. Myself, mom &amp; dad are living in Pune. 1 brother &amp; his better half are in mumbai. My native place is Washim (Vidharbh). Now in Pune from 2005."
       ]
      },
      {
       "output_type": "stream",
       "stream": "stdout",
       "text": [
        "\n",
        "1293"
       ]
      },
      {
       "output_type": "stream",
       "stream": "stdout",
       "text": [
        " http://www.simplymarry.com/matrimonial/groom/mumm1372941/Hindu/Brahmin---Deshastha/Shashank-Kulkarni\n",
        "I am a soft spoken, humble, well cultured, well settled, and down to earth kind of person. My parents have instilled the value of respect for elders, and I believe that I can learn something from every human being. I have done BE (E &amp; C) from Karnataka. I have done Networking and security courses from IIHT. I have done certification in CISCO."
       ]
      },
      {
       "output_type": "stream",
       "stream": "stdout",
       "text": [
        "\n",
        "1294"
       ]
      },
      {
       "output_type": "stream",
       "stream": "stdout",
       "text": [
        " http://www.simplymarry.com/matrimonial/groom/SMM1612704/Hindu/Kunbi/Shailesh-Rajaram-Pawar\n",
        "I am a simple boy and am working in private sector as a Software Engineer from last 2 yrs."
       ]
      },
      {
       "output_type": "stream",
       "stream": "stdout",
       "text": [
        "\n",
        "1295"
       ]
      },
      {
       "output_type": "stream",
       "stream": "stdout",
       "text": [
        " http://www.simplymarry.com/matrimonial/groom/SMM1566123/Hindu/CKP/Rajesh-Dighe\n",
        "I am simple, worked as a supervisor in a private firm. I am living with my mother in my owned house in shahapur. I am interested in marrying a simple middle class family girl, who cares for me and who understand my feelings."
       ]
      },
      {
       "output_type": "stream",
       "stream": "stdout",
       "text": [
        "\n",
        "1296"
       ]
      },
      {
       "output_type": "stream",
       "stream": "stdout",
       "text": [
        " http://www.simplymarry.com/matrimonial/groom/SMM1485280/Buddhist/Yogesh-Sonavane\n",
        "I am Simple with High Thinking attitude person. I am Intellectual &amp; Goal Oriented. Love listening to Music &amp; Hanging out with friends. Have good sense of Humor. I am bit Introvert. I have 7 years experience in marketing of Engineering products and i have started my own venture in Ambernath from last 1 1/2 years. I love my family and I am a Family oriented person. Looking for a life partner who has good understanding and will take care of me &amp; my family."
       ]
      },
      {
       "output_type": "stream",
       "stream": "stdout",
       "text": [
        "\n",
        "1297"
       ]
      },
      {
       "output_type": "stream",
       "stream": "stdout",
       "text": [
        " http://www.simplymarry.com/matrimonial/groom/SMM1553425/Buddhist/Meetesh-Pazare\n",
        "Am a civil engineer by profession, living in Pune with my parents and have two brothers (elder is married and younger is in college). Dad is a retired central government employ. I am looking for a decent girl."
       ]
      },
      {
       "output_type": "stream",
       "stream": "stdout",
       "text": [
        "\n",
        "1298"
       ]
      },
      {
       "output_type": "stream",
       "stream": "stdout",
       "text": [
        " http://www.simplymarry.com/matrimonial/groom/SMM1469429/Hindu/Veerashaiva/Mahesh\n",
        "He is good looking, down to earth and caring person by nature. He is well educated and works with one of the good telecom organization. His interests are to travel to new places, listens to music. We are looking for suitable match for him."
       ]
      },
      {
       "output_type": "stream",
       "stream": "stdout",
       "text": [
        "\n",
        "1299"
       ]
      },
      {
       "output_type": "stream",
       "stream": "stdout",
       "text": [
        " http://www.simplymarry.com/matrimonial/groom/kolm1359523/Hindu/Maratha/Pravin-Khot\n",
        "Educated, smart, decent, loving etc. ."
       ]
      },
      {
       "output_type": "stream",
       "stream": "stdout",
       "text": [
        "\n",
        "1300"
       ]
      },
      {
       "output_type": "stream",
       "stream": "stdout",
       "text": [
        " http://www.simplymarry.com/matrimonial/groom/SMM1557624/Hindu/Maratha/Manish-Kadam\n",
        "Hi, I am Manish Kadam, be frank it is very difficult to describe any one in words, but let me try to describe myself. I am honest, talkative, fun loving kind of person. I believe life philosophy is to listen to other person, what he or she is trying to explain, before giving your views to opposite person. I believe in 4S (Safe, Simple, Secure &amp; Straight-forward). I belongs to moderate middle class family."
       ]
      },
      {
       "output_type": "stream",
       "stream": "stdout",
       "text": [
        "\n",
        "1301"
       ]
      },
      {
       "output_type": "stream",
       "stream": "stdout",
       "text": [
        " http://www.simplymarry.com/matrimonial/groom/sngm1383882/Hindu/Maratha/Ramesh-Jadhav\n",
        "Hi my self Ramesh. am well educated, simple, lovable, funny, friendly and respective in nature., am working in bharat udyog ltd(mumbai) company as a senior engineer. am searching very cute,simple, well educated, funny, friendly, respective girl in nature."
       ]
      },
      {
       "output_type": "stream",
       "stream": "stdout",
       "text": [
        "\n",
        "1302"
       ]
      },
      {
       "output_type": "stream",
       "stream": "stdout",
       "text": [
        " http://www.simplymarry.com/matrimonial/groom/SMM1421949/Buddhist/Sangram-Deshmukh\n",
        "Hi, I am Sangram Deshmukh, working as a Branch Manager in ICFAI University, Branch: Panjim (Goa)and seeking a suitable match. My interests includes reading and driving new vehicles. I would like to find someone who is cheerful and shares similar interests."
       ]
      },
      {
       "output_type": "stream",
       "stream": "stdout",
       "text": [
        "\n",
        "1303"
       ]
      },
      {
       "output_type": "stream",
       "stream": "stdout",
       "text": [
        " http://www.simplymarry.com/matrimonial/groom/SMM1597104/Hindu/Kshatriya/Roshan\n",
        "Am a simple guy who believes in living a peaceful life. Looking for someone who believes in togetherness and peace."
       ]
      },
      {
       "output_type": "stream",
       "stream": "stdout",
       "text": [
        "\n",
        "1304"
       ]
      },
      {
       "output_type": "stream",
       "stream": "stdout",
       "text": [
        " http://www.simplymarry.com/matrimonial/groom/SMM1539596/Hindu/Maratha/Ritesh-Chavan\n",
        "I am a calm and loving yet very composed person by nature. I am towards more of practical person but holds on to family values. I like to enjoy the life, I wanna to be active in life, like trekking, sports. I am not much talkative. I am working in IT sector where the work timings are not fixed hence would want a girl who understands this and supports me."
       ]
      },
      {
       "output_type": "stream",
       "stream": "stdout",
       "text": [
        "\n",
        "1305"
       ]
      },
      {
       "output_type": "stream",
       "stream": "stdout",
       "text": [
        " http://www.simplymarry.com/matrimonial/groom/SMM1394578/Hindu/Bhavasar-Kshatriya/Harish\n",
        "MY SELF HARISH, BASICALLY FROM HUBLI KARNATAKA. WORKING FOR A REAL ESTATE COMPANY. I LIKE TO TRAVEL WORLDWIDE."
       ]
      },
      {
       "output_type": "stream",
       "stream": "stdout",
       "text": [
        "\n",
        "1306"
       ]
      },
      {
       "output_type": "stream",
       "stream": "stdout",
       "text": [
        " http://www.simplymarry.com/matrimonial/groom/sngm1374744/Jain/Digambar/Rakesh-Patil\n",
        "I am young, dashing software professional from Pune having pleasant prsonallity. I am very supportive, understandable in nature. Very much passionate about my career. I started my career in Electrical core field but shifted to software field after 1 year. Currently working as Software Developer at Patni Computers.I like to travel to new places and to listen music."
       ]
      },
      {
       "output_type": "stream",
       "stream": "stdout",
       "text": [
        "\n",
        "1307"
       ]
      },
      {
       "output_type": "stream",
       "stream": "stdout",
       "text": [
        " http://www.simplymarry.com/matrimonial/groom/SMM1405414/Buddhist/Ashok\n",
        "Hi, i am Ashok. Presently i am working in a reputed media house. I did my master's in Mass Communication and Journalism from University of Pune. I cleared SET exams twice &amp; want to join academics after completion of PhD. Myself is a creative, down to earth person."
       ]
      },
      {
       "output_type": "stream",
       "stream": "stdout",
       "text": [
        "\n",
        "1308"
       ]
      },
      {
       "output_type": "stream",
       "stream": "stdout",
       "text": [
        " http://www.simplymarry.com/matrimonial/groom/SMM1509662/Buddhist/Deepak\n",
        "I m very simple high thinking person looking for someone who can understand me and my family who can take care my and my family responsibilities and I would like to keep my partner always happy by all her wishes and plans."
       ]
      },
      {
       "output_type": "stream",
       "stream": "stdout",
       "text": [
        "\n",
        "1309"
       ]
      },
      {
       "output_type": "stream",
       "stream": "stdout",
       "text": [
        " http://www.simplymarry.com/matrimonial/groom/SMM1391953/Hindu/Brahmin---Rigvedi/Dhananjay-a.-natu-A.-Natu\n",
        "I am Dhananjay A.Natu, 33 yrs.passed XII and completed 2 yrs.certificate course in Electronics &amp; Electrical. selling food items in my own shop and present income is Rs.30,000/- Parents retired. An elder married brother has his own flat. I expect bride should be X passed or XII passed or BA passed. She should be helpful."
       ]
      },
      {
       "output_type": "stream",
       "stream": "stdout",
       "text": [
        "\n",
        "1310"
       ]
      },
      {
       "output_type": "stream",
       "stream": "stdout",
       "text": [
        " http://www.simplymarry.com/matrimonial/groom/SMM1402183/Hindu/Maratha/Sudhir-Mahadev-Dongare\n",
        "I respect individualism. I am a kind of person who can make anybody comfortable. I love sports: football and cricket. I look towards life with positive attitude and want a life partner who can pull the best out of me."
       ]
      },
      {
       "output_type": "stream",
       "stream": "stdout",
       "text": [
        "\n",
        "1311"
       ]
      },
      {
       "output_type": "stream",
       "stream": "stdout",
       "text": [
        " http://www.simplymarry.com/matrimonial/groom/SMM1468418/Hindu/Maratha/Pankaj-Narmade\n",
        "I am Pankaj Naramade from Ichalkaranji Dist Kolhapur. I am self business man. I have completed my B.com degree from Yashwantrao Mukt Vidyapit, Nashik."
       ]
      },
      {
       "output_type": "stream",
       "stream": "stdout",
       "text": [
        "\n",
        "1312"
       ]
      },
      {
       "output_type": "stream",
       "stream": "stdout",
       "text": [
        " http://www.simplymarry.com/matrimonial/groom/SMM1476149/Hindu/Brahmin---Deshastha/Smm1476149\n",
        "I am from a Nuclear family. My father is retired after working as an Administrative officer 12 yrs. My mother is a homemaker."
       ]
      },
      {
       "output_type": "stream",
       "stream": "stdout",
       "text": [
        "\n",
        "1313"
       ]
      },
      {
       "output_type": "stream",
       "stream": "stdout",
       "text": [
        " http://www.simplymarry.com/matrimonial/groom/nagm1373717/Buddhist/Shodhan-Nagdive\n",
        "M.sc. Genetics, CSIR-NET-2004 (genetics). Diploma in Technique of Molecular Biology. Father and mother expired."
       ]
      },
      {
       "output_type": "stream",
       "stream": "stdout",
       "text": [
        "\n",
        "1314"
       ]
      },
      {
       "output_type": "stream",
       "stream": "stdout",
       "text": [
        " http://www.simplymarry.com/matrimonial/groom/nagm1357840/Hindu/Brahmin---Karhade/Sumeet-Mainkar\n",
        "We family of 5. Parents, elder married sister and younger brother. I am first generation businessman in business for last 14 years. Father is retired from M.S.E.B. Mother is a housewife."
       ]
      },
      {
       "output_type": "stream",
       "stream": "stdout",
       "text": [
        "\n",
        "1315"
       ]
      },
      {
       "output_type": "stream",
       "stream": "stdout",
       "text": [
        " http://www.simplymarry.com/matrimonial/groom/SMM1595346/Hindu/Maratha/Atul-Mulak\n",
        "Atul is a simple but confidence person. He is running his traditional business. Has three elder brothers, all are married."
       ]
      },
      {
       "output_type": "stream",
       "stream": "stdout",
       "text": [
        "\n",
        "1316"
       ]
      },
      {
       "output_type": "stream",
       "stream": "stdout",
       "text": [
        " http://www.simplymarry.com/matrimonial/groom/SMM1538925/Buddhist/Sushil-Bhagat\n",
        "Simple personality ,simple living , scientific , believing in science, believing in Buddhism .\n",
        "believing in life, equality and justice.\n",
        "hobbies are reading and playing chess and traveling .\n",
        "Expectation is simple girl with beautiful mind"
       ]
      },
      {
       "output_type": "stream",
       "stream": "stdout",
       "text": [
        "\n",
        "1317"
       ]
      },
      {
       "output_type": "stream",
       "stream": "stdout",
       "text": [
        " http://www.simplymarry.com/matrimonial/groom/trim1369203/Hindu/Maratha/N-Mahesh-Kumar\n",
        "Hi i am Mahesh kumar Patil and i am working in HDFC Life as a DMC Employee at Trichy (Tamilnadu state), My Native state is Sangli near Vitta (padali) maharastra. I am searching for a good looking girl."
       ]
      },
      {
       "output_type": "stream",
       "stream": "stdout",
       "text": [
        "\n",
        "1318"
       ]
      },
      {
       "output_type": "stream",
       "stream": "stdout",
       "text": [
        " http://www.simplymarry.com/matrimonial/groom/SMM1568648/Hindu/Brahmin/Mahesh-Deshpande\n",
        "I am smart &amp; friendly. I have completed B.Com from R.P college of commerce in Osmanabad. I am leaving in Osmanabad with my parents. I love to listen music, photography, sometimes singing as well and playing badminton."
       ]
      },
      {
       "output_type": "stream",
       "stream": "stdout",
       "text": [
        "\n",
        "1319"
       ]
      },
      {
       "output_type": "stream",
       "stream": "stdout",
       "text": [
        " http://www.simplymarry.com/matrimonial/groom/SMM1406642/Hindu/Maratha/Ramdas-Chaugule\n",
        "Hi, my name is Ramdas Chaugule, My Native place is Dugunwadi, Tal- Gadhinglaj, Dist- Kolhapur, I'm working with Textrendz (Export Company), Mumbai as a Admin Officer."
       ]
      },
      {
       "output_type": "stream",
       "stream": "stdout",
       "text": [
        "\n",
        "1320"
       ]
      },
      {
       "output_type": "stream",
       "stream": "stdout",
       "text": [
        " http://www.simplymarry.com/matrimonial/groom/SMM1434576/Hindu/Brahmin/Raviraj-Ganesh-Paliwal\n",
        "I AM RAVIRAJ PALIWAL. I CURRENTLY LIVE IN PUNE AND WORK AT INFOSYS PUNE AS TECHNICAL CONSULTANT IN CRM SIEBEL. PREVIOUSLY, I WAS AT IBM PUNE FOR AROUND 4.5 YEARS. MY TOTAL EXPERIENCE IS 5.5 YEARS. MY ANNUAL INCOME IS AROUND 9 LAKHS. MY HOBBIES INCLUDE MUSIC, WATCHING MOVIES AND READING NOVELS."
       ]
      },
      {
       "output_type": "stream",
       "stream": "stdout",
       "text": [
        "\n",
        "1321"
       ]
      },
      {
       "output_type": "stream",
       "stream": "stdout",
       "text": [
        " http://www.simplymarry.com/matrimonial/groom/SMM1561175/Hindu/Bhavasar-Kshatriya/Srinivas-D\n",
        "I am good looking, working professional and looking for beautiful, good background bride to start my new phase of life. I am traditional oriented and respectful to elders and expecting same from other side."
       ]
      },
      {
       "output_type": "stream",
       "stream": "stdout",
       "text": [
        "\n",
        "1322"
       ]
      },
      {
       "output_type": "stream",
       "stream": "stdout",
       "text": [
        " http://www.simplymarry.com/matrimonial/groom/SMM1548543/Hindu/Gabit/Sanket-N-Paradkar\n",
        "Myself Sanket Paradkar. Living in Kanjur with my parents and brother. I have completed my graduation from Mumbai university. Currently pursuing MBA second year examination. Am working with WMI Konecranes India Ltd located at Bhandup- Mumbai. We are looking for a good life partner."
       ]
      },
      {
       "output_type": "stream",
       "stream": "stdout",
       "text": [
        "\n",
        "1323"
       ]
      },
      {
       "output_type": "stream",
       "stream": "stdout",
       "text": [
        " http://www.simplymarry.com/matrimonial/groom/punm1378204/Hindu/Mali/Parimal-Gharmalkar\n",
        "Hi, To begin with i am very outgoing person, having a Cosmo lifestyle with good sense of humour, funloving, extrovert, caring, responsible, socially very well connected and I love travelling, I believe in what I do, confident, love challenges in life in-fact u can call me adventurous also."
       ]
      },
      {
       "output_type": "stream",
       "stream": "stdout",
       "text": [
        "\n",
        "1324"
       ]
      },
      {
       "output_type": "stream",
       "stream": "stdout",
       "text": [
        " http://www.simplymarry.com/matrimonial/groom/SMM1428165/Hindu/Maratha/Nilesh-Waikar\n",
        "Hi, This is Nilesh Waiker. I am from Lonavala. I am very caring person. Have respect for everyone and like to attend traditional programs. I am Dreamer person and work hard to achieve my Dreams. I am Goal Oriented person but right now I am not working for any co. I am a self-employed person running my own firm and also a partner with TAG ART Design. Along with this, I am doing one more project as a part-time Nutrition consultant."
       ]
      },
      {
       "output_type": "stream",
       "stream": "stdout",
       "text": [
        "\n",
        "1325"
       ]
      },
      {
       "output_type": "stream",
       "stream": "stdout",
       "text": [
        " http://www.simplymarry.com/matrimonial/groom/SMM1523906/Hindu/Brahmin/Nilesh-Deshpande\n",
        "I am living alone, My parents are no more. But all my relatives, Such as My Aunt, my cousin brother, cousin sister are living in same colony. I am currently working with the Shri. Mahalaxmi voyeges since last 5 years."
       ]
      },
      {
       "output_type": "stream",
       "stream": "stdout",
       "text": [
        "\n",
        "1326"
       ]
      },
      {
       "output_type": "stream",
       "stream": "stdout",
       "text": [
        " http://www.simplymarry.com/matrimonial/groom/SMM1442892/Hindu/Maratha/Jitendra-Deshmukh\n",
        "Searching for a good life partner for one of my relative; he is good looking, working in an MNC and a very caring person. A like minded person, willing to live with him in Pune and should be Deshmukh."
       ]
      },
      {
       "output_type": "stream",
       "stream": "stdout",
       "text": [
        "\n",
        "1327"
       ]
      },
      {
       "output_type": "stream",
       "stream": "stdout",
       "text": [
        " http://www.simplymarry.com/matrimonial/groom/SMM1501050/Buddhist/Anup-H-Shende\n",
        "I am simple and straightforward person.Looking for an beautiful,compatible,understanding,caring,partner.I am working as an HR Professional in a private firm.I like music,food,traveling,sports,movies,drama,etc."
       ]
      },
      {
       "output_type": "stream",
       "stream": "stdout",
       "text": [
        "\n",
        "1328"
       ]
      },
      {
       "output_type": "stream",
       "stream": "stdout",
       "text": [
        " http://www.simplymarry.com/matrimonial/groom/barm1360746/Hindu/Maratha/Arun-Duche\n",
        "I was working as Dy Executive Engineer Class-II officer in Sardar Sarovar Narmada Project. Due to personal reasons I have opted for Voluntary Retirement on Dec-2010. Due to some unacceptable, unbearable and non compromising reasons I have opted for mutual divorce. I am having 2 male child elder son 27yrs DME, recently married living with me other 20yrs studying in 2nd yr of BE at Nagpur, liability of child lies with me. Life after divorce/widower generally disturbed and so many problems we have to face keeping our own pleasure aside. In such a situation a person need a very sensible, simple, having morel values, non-selfish, can adjust with the situation and maintain harmony with the child. However the children will go on there ways in future I have to bear there liabilities."
       ]
      },
      {
       "output_type": "stream",
       "stream": "stdout",
       "text": [
        "\n",
        "1329"
       ]
      },
      {
       "output_type": "stream",
       "stream": "stdout",
       "text": [
        " http://www.simplymarry.com/matrimonial/groom/sngm1358265/Hindu/Dhangar/Ajit-Mane\n",
        "He is highly motivated individual with great ambitions to achieve big in his life."
       ]
      },
      {
       "output_type": "stream",
       "stream": "stdout",
       "text": [
        "\n",
        "1330"
       ]
      },
      {
       "output_type": "stream",
       "stream": "stdout",
       "text": [
        " http://www.simplymarry.com/matrimonial/groom/SMM1544757/Hindu/Intercaste/Chetan-Sonkusare\n",
        "I'm kind and gentle. I'm not impulsive and do a lot of self analysis. I neither judge people nor do I ask others to judge me. Am looking for a soul-mate who will understand me and care for me."
       ]
      },
      {
       "output_type": "stream",
       "stream": "stdout",
       "text": [
        "\n",
        "1331"
       ]
      },
      {
       "output_type": "stream",
       "stream": "stdout",
       "text": [
        " http://www.simplymarry.com/matrimonial/groom/SMM1427379/Hindu/Lingayath/Vikrant-Patil\n",
        "I am working as a Software consultant in Western Maharashtra region. I have Mechanical graduate &amp; have worked for some companies in metropolitan cities like Pune, Mumbai. My hobbies include Film-making."
       ]
      },
      {
       "output_type": "stream",
       "stream": "stdout",
       "text": [
        "\n",
        "1332"
       ]
      },
      {
       "output_type": "stream",
       "stream": "stdout",
       "text": [
        " http://www.simplymarry.com/matrimonial/groom/SMM1554217/Hindu/Sonar/Nilesh\n",
        "I am Maharashtrian and working as a software engineer in MNC. I am fun loving person also like to watch movies and do adventure a lot. for more info write to me"
       ]
      },
      {
       "output_type": "stream",
       "stream": "stdout",
       "text": [
        "\n",
        "1333"
       ]
      },
      {
       "output_type": "stream",
       "stream": "stdout",
       "text": [
        " http://www.simplymarry.com/matrimonial/groom/SMM1558073/Hindu/Kshatriya/Kirtishekhar-Bagwe\n",
        "I expect a partner who is caring and take care of my family. I have mother staying with me. My mother is a house wife. I expect a life partner who can take charge of family."
       ]
      },
      {
       "output_type": "stream",
       "stream": "stdout",
       "text": [
        "\n",
        "1334"
       ]
      },
      {
       "output_type": "stream",
       "stream": "stdout",
       "text": [
        " http://www.simplymarry.com/matrimonial/groom/SMM1554532/Hindu/Maratha/Govind-Thange\n",
        "I'm a naturalist, creative and have fondness for music and art. I've lenient attitude towards others and people find me supportive and open to different beliefs, ideas and values. On free times I like reading books, watch TV or go for long walks. In the past I was into drawing/painting and also loved playing musical instruments like congo &amp; bongo. My interest in arts got me to 2D animation &amp; graphics which later developed into computer programming. Most of the skills and knowledge around my interests are self taught. I like hiking &amp; trekking too. Overall I enjoy outdoors and working out. Now coming to my job &amp; business: currently I?m employed in a software firm as a Project Lead. My current role is to design, architect and develop range of software systems (web, server and mobile apps). Along with my day job I also trade in financial market. Besides, a few years back my father and I ventured into a money lending business which is growing. I have a few social interests too. Time and again I feel charitable and deep within I've an innate desire to do something noble. I recently started attending blood donation camps and I'm also associated with a NGO. Going forward I look forward to growing in this area."
       ]
      },
      {
       "output_type": "stream",
       "stream": "stdout",
       "text": [
        "\n",
        "1335"
       ]
      },
      {
       "output_type": "stream",
       "stream": "stdout",
       "text": [
        " http://www.simplymarry.com/matrimonial/groom/SMM1530958/Hindu/Maratha/Dnyanraje-Desale\n",
        "Simple living &amp; high thinking, spiritual Religious, Like to help others. he is pursuing PhD in Pharmaceutical Medicine in KEM Hospital, Mumbai, Prior He Has done BHMS, and Master In pharmaceutical Medicine from KEM Hospital, Mumbai as well he is working with various firms in Mumbai. Basically from Nashik."
       ]
      },
      {
       "output_type": "stream",
       "stream": "stdout",
       "text": [
        "\n",
        "1336"
       ]
      },
      {
       "output_type": "stream",
       "stream": "stdout",
       "text": [
        " http://www.simplymarry.com/matrimonial/groom/SMM1460755/Hindu/Lingayath/Vijay-Annarao-Kapte\n",
        "We are a simple and Traditional family!very cool with well educated and together family !he is situated at India's most Hi-tech metro city BANGLOUR with a level self employed in a MNC"
       ]
      },
      {
       "output_type": "stream",
       "stream": "stdout",
       "text": [
        "\n",
        "1337"
       ]
      },
      {
       "output_type": "stream",
       "stream": "stdout",
       "text": [
        " http://www.simplymarry.com/matrimonial/groom/SMM1460980/Hindu/Maratha/Kailas-Sunil-Deshmukh\n",
        "I m very freedom mind person, I have mother &amp; my father is not more in life, I have not Brother &amp; Sister. We are very small &amp; happy Family. My hobbies are playing Cricket, Football &amp; doing creating ideas."
       ]
      },
      {
       "output_type": "stream",
       "stream": "stdout",
       "text": [
        "\n",
        "1338"
       ]
      },
      {
       "output_type": "stream",
       "stream": "stdout",
       "text": [
        " http://www.simplymarry.com/matrimonial/groom/SMM1533120/Hindu/Koli-Mahadev/Mahesh-Chindhu-Bhokate\n",
        "Mirror is my best friend, bcoz wen I cry it never laughs................................................................................................................................................."
       ]
      },
      {
       "output_type": "stream",
       "stream": "stdout",
       "text": [
        "\n",
        "1339"
       ]
      },
      {
       "output_type": "stream",
       "stream": "stdout",
       "text": [
        " http://www.simplymarry.com/matrimonial/groom/SMM1412003/Hindu/Brahmin---Kokanastha/Mandar-S-Thatte\n",
        "Hi, I am Mandar S. Thatte. I have completed my Bachelors in Arts. I am currently working as an Underwriter in Health Insurance Company. My friends describe me as: Smart, friendly &amp; good nature. Values: Ethical. Motto in life: To be happy &amp; make other happy. Hobbies: Movies, Surfing and Music. Favorite sports: Chess, Badminton. Views on marriage: Marriage is life time bond where trust is important factor &amp; mutual understanding is important."
       ]
      },
      {
       "output_type": "stream",
       "stream": "stdout",
       "text": [
        "\n",
        "1340"
       ]
      },
      {
       "output_type": "stream",
       "stream": "stdout",
       "text": [
        " http://www.simplymarry.com/matrimonial/groom/SMM1523527/Hindu/Bhavsar/Bhushan-S.-Pise\n",
        "Simple, flexible, open minded, straight forward, rationale, practical, hardworking and trustworthy person. Working as a Senior Architect - Manager. Belongs to a nuclear family. Am very supportive, understanding and jovial by nature."
       ]
      },
      {
       "output_type": "stream",
       "stream": "stdout",
       "text": [
        "\n",
        "1341"
       ]
      },
      {
       "output_type": "stream",
       "stream": "stdout",
       "text": [
        " http://www.simplymarry.com/matrimonial/groom/SMM1418127/Hindu/Sonar/Rajesh-Bagul\n",
        "Hi, i am Rajesh Bagul. I am looking for my life partner who would be a great companion and friend. I can little introduce myself as mentioned below. Pleasant Personality. Mild Nature. Likes to mix up with people. Won prizes in Elocution competitions and Group discussion. Divorcee. Divorce by mutual consent. All the legal formalities are completed. No issue from marriage."
       ]
      },
      {
       "output_type": "stream",
       "stream": "stdout",
       "text": [
        "\n",
        "1342"
       ]
      },
      {
       "output_type": "stream",
       "stream": "stdout",
       "text": [
        " http://www.simplymarry.com/matrimonial/groom/mumm1351706/Hindu/Brahmin/Ganesh-K\n",
        "I am a software engineer, from a good family, an issue less divorcee. By nature I am jovial, romantic and cool.\n",
        "I am looking for a cool natured decent looking girl from a good family."
       ]
      },
      {
       "output_type": "stream",
       "stream": "stdout",
       "text": [
        "\n",
        "1343"
       ]
      },
      {
       "output_type": "stream",
       "stream": "stdout",
       "text": [
        " http://www.simplymarry.com/matrimonial/groom/SMM1457613/Hindu/Intercaste/Deepak\n",
        "I am working as a consultant with one of the Fortune10 organizations and like to keep myself updated to latest technology trends. A humble but a smart chap, born and brought up in Nashik with Radhasoami (Beas) values. A pure veg teetotaler who can balance and equate in any spheres of life. Hobbies and passions- altered from time to time but constant ones being net surfing, off roadings and traveling. I am looking for a soul mate who will be a forever best friend."
       ]
      },
      {
       "output_type": "stream",
       "stream": "stdout",
       "text": [
        "\n",
        "1344"
       ]
      },
      {
       "output_type": "stream",
       "stream": "stdout",
       "text": [
        " http://www.simplymarry.com/matrimonial/groom/SMM1455257/Hindu/Brahmin/Gaurav\n",
        "I am simple well educated and well settle person.I see myself as a responsible, down to earth, caring and a simple person.\n",
        "I am a broadminded person who has respect for all religions and don?t discriminate others based on their color, caste or any physical appearance. I believe in Individuality as much as I believe in family values. Family, friends, career and hobbies are important factors of my life and take their own share depending on time and situation.\n",
        "It takes me some time to get along with people."
       ]
      },
      {
       "output_type": "stream",
       "stream": "stdout",
       "text": [
        "\n",
        "1345"
       ]
      },
      {
       "output_type": "stream",
       "stream": "stdout",
       "text": [
        " http://www.simplymarry.com/matrimonial/groom/SMM1608084/Hindu/Brahmin---Kokanastha/Ashutosh-Joshi\n",
        "Hello, this is Ashutosh Joshi. Am a simple, straight forward and down to earth guy, have done my Masters degree in Computer Applications from Pune University with first class. Working in S/W field since past 5 years. Fond of all kinds of sports with particular interest in Chess, Cricket and Tennis. Like watching movies and popular English serials."
       ]
      },
      {
       "output_type": "stream",
       "stream": "stdout",
       "text": [
        "\n",
        "1346"
       ]
      },
      {
       "output_type": "stream",
       "stream": "stdout",
       "text": [
        " http://www.simplymarry.com/matrimonial/groom/mumm1364717/Hindu/Maratha/Abhijit-Mhapankar\n",
        "Hi, This is Abhijit. I am straight forward and down to earth person. My friends describe me as jolly person with active and versatile personality; good in sports as well as academics. I love travelling and sightseeing. I have explored North of India while I was working in Gurgaon. I have also travelled to US &amp; Europe for official purpose. I have done B.E. Mech from Mumbai and currently working with a MNC in Mumbai."
       ]
      },
      {
       "output_type": "stream",
       "stream": "stdout",
       "text": [
        "\n",
        "1347"
       ]
      },
      {
       "output_type": "stream",
       "stream": "stdout",
       "text": [
        " http://www.simplymarry.com/matrimonial/groom/SMM1433054/Hindu/Brahmin/Suresh-Kelkar\n",
        "I like traveling, music; i am very friendly and cooperative. i am the person with self respect and with good IQ. I would like the partner with good sense of humour."
       ]
      },
      {
       "output_type": "stream",
       "stream": "stdout",
       "text": [
        "\n",
        "1348"
       ]
      },
      {
       "output_type": "stream",
       "stream": "stdout",
       "text": [
        " http://www.simplymarry.com/matrimonial/groom/SMM1404662/Hindu/Bhandari/Amol-Wakkar\n",
        "Hi; My self Amol Wakakr. I have completed my Graduation. Currently I am working with Videocon d2h Ltd. as a a/c's officer."
       ]
      },
      {
       "output_type": "stream",
       "stream": "stdout",
       "text": [
        "\n",
        "1349"
       ]
      },
      {
       "output_type": "stream",
       "stream": "stdout",
       "text": [
        " http://www.simplymarry.com/matrimonial/groom/SMM1423649/Hindu/Bhandari/Mitesh-Pednekar\n",
        "Hi, my brother is a very simple person with traditional family values. We belong to a family which is very closely bonded. He is very responsible, caring &amp; ambitious individual. We are looking for a suitable match who is smart, understanding, responsible and can blend in our family well."
       ]
      },
      {
       "output_type": "stream",
       "stream": "stdout",
       "text": [
        "\n",
        "1350"
       ]
      },
      {
       "output_type": "stream",
       "stream": "stdout",
       "text": [
        " http://www.simplymarry.com/matrimonial/groom/SMM1423745/Hindu/CKP/Ashish-Arvind-Wakaskar\n",
        "Hi, I have a franchisee of ICICI bank in Nashik, but now i can start our new construction business (commercial complex FOR RENT AND OWNERSHIP) in Dhule. It is big project. I want a down to earth person, who is good looking &amp; innocent."
       ]
      },
      {
       "output_type": "stream",
       "stream": "stdout",
       "text": [
        "\n",
        "1351"
       ]
      },
      {
       "output_type": "stream",
       "stream": "stdout",
       "text": [
        " http://www.simplymarry.com/matrimonial/groom/SMM1413443/Hindu/Maratha/Amit-Dattatraya-Bhosale\n",
        "I am simple, ambitious person. My hobbies are reading and browsing on internet. I did MCM from Pune university and Executive MBA in IT from United Business Institute. I am living alone, my both parents passed away. Want to settled in USA."
       ]
      },
      {
       "output_type": "stream",
       "stream": "stdout",
       "text": [
        "\n",
        "1352"
       ]
      },
      {
       "output_type": "stream",
       "stream": "stdout",
       "text": [
        " http://www.simplymarry.com/matrimonial/groom/sngm1363473/Hindu/Maratha/Suhas-Pawar\n",
        "Have interest in music, watching movies, loves to travel a lot and enjoy nature. Am a typical Piscean, loving, caring, emotional, dreamer and also a perfectionist."
       ]
      },
      {
       "output_type": "stream",
       "stream": "stdout",
       "text": [
        "\n",
        "1353"
       ]
      },
      {
       "output_type": "stream",
       "stream": "stdout",
       "text": [
        " http://www.simplymarry.com/matrimonial/groom/kolm1366274/Hindu/Maratha/Sandip-Shinde\n",
        "I'm open-minded, independent and fun-loving person with a pleasing personality. I am pretty adventurous but not just fun all the time. I am highly responsible when it comes to making important decisions. My interests are vast &amp; varied. I am interested in almost anything &amp; everything. Passionate about reading, music &amp; dance Read a vast range of books from fiction to biographies. Can't do without music &amp; listen to anything from Indian classical to Western rock. A total foodie &amp; love to experiment with various cuisines. I'm passionate about exploring historical places. Also follow most sports on the Telly. Other interests include watching television, photography, traveling and much more."
       ]
      },
      {
       "output_type": "stream",
       "stream": "stdout",
       "text": [
        "\n",
        "1354"
       ]
      },
      {
       "output_type": "stream",
       "stream": "stdout",
       "text": [
        " http://www.simplymarry.com/matrimonial/groom/tham1352266/Hindu/Brahmin/Deepak-Dhapare\n",
        "Myself, government official. Father retired Government official (Central Railway) and mother is a house maker and have only one younger brother employed in private sector. We reside jointly at my own house at Thane."
       ]
      },
      {
       "output_type": "stream",
       "stream": "stdout",
       "text": [
        "\n",
        "1355"
       ]
      },
      {
       "output_type": "stream",
       "stream": "stdout",
       "text": [
        " http://www.simplymarry.com/matrimonial/groom/SMM1451897/Hindu/Brahmin/Marutunjay-D.-Kulkarni\n",
        "Good in communication , I like team work ,\n",
        "I like bike riding , I am interested in cars , I like hard work in any kind of field,\n",
        "I will accept any kind of challenge in my life.\n",
        "I am searching for same kind of life partner."
       ]
      },
      {
       "output_type": "stream",
       "stream": "stdout",
       "text": [
        "\n",
        "1356"
       ]
      },
      {
       "output_type": "stream",
       "stream": "stdout",
       "text": [
        " http://www.simplymarry.com/matrimonial/groom/SMM1557184/Hindu/Maratha/Bhalchandra-Nivrutti-Sandbhor\n",
        "ICWA quilified working in MSEDCL as Jr Manager F &amp; A. Living in Pune city with Family. Father is also govert service. Mother housewife, sister 2, 1 married and 1 unmarried. Looking for commerce filed girl with professional qualification."
       ]
      },
      {
       "output_type": "stream",
       "stream": "stdout",
       "text": [
        "\n",
        "1357"
       ]
      },
      {
       "output_type": "stream",
       "stream": "stdout",
       "text": [
        " http://www.simplymarry.com/matrimonial/groom/SMM1436578/Hindu/Maratha/Sagar-Shitole\n",
        "I'm a simply complicated guy who like to talk to strangers &amp; make frnds.I love to cook &amp; to eat also, also love to ride bikes, gardening, love my pets."
       ]
      },
      {
       "output_type": "stream",
       "stream": "stdout",
       "text": [
        "\n",
        "1358"
       ]
      },
      {
       "output_type": "stream",
       "stream": "stdout",
       "text": [
        " http://www.simplymarry.com/matrimonial/groom/punm1368826/Hindu/Brahmin/Sunil-Joshi\n",
        "Hi, I am sunil, my hobbies are Travelling, Music, Movies. I am simple and straightforward in nature and looking for a simple, caring understanding natured life partner who will care for me and my family."
       ]
      },
      {
       "output_type": "stream",
       "stream": "stdout",
       "text": [
        "\n",
        "1359"
       ]
      },
      {
       "output_type": "stream",
       "stream": "stdout",
       "text": [
        " http://www.simplymarry.com/matrimonial/groom/nasm1354897/Hindu/Dhangar/Sagar-Adhav\n",
        "Am Sagar from Nashik and currently working as an Asst professor in Engg college as well as pursuing my PG."
       ]
      },
      {
       "output_type": "stream",
       "stream": "stdout",
       "text": [
        "\n",
        "1360"
       ]
      },
      {
       "output_type": "stream",
       "stream": "stdout",
       "text": [
        " http://www.simplymarry.com/matrimonial/groom/SMM1477411/Hindu/Sonar/Nikhil\n",
        "Hi, i am nikhil, i am a director of my company, that deals into property advisory services as well as i have a jewellery showroom, that is my family business, i am smart and down to earth type of a person."
       ]
      },
      {
       "output_type": "stream",
       "stream": "stdout",
       "text": [
        "\n",
        "1361"
       ]
      },
      {
       "output_type": "stream",
       "stream": "stdout",
       "text": [
        " http://www.simplymarry.com/matrimonial/groom/SMM1463738/Hindu/Bhandari/Vinay-Kadwadkar\n",
        "career oriented.independent.fitness freak.music passionate.likes hanging out. I have a family of 4,including mom,dad elder brother.I do job in pune.owns a flat in dombivali. to know more get in touch."
       ]
      },
      {
       "output_type": "stream",
       "stream": "stdout",
       "text": [
        "\n",
        "1362"
       ]
      },
      {
       "output_type": "stream",
       "stream": "stdout",
       "text": [
        " http://www.simplymarry.com/matrimonial/groom/SMM1399797/Hindu/Agri/Tushar-Mahadev-Kalan\n",
        "I am very well cultured and friendly person. Love Music, Graphic Designing, Chatting online and Cricket. I believe that everything happens for a reason."
       ]
      },
      {
       "output_type": "stream",
       "stream": "stdout",
       "text": [
        "\n",
        "1363"
       ]
      },
      {
       "output_type": "stream",
       "stream": "stdout",
       "text": [
        " http://www.simplymarry.com/matrimonial/groom/SMM1407986/Hindu/Bhandari/Abhishek-Dayal-Acharekar\n",
        "Am a frank, loving and straight forward guy. Love pets and have lots of friends."
       ]
      },
      {
       "output_type": "stream",
       "stream": "stdout",
       "text": [
        "\n",
        "1364"
       ]
      },
      {
       "output_type": "stream",
       "stream": "stdout",
       "text": [
        " http://www.simplymarry.com/matrimonial/groom/SMM1589172/Jain/Digambar/Mayur-Jain\n",
        "Optimistic, fun loving, friendly, honest, patient, liberal with presence of mind. One who would accept me and love me for what I'm and would get the same in return. Preferably a dentist but education no bar as far as the girl is career oriented and is willing to settle in jalgaon."
       ]
      },
      {
       "output_type": "stream",
       "stream": "stdout",
       "text": [
        "\n",
        "1365"
       ]
      },
      {
       "output_type": "stream",
       "stream": "stdout",
       "text": [
        " http://www.simplymarry.com/matrimonial/groom/SMM1419457/Hindu/Kunbi/Amol-Agonde-Agonde\n",
        "Currently, I am working as a KIC Hospitality a person, i am a simple Boy, career oriented, love to listen music, Dancing, &amp; Acting. I need cool &amp; simple partner. she loving me &amp; my family. She loves joint family."
       ]
      },
      {
       "output_type": "stream",
       "stream": "stdout",
       "text": [
        "\n",
        "1366"
       ]
      },
      {
       "output_type": "stream",
       "stream": "stdout",
       "text": [
        " http://www.simplymarry.com/matrimonial/groom/SMM1575363/Hindu/Maratha/Santosh-Kadam\n",
        "I am very simple guy having very humorous &amp; loving nature. I like traveling, photography &amp; listening to music. I am searching for a simple girl, who is well cultured and who will understand &amp; take care of me and my parents."
       ]
      },
      {
       "output_type": "stream",
       "stream": "stdout",
       "text": [
        "\n",
        "1367"
       ]
      },
      {
       "output_type": "stream",
       "stream": "stdout",
       "text": [
        " http://www.simplymarry.com/matrimonial/groom/SMM1539107/Hindu/Scheduled-Tribe/Manish-Palu-Gavit\n",
        "Hi I am Manish. I work as team lead in one of the leading vendors of mainframe technology and have 7 years of exper. Am a friendly person, like making friends, travel to different places, am foodie, like to cook, listen to music and watch movies and also like to go on road trips. My schooling and B.E has been done from Mumbai. Live with my mom, dad and a younger brother. Mom and Dad are retired and Brother is working in the same firm. My parents had played a great role in my development as a person, I love both of them and would love to be with them always. So seek for the partner who can accept the same."
       ]
      },
      {
       "output_type": "stream",
       "stream": "stdout",
       "text": [
        "\n",
        "1368"
       ]
      },
      {
       "output_type": "stream",
       "stream": "stdout",
       "text": [
        " http://www.simplymarry.com/matrimonial/groom/SMM1539146/Hindu/Gomantak/Alok-Verekar\n",
        "I am calm person with good sense of humor and down to earth nature. I like to travel any were in India and abroad. I believe in family values, tradition and respect elders. I believe in having perfect balance in professional and personnel life."
       ]
      },
      {
       "output_type": "stream",
       "stream": "stdout",
       "text": [
        "\n",
        "1369"
       ]
      },
      {
       "output_type": "stream",
       "stream": "stdout",
       "text": [
        " http://www.simplymarry.com/matrimonial/groom/SMM1452298/Hindu/Chambhar/Sandeep-Patke\n",
        "Well settled in Pune looking for life partner who believes in carrier and family values, also she should have positive attitude towards life in any situations."
       ]
      },
      {
       "output_type": "stream",
       "stream": "stdout",
       "text": [
        "\n",
        "1370"
       ]
      },
      {
       "output_type": "stream",
       "stream": "stdout",
       "text": [
        " http://www.simplymarry.com/matrimonial/groom/SMM1395536/Hindu/Maratha/Rahul-Jagtap\n",
        "Myself Rahul Jagtap, down to earth guy. I have done B.sc agriculture from Parbhani and MBA FROM Bangalore. Presently i am working with top retail Mnc of world, BHARTI WALMART as an asst manager at Pune. I like to read books, infact i love book reading from paul coheo to richard bach to sideny sheldon. traveling new places and like to have a nice life partner with sense of humour and better understanding nature."
       ]
      },
      {
       "output_type": "stream",
       "stream": "stdout",
       "text": [
        "\n",
        "1371"
       ]
      },
      {
       "output_type": "stream",
       "stream": "stdout",
       "text": [
        " http://www.simplymarry.com/matrimonial/groom/SMM1391450/Hindu/Kumbhar/Siddharth\n",
        "I am a very simple &amp; down to earth person. My friends describe me as a cheerful &amp; funny. Looking for partner who shares the same values. Wish to settle down in Pune since I own a flat in Pune. Working with Infosys and have about 8.5 yrs of exp."
       ]
      },
      {
       "output_type": "stream",
       "stream": "stdout",
       "text": [
        "\n",
        "1372"
       ]
      },
      {
       "output_type": "stream",
       "stream": "stdout",
       "text": [
        " http://www.simplymarry.com/matrimonial/groom/SMF1612076/Hindu/Kunbi/Praful-Maroti-Pawar\n",
        "i am from a middle class family.\n",
        "i am computer teacher i hope that my life partner is a very honest and good\n",
        "i want my life partner is from middle class family."
       ]
      },
      {
       "output_type": "stream",
       "stream": "stdout",
       "text": [
        "\n",
        "1373"
       ]
      },
      {
       "output_type": "stream",
       "stream": "stdout",
       "text": [
        " http://www.simplymarry.com/matrimonial/groom/SMM1605412/Hindu/Chambhar/Dinesh-Sudam-Satpute\n",
        "Myself Dinesh Satpute. I have done my Bcom from Mumbai University. Currently working as an Real Estate Consultant."
       ]
      },
      {
       "output_type": "stream",
       "stream": "stdout",
       "text": [
        "\n",
        "1374"
       ]
      },
      {
       "output_type": "stream",
       "stream": "stdout",
       "text": [
        " http://www.simplymarry.com/matrimonial/groom/SMM1431321/Hindu/Teli/Amol-Teli\n",
        "Hi, I am living in mumbai. My native place is Mapusa, Goa. I am working with Mumbai based Logistics company as Assistant manager. I am fun loving guy. I like to spend my time with my family &amp; my friends."
       ]
      },
      {
       "output_type": "stream",
       "stream": "stdout",
       "text": [
        "\n",
        "1375"
       ]
      },
      {
       "output_type": "stream",
       "stream": "stdout",
       "text": [
        " http://www.simplymarry.com/matrimonial/groom/SMM1400987/Hindu/Kunbi/Harshadkalaskar-P-Kalaskar\n",
        "hi i am very funny guy, and i am seeking a partner who will be my true friend. i am living in pune camp, i have completed my graduation from pune university, and this coming march i will give u.p.s.c exam.i am olne for my parents."
       ]
      },
      {
       "output_type": "stream",
       "stream": "stdout",
       "text": [
        "\n",
        "1376"
       ]
      },
      {
       "output_type": "stream",
       "stream": "stdout",
       "text": [
        " http://www.simplymarry.com/matrimonial/groom/SMM1549965/Hindu/Chambhar/Vinayak-Shrirang-Dalvi\n",
        "I like reading, writing, photography, good dressing, high living and computers. I love driving, traveling, shopping, good food and gym. I am dynamic, adventurous, smart, ambitious, successful and well settled."
       ]
      },
      {
       "output_type": "stream",
       "stream": "stdout",
       "text": [
        "\n",
        "1377"
       ]
      },
      {
       "output_type": "stream",
       "stream": "stdout",
       "text": [
        " http://www.simplymarry.com/matrimonial/groom/SMM1432425/Hindu/Maratha/Shrikant\n",
        "PLEASANT PERSONALITY WITH HEALTHY LIFE. HAVING GOOD PROFESSION WITH SMALL FARMER TYPE FAMILY. MOM, DAD &amp; MY ONLY SMALL &amp; WEALTHY FAMILY. I WANT THE BRIDE WITH PLEASANT ATTITUDE TO ADJUST WITH MY FAMILY MEMBERS."
       ]
      },
      {
       "output_type": "stream",
       "stream": "stdout",
       "text": [
        "\n",
        "1378"
       ]
      },
      {
       "output_type": "stream",
       "stream": "stdout",
       "text": [
        " http://www.simplymarry.com/matrimonial/groom/SMM1461632/Hindu/Chambhar/Bhushan-Baviskar\n",
        "My Self Bhushan Baviskar. Competed Computer Engineering. working as Technical Head in Navneet Publication. very frank with everyone; i like to be happy always and searching for the best person who can make me happy always, should be frank person who can share everything with me like a close Friend."
       ]
      },
      {
       "output_type": "stream",
       "stream": "stdout",
       "text": [
        "\n",
        "1379"
       ]
      },
      {
       "output_type": "stream",
       "stream": "stdout",
       "text": [
        " http://www.simplymarry.com/matrimonial/groom/SMM1388019/Buddhist/Rajesh-Ashok-Dolas\n",
        "Hi, i am a person who thoroughly believe in family values and equally respect values and aspirations of other. I am still pursing my higher educations and want to go on to a higher post in govt service"
       ]
      },
      {
       "output_type": "stream",
       "stream": "stdout",
       "text": [
        "\n",
        "1380"
       ]
      },
      {
       "output_type": "stream",
       "stream": "stdout",
       "text": [
        " http://www.simplymarry.com/matrimonial/groom/SMM1512384/Hindu/Khatik/Amit-Kanakdhar\n",
        "My son is working in recognised MNC Bank as a corporate and business Manager since last 4 years and he is residing at pune. My family including me, my wife and daughter, residing at solapur. Our family is very moderate family."
       ]
      },
      {
       "output_type": "stream",
       "stream": "stdout",
       "text": [
        "\n",
        "1381"
       ]
      },
      {
       "output_type": "stream",
       "stream": "stdout",
       "text": [
        " http://www.simplymarry.com/matrimonial/groom/SMM1518891/Hindu/Lohar/Ashish-Bargat\n",
        "I am a BAMS graduate, currently working as a medical officer with Maharashtra govt. i am passionate workaholic guy. my dad is retd psi, mother is a housewife, brother is an engineer. looking for a simple, friendly girl preferably a medico."
       ]
      },
      {
       "output_type": "stream",
       "stream": "stdout",
       "text": [
        "\n",
        "1382"
       ]
      },
      {
       "output_type": "stream",
       "stream": "stdout",
       "text": [
        " http://www.simplymarry.com/matrimonial/groom/nagm1353265/Hindu/Sutar/Deepak-Wandre\n",
        "I am a simple, loving, caring, understanding and straight forward person. I am working as a Manager in a Bank at Mumbai. in family we are 2 brothers, my birth date is 3 September, i speak 3 languages, i started working at age 20 yrs, in my career i worked in 3 banks in 3 cities, i like movies and my favorite is 3 idiots."
       ]
      },
      {
       "output_type": "stream",
       "stream": "stdout",
       "text": [
        "\n",
        "1383"
       ]
      },
      {
       "output_type": "stream",
       "stream": "stdout",
       "text": [
        " http://www.simplymarry.com/matrimonial/groom/SMM1422742/Jain/Digambar/Darshan-Bharat-Patil\n",
        "I am simple, good looking, fun loving, truthful person and expecting the same from the partner. I have studied my BE (Civil) at Gogte Institute Of Technology, Belgaum. Now I have my own construction business. Undertaking Industrial Projects."
       ]
      },
      {
       "output_type": "stream",
       "stream": "stdout",
       "text": [
        "\n",
        "1384"
       ]
      },
      {
       "output_type": "stream",
       "stream": "stdout",
       "text": [
        " http://www.simplymarry.com/matrimonial/groom/SMM1395487/Hindu/Chambhar/Sachin-Haunmant-Doiphode\n",
        "I AM VERY STRAIGHT FORWARD, AND VERY COOL,AND SIMPLE PERSON I LIKE TO DO SOMETHING TO HIGH. I AM VERY CLOSE TO MY PARENTS. MY FATHER IS WORKING IN A PRIVATE SECTOR MY MOTHER IS HOUSEWIFE. MY SISTER IS LEARNING."
       ]
      },
      {
       "output_type": "stream",
       "stream": "stdout",
       "text": [
        "\n",
        "1385"
       ]
      },
      {
       "output_type": "stream",
       "stream": "stdout",
       "text": [
        " http://www.simplymarry.com/matrimonial/groom/SMM1494661/Hindu/Brahmin/Dr-Sushant-Sole\n",
        "I am Doctorate and by profession veterinary surgeon; completed my doctorate in philosophy in subject of Pharmacology from Delhi University. Presently, I am working as Research Scientist in Pharma industry. I am looking for an educated and beautiful girl. Cast no bar. She should be ready to move abroad."
       ]
      },
      {
       "output_type": "stream",
       "stream": "stdout",
       "text": [
        "\n",
        "1386"
       ]
      },
      {
       "output_type": "stream",
       "stream": "stdout",
       "text": [
        " http://www.simplymarry.com/matrimonial/groom/SMM1537151/Jain/Digambar/Mayur-Lonkar\n",
        "I have a simple life, always open to all. I like music, sports, fun as an part of hobby. As an person, simple, enthusiastic and positive attitude. Friendly, open hearted, fun loving, love to enjoy every moment of life and is health conscious."
       ]
      },
      {
       "output_type": "stream",
       "stream": "stdout",
       "text": [
        "\n",
        "1387"
       ]
      },
      {
       "output_type": "stream",
       "stream": "stdout",
       "text": [
        " http://www.simplymarry.com/matrimonial/groom/aurm1345829/Hindu/Maratha/Dhananjay-Patil\n",
        "I am M.SC. in microbiology, worked for 8 years as scientific executive, presently looking for job. I am having few white spots on body called leucoderma, which does not affect any thing but simple color change of the skin."
       ]
      },
      {
       "output_type": "stream",
       "stream": "stdout",
       "text": [
        "\n",
        "1388"
       ]
      },
      {
       "output_type": "stream",
       "stream": "stdout",
       "text": [
        " http://www.simplymarry.com/matrimonial/groom/slam1379120/Hindu/Chambhar/Annasaheb-Habbu\n",
        "This is Annasaheb, 37 years old, have completed M.A. B.Ed. English and currently running Mobile Repairing Shop. I Lost my father. Mother is a government servant. Also, have three brothers."
       ]
      },
      {
       "output_type": "stream",
       "stream": "stdout",
       "text": [
        "\n",
        "1389"
       ]
      },
      {
       "output_type": "stream",
       "stream": "stdout",
       "text": [
        " http://www.simplymarry.com/matrimonial/groom/SMM1408059/Christian/Protestant/George\n",
        "Hi, I am born again and stay in Mumbai. I am working as a Manager in a hospitality firm. I am God fearing and jovial by nature. I am looking out for a life partner who is understanding and jovial."
       ]
      },
      {
       "output_type": "stream",
       "stream": "stdout",
       "text": [
        "\n",
        "1390"
       ]
      },
      {
       "output_type": "stream",
       "stream": "stdout",
       "text": [
        " http://www.simplymarry.com/matrimonial/groom/nagm1356974/Hindu/Brahmin/Nagm1356974\n",
        "1391"
       ]
      },
      {
       "output_type": "stream",
       "stream": "stdout",
       "text": [
        " http://www.simplymarry.com/matrimonial/groom/SMM1553147/Hindu/Veerashaiva/Shankar-Senapati-Kokane\n",
        "IM SHANKAR K, BORN N BOUGHT UP IN MUMBAI, RIGHT WORKING FOR LARSEN &amp; TURBO AS A SAFETY OFFICER. WE ARE 6 MEMBERS IN THE FAMILY, DAD WORKING FOR PVT FIRM, MOM HOUSEWIFE, ELDER BRO WORKING FOR PVT FIRM, SIS IN LAW LECTURER IN PVT COLLAGE"
       ]
      },
      {
       "output_type": "stream",
       "stream": "stdout",
       "text": [
        "\n",
        "1392"
       ]
      },
      {
       "output_type": "stream",
       "stream": "stdout",
       "text": [
        " http://www.simplymarry.com/matrimonial/groom/SMM1423912/Hindu/Brahmin/Bhushan\n",
        "I belong to nuclear family with my parents, loves to travel, watch movies, hang out with friends. Currently working in reputed MNC in Pune. Looking out for a girl preferably from same background and who has Positive and Confident approach towards life."
       ]
      },
      {
       "output_type": "stream",
       "stream": "stdout",
       "text": [
        "\n",
        "1393"
       ]
      },
      {
       "output_type": "stream",
       "stream": "stdout",
       "text": [
        " http://www.simplymarry.com/matrimonial/groom/punm1366001/Hindu/Brahmin---Rigvedi/Omkar-Kulkarni\n",
        "Interests-Driving,sweeming site seeing,Hobbies-Photography,Listening-marathi,hindi songs,instrumental songs etc.Iam haing elder brother (married),both parents and cousin sister,brother.Having own car,Necessary household goods-Flat T.V., Washing M/c,Gas etc.No any other expections from bride and her family."
       ]
      },
      {
       "output_type": "stream",
       "stream": "stdout",
       "text": [
        "\n",
        "1394"
       ]
      },
      {
       "output_type": "stream",
       "stream": "stdout",
       "text": [
        " http://www.simplymarry.com/matrimonial/groom/punm1348157/Buddhist/Jitendra-Waghmare\n",
        "I am a simple, down to earth, confident and cultured person, who believes and respect the family values. I am working as a HR Manager with one of the reputed organisation in Pune. I am very much loving and caring person and quite sentimental. I am looking for a true last longing life partner."
       ]
      },
      {
       "output_type": "stream",
       "stream": "stdout",
       "text": [
        "\n",
        "1395"
       ]
      },
      {
       "output_type": "stream",
       "stream": "stdout",
       "text": [
        " http://www.simplymarry.com/matrimonial/groom/tham1359037/Hindu/Brahmin---Kokanastha/Sameer-Gokhale\n",
        "I am simple, good looking and cheerful person with positive attitude towards life. Educational &amp; professional qualifications: B.Sc in (Physics), 1st Class, JAIIB and CAIIB, Computer programming courses. My hobbies include listening to music, reading and painting. I have also completed Yoga Teacher Diploma. My family consists of myself and my father. Mother passed away a year ago. As regards Astro details, Kaal Sarp Shanti has been performed."
       ]
      },
      {
       "output_type": "stream",
       "stream": "stdout",
       "text": [
        "\n",
        "1396"
       ]
      },
      {
       "output_type": "stream",
       "stream": "stdout",
       "text": [
        " http://www.simplymarry.com/matrimonial/groom/SMM1534812/Hindu/Sonar/Sachin-A\n",
        "hi this is sachin, My family is very traditional family. Father is expired, and mother is house wife. I have 2 brother. i'm looking for an understanding partner who will support me in my career. should be caring, loving, helping by nature, educated"
       ]
      },
      {
       "output_type": "stream",
       "stream": "stdout",
       "text": [
        "\n",
        "1397"
       ]
      },
      {
       "output_type": "stream",
       "stream": "stdout",
       "text": [
        " http://www.simplymarry.com/matrimonial/groom/SMM1476210/Hindu/Brahmin/Nilesh\n",
        "Fun loving, adaptable, caring and sensitive, determined, hardworking, outgoing."
       ]
      },
      {
       "output_type": "stream",
       "stream": "stdout",
       "text": [
        "\n",
        "1398"
       ]
      },
      {
       "output_type": "stream",
       "stream": "stdout",
       "text": [
        " http://www.simplymarry.com/matrimonial/groom/SMM1507157/Hindu/Nhavi/Atul\n",
        "Completed MBA, B.E. working in Pune from last six years as a Sr. Manager in multinationals. Looking for a well educated, independent, matured partner. who should be friend more than partner, respect towards elders."
       ]
      },
      {
       "output_type": "stream",
       "stream": "stdout",
       "text": [
        "\n",
        "1399"
       ]
      },
      {
       "output_type": "stream",
       "stream": "stdout",
       "text": [
        " http://www.simplymarry.com/matrimonial/groom/SMM1466252/Hindu/Shimpi/Srikant-Subhash-Kalekar\n",
        "I am a very calm, understanding, patient, energetic, down to earth and open minded. I have been brought up with great respect and traditional Indian values. I am a good listener and can also be describes by friends and family as a wise person when making decisions for the benefit or others. I like to spread love keep everyone around me happy and after all life is what we make it right. By profession I am working in GESCOM. I really enjoy my job I am ambitious. My Ideal person would be charming, sensitive, calm, family orientated, exciting, enjoys traveling so we together can hold hands through this open world, experience what god has created for us to see."
       ]
      },
      {
       "output_type": "stream",
       "stream": "stdout",
       "text": [
        "\n",
        "1400"
       ]
      },
      {
       "output_type": "stream",
       "stream": "stdout",
       "text": [
        " http://www.simplymarry.com/matrimonial/groom/SMM1540620/Hindu/Maratha/Rahul-Rao\n",
        "Im a simple person and looking for a life long partner who is same as my status as am HIV since 2012, so looking for a girl who is too HIV. Am an educated well settled well traveled. About me im Simple, caring, decent &amp; handsome too."
       ]
      },
      {
       "output_type": "stream",
       "stream": "stdout",
       "text": [
        "\n",
        "1401"
       ]
      },
      {
       "output_type": "stream",
       "stream": "stdout",
       "text": [
        " http://www.simplymarry.com/matrimonial/groom/SMM1539899/Hindu/Brahmin---Deshastha/Sukhad-Pramod-Kulkarni\n",
        "I am a person with social attitude like to work Hard and create things useful to all society and also don't believe in self centered attitude, like to get forward to solve problems in general society."
       ]
      },
      {
       "output_type": "stream",
       "stream": "stdout",
       "text": [
        "\n",
        "1402"
       ]
      },
      {
       "output_type": "stream",
       "stream": "stdout",
       "text": [
        " http://www.simplymarry.com/matrimonial/groom/SMM1546757/Hindu/Vaishya-Vani/Viresh-Pote\n",
        "Have completed my HSC and am into business of trading. Am very cultured and caring person who lives life fully and have respect for people. Looking a life partner who is very understanding and fine in nature having regards for my family."
       ]
      },
      {
       "output_type": "stream",
       "stream": "stdout",
       "text": [
        "\n",
        "1403"
       ]
      },
      {
       "output_type": "stream",
       "stream": "stdout",
       "text": [
        " http://www.simplymarry.com/matrimonial/groom/SMM1480940/Hindu/Sonar/Nitin-Rokde\n",
        "When it comes to love and relationships, having closeness is very important. As a single individual I often have dreams of finding My \"soul mate\". I tend to be a very concerned, loving, giving, caring and thoughtful individual who is very conscious of her partner and her needs, thoughts and emotions. I respect the family values and do follow them, i love my family. i m also a nature lover, i m kind and honest and seek the same."
       ]
      },
      {
       "output_type": "stream",
       "stream": "stdout",
       "text": [
        "\n",
        "1404"
       ]
      },
      {
       "output_type": "stream",
       "stream": "stdout",
       "text": [
        " http://www.simplymarry.com/matrimonial/groom/mumm1352163/Hindu/96K-Kokanastha/Ravi-Patil\n",
        "I am a Head Marketing &amp; Development (handling All India) in PSDP Pvt Ltd a company which is into Restaurant chain. Because of my job I have almost traveled in all parts of India. I love my job. I am looking for a person who is simple and sober."
       ]
      },
      {
       "output_type": "stream",
       "stream": "stdout",
       "text": [
        "\n",
        "1405"
       ]
      },
      {
       "output_type": "stream",
       "stream": "stdout",
       "text": [
        " http://www.simplymarry.com/matrimonial/groom/tham1385113/Hindu/Maratha/Sudhir-Bhosale\n",
        "I am a property consultant and investor, my job is to provide property on rent or oughtright purchase to my clients according to their needs,it is done on commission basis, have been in the field since ten years and doing well,staying at Thane,have own 2 bhk flat in well known complex, also have a shop in the same area which has been given on rent to a reputed bank for ATM for last 3 years and getting attractive rent against it,have made some FDs, as another income source,these are apart from my regular income,no liability and responsibility. I am quite reserved and introvert,don't participate in social events and gatherings,although very humble, polite,and responsible. I am a teetotaler,like reading books and watching movies and spending time alone in the midst of nature,very simple person."
       ]
      },
      {
       "output_type": "stream",
       "stream": "stdout",
       "text": [
        "\n",
        "1406"
       ]
      },
      {
       "output_type": "stream",
       "stream": "stdout",
       "text": [
        " http://www.simplymarry.com/matrimonial/groom/SMM1609918/Hindu/Mali/Satish-Ambadas-Gadge\n",
        "I am very simple and straight forward person. Looks average and dont like liars. Working in fortune procuratators pvt ltd &amp; working as a technical person."
       ]
      },
      {
       "output_type": "stream",
       "stream": "stdout",
       "text": [
        "\n",
        "1407"
       ]
      },
      {
       "output_type": "stream",
       "stream": "stdout",
       "text": [
        " http://www.simplymarry.com/matrimonial/groom/SMM1467227/Hindu/Bhavasar-Kshatriya/Vigneshwaran\n",
        "I am down to earth, realistic, simple person with dreams to achieve great heights in life, looking for good looking family girl. I am living with my parents, nuclear family. Father is a businessman, mother is a Housewife &amp; three sisters got married."
       ]
      },
      {
       "output_type": "stream",
       "stream": "stdout",
       "text": [
        "\n",
        "1408"
       ]
      },
      {
       "output_type": "stream",
       "stream": "stdout",
       "text": [
        " http://www.simplymarry.com/matrimonial/groom/punm1366696/Hindu/Brahmin---Smartha/Suhas-Kulkarni\n",
        "I am a friendly, enjoy the company of people. Traveling, and beauty of nature is one of my passions. likes to succeed in life. responsible person who can take good care of my family. I lose my composure and temper.ADJUSTABLE IN ANY CIRCUMSTANCES AND MODE OF THE LIFE WITH HAPPY MINDED"
       ]
      },
      {
       "output_type": "stream",
       "stream": "stdout",
       "text": [
        "\n",
        "1409"
       ]
      },
      {
       "output_type": "stream",
       "stream": "stdout",
       "text": [
        " http://www.simplymarry.com/matrimonial/groom/SMM1456505/Hindu/Mahar/Sushil-Rangari\n",
        "I'm simple person, living simple life, doing a job in one of the MNC in nagpur as linux system admin; i'm here to look for a good life partner, i believe in simplicity of life. my life partner should be honest with me and honest with her own."
       ]
      },
      {
       "output_type": "stream",
       "stream": "stdout",
       "text": [
        "\n",
        "1410"
       ]
      },
      {
       "output_type": "stream",
       "stream": "stdout",
       "text": [
        " http://www.simplymarry.com/matrimonial/groom/SMM1570841/Hindu/Brahmin/Shyam-Kulkarni\n",
        "hello this is shyam i m here for some good relationship and a nice partner, i m a doctor by profession in mumbai. if any one interested do contact. i come from a very modern family . pls no bogus profile contact"
       ]
      },
      {
       "output_type": "stream",
       "stream": "stdout",
       "text": [
        "\n",
        "1411"
       ]
      },
      {
       "output_type": "stream",
       "stream": "stdout",
       "text": [
        " http://www.simplymarry.com/matrimonial/groom/SMM1464746/Buddhist/Dushyant\n",
        "Fun loving, adaptable, caring and sensitive, determined, hardworking and outgoing."
       ]
      },
      {
       "output_type": "stream",
       "stream": "stdout",
       "text": [
        "\n",
        "1412"
       ]
      },
      {
       "output_type": "stream",
       "stream": "stdout",
       "text": [
        " http://www.simplymarry.com/matrimonial/groom/SMM1406933/Buddhist/Amit-Anand-Pawar\n",
        "Hi, I am Amit pawar. I have completed my degree in Computers. I am currently working as a Software Developer and Programmer. simple &amp; helping nature, my dad is retired from Hindustan lever &amp; mom is retired from govt. Sales tax."
       ]
      },
      {
       "output_type": "stream",
       "stream": "stdout",
       "text": [
        "\n",
        "1413"
       ]
      },
      {
       "output_type": "stream",
       "stream": "stdout",
       "text": [
        " http://www.simplymarry.com/matrimonial/groom/SMM1610210/Hindu/Maratha/Raj-Sagar\n",
        "I'm a fun loving person having a good sense of humour. Caring, honest and love making people around me happy."
       ]
      },
      {
       "output_type": "stream",
       "stream": "stdout",
       "text": [
        "\n",
        "1414"
       ]
      },
      {
       "output_type": "stream",
       "stream": "stdout",
       "text": [
        " http://www.simplymarry.com/matrimonial/groom/SMM1533415/Hindu/Maratha/Nilesh-Shivaji-Chalke\n",
        "I'm from simple middle class family. I respect my parents &amp; my culture. I follow liberal family values &amp; have a broad outlook towards life. I'm a nature lover and enjoy travelling. By nature, I am a soft spoken, kind hearted, hardworking and self-reliant with an attitude to face any problem thrown up by life and have a knack of finding solutions."
       ]
      },
      {
       "output_type": "stream",
       "stream": "stdout",
       "text": [
        "\n",
        "1415"
       ]
      },
      {
       "output_type": "stream",
       "stream": "stdout",
       "text": [
        " http://www.simplymarry.com/matrimonial/groom/punm1333477/Hindu/Brahmin---Kokanastha/Chandrashekhar-Bapat\n",
        "I am M.Tech from Mumabi IIT and working in multinational at Pune. I am smart, good looking, tall and slim guy. I am simple and down to earth person and with no smoking, drinking habits and of vegeterian diet. I wish to develop my career and settle in Pune mainly"
       ]
      },
      {
       "output_type": "stream",
       "stream": "stdout",
       "text": [
        "\n",
        "1416"
       ]
      },
      {
       "output_type": "stream",
       "stream": "stdout",
       "text": [
        " http://www.simplymarry.com/matrimonial/groom/SMM1495741/Buddhist/Ajay-Haridasji-Nitnaware\n",
        "I am a simple, honest, down to earth and like to live in the joint family, respective about elders. my father heads our family, 2 elder brothers both r married, 1 younger brother working as principal at pvt.college and 1 loving sister married last year."
       ]
      },
      {
       "output_type": "stream",
       "stream": "stdout",
       "text": [
        "\n",
        "1417"
       ]
      },
      {
       "output_type": "stream",
       "stream": "stdout",
       "text": [
        " http://www.simplymarry.com/matrimonial/groom/SMM1599039/Hindu/Chambhar/Santosh-Mahadev-Shinde\n",
        "I am a very honest person and seek someone similar. Looking for a person who is understanding, respectful and is good in nature. I am doing job as an Auditor in Kolkata."
       ]
      },
      {
       "output_type": "stream",
       "stream": "stdout",
       "text": [
        "\n",
        "1418"
       ]
      },
      {
       "output_type": "stream",
       "stream": "stdout",
       "text": [
        " http://www.simplymarry.com/matrimonial/groom/SMM1471958/Hindu/Mali/Pankaj-J.-Mali\n",
        "Cool, like to speak always truth, doesn't matter who likes it or not. Caring, little emotional. Have dreams and trying to get them. Living with mother in her own home. Faced lot of pains in life."
       ]
      },
      {
       "output_type": "stream",
       "stream": "stdout",
       "text": [
        "\n",
        "1419"
       ]
      },
      {
       "output_type": "stream",
       "stream": "stdout",
       "text": [
        " http://www.simplymarry.com/matrimonial/groom/SMM1432683/Hindu/Maratha/Aditya-Jadhav\n",
        "I am Aditya Jadhav. I have completed my Masters in Computers/ IT from UK. My friends describe me as confident, smart and funny person and find internet in singing."
       ]
      },
      {
       "output_type": "stream",
       "stream": "stdout",
       "text": [
        "\n",
        "1420"
       ]
      },
      {
       "output_type": "stream",
       "stream": "stdout",
       "text": [
        " http://www.simplymarry.com/matrimonial/groom/SMM1422142/Buddhist/Gaurav-Ashok-Kate\n",
        "i am simple, hardworking, ambitious and having caring nature. i m looking for a simple, caring, well educated, well settled life partner."
       ]
      },
      {
       "output_type": "stream",
       "stream": "stdout",
       "text": [
        "\n",
        "1421"
       ]
      },
      {
       "output_type": "stream",
       "stream": "stdout",
       "text": [
        " http://www.simplymarry.com/matrimonial/groom/tham1332314/Hindu/Maratha/Sarvesh-Pingulkar\n",
        "I would like to present myself as an affectionate, organised, loyal, decent, enthusiastic, stable &amp; compassionate with a captivating personality and positive approach towards life.I identify with and appreciate the values of Hinduism but consider myself spiritual more than religious. Belonging to a closely tied family I give due importance to my parents decisions. I have been brought up in a traditional family under the guidance of my caring parents who inculcated in me a sense of reverence, diligence and sincerity. I am a socially poised, family oriented person who can be a responsible and caring partner. My friends describe me as a focused person who knows how to balance personal and professional life. To me, marriage is an intimate bond between two souls, based on trust, honesty, love, Understanding, and accepting the other person unconditionally."
       ]
      },
      {
       "output_type": "stream",
       "stream": "stdout",
       "text": [
        "\n",
        "1422"
       ]
      },
      {
       "output_type": "stream",
       "stream": "stdout",
       "text": [
        " http://www.simplymarry.com/matrimonial/groom/SMM1406379/Hindu/Kshatriya/Kunal-Rajpurkar\n",
        "I'm a person who finds happiness in little things in life, like finding a good read, traveling and exploring new places, enjoying music and being creative in everything I do. Being creative gives me the freedom of expression and brings out the best in me."
       ]
      },
      {
       "output_type": "stream",
       "stream": "stdout",
       "text": [
        "\n",
        "1423"
       ]
      },
      {
       "output_type": "stream",
       "stream": "stdout",
       "text": [
        " http://www.simplymarry.com/matrimonial/groom/SMM1495429/Hindu/Lingayath/Mantesh-Ghuli\n",
        "HI MYSELF MANTESH FROM PUNE. I AM HERE LOOKING FOR A GOOD LIFE PARTNER. I AM BASICALLY FROM MIRAJ NEAR SANGLI. I AM WORKING FOR A PHARMA COMPANY AND MY FAMILY OCCUPATION IS AGRICULTURE OF GRAPES."
       ]
      },
      {
       "output_type": "stream",
       "stream": "stdout",
       "text": [
        "\n",
        "1424"
       ]
      },
      {
       "output_type": "stream",
       "stream": "stdout",
       "text": [
        " http://www.simplymarry.com/matrimonial/groom/SMM1398318/Hindu/Dhangar/Bomble-Vikas\n",
        "Myself vikas bomble; i likes to read magazine and write poems and dislikes people who cheat; have a well developed personality and treat others very gently. For me my parents are the foremost priority, they have brought me with good and decent manners. They have always inspired me and supported me in life and i wish to find a partner who is well educated and well mannered."
       ]
      },
      {
       "output_type": "stream",
       "stream": "stdout",
       "text": [
        "\n",
        "1425"
       ]
      },
      {
       "output_type": "stream",
       "stream": "stdout",
       "text": [
        " http://www.simplymarry.com/matrimonial/groom/SMM1447348/Hindu/Brahmin---Saraswat/Viraj-M-Nadkarni\n",
        "He had completed his BDS from Russia &amp; now he is attached to Trust as senior dental surgeon &amp; also having his private clinic."
       ]
      },
      {
       "output_type": "stream",
       "stream": "stdout",
       "text": [
        "\n",
        "1426"
       ]
      },
      {
       "output_type": "stream",
       "stream": "stdout",
       "text": [
        " http://www.simplymarry.com/matrimonial/groom/SMM1498088/Hindu/Kunbi/Hrishikesh-Kokate\n",
        "Down to earth, frm a moderate family, liberal in views, owns flat in posh locality of city, have good academic record; want a fun loving, caring, healthy bride."
       ]
      },
      {
       "output_type": "stream",
       "stream": "stdout",
       "text": [
        "\n",
        "1427"
       ]
      },
      {
       "output_type": "stream",
       "stream": "stdout",
       "text": [
        " http://www.simplymarry.com/matrimonial/groom/SMM1524848/Hindu/Thakur/Vinod-Thakur\n",
        "Working with Network company as MIS Analyst. My free time is for my passion and family like playing cricket and hanging out with family on weekends. I play and enjoy sports like cricket, and badminton. Marriage for me is a life long commitment, which needs to be honored and respected. And I completely believe in the institution of Marriage. I value honesty and dignity in any relationship, and seek a partner with same thinking. I believe in God though I don't visit the temple frequently."
       ]
      },
      {
       "output_type": "stream",
       "stream": "stdout",
       "text": [
        "\n",
        "1428"
       ]
      },
      {
       "output_type": "stream",
       "stream": "stdout",
       "text": [
        " http://www.simplymarry.com/matrimonial/groom/SMM1543020/Hindu/Savji/Babanasa-Katawa\n",
        "Hi, I am Babanasa Katawa from Koppal dist. in Karnataka. Simply family We are 4 members in our home. Father - Astrologer Mother - House Wife Sister - Not Married Presently I am working in UltraTech Cement Ltd ( Adityabirla Group )"
       ]
      },
      {
       "output_type": "stream",
       "stream": "stdout",
       "text": [
        "\n",
        "1429"
       ]
      },
      {
       "output_type": "stream",
       "stream": "stdout",
       "text": [
        " http://www.simplymarry.com/matrimonial/groom/SMM1438471/Hindu/Devang-Koshthi/Rishi\n",
        "I am simple, hardworking and down to earth person. I have completed my M.B.B.S. from B.J. Medical College, Pune and M.D. from King George's Medical University, Lucknow; Currently, I am working as Manager Medical services in pharmaceutical industry in Mumbai."
       ]
      },
      {
       "output_type": "stream",
       "stream": "stdout",
       "text": [
        "\n",
        "1430"
       ]
      },
      {
       "output_type": "stream",
       "stream": "stdout",
       "text": [
        " http://www.simplymarry.com/matrimonial/groom/SMM1499392/Hindu/Maratha/Abhijit\n",
        "I m very simple high thinking person; looking for someone who can understand me and my family who can take care of me and my family responsibilities."
       ]
      },
      {
       "output_type": "stream",
       "stream": "stdout",
       "text": [
        "\n",
        "1431"
       ]
      },
      {
       "output_type": "stream",
       "stream": "stdout",
       "text": [
        " http://www.simplymarry.com/matrimonial/groom/SMM1431328/Jain/Digambar/Sagar-Tikait\n",
        "I am cool person."
       ]
      },
      {
       "output_type": "stream",
       "stream": "stdout",
       "text": [
        "\n",
        "1432"
       ]
      },
      {
       "output_type": "stream",
       "stream": "stdout",
       "text": [
        " http://www.simplymarry.com/matrimonial/groom/SMM1524793/Hindu/Bhandari/Shiv-Pednekar\n",
        "Searching for a bride having characteristics like loving,caring,respecting family members,Do',t have any affair,Enjoyment with life &amp; self dependent,Free mind ,Helping in nature, Working nature with politeness.Long hair(No boy cut) must required."
       ]
      },
      {
       "output_type": "stream",
       "stream": "stdout",
       "text": [
        "\n",
        "1433"
       ]
      },
      {
       "output_type": "stream",
       "stream": "stdout",
       "text": [
        " http://www.simplymarry.com/matrimonial/groom/SMM1390370/Hindu/Brahmin---Kokanastha/Prashant-Marathe\n",
        "caring, fun loving, down to earth"
       ]
      },
      {
       "output_type": "stream",
       "stream": "stdout",
       "text": [
        "\n",
        "1434"
       ]
      },
      {
       "output_type": "stream",
       "stream": "stdout",
       "text": [
        " http://www.simplymarry.com/matrimonial/groom/punm1365297/Hindu/Brahmin/Mayur-Bokil\n",
        "Hobbies - music,movie &amp; cricket\n",
        "i am simple, I am an honest, straight forward.\n",
        "My father retired from pvt. firm &amp; my mother is house wife &amp; my elder sister just married."
       ]
      },
      {
       "output_type": "stream",
       "stream": "stdout",
       "text": [
        "\n",
        "1435"
       ]
      },
      {
       "output_type": "stream",
       "stream": "stdout",
       "text": [
        " http://www.simplymarry.com/matrimonial/groom/SMM1516971/Hindu/Maratha/Yogesh-Salaskar\n",
        "Am fun loving person. i like to travel and i am honest with my family and friends."
       ]
      },
      {
       "output_type": "stream",
       "stream": "stdout",
       "text": [
        "\n",
        "1436"
       ]
      },
      {
       "output_type": "stream",
       "stream": "stdout",
       "text": [
        " http://www.simplymarry.com/matrimonial/groom/SMM1418715/Hindu/Mahar/Rahul-Vitthalrao-Takpire\n",
        "I am a friendly and mischievous person looking for a life partner who cares for my parents and in spite of that she should be beautiful and well educated. I belongs to a middle class family. I like to travel and visit various places. I have traditional values. I am family oriented person. I believe in truth and can't stand or tolerate liar's. I believe that no relationship can stand on false roots. If relationship is like a building than Trust has to be its foundation. Life for me is beautiful if viewed by beautiful eyes."
       ]
      },
      {
       "output_type": "stream",
       "stream": "stdout",
       "text": [
        "\n",
        "1437"
       ]
      },
      {
       "output_type": "stream",
       "stream": "stdout",
       "text": [
        " http://www.simplymarry.com/matrimonial/groom/SMM1584465/Hindu/Maratha/Sarang-K.admane\n",
        "Hi, i am an elder Ssn of Keshavrao Manikrao Admane. I am a Graduate from Arts. Currently working in Police Department, Amravati from Last 5 Years. My friends describe him as loyal, loving, honest, fun to be with, exciting character, warm, I am there when they need my assistance, affectionate, compassionate, romantic, love life my family and friends, most important for me is family values. Motto in life: I try to keep it simple: Conceive - Believe - Achieve. Hobbies: Traveling, Watching TV, Playing Outdoor games like basket ball etc. Favorite sports: Basket Ball, Baseball, Hockey, Cricket. Views on marriage: A marriage is actually the bonding of two souls, a bonding that can either be enhanced or destroyed during the course of events. There are 5 members in our -Happy family. My Father is Government Servant at Town Planning, Wardha Also He is Ex-Servicemen. Mother is a Home maker. My younger brother working with Loreal India Limited. Younger Sister, she is studying in SY-BBA."
       ]
      },
      {
       "output_type": "stream",
       "stream": "stdout",
       "text": [
        "\n",
        "1438"
       ]
      },
      {
       "output_type": "stream",
       "stream": "stdout",
       "text": [
        " http://www.simplymarry.com/matrimonial/groom/mumm1356923/Hindu/Maratha/Jayesh-Surve\n",
        "I am a fun loving guy, believe in living life to the fullest, enjoying every moment. Like to play different kinds of sports and also like to explore new places, and also like to spend time with family and friends."
       ]
      },
      {
       "output_type": "stream",
       "stream": "stdout",
       "text": [
        "\n",
        "1439"
       ]
      },
      {
       "output_type": "stream",
       "stream": "stdout",
       "text": [
        " http://www.simplymarry.com/matrimonial/groom/SMM1531458/Hindu/Maratha/Sunil-Sonavale\n",
        "I am very cool n innocent guy from upper middle class family.I am working with India infoline finance ltd as administratation manager.my mother is house wife.my brother is IPS officer.I am appearing for MPSC."
       ]
      },
      {
       "output_type": "stream",
       "stream": "stdout",
       "text": [
        "\n",
        "1440"
       ]
      },
      {
       "output_type": "stream",
       "stream": "stdout",
       "text": [
        " http://www.simplymarry.com/matrimonial/groom/SMM1538165/Hindu/Nhavi/Mahesh-Divekar\n",
        "I am a very understanding, straightforward and broadminded person... I am looking for a partner who will be a friend, willing to stand by me at every stage of my life... should be well qualified, caring and understanding by nature."
       ]
      },
      {
       "output_type": "stream",
       "stream": "stdout",
       "text": [
        "\n",
        "1441"
       ]
      },
      {
       "output_type": "stream",
       "stream": "stdout",
       "text": [
        " http://www.simplymarry.com/matrimonial/groom/SMM1511307/Buddhist/Avinash-Rajkumar-Chandrikapure\n",
        "Hi i am a person with a mixture of traditional &amp; modern thinking,want to live life in the city like Mumbai ,basically i am from Bhandara District.I have done B.Tech in Chemical Engg. from Dr. B.A.Tech. University Lonere, Raigad. PG Diploma from Suvidhya Institute of Technology Mumbai. Presently I am working with Fluor Daniel India Pvt Ltd. Gurgaon. i am the elder son of my parents,so i am quite responsible person for my family.my younger brother is working in Nagpur.my younger sister is Engg. (IT). working in Pune. my father is a govt retired employee. my mother is house wife.this is all about my family"
       ]
      },
      {
       "output_type": "stream",
       "stream": "stdout",
       "text": [
        "\n",
        "1442"
       ]
      },
      {
       "output_type": "stream",
       "stream": "stdout",
       "text": [
        " http://www.simplymarry.com/matrimonial/groom/SMM1398508/Hindu/Brahmin/Sumant-Sudhir-Mahajan\n",
        "My Brother is a simple guy. He is working with NSN for Vodafone account and handling National Operations Center of their transmission network setup. He like music and sports. He is a good sportsman and also a singer."
       ]
      },
      {
       "output_type": "stream",
       "stream": "stdout",
       "text": [
        "\n",
        "1443"
       ]
      },
      {
       "output_type": "stream",
       "stream": "stdout",
       "text": [
        " http://www.simplymarry.com/matrimonial/groom/SMM1558317/Hindu/Brahmin---Deshastha/Nilesh-Kulkarni\n",
        "Hi, I am Nilesh, I am working with mahindra Institute of Quality as admin. executive. Am a very friendly person and like music and traveling."
       ]
      },
      {
       "output_type": "stream",
       "stream": "stdout",
       "text": [
        "\n",
        "1444"
       ]
      },
      {
       "output_type": "stream",
       "stream": "stdout",
       "text": [
        " http://www.simplymarry.com/matrimonial/groom/mumm1321911/Buddhist/Sandeep-Bhosale\n",
        "I am an adjustable, generous, calm and a person with simple living belief. Like respecting elders and youngsters."
       ]
      },
      {
       "output_type": "stream",
       "stream": "stdout",
       "text": [
        "\n",
        "1445"
       ]
      },
      {
       "output_type": "stream",
       "stream": "stdout",
       "text": [
        " http://www.simplymarry.com/matrimonial/groom/SMM1420930/Hindu/Leva-patil/Rahul-Yewale\n",
        "Hi, I am Rahul from Indore and have done MCA. I am very simple person and friendly in nature, working in IT company in Pune plus as a share broker. I am straightforward boy, believes in god, in family values and having a broad mindset. I like to be happy and makes others happy."
       ]
      },
      {
       "output_type": "stream",
       "stream": "stdout",
       "text": [
        "\n",
        "1446"
       ]
      },
      {
       "output_type": "stream",
       "stream": "stdout",
       "text": [
        " http://www.simplymarry.com/matrimonial/groom/SMM1515753/Hindu/Brahmin---Kokanastha/Girish-Godbole\n",
        "In search of caring, smart partner. Working in ORACLE, Software Testing. Living with parents in pune. Hobbies - Cricket, movies, drama, roam around. Nature- helpful, caring, love to wear diff types of cloths."
       ]
      },
      {
       "output_type": "stream",
       "stream": "stdout",
       "text": [
        "\n",
        "1447"
       ]
      },
      {
       "output_type": "stream",
       "stream": "stdout",
       "text": [
        " http://www.simplymarry.com/matrimonial/groom/SMM1565615/Hindu/Brahmin/V.balaji\n",
        "He is the only son. He is very kind, soft and adjustable person. Needs an employed girl who is adjustable in nature."
       ]
      },
      {
       "output_type": "stream",
       "stream": "stdout",
       "text": [
        "\n",
        "1448"
       ]
      },
      {
       "output_type": "stream",
       "stream": "stdout",
       "text": [
        " http://www.simplymarry.com/matrimonial/groom/mumm1318230/Hindu/Maratha/Rupesh-Mohite\n",
        "Am moderate, liberal and family oriented person who like reading, music, movies, etc."
       ]
      },
      {
       "output_type": "stream",
       "stream": "stdout",
       "text": [
        "\n",
        "1449"
       ]
      },
      {
       "output_type": "stream",
       "stream": "stdout",
       "text": [
        " http://www.simplymarry.com/matrimonial/groom/SMM1492360/Hindu/Devang-Koshthi/Gajanan-Bhad\n",
        "Hi, This is Gajanan, BE in Mechanical engineering and presently working with MNC company as Asst. Manager. I am simple, caring and talkative person in nature. Like to live life as it comes. I have sweet family includes Mom, Dad and one younger brother. I have 3 sisters and all are married and well settled."
       ]
      },
      {
       "output_type": "stream",
       "stream": "stdout",
       "text": [
        "\n",
        "1450"
       ]
      },
      {
       "output_type": "stream",
       "stream": "stdout",
       "text": [
        " http://www.simplymarry.com/matrimonial/groom/SMM1498700/Hindu/Nhavi/Parag\n",
        "Simple in nature but high profile thinking, strong decision maker, attentive towards life &amp; goal, caring in nature, great family background. Ambitious. Capable of Independence; looking for a mutual bride with caring nature who likes people around her."
       ]
      },
      {
       "output_type": "stream",
       "stream": "stdout",
       "text": [
        "\n",
        "1451"
       ]
      },
      {
       "output_type": "stream",
       "stream": "stdout",
       "text": [
        " http://www.simplymarry.com/matrimonial/groom/SMM1498972/Hindu/Maratha/Mukund-Deshmukh\n",
        "I work in an IT company as a Software engineer, live in Pune with a family. I have Completed BE (Computer Science). I like to play guitar and drums. I love watching movies and hanging around at nearby places of Pune."
       ]
      },
      {
       "output_type": "stream",
       "stream": "stdout",
       "text": [
        "\n",
        "1452"
       ]
      },
      {
       "output_type": "stream",
       "stream": "stdout",
       "text": [
        " http://www.simplymarry.com/matrimonial/groom/SMM1388030/Hindu/Kshatriya/Raj\n",
        "I am currently...... working as a software professional .......in a reputed software organization .....in bangalore......Enjoy listening to music...or..watching comedy /light hearted movies/TV programmes... ......................"
       ]
      },
      {
       "output_type": "stream",
       "stream": "stdout",
       "text": [
        "\n",
        "1453"
       ]
      },
      {
       "output_type": "stream",
       "stream": "stdout",
       "text": [
        " http://www.simplymarry.com/matrimonial/groom/SMM1524102/Hindu/Brahmin/Pankaj\n",
        "I m very simple high thinking person. Looking for someone who can understand me and my family members, the one who can take care of me and my support in business responsibilities. I would like to keep my partner always happy by all her wishes and plans."
       ]
      },
      {
       "output_type": "stream",
       "stream": "stdout",
       "text": [
        "\n",
        "1454"
       ]
      },
      {
       "output_type": "stream",
       "stream": "stdout",
       "text": [
        " http://www.simplymarry.com/matrimonial/groom/SMM1520299/Jain/Jain-Others/Chetan-S-Shripanavar\n",
        "I am an highly confident person. Positive approach towards life."
       ]
      },
      {
       "output_type": "stream",
       "stream": "stdout",
       "text": [
        "\n",
        "1455"
       ]
      },
      {
       "output_type": "stream",
       "stream": "stdout",
       "text": [
        " http://www.simplymarry.com/matrimonial/groom/SMM1575143/Hindu/Nhavi/Sopan-Pandit\n",
        "30 yrs, height 5ft 10in, Nhavi, Hindu, Owns a Shop."
       ]
      },
      {
       "output_type": "stream",
       "stream": "stdout",
       "text": [
        "\n",
        "1456"
       ]
      },
      {
       "output_type": "stream",
       "stream": "stdout",
       "text": [
        " http://www.simplymarry.com/matrimonial/groom/SMM1429287/Hindu/Kunal-A-Ingale\n",
        "I'm Kunal, working at Geologging industries as a Geologist. I'm expecting a partner who is friend to me. I am an open minded person, down to earth who always respect people and women and expect the same from others."
       ]
      },
      {
       "output_type": "stream",
       "stream": "stdout",
       "text": [
        "\n",
        "1457"
       ]
      },
      {
       "output_type": "stream",
       "stream": "stdout",
       "text": [
        " http://www.simplymarry.com/matrimonial/groom/punm1374718/Buddhist/Manish-Zambre\n",
        "i am simple &amp; caring person.i have completed my BA (History) from pune university &amp; presently working with m/s Essar steel ltd company from 3 years.in my family we r Five members now mother, brother, Brother in Low &amp; my handsome two nephews. 1 sister she was married she is working in private company in pune."
       ]
      },
      {
       "output_type": "stream",
       "stream": "stdout",
       "text": [
        "\n",
        "1458"
       ]
      },
      {
       "output_type": "stream",
       "stream": "stdout",
       "text": [
        " http://www.simplymarry.com/matrimonial/groom/SMM1587228/Hindu/Devang-Koshthi/Rahul-Jayprakash-Nimankar\n",
        "Hi, we are three in our family. I am confident, kind, and smart. I wish to take admission for M-tech ME &amp; like to continue teaching profession."
       ]
      },
      {
       "output_type": "stream",
       "stream": "stdout",
       "text": [
        "\n",
        "1459"
       ]
      },
      {
       "output_type": "stream",
       "stream": "stdout",
       "text": [
        " http://www.simplymarry.com/matrimonial/groom/SMM1529675/Hindu/Vaddera/Ramesh-Baburao-Shinde\n",
        "I am working in Aurangabad since last 9 years and looking for a girl who should be caring,loving,ambitious,respect to others and much more as that we search in better half.She must be suitable in my family."
       ]
      },
      {
       "output_type": "stream",
       "stream": "stdout",
       "text": [
        "\n",
        "1460"
       ]
      },
      {
       "output_type": "stream",
       "stream": "stdout",
       "text": [
        " http://www.simplymarry.com/matrimonial/groom/kalm1322571/Buddhist/Ashwin-M\n",
        "I am an average person, who love to face challenges and from family who believe in traditional values and i am looking for a person who is helpful by nature and good understanding power. ready to live in a joint family."
       ]
      },
      {
       "output_type": "stream",
       "stream": "stdout",
       "text": [
        "\n",
        "1461"
       ]
      },
      {
       "output_type": "stream",
       "stream": "stdout",
       "text": [
        " http://www.simplymarry.com/matrimonial/groom/SMM1456737/Hindu/Maharashtrian/Anant\n",
        "Hi, Pursuing MBA finance last year From JBIMS &amp; working as an analyst in a reputed company. Rest of the Details would be provided on communication. I am a sincere person,who keeps cool &amp; would love to enjoy ones life.Rest of the Deatils would be provided on communication"
       ]
      },
      {
       "output_type": "stream",
       "stream": "stdout",
       "text": [
        "\n",
        "1462"
       ]
      },
      {
       "output_type": "stream",
       "stream": "stdout",
       "text": [
        " http://www.simplymarry.com/matrimonial/groom/SMM1405646/Hindu/Mali/Atul-Bhujbal\n",
        "I LIVE ALONE IN PUNE. I HAVE BUSINESS IN MUMBAI AND PUNE. I BELONG TO A REPUTED FAMILY AND WELL KNOWN FAMILY IN SOCIETY."
       ]
      },
      {
       "output_type": "stream",
       "stream": "stdout",
       "text": [
        "\n",
        "1463"
       ]
      },
      {
       "output_type": "stream",
       "stream": "stdout",
       "text": [
        " http://www.simplymarry.com/matrimonial/groom/punm1361902/Hindu/Maratha/Sachin-Athawale\n",
        "good looking,well educated,understanding,well culture and nature,like joint family,repsective elders,traditional as well as modern also.caring all,loving."
       ]
      },
      {
       "output_type": "stream",
       "stream": "stdout",
       "text": [
        "\n",
        "1464"
       ]
      },
      {
       "output_type": "stream",
       "stream": "stdout",
       "text": [
        " http://www.simplymarry.com/matrimonial/groom/nagm1360385/Hindu/Brahmin---Deshastha/Vaibbhav-Aserkkar\n",
        "I am from Nagpur. Own business at Nagpur. Looking for a very simple partner with good educational background pref from Nagpur or Pune. Horoscope match is mandatory. Suitable age difference is 3 to 6 yrs."
       ]
      },
      {
       "output_type": "stream",
       "stream": "stdout",
       "text": [
        "\n",
        "1465"
       ]
      },
      {
       "output_type": "stream",
       "stream": "stdout",
       "text": [
        " http://www.simplymarry.com/matrimonial/groom/SMM1504777/Hindu/Brahmin---Kokanastha/Vikram\n",
        "Like travelling,listening instrumental music,reading are few of my hobbies.Like to respect elders.Love doing mathematics.Keeping track of current events.My partner should be focused in life.Should be friendly"
       ]
      },
      {
       "output_type": "stream",
       "stream": "stdout",
       "text": [
        "\n",
        "1466"
       ]
      },
      {
       "output_type": "stream",
       "stream": "stdout",
       "text": [
        " http://www.simplymarry.com/matrimonial/groom/SMM1559757/Hindu/Dhangar/Smm1559757\n",
        "1467"
       ]
      },
      {
       "output_type": "stream",
       "stream": "stdout",
       "text": [
        " http://www.simplymarry.com/matrimonial/groom/SMM1409769/Hindu/Maratha/Sagar-Ramesh-Tawde\n",
        "I am E.X.T.C engineer. I have done my MBA from TORONTO, CANADA. I like driving and traveling. I am very simple and down to earth person. By nature, I am very friendly and caring. I likes simplicity and honesty."
       ]
      },
      {
       "output_type": "stream",
       "stream": "stdout",
       "text": [
        "\n",
        "1468"
       ]
      },
      {
       "output_type": "stream",
       "stream": "stdout",
       "text": [
        " http://www.simplymarry.com/matrimonial/groom/SMM1414761/Buddhist/Akash-Nimsarkar\n",
        "I am working as an assistant manager, and we are four members in my family , my dad and mom both are working in govt sector and one younger brother is also doing job in Mumbai, my hobbies are traveling and experimental with cooking."
       ]
      },
      {
       "output_type": "stream",
       "stream": "stdout",
       "text": [
        "\n",
        "1469"
       ]
      },
      {
       "output_type": "stream",
       "stream": "stdout",
       "text": [
        " http://www.simplymarry.com/matrimonial/groom/SMM1530224/Hindu/Bhandari/Sandeep-Ramesh-Padwal\n",
        "Hi My self Sandeep, Simple, down to earth, like to make friends, Enjoying life with family and friend. Like to surfing and getting knowledge about new gadgets. Like to marry simple, down to earth girl who will be my friend before my wife."
       ]
      },
      {
       "output_type": "stream",
       "stream": "stdout",
       "text": [
        "\n",
        "1470"
       ]
      },
      {
       "output_type": "stream",
       "stream": "stdout",
       "text": [
        " http://www.simplymarry.com/matrimonial/groom/kolm1339726/Jain/Digambar/Santosh-Havale\n",
        "I am a cool guy, very ambitious about my career, want to become a best businessman; having happy go lucky nature, fun loving &amp; very caring; having an emotional nature; love travelling, reading, net surfing and chatting."
       ]
      },
      {
       "output_type": "stream",
       "stream": "stdout",
       "text": [
        "\n",
        "1471"
       ]
      },
      {
       "output_type": "stream",
       "stream": "stdout",
       "text": [
        " http://www.simplymarry.com/matrimonial/groom/kalm1327691/Hindu/Brahmin/Tushar-Sakhare\n",
        "Hi, I'm a Fine Artist (painting) working as a freelancer, like making paintings, murals, illustrations, Designs, etc and also Working with an ICSE school. I like to enjoy life. My interests are traveling, reading, sports, movies and music."
       ]
      },
      {
       "output_type": "stream",
       "stream": "stdout",
       "text": [
        "\n",
        "1472"
       ]
      },
      {
       "output_type": "stream",
       "stream": "stdout",
       "text": [
        " http://www.simplymarry.com/matrimonial/groom/SMM1401376/Hindu/Maratha/Haresh-C.-Parab\n",
        "Hi, Not so much, but a presentable guy who is able to carry life on his own shoulder with my attitude &amp; hard work. off course caring man with always smiling face. Had completed my M.com &amp; MBA Finance &amp; currently with Indian Oil Tanking Ltd as Asst. Mgr Finance, from a good family background &amp; self dependent. I would like to marry a simple, presentable, loving girl, preferably someone who wants to prove her identity after marriage also."
       ]
      },
      {
       "output_type": "stream",
       "stream": "stdout",
       "text": [
        "\n",
        "1473"
       ]
      },
      {
       "output_type": "stream",
       "stream": "stdout",
       "text": [
        " http://www.simplymarry.com/matrimonial/groom/SMM1572266/Hindu/Brahmin/Sumit-M-Topre\n",
        "I am open minded person. Likes adventure, touring. I always try to be a respectable person and a good human being. I respect elders and expect same from others."
       ]
      },
      {
       "output_type": "stream",
       "stream": "stdout",
       "text": [
        "\n",
        "1474"
       ]
      },
      {
       "output_type": "stream",
       "stream": "stdout",
       "text": [
        " http://www.simplymarry.com/matrimonial/groom/SMM1432340/Buddhist/Sushant-S-Tambe\n",
        "i live in dombivoli, not at Delhi as it shows, in search of a decent girl with a lovely nature, i am an engineer working at godrej as a trainee engineer at vikhroli east, i am very frank, down to earth."
       ]
      },
      {
       "output_type": "stream",
       "stream": "stdout",
       "text": [
        "\n",
        "1475"
       ]
      },
      {
       "output_type": "stream",
       "stream": "stdout",
       "text": [
        " http://www.simplymarry.com/matrimonial/groom/SMM1463094/Hindu/Dhangar/Praveen-Laxmanrao-Kare\n",
        "I am simple, caring working as Office Assistant in Nasik '"
       ]
      },
      {
       "output_type": "stream",
       "stream": "stdout",
       "text": [
        "\n",
        "1476"
       ]
      },
      {
       "output_type": "stream",
       "stream": "stdout",
       "text": [
        " http://www.simplymarry.com/matrimonial/groom/SMM1435141/Hindu/Brahmin/Prasad-Prakashrao-Patil\n",
        "I am hardworking person. i have strong positive attitude towards life. i love traveling. my hobbies are reading and listening to songs. i am looking for smart and good looking life partner. my life partner should be well educated. i am lawyer by profession and practice in high court Bombay. i have my own firm based in pune. i am also actively engaged in politics and youth leader of maharashtra navnirman sena."
       ]
      },
      {
       "output_type": "stream",
       "stream": "stdout",
       "text": [
        "\n",
        "1477"
       ]
      },
      {
       "output_type": "stream",
       "stream": "stdout",
       "text": [
        " http://www.simplymarry.com/matrimonial/groom/SMM1605261/Hindu/Shimpi/Sagar-Bachal\n",
        "I am quick, simple and smart person and believes in mutual respect and love."
       ]
      },
      {
       "output_type": "stream",
       "stream": "stdout",
       "text": [
        "\n",
        "1478"
       ]
      },
      {
       "output_type": "stream",
       "stream": "stdout",
       "text": [
        " http://www.simplymarry.com/matrimonial/groom/SMM1492253/Buddhist/Vikrant-Ohol\n",
        "Hi, my name is vikrant ohol; i'm a self employed person. Need a good understanding girl who can gel well and is loving towards me and my family."
       ]
      },
      {
       "output_type": "stream",
       "stream": "stdout",
       "text": [
        "\n",
        "1479"
       ]
      },
      {
       "output_type": "stream",
       "stream": "stdout",
       "text": [
        " http://www.simplymarry.com/matrimonial/groom/SMM1479367/Buddhist/Sheshraj\n",
        "We are five members in our family; my family is very loving caring; one and the best family in the world; I am a person who hate lies and love truth; i m very loyal and trust worthy kind of a person."
       ]
      },
      {
       "output_type": "stream",
       "stream": "stdout",
       "text": [
        "\n",
        "1480"
       ]
      },
      {
       "output_type": "stream",
       "stream": "stdout",
       "text": [
        " http://www.simplymarry.com/matrimonial/groom/belm1380451/Hindu/Maratha/Prasad-Patil\n",
        "i m looking for a mate who can always walk with me through the ocean called life... a loving caring and supporting mate . who is always motivated, would prefer working partner so that understanding remains and grows throughout life. she should be family oriented and should respect ma parents the way i do and in return will give the same love to her and her family"
       ]
      },
      {
       "output_type": "stream",
       "stream": "stdout",
       "text": [
        "\n",
        "1481"
       ]
      },
      {
       "output_type": "stream",
       "stream": "stdout",
       "text": [
        " http://www.simplymarry.com/matrimonial/groom/mumm1350724/Hindu/Bhandari/Harshad-Sudhakar-Pilankar\n",
        "I would like to introduce myself as a simple person, understanding, loving, caring and also introvert, optimist with considerate and conservative thoughts and sophisticated attitude in general. Coming from a typical Maharashtrian middle-class family which teaches us the value of strong relationship bond, class morals and modesty. I am open to explore new things in terms of personal growth. Interested in translations, painting, reading interesting books, articles and write-ups on issues that matters, cooking, solitude, nature and beauty. I admire genuineness in a person. I would like to lead more fulfilled and meaningful family life."
       ]
      },
      {
       "output_type": "stream",
       "stream": "stdout",
       "text": [
        "\n",
        "1482"
       ]
      },
      {
       "output_type": "stream",
       "stream": "stdout",
       "text": [
        " http://www.simplymarry.com/matrimonial/groom/SMM1527356/Hindu/Veerashaiva/Datta-Jogdandkar\n",
        "Hey, I can say that I'm not an ordinary person. I love to dream. I'm very creative and it's connected with my profession. I devote most of my time to friends and I always find inspiration in emotions."
       ]
      },
      {
       "output_type": "stream",
       "stream": "stdout",
       "text": [
        "\n",
        "1483"
       ]
      },
      {
       "output_type": "stream",
       "stream": "stdout",
       "text": [
        " http://www.simplymarry.com/matrimonial/groom/SMM1390809/Hindu/Lingayath/Sontakke-Shivkumar-Venkatrao\n",
        "My friend is a very fair and handsome boy not a man."
       ]
      },
      {
       "output_type": "stream",
       "stream": "stdout",
       "text": [
        "\n",
        "1484"
       ]
      },
      {
       "output_type": "stream",
       "stream": "stdout",
       "text": [
        " http://www.simplymarry.com/matrimonial/groom/SMM1517442/Hindu/Brahmin---Kokanastha/Yogesh-Bedekar\n",
        "I am currently working in an MNC in Bangalore. I returned from the US last year. I like most of the sports and also reading.\n",
        "My home town is Nagpur. I am looking for a suitable match in the age group 24-30."
       ]
      },
      {
       "output_type": "stream",
       "stream": "stdout",
       "text": [
        "\n",
        "1485"
       ]
      },
      {
       "output_type": "stream",
       "stream": "stdout",
       "text": [
        " http://www.simplymarry.com/matrimonial/groom/SMM1459798/Hindu/Mahar/Gajendra\n",
        "Hi..i like to listen music,to watch reality shows &amp; cricket.currently working with auto sector and based at Raipur and looking after customer service.I also love to natural thigs which gives me something pleasure."
       ]
      },
      {
       "output_type": "stream",
       "stream": "stdout",
       "text": [
        "\n",
        "1486"
       ]
      },
      {
       "output_type": "stream",
       "stream": "stdout",
       "text": [
        " http://www.simplymarry.com/matrimonial/groom/SMM1510172/Hindu/Brahmin---Kokanastha/Atrivarad-Joshi\n",
        "I am smart, handsome and a blend of modern and traditional values. A postgraduate mechanical engineer and a design engineer by profession in a engineering consultancy."
       ]
      },
      {
       "output_type": "stream",
       "stream": "stdout",
       "text": [
        "\n",
        "1487"
       ]
      },
      {
       "output_type": "stream",
       "stream": "stdout",
       "text": [
        " http://www.simplymarry.com/matrimonial/groom/rigm1317786/Hindu/Agri/Sandip-Patil\n",
        "I am a simple man. I Be lived in Indian culture. I am understanding.person. I have 8 persons in my family. Mother, Father 01 brother(unmarried), 3 sisters (Married) and a granny. I working with one Pvt Ltd company as a warehouse executive."
       ]
      },
      {
       "output_type": "stream",
       "stream": "stdout",
       "text": [
        "\n",
        "1488"
       ]
      },
      {
       "output_type": "stream",
       "stream": "stdout",
       "text": [
        " http://www.simplymarry.com/matrimonial/groom/SMM1412124/Hindu/Maratha/Dinesh-Maharao\n",
        "I am a very Simple person. I enjoy my life in my own way, finding out my soul mate who understands my feelings &amp; my family very well. I am really honest person."
       ]
      },
      {
       "output_type": "stream",
       "stream": "stdout",
       "text": [
        "\n",
        "1489"
       ]
      },
      {
       "output_type": "stream",
       "stream": "stdout",
       "text": [
        " http://www.simplymarry.com/matrimonial/groom/mumm1354389/Hindu/Maratha/Umesh-Kagade\n",
        "Hi, this is Umesh kagade, born and bought up in Mumbai. I am an Engineer by profession and working with an MNC in Mumbai. I'm from a financially well to do family, owns a 2bhk flat in Navi Mumbai. Looking for a smart, and intelligent girl."
       ]
      },
      {
       "output_type": "stream",
       "stream": "stdout",
       "text": [
        "\n",
        "1490"
       ]
      },
      {
       "output_type": "stream",
       "stream": "stdout",
       "text": [
        " http://www.simplymarry.com/matrimonial/groom/SMM1398560/Hindu/Swakula-Sali/Hemant\n",
        "I am Amol, working as a Graphic Designer in Ganraj Advertising, Nanded."
       ]
      },
      {
       "output_type": "stream",
       "stream": "stdout",
       "text": [
        "\n",
        "1491"
       ]
      },
      {
       "output_type": "stream",
       "stream": "stdout",
       "text": [
        " http://www.simplymarry.com/matrimonial/groom/SMM1534005/Hindu/Koli-Mahadev/Ajinkya-Chimaji-Rengade\n",
        "Hi i am ajinkya i simple boy and beautiful boy"
       ]
      },
      {
       "output_type": "stream",
       "stream": "stdout",
       "text": [
        "\n",
        "1492"
       ]
      },
      {
       "output_type": "stream",
       "stream": "stdout",
       "text": [
        " http://www.simplymarry.com/matrimonial/groom/SMM1423581/Hindu/CKP/Chetan\n",
        "i am fun loving &amp; easy going person. loves to enjoy life to the fullest take each day as it comes is my mantra of life. even living apart from my family for a quite a while now i respect family values the most."
       ]
      },
      {
       "output_type": "stream",
       "stream": "stdout",
       "text": [
        "\n",
        "1493"
       ]
      },
      {
       "output_type": "stream",
       "stream": "stdout",
       "text": [
        " http://www.simplymarry.com/matrimonial/groom/SMM1550925/Hindu/Mahar/Manish-Meshram\n",
        "I am a simple well behaved guy. Like Sports, Traveling and being Happy always. I am a Hardworking person also fun loving, like to be physically fit, have nice and delicious food. I am looking for a simple girl to whom i could relate to."
       ]
      },
      {
       "output_type": "stream",
       "stream": "stdout",
       "text": [
        "\n",
        "1494"
       ]
      },
      {
       "output_type": "stream",
       "stream": "stdout",
       "text": [
        " http://www.simplymarry.com/matrimonial/groom/SMM1608292/Hindu/Mahar/Jitesh-Kewldas-Borkar\n",
        "Coming from the middle class family."
       ]
      },
      {
       "output_type": "stream",
       "stream": "stdout",
       "text": [
        "\n",
        "1495"
       ]
      },
      {
       "output_type": "stream",
       "stream": "stdout",
       "text": [
        " http://www.simplymarry.com/matrimonial/groom/SMM1521461/Hindu/Suthar/Ganesh\n",
        "I am a very dynamic and enthusiastic personality with a descent lifestyle that suits IT industry. I like to visit adventurous places, also I am a very techno savvy person.Along with the above points. I am very flexible adjustable kind of person."
       ]
      },
      {
       "output_type": "stream",
       "stream": "stdout",
       "text": [
        "\n",
        "1496"
       ]
      },
      {
       "output_type": "stream",
       "stream": "stdout",
       "text": [
        " http://www.simplymarry.com/matrimonial/groom/barm1343999/Hindu/Brahmin/Dharmendra-W\n",
        "Self employed, engaged in providing consulting services in coordination,international business relations and management functions."
       ]
      },
      {
       "output_type": "stream",
       "stream": "stdout",
       "text": [
        "\n",
        "1497"
       ]
      },
      {
       "output_type": "stream",
       "stream": "stdout",
       "text": [
        " http://www.simplymarry.com/matrimonial/groom/mumm1339581/Hindu/Somvanshi/Praveer-Morey\n",
        "I am friendly fun loving and caring person. I love music and I am a health freak. I like to hang out with my friends on weekends. I want my partenr to be friendly understanding and honest."
       ]
      },
      {
       "output_type": "stream",
       "stream": "stdout",
       "text": [
        "\n",
        "1498"
       ]
      },
      {
       "output_type": "stream",
       "stream": "stdout",
       "text": [
        " http://www.simplymarry.com/matrimonial/groom/SMM1555330/Hindu/Maratha/Parikshit-Joshi\n",
        "I am a normal guy next door. Like watching movies and hanging out with friends. Born and brought up in Mumbai and plan to settle down in the same place. Working for an MNC Bank in Mumbai since the past 2 years"
       ]
      },
      {
       "output_type": "stream",
       "stream": "stdout",
       "text": [
        "\n",
        "1499"
       ]
      },
      {
       "output_type": "stream",
       "stream": "stdout",
       "text": [
        " http://www.simplymarry.com/matrimonial/groom/ratm1376275/Hindu/Brahmin---Rigvedi/Rajesh-Ghotikar\n",
        "loving n caring person who is devoted to work n have spiritual values. accept joint family nature. graduate. no matter to any speaking language but it matters cultural values."
       ]
      },
      {
       "output_type": "stream",
       "stream": "stdout",
       "text": [
        "\n",
        "1500"
       ]
      },
      {
       "output_type": "stream",
       "stream": "stdout",
       "text": [
        " http://www.simplymarry.com/matrimonial/groom/SMM1424416/Hindu/Suthar/Sanjay-Kisan-Borade\n",
        "ME VERY HARD WORKING PERSON AND FINALLY I CAN TAKE MY FAMILY RESPONSIBILITY. ME DOING BUSINESS IN FACILITY MANAGEMENT SERVICE SECTOR. I HAVE SUFFERED A LOT IN MY LIFE BUT NOW I AM STAND WELL AND TOOK DECISION OF MARRIAGE. ME VERY FRIENDLY BY NATURE, REALISTIC IN LIFE, AND HELPING PERSON."
       ]
      },
      {
       "output_type": "stream",
       "stream": "stdout",
       "text": [
        "\n",
        "1501"
       ]
      },
      {
       "output_type": "stream",
       "stream": "stdout",
       "text": [
        " http://www.simplymarry.com/matrimonial/groom/SMM1520096/Buddhist/Kaushal-M\n",
        "A software engineer by profession currently working for a European MNC, was based in office at Miami, Florida USA, recently returned to India.love music, traveling and sports. looking for a caring and loving girl ready to settle in Pune or abroad."
       ]
      },
      {
       "output_type": "stream",
       "stream": "stdout",
       "text": [
        "\n",
        "1502"
       ]
      },
      {
       "output_type": "stream",
       "stream": "stdout",
       "text": [
        " http://www.simplymarry.com/matrimonial/groom/SMM1553921/Hindu/Maratha/Ganesh-Patil\n",
        "Myself Ganesh Patil, lived in Jalna city. Am MA or MSW in social work. Seeking for a very job but currently working in a Central Govt. scehem as a Peon (Contract base)."
       ]
      },
      {
       "output_type": "stream",
       "stream": "stdout",
       "text": [
        "\n",
        "1503"
       ]
      },
      {
       "output_type": "stream",
       "stream": "stdout",
       "text": [
        " http://www.simplymarry.com/matrimonial/groom/SMM1400113/Hindu/Mali/B.b.-Bhadke\n",
        "Am looking some one who is well educated and carrier oriented, smart, open minded, good moral. My family have good social back ground and also my family is former back back ground. Nearly I am shift At Pune or Other good place."
       ]
      },
      {
       "output_type": "stream",
       "stream": "stdout",
       "text": [
        "\n",
        "1504"
       ]
      },
      {
       "output_type": "stream",
       "stream": "stdout",
       "text": [
        " http://www.simplymarry.com/matrimonial/groom/mumm1363723/Buddhist/Apurva-Khushal-Turkane\n",
        "Myself, Apurva Turkane, a fun loving person and prefer simplicity and practicality in life. I am honest, loving and straight forward. Interests lie in listening Instrumental music. Way to a man heart is through his stomach holds true for me, I am a complete foodie. Enjoy playing, watching cricket. Also a movie buff. I was born in Mumbai and brought up in Nagpur. Did my BE in Computers from Nagpur and MBA from JBIMS, Mumbai. Currently working as Sales Manager based out of Mumbai."
       ]
      },
      {
       "output_type": "stream",
       "stream": "stdout",
       "text": [
        "\n",
        "1505"
       ]
      },
      {
       "output_type": "stream",
       "stream": "stdout",
       "text": [
        " http://www.simplymarry.com/matrimonial/groom/tham1342703/Hindu/Maratha/Yogesh-Borhade\n",
        "I am Yogesh from Thane, Dombivli, but recently joined with one of the IT MNC in Pune. I have done Engineering Diploma in Electronics &amp; Telecommunication. Belongs from a well cultured, educated family having moderate values. We are five members in our middle class family. Father is employed and got VRS. Mother is a housewife. Two younger sisters of which one is married, working &amp; happily settled in Chincwad, Pune, and another one has completed Architecture and is working as a Jr. Architect in Mumbai based firm."
       ]
      },
      {
       "output_type": "stream",
       "stream": "stdout",
       "text": [
        "\n",
        "1506"
       ]
      },
      {
       "output_type": "stream",
       "stream": "stdout",
       "text": [
        " http://www.simplymarry.com/matrimonial/groom/SMM1392517/Hindu/Dhangar/Mahesh-Laxman-Dhoke\n",
        "Hi myself Mahesh working in worlds No.1 Insurance co. as a chief Life Insurance Advisor; my job is to recruit ambitious carrier oriented girls-boys, housewife, real-estate agents, CA, doctors, lawyers, diploma holders, postal rd agents, full time, part time, train them and procure life insurance business all over the world and thus i am looking for an ambitious carrier oriented life partner."
       ]
      },
      {
       "output_type": "stream",
       "stream": "stdout",
       "text": [
        "\n",
        "1507"
       ]
      },
      {
       "output_type": "stream",
       "stream": "stdout",
       "text": [
        " http://www.simplymarry.com/matrimonial/groom/SMM1416857/Hindu/Teli/Rahul-Dudhe\n",
        "We are a simple normal family with normal aspirations in life. Looking for a girl from a traditional family, who loves her family and should be understanding. She should be capable of facing challenges."
       ]
      },
      {
       "output_type": "stream",
       "stream": "stdout",
       "text": [
        "\n",
        "1508"
       ]
      },
      {
       "output_type": "stream",
       "stream": "stdout",
       "text": [
        " http://www.simplymarry.com/matrimonial/groom/SMM1477008/Hindu/Maratha/Harshad\n",
        "I am Caring, Loving, Honest and Down to Earth, from a cultured and well educated Business family. Like to travel, long drives explore new places. Looking for an educated, caring, flexible partner with family values and respect for Indian Culture."
       ]
      },
      {
       "output_type": "stream",
       "stream": "stdout",
       "text": [
        "\n",
        "1509"
       ]
      },
      {
       "output_type": "stream",
       "stream": "stdout",
       "text": [
        " http://www.simplymarry.com/matrimonial/groom/SMM1393885/Hindu/Bhandari/Santosh-Dattaram-Dhuri\n",
        "HI, I AM SANTOSH BORN AND BROUGHT UP IN MUMBAI. PRESENTLY STAYING IN VIRAR IN MY OWN DREAM HOUSE WHICH I OWNED LAST YEAR. HARD WORKING &amp; SIMPLE LIVING. LIVING &amp; LIKE JOINT FAMILY. ENJOYING MY LIFE WITH FRIENDS, LOVE TO TRAVEL."
       ]
      },
      {
       "output_type": "stream",
       "stream": "stdout",
       "text": [
        "\n",
        "1510"
       ]
      },
      {
       "output_type": "stream",
       "stream": "stdout",
       "text": [
        " http://www.simplymarry.com/matrimonial/groom/mumm1317289/Hindu/96K-Kokanastha/Sandeep-Sawant\n",
        "im from maharashtrian family graduate in chemistry like to read book , travelling is hobby ,driving is my passion , introvert by nature but like to spent time with friend &amp; family"
       ]
      },
      {
       "output_type": "stream",
       "stream": "stdout",
       "text": [
        "\n",
        "1511"
       ]
      },
      {
       "output_type": "stream",
       "stream": "stdout",
       "text": [
        " http://www.simplymarry.com/matrimonial/groom/SMM1607072/Hindu/Kunbi/Anil-Hargude\n",
        "I am a simple guy, working as a Commissioning Engineer in an MNC firm and am basically from Nagpur."
       ]
      },
      {
       "output_type": "stream",
       "stream": "stdout",
       "text": [
        "\n",
        "1512"
       ]
      },
      {
       "output_type": "stream",
       "stream": "stdout",
       "text": [
        " http://www.simplymarry.com/matrimonial/groom/SMM1471430/Hindu/Nhavi/Ninad-Kinhikar\n",
        "I am a simple and caring person. I have good sense of humor and enjoy company of similar witty individuals. I have an optimistic &amp; positive approach towards life. I am energetic, confident and have clear planning about my future career direction. I am aware of my responsibilities. My present assignment is with Bajaj Life Insurance Ltd as a State HR Head (Western Maharashtra &amp; CG) based in Nagpur. I like to spend my free time with my friends. Also I read a lot when not busy with work. I like to travel whenever possible, especially on most weekends. I respect and believe in my culture. I am looking for a well educated, considerate, supportive, life partner who also believes in cultural values."
       ]
      },
      {
       "output_type": "stream",
       "stream": "stdout",
       "text": [
        "\n",
        "1513"
       ]
      },
      {
       "output_type": "stream",
       "stream": "stdout",
       "text": [
        " http://www.simplymarry.com/matrimonial/groom/SMM1546724/Hindu/Lingayath/Prashant-Pirangute\n",
        "I am simple, funny person. having family values and friendly in nature. I am looking for a girl who can understand me &amp; my family, support me whenever needed. I love travelling and photography."
       ]
      },
      {
       "output_type": "stream",
       "stream": "stdout",
       "text": [
        "\n",
        "1514"
       ]
      },
      {
       "output_type": "stream",
       "stream": "stdout",
       "text": [
        " http://www.simplymarry.com/matrimonial/groom/SMM1484942/Hindu/Teli/Rahul-H.-Dabade\n",
        "I am very cool, very simple &amp; very emotional. i m a networking engineer &amp; i m playing cricket for Air India team. i like to play cricket &amp; i m very interested to work in computers technologies. i like traveling &amp; shopping &amp; i like talkative and emotional people."
       ]
      },
      {
       "output_type": "stream",
       "stream": "stdout",
       "text": [
        "\n",
        "1515"
       ]
      },
      {
       "output_type": "stream",
       "stream": "stdout",
       "text": [
        " http://www.simplymarry.com/matrimonial/groom/SMM1484842/Buddhist/Swapnil-Lihitkar\n",
        "I am down to earth, looking for a friend cum life partner as my life partner. In my family, there are three members, mom, me and my elder sister."
       ]
      },
      {
       "output_type": "stream",
       "stream": "stdout",
       "text": [
        "\n",
        "1516"
       ]
      },
      {
       "output_type": "stream",
       "stream": "stdout",
       "text": [
        " http://www.simplymarry.com/matrimonial/groom/SMF1437766/Hindu/Brahmin---Kokanastha/Aniruddha-A.mate\n",
        "I AM SIMPLE MALE, I AM LIVING WITH MY PARENTS, MY FAMILY MEMBERS INCLUDE ONLY MY MOTHER AND FATHER, NO BROTHER OR SISTER, MY QUALIFICATION IS B.COM, I AM CURRENTLY WORKING IN SALES EXECUTIVE IN PUNE CITY ALSO HAVE A SIDE BUSINESS IN PUNE AREA. I AM TAKING CARE OF MY FAMILY VERY WELL."
       ]
      },
      {
       "output_type": "stream",
       "stream": "stdout",
       "text": [
        "\n",
        "1517"
       ]
      },
      {
       "output_type": "stream",
       "stream": "stdout",
       "text": [
        " http://www.simplymarry.com/matrimonial/groom/SMM1526418/Hindu/Teli/Anil-Pise\n",
        "I am honest, fun loving, and understanding person. I like travelling, watching movies and listening music. I have done MCA and currently working in National Informatics Center (NIC) as Scintific/Tech. Asso -B. I am a simple person believing simple living . I am expecting same kind of a person."
       ]
      },
      {
       "output_type": "stream",
       "stream": "stdout",
       "text": [
        "\n",
        "1518"
       ]
      },
      {
       "output_type": "stream",
       "stream": "stdout",
       "text": [
        " http://www.simplymarry.com/matrimonial/groom/SMM1580928/Hindu/Devang-Koshthi/Sagar-Hore\n",
        "Belong to a middle class family. I am working for an nationalized bank. My dad is retired banker my is working for an nationalized bank, my younger bother is pursuing engineering. We are four member in the family. As person I am an introvert but i love adventure and traveling. i love to play badminton and cricket but do follow tennis and badminton. Reading is not my forte but will definitely love to read novels once in a while. I am completing my Masters from Nashik. my family is traditional family believes in relations and rituals but with broad mind set. Would love to have a partner that would understands me and family as her's. Seek my partner to be a best friend to mine."
       ]
      },
      {
       "output_type": "stream",
       "stream": "stdout",
       "text": [
        "\n",
        "1519"
       ]
      },
      {
       "output_type": "stream",
       "stream": "stdout",
       "text": [
        " http://www.simplymarry.com/matrimonial/groom/SMM1417318/Hindu/Maratha/Prakash-Mohan-Gawde\n",
        "Hi, I am prakash, i am working at VAMAN INSTRUMENTS COMPANY AS A Service engineer. I am working at PUNE Branch."
       ]
      },
      {
       "output_type": "stream",
       "stream": "stdout",
       "text": [
        "\n",
        "1520"
       ]
      },
      {
       "output_type": "stream",
       "stream": "stdout",
       "text": [
        " http://www.simplymarry.com/matrimonial/groom/punm1337707/Hindu/Brahmin/Milind-Joshi\n",
        "A free spirit- this is how I would like to describe myself. I am a friendly, fun loving and jovial person and enjoy the company of like-minded people. Travelling, exploring new places and beauty of nature is one of my passions. At the same time, I am an ambitious person, who likes to succeed in life. I would also like to describe myself as a kind, considerate and responsible person who can take good care of my family. I carry a calm, composed and steady head on my shoulders and very rarely lose my composure and temper."
       ]
      },
      {
       "output_type": "stream",
       "stream": "stdout",
       "text": [
        "\n",
        "1521"
       ]
      },
      {
       "output_type": "stream",
       "stream": "stdout",
       "text": [
        " http://www.simplymarry.com/matrimonial/groom/SMM1409730/Buddhist/Nishant-G\n",
        "I'm currently doing my second year MD in Dermatology in the prestigious Jawaharlal institute of Post graduate Medical Education and Research (JIPMER). I've completed my MBBS from MUMBAI. I'm athletic; like sports, music, reading, travelling. have an active outdoor lifestyle, and would like it if my partner has similar tastes and views."
       ]
      },
      {
       "output_type": "stream",
       "stream": "stdout",
       "text": [
        "\n",
        "1522"
       ]
      },
      {
       "output_type": "stream",
       "stream": "stdout",
       "text": [
        " http://www.simplymarry.com/matrimonial/groom/punm1284137/Hindu/Brahmin---Saraswat/Punm1284137\n",
        "According my friends I am a smart, intelligent, caring and a warm person with a good sense of humor. I am grounded with a good mix of east and west. I love traveling, listening to music (anything) and watching movies (though selective). I do have my independent thoughts and decision making abilities. With friends and close family I am very talkative and cheerful person but reserved with strangers. I am health conscious and truly believe that 'Health is Wealth\". I like to keep myself fit with regular exercise and a person with positive mind-frame. I believe in living healthy lifestyle.I make friends easily and can settle anywhere in the world. I enjoy my profession and doing well, although I am not very ambitious and career minded; I am a workaholic, hard core, practical, independent and truly self-made, person who only believe in hard working with a positive attitude towards life."
       ]
      },
      {
       "output_type": "stream",
       "stream": "stdout",
       "text": [
        "\n",
        "1523"
       ]
      },
      {
       "output_type": "stream",
       "stream": "stdout",
       "text": [
        " http://www.simplymarry.com/matrimonial/groom/SMM1390467/Hindu/Brahmin/Ramakanth-Kulkarni\n",
        "iam from middle class family, iam from tradational family,iam purely vegeterian.ihave no bad habbits.my nature is give respect take respect.iwant same and good life partner.iam not interested in dowery. iam cool&calm; going person. i respect family values.i believe in god."
       ]
      },
      {
       "output_type": "stream",
       "stream": "stdout",
       "text": [
        "\n",
        "1524"
       ]
      },
      {
       "output_type": "stream",
       "stream": "stdout",
       "text": [
        " http://www.simplymarry.com/matrimonial/groom/SMM1531228/Buddhist/Sanket-Somkuwar\n",
        "Simple, fun loving extrovert. Like to read read travel and eat. No smoking and drinking habits. Looking for someone willing to ready to move to either pune, banglore or mumbai. Dad is a retired SBI officer, mom housewife, elder brother MBBS, MD radiologist and married."
       ]
      },
      {
       "output_type": "stream",
       "stream": "stdout",
       "text": [
        "\n",
        "1525"
       ]
      },
      {
       "output_type": "stream",
       "stream": "stdout",
       "text": [
        " http://www.simplymarry.com/matrimonial/groom/SMM1386287/Hindu/Agri/Rupesh-Tare\n",
        "Hi! i am Rupesh. I am currently working as a Manager with Manish Travels. I belong to a middle class family with great values."
       ]
      },
      {
       "output_type": "stream",
       "stream": "stdout",
       "text": [
        "\n",
        "1526"
       ]
      },
      {
       "output_type": "stream",
       "stream": "stdout",
       "text": [
        " http://www.simplymarry.com/matrimonial/groom/SMM1574501/Hindu/Maratha/Shriraj-Mohan-Desai\n",
        "HI, I AM SHRIRAJ DESAI. I HAVE COMPLETED B.COM IN BHONSLA MILITARY COLLAGE FROM NASHIK."
       ]
      },
      {
       "output_type": "stream",
       "stream": "stdout",
       "text": [
        "\n",
        "1527"
       ]
      },
      {
       "output_type": "stream",
       "stream": "stdout",
       "text": [
        " http://www.simplymarry.com/matrimonial/groom/SMM1386157/Hindu/Maratha/Ajay-Dange\n",
        "I am from Pune, working as a Software Supp Engg in the banking sector as well as doing business of land dealing and constructions. Am a divorce, very fun loving person who find interest in sports, trekking, dancing and cooking."
       ]
      },
      {
       "output_type": "stream",
       "stream": "stdout",
       "text": [
        "\n",
        "1528"
       ]
      },
      {
       "output_type": "stream",
       "stream": "stdout",
       "text": [
        " http://www.simplymarry.com/matrimonial/groom/SMM1533205/Buddhist/Santosh-Sable\n",
        "I am person with lot of ambitions of which some are still in the process of achieving. I am an easy go along kind of a person who mingles up immediately with others. Have a friendly nature with social and cultural values. I am family oriented. I am passionate about natural places and like exploring them. I aspire to make a career in Finance as a CFA though currently working in a BPO (WNS)."
       ]
      },
      {
       "output_type": "stream",
       "stream": "stdout",
       "text": [
        "\n",
        "1529"
       ]
      },
      {
       "output_type": "stream",
       "stream": "stdout",
       "text": [
        " http://www.simplymarry.com/matrimonial/groom/SMM1507227/Hindu/Kshatriya/Yashvant\n",
        "Myself Yashvant and am looking for a life partner who should be simple, caring, educated, co-operative and supportive. I am working in IT industry with a MNC."
       ]
      },
      {
       "output_type": "stream",
       "stream": "stdout",
       "text": [
        "\n",
        "1530"
       ]
      },
      {
       "output_type": "stream",
       "stream": "stdout",
       "text": [
        " http://www.simplymarry.com/matrimonial/groom/SMM1424297/Muslim/Sunni/Mehboob-Chandbhai-Saiyyad\n",
        "I m an electronics engineer. my first preference is for my family. i m very silent and simple man, looking for a beautiful well qualified girl, b.tech qualified girl first preferred. i have plans to marry in 2014."
       ]
      },
      {
       "output_type": "stream",
       "stream": "stdout",
       "text": [
        "\n",
        "1531"
       ]
      },
      {
       "output_type": "stream",
       "stream": "stdout",
       "text": [
        " http://www.simplymarry.com/matrimonial/groom/SMM1533888/Hindu/Matang/Ravi-Sihnde\n",
        "I am an Artist cum Design, I like simple girls who love to me and i love her, I like open relation, free mind, understanding, well educated, love to make people happy and believe in simple living high thinking."
       ]
      },
      {
       "output_type": "stream",
       "stream": "stdout",
       "text": [
        "\n",
        "1532"
       ]
      },
      {
       "output_type": "stream",
       "stream": "stdout",
       "text": [
        " http://www.simplymarry.com/matrimonial/groom/SMM1427303/Buddhist/Bhushan-Walde\n",
        "myself bhushan walde, s/o shri manohar walde, we are 4 members in my sweet family, me, mom, &amp; little sister. i have my own retail &amp; wholesale shop in bhilai &amp; raipur."
       ]
      },
      {
       "output_type": "stream",
       "stream": "stdout",
       "text": [
        "\n",
        "1533"
       ]
      },
      {
       "output_type": "stream",
       "stream": "stdout",
       "text": [
        " http://www.simplymarry.com/matrimonial/groom/SMM1462072/Buddhist/Sandeep-Dongre\n",
        "I am sandeep dongre, a cool boy, like to stay fit n fine, i like playing football, basketball, swimming and horse riding. want a well and like minded partner."
       ]
      },
      {
       "output_type": "stream",
       "stream": "stdout",
       "text": [
        "\n",
        "1534"
       ]
      },
      {
       "output_type": "stream",
       "stream": "stdout",
       "text": [
        " http://www.simplymarry.com/matrimonial/groom/tham1304813/Hindu/Brahmin--Gowd-Saraswat/Prashant-Wagle\n",
        "I would describe myself as level headed, responsible and easy going. An engineering graduate from the University of Mumbai, I worked with software companies( TCS /Patni) in India for 5 years. Post that I completed my MBA from the University of Florida. I am currently working as a Program Manager with Tech company in Gainesville Florida. I really love what I do and am passionate about my work."
       ]
      },
      {
       "output_type": "stream",
       "stream": "stdout",
       "text": [
        "\n",
        "1535"
       ]
      },
      {
       "output_type": "stream",
       "stream": "stdout",
       "text": [
        " http://www.simplymarry.com/matrimonial/groom/SMM1480364/Hindu/Maratha/Mahendra-Sawant\n",
        "I am very honest and caring person. Looking for the same in my life partner. I believe in myself. We are a nuclear family."
       ]
      },
      {
       "output_type": "stream",
       "stream": "stdout",
       "text": [
        "\n",
        "1536"
       ]
      },
      {
       "output_type": "stream",
       "stream": "stdout",
       "text": [
        " http://www.simplymarry.com/matrimonial/groom/SMM1400287/Hindu/Chambhar/Rajendra-Chougale\n",
        "I am good looking, well qualified,straight forward,ambitious guy working with micro finance organisation in Mumbai."
       ]
      },
      {
       "output_type": "stream",
       "stream": "stdout",
       "text": [
        "\n",
        "1537"
       ]
      },
      {
       "output_type": "stream",
       "stream": "stdout",
       "text": [
        " http://www.simplymarry.com/matrimonial/groom/punm1303736/Hindu/Maratha/Parshuram-Arsul\n",
        "I am self a confident Boy. Whatever i desired till date i got it.I like to do every thing but differently. I believe in true Friendship, because people can't live without each other trust. I always accept challenge because i think difficulties is the part of life and If I can't face difficulties then I will not understand value of success in life. According to point view Friendship is GOD give valuable GIFT, we should respect this relationship."
       ]
      },
      {
       "output_type": "stream",
       "stream": "stdout",
       "text": [
        "\n",
        "1538"
       ]
      },
      {
       "output_type": "stream",
       "stream": "stdout",
       "text": [
        " http://www.simplymarry.com/matrimonial/groom/punm1351146/Buddhist/Shashil-Kose\n",
        "I am friendly and happy go-lucky kind of a person. Love to make friends and love spending time with my family &amp; friends. Working in a private financial Solutions firm in Pune as a Asst. Administration Manager."
       ]
      },
      {
       "output_type": "stream",
       "stream": "stdout",
       "text": [
        "\n",
        "1539"
       ]
      },
      {
       "output_type": "stream",
       "stream": "stdout",
       "text": [
        " http://www.simplymarry.com/matrimonial/groom/SMM1569200/Buddhist/Sanil-Rangari\n",
        "Hi, I am a fun loving, down to earth person. I like listening music in free time. Recently discovered my passion for cooking. As much as I am career oriented person, I maintain my personal life very well. I am looking for a cheerful girl with family values."
       ]
      },
      {
       "output_type": "stream",
       "stream": "stdout",
       "text": [
        "\n",
        "1540"
       ]
      },
      {
       "output_type": "stream",
       "stream": "stdout",
       "text": [
        " http://www.simplymarry.com/matrimonial/groom/mumm1312620/Hindu/Mahar/A\n",
        "Looking for a suitable match for our son, currently working in a MNC Bank, after his BE &amp; IIM, MBA. We come from a well-educated family and look for a girl with good family background, values and sound professional qualification. My son is technically classified under 'Divorced', though he was separated within a month without any issues.His marriage was annulled due to totally incompatible cultural or moral issues. My son is a very smart, intelligent, caring and friendly person. He is a honest, hardworking boy who respects elders. He likes traveling, driving, photography and sports. He completed his PGDM from the IIM, prior to which he was a University ranker at Instrumentation Engineering. He is currently working at a MNC Bank."
       ]
      },
      {
       "output_type": "stream",
       "stream": "stdout",
       "text": [
        "\n",
        "1541"
       ]
      },
      {
       "output_type": "stream",
       "stream": "stdout",
       "text": [
        " http://www.simplymarry.com/matrimonial/groom/rigm1332585/Hindu/Kunbi/Pramod-Jagade\n",
        "I am B.sc educated, simple, like modern life style; believe in god, emotional, help others, like to get connect with people, share happiness &amp; sorrow. Like to sing and from a joint family."
       ]
      },
      {
       "output_type": "stream",
       "stream": "stdout",
       "text": [
        "\n",
        "1542"
       ]
      },
      {
       "output_type": "stream",
       "stream": "stdout",
       "text": [
        " http://www.simplymarry.com/matrimonial/groom/SMM1412109/Hindu/Brahmin/Smm1412109\n",
        "Hi, I am shailesh, well settled, working in IT company in Pune. Staying alone in Pune. Parents live at Aurangabad, which is my native place. I have 1 brother and 1 sister, both are married. Looking for a simple and down to earth person as life partner."
       ]
      },
      {
       "output_type": "stream",
       "stream": "stdout",
       "text": [
        "\n",
        "1543"
       ]
      },
      {
       "output_type": "stream",
       "stream": "stdout",
       "text": [
        " http://www.simplymarry.com/matrimonial/groom/mumm1322513/Buddhist/Girish-Tembhurne\n",
        "I am working with TCS as Project - Technical Lead profile and my designation is Backup Project Leader (Infrastructure). Completed my MBA-IT from Welingkar College Mumbai. I do respect elders, cultural &amp; family values."
       ]
      },
      {
       "output_type": "stream",
       "stream": "stdout",
       "text": [
        "\n",
        "1544"
       ]
      },
      {
       "output_type": "stream",
       "stream": "stdout",
       "text": [
        " http://www.simplymarry.com/matrimonial/groom/mumm1359266/Muslim/Others/Mushtaq-Shaikh\n",
        "ABOUT HER SHE SHOULD BE VERY RELIGIOUS PERSON OBEDIENT RESPECTFUL ACCEPTABLE TO FAMILY,LOVABLE CARING,HARDWORKING,HAVING PATIENCE,VERY SUPPORTIVE...."
       ]
      },
      {
       "output_type": "stream",
       "stream": "stdout",
       "text": [
        "\n",
        "1545"
       ]
      },
      {
       "output_type": "stream",
       "stream": "stdout",
       "text": [
        " http://www.simplymarry.com/matrimonial/groom/SMM1526210/Hindu/Maratha/Vaibhav-Bajirao-Karpe\n",
        "hi, myself vaibhav, i have completed my mba (HR), and now doing a job in private sector. i am very simple loveable, friendly and believe in hard work. 5 members in my family. my father is retired from police, mother is housewife. i have a 2 brothers."
       ]
      },
      {
       "output_type": "stream",
       "stream": "stdout",
       "text": [
        "\n",
        "1546"
       ]
      },
      {
       "output_type": "stream",
       "stream": "stdout",
       "text": [
        " http://www.simplymarry.com/matrimonial/groom/SMM1476792/Hindu/Sonar/Aakash-Ashok-Nandurkar\n",
        "I am passionate about physical fitness, I like peace, kind and helpful. I am looking for someone who can equally understand me and cooperate, adjust with me (vice versa). I am looking for someone who is good looking, genuine in personality and smart by brain."
       ]
      },
      {
       "output_type": "stream",
       "stream": "stdout",
       "text": [
        "\n",
        "1547"
       ]
      },
      {
       "output_type": "stream",
       "stream": "stdout",
       "text": [
        " http://www.simplymarry.com/matrimonial/groom/SMM1597422/Hindu/Laxman-Javir\n",
        "I run my own business at my native place. Living at Solapur with with my mother. Have lots of friends and like to stay in friend circle."
       ]
      },
      {
       "output_type": "stream",
       "stream": "stdout",
       "text": [
        "\n",
        "1548"
       ]
      },
      {
       "output_type": "stream",
       "stream": "stdout",
       "text": [
        " http://www.simplymarry.com/matrimonial/groom/SMM1486141/Hindu/Kokanastha-Maratha/Rakesh-Chavan\n",
        "Hi, i am fun loving guy and takes life as it is comes, rather than wasting time to think for tomorrow would always prefer to enjoy today's each and every moment. Always respect other feelings and opinions, love to travel most and like all kinds of adventures sports."
       ]
      },
      {
       "output_type": "stream",
       "stream": "stdout",
       "text": [
        "\n",
        "1549"
       ]
      },
      {
       "output_type": "stream",
       "stream": "stdout",
       "text": [
        " http://www.simplymarry.com/matrimonial/groom/tham1280038/Hindu/Brahmin/Pranav-Joshi\n",
        "My son is well manered,well behaved,good natured.He is good looking with pleasing personality. He likes simplisity. He do not smoke,do not drink.We believe in God. He do not have siblings,he is our only child."
       ]
      },
      {
       "output_type": "stream",
       "stream": "stdout",
       "text": [
        "\n",
        "1550"
       ]
      },
      {
       "output_type": "stream",
       "stream": "stdout",
       "text": [
        " http://www.simplymarry.com/matrimonial/groom/SMM1476188/Hindu/Kokanastha-Maratha/Mandar-Kafre\n",
        "I have lived my life on own terms and i am self made person.Simple and caring nature, works in a software industry from last 8 years. Love to travel, love music. Friendly in nature and very talkative. I know how to balance my personal and professional life, currently pursuing MBA in IT."
       ]
      },
      {
       "output_type": "stream",
       "stream": "stdout",
       "text": [
        "\n",
        "1551"
       ]
      },
      {
       "output_type": "stream",
       "stream": "stdout",
       "text": [
        " http://www.simplymarry.com/matrimonial/groom/SMM1459590/Hindu/Brahmin---Deshastha/Nikhil-Vivek-Purandare\n",
        "I Am administrating business, dealing in Mobile Sales, Services n Solutions, also Iron-Steel and related structural materials(family business since 60yrs) in Nipani( place in betwn kolhapur and Belgaum)\n",
        "Looking for a suitable match who has a perfect blend of tradition, family values and modernisation. Thanks."
       ]
      },
      {
       "output_type": "stream",
       "stream": "stdout",
       "text": [
        "\n",
        "1552"
       ]
      },
      {
       "output_type": "stream",
       "stream": "stdout",
       "text": [
        " http://www.simplymarry.com/matrimonial/groom/nagm1351225/Hindu/Koshti/Jitendra-Parate\n",
        "I am a straight forward person with my responsibilities towards my beloved ones. I like to travel a lot. I like to share everything with my family &amp; close friends. Its just a try to make my small world more beautiful."
       ]
      },
      {
       "output_type": "stream",
       "stream": "stdout",
       "text": [
        "\n",
        "1553"
       ]
      },
      {
       "output_type": "stream",
       "stream": "stdout",
       "text": [
        " http://www.simplymarry.com/matrimonial/groom/SMM1559458/Hindu/Vinod-Rao-Nikkam\n",
        "Vinod is a simple, cool person who is ambitious about his career and loves to spend his free time with family and friends. He is searching for a special person with whom he can share everything and be with that person all the time."
       ]
      },
      {
       "output_type": "stream",
       "stream": "stdout",
       "text": [
        "\n",
        "1554"
       ]
      },
      {
       "output_type": "stream",
       "stream": "stdout",
       "text": [
        " http://www.simplymarry.com/matrimonial/groom/SMM1542902/Hindu/Vaniya/Manoj-Mitkari\n",
        "Understanding, open minded, simple person. Interested in reading positive attitude books and listening music. Working in one of the MNC as a software Engg in mumbai. Planning to shift to Pune and future plan is to become a successful businessman."
       ]
      },
      {
       "output_type": "stream",
       "stream": "stdout",
       "text": [
        "\n",
        "1555"
       ]
      },
      {
       "output_type": "stream",
       "stream": "stdout",
       "text": [
        " http://www.simplymarry.com/matrimonial/groom/nasm1277729/Hindu/Brahmin---Kokanastha/Vaibhav-Wad\n",
        "I work with MNC IT company in Pune as software Enng in Stock Market profile. Apart from the busy schedule, love to go out with frnds for long drive on weekends and holidays. I am a very down to earth &amp; a pure vegetarian person with clean habits."
       ]
      },
      {
       "output_type": "stream",
       "stream": "stdout",
       "text": [
        "\n",
        "1556"
       ]
      },
      {
       "output_type": "stream",
       "stream": "stdout",
       "text": [
        " http://www.simplymarry.com/matrimonial/groom/SMM1585292/Hindu/Chambhar/Sushil-Sakhare\n",
        "I'm Sushil sakhare, am simple, straight forward, fun loving, cool and friendly person by nature. Right now, working as Medicine Registrar in one of the reputed hospitals."
       ]
      },
      {
       "output_type": "stream",
       "stream": "stdout",
       "text": [
        "\n",
        "1557"
       ]
      },
      {
       "output_type": "stream",
       "stream": "stdout",
       "text": [
        " http://www.simplymarry.com/matrimonial/groom/SMM1418250/Hindu/CKP/Rugved-Vasant-Khopkar\n",
        "I am simple, fun loving and a hard working individual. I have a very open outlook towards life. Pursing BCA last year and currently working as a Microsoft Technical Consultant at WIPRO, in Navi Mumbai."
       ]
      },
      {
       "output_type": "stream",
       "stream": "stdout",
       "text": [
        "\n",
        "1558"
       ]
      },
      {
       "output_type": "stream",
       "stream": "stdout",
       "text": [
        " http://www.simplymarry.com/matrimonial/groom/othm1286458/Hindu/Brahmin/Makarand-Barve\n",
        "I AM COMMERCE GRADUATE BUT WORKING IN CIVIL CONSTRUCTION LINE AND UNDERTAKING WATERPROOFING CONTRACTOR. SIMPLE DOWN TO EARTH .HOBBIES READING MUSIC.WHITISH SLIM LOOKING FOR SIMPLE FAMILY ORIENTED GIRL"
       ]
      },
      {
       "output_type": "stream",
       "stream": "stdout",
       "text": [
        "\n",
        "1559"
       ]
      },
      {
       "output_type": "stream",
       "stream": "stdout",
       "text": [
        " http://www.simplymarry.com/matrimonial/groom/SMM1405701/Hindu/Brahmin---Kokanastha/Nikhil\n",
        "Hi, Am Nikhil. I love to be simple but yet stylish; love to make friends; less talkative but mingles up easily. My partner should be cute, understanding and love me a lot."
       ]
      },
      {
       "output_type": "stream",
       "stream": "stdout",
       "text": [
        "\n",
        "1560"
       ]
      },
      {
       "output_type": "stream",
       "stream": "stdout",
       "text": [
        " http://www.simplymarry.com/matrimonial/groom/SMM1458666/Buddhist/Vishal-Bajirao-Bhosale\n",
        "My self vishal bhosale,completed my Mechanical Engg from MIT Pune. Now also appeared for GATE exam for external M-Tech. Recently working in Alfa Laval (I) Ltd Pune as a planning Engg. Searching for bride ( Good looking, Fair &amp; family oriented )"
       ]
      },
      {
       "output_type": "stream",
       "stream": "stdout",
       "text": [
        "\n",
        "1561"
       ]
      },
      {
       "output_type": "stream",
       "stream": "stdout",
       "text": [
        " http://www.simplymarry.com/matrimonial/groom/SMM1446048/Hindu/Maratha/Suyash-Adhav\n",
        "I am a mixture of traditional and modern values. I love all kind of sports activity. Traveling around to different places is my hobby and now want a partner who will accompany me everywhere."
       ]
      },
      {
       "output_type": "stream",
       "stream": "stdout",
       "text": [
        "\n",
        "1562"
       ]
      },
      {
       "output_type": "stream",
       "stream": "stdout",
       "text": [
        " http://www.simplymarry.com/matrimonial/groom/punm1357852/Hindu/Brahmin/Swapnil-Kulkarni\n",
        "Currently, working as a Team Leader in Infosys. My aspiration is to grow as Operations Manager in next 2yrs."
       ]
      },
      {
       "output_type": "stream",
       "stream": "stdout",
       "text": [
        "\n",
        "1563"
       ]
      },
      {
       "output_type": "stream",
       "stream": "stdout",
       "text": [
        " http://www.simplymarry.com/matrimonial/groom/mumm1322364/Hindu/Maratha/Pramod-Patil\n",
        "Myself Pramod patil, very down to earth person. We are five members in my family: my elder Brother, younger Sister, she is a homemaker, dad is retired and am working as Piping draftsman at Mumbai."
       ]
      },
      {
       "output_type": "stream",
       "stream": "stdout",
       "text": [
        "\n",
        "1564"
       ]
      },
      {
       "output_type": "stream",
       "stream": "stdout",
       "text": [
        " http://www.simplymarry.com/matrimonial/groom/SMM1425005/Hindu/Kumbhar/Santosh-Salvi\n",
        "I am a Software Professional employed in an leading IT company. I was born and brought up in Kolhapur and after completing my graduation I moved to Pune where I currently work and live. I am simple person with positive attitude towards life."
       ]
      },
      {
       "output_type": "stream",
       "stream": "stdout",
       "text": [
        "\n",
        "1565"
       ]
      },
      {
       "output_type": "stream",
       "stream": "stdout",
       "text": [
        " http://www.simplymarry.com/matrimonial/groom/SMM1494917/Buddhist/Hansraj-Viasrao-Sartape\n",
        "Have 1 brother &amp; 1sister. I am a person who obey responsibilities about the family; sincere about the job; like to listen music. I am frank and like eating all types of foods."
       ]
      },
      {
       "output_type": "stream",
       "stream": "stdout",
       "text": [
        "\n",
        "1566"
       ]
      },
      {
       "output_type": "stream",
       "stream": "stdout",
       "text": [
        " http://www.simplymarry.com/matrimonial/groom/SMM1518009/Hindu/Suthar/Smm1518009\n",
        "I would describe my self as practical person who takes life as it comes. Am a nature lover, other hobbies includes staying fit, indoor sports, driving country sides &amp; listening to Indian music. Journey so far was learning &amp; improving to become better person. Now am looking forward for settling down in life &amp; enjoy company of life partner &amp; plan something better for future generation to come. I have a daughter of 2.5 years custody of which is not with me."
       ]
      },
      {
       "output_type": "stream",
       "stream": "stdout",
       "text": [
        "\n",
        "1567"
       ]
      },
      {
       "output_type": "stream",
       "stream": "stdout",
       "text": [
        " http://www.simplymarry.com/matrimonial/groom/SMM1403692/Hindu/Brahmin---Deshastha/Omkar-Nirgudkar\n",
        "I am working in Fortune 500 Company which is also a Govt Company just like my father who was also a Govt Servent. I am eligibal for full pension benifits as par Govt rule after retirnment. I can walk with support of stick on my own I can drive car &amp; do all work on mine. A brother who is perfectly normal &amp; helthy is engg. in America with his wife &amp; child. We are healthy familiy in all respect Company has given me accomodation"
       ]
      },
      {
       "output_type": "stream",
       "stream": "stdout",
       "text": [
        "\n",
        "1568"
       ]
      },
      {
       "output_type": "stream",
       "stream": "stdout",
       "text": [
        " http://www.simplymarry.com/matrimonial/groom/SMM1558027/Buddhist/Shailesh-Ashok-Khaire\n",
        "I am a choreographer and i wish to marry a girl who is very innocent and good looking and be very careful to my family she should be graduate and have some basic knowledge of computer once who can be very supportive to me."
       ]
      },
      {
       "output_type": "stream",
       "stream": "stdout",
       "text": [
        "\n",
        "1569"
       ]
      },
      {
       "output_type": "stream",
       "stream": "stdout",
       "text": [
        " http://www.simplymarry.com/matrimonial/groom/SMM1501790/Hindu/Dhobi/Pramod-Padmakar-Jadhav\n",
        "Myself Pramod, I am from Latur, Maharashtra, currently staying in Pune for Education &amp; job purpose."
       ]
      },
      {
       "output_type": "stream",
       "stream": "stdout",
       "text": [
        "\n",
        "1570"
       ]
      },
      {
       "output_type": "stream",
       "stream": "stdout",
       "text": [
        " http://www.simplymarry.com/matrimonial/groom/SMM1425941/Hindu/Brahmin/Aniket-Manathkar\n",
        "My brother is SE, he is working in a software company."
       ]
      },
      {
       "output_type": "stream",
       "stream": "stdout",
       "text": [
        "\n",
        "1571"
       ]
      },
      {
       "output_type": "stream",
       "stream": "stdout",
       "text": [
        " http://www.simplymarry.com/matrimonial/groom/SMM1426596/Buddhist/Scheduled-Caste/Premendra-Ramteke\n",
        "I AM VERY DOWN TO EARTH AND SIMPLE GUY AND LOOKING FOR THE SIMILAR PAIR. I AM AN ENGINEER AND MBA IN OPERATIONS AND CURRENTLY WORKING WITH VIJAYA BANK (GOVT UNDERTAKING )AS SENIOR MANAGER MMG-III AT MUMBAI.I AM THE ONLY SON IN MY FAMILY AND MY FATHER IS RETIRED FROM CENTRAL GOVT AND MOTHER IS A HOUSE WIFE LIVING IN NAGPUR.I AM BASICALLY FROM NAGPUR CITY."
       ]
      },
      {
       "output_type": "stream",
       "stream": "stdout",
       "text": [
        "\n",
        "1572"
       ]
      },
      {
       "output_type": "stream",
       "stream": "stdout",
       "text": [
        " http://www.simplymarry.com/matrimonial/groom/SMM1429216/Hindu/Kumbhar/Nitesh-Pathak\n",
        "I am a person who Believe in Simple living &amp; high thinking; respectful to others, Like to make a friends. My friend describe me as Friendly &amp; lovable natured peson; Fun Loving &amp; enjoy each moment of my life. Likes reading Technical novels, Watching movies, listening songs, Driving &amp; trekking on hillside."
       ]
      },
      {
       "output_type": "stream",
       "stream": "stdout",
       "text": [
        "\n",
        "1573"
       ]
      },
      {
       "output_type": "stream",
       "stream": "stdout",
       "text": [
        " http://www.simplymarry.com/matrimonial/groom/SMM1504426/Hindu/Kunbi/Sameer-Sakharam-Mandavkar\n",
        "I am a simple guy from Mumbai. After completing my ITI, Im working in shipping company as a marine tech. I am living with my family. My family members are my father, mother, and two younger brother. My mother is housewife and my father works in pvt ltd company."
       ]
      },
      {
       "output_type": "stream",
       "stream": "stdout",
       "text": [
        "\n",
        "1574"
       ]
      },
      {
       "output_type": "stream",
       "stream": "stdout",
       "text": [
        " http://www.simplymarry.com/matrimonial/groom/SMM1517315/Hindu/Maratha/Prashant-R-Parab\n",
        "I'm very simple, honest &amp; senti kind of person, Straight forward. Basically i belong to Lower-Middle Class family. I m very reserve kind of personality but i have a lots of friends.Im also very much interested to find someone who will respect others, who is adjustable, romantic and hold a very rich heart"
       ]
      },
      {
       "output_type": "stream",
       "stream": "stdout",
       "text": [
        "\n",
        "1575"
       ]
      },
      {
       "output_type": "stream",
       "stream": "stdout",
       "text": [
        " http://www.simplymarry.com/matrimonial/groom/SMM1551834/Hindu/Dhangar/Sachin-Muley\n",
        "Done BCS and MBA from Pune, Settled in Pune and living here from last 5 yrs. Working as a Sr. Software Developer in Koregaon Park, Pune and drawing Rs. 500000 lakh per year."
       ]
      },
      {
       "output_type": "stream",
       "stream": "stdout",
       "text": [
        "\n",
        "1576"
       ]
      },
      {
       "output_type": "stream",
       "stream": "stdout",
       "text": [
        " http://www.simplymarry.com/matrimonial/groom/SMM1469411/Hindu/Maratha/S-Deshmukh\n",
        "My friend is very Simple person with pleasant personality. He is well educated and wants an educated girl from well cultured family. He is fun loving, very intelligent, respectful and from middle class family."
       ]
      },
      {
       "output_type": "stream",
       "stream": "stdout",
       "text": [
        "\n",
        "1577"
       ]
      },
      {
       "output_type": "stream",
       "stream": "stdout",
       "text": [
        " http://www.simplymarry.com/matrimonial/groom/SMM1601595/Hindu/Samir-Deshmukh\n",
        "I am a simple person who likes to live simple and spiritual life. Wants to enjoy every moment of life to the fullest. Looking for a simple and matured girl who will stand by my side in all the situations of life."
       ]
      },
      {
       "output_type": "stream",
       "stream": "stdout",
       "text": [
        "\n",
        "1578"
       ]
      },
      {
       "output_type": "stream",
       "stream": "stdout",
       "text": [
        " http://www.simplymarry.com/matrimonial/groom/tham1312209/Hindu/Maratha/Sameer-Chavan\n",
        "Hello, I am Sameer Chavan, born and raised in Mumbai. I enjoy traveling, listening music, watching movies and playing squash. Occasionally I immerse myself in books. My friends describe me as cheerful, easy going and humorous. I am working as Technical Lead with HCL Technologies Pune. I have previously worked with Infosys."
       ]
      },
      {
       "output_type": "stream",
       "stream": "stdout",
       "text": [
        "\n",
        "1579"
       ]
      },
      {
       "output_type": "stream",
       "stream": "stdout",
       "text": [
        " http://www.simplymarry.com/matrimonial/groom/SMM1431211/Buddhist/Lenindra-B.-Jambhulkar\n",
        "Myself Lenindra Jambhulkar working in Afcons Infrastructure Limited, Mumbai as Safety officer at corporate office. I am simple in nature. I am looking such a girl who is well mannered and well educated."
       ]
      },
      {
       "output_type": "stream",
       "stream": "stdout",
       "text": [
        "\n",
        "1580"
       ]
      },
      {
       "output_type": "stream",
       "stream": "stdout",
       "text": [
        " http://www.simplymarry.com/matrimonial/groom/SMM1421159/Hindu/Maratha/B.-Patil\n",
        "Honesty, sincerity, and commitment always have highest importance in my life. I am friendly and posses a good sense of humor. A strong, independent, confident &amp; ever smiling person, with great ambitions in life,completed BE Mech and PGDBA. Have founded my own engg college approved by Govt of India and working as a founder director; born in Sangli and brought up in Sangli and Pune cities. Hobbies: Nature lover , I like driving , nature, I like searching new things, Playing and Watching Cricket, Watching movies, Reading, Love to explore the places around."
       ]
      },
      {
       "output_type": "stream",
       "stream": "stdout",
       "text": [
        "\n",
        "1581"
       ]
      },
      {
       "output_type": "stream",
       "stream": "stdout",
       "text": [
        " http://www.simplymarry.com/matrimonial/groom/SMM1573251/Hindu/Koli-Mahadev/Ravindra-S-Kudal\n",
        "True, sensible and faithful person who believes in God and his creation. I am looking for skillful girl with her innocent and mature in nature"
       ]
      },
      {
       "output_type": "stream",
       "stream": "stdout",
       "text": [
        "\n",
        "1582"
       ]
      },
      {
       "output_type": "stream",
       "stream": "stdout",
       "text": [
        " http://www.simplymarry.com/matrimonial/groom/mumm1337487/Hindu/Mahar/Shrijan-Narvekar\n",
        "Hi Everyone. Born and brought up in Mumbai, my native place is Goa which we visit once in a year or twice due to presence of my near and dear relatives. My family constitutes of my Mom who is housewife...my younger brother who is working in Mumbai....my sister who is married and happily settled in Mumbai. We have open Culture at home where independence of thoughts and respect for each other comes first Have completed my Masters in Financial Management from Welingkar's Institute, Mumbai. Presently working with an MNC Bank. Loves to spend time with friends......do like reading books and watching movies at weekends...."
       ]
      },
      {
       "output_type": "stream",
       "stream": "stdout",
       "text": [
        "\n",
        "1583"
       ]
      },
      {
       "output_type": "stream",
       "stream": "stdout",
       "text": [
        " http://www.simplymarry.com/matrimonial/groom/mumm1319579/Hindu/Brahmin---Kokanastha/Prathamesh-Patwardhan\n",
        "Am a simple guy and looking for a simple girl from whom can adjust in my family. Someone preferably working in finance sector."
       ]
      },
      {
       "output_type": "stream",
       "stream": "stdout",
       "text": [
        "\n",
        "1584"
       ]
      },
      {
       "output_type": "stream",
       "stream": "stdout",
       "text": [
        " http://www.simplymarry.com/matrimonial/groom/SMM1605095/Hindu/Santosh-Purushottam-Chakor\n",
        "I am loving &amp; caring guy. I like to enjoy every moment of life. I like simplicity. I want to become a master in whatever I may be doing. I am so simple, so people might say an old fashioned guy who dont know about the fashion &amp; today's style statement but i am fine with that, I never like to post my pics on net or anywhere because I am not so smart like others but I have the qualities &amp; determination that other dont have."
       ]
      },
      {
       "output_type": "stream",
       "stream": "stdout",
       "text": [
        "\n",
        "1585"
       ]
      },
      {
       "output_type": "stream",
       "stream": "stdout",
       "text": [
        " http://www.simplymarry.com/matrimonial/groom/SMM1457768/Hindu/Bhandari/Prasad-S-Chindarkar\n",
        "I'm known to be a warm, caring, friendly, family oriented and rational person. I'm pretty easy to get along with, generally a happy, and like to be around people. I need a simple and caring life partner."
       ]
      },
      {
       "output_type": "stream",
       "stream": "stdout",
       "text": [
        "\n",
        "1586"
       ]
      },
      {
       "output_type": "stream",
       "stream": "stdout",
       "text": [
        " http://www.simplymarry.com/matrimonial/groom/SMM1448281/Hindu/Brahmin---Rigvedi/Dr.-Parag-Paluskar\n",
        "I am a jolly, fun loving, easy going, and a hard working Mumbaikar. I love to trek, travel, listen to music, watch movies and also choose to prefer solitude at times. I am fond of hanging out with friends and family. I like to keep myself fit and I work out on a daily basis as a way of life."
       ]
      },
      {
       "output_type": "stream",
       "stream": "stdout",
       "text": [
        "\n",
        "1587"
       ]
      },
      {
       "output_type": "stream",
       "stream": "stdout",
       "text": [
        " http://www.simplymarry.com/matrimonial/groom/SMM1537432/Hindu/Brahmin---Karhade/Mayuresh-Narayan-Mulye\n",
        "I am down to earth, sensitive and an understanding guy. Believe in truth and maintaining trust in every relationship. Strongly believe in Hindu culture. Have respect for elders. Looking for a companion who can become a friend forever and my better half."
       ]
      },
      {
       "output_type": "stream",
       "stream": "stdout",
       "text": [
        "\n",
        "1588"
       ]
      },
      {
       "output_type": "stream",
       "stream": "stdout",
       "text": [
        " http://www.simplymarry.com/matrimonial/groom/mumm1357043/Jain/Digambar/Swarup-Patil\n",
        "I am a management graduate, and work as an assistant manager in the marketing department of a renowned real estate firm. I hail from an upper middle class maharashtrian family. My general outlook towards life is extremely liberal, but I have my head firmly on my shoulders, or so I would like to believe. I am looking for a companion with a similar value system. I am an extrovert by nature. Pretty easy going but not very easily influenced. The atmosphere at home is close knit, while at the same time giving everyone room to breathe. Photography is a passion and a stress buster. I enjoy nature photography a lot, and would like to experiment with wildlife photography whenever I get a chance. Always the presumed photographer at social events with friends, I like to explore my creativity by adding something more to a snap than just the subject. I also enjoy riding and driving, though obviously not in peak hour traffic snarls. I have a musical bend and thoroughly enjoy listening to rock and heavy metal, and some other off beat genres as well. I am fairly active on the theater scene, and enjoy watching movies and plays. My social life is full of zip, and there is always something interesting to do. Reading is another hobby. I would like to devote more time to, but the work hours don't provide a lot of opportunity on that front. Overall an objective person who is practical most of the time. I studied at king George high school, and went to Wilson College to obtain a degree in B.SC in Zoology. I then attended Wigan and Leigh college to do my PGDBM in marketing."
       ]
      },
      {
       "output_type": "stream",
       "stream": "stdout",
       "text": [
        "\n",
        "1589"
       ]
      },
      {
       "output_type": "stream",
       "stream": "stdout",
       "text": [
        " http://www.simplymarry.com/matrimonial/groom/SMM1528150/Hindu/Chambhar/Yogesh-More\n",
        "Simple, down to earth, understanding, caring with impressive personality, likes travelling, cricket, movies watching TV; have high family values, respect elders, helpful nature, born and brought up in joint family"
       ]
      },
      {
       "output_type": "stream",
       "stream": "stdout",
       "text": [
        "\n",
        "1590"
       ]
      },
      {
       "output_type": "stream",
       "stream": "stdout",
       "text": [
        " http://www.simplymarry.com/matrimonial/groom/SMM1528186/Hindu/Sandeep-Sambhaji-Ahire\n",
        "I am cool, sensible responsible person. Like to work, aspire to grow professionally and also like to balance my personal life.\n",
        "I had minor skin prob which i have overcome with Ayurvedic treatment."
       ]
      },
      {
       "output_type": "stream",
       "stream": "stdout",
       "text": [
        "\n",
        "1591"
       ]
      },
      {
       "output_type": "stream",
       "stream": "stdout",
       "text": [
        " http://www.simplymarry.com/matrimonial/groom/SMM1524844/Hindu/Maratha/Swapnil\n",
        "I am a cool kind of person, caring, positive attitude, hate violence in any form. I am a person who believes in focusing on the solution, future rather than the problem or past, love to visit new places."
       ]
      },
      {
       "output_type": "stream",
       "stream": "stdout",
       "text": [
        "\n",
        "1592"
       ]
      },
      {
       "output_type": "stream",
       "stream": "stdout",
       "text": [
        " http://www.simplymarry.com/matrimonial/groom/punm1363990/Hindu/Vanjari/Vijay-Misal\n",
        "hi i m dr.vijay. i m BAMS (DGO). i have my own hospital in pune. i have one brother, he is also a doctor. my father is professor &amp; my mother is house wife."
       ]
      },
      {
       "output_type": "stream",
       "stream": "stdout",
       "text": [
        "\n",
        "1593"
       ]
      },
      {
       "output_type": "stream",
       "stream": "stdout",
       "text": [
        " http://www.simplymarry.com/matrimonial/groom/SMM1392892/Buddhist/Hitesh\n",
        "i am hitesh from nagpur...now i am an engineer in psu...my father is teacher..and our family is very small and good... i am an engg in psu.i love music ,reading"
       ]
      },
      {
       "output_type": "stream",
       "stream": "stdout",
       "text": [
        "\n",
        "1594"
       ]
      },
      {
       "output_type": "stream",
       "stream": "stdout",
       "text": [
        " http://www.simplymarry.com/matrimonial/groom/navm1375870/Hindu/Agri/Rohan-C\n",
        "i am straight forward guy."
       ]
      },
      {
       "output_type": "stream",
       "stream": "stdout",
       "text": [
        "\n",
        "1595"
       ]
      },
      {
       "output_type": "stream",
       "stream": "stdout",
       "text": [
        " http://www.simplymarry.com/matrimonial/groom/SMM1492163/Hindu/Bhandari/Jitendra-Deepak-Valawalkar\n",
        "Myself is Jitendra Deepak valavalkar. I am calm, understanding, self dependent, caring, modern outlook, fashionable, down to earth and family oriented person. I like to listen music at my spare time, movies, love to cook, love to travel, ready to learn new things. I am fun loving person and enjoy each moment of my life."
       ]
      },
      {
       "output_type": "stream",
       "stream": "stdout",
       "text": [
        "\n",
        "1596"
       ]
      },
      {
       "output_type": "stream",
       "stream": "stdout",
       "text": [
        " http://www.simplymarry.com/matrimonial/groom/SMM1584610/Hindu/Vaishya-Vani/Sachin-Ramchandra-Yeole\n",
        "Myself Sachin, i am a simple living person, believes in our strength &amp; positive attitude. I am in search of a mature and simple living life partner."
       ]
      },
      {
       "output_type": "stream",
       "stream": "stdout",
       "text": [
        "\n",
        "1597"
       ]
      },
      {
       "output_type": "stream",
       "stream": "stdout",
       "text": [
        " http://www.simplymarry.com/matrimonial/groom/SMM1606580/Hindu/Kunbi/Rahul-Prakash-Kalmegh\n",
        "I am a person of very positive attitude and looking for someone who is very caring &amp; with similar attitude."
       ]
      },
      {
       "output_type": "stream",
       "stream": "stdout",
       "text": [
        "\n",
        "1598"
       ]
      },
      {
       "output_type": "stream",
       "stream": "stdout",
       "text": [
        " http://www.simplymarry.com/matrimonial/groom/tham1353930/Christian/Protestant/Prashant-Sojwal\n",
        "Hello! I believe in living in the present but with an eye on the future and believe in enjoying every moment of my life."
       ]
      },
      {
       "output_type": "stream",
       "stream": "stdout",
       "text": [
        "\n",
        "1599"
       ]
      },
      {
       "output_type": "stream",
       "stream": "stdout",
       "text": [
        " http://www.simplymarry.com/matrimonial/groom/SMM1484699/Hindu/Mali/Nilesh-Chhaburao-Amup\n",
        "1600"
       ]
      },
      {
       "output_type": "stream",
       "stream": "stdout",
       "text": [
        " http://www.simplymarry.com/matrimonial/groom/SMM1429509/Hindu/Maratha/Abhijit-A-Patil\n",
        "Hi I am Abhijit Ashok Patil. Working for piramal groups as Project Lead in IT department. I am living in Ahmadabad with my family. I am looking for a better half who will smart educated caring and last but not the list loving. I wish I would find a perfect life partner."
       ]
      },
      {
       "output_type": "stream",
       "stream": "stdout",
       "text": [
        "\n",
        "1601"
       ]
      },
      {
       "output_type": "stream",
       "stream": "stdout",
       "text": [
        " http://www.simplymarry.com/matrimonial/groom/SMM1595064/Hindu/Brahmin---Deshastha/Mahesh-Kshemkalyani\n",
        "I am a fun-loving and a simple guy. Along, with my job I also have Kennels business. My father was ex air force personnel and recently retired from HAL. My mother is a teacher with private school. My elder brother is married and Settled in USA."
       ]
      },
      {
       "output_type": "stream",
       "stream": "stdout",
       "text": [
        "\n",
        "1602"
       ]
      },
      {
       "output_type": "stream",
       "stream": "stdout",
       "text": [
        " http://www.simplymarry.com/matrimonial/groom/punm1363813/Hindu/Maratha/Milind-Gide\n",
        "at present doing phd in usa in washigton and will be completing in a years time. most probably visiting india in december this year and want to marry in december, fair complexion"
       ]
      },
      {
       "output_type": "stream",
       "stream": "stdout",
       "text": [
        "\n",
        "1603"
       ]
      },
      {
       "output_type": "stream",
       "stream": "stdout",
       "text": [
        " http://www.simplymarry.com/matrimonial/groom/aurm1258177/Hindu/Brahmin---Rigvedi/Amey-Mujumdar\n",
        "My son, Amey, works as Senior manager in a leading automobile company and heads the Marketing communication and Strategy division. He has graduated in Computer Science and then completed MBA specializing in Marketing. Amey has extensively traveled across many cities in India and abroad during his previous assignments. He is well mannered, broad minded and is quite fond of music, movies and Cricket. Amey is good looking, has a smart personality and a happy go lucky approach towards life.In near future he may be shifting his base to Mumbai."
       ]
      },
      {
       "output_type": "stream",
       "stream": "stdout",
       "text": [
        "\n",
        "1604"
       ]
      },
      {
       "output_type": "stream",
       "stream": "stdout",
       "text": [
        " http://www.simplymarry.com/matrimonial/groom/SMM1594003/Hindu/Bhandari/Sagar-Shrikant-Waingankar\n",
        "He is very intelligent and respectful kind of person. Sweet and loving nature. Very fun loving and have good respect for elders. Also he has good understanding about his responsibilities and does those very well. His hobbies are writing poems in his spare time and also hanging out with family."
       ]
      },
      {
       "output_type": "stream",
       "stream": "stdout",
       "text": [
        "\n",
        "1605"
       ]
      },
      {
       "output_type": "stream",
       "stream": "stdout",
       "text": [
        " http://www.simplymarry.com/matrimonial/groom/SMM1602156/Hindu/Vysya/Nilesh-R-Chakkarwar\n",
        "I am simple guy. I keep challenging my limits and like exploring myself."
       ]
      },
      {
       "output_type": "stream",
       "stream": "stdout",
       "text": [
        "\n",
        "1606"
       ]
      },
      {
       "output_type": "stream",
       "stream": "stdout",
       "text": [
        " http://www.simplymarry.com/matrimonial/groom/parm1297636/Hindu/Brahmin/Narendra-Kulkarni\n",
        "i am very loveable parson and want a loving wife."
       ]
      },
      {
       "output_type": "stream",
       "stream": "stdout",
       "text": [
        "\n",
        "1607"
       ]
      },
      {
       "output_type": "stream",
       "stream": "stdout",
       "text": [
        " http://www.simplymarry.com/matrimonial/groom/SMM1417980/Buddhist/Praful-Khobragade\n",
        "Hi, this is Praful, I have completed my graduation in Civil Engineering and M. Tech. in Environment Engineering. I am working as a Asst. Professor from last 3 years and research work. I am simple and hard worker."
       ]
      },
      {
       "output_type": "stream",
       "stream": "stdout",
       "text": [
        "\n"
       ]
      }
     ],
     "prompt_number": 5
    },
    {
     "cell_type": "code",
     "collapsed": false,
     "input": [],
     "language": "python",
     "metadata": {},
     "outputs": []
    }
   ],
   "metadata": {}
  }
 ]
}
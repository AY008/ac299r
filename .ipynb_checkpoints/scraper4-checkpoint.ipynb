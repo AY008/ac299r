{
 "metadata": {
  "name": ""
 },
 "nbformat": 3,
 "nbformat_minor": 0,
 "worksheets": [
  {
   "cells": [
    {
     "cell_type": "code",
     "collapsed": false,
     "input": [
      "# special IPython command to prepare the notebook for matplotlib\n",
      "%matplotlib inline \n",
      "\n",
      "from fnmatch import fnmatch\n",
      "\n",
      "import numpy as np\n",
      "import pandas as pd\n",
      "from pandas.io import json\n",
      "import requests\n",
      "from pattern import web\n",
      "import unicodedata\n",
      "import requests\n",
      "import re\n",
      "import time\n",
      "\n",
      "pd.set_option('display.width', 500)\n",
      "pd.set_option('display.max_columns', 100)\n",
      "\n",
      "\n",
      "cookies = dict(JSESSIONID=\"F9A9050971A12146C803CED532B863FC.SMAPP01\", SM_PUBLIC_ENCRYPTED_ID=\"wRTH7fh9ai/7ihX7Udb8WA==\", SM_PUBLIC_SESSION_KEY='HYJMRLXUOBYQXVRMSMMSCPWCWIOOBBUF',SimplyMarryAuthCookie='MXZsWTRDbGJTcUc3TEZ1bHA2S2ZHUT09OkJOUWJMcVZra0lmOUZVM0owdGprRnc9PQ')"
     ],
     "language": "python",
     "metadata": {},
     "outputs": [],
     "prompt_number": 1
    },
    {
     "cell_type": "heading",
     "level": 4,
     "metadata": {},
     "source": [
      "Code to get profile unique IDs using json function from SimplyMarry"
     ]
    },
    {
     "cell_type": "code",
     "collapsed": false,
     "input": [
      "def download(search_id, age):\n",
      "    num = 0\n",
      "    totalProfiles = 0\n",
      "    df = pd.DataFrame()\n",
      "    print 'STARTING AGE & NUM ', age, num\n",
      "    \n",
      "    while 1==1:\n",
      "        r = requests.get('http://www.simplymarry.com/search/'+search_id+'/jsonrun?page='+str(num), cookies=cookies)\n",
      "        if r.status_code == 200:\n",
      "            try:\n",
      "                output = r.json()\n",
      "                totalProfiles += len(output)\n",
      "                print num, totalProfiles\n",
      "                          \n",
      "                num +=1\n",
      "                          \n",
      "                if len(output) > 0:\n",
      "                    for i in output:\n",
      "                        df = df.append(pd.DataFrame([dict(profileID=i['profileID'], aboutText=unicode(i['aboutText']), city=i['city'], age=i['age'][:-5], height=i['height'], religion=i['religion'], caste=i['caste'], college=i['collegeInstitute'], employedIn=i['employedIn'] )]), ignore_index=True) \n",
      "                          \n",
      "            except ValueError:\n",
      "                print 'COMPLETED AGE & NUM', age, num\n",
      "                df.to_csv('links/brides'+str(age)+'.csv', encoding='utf-8', index=False)\n",
      "                break\n",
      "        else:\n",
      "            print 'FAILURE STATUS: ', r.status_code\n",
      "            num+=1\n",
      "            continue\n",
      "    \n",
      "#for i in range(len(searches)):\n",
      "#    download(searches[i], ages[i])"
     ],
     "language": "python",
     "metadata": {},
     "outputs": [],
     "prompt_number": 5
    },
    {
     "cell_type": "heading",
     "level": 4,
     "metadata": {},
     "source": [
      "Code to test that downloaded profile metadata actually works"
     ]
    },
    {
     "cell_type": "code",
     "collapsed": false,
     "input": [
      "df = pd.DataFrame()\n",
      "\n",
      "for i in range(18, 52):\n",
      "    df = df.append(pd.DataFrame().from_csv('links/grooms'+str(i)+'.csv', encoding='utf-8'))\n",
      "\n",
      "print df['profileID'].describe()['count']"
     ],
     "language": "python",
     "metadata": {},
     "outputs": []
    },
    {
     "cell_type": "heading",
     "level": 4,
     "metadata": {},
     "source": [
      "Code to extract full profile data from metadata downloaded above"
     ]
    },
    {
     "cell_type": "code",
     "collapsed": false,
     "input": [
      "def extract(content, profileID, num):\n",
      "    dom = web.Element(content)\n",
      "    \n",
      "    temp = dom.by_tag('p#cRs_293')\n",
      "    if len(temp) >= 1:\n",
      "        about1 = unicodedata.normalize('NFKD', temp[0].content.strip()).encode('ascii','ignore')\n",
      "        if num%100 == 0 | num <= 5:\n",
      "            print about1\n",
      "    else:\n",
      "        about1 = ''\n",
      "        \n",
      "    temp = dom.by_tag('div.pddetail_mid')\n",
      "    if len(temp) >= 1:\n",
      "        details = unicodedata.normalize('NFKD', temp[0].content.strip()).encode('ascii','ignore')\n",
      "    else:\n",
      "        details = ''\n",
      "        \n",
      "    temp = dom.by_tag('div.detsec_profiledet')\n",
      "    if len(temp) >= 2:\n",
      "        temp2 = temp[1].by_tag('p')\n",
      "        if len(temp2) >= 1:\n",
      "            about2 = unicodedata.normalize('NFKD', temp2[0].content).encode('ascii','ignore')\n",
      "        else:\n",
      "            about2 = ''\n",
      "    else:\n",
      "        about2 = ''\n",
      "    \n",
      "    lists = dom.by_tag('li.ulli_wth')\n",
      "    \n",
      "    marital_status1, marital_status2 = '', ''\n",
      "    have_children = ''\n",
      "    created_for = ''\n",
      "    last_login = None\n",
      "    age2, city2 = '', ''\n",
      "    \n",
      "    height1, height2 = '', ''\n",
      "    weight1, weight2 = '', ''\n",
      "    complexion1, complexion2 = '', ''\n",
      "    body1, body2 = '', ''\n",
      "    special1, special2 = '', ''\n",
      "    \n",
      "    college = ''\n",
      "    degree = ''\n",
      "    fields = ''\n",
      "    education2 = ''\n",
      "    employed1, employed2 = '', ''\n",
      "    occupation = ''\n",
      "    income1, income2 = '', ''\n",
      "    \n",
      "    religion1, religion2 = '', ''\n",
      "    mother1, mother2 = '', ''\n",
      "    caste1, caste2 = '', ''\n",
      "    subcaste = ''\n",
      "    manglik1, manglik2 = '', ''\n",
      "    gotra = ''\n",
      "    nakshatra = ''\n",
      "    raasi = ''\n",
      "    horoscope = ''\n",
      "    \n",
      "    birth1, birth2, birth3, birth4 = '', '', '', ''\n",
      "    \n",
      "    smoking1, smoking2 = '', ''\n",
      "    drinking1, drinking2 = '', ''\n",
      "    eating1, eating2 = '', ''\n",
      "    \n",
      "    father, mother, brothers, sisters, living = '', '', '', '', ''\n",
      "    \n",
      "    values1, values2 = '', ''\n",
      "    family_type1, family_type2 = '', ''\n",
      "    status1, status2= '', ''\n",
      "    about_family = ''\n",
      "    \n",
      "    \n",
      "    for i in lists:\n",
      "        if i.content.strip() == \"Marital Status\":\n",
      "            if marital_status1 == '':\n",
      "                marital_status1 = i.parent('li')[2].content\n",
      "            else:\n",
      "                marital_status2 = i.parent('li')[2].content\n",
      "        elif i.content.strip() == \"Have Children\":\n",
      "            if have_children == '':\n",
      "                have_children = i.parent('li')[2].content\n",
      "        elif i.content.strip() == \"Created For\":\n",
      "            created_for = i.parent('li')[2].content\n",
      "        elif i.content.strip() == \"Last Login\":\n",
      "            last_login = i.parent('li')[2].content\n",
      "        elif i.content.strip() == \"Age\":\n",
      "            age2 = i.parent('li')[2].content\n",
      "        elif i.content.strip() == \"City\":\n",
      "            city2 = i.parent('li')[2].content\n",
      "        elif i.content.strip() == \"Height\":\n",
      "            if height1 == '':\n",
      "                height1 = i.parent('li')[2].content\n",
      "            else:\n",
      "                height2 = i.parent('li')[2].content  \n",
      "        elif i.content.strip() == \"Weight\":\n",
      "            if weight1 == '':\n",
      "                weight1 = i.parent('li')[2].content\n",
      "            else:\n",
      "                weight2 = i.parent('li')[2].content\n",
      "        elif i.content.strip() == \"Complexion\":\n",
      "            if complexion1 == '':\n",
      "                complexion1 = i.parent('li')[2].content\n",
      "            else:\n",
      "                complexion2 = i.parent('li')[2].content        \n",
      "        elif i.content.strip() == \"Body Type\":\n",
      "            if body1 == '':\n",
      "                body1 = i.parent('li')[2].content\n",
      "            else:\n",
      "                body2 = i.parent('li')[2].content    \n",
      "        elif i.content.strip() == \"Special Case\":\n",
      "            special1 = i.parent('li')[2].content\n",
      "        elif i.content.strip() == \"Special Class\":\n",
      "            special2 = i.parent('li')[2].content\n",
      "        elif i.content.strip() == \"College/Institute\":\n",
      "            college = i.parent('li')[2].content\n",
      "        elif i.content.strip() == \"Highest Qualification\":\n",
      "            degree = i.parent('li')[2].content\n",
      "        elif i.content.strip() == \"Fields of Study\":\n",
      "            fields = i.parent('li')[2].content\n",
      "        elif i.content.strip() == \"Employed In\":\n",
      "            employed1 = i.parent('li')[2].content\n",
      "        elif i.content.strip() == \"Employed Sectors\":\n",
      "            employed2 = i.parent('li')[2].content\n",
      "        elif i.content.strip() == \"Education\":\n",
      "            education2 = i.parent('li')[2].content\n",
      "        elif i.content.strip() == \"Occupation\":\n",
      "            occupation = i.parent('li')[2].content\n",
      "        elif i.content.strip() == \"Annual Income\":\n",
      "            if income1 == '':\n",
      "                income1 = i.parent('li')[2].content\n",
      "            else:\n",
      "                income2 = i.parent('li')[2].content  \n",
      "        elif i.content.strip() == \"Religion\":\n",
      "            if religion1 == '':\n",
      "                religion1 = i.parent('li')[2].content\n",
      "            else:\n",
      "                religion2 = i.parent('li')[2].content  \n",
      "        elif i.content.strip() == \"Mother Tongue\":\n",
      "            if mother1 == '':\n",
      "                mother1 = i.parent('li')[2].content\n",
      "            else:\n",
      "                mother2 = i.parent('li')[2].content          \n",
      "        elif i.content.strip() == \"Caste\":\n",
      "            if caste1 == '':\n",
      "                caste1 = i.parent('li')[2].content\n",
      "            else:\n",
      "                caste2 = i.parent('li')[2].content  \n",
      "        elif i.content.strip() == \"Manglik\":\n",
      "            if manglik1 == '':\n",
      "                manglik1 = i.parent('li')[2].content\n",
      "            else:\n",
      "                manglik2 = i.parent('li')[2].content                 \n",
      "        elif i.content.strip() == \"Sub Caste\":\n",
      "            subcaste = i.parent('li')[2].content\n",
      "        elif i.content.strip() == \"Gotra /Gothram\":\n",
      "            gotra = i.parent('li')[2].content\n",
      "        elif i.content.strip() == \"Nakshatra (m)e\":\n",
      "            nakshatra = i.parent('li')[2].content  \n",
      "        elif i.content.strip() == \"Raasi/Moon Sign\":\n",
      "            raasi = i.parent('li')[2].content\n",
      "        elif i.content.strip() == \"Horoscope Required\":\n",
      "            horoscope = i.parent('li')[2].content\n",
      "        elif i.content.strip() == \"Date Of Birth\":\n",
      "            birth1 = i.parent('li')[2].content\n",
      "        elif i.content.strip() == \"Time Of Birth\":\n",
      "            birth2 = i.parent('li')[2].content\n",
      "        elif i.content.strip() == \"Country of birth\":\n",
      "            birth3 = i.parent('li')[2].content\n",
      "        elif i.content.strip() == \"Birth Place\":\n",
      "            birth4 = i.parent('li')[2].content\n",
      "        elif i.content.strip() == \"Smoking\":\n",
      "            if smoking1 == '':\n",
      "                smoking1 = i.parent('li')[2].content\n",
      "            else:\n",
      "                smoking2 = i.parent('li')[2].content          \n",
      "        elif i.content.strip() == \"Drinking\":\n",
      "            if drinking1 == '':\n",
      "                drinking1 = i.parent('li')[2].content\n",
      "            else:\n",
      "                drinking2 = i.parent('li')[2].content  \n",
      "        elif i.content.strip() == \"Eating Habits\":\n",
      "            if eating1 == '':\n",
      "                eating1 = i.parent('li')[2].content\n",
      "            else:\n",
      "                eating2 = i.parent('li')[2].content\n",
      "        elif \"Father\" in i.content.strip() and \"Occupation\" in i.content.strip():\n",
      "            father = i.parent('li')[2].content\n",
      "        elif \"Mother\" in i.content.strip() and \"Occupation\" in i.content.strip():\n",
      "            mother = i.parent('li')[2].content\n",
      "        elif i.content.strip() == \"Brothers\":\n",
      "            brothers = i.parent('li')[2].content\n",
      "        elif i.content.strip() == \"Sisters\":\n",
      "            sisters = i.parent('li')[2].content\n",
      "        elif i.content.strip() == \"Living with parents?\":\n",
      "            living = i.parent('li')[2].content\n",
      "        elif i.content.strip() == \"Family values\":\n",
      "            values1 = i.parent('li')[2].content\n",
      "        elif i.content.strip() == \"Family Values\":\n",
      "            values2 = i.parent('li')[2].content\n",
      "        elif i.content.strip() == \"Family Type\":\n",
      "            if family_type1 == '':\n",
      "                family_type1 = i.parent('li')[2].content\n",
      "            else:\n",
      "                family_type2 = i.parent('li')[2].content  \n",
      "        elif i.content.strip() == \"Family Status\":\n",
      "            if status1 == '':\n",
      "                status1 = i.parent('li')[2].content\n",
      "            else:\n",
      "                status2 = i.parent('li')[2].content      \n",
      "        elif i.content.strip() == \"About my family\":\n",
      "            about_family = i.parent('li')[2].content\n",
      "            about_family = unicodedata.normalize('NFKD', about_family).encode('ascii','ignore')\n",
      "\n",
      "    return pd.DataFrame([dict(profileID=str(profileID), about1=about1, about2=about2, details=details, marital_status1=marital_status1, marital_status2=marital_status2, have_children=have_children, created_for=created_for, last_login=last_login, age2=age2, city2=city2, height1=height1, height2=height2, weight1=weight1, weight2=weight2, complexion1=complexion1, complexion2=complexion2, body1=body1, body2=body2, special1=special1, special2=special2, college=college, degree=degree, fields=fields, education2=education2, employed1=employed1, employed2=employed2, occupation=occupation, income1=income1, income2=income2, religion1=religion1, religion2=religion2, mother1=mother1, mother2=mother2, caste1=caste1, caste2=caste2, manglik1=manglik1, manglik2=manglik2, subcaste=subcaste, gotra=gotra, horoscope=horoscope, raasi=raasi, nakshatra=nakshatra, birth1=birth1, birth2=birth2, birth3=birth3, birth4=birth4, smoking1=smoking1, smoking2=smoking2, drinking1=drinking1, drinking2=drinking2, eating1=eating1, eating2=eating2, father=father, mother=mother, brothers=brothers, sisters=sisters, living=living, values1=values1, values2=values2, family_type1=family_type1, family_type2=family_type2, status1=status1, status2=status2, about_family=about_family) ])\n",
      "\n",
      "\n",
      "def get_full_profiles(age):\n",
      "    csv = 'links/grooms'+str(age)+'.csv'\n",
      "    profiles = pd.DataFrame(columns=('url', 'about1', 'about2', 'details', 'marital_status1', 'marital_status2', 'have_children', 'created_for', 'last_login', 'age2', 'city2', 'height1', 'height2', 'weight1', 'weight2', 'complexion1', 'complexion2', 'body1', 'body2', 'special1', 'special2', 'college', 'degree', 'fields', 'education2', 'employed1', 'employed2', 'occupation', 'income1', 'income2', 'religion1', 'religion2', 'mother1', 'mother2', 'caste1', 'caste2', 'manglik1', 'manglik2', 'subcaste', 'gotra', 'horoscope', 'raasi', 'nakshatra', 'birth1', 'birth2', 'birth3', 'birth4', 'smoking1', 'smoking2', 'drinking1', 'drinking2', 'eating1', 'eating2', 'father', 'mother', 'brothers', 'sisters', 'living', 'values1', 'values2', 'family_type1', 'family_type2', 'status1', 'status2', 'about_family'))\n",
      "    links = pd.read_csv(csv)\n",
      "    num = 0\n",
      "    for profileID in links.profileID:    \n",
      "        r = requests.get('http://www.simplymarry.com/matrimonial/groom/'+profileID+'/?all=true&print=true', cookies=cookies, allow_redirects=True, stream=True)\n",
      "        \n",
      "        if r.status_code == 200:\n",
      "            num+=1\n",
      "            \n",
      "            if num%100 == 0:\n",
      "                print num\n",
      "            \n",
      "            if num % 1000 == 0:\n",
      "                profiles.to_csv('data/grooms'+str(age)+'full'+str(int(num/1000))+'.csv', encoding='utf-8', index=False)\n",
      "                print 'BACKED UP AT ', num\n",
      "            \n",
      "            content = r.text\n",
      "            content = re.sub(r'\\\\s\\\\s+', ' ', content)\n",
      "            dom = web.Element(content)        \n",
      "            profiles = profiles.append(extract(content, profileID, num), ignore_index=True) \n",
      "        else:\n",
      "            print 'SKIPPED PROFILE WITH ID ', profileID\n",
      "            continue\n",
      "    return profiles\n",
      "\n",
      "i = 42\n",
      "print 'STARTED AGE ', i\n",
      "get_full_profiles(i).to_csv('data/grooms'+str(i)+'full.csv', encoding='utf-8', index=False)\n",
      "print 'COMPLETED AGE ', i"
     ],
     "language": "python",
     "metadata": {},
     "outputs": [
      {
       "output_type": "stream",
       "stream": "stdout",
       "text": [
        "STARTED AGE  36\n",
        "Fair, Handsome, Well educated, modern outlook balanced with traditional upbringing.\n",
        "Finished high school &amp; college years in Dharwad, Completed Graduation in  Electronics after which did masters in Foreign Trade. Currently working in Bangalore as an Strategic Account Manager in MNC IT company. The interests are music, movies, traveling and reading."
       ]
      },
      {
       "output_type": "stream",
       "stream": "stdout",
       "text": [
        "\n",
        "I am cool going guy and looking for life partner from very cultural family."
       ]
      },
      {
       "output_type": "stream",
       "stream": "stdout",
       "text": [
        "\n",
        "I am a shy, kind hearted, soft spoken, very honest and straight forward guy and I believe in Law of Karma. I am an Automobile Engg. Diploma holder Passed in 1998 from Jabalpur Polytechnic. At present, working as a freelance Cameraman and Steadicam operator."
       ]
      },
      {
       "output_type": "stream",
       "stream": "stdout",
       "text": [
        "\n",
        "Mutual respect, trust &amp; love constitute the base of a successful marriage and a successful marriage emerges from being the right mate, rather than finding one. I have very high regards for women and I don't believe in treating women merely as 'objects'. Since childhood I have seen in our society; whether she is a mother, wife, daughter or sister: in every role a female does lots of sacrifices for the well being of everyone (till her last breath) but in return she hardly gets what she is entitled to. My goals in life include achieving happiness through spiritual growth, enjoying both eastern and western culture, spending time with family and close friends thus simply living life in great spirits. People say I am confident, kind hearted, a good listener, caring, sensitive, always stand up for my near and dear ones, having good sense of humour, having cool temperament who likes to forgive and forget. I am a God fearing religious person. Being calm and quiet by nature &amp; keeping myself away from unnecessary fighting and arguments, I live a very simple life; pure vegetarian, never drink, smoke or having any other bad habits."
       ]
      },
      {
       "output_type": "stream",
       "stream": "stdout",
       "text": [
        "\n",
        "I am a blend of a modern and traditional person and I am looking for a same kind of personality like mine. My hobbies and interests are traveling and exploring new places and culture, listening to all kind of music, watching movies, gymming and love to play sports. I like visiting places which are scenically beautifully and like being close to nature. Basically I am a happy-go-lucky person who loves to enjoy life to the fullest and someone who makes the most of every moment. I have done my higher studies from Scotland,UK and have traveled extensively all across the globe for my official trips and assignments. My father has a business set up in Allahabad i.e. my native place. He is running his guest house there and my mother is a house-wife. I have an elder sister who is married and running her fashion boutique in Allahabad. My younger brother is into film-production in Mumbai. My Brother-in Law is a Director of an Engineering College in Allahabad. I am looking for a girl who is somewhat like me and who is modern yet homely and should be rooted and cultured. She should be humorous and fun-loving and an interesting company to be with. Looking for a genuine, loving, caring and a good human being."
       ]
      },
      {
       "output_type": "stream",
       "stream": "stdout",
       "text": [
        "\n",
        "100"
       ]
      },
      {
       "output_type": "stream",
       "stream": "stdout",
       "text": [
        "\n",
        "200"
       ]
      },
      {
       "output_type": "stream",
       "stream": "stdout",
       "text": [
        "\n",
        "300"
       ]
      },
      {
       "output_type": "stream",
       "stream": "stdout",
       "text": [
        "\n",
        "400"
       ]
      },
      {
       "output_type": "stream",
       "stream": "stdout",
       "text": [
        "\n",
        "500"
       ]
      },
      {
       "output_type": "stream",
       "stream": "stdout",
       "text": [
        "\n",
        "600"
       ]
      },
      {
       "output_type": "stream",
       "stream": "stdout",
       "text": [
        "\n",
        "700"
       ]
      },
      {
       "output_type": "stream",
       "stream": "stdout",
       "text": [
        "\n",
        "800"
       ]
      },
      {
       "output_type": "stream",
       "stream": "stdout",
       "text": [
        "\n",
        "900"
       ]
      },
      {
       "output_type": "stream",
       "stream": "stdout",
       "text": [
        "\n",
        "1000"
       ]
      },
      {
       "output_type": "stream",
       "stream": "stdout",
       "text": [
        "\n",
        "BACKED UP AT "
       ]
      },
      {
       "output_type": "stream",
       "stream": "stdout",
       "text": [
        " 1000\n",
        "1100"
       ]
      },
      {
       "output_type": "stream",
       "stream": "stdout",
       "text": [
        "\n",
        "1200"
       ]
      },
      {
       "output_type": "stream",
       "stream": "stdout",
       "text": [
        "\n",
        "1300"
       ]
      },
      {
       "output_type": "stream",
       "stream": "stdout",
       "text": [
        "\n",
        "1400"
       ]
      },
      {
       "output_type": "stream",
       "stream": "stdout",
       "text": [
        "\n",
        "1500"
       ]
      },
      {
       "output_type": "stream",
       "stream": "stdout",
       "text": [
        "\n",
        "1600"
       ]
      },
      {
       "output_type": "stream",
       "stream": "stdout",
       "text": [
        "\n",
        "SKIPPED PROFILE WITH ID "
       ]
      },
      {
       "output_type": "stream",
       "stream": "stdout",
       "text": [
        " 341539\n",
        "1700"
       ]
      },
      {
       "output_type": "stream",
       "stream": "stdout",
       "text": [
        "\n",
        "1800"
       ]
      },
      {
       "output_type": "stream",
       "stream": "stdout",
       "text": [
        "\n",
        "1900"
       ]
      },
      {
       "output_type": "stream",
       "stream": "stdout",
       "text": [
        "\n",
        "2000"
       ]
      },
      {
       "output_type": "stream",
       "stream": "stdout",
       "text": [
        "\n",
        "BACKED UP AT "
       ]
      },
      {
       "output_type": "stream",
       "stream": "stdout",
       "text": [
        " 2000\n",
        "2100"
       ]
      },
      {
       "output_type": "stream",
       "stream": "stdout",
       "text": [
        "\n",
        "2200"
       ]
      },
      {
       "output_type": "stream",
       "stream": "stdout",
       "text": [
        "\n",
        "2300"
       ]
      },
      {
       "output_type": "stream",
       "stream": "stdout",
       "text": [
        "\n",
        "2400"
       ]
      },
      {
       "output_type": "stream",
       "stream": "stdout",
       "text": [
        "\n",
        "2500"
       ]
      },
      {
       "output_type": "stream",
       "stream": "stdout",
       "text": [
        "\n",
        "2600"
       ]
      },
      {
       "output_type": "stream",
       "stream": "stdout",
       "text": [
        "\n",
        "2700"
       ]
      },
      {
       "output_type": "stream",
       "stream": "stdout",
       "text": [
        "\n",
        "2800"
       ]
      },
      {
       "output_type": "stream",
       "stream": "stdout",
       "text": [
        "\n",
        "2900"
       ]
      },
      {
       "output_type": "stream",
       "stream": "stdout",
       "text": [
        "\n",
        "3000"
       ]
      },
      {
       "output_type": "stream",
       "stream": "stdout",
       "text": [
        "\n",
        "BACKED UP AT "
       ]
      },
      {
       "output_type": "stream",
       "stream": "stdout",
       "text": [
        " 3000\n",
        "3100"
       ]
      },
      {
       "output_type": "stream",
       "stream": "stdout",
       "text": [
        "\n",
        "3200"
       ]
      },
      {
       "output_type": "stream",
       "stream": "stdout",
       "text": [
        "\n",
        "3300"
       ]
      },
      {
       "output_type": "stream",
       "stream": "stdout",
       "text": [
        "\n",
        "3400"
       ]
      },
      {
       "output_type": "stream",
       "stream": "stdout",
       "text": [
        "\n",
        "3500"
       ]
      },
      {
       "output_type": "stream",
       "stream": "stdout",
       "text": [
        "\n",
        "3600"
       ]
      },
      {
       "output_type": "stream",
       "stream": "stdout",
       "text": [
        "\n",
        "3700"
       ]
      },
      {
       "output_type": "stream",
       "stream": "stdout",
       "text": [
        "\n",
        "3800"
       ]
      },
      {
       "output_type": "stream",
       "stream": "stdout",
       "text": [
        "\n",
        "3900"
       ]
      },
      {
       "output_type": "stream",
       "stream": "stdout",
       "text": [
        "\n",
        "4000"
       ]
      },
      {
       "output_type": "stream",
       "stream": "stdout",
       "text": [
        "\n",
        "BACKED UP AT "
       ]
      },
      {
       "output_type": "stream",
       "stream": "stdout",
       "text": [
        " 4000\n",
        "4100"
       ]
      },
      {
       "output_type": "stream",
       "stream": "stdout",
       "text": [
        "\n",
        "4200"
       ]
      },
      {
       "output_type": "stream",
       "stream": "stdout",
       "text": [
        "\n",
        "4300"
       ]
      },
      {
       "output_type": "stream",
       "stream": "stdout",
       "text": [
        "\n",
        "4400"
       ]
      },
      {
       "output_type": "stream",
       "stream": "stdout",
       "text": [
        "\n",
        "4500"
       ]
      },
      {
       "output_type": "stream",
       "stream": "stdout",
       "text": [
        "\n",
        "4600"
       ]
      },
      {
       "output_type": "stream",
       "stream": "stdout",
       "text": [
        "\n",
        "4700"
       ]
      },
      {
       "output_type": "stream",
       "stream": "stdout",
       "text": [
        "\n",
        "4800"
       ]
      },
      {
       "output_type": "stream",
       "stream": "stdout",
       "text": [
        "\n",
        "4900"
       ]
      },
      {
       "output_type": "stream",
       "stream": "stdout",
       "text": [
        "\n",
        "5000"
       ]
      },
      {
       "output_type": "stream",
       "stream": "stdout",
       "text": [
        "\n",
        "BACKED UP AT "
       ]
      },
      {
       "output_type": "stream",
       "stream": "stdout",
       "text": [
        " 5000\n",
        "5100"
       ]
      },
      {
       "output_type": "stream",
       "stream": "stdout",
       "text": [
        "\n",
        "5200"
       ]
      },
      {
       "output_type": "stream",
       "stream": "stdout",
       "text": [
        "\n",
        "5300"
       ]
      },
      {
       "output_type": "stream",
       "stream": "stdout",
       "text": [
        "\n",
        "5400"
       ]
      },
      {
       "output_type": "stream",
       "stream": "stdout",
       "text": [
        "\n",
        "5500"
       ]
      },
      {
       "output_type": "stream",
       "stream": "stdout",
       "text": [
        "\n",
        "5600"
       ]
      },
      {
       "output_type": "stream",
       "stream": "stdout",
       "text": [
        "\n",
        "5700"
       ]
      },
      {
       "output_type": "stream",
       "stream": "stdout",
       "text": [
        "\n",
        "5800"
       ]
      },
      {
       "output_type": "stream",
       "stream": "stdout",
       "text": [
        "\n",
        "5900"
       ]
      },
      {
       "output_type": "stream",
       "stream": "stdout",
       "text": [
        "\n",
        "6000"
       ]
      },
      {
       "output_type": "stream",
       "stream": "stdout",
       "text": [
        "\n",
        "BACKED UP AT "
       ]
      },
      {
       "output_type": "stream",
       "stream": "stdout",
       "text": [
        " 6000\n",
        "6100"
       ]
      },
      {
       "output_type": "stream",
       "stream": "stdout",
       "text": [
        "\n",
        "COMPLETED AGE "
       ]
      },
      {
       "output_type": "stream",
       "stream": "stdout",
       "text": [
        " 36\n",
        "STARTED AGE  37\n",
        "He is simple, confident, down to earth and caring person having a positive attitude towards life. Ours is a small sindhi educated family. He has completed MCA from BIT, Mesra Ranchi. He also worked in Tokyo, Japan for three years. He is an IT entrepreneur with his own company providing IT enabled services to corporate and education sector."
       ]
      },
      {
       "output_type": "stream",
       "stream": "stdout",
       "text": [
        "\n",
        "B.Sc (Com.), PGDCA, GNIIT, (MCA), Employed as a SENIOR SOFTWARE ENGINEER in MNC  IT Firm. Only son and no sisters and following CHRISTIANITY since 2002. SECT- SEVENTH DAY ADVENTIST. Parents are HINDU. Expect BRIDE adjustable , educated and preferably in service."
       ]
      },
      {
       "output_type": "stream",
       "stream": "stdout",
       "text": [
        "\n",
        "I am from GERMANY, living currently in Switzerland. In the last 6 years I was working very closely with many different colleagues from India. And I learned that I fit much better to the Indian way of life than to any other European style. So I would like to find out if I this way is also the right one in private life and relationship. I am looking for someone to bring sunshine in my everyday life and to enjoy the good moments in life like family events, sunsets, trips to favorite places, find new places."
       ]
      },
      {
       "output_type": "stream",
       "stream": "stdout",
       "text": [
        "\n",
        "I AM A PERSON WITH FLEXIBLE NATURE, UNDERSTANDING MENTALITY, ENJOYING TYPE WITH VERY FEW BUT CLOSE FRIENDS"
       ]
      },
      {
       "output_type": "stream",
       "stream": "stdout",
       "text": [
        "\n",
        "My brother's marriage was short lived due to girls' other priorities. He is simple and well mannered person. Studied until his graduation in Bangalore and did his masters in Australia. He has two elder sisters, 1st elder sister married and living in UK, 2nd elder sister married and settled in Bangalore. He is only boy at present staying in Bangalore , parents are both retired and come from upper middle class. Expecting broad minded person and has respect to humanity."
       ]
      },
      {
       "output_type": "stream",
       "stream": "stdout",
       "text": [
        "\n",
        "100"
       ]
      },
      {
       "output_type": "stream",
       "stream": "stdout",
       "text": [
        "\n",
        "200"
       ]
      },
      {
       "output_type": "stream",
       "stream": "stdout",
       "text": [
        "\n",
        "300"
       ]
      },
      {
       "output_type": "stream",
       "stream": "stdout",
       "text": [
        "\n",
        "400"
       ]
      },
      {
       "output_type": "stream",
       "stream": "stdout",
       "text": [
        "\n",
        "500"
       ]
      },
      {
       "output_type": "stream",
       "stream": "stdout",
       "text": [
        "\n",
        "600"
       ]
      },
      {
       "output_type": "stream",
       "stream": "stdout",
       "text": [
        "\n",
        "SKIPPED PROFILE WITH ID "
       ]
      },
      {
       "output_type": "stream",
       "stream": "stdout",
       "text": [
        " kolm987778\n",
        "700"
       ]
      },
      {
       "output_type": "stream",
       "stream": "stdout",
       "text": [
        "\n",
        "800"
       ]
      },
      {
       "output_type": "stream",
       "stream": "stdout",
       "text": [
        "\n",
        "900"
       ]
      },
      {
       "output_type": "stream",
       "stream": "stdout",
       "text": [
        "\n",
        "1000"
       ]
      },
      {
       "output_type": "stream",
       "stream": "stdout",
       "text": [
        "\n",
        "BACKED UP AT "
       ]
      },
      {
       "output_type": "stream",
       "stream": "stdout",
       "text": [
        " 1000\n",
        "1100"
       ]
      },
      {
       "output_type": "stream",
       "stream": "stdout",
       "text": [
        "\n",
        "1200"
       ]
      },
      {
       "output_type": "stream",
       "stream": "stdout",
       "text": [
        "\n",
        "1300"
       ]
      },
      {
       "output_type": "stream",
       "stream": "stdout",
       "text": [
        "\n",
        "1400"
       ]
      },
      {
       "output_type": "stream",
       "stream": "stdout",
       "text": [
        "\n",
        "1500"
       ]
      },
      {
       "output_type": "stream",
       "stream": "stdout",
       "text": [
        "\n",
        "1600"
       ]
      },
      {
       "output_type": "stream",
       "stream": "stdout",
       "text": [
        "\n",
        "1700"
       ]
      },
      {
       "output_type": "stream",
       "stream": "stdout",
       "text": [
        "\n",
        "1800"
       ]
      },
      {
       "output_type": "stream",
       "stream": "stdout",
       "text": [
        "\n",
        "1900"
       ]
      },
      {
       "output_type": "stream",
       "stream": "stdout",
       "text": [
        "\n",
        "2000"
       ]
      },
      {
       "output_type": "stream",
       "stream": "stdout",
       "text": [
        "\n",
        "BACKED UP AT "
       ]
      },
      {
       "output_type": "stream",
       "stream": "stdout",
       "text": [
        " 2000\n",
        "2100"
       ]
      },
      {
       "output_type": "stream",
       "stream": "stdout",
       "text": [
        "\n",
        "2200"
       ]
      },
      {
       "output_type": "stream",
       "stream": "stdout",
       "text": [
        "\n",
        "2300"
       ]
      },
      {
       "output_type": "stream",
       "stream": "stdout",
       "text": [
        "\n",
        "2400"
       ]
      },
      {
       "output_type": "stream",
       "stream": "stdout",
       "text": [
        "\n",
        "2500"
       ]
      },
      {
       "output_type": "stream",
       "stream": "stdout",
       "text": [
        "\n",
        "2600"
       ]
      },
      {
       "output_type": "stream",
       "stream": "stdout",
       "text": [
        "\n",
        "2700"
       ]
      },
      {
       "output_type": "stream",
       "stream": "stdout",
       "text": [
        "\n",
        "2800"
       ]
      },
      {
       "output_type": "stream",
       "stream": "stdout",
       "text": [
        "\n",
        "2900"
       ]
      },
      {
       "output_type": "stream",
       "stream": "stdout",
       "text": [
        "\n",
        "3000"
       ]
      },
      {
       "output_type": "stream",
       "stream": "stdout",
       "text": [
        "\n",
        "BACKED UP AT "
       ]
      },
      {
       "output_type": "stream",
       "stream": "stdout",
       "text": [
        " 3000\n",
        "3100"
       ]
      },
      {
       "output_type": "stream",
       "stream": "stdout",
       "text": [
        "\n",
        "3200"
       ]
      },
      {
       "output_type": "stream",
       "stream": "stdout",
       "text": [
        "\n",
        "3300"
       ]
      },
      {
       "output_type": "stream",
       "stream": "stdout",
       "text": [
        "\n",
        "SKIPPED PROFILE WITH ID "
       ]
      },
      {
       "output_type": "stream",
       "stream": "stdout",
       "text": [
        " 121979\n",
        "3400"
       ]
      },
      {
       "output_type": "stream",
       "stream": "stdout",
       "text": [
        "\n",
        "3500"
       ]
      },
      {
       "output_type": "stream",
       "stream": "stdout",
       "text": [
        "\n",
        "3600"
       ]
      },
      {
       "output_type": "stream",
       "stream": "stdout",
       "text": [
        "\n",
        "3700"
       ]
      },
      {
       "output_type": "stream",
       "stream": "stdout",
       "text": [
        "\n",
        "3800"
       ]
      },
      {
       "output_type": "stream",
       "stream": "stdout",
       "text": [
        "\n",
        "3900"
       ]
      },
      {
       "output_type": "stream",
       "stream": "stdout",
       "text": [
        "\n",
        "4000"
       ]
      },
      {
       "output_type": "stream",
       "stream": "stdout",
       "text": [
        "\n",
        "BACKED UP AT "
       ]
      },
      {
       "output_type": "stream",
       "stream": "stdout",
       "text": [
        " 4000\n",
        "4100"
       ]
      },
      {
       "output_type": "stream",
       "stream": "stdout",
       "text": [
        "\n",
        "4200"
       ]
      },
      {
       "output_type": "stream",
       "stream": "stdout",
       "text": [
        "\n",
        "4300"
       ]
      },
      {
       "output_type": "stream",
       "stream": "stdout",
       "text": [
        "\n",
        "4400"
       ]
      },
      {
       "output_type": "stream",
       "stream": "stdout",
       "text": [
        "\n",
        "4500"
       ]
      },
      {
       "output_type": "stream",
       "stream": "stdout",
       "text": [
        "\n",
        "4600"
       ]
      },
      {
       "output_type": "stream",
       "stream": "stdout",
       "text": [
        "\n",
        "4700"
       ]
      },
      {
       "output_type": "stream",
       "stream": "stdout",
       "text": [
        "\n",
        "4800"
       ]
      },
      {
       "output_type": "stream",
       "stream": "stdout",
       "text": [
        "\n",
        "4900"
       ]
      },
      {
       "output_type": "stream",
       "stream": "stdout",
       "text": [
        "\n",
        "5000"
       ]
      },
      {
       "output_type": "stream",
       "stream": "stdout",
       "text": [
        "\n",
        "BACKED UP AT "
       ]
      },
      {
       "output_type": "stream",
       "stream": "stdout",
       "text": [
        " 5000\n",
        "5100"
       ]
      },
      {
       "output_type": "stream",
       "stream": "stdout",
       "text": [
        "\n",
        "5200"
       ]
      },
      {
       "output_type": "stream",
       "stream": "stdout",
       "text": [
        "\n",
        "5300"
       ]
      },
      {
       "output_type": "stream",
       "stream": "stdout",
       "text": [
        "\n",
        "5400"
       ]
      },
      {
       "output_type": "stream",
       "stream": "stdout",
       "text": [
        "\n",
        "COMPLETED AGE "
       ]
      },
      {
       "output_type": "stream",
       "stream": "stdout",
       "text": [
        " 37\n",
        "STARTED AGE  38\n",
        "I am simple man having traditional values and believe in god. now I am in search of a bride who is simple having traditional values and go ahead in life together with me."
       ]
      },
      {
       "output_type": "stream",
       "stream": "stdout",
       "text": [
        "\n",
        "A very down to earth person."
       ]
      },
      {
       "output_type": "stream",
       "stream": "stdout",
       "text": [
        "\n",
        "Am an astute, austere and dynamic individual with absolute humor sense, very down-to-earth nature, brought up in a very liberal family and belonging to upper-middle class society."
       ]
      },
      {
       "output_type": "stream",
       "stream": "stdout",
       "text": [
        "\n",
        "SETTLED IN BANGALORE WITH MY 7 YEAR OLD SON. NATIVE OF KOTTAYAM, KERALA."
       ]
      },
      {
       "output_type": "stream",
       "stream": "stdout",
       "text": [
        "\n",
        "Honest, Energetic, and goal oriented, Born Brought up in mumbai, factory, and having office in 3 states."
       ]
      },
      {
       "output_type": "stream",
       "stream": "stdout",
       "text": [
        "\n",
        "100"
       ]
      },
      {
       "output_type": "stream",
       "stream": "stdout",
       "text": [
        "\n",
        "200"
       ]
      },
      {
       "output_type": "stream",
       "stream": "stdout",
       "text": [
        "\n",
        "300"
       ]
      },
      {
       "output_type": "stream",
       "stream": "stdout",
       "text": [
        "\n",
        "400"
       ]
      },
      {
       "output_type": "stream",
       "stream": "stdout",
       "text": [
        "\n",
        "500"
       ]
      },
      {
       "output_type": "stream",
       "stream": "stdout",
       "text": [
        "\n",
        "600"
       ]
      },
      {
       "output_type": "stream",
       "stream": "stdout",
       "text": [
        "\n",
        "700"
       ]
      },
      {
       "output_type": "stream",
       "stream": "stdout",
       "text": [
        "\n",
        "800"
       ]
      },
      {
       "output_type": "stream",
       "stream": "stdout",
       "text": [
        "\n",
        "900"
       ]
      },
      {
       "output_type": "stream",
       "stream": "stdout",
       "text": [
        "\n",
        "1000"
       ]
      },
      {
       "output_type": "stream",
       "stream": "stdout",
       "text": [
        "\n",
        "BACKED UP AT "
       ]
      },
      {
       "output_type": "stream",
       "stream": "stdout",
       "text": [
        " 1000\n",
        "1100"
       ]
      },
      {
       "output_type": "stream",
       "stream": "stdout",
       "text": [
        "\n",
        "1200"
       ]
      },
      {
       "output_type": "stream",
       "stream": "stdout",
       "text": [
        "\n",
        "1300"
       ]
      },
      {
       "output_type": "stream",
       "stream": "stdout",
       "text": [
        "\n",
        "1400"
       ]
      },
      {
       "output_type": "stream",
       "stream": "stdout",
       "text": [
        "\n",
        "SKIPPED PROFILE WITH ID "
       ]
      },
      {
       "output_type": "stream",
       "stream": "stdout",
       "text": [
        " 231723\n",
        "1500"
       ]
      },
      {
       "output_type": "stream",
       "stream": "stdout",
       "text": [
        "\n",
        "1600"
       ]
      },
      {
       "output_type": "stream",
       "stream": "stdout",
       "text": [
        "\n",
        "1700"
       ]
      },
      {
       "output_type": "stream",
       "stream": "stdout",
       "text": [
        "\n",
        "1800"
       ]
      },
      {
       "output_type": "stream",
       "stream": "stdout",
       "text": [
        "\n",
        "1900"
       ]
      },
      {
       "output_type": "stream",
       "stream": "stdout",
       "text": [
        "\n",
        "SKIPPED PROFILE WITH ID "
       ]
      },
      {
       "output_type": "stream",
       "stream": "stdout",
       "text": [
        " 364109\n",
        "SKIPPED PROFILE WITH ID "
       ]
      },
      {
       "output_type": "stream",
       "stream": "stdout",
       "text": [
        " 357025\n",
        "SKIPPED PROFILE WITH ID "
       ]
      },
      {
       "output_type": "stream",
       "stream": "stdout",
       "text": [
        " 359528\n",
        "2000"
       ]
      },
      {
       "output_type": "stream",
       "stream": "stdout",
       "text": [
        "\n",
        "BACKED UP AT "
       ]
      },
      {
       "output_type": "stream",
       "stream": "stdout",
       "text": [
        " 2000\n",
        "2100"
       ]
      },
      {
       "output_type": "stream",
       "stream": "stdout",
       "text": [
        "\n",
        "2200"
       ]
      },
      {
       "output_type": "stream",
       "stream": "stdout",
       "text": [
        "\n",
        "2300"
       ]
      },
      {
       "output_type": "stream",
       "stream": "stdout",
       "text": [
        "\n",
        "2400"
       ]
      },
      {
       "output_type": "stream",
       "stream": "stdout",
       "text": [
        "\n",
        "2500"
       ]
      },
      {
       "output_type": "stream",
       "stream": "stdout",
       "text": [
        "\n",
        "2600"
       ]
      },
      {
       "output_type": "stream",
       "stream": "stdout",
       "text": [
        "\n",
        "2700"
       ]
      },
      {
       "output_type": "stream",
       "stream": "stdout",
       "text": [
        "\n",
        "2800"
       ]
      },
      {
       "output_type": "stream",
       "stream": "stdout",
       "text": [
        "\n",
        "2900"
       ]
      },
      {
       "output_type": "stream",
       "stream": "stdout",
       "text": [
        "\n",
        "3000"
       ]
      },
      {
       "output_type": "stream",
       "stream": "stdout",
       "text": [
        "\n",
        "BACKED UP AT "
       ]
      },
      {
       "output_type": "stream",
       "stream": "stdout",
       "text": [
        " 3000\n",
        "3100"
       ]
      },
      {
       "output_type": "stream",
       "stream": "stdout",
       "text": [
        "\n",
        "3200"
       ]
      },
      {
       "output_type": "stream",
       "stream": "stdout",
       "text": [
        "\n",
        "3300"
       ]
      },
      {
       "output_type": "stream",
       "stream": "stdout",
       "text": [
        "\n",
        "3400"
       ]
      },
      {
       "output_type": "stream",
       "stream": "stdout",
       "text": [
        "\n",
        "3500"
       ]
      },
      {
       "output_type": "stream",
       "stream": "stdout",
       "text": [
        "\n",
        "3600"
       ]
      },
      {
       "output_type": "stream",
       "stream": "stdout",
       "text": [
        "\n",
        "3700"
       ]
      },
      {
       "output_type": "stream",
       "stream": "stdout",
       "text": [
        "\n",
        "3800"
       ]
      },
      {
       "output_type": "stream",
       "stream": "stdout",
       "text": [
        "\n",
        "3900"
       ]
      },
      {
       "output_type": "stream",
       "stream": "stdout",
       "text": [
        "\n",
        "4000"
       ]
      },
      {
       "output_type": "stream",
       "stream": "stdout",
       "text": [
        "\n",
        "BACKED UP AT "
       ]
      },
      {
       "output_type": "stream",
       "stream": "stdout",
       "text": [
        " 4000\n",
        "4100"
       ]
      },
      {
       "output_type": "stream",
       "stream": "stdout",
       "text": [
        "\n",
        "4200"
       ]
      },
      {
       "output_type": "stream",
       "stream": "stdout",
       "text": [
        "\n",
        "4300"
       ]
      },
      {
       "output_type": "stream",
       "stream": "stdout",
       "text": [
        "\n",
        "4400"
       ]
      },
      {
       "output_type": "stream",
       "stream": "stdout",
       "text": [
        "\n",
        "4500"
       ]
      },
      {
       "output_type": "stream",
       "stream": "stdout",
       "text": [
        "\n",
        "4600"
       ]
      },
      {
       "output_type": "stream",
       "stream": "stdout",
       "text": [
        "\n",
        "4700"
       ]
      },
      {
       "output_type": "stream",
       "stream": "stdout",
       "text": [
        "\n",
        "4800"
       ]
      },
      {
       "output_type": "stream",
       "stream": "stdout",
       "text": [
        "\n",
        "COMPLETED AGE "
       ]
      },
      {
       "output_type": "stream",
       "stream": "stdout",
       "text": [
        " 38\n",
        "STARTED AGE  39\n",
        "I am simple, fun loving and cheerful family oriented responsible person who try to live happy every moment. Loves kids, nature &amp; driving. I believe in love rather than being attached to anything or anyone."
       ]
      },
      {
       "output_type": "stream",
       "stream": "stdout",
       "text": [
        "\n",
        "I am honest, hard working and open person. Be live in live and let live. Cooking, singing and driving are my passion"
       ]
      },
      {
       "output_type": "stream",
       "stream": "stdout",
       "text": [
        "\n",
        "I am into business of Distribution of Cafe Coffee Day Products &amp; Vending Machines. I completed my Graduation in Commerce From SIES College, Mumbai. My Father has recently retired from his business &amp; devoting full time to my business. My Mother is a Home Maker. Our family is settled in Mumbai since last two generation."
       ]
      },
      {
       "output_type": "stream",
       "stream": "stdout",
       "text": [
        "\n",
        "I am a simple and fun loving person. My passion includes riding bikes, visiting beautiful scenic hill stations etc. Life is a beautiful journey looking for a partner who feels the same."
       ]
      },
      {
       "output_type": "stream",
       "stream": "stdout",
       "text": [
        "\n",
        "I am straight forward and funloving person."
       ]
      },
      {
       "output_type": "stream",
       "stream": "stdout",
       "text": [
        "\n",
        "100"
       ]
      },
      {
       "output_type": "stream",
       "stream": "stdout",
       "text": [
        "\n",
        "SKIPPED PROFILE WITH ID "
       ]
      },
      {
       "output_type": "stream",
       "stream": "stdout",
       "text": [
        " SMM1653318\n",
        "200"
       ]
      },
      {
       "output_type": "stream",
       "stream": "stdout",
       "text": [
        "\n",
        "300"
       ]
      },
      {
       "output_type": "stream",
       "stream": "stdout",
       "text": [
        "\n",
        "400"
       ]
      },
      {
       "output_type": "stream",
       "stream": "stdout",
       "text": [
        "\n",
        "500"
       ]
      },
      {
       "output_type": "stream",
       "stream": "stdout",
       "text": [
        "\n",
        "600"
       ]
      },
      {
       "output_type": "stream",
       "stream": "stdout",
       "text": [
        "\n",
        "700"
       ]
      },
      {
       "output_type": "stream",
       "stream": "stdout",
       "text": [
        "\n",
        "800"
       ]
      },
      {
       "output_type": "stream",
       "stream": "stdout",
       "text": [
        "\n",
        "900"
       ]
      },
      {
       "output_type": "stream",
       "stream": "stdout",
       "text": [
        "\n",
        "1000"
       ]
      },
      {
       "output_type": "stream",
       "stream": "stdout",
       "text": [
        "\n",
        "BACKED UP AT "
       ]
      },
      {
       "output_type": "stream",
       "stream": "stdout",
       "text": [
        " 1000\n",
        "1100"
       ]
      },
      {
       "output_type": "stream",
       "stream": "stdout",
       "text": [
        "\n",
        "1200"
       ]
      },
      {
       "output_type": "stream",
       "stream": "stdout",
       "text": [
        "\n",
        "1300"
       ]
      },
      {
       "output_type": "stream",
       "stream": "stdout",
       "text": [
        "\n",
        "SKIPPED PROFILE WITH ID "
       ]
      },
      {
       "output_type": "stream",
       "stream": "stdout",
       "text": [
        " 365521\n",
        "1400"
       ]
      },
      {
       "output_type": "stream",
       "stream": "stdout",
       "text": [
        "\n",
        "1500"
       ]
      },
      {
       "output_type": "stream",
       "stream": "stdout",
       "text": [
        "\n",
        "SKIPPED PROFILE WITH ID "
       ]
      },
      {
       "output_type": "stream",
       "stream": "stdout",
       "text": [
        " 361512\n",
        "1600"
       ]
      },
      {
       "output_type": "stream",
       "stream": "stdout",
       "text": [
        "\n",
        "1700"
       ]
      },
      {
       "output_type": "stream",
       "stream": "stdout",
       "text": [
        "\n",
        "1800"
       ]
      },
      {
       "output_type": "stream",
       "stream": "stdout",
       "text": [
        "\n",
        "1900"
       ]
      },
      {
       "output_type": "stream",
       "stream": "stdout",
       "text": [
        "\n",
        "2000"
       ]
      },
      {
       "output_type": "stream",
       "stream": "stdout",
       "text": [
        "\n",
        "BACKED UP AT "
       ]
      },
      {
       "output_type": "stream",
       "stream": "stdout",
       "text": [
        " 2000\n",
        "2100"
       ]
      },
      {
       "output_type": "stream",
       "stream": "stdout",
       "text": [
        "\n",
        "2200"
       ]
      },
      {
       "output_type": "stream",
       "stream": "stdout",
       "text": [
        "\n",
        "2300"
       ]
      },
      {
       "output_type": "stream",
       "stream": "stdout",
       "text": [
        "\n",
        "2400"
       ]
      },
      {
       "output_type": "stream",
       "stream": "stdout",
       "text": [
        "\n",
        "2500"
       ]
      },
      {
       "output_type": "stream",
       "stream": "stdout",
       "text": [
        "\n",
        "2600"
       ]
      },
      {
       "output_type": "stream",
       "stream": "stdout",
       "text": [
        "\n",
        "2700"
       ]
      },
      {
       "output_type": "stream",
       "stream": "stdout",
       "text": [
        "\n",
        "2800"
       ]
      },
      {
       "output_type": "stream",
       "stream": "stdout",
       "text": [
        "\n",
        "SKIPPED PROFILE WITH ID "
       ]
      },
      {
       "output_type": "stream",
       "stream": "stdout",
       "text": [
        " 357576\n",
        "2900"
       ]
      },
      {
       "output_type": "stream",
       "stream": "stdout",
       "text": [
        "\n",
        "3000"
       ]
      },
      {
       "output_type": "stream",
       "stream": "stdout",
       "text": [
        "\n",
        "BACKED UP AT "
       ]
      },
      {
       "output_type": "stream",
       "stream": "stdout",
       "text": [
        " 3000\n",
        "3100"
       ]
      },
      {
       "output_type": "stream",
       "stream": "stdout",
       "text": [
        "\n",
        "3200"
       ]
      },
      {
       "output_type": "stream",
       "stream": "stdout",
       "text": [
        "\n",
        "3300"
       ]
      },
      {
       "output_type": "stream",
       "stream": "stdout",
       "text": [
        "\n",
        "3400"
       ]
      },
      {
       "output_type": "stream",
       "stream": "stdout",
       "text": [
        "\n",
        "3500"
       ]
      },
      {
       "output_type": "stream",
       "stream": "stdout",
       "text": [
        "\n",
        "3600"
       ]
      },
      {
       "output_type": "stream",
       "stream": "stdout",
       "text": [
        "\n",
        "COMPLETED AGE "
       ]
      },
      {
       "output_type": "stream",
       "stream": "stdout",
       "text": [
        " 39\n",
        "STARTED AGE  40\n",
        "Fun loving and easy going person. Loves to travel &amp; make friends."
       ]
      },
      {
       "output_type": "stream",
       "stream": "stdout",
       "text": [
        "\n",
        "Myself is down to earth, materialistic and love to live in real world. I love to enjoy life and fond of traveling, reading and writing. Myself is convent educated with post graduate in economics. Now I am working as a manager in a private company engaged in retail sector. I have also authored 2 globally distributed books on Financial Markets/ Stock Market Astrology and the third one is under process. I live with my parents, in our own house, in Lucknow and we are well settled here at Lucknow."
       ]
      },
      {
       "output_type": "stream",
       "stream": "stdout",
       "text": [
        "\n",
        "Am a very understanding man who value life, and cherish loving and been loved. I am hardworking, fun-loving and romantic in my own way. I am well disciplined and interesting person who love hanging out and meeting people."
       ]
      },
      {
       "output_type": "stream",
       "stream": "stdout",
       "text": [
        "\n",
        "I believe in simplicity in life and trust. Am down to earth, fair and hard working person."
       ]
      },
      {
       "output_type": "stream",
       "stream": "stdout",
       "text": [
        "\n",
        "I am a frank and down to earth person , like sincere people, and love technology"
       ]
      },
      {
       "output_type": "stream",
       "stream": "stdout",
       "text": [
        "\n",
        "100"
       ]
      },
      {
       "output_type": "stream",
       "stream": "stdout",
       "text": [
        "\n",
        "200"
       ]
      },
      {
       "output_type": "stream",
       "stream": "stdout",
       "text": [
        "\n",
        "300"
       ]
      },
      {
       "output_type": "stream",
       "stream": "stdout",
       "text": [
        "\n",
        "400"
       ]
      },
      {
       "output_type": "stream",
       "stream": "stdout",
       "text": [
        "\n",
        "500"
       ]
      },
      {
       "output_type": "stream",
       "stream": "stdout",
       "text": [
        "\n",
        "600"
       ]
      },
      {
       "output_type": "stream",
       "stream": "stdout",
       "text": [
        "\n",
        "700"
       ]
      },
      {
       "output_type": "stream",
       "stream": "stdout",
       "text": [
        "\n",
        "800"
       ]
      },
      {
       "output_type": "stream",
       "stream": "stdout",
       "text": [
        "\n",
        "900"
       ]
      },
      {
       "output_type": "stream",
       "stream": "stdout",
       "text": [
        "\n",
        "1000"
       ]
      },
      {
       "output_type": "stream",
       "stream": "stdout",
       "text": [
        "\n",
        "BACKED UP AT "
       ]
      },
      {
       "output_type": "stream",
       "stream": "stdout",
       "text": [
        " 1000\n",
        "1100"
       ]
      },
      {
       "output_type": "stream",
       "stream": "stdout",
       "text": [
        "\n",
        "1200"
       ]
      },
      {
       "output_type": "stream",
       "stream": "stdout",
       "text": [
        "\n",
        "1300"
       ]
      },
      {
       "output_type": "stream",
       "stream": "stdout",
       "text": [
        "\n",
        "1400"
       ]
      },
      {
       "output_type": "stream",
       "stream": "stdout",
       "text": [
        "\n",
        "1500"
       ]
      },
      {
       "output_type": "stream",
       "stream": "stdout",
       "text": [
        "\n",
        "1600"
       ]
      },
      {
       "output_type": "stream",
       "stream": "stdout",
       "text": [
        "\n",
        "1700"
       ]
      },
      {
       "output_type": "stream",
       "stream": "stdout",
       "text": [
        "\n",
        "1800"
       ]
      },
      {
       "output_type": "stream",
       "stream": "stdout",
       "text": [
        "\n",
        "1900"
       ]
      },
      {
       "output_type": "stream",
       "stream": "stdout",
       "text": [
        "\n",
        "2000"
       ]
      },
      {
       "output_type": "stream",
       "stream": "stdout",
       "text": [
        "\n",
        "BACKED UP AT "
       ]
      },
      {
       "output_type": "stream",
       "stream": "stdout",
       "text": [
        " 2000\n",
        "2100"
       ]
      },
      {
       "output_type": "stream",
       "stream": "stdout",
       "text": [
        "\n",
        "2200"
       ]
      },
      {
       "output_type": "stream",
       "stream": "stdout",
       "text": [
        "\n",
        "2300"
       ]
      },
      {
       "output_type": "stream",
       "stream": "stdout",
       "text": [
        "\n",
        "2400"
       ]
      },
      {
       "output_type": "stream",
       "stream": "stdout",
       "text": [
        "\n",
        "2500"
       ]
      },
      {
       "output_type": "stream",
       "stream": "stdout",
       "text": [
        "\n",
        "2600"
       ]
      },
      {
       "output_type": "stream",
       "stream": "stdout",
       "text": [
        "\n",
        "2700"
       ]
      },
      {
       "output_type": "stream",
       "stream": "stdout",
       "text": [
        "\n",
        "2800"
       ]
      },
      {
       "output_type": "stream",
       "stream": "stdout",
       "text": [
        "\n",
        "COMPLETED AGE "
       ]
      },
      {
       "output_type": "stream",
       "stream": "stdout",
       "text": [
        " 40\n",
        "STARTED AGE  41\n",
        "I am simple, straight forward and extrovert person. Lost father at very early age and start experiencing the life on its own, studied hard completed B.Sc./PGDMM/PGDCA and LLB and finally settled to become Interior Designer. I am atheist and hate hypocrisy, over spirituality, highly religious and superstitious thought. I am very broad minded and believe in constructive approach at every stage of life."
       ]
      },
      {
       "output_type": "stream",
       "stream": "stdout",
       "text": [
        "\n",
        "I belong to a decent family and my Father was an Army Officer. I have a twin sister who is happily married and settled in Canada from the last 20 years. My younger sister is staying in Chandigarh itself. We are a God fearing family and we have immense faith and respect for Shri Guru Granth Sahib ji."
       ]
      },
      {
       "output_type": "stream",
       "stream": "stdout",
       "text": [
        "\n",
        "Affectionate, caring, intelligent and handsome and committed person."
       ]
      },
      {
       "output_type": "stream",
       "stream": "stdout",
       "text": [
        "\n",
        "I am very honest and broadminded person. Have one cute and naughty daughter (6 years old), but not living with me."
       ]
      },
      {
       "output_type": "stream",
       "stream": "stdout",
       "text": [
        "\n",
        "I am a fun loving person. Like to make friends wherever i go. Love to travel. Like listening to soft rock."
       ]
      },
      {
       "output_type": "stream",
       "stream": "stdout",
       "text": [
        "\n",
        "100"
       ]
      },
      {
       "output_type": "stream",
       "stream": "stdout",
       "text": [
        "\n",
        "200"
       ]
      },
      {
       "output_type": "stream",
       "stream": "stdout",
       "text": [
        "\n",
        "SKIPPED PROFILE WITH ID "
       ]
      },
      {
       "output_type": "stream",
       "stream": "stdout",
       "text": [
        " kolm1348380\n",
        "300"
       ]
      },
      {
       "output_type": "stream",
       "stream": "stdout",
       "text": [
        "\n",
        "400"
       ]
      },
      {
       "output_type": "stream",
       "stream": "stdout",
       "text": [
        "\n",
        "500"
       ]
      },
      {
       "output_type": "stream",
       "stream": "stdout",
       "text": [
        "\n",
        "600"
       ]
      },
      {
       "output_type": "stream",
       "stream": "stdout",
       "text": [
        "\n",
        "700"
       ]
      },
      {
       "output_type": "stream",
       "stream": "stdout",
       "text": [
        "\n",
        "800"
       ]
      },
      {
       "output_type": "stream",
       "stream": "stdout",
       "text": [
        "\n",
        "900"
       ]
      },
      {
       "output_type": "stream",
       "stream": "stdout",
       "text": [
        "\n",
        "1000"
       ]
      },
      {
       "output_type": "stream",
       "stream": "stdout",
       "text": [
        "\n",
        "BACKED UP AT "
       ]
      },
      {
       "output_type": "stream",
       "stream": "stdout",
       "text": [
        " 1000\n",
        "1100"
       ]
      },
      {
       "output_type": "stream",
       "stream": "stdout",
       "text": [
        "\n",
        "1200"
       ]
      },
      {
       "output_type": "stream",
       "stream": "stdout",
       "text": [
        "\n",
        "1300"
       ]
      },
      {
       "output_type": "stream",
       "stream": "stdout",
       "text": [
        "\n",
        "1400"
       ]
      },
      {
       "output_type": "stream",
       "stream": "stdout",
       "text": [
        "\n",
        "1500"
       ]
      },
      {
       "output_type": "stream",
       "stream": "stdout",
       "text": [
        "\n",
        "1600"
       ]
      },
      {
       "output_type": "stream",
       "stream": "stdout",
       "text": [
        "\n",
        "1700"
       ]
      },
      {
       "output_type": "stream",
       "stream": "stdout",
       "text": [
        "\n",
        "1800"
       ]
      },
      {
       "output_type": "stream",
       "stream": "stdout",
       "text": [
        "\n",
        "1900"
       ]
      },
      {
       "output_type": "stream",
       "stream": "stdout",
       "text": [
        "\n",
        "2000"
       ]
      },
      {
       "output_type": "stream",
       "stream": "stdout",
       "text": [
        "\n",
        "BACKED UP AT "
       ]
      },
      {
       "output_type": "stream",
       "stream": "stdout",
       "text": [
        " 2000\n",
        "2100"
       ]
      },
      {
       "output_type": "stream",
       "stream": "stdout",
       "text": [
        "\n",
        "2200"
       ]
      },
      {
       "output_type": "stream",
       "stream": "stdout",
       "text": [
        "\n",
        "2300"
       ]
      },
      {
       "output_type": "stream",
       "stream": "stdout",
       "text": [
        "\n",
        "2400"
       ]
      },
      {
       "output_type": "stream",
       "stream": "stdout",
       "text": [
        "\n",
        "2500"
       ]
      },
      {
       "output_type": "stream",
       "stream": "stdout",
       "text": [
        "\n",
        "2600"
       ]
      },
      {
       "output_type": "stream",
       "stream": "stdout",
       "text": [
        "\n",
        "COMPLETED AGE "
       ]
      },
      {
       "output_type": "stream",
       "stream": "stdout",
       "text": [
        " 41\n",
        "STARTED AGE  42\n",
        "<a href=\"/user_profiles/getRequestPartial?targetProfileId=SMM1749269&amp;messageType=RELG\" onclick=\"_gaq.push(['_trackPageview', '/ga/about-login']);\" class=\"nyroModalSimple profile_action\" id=\"viewAboutpreLogin\" title=\"Login to read more\">\r\n",
        "\t\t\t\t\t\t\t\t\t\tLogin\r\n",
        "\t\t\t\t\t\t\t\t\t</a>&nbsp;&nbsp;to read more."
       ]
      },
      {
       "output_type": "stream",
       "stream": "stdout",
       "text": [
        "\n",
        "<a href=\"/user_profiles/getRequestPartial?targetProfileId=SMM1750435&amp;messageType=RELG\" onclick=\"_gaq.push(['_trackPageview', '/ga/about-login']);\" class=\"nyroModalSimple profile_action\" id=\"viewAboutpreLogin\" title=\"Login to read more\">\r\n",
        "\t\t\t\t\t\t\t\t\t\tLogin\r\n",
        "\t\t\t\t\t\t\t\t\t</a>&nbsp;&nbsp;to read more."
       ]
      },
      {
       "output_type": "stream",
       "stream": "stdout",
       "text": [
        "\n",
        "<a href=\"/user_profiles/getRequestPartial?targetProfileId=SMM1747758&amp;messageType=RELG\" onclick=\"_gaq.push(['_trackPageview', '/ga/about-login']);\" class=\"nyroModalSimple profile_action\" id=\"viewAboutpreLogin\" title=\"Login to read more\">\r\n",
        "\t\t\t\t\t\t\t\t\t\tLogin\r\n",
        "\t\t\t\t\t\t\t\t\t</a>&nbsp;&nbsp;to read more."
       ]
      },
      {
       "output_type": "stream",
       "stream": "stdout",
       "text": [
        "\n",
        "<a href=\"/user_profiles/getRequestPartial?targetProfileId=SMM1732179&amp;messageType=RELG\" onclick=\"_gaq.push(['_trackPageview', '/ga/about-login']);\" class=\"nyroModalSimple profile_action\" id=\"viewAboutpreLogin\" title=\"Login to read more\">\r\n",
        "\t\t\t\t\t\t\t\t\t\tLogin\r\n",
        "\t\t\t\t\t\t\t\t\t</a>&nbsp;&nbsp;to read more."
       ]
      },
      {
       "output_type": "stream",
       "stream": "stdout",
       "text": [
        "\n",
        "<a href=\"/user_profiles/getRequestPartial?targetProfileId=SMM1730337&amp;messageType=RELG\" onclick=\"_gaq.push(['_trackPageview', '/ga/about-login']);\" class=\"nyroModalSimple profile_action\" id=\"viewAboutpreLogin\" title=\"Login to read more\">\r\n",
        "\t\t\t\t\t\t\t\t\t\tLogin\r\n",
        "\t\t\t\t\t\t\t\t\t</a>&nbsp;&nbsp;to read more."
       ]
      },
      {
       "ename": "KeyboardInterrupt",
       "evalue": "",
       "output_type": "pyerr",
       "traceback": [
        "\u001b[0;31m---------------------------------------------------------------------------\u001b[0m\n\u001b[0;31mKeyboardInterrupt\u001b[0m                         Traceback (most recent call last)",
        "\u001b[0;32m<ipython-input-2-c08c8d695d30>\u001b[0m in \u001b[0;36m<module>\u001b[0;34m()\u001b[0m\n\u001b[1;32m    245\u001b[0m \u001b[0;32mfor\u001b[0m \u001b[0mi\u001b[0m \u001b[0;32min\u001b[0m \u001b[0mrange\u001b[0m\u001b[0;34m(\u001b[0m\u001b[0;36m36\u001b[0m\u001b[0;34m,\u001b[0m \u001b[0;36m45\u001b[0m\u001b[0;34m)\u001b[0m\u001b[0;34m:\u001b[0m\u001b[0;34m\u001b[0m\u001b[0m\n\u001b[1;32m    246\u001b[0m     \u001b[0;32mprint\u001b[0m \u001b[0;34m'STARTED AGE '\u001b[0m\u001b[0;34m,\u001b[0m \u001b[0mi\u001b[0m\u001b[0;34m\u001b[0m\u001b[0m\n\u001b[0;32m--> 247\u001b[0;31m     \u001b[0mget_full_profiles\u001b[0m\u001b[0;34m(\u001b[0m\u001b[0mi\u001b[0m\u001b[0;34m)\u001b[0m\u001b[0;34m.\u001b[0m\u001b[0mto_csv\u001b[0m\u001b[0;34m(\u001b[0m\u001b[0;34m'data/grooms'\u001b[0m\u001b[0;34m+\u001b[0m\u001b[0mstr\u001b[0m\u001b[0;34m(\u001b[0m\u001b[0mi\u001b[0m\u001b[0;34m)\u001b[0m\u001b[0;34m+\u001b[0m\u001b[0;34m'full.csv'\u001b[0m\u001b[0;34m,\u001b[0m \u001b[0mencoding\u001b[0m\u001b[0;34m=\u001b[0m\u001b[0;34m'utf-8'\u001b[0m\u001b[0;34m,\u001b[0m \u001b[0mindex\u001b[0m\u001b[0;34m=\u001b[0m\u001b[0mFalse\u001b[0m\u001b[0;34m)\u001b[0m\u001b[0;34m\u001b[0m\u001b[0m\n\u001b[0m\u001b[1;32m    248\u001b[0m     \u001b[0;32mprint\u001b[0m \u001b[0;34m'COMPLETED AGE '\u001b[0m\u001b[0;34m,\u001b[0m \u001b[0mi\u001b[0m\u001b[0;34m\u001b[0m\u001b[0m\n",
        "\u001b[0;32m<ipython-input-2-c08c8d695d30>\u001b[0m in \u001b[0;36mget_full_profiles\u001b[0;34m(age)\u001b[0m\n\u001b[1;32m    234\u001b[0m                 \u001b[0;32mprint\u001b[0m \u001b[0;34m'BACKED UP AT '\u001b[0m\u001b[0;34m,\u001b[0m \u001b[0mnum\u001b[0m\u001b[0;34m\u001b[0m\u001b[0m\n\u001b[1;32m    235\u001b[0m \u001b[0;34m\u001b[0m\u001b[0m\n\u001b[0;32m--> 236\u001b[0;31m             \u001b[0mcontent\u001b[0m \u001b[0;34m=\u001b[0m \u001b[0mr\u001b[0m\u001b[0;34m.\u001b[0m\u001b[0mtext\u001b[0m\u001b[0;34m\u001b[0m\u001b[0m\n\u001b[0m\u001b[1;32m    237\u001b[0m             \u001b[0mcontent\u001b[0m \u001b[0;34m=\u001b[0m \u001b[0mre\u001b[0m\u001b[0;34m.\u001b[0m\u001b[0msub\u001b[0m\u001b[0;34m(\u001b[0m\u001b[0;34mr'\\\\s\\\\s+'\u001b[0m\u001b[0;34m,\u001b[0m \u001b[0;34m' '\u001b[0m\u001b[0;34m,\u001b[0m \u001b[0mcontent\u001b[0m\u001b[0;34m)\u001b[0m\u001b[0;34m\u001b[0m\u001b[0m\n\u001b[1;32m    238\u001b[0m             \u001b[0mdom\u001b[0m \u001b[0;34m=\u001b[0m \u001b[0mweb\u001b[0m\u001b[0;34m.\u001b[0m\u001b[0mElement\u001b[0m\u001b[0;34m(\u001b[0m\u001b[0mcontent\u001b[0m\u001b[0;34m)\u001b[0m\u001b[0;34m\u001b[0m\u001b[0m\n",
        "\u001b[0;32m//anaconda/lib/python2.7/site-packages/requests/models.pyc\u001b[0m in \u001b[0;36mtext\u001b[0;34m(self)\u001b[0m\n\u001b[1;32m    614\u001b[0m         \u001b[0mencoding\u001b[0m \u001b[0;34m=\u001b[0m \u001b[0mself\u001b[0m\u001b[0;34m.\u001b[0m\u001b[0mencoding\u001b[0m\u001b[0;34m\u001b[0m\u001b[0m\n\u001b[1;32m    615\u001b[0m \u001b[0;34m\u001b[0m\u001b[0m\n\u001b[0;32m--> 616\u001b[0;31m         \u001b[0;32mif\u001b[0m \u001b[0;32mnot\u001b[0m \u001b[0mself\u001b[0m\u001b[0;34m.\u001b[0m\u001b[0mcontent\u001b[0m\u001b[0;34m:\u001b[0m\u001b[0;34m\u001b[0m\u001b[0m\n\u001b[0m\u001b[1;32m    617\u001b[0m             \u001b[0;32mreturn\u001b[0m \u001b[0mstr\u001b[0m\u001b[0;34m(\u001b[0m\u001b[0;34m''\u001b[0m\u001b[0;34m)\u001b[0m\u001b[0;34m\u001b[0m\u001b[0m\n\u001b[1;32m    618\u001b[0m \u001b[0;34m\u001b[0m\u001b[0m\n",
        "\u001b[0;32m//anaconda/lib/python2.7/site-packages/requests/models.pyc\u001b[0m in \u001b[0;36mcontent\u001b[0;34m(self)\u001b[0m\n\u001b[1;32m    592\u001b[0m                     \u001b[0mself\u001b[0m\u001b[0;34m.\u001b[0m\u001b[0m_content\u001b[0m \u001b[0;34m=\u001b[0m \u001b[0mNone\u001b[0m\u001b[0;34m\u001b[0m\u001b[0m\n\u001b[1;32m    593\u001b[0m                 \u001b[0;32melse\u001b[0m\u001b[0;34m:\u001b[0m\u001b[0;34m\u001b[0m\u001b[0m\n\u001b[0;32m--> 594\u001b[0;31m                     \u001b[0mself\u001b[0m\u001b[0;34m.\u001b[0m\u001b[0m_content\u001b[0m \u001b[0;34m=\u001b[0m \u001b[0mbytes\u001b[0m\u001b[0;34m(\u001b[0m\u001b[0;34m)\u001b[0m\u001b[0;34m.\u001b[0m\u001b[0mjoin\u001b[0m\u001b[0;34m(\u001b[0m\u001b[0mself\u001b[0m\u001b[0;34m.\u001b[0m\u001b[0miter_content\u001b[0m\u001b[0;34m(\u001b[0m\u001b[0mCONTENT_CHUNK_SIZE\u001b[0m\u001b[0;34m)\u001b[0m\u001b[0;34m)\u001b[0m \u001b[0;32mor\u001b[0m \u001b[0mbytes\u001b[0m\u001b[0;34m(\u001b[0m\u001b[0;34m)\u001b[0m\u001b[0;34m\u001b[0m\u001b[0m\n\u001b[0m\u001b[1;32m    595\u001b[0m \u001b[0;34m\u001b[0m\u001b[0m\n\u001b[1;32m    596\u001b[0m             \u001b[0;32mexcept\u001b[0m \u001b[0mAttributeError\u001b[0m\u001b[0;34m:\u001b[0m\u001b[0;34m\u001b[0m\u001b[0m\n",
        "\u001b[0;32m//anaconda/lib/python2.7/site-packages/requests/models.pyc\u001b[0m in \u001b[0;36mgenerate\u001b[0;34m()\u001b[0m\n\u001b[1;32m    539\u001b[0m         \u001b[0;32mdef\u001b[0m \u001b[0mgenerate\u001b[0m\u001b[0;34m(\u001b[0m\u001b[0;34m)\u001b[0m\u001b[0;34m:\u001b[0m\u001b[0;34m\u001b[0m\u001b[0m\n\u001b[1;32m    540\u001b[0m             \u001b[0;32mwhile\u001b[0m \u001b[0;36m1\u001b[0m\u001b[0;34m:\u001b[0m\u001b[0;34m\u001b[0m\u001b[0m\n\u001b[0;32m--> 541\u001b[0;31m                 \u001b[0mchunk\u001b[0m \u001b[0;34m=\u001b[0m \u001b[0mself\u001b[0m\u001b[0;34m.\u001b[0m\u001b[0mraw\u001b[0m\u001b[0;34m.\u001b[0m\u001b[0mread\u001b[0m\u001b[0;34m(\u001b[0m\u001b[0mchunk_size\u001b[0m\u001b[0;34m,\u001b[0m \u001b[0mdecode_content\u001b[0m\u001b[0;34m=\u001b[0m\u001b[0mTrue\u001b[0m\u001b[0;34m)\u001b[0m\u001b[0;34m\u001b[0m\u001b[0m\n\u001b[0m\u001b[1;32m    542\u001b[0m                 \u001b[0;32mif\u001b[0m \u001b[0;32mnot\u001b[0m \u001b[0mchunk\u001b[0m\u001b[0;34m:\u001b[0m\u001b[0;34m\u001b[0m\u001b[0m\n\u001b[1;32m    543\u001b[0m                     \u001b[0;32mbreak\u001b[0m\u001b[0;34m\u001b[0m\u001b[0m\n",
        "\u001b[0;32m//anaconda/lib/python2.7/site-packages/requests/packages/urllib3/response.pyc\u001b[0m in \u001b[0;36mread\u001b[0;34m(self, amt, decode_content, cache_content)\u001b[0m\n\u001b[1;32m    169\u001b[0m             \u001b[0;32melse\u001b[0m\u001b[0;34m:\u001b[0m\u001b[0;34m\u001b[0m\u001b[0m\n\u001b[1;32m    170\u001b[0m                 \u001b[0mcache_content\u001b[0m \u001b[0;34m=\u001b[0m \u001b[0mFalse\u001b[0m\u001b[0;34m\u001b[0m\u001b[0m\n\u001b[0;32m--> 171\u001b[0;31m                 \u001b[0mdata\u001b[0m \u001b[0;34m=\u001b[0m \u001b[0mself\u001b[0m\u001b[0;34m.\u001b[0m\u001b[0m_fp\u001b[0m\u001b[0;34m.\u001b[0m\u001b[0mread\u001b[0m\u001b[0;34m(\u001b[0m\u001b[0mamt\u001b[0m\u001b[0;34m)\u001b[0m\u001b[0;34m\u001b[0m\u001b[0m\n\u001b[0m\u001b[1;32m    172\u001b[0m                 \u001b[0;32mif\u001b[0m \u001b[0mamt\u001b[0m \u001b[0;34m!=\u001b[0m \u001b[0;36m0\u001b[0m \u001b[0;32mand\u001b[0m \u001b[0;32mnot\u001b[0m \u001b[0mdata\u001b[0m\u001b[0;34m:\u001b[0m  \u001b[0;31m# Platform-specific: Buggy versions of Python.\u001b[0m\u001b[0;34m\u001b[0m\u001b[0m\n\u001b[1;32m    173\u001b[0m                     \u001b[0;31m# Close the connection when no data is returned\u001b[0m\u001b[0;34m\u001b[0m\u001b[0;34m\u001b[0m\u001b[0m\n",
        "\u001b[0;32m//anaconda/lib/python2.7/httplib.pyc\u001b[0m in \u001b[0;36mread\u001b[0;34m(self, amt)\u001b[0m\n\u001b[1;32m    565\u001b[0m         \u001b[0;31m# connection, and the user is reading more bytes than will be provided\u001b[0m\u001b[0;34m\u001b[0m\u001b[0;34m\u001b[0m\u001b[0m\n\u001b[1;32m    566\u001b[0m         \u001b[0;31m# (for example, reading in 1k chunks)\u001b[0m\u001b[0;34m\u001b[0m\u001b[0;34m\u001b[0m\u001b[0m\n\u001b[0;32m--> 567\u001b[0;31m         \u001b[0ms\u001b[0m \u001b[0;34m=\u001b[0m \u001b[0mself\u001b[0m\u001b[0;34m.\u001b[0m\u001b[0mfp\u001b[0m\u001b[0;34m.\u001b[0m\u001b[0mread\u001b[0m\u001b[0;34m(\u001b[0m\u001b[0mamt\u001b[0m\u001b[0;34m)\u001b[0m\u001b[0;34m\u001b[0m\u001b[0m\n\u001b[0m\u001b[1;32m    568\u001b[0m         \u001b[0;32mif\u001b[0m \u001b[0;32mnot\u001b[0m \u001b[0ms\u001b[0m\u001b[0;34m:\u001b[0m\u001b[0;34m\u001b[0m\u001b[0m\n\u001b[1;32m    569\u001b[0m             \u001b[0;31m# Ideally, we would raise IncompleteRead if the content-length\u001b[0m\u001b[0;34m\u001b[0m\u001b[0;34m\u001b[0m\u001b[0m\n",
        "\u001b[0;32m//anaconda/lib/python2.7/socket.pyc\u001b[0m in \u001b[0;36mread\u001b[0;34m(self, size)\u001b[0m\n\u001b[1;32m    378\u001b[0m                 \u001b[0;31m# fragmentation issues on many platforms.\u001b[0m\u001b[0;34m\u001b[0m\u001b[0;34m\u001b[0m\u001b[0m\n\u001b[1;32m    379\u001b[0m                 \u001b[0;32mtry\u001b[0m\u001b[0;34m:\u001b[0m\u001b[0;34m\u001b[0m\u001b[0m\n\u001b[0;32m--> 380\u001b[0;31m                     \u001b[0mdata\u001b[0m \u001b[0;34m=\u001b[0m \u001b[0mself\u001b[0m\u001b[0;34m.\u001b[0m\u001b[0m_sock\u001b[0m\u001b[0;34m.\u001b[0m\u001b[0mrecv\u001b[0m\u001b[0;34m(\u001b[0m\u001b[0mleft\u001b[0m\u001b[0;34m)\u001b[0m\u001b[0;34m\u001b[0m\u001b[0m\n\u001b[0m\u001b[1;32m    381\u001b[0m                 \u001b[0;32mexcept\u001b[0m \u001b[0merror\u001b[0m\u001b[0;34m,\u001b[0m \u001b[0me\u001b[0m\u001b[0;34m:\u001b[0m\u001b[0;34m\u001b[0m\u001b[0m\n\u001b[1;32m    382\u001b[0m                     \u001b[0;32mif\u001b[0m \u001b[0me\u001b[0m\u001b[0;34m.\u001b[0m\u001b[0margs\u001b[0m\u001b[0;34m[\u001b[0m\u001b[0;36m0\u001b[0m\u001b[0;34m]\u001b[0m \u001b[0;34m==\u001b[0m \u001b[0mEINTR\u001b[0m\u001b[0;34m:\u001b[0m\u001b[0;34m\u001b[0m\u001b[0m\n",
        "\u001b[0;31mKeyboardInterrupt\u001b[0m: "
       ]
      },
      {
       "output_type": "stream",
       "stream": "stdout",
       "text": [
        "\n"
       ]
      }
     ],
     "prompt_number": 2
    },
    {
     "cell_type": "code",
     "collapsed": false,
     "input": [],
     "language": "python",
     "metadata": {},
     "outputs": []
    }
   ],
   "metadata": {}
  }
 ]
}
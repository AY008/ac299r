{
 "metadata": {
  "name": ""
 },
 "nbformat": 3,
 "nbformat_minor": 0,
 "worksheets": [
  {
   "cells": [
    {
     "cell_type": "heading",
     "level": 1,
     "metadata": {},
     "source": [
      "Data Cleaner"
     ]
    },
    {
     "cell_type": "code",
     "collapsed": false,
     "input": [
      "# special IPython command to prepare the notebook for matplotlib\n",
      "%matplotlib inline \n",
      "\n",
      "from fnmatch import fnmatch\n",
      "\n",
      "import numpy as np\n",
      "import pandas as pd\n",
      "import matplotlib.pyplot as plt\n",
      "import requests\n",
      "from pattern import web\n",
      "import math\n",
      "\n",
      "\n",
      "# set some nicer defaults for matplotlib\n",
      "from matplotlib import rcParams\n",
      "\n",
      "#these colors come from colorbrewer2.org. Each is an RGB triplet\n",
      "dark2_colors = [(0.10588235294117647, 0.6196078431372549, 0.4666666666666667),\n",
      "                (0.8509803921568627, 0.37254901960784315, 0.00784313725490196),\n",
      "                (0.4588235294117647, 0.4392156862745098, 0.7019607843137254),\n",
      "                (0.9058823529411765, 0.1607843137254902, 0.5411764705882353),\n",
      "                (0.4, 0.6509803921568628, 0.11764705882352941),\n",
      "                (0.9019607843137255, 0.6705882352941176, 0.00784313725490196),\n",
      "                (0.6509803921568628, 0.4627450980392157, 0.11372549019607843),\n",
      "                (0.4, 0.4, 0.4)]\n",
      "\n",
      "rcParams['figure.figsize'] = (10, 6)\n",
      "rcParams['figure.dpi'] = 150\n",
      "rcParams['axes.color_cycle'] = dark2_colors\n",
      "rcParams['lines.linewidth'] = 2\n",
      "rcParams['axes.grid'] = True\n",
      "rcParams['axes.facecolor'] = '#eeeeee'\n",
      "rcParams['font.size'] = 14\n",
      "rcParams['patch.edgecolor'] = 'none'"
     ],
     "language": "python",
     "metadata": {},
     "outputs": [],
     "prompt_number": 1
    },
    {
     "cell_type": "code",
     "collapsed": false,
     "input": [
      "profiles = pd.read_csv('data_raw/grooms_marathi_full.csv')"
     ],
     "language": "python",
     "metadata": {},
     "outputs": [],
     "prompt_number": 2
    },
    {
     "cell_type": "code",
     "collapsed": false,
     "input": [
      "def getage(num):\n",
      "    num = str(num)\n",
      "    if num == 'nan':\n",
      "        return np.nan\n",
      "    else:\n",
      "        return int(str(num)[0:2])\n",
      "\n",
      "\n",
      "profiles['age2_0']=profiles['age2'].map(lambda x: getage(x))\n",
      "#profiles['age2_0']=profiles['age2_0'].map(lambda x: int(x) if x != 'na' else None)\n",
      "\n",
      "profiles['age2_1']=profiles['age2'].map(lambda x: str(x)[6:8] if x else \"\")\n",
      "#profiles['age2_1']=profiles['age2_1'].map(lambda x: int(x) if x != 'na' else None)\n",
      "\n",
      "profiles['age2_0'].unique()"
     ],
     "language": "python",
     "metadata": {},
     "outputs": [
      {
       "metadata": {},
       "output_type": "pyout",
       "prompt_number": 3,
       "text": [
        "array([ 23.,  18.,  21.,  22.,  20.,  19.,  25.,  32.,  27.,  28.,  24.,\n",
        "        26.,  40.,  29.,  30.,  43.,  33.,  nan,  56.,  47.,  35.,  37.,\n",
        "        31.,  42.,  53.,  45.,  34.,  36.,  41.,  39.,  38.,  49.,  50.,\n",
        "        48.,  44.,  46.,  60.,  55.,  52.,  54.,   1.])"
       ]
      }
     ],
     "prompt_number": 3
    },
    {
     "cell_type": "raw",
     "metadata": {},
     "source": [
      "1 = Slim\n",
      "2 = Average\n",
      "3 = Heavy\n",
      "4 = Athletic\n",
      "0 = Doesn't Matter"
     ]
    },
    {
     "cell_type": "code",
     "collapsed": false,
     "input": [
      "profiles.body1 = profiles.body1.replace({'Slim': 1, 'Average': 2, 'Heavy': 3, 'Athletic': 4, 'Doesn\\'t Matter':0})\n",
      "profiles['body1']=profiles['body1'].map(lambda x: int(x) if not math.isnan(x) else None)\n",
      "profiles.body1.unique()"
     ],
     "language": "python",
     "metadata": {},
     "outputs": [
      {
       "metadata": {},
       "output_type": "pyout",
       "prompt_number": 4,
       "text": [
        "array([  4.,   2.,   1.,  nan,   3.,   0.])"
       ]
      }
     ],
     "prompt_number": 4
    },
    {
     "cell_type": "code",
     "collapsed": false,
     "input": [
      "profiles.body2 = profiles.body2.replace({'Slim': 1, 'Average': 2, 'Heavy': 3, 'Athletic': 4, 'Doesn\\'t Matter':0})\n",
      "profiles['body2']=profiles['body2'].map(lambda x: int(x) if not math.isnan(x) else None)\n",
      "profiles.body2.unique()"
     ],
     "language": "python",
     "metadata": {},
     "outputs": [
      {
       "metadata": {},
       "output_type": "pyout",
       "prompt_number": 5,
       "text": [
        "array([ nan,   1.,   0.,   2.,   4.,   3.])"
       ]
      }
     ],
     "prompt_number": 5
    },
    {
     "cell_type": "code",
     "collapsed": false,
     "input": [
      "profiles['brothers']=profiles['brothers'].map(lambda x: str(x)[0] if x else 'n')\n",
      "profiles['brothers']=profiles['brothers'].map(lambda x: int(x) if x!='n' else None)\n",
      "profiles.brothers.unique()"
     ],
     "language": "python",
     "metadata": {},
     "outputs": [
      {
       "metadata": {},
       "output_type": "pyout",
       "prompt_number": 6,
       "text": [
        "array([  0.,   1.,  nan,   2.,   5.,   3.,   4.,   7.])"
       ]
      }
     ],
     "prompt_number": 6
    },
    {
     "cell_type": "code",
     "collapsed": false,
     "input": [
      "profiles['sisters']=profiles['sisters'].map(lambda x: str(x)[0] if x else 'n')\n",
      "profiles['sisters']=profiles['sisters'].map(lambda x: int(x) if x!='n' else None)\n",
      "profiles.sisters.unique()"
     ],
     "language": "python",
     "metadata": {},
     "outputs": [
      {
       "metadata": {},
       "output_type": "pyout",
       "prompt_number": 7,
       "text": [
        "array([  0.,   1.,   2.,  nan,   3.,   5.,   4.,   6.])"
       ]
      }
     ],
     "prompt_number": 7
    },
    {
     "cell_type": "code",
     "collapsed": false,
     "input": [
      "profiles.complexion1 = profiles.complexion1.replace({'Doesn\\'t Matter':0, 'Very Fair ': 1, 'Very Fair': 1, 'Fair ': 2, 'Fair': 2, 'Whetish Medium ': 4, 'Whetish Medium': 4, 'Wheatish': 3, 'Wheatish ':3, 'Dark ':5, 'Dark':5})\n",
      "profiles['complexion1']=profiles['complexion1'].map(lambda x: int(x) if not math.isnan(x) else None)\n",
      "profiles.complexion1.unique()"
     ],
     "language": "python",
     "metadata": {},
     "outputs": [
      {
       "metadata": {},
       "output_type": "pyout",
       "prompt_number": 8,
       "text": [
        "array([  2.,   4.,   3.,  nan,   1.,   5.,   0.])"
       ]
      }
     ],
     "prompt_number": 8
    },
    {
     "cell_type": "code",
     "collapsed": false,
     "input": [
      "profiles.complexion2 = profiles.complexion2.replace({'Doesn\\'t Matter':0, 'Very Fair ': 1, 'Very Fair': 1, 'Fair ': 2, 'Fair': 2, 'Whetish Medium ': 4, 'Whetish Medium': 4, 'Wheatish': 3, 'Wheatish ':3, 'Dark ':5, 'Dark':5})\n",
      "profiles['complexion2']=profiles['complexion2'].map(lambda x: int(x) if not math.isnan(x) else None)\n",
      "profiles.complexion2.unique()"
     ],
     "language": "python",
     "metadata": {},
     "outputs": [
      {
       "metadata": {},
       "output_type": "pyout",
       "prompt_number": 9,
       "text": [
        "array([ nan,   2.,   0.,   3.,   1.,   4.])"
       ]
      }
     ],
     "prompt_number": 9
    },
    {
     "cell_type": "code",
     "collapsed": false,
     "input": [
      "profiles.created_for = profiles.created_for.replace({'Self':0, 'Daughter': 1, 'Son': 2, 'Sister': 3, 'Brother': 4, 'Relative': 5, 'Friend': 6})\n",
      "profiles['created_for']=profiles['created_for'].map(lambda x: int(x) if not math.isnan(x) else None)\n",
      "profiles.created_for.unique()"
     ],
     "language": "python",
     "metadata": {},
     "outputs": [
      {
       "metadata": {},
       "output_type": "pyout",
       "prompt_number": 10,
       "text": [
        "array([  0.,   2.,   4.,  nan,   5.,   6.,   3.])"
       ]
      }
     ],
     "prompt_number": 10
    },
    {
     "cell_type": "code",
     "collapsed": false,
     "input": [
      "profiles.drinking1 = profiles.drinking1.replace({'Doesn\\'t Matter':0, 'No': 1, 'Occasionally': 2, 'Yes': 3})\n",
      "profiles['drinking1']=profiles['drinking1'].map(lambda x: int(x) if not math.isnan(x) else None)\n",
      "profiles.drinking1.unique()"
     ],
     "language": "python",
     "metadata": {},
     "outputs": [
      {
       "metadata": {},
       "output_type": "pyout",
       "prompt_number": 11,
       "text": [
        "array([  1.,   2.,  nan,   0.,   3.])"
       ]
      }
     ],
     "prompt_number": 11
    },
    {
     "cell_type": "code",
     "collapsed": false,
     "input": [
      "profiles.drinking2 = profiles.drinking2.replace({'Doesn\\'t Matter':0, 'No': 1, 'Occasionally': 2, 'Yes': 3})\n",
      "profiles['drinking2']=profiles['drinking2'].map(lambda x: int(x) if not math.isnan(x) else None)\n",
      "profiles.drinking2.unique()"
     ],
     "language": "python",
     "metadata": {},
     "outputs": [
      {
       "metadata": {},
       "output_type": "pyout",
       "prompt_number": 12,
       "text": [
        "array([ nan,   1.,   0.,   2.,   3.])"
       ]
      }
     ],
     "prompt_number": 12
    },
    {
     "cell_type": "code",
     "collapsed": false,
     "input": [
      "profiles.eating1 = profiles.eating1.replace({'Doesn\\'t Matter':0, 'Jain': 1, 'Vegetarian': 2, 'Vegetarian With Eggs': 3, 'Non Vegetarian':4})\n",
      "profiles['eating1']=profiles['eating1'].map(lambda x: int(x) if not math.isnan(x) else None)\n",
      "profiles.eating1.unique()"
     ],
     "language": "python",
     "metadata": {},
     "outputs": [
      {
       "metadata": {},
       "output_type": "pyout",
       "prompt_number": 13,
       "text": [
        "array([  4.,   2.,   3.,  nan,   0.,   1.])"
       ]
      }
     ],
     "prompt_number": 13
    },
    {
     "cell_type": "code",
     "collapsed": false,
     "input": [
      "profiles.eating2 = profiles.eating2.replace({'Doesn\\'t Matter':0, 'Jain': 1, 'Vegetarian': 2, 'Vegetarian With Eggs': 3, 'Non Vegetarian':4})\n",
      "profiles['eating2']=profiles['eating2'].map(lambda x: int(x) if not math.isnan(x) else None)\n",
      "profiles.eating2.unique()"
     ],
     "language": "python",
     "metadata": {},
     "outputs": [
      {
       "metadata": {},
       "output_type": "pyout",
       "prompt_number": 14,
       "text": [
        "array([ nan,   0.,   3.,   2.,   4.,   1.])"
       ]
      }
     ],
     "prompt_number": 14
    },
    {
     "cell_type": "code",
     "collapsed": false,
     "input": [
      "profiles.employed1 = profiles.employed1.replace({'Not Working':0, 'Public Sector': 1, 'State Government': 2, 'Central Government': 3, 'Private Sector':4, 'MNC':5, 'Others':6})\n",
      "profiles['employed1']=profiles['employed1'].map(lambda x: int(x) if not math.isnan(x) else None)\n",
      "profiles.employed1.unique()"
     ],
     "language": "python",
     "metadata": {},
     "outputs": [
      {
       "metadata": {},
       "output_type": "pyout",
       "prompt_number": 15,
       "text": [
        "array([  5.,   6.,   4.,   0.,   1.,   3.,   2.,  nan])"
       ]
      }
     ],
     "prompt_number": 15
    },
    {
     "cell_type": "code",
     "collapsed": false,
     "input": [
      "profiles.employed2.unique()"
     ],
     "language": "python",
     "metadata": {},
     "outputs": [
      {
       "metadata": {},
       "output_type": "pyout",
       "prompt_number": 16,
       "text": [
        "array([nan, 'Not Working', \"Doesn't Matter\", 'Central Government',\n",
        "       'MNC,Central Government,Private Sector,Not Working',\n",
        "       'MNC,Central Government,State Government,Private Sector,Not Working',\n",
        "       'MNC,Central Government,State Government,Private Sector',\n",
        "       'MNC,Central Government,State Government,Private Sector,Public Sector,Others',\n",
        "       'MNC,Private Sector',\n",
        "       'MNC,Central Government,State Government,Private Sector,Public Sector',\n",
        "       'MNC', 'Not Working,Others', 'MNC,Central Government',\n",
        "       'MNC,Central Government,Private Sector,Public Sector,Others',\n",
        "       'MNC,Central Government,State Government,Public Sector',\n",
        "       'Private Sector,Public Sector', 'Public Sector', 'Others',\n",
        "       'Central Government,State Government,Private Sector',\n",
        "       'MNC,Private Sector,Not Working', 'MNC,Private Sector,Others',\n",
        "       'MNC,Private Sector,Public Sector',\n",
        "       'MNC,Central Government,Private Sector', 'Private Sector',\n",
        "       'MNC,Central Government,State Government',\n",
        "       'MNC,State Government,Private Sector,Public Sector',\n",
        "       'MNC,Central Government,State Government,Private Sector,Public Sector,Not Working,Others',\n",
        "       'Central Government,State Government,Public Sector',\n",
        "       'Central Government,State Government,Private Sector,Public Sector',\n",
        "       'MNC,Central Government,Private Sector,Public Sector',\n",
        "       'Private Sector,Not Working,Others',\n",
        "       'MNC,Central Government,State Government,Private Sector,Public Sector,Not Working',\n",
        "       'MNC,Public Sector', 'MNC,State Government,Private Sector',\n",
        "       'MNC,Private Sector,Public Sector,Others',\n",
        "       'Central Government,State Government',\n",
        "       'Central Government,State Government,Private Sector,Public Sector,Not Working',\n",
        "       'MNC,Private Sector,Not Working,Others',\n",
        "       'Central Government,State Government,Private Sector,Public Sector,Others',\n",
        "       'Central Government,Public Sector',\n",
        "       'Private Sector,Public Sector,Others',\n",
        "       'State Government,Private Sector',\n",
        "       'MNC,Central Government,State Government,Not Working'], dtype=object)"
       ]
      }
     ],
     "prompt_number": 16
    },
    {
     "cell_type": "code",
     "collapsed": false,
     "input": [
      "profiles.family_type1.unique()"
     ],
     "language": "python",
     "metadata": {},
     "outputs": [
      {
       "metadata": {},
       "output_type": "pyout",
       "prompt_number": 17,
       "text": [
        "array([nan, 'Nuclear', 'Joint family both parents',\n",
        "       'Joint family father mother and brothers sisters',\n",
        "       'Joint family only mother', 'Others', \"Doesn't Matter\",\n",
        "       'Joint family single parent brothers and or sisters',\n",
        "       'Joint family only father'], dtype=object)"
       ]
      }
     ],
     "prompt_number": 17
    },
    {
     "cell_type": "code",
     "collapsed": false,
     "input": [
      "profiles.father = profiles.father.replace({'Army/ Armed Forces': 1, 'Business/Entrepreneur': 2, 'Civil Services': 3, 'Passed':5, 'Retired':6, 'Service - Govt/ PSU':7, 'Service - Private': 8, 'Teacher':9, 'Not Employed':10})\n",
      "profiles['father']=profiles['father'].map(lambda x: int(x) if not math.isnan(x) else None)\n",
      "profiles.father.unique()"
     ],
     "language": "python",
     "metadata": {},
     "outputs": [
      {
       "metadata": {},
       "output_type": "pyout",
       "prompt_number": 18,
       "text": [
        "array([ nan,   7.,   6.,   5.,   2.,   8.,   1.,  10.,   3.])"
       ]
      }
     ],
     "prompt_number": 18
    },
    {
     "cell_type": "code",
     "collapsed": false,
     "input": [
      "profiles.mother = profiles.mother.replace({'Army/ Armed Forces': 1, 'Business/Entrepreneur': 2, 'Civil Services': 3, 'Housewife':4, 'Passed':5, 'Retired':6, 'Service - Govt/ PSU':7, 'Service - Private': 8, 'Teacher':9})\n",
      "profiles['mother']=profiles['mother'].map(lambda x: int(x) if not math.isnan(x) else None)\n",
      "profiles.mother.unique()"
     ],
     "language": "python",
     "metadata": {},
     "outputs": [
      {
       "metadata": {},
       "output_type": "pyout",
       "prompt_number": 19,
       "text": [
        "array([ nan,   4.,   7.,   6.,   5.,   9.,   8.,   2.,   3.,   1.])"
       ]
      }
     ],
     "prompt_number": 19
    },
    {
     "cell_type": "code",
     "collapsed": false,
     "input": [
      "profiles.fields.unique()"
     ],
     "language": "python",
     "metadata": {},
     "outputs": [
      {
       "metadata": {},
       "output_type": "pyout",
       "prompt_number": 20,
       "text": [
        "array(['Electronics/ Telecommunications', 'Finance', 'Computer Science',\n",
        "       nan, 'Marketing', 'Internal Medicine', 'Commerce Pass', 'Civil',\n",
        "       'Language- English', 'Mechanical', 'Agri Business', 'Chemistry',\n",
        "       'Microbiology', 'Executive MBA', 'Pharmacy', 'Commerce Honors',\n",
        "       'Other B.Com', 'History', 'Arts/ Humanities/ Social Sciences',\n",
        "       'Economics', 'Other MCA', 'HR/ Industrial Relations',\n",
        "       'Fine/ Applied Arts', 'Other Diploma', 'Electrical', 'Pediatrics',\n",
        "       'Other BE/ B.Tech.', 'Law', 'Company Secretary', 'Other PG Diploma',\n",
        "       'Science', 'Engineering', 'Accounting &amp; Finance', 'Chemical',\n",
        "       'Other ME/M.Tech./MS', 'Orthodontics', 'Commerce',\n",
        "       'Landscape Architecture', 'Physics', 'Human Resource Management',\n",
        "       'Environmental', 'Other MD/ MS (Medicine)', 'CPT (Foundation)',\n",
        "       'Biotechnology', 'Other CA', 'Agriculture', 'Management',\n",
        "       'Automobile', 'Production/ Industrial', 'Marketing/ Sales',\n",
        "       'Pharmacognosy', 'Other ML/ LLM', 'International Business',\n",
        "       'Leather Technology', 'Sociology', 'Hospital Administration',\n",
        "       'Other B.Sc.', 'Other M.Pharm', 'ICWA', 'Medicine', 'Visual Arts',\n",
        "       'Hardware/ Networking', 'Maths', 'Others',\n",
        "       'Production &amp; Operations', 'Homeopathy', 'Other 12th',\n",
        "       'Pharmacology', 'Planning', 'Other BA', 'Information Technology',\n",
        "       'Hotel Management', 'CA (Final)', 'Other Arts/ Graphic Designing',\n",
        "       'Language- Other International', 'Other MBA/ PGDM',\n",
        "       'Mass Communications', 'General', 'Tourism &amp; Hospitality',\n",
        "       'Systems', 'Other B.Ed', 'Political Science', 'Architecture',\n",
        "       'Instrumentation', 'Administration', 'Other Management',\n",
        "       'Life Sciences', 'Clinical Research', 'Dentistry', 'Anesthesiology',\n",
        "       'Business Studies', 'Orthopaedics', 'Gynecology', 'Education',\n",
        "       'Pathology', 'Radiology', 'Aircraft Maintenance Engg',\n",
        "       'Preventive &amp; Social Medicine', 'Other MBBS', 'Social Work',\n",
        "       'Communication', 'Interior Designing', 'Language- Hindi', 'Biology',\n",
        "       'Geography', 'Home Science', 'General Physician', 'Psychology',\n",
        "       'Other BCA', 'Statistics', 'Medical Transcription',\n",
        "       'Strategy Management', 'BFA (Animation)', 'Other MSW', 'Energy',\n",
        "       'Graphic/ Web Designing', 'Graphics/ Web Designing',\n",
        "       'Oral Medicine &amp; Radiology', 'Film/ TV Studies',\n",
        "       'Other Engineering', 'Dermatology', 'Journalism',\n",
        "       'Environmental Science', 'Pharmaceutics', 'Health Administration',\n",
        "       'Other M.Com', 'Management Studies', 'Nursing', 'Opthalmology',\n",
        "       'Marine', 'Periodontics', 'Environmental Sciences', 'Surgery',\n",
        "       'Metallurgy/ Material Technology',\n",
        "       'Aviation &amp; Hospitality Management', 'Fine Arts',\n",
        "       'Other BL/ LLB/ BGL', 'Fashion Management',\n",
        "       'Communications Management', 'Electronics/Telecommunication',\n",
        "       'Other M.Plan.', 'Chartered Financial Analyst',\n",
        "       'Veterinary Science', 'Insurance/ Actuarial Science',\n",
        "       'Aviation/ Aeronautical', 'Export/ Import', 'PR/ Advertising',\n",
        "       'Botany', 'Medical Lab Technology', 'Other B.Arch', 'Other MPT',\n",
        "       'Film Studies', 'Advertising/Mass Communication',\n",
        "       'Fashion Designing/Other Designing', 'VocatioNewl Course',\n",
        "       'Fashion Designing', 'Language- Other Indian', 'Biochemistry',\n",
        "       'Other BBA/ BBM/ BBS', 'Biomedical', 'Petroleum',\n",
        "       'Textile Technology', 'Zoology', 'Pharmaceutical Chemistry',\n",
        "       'Industrial Relations &amp; Personnel Management', 'Geology',\n",
        "       'Other M.Sc.', 'Other MA', 'Reproductive Medicine',\n",
        "       'Bioinformatics', 'Biomedical Sciences', 'Anthropology',\n",
        "       'Vocational Course', 'Gastroenterology', 'Metallurgy',\n",
        "       'Poultry Science', 'CPL (Commercial Pilot License)',\n",
        "       'Physical Education', 'Cardiology', 'Physiotherapy', 'Orthopedics',\n",
        "       'Oral &amp; Maxillofacial Surgery', 'Library Sciences',\n",
        "       'Financial Services', 'Tourism', 'Other BDS', 'Neurology',\n",
        "       'PCC (CA- Inter)', 'Literature', 'Veterinary Public Health',\n",
        "       'Music', 'Food Technology', 'Other Ph.D.', 'Dairy/Farming',\n",
        "       'Mass Communication', 'Plastics', 'Other'], dtype=object)"
       ]
      }
     ],
     "prompt_number": 20
    },
    {
     "cell_type": "code",
     "collapsed": false,
     "input": [
      "profiles.have_children = profiles.have_children.replace({'No': 0, 'Yes': 1})\n",
      "profiles['have_children']=profiles['have_children'].map(lambda x: int(x) if not math.isnan(x) else None)\n",
      "profiles.have_children.unique()"
     ],
     "language": "python",
     "metadata": {},
     "outputs": [
      {
       "metadata": {},
       "output_type": "pyout",
       "prompt_number": 21,
       "text": [
        "array([  0.,   1.,  nan])"
       ]
      }
     ],
     "prompt_number": 21
    },
    {
     "cell_type": "code",
     "collapsed": false,
     "input": [
      "profiles.horoscope = profiles.horoscope.replace({'No': 0, 'Yes': 1})\n",
      "profiles['horoscope']=profiles['horoscope'].map(lambda x: int(x) if not math.isnan(x) else None)\n",
      "profiles.horoscope.unique()"
     ],
     "language": "python",
     "metadata": {},
     "outputs": [
      {
       "metadata": {},
       "output_type": "pyout",
       "prompt_number": 22,
       "text": [
        "array([ nan,   1.,   0.])"
       ]
      }
     ],
     "prompt_number": 22
    },
    {
     "cell_type": "code",
     "collapsed": false,
     "input": [
      "sorted(profiles.income1.unique())"
     ],
     "language": "python",
     "metadata": {},
     "outputs": [
      {
       "metadata": {},
       "output_type": "pyout",
       "prompt_number": 5,
       "text": [
        "[nan,\n",
        " \"Doesn't Matter\",\n",
        " 'EURO 1 lakh to 2 lakhs',\n",
        " 'EURO Under 50 thousand',\n",
        " 'INR 1 lakh to 2 lakhs',\n",
        " 'INR 10 lakhs to 15 lakhs',\n",
        " 'INR 15 lakhs to 20 lakhs',\n",
        " 'INR 2 lakhs to 3 lakhs',\n",
        " 'INR 20 lakhs to 25 lakhs',\n",
        " 'INR 25 lakhs to 30 lakhs',\n",
        " 'INR 3 lakhs to 4 lakhs',\n",
        " 'INR 30 lakhs to 35 lakhs',\n",
        " 'INR 35 lakhs to 40 lakhs',\n",
        " 'INR 4 lakhs to 5 lakhs',\n",
        " 'INR 40 lakhs to 50 lakhs',\n",
        " 'INR 5 lakhs to 7 lakhs',\n",
        " 'INR 50 lakhs and above.',\n",
        " 'INR 50 thousand to 1 lakh',\n",
        " 'INR 7 lakhs to 10 lakhs',\n",
        " \"INR Don't wish to specify\",\n",
        " 'INR Respectable Amount',\n",
        " 'INR Under 50 thousand',\n",
        " 'POUND &pound;20k to 30k',\n",
        " 'POUND &pound;30k to 40k',\n",
        " 'POUND &pound;50k to 75k',\n",
        " 'POUND Under 50 thousand',\n",
        " 'US$ $100k to 125k',\n",
        " 'US$ $150k to 200k',\n",
        " 'US$ $200k and above',\n",
        " 'US$ $25k to 40k',\n",
        " 'US$ $40k to 60k',\n",
        " 'US$ $60k to 80k',\n",
        " 'US$ 1 lakh to 2 lakhs',\n",
        " 'US$ 50 thousand to 1 lakh',\n",
        " \"US$ Don't wish to specify\",\n",
        " 'US$ Less than $25k',\n",
        " 'US$ Respectable Amount',\n",
        " 'Unspecified 1 lakh to 2 lakhs',\n",
        " 'Unspecified 2 lakhs to 3 lakhs',\n",
        " 'Unspecified 4 lakhs to 5 lakhs',\n",
        " 'Unspecified 50 thousand to 1 lakh',\n",
        " 'Unspecified 7 lakhs to 10 lakhs',\n",
        " \"Unspecified Don't wish to specify\",\n",
        " 'Unspecified Respectable Amount',\n",
        " 'Unspecified Under 50 thousand']"
       ]
      }
     ],
     "prompt_number": 5
    },
    {
     "cell_type": "code",
     "collapsed": false,
     "input": [
      "profiles.income2.unique()"
     ],
     "language": "python",
     "metadata": {},
     "outputs": [
      {
       "metadata": {},
       "output_type": "pyout",
       "prompt_number": 4,
       "text": [
        "array([nan, \"Doesn't Matter\",\n",
        "       '1 lakh to 2 lakhs,2 lakhs to 3 lakhs,3 lakhs to 4 lakhs,4 lakhs to 5 lakhs',\n",
        "       '1 lakh to 2 lakhs', '4 lakhs to 5 lakhs',\n",
        "       '1 lakh to 2 lakhs,2 lakhs to 3 lakhs',\n",
        "       '2 lakhs to 3 lakhs,3 lakhs to 4 lakhs', '2 lakhs to 3 lakhs',\n",
        "       '1 lakh to 2 lakhs,2 lakhs to 3 lakhs,3 lakhs to 4 lakhs,4 lakhs to 5 lakhs,7 lakhs to 10 lakhs',\n",
        "       '1 lakh to 2 lakhs,2 lakhs to 3 lakhs,3 lakhs to 4 lakhs',\n",
        "       '3 lakhs to 4 lakhs',\n",
        "       '3 lakhs to 4 lakhs,4 lakhs to 5 lakhs,7 lakhs to 10 lakhs',\n",
        "       '2 lakhs to 3 lakhs,4 lakhs to 5 lakhs',\n",
        "       '2 lakhs to 3 lakhs,3 lakhs to 4 lakhs,4 lakhs to 5 lakhs,7 lakhs to 10 lakhs',\n",
        "       '3 lakhs to 4 lakhs,4 lakhs to 5 lakhs',\n",
        "       'Under 50 thousand,50 thousand to 1 lakh,1 lakh to 2 lakhs,2 lakhs to 3 lakhs,3 lakhs to 4 lakhs,4 lakhs to 5 lakhs',\n",
        "       '10 lakhs to 15 lakhs', \"Don't wish to specify\",\n",
        "       '50 thousand to 1 lakh,1 lakh to 2 lakhs,2 lakhs to 3 lakhs',\n",
        "       'Under 50 thousand,50 thousand to 1 lakh,1 lakh to 2 lakhs,2 lakhs to 3 lakhs,3 lakhs to 4 lakhs',\n",
        "       '50 thousand to 1 lakh',\n",
        "       'Under 50 thousand,50 thousand to 1 lakh,1 lakh to 2 lakhs',\n",
        "       '2 lakhs to 3 lakhs,3 lakhs to 4 lakhs,4 lakhs to 5 lakhs',\n",
        "       '7 lakhs to 10 lakhs,10 lakhs to 15 lakhs',\n",
        "       '4 lakhs to 5 lakhs,5 lakhs to 7 lakhs,7 lakhs to 10 lakhs,10 lakhs to 15 lakhs,15 lakhs to 20 lakhs,20 lakhs to 25 lakhs',\n",
        "       'Under 50 thousand,50 thousand to 1 lakh,1 lakh to 2 lakhs,2 lakhs to 3 lakhs',\n",
        "       '2 lakhs to 3 lakhs,3 lakhs to 4 lakhs,4 lakhs to 5 lakhs,5 lakhs to 7 lakhs',\n",
        "       '7 lakhs to 10 lakhs',\n",
        "       '50 thousand to 1 lakh,1 lakh to 2 lakhs,2 lakhs to 3 lakhs,3 lakhs to 4 lakhs,4 lakhs to 5 lakhs',\n",
        "       'Under 50 thousand',\n",
        "       '3 lakhs to 4 lakhs,4 lakhs to 5 lakhs,7 lakhs to 10 lakhs,10 lakhs to 15 lakhs,15 lakhs to 20 lakhs,20 lakhs to 25 lakhs,25 lakhs to 30 lakhs,30 lakhs to 35 lakhs,35 lakhs to 40 lakhs,40 lakhs to 50 lakhs,50 lakhs and above.',\n",
        "       '10 lakhs to 15 lakhs,15 lakhs to 20 lakhs,20 lakhs to 25 lakhs,25 lakhs to 30 lakhs,30 lakhs to 35 lakhs,35 lakhs to 40 lakhs,40 lakhs to 50 lakhs,50 lakhs and above.',\n",
        "       'Under 50 thousand,50 thousand to 1 lakh,1 lakh to 2 lakhs,2 lakhs to 3 lakhs,3 lakhs to 4 lakhs,4 lakhs to 5 lakhs,7 lakhs to 10 lakhs,10 lakhs to 15 lakhs,15 lakhs to 20 lakhs,20 lakhs to 25 lakhs,25 lakhs to 30 lakhs',\n",
        "       '7 lakhs to 10 lakhs,50 lakhs and above.',\n",
        "       '50 thousand to 1 lakh,1 lakh to 2 lakhs,2 lakhs to 3 lakhs,3 lakhs to 4 lakhs,4 lakhs to 5 lakhs,7 lakhs to 10 lakhs,10 lakhs to 15 lakhs',\n",
        "       'Under 50 thousand,50 thousand to 1 lakh,1 lakh to 2 lakhs,2 lakhs to 3 lakhs,3 lakhs to 4 lakhs,4 lakhs to 5 lakhs,7 lakhs to 10 lakhs,10 lakhs to 15 lakhs,15 lakhs to 20 lakhs,20 lakhs to 25 lakhs,25 lakhs to 30 lakhs,30 lakhs to 35 lakhs,35 lakhs to 40 lakhs,40 lakhs to 50 lakhs,50 lakhs and above.',\n",
        "       '3 lakhs to 4 lakhs,4 lakhs to 5 lakhs,7 lakhs to 10 lakhs,10 lakhs to 15 lakhs',\n",
        "       '4 lakhs to 5 lakhs,7 lakhs to 10 lakhs,10 lakhs to 15 lakhs',\n",
        "       '2 lakhs to 3 lakhs,3 lakhs to 4 lakhs,4 lakhs to 5 lakhs,7 lakhs to 10 lakhs,10 lakhs to 15 lakhs',\n",
        "       '50 thousand to 1 lakh,1 lakh to 2 lakhs',\n",
        "       '7 lakhs to 10 lakhs,10 lakhs to 15 lakhs,15 lakhs to 20 lakhs,20 lakhs to 25 lakhs,25 lakhs to 30 lakhs,30 lakhs to 35 lakhs,35 lakhs to 40 lakhs,40 lakhs to 50 lakhs,50 lakhs and above.',\n",
        "       '1 lakh to 2 lakhs,2 lakhs to 3 lakhs,3 lakhs to 4 lakhs,4 lakhs to 5 lakhs,5 lakhs to 7 lakhs,7 lakhs to 10 lakhs,10 lakhs to 15 lakhs,15 lakhs to 20 lakhs,20 lakhs to 25 lakhs,25 lakhs to 30 lakhs'], dtype=object)"
       ]
      }
     ],
     "prompt_number": 4
    },
    {
     "cell_type": "code",
     "collapsed": false,
     "input": [
      "profiles.marital_status1 = profiles.marital_status1.replace({'Doesn\\'t Matter': 0, 'Never Married': 1, 'Divorced': 2, 'Annulled': 3, 'Widowed': 4, 'Married': 5})\n",
      "profiles['marital_status1']=profiles['marital_status1'].map(lambda x: int(x) if not math.isnan(x) else None)\n",
      "profiles.marital_status1.unique()"
     ],
     "language": "python",
     "metadata": {},
     "outputs": [
      {
       "metadata": {},
       "output_type": "pyout",
       "prompt_number": 24,
       "text": [
        "array([  1.,   2.,   3.,   4.,  nan,   5.])"
       ]
      }
     ],
     "prompt_number": 24
    },
    {
     "cell_type": "code",
     "collapsed": false,
     "input": [
      "profiles.marital_status2 = profiles.marital_status2.replace({'Doesn\\'t Matter': 0, 'Never Married': 1, 'Divorced': 2, 'Annulled': 3, 'Widowed': 4, 'Married': 5})\n",
      "profiles['marital_status2']=profiles['marital_status2'].map(lambda x: int(x) if not math.isnan(x) else None)\n",
      "profiles.marital_status2.unique()"
     ],
     "language": "python",
     "metadata": {},
     "outputs": [
      {
       "metadata": {},
       "output_type": "pyout",
       "prompt_number": 25,
       "text": [
        "array([  1.,   0.,   2.,   4.,  nan,   3.,   5.])"
       ]
      }
     ],
     "prompt_number": 25
    },
    {
     "cell_type": "code",
     "collapsed": false,
     "input": [
      "profiles.occupation.unique()"
     ],
     "language": "python",
     "metadata": {},
     "outputs": [
      {
       "metadata": {},
       "output_type": "pyout",
       "prompt_number": 26,
       "text": [
        "array(['IT', 'Marketing and Communications', 'Education/ Training',\n",
        "       'Finance and Accounts', 'Retail Chains', nan,\n",
        "       'Manufacturing/ Engineering/ R&D;',\n",
        "       'Purchase/ Logistics/ Supply chain', 'Real Estate',\n",
        "       'Government Employee', 'Sales/ Business Development',\n",
        "       'Admin/Secretarial', 'Business Owner / Entrepreneur', 'Health Care',\n",
        "       'Oil &amp; Gas', 'Customer Service/ Call Centre/BPO',\n",
        "       'Banking, Insurance &amp; Financial Services',\n",
        "       'Artists, Animators &amp; Web Designers', 'Electronics',\n",
        "       'Pharmaceutical/ Biotechnology',\n",
        "       'Management / Corporate Professionals',\n",
        "       'Advertising/ Entertainment/ Media', 'Construction', 'Others',\n",
        "       'Travel/ Airlines', 'Legal', 'Human Resource',\n",
        "       'Hotels/ Restaurants', 'Architecture &amp; Design', 'Merchant Navy',\n",
        "       'Advertising/ Entertainment/ Media,Agriculture,Artists, Animators &amp; Web Designers,Banking, Insurance &amp; Financial Services,Beauty, Fashion &amp; Jewellery Designers,Education/ Training,Government Employee,Health Care,Non Working,Science',\n",
        "       'Admin/Secretarial,Advertising/ Entertainment/ Media,Banking, Insurance &amp; Financial Services,Government Employee,Health Care,Human Resource,Pharmaceutical/ Biotechnology',\n",
        "       'Telecom/ ISP', 'Export/ Import',\n",
        "       'Admin/Secretarial,Banking, Insurance &amp; Financial Services,Human Resource,IT,Manufacturing/ Engineering/ R&D;,Travel/ Airlines',\n",
        "       'Defence', 'Non Working',\n",
        "       'Admin/Secretarial,Advertising/ Entertainment/ Media,Architecture &amp; Design,Artists, Animators &amp; Web Designers,Banking, Insurance &amp; Financial Services,Beauty, Fashion &amp; Jewellery Designers,Electronics,Government Employee,Health Care,Human Resource,IT,Loss Prevention Manager,Management / Corporate Professionals,Manufacturing/ Engineering/ R&D;,Pharmaceutical/ Biotechnology,Science',\n",
        "       'Admin/Secretarial,Advertising/ Entertainment/ Media,Architecture &amp; Design,Banking, Insurance &amp; Financial Services,Business Owner / Entrepreneur,Civil Services / Law Enforcement,Construction,Education/ Training,Health Care,Human Resource,Pharmaceutical/ Biotechnology',\n",
        "       'Admin/Secretarial,Advertising/ Entertainment/ Media,Banking, Insurance &amp; Financial Services,Business Owner / Entrepreneur,Civil Services / Law Enforcement,Defence,Education/ Training,Electronics,Finance and Accounts,Government Employee,Health Care,Human Resource,IT,Management / Corporate Professionals,Manufacturing/ Engineering/ R&D;,Marketing and Communications,Oil &amp; Gas,Pharmaceutical/ Biotechnology,Purchase/ Logistics/ Supply chain,Real Estate,Retail Chains,Sales/ Business Development,Science,Telecom/ ISP,Travel/ Airlines',\n",
        "       'Education/ Training,IT,Manufacturing/ Engineering/ R&D;',\n",
        "       'Business Owner / Entrepreneur,Health Care,Non Working,Pharmaceutical/ Biotechnology',\n",
        "       'Civil Services / Law Enforcement',\n",
        "       'Admin/Secretarial,Banking, Insurance &amp; Financial Services,Finance and Accounts,Human Resource,IT,Management / Corporate Professionals,Manufacturing/ Engineering/ R&D;,Science',\n",
        "       'Admin/Secretarial,Banking, Insurance &amp; Financial Services,Beauty, Fashion &amp; Jewellery Designers,Education/ Training,Finance and Accounts,Government Employee',\n",
        "       'Admin/Secretarial,Banking, Insurance &amp; Financial Services,Others',\n",
        "       'Agriculture', 'Loss Prevention Manager',\n",
        "       'Admin/Secretarial,Banking, Insurance &amp; Financial Services,Business Owner / Entrepreneur,Government Employee,IT,Travel/ Airlines',\n",
        "       'Admin/Secretarial,Artists, Animators &amp; Web Designers,Banking, Insurance &amp; Financial Services,Beauty, Fashion &amp; Jewellery Designers,Education/ Training',\n",
        "       'Science',\n",
        "       'Admin/Secretarial,Advertising/ Entertainment/ Media,Agriculture,Architecture &amp; Design,Banking, Insurance &amp; Financial Services,Construction,Education/ Training,Electronics,Export/ Import,Finance and Accounts,Government Employee,Health Care,Human Resource,IT,Legal,Loss Prevention Manager,Management / Corporate Professionals,Manufacturing/ Engineering/ R&D;,Marketing and Communications,Oil &amp; Gas,Others,Pharmaceutical/ Biotechnology,Purchase/ Logistics/ Supply chain,Real Estate,Retail Chains,Science,Telecom/ ISP,Travel/ Airlines',\n",
        "       'IT,Others,Pharmaceutical/ Biotechnology',\n",
        "       'Beauty, Fashion &amp; Jewellery Designers',\n",
        "       'Electronics,IT,Science',\n",
        "       'Business Owner / Entrepreneur,Construction,Education/ Training,Electronics,Finance and Accounts,Health Care,IT,Management / Corporate Professionals,Manufacturing/ Engineering/ R&D;,Marketing and Communications,Non Working,Purchase/ Logistics/ Supply chain',\n",
        "       'Admin/Secretarial,Civil Services / Law Enforcement,Management / Corporate Professionals,Science',\n",
        "       'Banking, Insurance &amp; Financial Services,Business Owner / Entrepreneur,Construction,Electronics,Human Resource,IT,Management / Corporate Professionals,Manufacturing/ Engineering/ R&D;,Oil &amp; Gas,Science,Telecom/ ISP',\n",
        "       'Architecture &amp; Design,Banking, Insurance &amp; Financial Services,Business Owner / Entrepreneur,Human Resource,IT,Management / Corporate Professionals,Manufacturing/ Engineering/ R&D;,Marketing and Communications',\n",
        "       'Banking, Insurance &amp; Financial Services,Education/ Training,Human Resource,Management / Corporate Professionals',\n",
        "       'Banking, Insurance &amp; Financial Services,Government Employee,Human Resource,IT',\n",
        "       'Admin/Secretarial,Architecture &amp; Design,Banking, Insurance &amp; Financial Services,Business Owner / Entrepreneur,Government Employee,Health Care,Management / Corporate Professionals,Manufacturing/ Engineering/ R&D;,Marketing and Communications,Sales/ Business Development',\n",
        "       'Advertising/ Entertainment/ Media,Architecture &amp; Design,Artists, Animators &amp; Web Designers,Banking, Insurance &amp; Financial Services,Beauty, Fashion &amp; Jewellery Designers,Finance and Accounts,Human Resource,IT,Manufacturing/ Engineering/ R&D;,Pharmaceutical/ Biotechnology',\n",
        "       'Agriculture,Architecture &amp; Design,Banking, Insurance &amp; Financial Services,Business Owner / Entrepreneur,Civil Services / Law Enforcement,Construction,Defence,Education/ Training,Electronics,Export/ Import,Finance and Accounts,Government Employee,Health Care,Human Resource,IT,Management / Corporate Professionals,Manufacturing/ Engineering/ R&D;,Marketing and Communications,Oil &amp; Gas,Others,Pharmaceutical/ Biotechnology,Purchase/ Logistics/ Supply chain,Sales/ Business Development,Science,Telecom/ ISP,Travel/ Airlines',\n",
        "       'Architecture &amp; Design,Artists, Animators &amp; Web Designers,Banking, Insurance &amp; Financial Services,Beauty, Fashion &amp; Jewellery Designers,Education/ Training,Finance and Accounts,Government Employee,Health Care,Human Resource,IT,Legal,Sales/ Business Development,Travel/ Airlines',\n",
        "       'Education/ Training,Electronics,Government Employee,Health Care,Human Resource,Manufacturing/ Engineering/ R&D;,Science',\n",
        "       'Admin/Secretarial,Advertising/ Entertainment/ Media,Architecture &amp; Design,Banking, Insurance &amp; Financial Services,Business Owner / Entrepreneur,Education/ Training,Electronics,Finance and Accounts,Government Employee,Health Care,Human Resource,IT,Pharmaceutical/ Biotechnology,Purchase/ Logistics/ Supply chain,Real Estate,Sales/ Business Development,Telecom/ ISP,Travel/ Airlines',\n",
        "       'Admin/Secretarial,Architecture &amp; Design,Banking, Insurance &amp; Financial Services,Civil Services / Law Enforcement,Education/ Training,Electronics,Finance and Accounts,Government Employee,IT,Manufacturing/ Engineering/ R&D;',\n",
        "       'Admin/Secretarial,Advertising/ Entertainment/ Media,Architecture &amp; Design,Artists, Animators &amp; Web Designers,Banking, Insurance &amp; Financial Services,Beauty, Fashion &amp; Jewellery Designers,Business Owner / Entrepreneur,Civil Services / Law Enforcement,Construction,Customer Service/ Call Centre/BPO,Defence,Education/ Training,Electronics,Export/ Import,Finance and Accounts,Government Employee,Health Care,Hotels/ Restaurants,Human Resource,IT,Legal,Loss Prevention Manager,Management / Corporate Professionals,Manufacturing/ Engineering/ R&D;,Marketing and Communications,Merchant Navy,Oil &amp; Gas,Pharmaceutical/ Biotechnology,Purchase/ Logistics/ Supply chain,Real Estate,Retail Chains,Sales/ Business Development,Science,Telecom/ ISP,Travel/ Airlines',\n",
        "       'Artists, Animators &amp; Web Designers,Banking, Insurance &amp; Financial Services,Business Owner / Entrepreneur,Human Resource,IT,Legal,Management / Corporate Professionals,Manufacturing/ Engineering/ R&D;,Marketing and Communications,Non Working,Others,Sales/ Business Development',\n",
        "       'Admin/Secretarial,Architecture &amp; Design,Electronics,Human Resource,Manufacturing/ Engineering/ R&D;,Purchase/ Logistics/ Supply chain',\n",
        "       'Admin/Secretarial,Banking, Insurance &amp; Financial Services,Education/ Training',\n",
        "       'Admin/Secretarial,Banking, Insurance &amp; Financial Services,Beauty, Fashion &amp; Jewellery Designers,Customer Service/ Call Centre/BPO,Finance and Accounts,Government Employee,Health Care,Hotels/ Restaurants,Human Resource,IT,Legal,Non Working,Retail Chains,Travel/ Airlines',\n",
        "       'Agriculture,Business Owner / Entrepreneur,Defence,Electronics,Manufacturing/ Engineering/ R&D;,Science',\n",
        "       'Banking, Insurance &amp; Financial Services,Education/ Training,Human Resource,IT,Pharmaceutical/ Biotechnology,Science',\n",
        "       'Admin/Secretarial,Banking, Insurance &amp; Financial Services,Business Owner / Entrepreneur,Civil Services / Law Enforcement,Defence,Education/ Training,Electronics,Finance and Accounts,Government Employee,Health Care,Hotels/ Restaurants,Human Resource,Legal,Management / Corporate Professionals,Manufacturing/ Engineering/ R&D;,Marketing and Communications,Pharmaceutical/ Biotechnology',\n",
        "       'Admin/Secretarial,Artists, Animators &amp; Web Designers,Beauty, Fashion &amp; Jewellery Designers,Customer Service/ Call Centre/BPO,Education/ Training,Electronics,Export/ Import,Finance and Accounts,Human Resource,Marketing and Communications,Non Working,Pharmaceutical/ Biotechnology,Purchase/ Logistics/ Supply chain,Real Estate,Retail Chains,Sales/ Business Development,Telecom/ ISP,Travel/ Airlines',\n",
        "       'Admin/Secretarial,Advertising/ Entertainment/ Media,Artists, Animators &amp; Web Designers,Banking, Insurance &amp; Financial Services,Beauty, Fashion &amp; Jewellery Designers,Customer Service/ Call Centre/BPO,Others,Pharmaceutical/ Biotechnology',\n",
        "       'Customer Service/ Call Centre/BPO,Education/ Training,Finance and Accounts',\n",
        "       'Banking, Insurance &amp; Financial Services,Civil Services / Law Enforcement,Education/ Training,Health Care,IT',\n",
        "       'Admin/Secretarial,Advertising/ Entertainment/ Media,Banking, Insurance &amp; Financial Services,Beauty, Fashion &amp; Jewellery Designers,Construction,Customer Service/ Call Centre/BPO,Education/ Training,Electronics,Export/ Import,Finance and Accounts,Government Employee,Hotels/ Restaurants,Human Resource,IT,Management / Corporate Professionals,Manufacturing/ Engineering/ R&D;,Marketing and Communications,Purchase/ Logistics/ Supply chain,Sales/ Business Development,Science,Telecom/ ISP,Travel/ Airlines',\n",
        "       'Admin/Secretarial,Customer Service/ Call Centre/BPO,Hotels/ Restaurants,Human Resource,Legal,Loss Prevention Manager,Management / Corporate Professionals,Purchase/ Logistics/ Supply chain,Sales/ Business Development,Travel/ Airlines',\n",
        "       'Admin/Secretarial,Advertising/ Entertainment/ Media,Architecture &amp; Design,Banking, Insurance &amp; Financial Services,Business Owner / Entrepreneur,Civil Services / Law Enforcement,Construction,Defence,Education/ Training,Electronics,Finance and Accounts,Government Employee,Health Care,Hotels/ Restaurants,Human Resource,IT,Legal,Loss Prevention Manager,Management / Corporate Professionals,Manufacturing/ Engineering/ R&D;,Marketing and Communications,Merchant Navy,Oil &amp; Gas,Pharmaceutical/ Biotechnology,Purchase/ Logistics/ Supply chain,Sales/ Business Development,Science,Telecom/ ISP',\n",
        "       'Banking, Insurance &amp; Financial Services,IT',\n",
        "       'Admin/Secretarial,Advertising/ Entertainment/ Media,Architecture &amp; Design,Artists, Animators &amp; Web Designers,Banking, Insurance &amp; Financial Services,Business Owner / Entrepreneur,Civil Services / Law Enforcement,Construction,Defence,Education/ Training,Electronics,Finance and Accounts,Government Employee,Health Care,Human Resource,IT,Management / Corporate Professionals,Manufacturing/ Engineering/ R&D;,Merchant Navy,Oil &amp; Gas,Others,Purchase/ Logistics/ Supply chain,Real Estate,Science,Telecom/ ISP',\n",
        "       'Architecture &amp; Design,Banking, Insurance &amp; Financial Services,Civil Services / Law Enforcement,Defence,Education/ Training,Electronics,Finance and Accounts,Government Employee,Human Resource,Management / Corporate Professionals,Manufacturing/ Engineering/ R&D;,Non Working,Others,Pharmaceutical/ Biotechnology,Science,Telecom/ ISP',\n",
        "       'Education/ Training,Health Care,Human Resource,Manufacturing/ Engineering/ R&D;,Pharmaceutical/ Biotechnology,Science',\n",
        "       'Admin/Secretarial,Architecture &amp; Design,Banking, Insurance &amp; Financial Services,Beauty, Fashion &amp; Jewellery Designers,Education/ Training,Electronics,Finance and Accounts,Government Employee,Health Care,Human Resource,Management / Corporate Professionals,Manufacturing/ Engineering/ R&D;',\n",
        "       'Admin/Secretarial,Architecture &amp; Design,Artists, Animators &amp; Web Designers,Banking, Insurance &amp; Financial Services,Business Owner / Entrepreneur,Education/ Training,Electronics,Finance and Accounts,Government Employee,Human Resource,IT,Legal,Management / Corporate Professionals,Manufacturing/ Engineering/ R&D;,Marketing and Communications,Non Working,Sales/ Business Development,Science,Telecom/ ISP',\n",
        "       'Banking, Insurance &amp; Financial Services,Finance and Accounts,Human Resource,IT',\n",
        "       'Electronics,IT',\n",
        "       'Admin/Secretarial,Banking, Insurance &amp; Financial Services,Customer Service/ Call Centre/BPO,Government Employee,Hotels/ Restaurants,Retail Chains',\n",
        "       'Advertising/ Entertainment/ Media,Banking, Insurance &amp; Financial Services,Electronics,Finance and Accounts,Government Employee,Human Resource,IT,Management / Corporate Professionals,Marketing and Communications,Telecom/ ISP',\n",
        "       'Admin/Secretarial,Education/ Training,Electronics,Government Employee,Legal,Loss Prevention Manager',\n",
        "       'Admin/Secretarial,Advertising/ Entertainment/ Media,Architecture &amp; Design,Artists, Animators &amp; Web Designers,Banking, Insurance &amp; Financial Services,Beauty, Fashion &amp; Jewellery Designers,Business Owner / Entrepreneur,Civil Services / Law Enforcement,Defence,Education/ Training,Electronics,Finance and Accounts,Legal,Management / Corporate Professionals,Manufacturing/ Engineering/ R&D;,Marketing and Communications,Sales/ Business Development,Science,Telecom/ ISP',\n",
        "       'Artists, Animators &amp; Web Designers,Banking, Insurance &amp; Financial Services,Civil Services / Law Enforcement',\n",
        "       'Admin/Secretarial,Banking, Insurance &amp; Financial Services,Civil Services / Law Enforcement,Finance and Accounts,Government Employee,Legal,Merchant Navy',\n",
        "       'Education/ Training,Government Employee',\n",
        "       'Finance and Accounts,IT,Management / Corporate Professionals,Manufacturing/ Engineering/ R&D;,Telecom/ ISP',\n",
        "       'Admin/Secretarial,Advertising/ Entertainment/ Media,Architecture &amp; Design,Artists, Animators &amp; Web Designers,Banking, Insurance &amp; Financial Services,Civil Services / Law Enforcement,Construction,Education/ Training,Electronics,Export/ Import,Finance and Accounts,Government Employee,Health Care,Hotels/ Restaurants,Human Resource,Legal,Loss Prevention Manager,Management / Corporate Professionals,Manufacturing/ Engineering/ R&D;,Marketing and Communications,Pharmaceutical/ Biotechnology,Purchase/ Logistics/ Supply chain,Real Estate,Retail Chains,Sales/ Business Development,Science,Telecom/ ISP,Travel/ Airlines',\n",
        "       'Admin/Secretarial,Banking, Insurance &amp; Financial Services',\n",
        "       'Architecture &amp; Design,Education/ Training,Electronics,Health Care,Manufacturing/ Engineering/ R&D;,Pharmaceutical/ Biotechnology,Science',\n",
        "       'Admin/Secretarial,Artists, Animators &amp; Web Designers,Civil Services / Law Enforcement',\n",
        "       'Banking, Insurance &amp; Financial Services,Civil Services / Law Enforcement,Education/ Training,Finance and Accounts,Government Employee,Human Resource,Legal,Non Working,Purchase/ Logistics/ Supply chain,Science',\n",
        "       'Admin/Secretarial,Agriculture,Architecture &amp; Design,Artists, Animators &amp; Web Designers,Banking, Insurance &amp; Financial Services,Beauty, Fashion &amp; Jewellery Designers,Civil Services / Law Enforcement,Construction,Education/ Training,Electronics,Export/ Import,Finance and Accounts,Government Employee,Health Care,Hotels/ Restaurants,Human Resource,IT,Legal,Manufacturing/ Engineering/ R&D;,Marketing and Communications,Oil &amp; Gas,Others,Pharmaceutical/ Biotechnology,Purchase/ Logistics/ Supply chain,Real Estate,Science,Telecom/ ISP,Travel/ Airlines',\n",
        "       'Finance and Accounts,Pharmaceutical/ Biotechnology',\n",
        "       'Banking, Insurance &amp; Financial Services,Education/ Training,Electronics,Finance and Accounts,Government Employee,Human Resource,IT',\n",
        "       'Health Care,Human Resource,Management / Corporate Professionals,Marketing and Communications,Pharmaceutical/ Biotechnology,Science',\n",
        "       'Banking, Insurance &amp; Financial Services,Customer Service/ Call Centre/BPO',\n",
        "       'Beauty, Fashion &amp; Jewellery Designers,Health Care,Sales/ Business Development',\n",
        "       'Banking, Insurance &amp; Financial Services,Government Employee',\n",
        "       'Admin/Secretarial,Business Owner / Entrepreneur,Customer Service/ Call Centre/BPO,Health Care,Hotels/ Restaurants,Human Resource,Management / Corporate Professionals',\n",
        "       'Admin/Secretarial,Finance and Accounts,Government Employee',\n",
        "       'Admin/Secretarial,Agriculture,Architecture &amp; Design,Artists, Animators &amp; Web Designers,Banking, Insurance &amp; Financial Services,Business Owner / Entrepreneur,Civil Services / Law Enforcement,Construction,Defence,Education/ Training,Electronics,Export/ Import,Finance and Accounts,Government Employee,Health Care,Human Resource,IT,Management / Corporate Professionals,Manufacturing/ Engineering/ R&D;,Merchant Navy,Oil &amp; Gas,Others,Pharmaceutical/ Biotechnology,Purchase/ Logistics/ Supply chain,Science,Telecom/ ISP',\n",
        "       'Admin/Secretarial,Advertising/ Entertainment/ Media,Architecture &amp; Design,Artists, Animators &amp; Web Designers,Banking, Insurance &amp; Financial Services,Beauty, Fashion &amp; Jewellery Designers,Business Owner / Entrepreneur,Civil Services / Law Enforcement,Construction,Customer Service/ Call Centre/BPO,Education/ Training,Electronics,Export/ Import,Finance and Accounts,Government Employee,Health Care,Hotels/ Restaurants,Human Resource,IT,Management / Corporate Professionals,Manufacturing/ Engineering/ R&D;,Marketing and Communications,Merchant Navy,Non Working,Others,Pharmaceutical/ Biotechnology,Purchase/ Logistics/ Supply chain,Real Estate,Retail Chains,Sales/ Business Development,Science,Telecom/ ISP,Travel/ Airlines',\n",
        "       'Education/ Training,Government Employee,IT,Pharmaceutical/ Biotechnology',\n",
        "       'Advertising/ Entertainment/ Media,Banking, Insurance &amp; Financial Services,Business Owner / Entrepreneur,Civil Services / Law Enforcement,Education/ Training,Electronics,Export/ Import,Finance and Accounts,Government Employee,Human Resource,IT,Legal,Management / Corporate Professionals,Manufacturing/ Engineering/ R&D;,Marketing and Communications,Oil &amp; Gas,Pharmaceutical/ Biotechnology,Science,Telecom/ ISP',\n",
        "       'Admin/Secretarial,Banking, Insurance &amp; Financial Services,Finance and Accounts',\n",
        "       'Admin/Secretarial,Banking, Insurance &amp; Financial Services,Government Employee,Health Care,IT,Non Working,Telecom/ ISP',\n",
        "       'Advertising/ Entertainment/ Media,Banking, Insurance &amp; Financial Services,Business Owner / Entrepreneur,Civil Services / Law Enforcement,Customer Service/ Call Centre/BPO,Government Employee,Human Resource,Legal,Marketing and Communications'], dtype=object)"
       ]
      }
     ],
     "prompt_number": 26
    },
    {
     "cell_type": "code",
     "collapsed": false,
     "input": [
      "profiles.religion1 = profiles.religion1.replace({'Hindu': 0, 'Muslim': 1, 'Christian': 2, 'Sikh': 3, 'Buddhist': 4, 'Jain': 5, 'Spiritual': 6, 'Jewish': 7, 'Others': 8})\n",
      "profiles['religion1']=profiles['religion1'].map(lambda x: int(x) if not math.isnan(x) else None)\n",
      "profiles.religion1.unique()"
     ],
     "language": "python",
     "metadata": {},
     "outputs": [
      {
       "metadata": {},
       "output_type": "pyout",
       "prompt_number": 27,
       "text": [
        "array([  0.,   4.,   2.,   3.,   5.,  nan,   1.,   8.,   7.,   6.])"
       ]
      }
     ],
     "prompt_number": 27
    },
    {
     "cell_type": "code",
     "collapsed": false,
     "input": [
      "profiles.religion2 = profiles.religion2.replace({'Hindu': 0, 'Muslim': 1, 'Christian': 2, 'Sikh': 3, 'Buddhist': 4, 'Jain': 5, 'Spiritual': 6, 'Jewish': 7, 'Others': 8})\n",
      "profiles['religion2']=profiles['religion2'].map(lambda x: int(x) if not math.isnan(x) else None)\n",
      "profiles.religion2.unique()"
     ],
     "language": "python",
     "metadata": {},
     "outputs": [
      {
       "metadata": {},
       "output_type": "pyout",
       "prompt_number": 28,
       "text": [
        "array([  0.,   4.,  nan,   2.,   5.,   1.,   8.,   6.])"
       ]
      }
     ],
     "prompt_number": 28
    },
    {
     "cell_type": "code",
     "collapsed": false,
     "input": [
      "profiles.smoking1 = profiles.smoking1.replace({'Doesn\\'t Matter': 0, 'No': 1, 'Moderate': 2, 'Yes': 3})\n",
      "profiles['smoking1']=profiles['smoking1'].map(lambda x: int(x) if not math.isnan(x) else None)\n",
      "profiles.smoking1.unique()"
     ],
     "language": "python",
     "metadata": {},
     "outputs": [
      {
       "metadata": {},
       "output_type": "pyout",
       "prompt_number": 29,
       "text": [
        "array([  1.,  nan,   2.,   3.,   0.])"
       ]
      }
     ],
     "prompt_number": 29
    },
    {
     "cell_type": "code",
     "collapsed": false,
     "input": [
      "profiles.smoking2 = profiles.smoking2.replace({'Doesn\\'t Matter': 0, 'No': 1, 'Moderate': 2, 'Yes': 3})\n",
      "profiles['smoking2']=profiles['smoking2'].map(lambda x: int(x) if not math.isnan(x) else None)\n",
      "profiles.smoking2.unique()"
     ],
     "language": "python",
     "metadata": {},
     "outputs": [
      {
       "metadata": {},
       "output_type": "pyout",
       "prompt_number": 30,
       "text": [
        "array([ nan,   1.,   0.,   3.,   2.])"
       ]
      }
     ],
     "prompt_number": 30
    },
    {
     "cell_type": "code",
     "collapsed": false,
     "input": [
      "profiles.status1 = profiles.status1.replace({'Doesn\\'t Matter': 0, 'Middle Class': 1, 'Upper Middle Class': 2, 'High Class': 3, 'Rich / Affluent':4})\n",
      "profiles['status1']=profiles['status1'].map(lambda x: int(x) if not math.isnan(x) else None)\n",
      "profiles.status1.unique()"
     ],
     "language": "python",
     "metadata": {},
     "outputs": [
      {
       "metadata": {},
       "output_type": "pyout",
       "prompt_number": 31,
       "text": [
        "array([ nan,   2.,   1.,   4.,   0.,   3.])"
       ]
      }
     ],
     "prompt_number": 31
    },
    {
     "cell_type": "code",
     "collapsed": false,
     "input": [
      "profiles.status2 = profiles.status2.replace({'Doesn\\'t Matter': 0, 'Middle Class': 1, 'Upper Middle Class': 2, 'High Class': 3, 'Rich / Affluent':4})\n",
      "profiles['status2']=profiles['status2'].map(lambda x: int(x) if not math.isnan(x) else None)\n",
      "profiles.status2.unique()"
     ],
     "language": "python",
     "metadata": {},
     "outputs": [
      {
       "metadata": {},
       "output_type": "pyout",
       "prompt_number": 32,
       "text": [
        "array([ nan,   1.,   0.,   2.,   4.,   3.])"
       ]
      }
     ],
     "prompt_number": 32
    },
    {
     "cell_type": "code",
     "collapsed": false,
     "input": [
      "profiles.values1 = profiles.values1.replace({'Orthodox': 1, 'Orthrodox': 1, 'Traditional': 2, 'Moderate': 3, 'Liberal': 4, 'Modern': 5, 'International':6, 'Others': 7})\n",
      "profiles['values1']=profiles['values1'].map(lambda x: int(x) if not math.isnan(x) else None)\n",
      "profiles.values1.unique()"
     ],
     "language": "python",
     "metadata": {},
     "outputs": [
      {
       "metadata": {},
       "output_type": "pyout",
       "prompt_number": 33,
       "text": [
        "array([ nan,   4.,   2.,   3.,   5.,   1.,   7.,   6.])"
       ]
      }
     ],
     "prompt_number": 33
    },
    {
     "cell_type": "code",
     "collapsed": false,
     "input": [
      "profiles.living = profiles.living.replace({'No': 0, 'Yes': 1})\n",
      "profiles['living']=profiles['living'].map(lambda x: int(x) if not math.isnan(x) else None)\n",
      "profiles.living.unique()"
     ],
     "language": "python",
     "metadata": {},
     "outputs": [
      {
       "metadata": {},
       "output_type": "pyout",
       "prompt_number": 34,
       "text": [
        "array([ nan,   0.,   1.])"
       ]
      }
     ],
     "prompt_number": 34
    },
    {
     "cell_type": "code",
     "collapsed": false,
     "input": [
      "profiles.manglik1 = profiles.manglik1.replace({'No': 0, 'Yes': 1, 'Do Not Know': 2, 'Doesn\\'t Matter': 3, 'Anshik': 4})\n",
      "profiles['manglik1']=profiles['manglik1'].map(lambda x: int(x) if not math.isnan(x) else None)\n",
      "profiles.manglik1.unique()"
     ],
     "language": "python",
     "metadata": {},
     "outputs": [
      {
       "metadata": {},
       "output_type": "pyout",
       "prompt_number": 35,
       "text": [
        "array([  0.,   2.,  nan,   1.,   4.,   3.])"
       ]
      }
     ],
     "prompt_number": 35
    },
    {
     "cell_type": "code",
     "collapsed": false,
     "input": [
      "profiles.manglik2 = profiles.manglik2.replace({'No': 0, 'Yes': 1, 'Do Not Know': 2, 'Doesn\\'t Matter': 3, 'Anshik': 4})\n",
      "profiles['manglik2']=profiles['manglik2'].map(lambda x: int(x) if not math.isnan(x) else None)\n",
      "profiles.manglik2.unique()"
     ],
     "language": "python",
     "metadata": {},
     "outputs": [
      {
       "metadata": {},
       "output_type": "pyout",
       "prompt_number": 36,
       "text": [
        "array([  0.,   3.,  nan,   1.,   4.,   2.])"
       ]
      }
     ],
     "prompt_number": 36
    },
    {
     "cell_type": "code",
     "collapsed": false,
     "input": [
      "#profiles.manglik2 = profiles.manglik2.replace({'No': 0, 'Yes': 1, 'Do Not Know': 2, 'Doesn\\'t Matter': 3, 'Anshik': 4})\n",
      "#profiles['manglik2']=profiles['manglik2'].map(lambda x: int(x) if not math.isnan(x) else None)\n",
      "profiles.special1.unique()"
     ],
     "language": "python",
     "metadata": {},
     "outputs": [
      {
       "metadata": {},
       "output_type": "pyout",
       "prompt_number": 37,
       "text": [
        "array(['None', nan, \"Doesn't Matter\",\n",
        "       'Accidental / Physical abnormality affecting only looks',\n",
        "       'Physically challenged from birth', 'Hiv positive',\n",
        "       'Physical abnormality affecting bodily functions due to accident',\n",
        "       'Physically challenged due to accident',\n",
        "       'Medically challenged condition of one or more vital organs',\n",
        "       'Mentally challenged from birth'], dtype=object)"
       ]
      }
     ],
     "prompt_number": 37
    },
    {
     "cell_type": "code",
     "collapsed": false,
     "input": [
      "#profiles.manglik2 = profiles.manglik2.replace({'No': 0, 'Yes': 1, 'Do Not Know': 2, 'Doesn\\'t Matter': 3, 'Anshik': 4})\n",
      "#profiles['manglik2']=profiles['manglik2'].map(lambda x: int(x) if not math.isnan(x) else None)\n",
      "profiles.special2.unique()"
     ],
     "language": "python",
     "metadata": {},
     "outputs": [
      {
       "metadata": {},
       "output_type": "pyout",
       "prompt_number": 38,
       "text": [
        "array([nan, 'None', \"Doesn't Matter\", 'Physically challenged from birth',\n",
        "       'Hiv positive', 'Physically challenged due to accident',\n",
        "       'Mentally challenged from birth',\n",
        "       'Accidental / Physical abnormality affecting only looks'], dtype=object)"
       ]
      }
     ],
     "prompt_number": 38
    },
    {
     "cell_type": "code",
     "collapsed": false,
     "input": [
      "def convert(height):\n",
      "    height = str(height)\n",
      "    if len(height) > 8:\n",
      "        feet = height[0]\n",
      "        inches = height[4]\n",
      "        return (int(feet) * 12) + int(inches)\n",
      "    elif len(height) >= 7:\n",
      "        feet = height[0]\n",
      "        inches = height[4:-2]\n",
      "        return (int(feet) * 12) + int(inches)\n",
      "    else:\n",
      "        if height[0] == 'n':\n",
      "            return None\n",
      "        else:\n",
      "            feet = height[0]\n",
      "            return int(feet) * 12       \n",
      "\n",
      "profiles['height1']=profiles['height1'].map(lambda x: convert(x))\n",
      "profiles.height1.unique()"
     ],
     "language": "python",
     "metadata": {},
     "outputs": [
      {
       "metadata": {},
       "output_type": "pyout",
       "prompt_number": 39,
       "text": [
        "array([ 67.,  66.,  69.,  68.,  65.,  70.,  63.,  64.,  72.,  71.,  73.,\n",
        "        62.,  61.,  74.,  60.,  nan,  77.,  75.,  59.,  58.,  78.,  76.,\n",
        "        49.])"
       ]
      }
     ],
     "prompt_number": 39
    },
    {
     "cell_type": "code",
     "collapsed": false,
     "input": [
      "def convert_weight(weight):\n",
      "    weight = str(weight)\n",
      "    if len(weight) == 6 and 'Kgs' in weight:\n",
      "        ret = int(weight[0:2])\n",
      "    elif len(weight) == 7 and 'Kgs' in weight:\n",
      "        ret = int(weight[0:3])\n",
      "    elif 'Pounds' in weight:\n",
      "        ret = int(float(weight[:-7]) / 2.2)\n",
      "    elif len(weight) == 14 and ' to ' in weight and ' [Kgs]' in weight:\n",
      "        ret = int((float(weight[0:2]) + float(weight[6:8])) / 2)\n",
      "    elif weight == '0 Kgs':\n",
      "        ret = np.nan\n",
      "    elif weight == '0 to 0 [Kgs]':\n",
      "        ret = np.nan\n",
      "    elif 'than' in weight:\n",
      "        ret = int(weight[10:12])\n",
      "    elif weight == \"100 to 90 [Kgs]\":\n",
      "        ret = 95\n",
      "    elif len(weight) == 15 and ' to ' in weight and ' [Kgs]' in weight:\n",
      "        ret = int((float(weight[0:2]) + float(weight[6:9])) / 2)\n",
      "    else:\n",
      "        ret = np.nan\n",
      "        \n",
      "    if ret < 40:\n",
      "        ret = np.nan\n",
      "        \n",
      "    return ret\n",
      "\n",
      "profiles['weight1']=profiles['weight1'].map(lambda x: convert_weight(x))\n",
      "sorted(profiles.weight1.unique())"
     ],
     "language": "python",
     "metadata": {},
     "outputs": [
      {
       "metadata": {},
       "output_type": "pyout",
       "prompt_number": 3,
       "text": [
        "[nan,\n",
        " '0 to 0 [Kgs]',\n",
        " '100 Kgs',\n",
        " '104 Kgs',\n",
        " '105 Kgs',\n",
        " '111 Pounds',\n",
        " '112 Kgs',\n",
        " '120 Pounds',\n",
        " '156 Pounds',\n",
        " '24 Kgs',\n",
        " '41 to 41 [Kgs]',\n",
        " '41 to 48 [Kgs]',\n",
        " '41 to 49 [Kgs]',\n",
        " '41 to 50 [Kgs]',\n",
        " '41 to 52 [Kgs]',\n",
        " '41 to 53 [Kgs]',\n",
        " '41 to 54 [Kgs]',\n",
        " '41 to 55 [Kgs]',\n",
        " '41 to 56 [Kgs]',\n",
        " '41 to 58 [Kgs]',\n",
        " '41 to 59 [Kgs]',\n",
        " '41 to 60 [Kgs]',\n",
        " '41 to 61 [Kgs]',\n",
        " '41 to 63 [Kgs]',\n",
        " '41 to 64 [Kgs]',\n",
        " '41 to 65 [Kgs]',\n",
        " '41 to 68 [Kgs]',\n",
        " '41 to 70 [Kgs]',\n",
        " '41 to 71 [Kgs]',\n",
        " '41 to 75 [Kgs]',\n",
        " '41 to 80 [Kgs]',\n",
        " '41 to 90 [Kgs]',\n",
        " '42 Kgs',\n",
        " '42 to 55 [Kgs]',\n",
        " '42 to 64 [Kgs]',\n",
        " '43 to 55 [Kgs]',\n",
        " '44 to 60 [Kgs]',\n",
        " '45 Kgs',\n",
        " '45 to 50 [Kgs]',\n",
        " '45 to 51 [Kgs]',\n",
        " '45 to 54 [Kgs]',\n",
        " '45 to 55 [Kgs]',\n",
        " '45 to 58 [Kgs]',\n",
        " '45 to 60 [Kgs]',\n",
        " '45 to 65 [Kgs]',\n",
        " '45 to 66 [Kgs]',\n",
        " '45 to 68 [Kgs]',\n",
        " '45 to 70 [Kgs]',\n",
        " '45 to 75 [Kgs]',\n",
        " '456 Kgs',\n",
        " '46 Kgs',\n",
        " '46 to 48 [Kgs]',\n",
        " '46 to 54 [Kgs]',\n",
        " '46 to 60 [Kgs]',\n",
        " '47 to 53 [Kgs]',\n",
        " '47 to 56 [Kgs]',\n",
        " '47 to 63 [Kgs]',\n",
        " '48 Kgs',\n",
        " '48 to 52 [Kgs]',\n",
        " '48 to 53 [Kgs]',\n",
        " '48 to 58 [Kgs]',\n",
        " '48 to 62 [Kgs]',\n",
        " '49 Kgs',\n",
        " '49 to 60 [Kgs]',\n",
        " '50 Kgs',\n",
        " '50 to 49 [Kgs]',\n",
        " '50 to 54 [Kgs]',\n",
        " '50 to 55 [Kgs]',\n",
        " '50 to 57 [Kgs]',\n",
        " '50 to 60 [Kgs]',\n",
        " '50 to 62 [Kgs]',\n",
        " '50 to 65 [Kgs]',\n",
        " '50 to 66 [Kgs]',\n",
        " '50 to 68 [Kgs]',\n",
        " '50 to 75 [Kgs]',\n",
        " '50 to 80 [Kgs]',\n",
        " '51 Kgs',\n",
        " '51 to 52 [Kgs]',\n",
        " '51 to 55 [Kgs]',\n",
        " '51 to 60 [Kgs]',\n",
        " '52 Kgs',\n",
        " '52 to 55 [Kgs]',\n",
        " '52 to 60 [Kgs]',\n",
        " '52 to 65 [Kgs]',\n",
        " '52 to 77 [Kgs]',\n",
        " '53 Kgs',\n",
        " '53 to 61 [Kgs]',\n",
        " '54 Kgs',\n",
        " '54 to 60 [Kgs]',\n",
        " '55 Kgs',\n",
        " '55 to 60 [Kgs]',\n",
        " '56 Kgs',\n",
        " '56 to 48 [Kgs]',\n",
        " '57 Kgs',\n",
        " '57 to 75 [Kgs]',\n",
        " '58 Kgs',\n",
        " '58 Pounds',\n",
        " '59 Kgs',\n",
        " '60 Kgs',\n",
        " '60 to 62 [Kgs]',\n",
        " '60 to 70 [Kgs]',\n",
        " '61 Kgs',\n",
        " '62 Kgs',\n",
        " '63 Kgs',\n",
        " '64 Kgs',\n",
        " '65 Kgs',\n",
        " '65 Pounds',\n",
        " '65 to 70 [Kgs]',\n",
        " '66 Kgs',\n",
        " '67 Kgs',\n",
        " '68 Kgs',\n",
        " '69 Kgs',\n",
        " '70 Kgs',\n",
        " '70 to 100 [Kgs]',\n",
        " '71 Kgs',\n",
        " '72 Kgs',\n",
        " '73 Kgs',\n",
        " '74 Kgs',\n",
        " '75 Kgs',\n",
        " '76 Kgs',\n",
        " '77 Kgs',\n",
        " '78 Kgs',\n",
        " '79 Kgs',\n",
        " '80 Kgs',\n",
        " '81 Kgs',\n",
        " '82 Kgs',\n",
        " '83 Kgs',\n",
        " '84 Kgs',\n",
        " '85 Kgs',\n",
        " '86 Kgs',\n",
        " '87 Kgs',\n",
        " '88 Kgs',\n",
        " '89 Kgs',\n",
        " '90 Kgs',\n",
        " '90 Pounds',\n",
        " '91 Kgs',\n",
        " '94 Pounds',\n",
        " '95 Kgs',\n",
        " '96 Pounds',\n",
        " 'less than 43 Kgs',\n",
        " 'less than 58 Kgs',\n",
        " 'more than 48 Kgs',\n",
        " 'more than 56 Kgs']"
       ]
      }
     ],
     "prompt_number": 3
    },
    {
     "cell_type": "code",
     "collapsed": false,
     "input": [
      "profiles['weight2']=profiles['weight2'].map(lambda x: convert_weight(x))\n",
      "sorted(profiles.weight2.unique())"
     ],
     "language": "python",
     "metadata": {},
     "outputs": [
      {
       "metadata": {},
       "output_type": "pyout",
       "prompt_number": 124,
       "text": [
        "[nan,\n",
        " 41.0,\n",
        " 42.0,\n",
        " 43.0,\n",
        " 44.0,\n",
        " 45.0,\n",
        " 46.0,\n",
        " 47.0,\n",
        " 48.0,\n",
        " 49.0,\n",
        " 50.0,\n",
        " 51.0,\n",
        " 52.0,\n",
        " 53.0,\n",
        " 54.0,\n",
        " 55.0,\n",
        " 56.0,\n",
        " 57.0,\n",
        " 58.0,\n",
        " 59.0,\n",
        " 60.0,\n",
        " 61.0,\n",
        " 62.0,\n",
        " 63.0,\n",
        " 64.0,\n",
        " 65.0,\n",
        " 66.0,\n",
        " 67.0,\n",
        " 68.0,\n",
        " 69.0,\n",
        " 70.0,\n",
        " 72.0,\n",
        " 75.0,\n",
        " 77.0,\n",
        " 90.0,\n",
        " 92.0]"
       ]
      }
     ],
     "prompt_number": 124
    },
    {
     "cell_type": "code",
     "collapsed": false,
     "input": [
      "del profiles['age2']\n",
      "profiles['gender']=profiles['url'].map(lambda x: 0 if 'bride' in x else 1)\n",
      "profiles.to_csv('data_cleaned/grooms_marathi_cleaned.csv', encoding='utf-8', index=False)"
     ],
     "language": "python",
     "metadata": {},
     "outputs": [],
     "prompt_number": 125
    }
   ],
   "metadata": {}
  }
 ]
}
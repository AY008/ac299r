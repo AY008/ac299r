{
 "metadata": {
  "name": ""
 },
 "nbformat": 3,
 "nbformat_minor": 0,
 "worksheets": [
  {
   "cells": [
    {
     "cell_type": "heading",
     "level": 1,
     "metadata": {},
     "source": [
      "Data Cleaner"
     ]
    },
    {
     "cell_type": "code",
     "collapsed": false,
     "input": [
      "# special IPython command to prepare the notebook for matplotlib\n",
      "%matplotlib inline \n",
      "\n",
      "from fnmatch import fnmatch\n",
      "\n",
      "import numpy as np\n",
      "import pandas as pd\n",
      "import matplotlib.pyplot as plt\n",
      "import requests\n",
      "from pattern import web\n",
      "import math\n",
      "\n",
      "\n",
      "# set some nicer defaults for matplotlib\n",
      "from matplotlib import rcParams\n",
      "\n",
      "#these colors come from colorbrewer2.org. Each is an RGB triplet\n",
      "dark2_colors = [(0.10588235294117647, 0.6196078431372549, 0.4666666666666667),\n",
      "                (0.8509803921568627, 0.37254901960784315, 0.00784313725490196),\n",
      "                (0.4588235294117647, 0.4392156862745098, 0.7019607843137254),\n",
      "                (0.9058823529411765, 0.1607843137254902, 0.5411764705882353),\n",
      "                (0.4, 0.6509803921568628, 0.11764705882352941),\n",
      "                (0.9019607843137255, 0.6705882352941176, 0.00784313725490196),\n",
      "                (0.6509803921568628, 0.4627450980392157, 0.11372549019607843),\n",
      "                (0.4, 0.4, 0.4)]\n",
      "\n",
      "rcParams['figure.figsize'] = (10, 6)\n",
      "rcParams['figure.dpi'] = 150\n",
      "rcParams['axes.color_cycle'] = dark2_colors\n",
      "rcParams['lines.linewidth'] = 2\n",
      "rcParams['axes.grid'] = True\n",
      "rcParams['axes.facecolor'] = '#eeeeee'\n",
      "rcParams['font.size'] = 14\n",
      "rcParams['patch.edgecolor'] = 'none'"
     ],
     "language": "python",
     "metadata": {},
     "outputs": [],
     "prompt_number": 400
    },
    {
     "cell_type": "code",
     "collapsed": false,
     "input": [
      "profiles = pd.read_csv('data_raw/brides_marathi_full.csv')\n",
      "profiles2 = pd.read_csv('data_raw/grooms_marathi_full.csv')\n",
      "profiles = profiles.append(profiles2)"
     ],
     "language": "python",
     "metadata": {},
     "outputs": [],
     "prompt_number": 401
    },
    {
     "cell_type": "code",
     "collapsed": false,
     "input": [
      "def getage(num):\n",
      "    num = str(num)\n",
      "    if num == 'nan':\n",
      "        return np.nan\n",
      "    else:\n",
      "        return int(str(num)[0:2])\n",
      "\n",
      "\n",
      "profiles['age2_0']=profiles['age2'].map(lambda x: getage(x))\n",
      "#profiles['age2_0']=profiles['age2_0'].map(lambda x: int(x) if x != 'na' else None)\n",
      "\n",
      "profiles['age2_1']=profiles['age2'].map(lambda x: str(x)[6:8] if x else \"\")\n",
      "#profiles['age2_1']=profiles['age2_1'].map(lambda x: int(x) if x != 'na' else None)\n",
      "\n",
      "profiles['age2_0'].unique()"
     ],
     "language": "python",
     "metadata": {},
     "outputs": [
      {
       "metadata": {},
       "output_type": "pyout",
       "prompt_number": 402,
       "text": [
        "array([ 27.,  26.,  28.,  25.,  nan,  31.,  30.,  23.,  24.,  33.,  29.,\n",
        "        47.,  37.,  41.,  34.,  36.,  32.,  21.,  40.,  39.,  22.,  43.,\n",
        "        35.,  58.,  38.,  64.,  48.,  54.,  44.,  18.,  20.,  42.,  45.,\n",
        "        55.,  49.,  46.,  59.,  62.,  51.,  50.,  52.,  19.,  53.,  63.,\n",
        "        61.,  68.,  67.,  70.,  56.,  60.,   1.])"
       ]
      }
     ],
     "prompt_number": 402
    },
    {
     "cell_type": "raw",
     "metadata": {},
     "source": [
      "1 = Slim\n",
      "2 = Average\n",
      "3 = Heavy\n",
      "4 = Athletic\n",
      "0 = Doesn't Matter"
     ]
    },
    {
     "cell_type": "code",
     "collapsed": false,
     "input": [
      "profiles.body1 = profiles.body1.replace({'Slim': 1, 'Average': 2, 'Heavy': 3, 'Athletic': 4, 'Doesn\\'t Matter':0})\n",
      "profiles['body1']=profiles['body1'].map(lambda x: int(x) if not math.isnan(x) else None)\n",
      "profiles.body1.unique()"
     ],
     "language": "python",
     "metadata": {},
     "outputs": [
      {
       "metadata": {},
       "output_type": "pyout",
       "prompt_number": 403,
       "text": [
        "array([  2.,  nan,   1.,   3.,   4.,   0.])"
       ]
      }
     ],
     "prompt_number": 403
    },
    {
     "cell_type": "code",
     "collapsed": false,
     "input": [
      "profiles.body2 = profiles.body2.replace({'Slim': 1, 'Average': 2, 'Heavy': 3, 'Athletic': 4, 'Doesn\\'t Matter':0})\n",
      "profiles['body2']=profiles['body2'].map(lambda x: int(x) if not math.isnan(x) else None)\n",
      "profiles.body2.unique()"
     ],
     "language": "python",
     "metadata": {},
     "outputs": [
      {
       "metadata": {},
       "output_type": "pyout",
       "prompt_number": 404,
       "text": [
        "array([ nan,   0.,   2.,   4.,   1.,   3.])"
       ]
      }
     ],
     "prompt_number": 404
    },
    {
     "cell_type": "code",
     "collapsed": false,
     "input": [
      "profiles['brothers']=profiles['brothers'].map(lambda x: str(x)[0] if x else 'n')\n",
      "profiles['brothers']=profiles['brothers'].map(lambda x: int(x) if x!='n' else None)\n",
      "profiles.brothers.unique()"
     ],
     "language": "python",
     "metadata": {},
     "outputs": [
      {
       "metadata": {},
       "output_type": "pyout",
       "prompt_number": 405,
       "text": [
        "array([  2.,   1.,  nan,   0.,   3.,   4.,   5.,   7.])"
       ]
      }
     ],
     "prompt_number": 405
    },
    {
     "cell_type": "code",
     "collapsed": false,
     "input": [
      "profiles['sisters']=profiles['sisters'].map(lambda x: str(x)[0] if x else 'n')\n",
      "profiles['sisters']=profiles['sisters'].map(lambda x: int(x) if x!='n' else None)\n",
      "profiles.sisters.unique()"
     ],
     "language": "python",
     "metadata": {},
     "outputs": [
      {
       "metadata": {},
       "output_type": "pyout",
       "prompt_number": 406,
       "text": [
        "array([  0.,  nan,   1.,   2.,   3.,   5.,   4.,   6.,   7.])"
       ]
      }
     ],
     "prompt_number": 406
    },
    {
     "cell_type": "code",
     "collapsed": false,
     "input": [
      "profiles.complexion1 = profiles.complexion1.replace({'Doesn\\'t Matter':0, 'Very Fair ': 1, 'Very Fair': 1, 'Fair ': 2, 'Fair': 2, 'Whetish Medium ': 4, 'Whetish Medium': 4, 'Wheatish': 3, 'Wheatish ':3, 'Dark ':5, 'Dark':5})\n",
      "profiles['complexion1']=profiles['complexion1'].map(lambda x: int(x) if not math.isnan(x) else None)\n",
      "profiles.complexion1.unique()"
     ],
     "language": "python",
     "metadata": {},
     "outputs": [
      {
       "metadata": {},
       "output_type": "pyout",
       "prompt_number": 407,
       "text": [
        "array([  2.,   3.,  nan,   4.,   1.,   5.,   0.])"
       ]
      }
     ],
     "prompt_number": 407
    },
    {
     "cell_type": "code",
     "collapsed": false,
     "input": [
      "profiles.complexion2 = profiles.complexion2.replace({'Doesn\\'t Matter':0, 'Very Fair ': 1, 'Very Fair': 1, 'Fair ': 2, 'Fair': 2, 'Whetish Medium ': 4, 'Whetish Medium': 4, 'Wheatish': 3, 'Wheatish ':3, 'Dark ':5, 'Dark':5})\n",
      "profiles['complexion2']=profiles['complexion2'].map(lambda x: int(x) if not math.isnan(x) else None)\n",
      "profiles.complexion2.unique()"
     ],
     "language": "python",
     "metadata": {},
     "outputs": [
      {
       "metadata": {},
       "output_type": "pyout",
       "prompt_number": 408,
       "text": [
        "array([ nan,   0.,   2.,   3.,   4.,   1.,   5.])"
       ]
      }
     ],
     "prompt_number": 408
    },
    {
     "cell_type": "code",
     "collapsed": false,
     "input": [
      "profiles.created_for = profiles.created_for.replace({'Self':0, 'Daughter': 1, 'Son': 1, 'Sister': 2, 'Brother': 2, 'Relative': 3, 'Friend': 4})\n",
      "profiles['created_for']=profiles['created_for'].map(lambda x: int(x) if not math.isnan(x) else None)\n",
      "profiles.created_for.unique()"
     ],
     "language": "python",
     "metadata": {},
     "outputs": [
      {
       "metadata": {},
       "output_type": "pyout",
       "prompt_number": 409,
       "text": [
        "array([  0.,   1.,  nan,   2.,   3.,   4.])"
       ]
      }
     ],
     "prompt_number": 409
    },
    {
     "cell_type": "code",
     "collapsed": false,
     "input": [
      "profiles.drinking1 = profiles.drinking1.replace({'Doesn\\'t Matter':0, 'No': 1, 'Occasionally': 2, 'Yes': 3})\n",
      "profiles['drinking1']=profiles['drinking1'].map(lambda x: int(x) if not math.isnan(x) else None)\n",
      "profiles.drinking1.unique()"
     ],
     "language": "python",
     "metadata": {},
     "outputs": [
      {
       "metadata": {},
       "output_type": "pyout",
       "prompt_number": 410,
       "text": [
        "array([  1.,   2.,  nan,   0.,   3.])"
       ]
      }
     ],
     "prompt_number": 410
    },
    {
     "cell_type": "code",
     "collapsed": false,
     "input": [
      "profiles.drinking2 = profiles.drinking2.replace({'Doesn\\'t Matter':0, 'No': 1, 'Occasionally': 2, 'Yes': 3})\n",
      "profiles['drinking2']=profiles['drinking2'].map(lambda x: int(x) if not math.isnan(x) else None)\n",
      "profiles.drinking2.unique()"
     ],
     "language": "python",
     "metadata": {},
     "outputs": [
      {
       "metadata": {},
       "output_type": "pyout",
       "prompt_number": 411,
       "text": [
        "array([ nan,   0.,   2.,   1.,   3.])"
       ]
      }
     ],
     "prompt_number": 411
    },
    {
     "cell_type": "code",
     "collapsed": false,
     "input": [
      "profiles.eating1 = profiles.eating1.replace({'Doesn\\'t Matter':0, 'Jain': 1, 'Vegetarian': 2, 'Vegetarian With Eggs': 3, 'Non Vegetarian':4})\n",
      "profiles['eating1']=profiles['eating1'].map(lambda x: int(x) if not math.isnan(x) else None)\n",
      "profiles.eating1.unique()"
     ],
     "language": "python",
     "metadata": {},
     "outputs": [
      {
       "metadata": {},
       "output_type": "pyout",
       "prompt_number": 412,
       "text": [
        "array([  2.,   4.,   3.,  nan,   0.,   1.])"
       ]
      }
     ],
     "prompt_number": 412
    },
    {
     "cell_type": "code",
     "collapsed": false,
     "input": [
      "profiles.eating2 = profiles.eating2.replace({'Doesn\\'t Matter':0, 'Jain': 1, 'Vegetarian': 2, 'Vegetarian With Eggs': 3, 'Non Vegetarian':4})\n",
      "profiles['eating2']=profiles['eating2'].map(lambda x: int(x) if not math.isnan(x) else None)\n",
      "profiles.eating2.unique()"
     ],
     "language": "python",
     "metadata": {},
     "outputs": [
      {
       "metadata": {},
       "output_type": "pyout",
       "prompt_number": 413,
       "text": [
        "array([ nan,   0.,   4.,   2.,   3.,   1.])"
       ]
      }
     ],
     "prompt_number": 413
    },
    {
     "cell_type": "code",
     "collapsed": false,
     "input": [
      "profiles.employed1 = profiles.employed1.replace({'Not Working':0, 'Public Sector': 1, 'State Government': 2, 'Central Government': 3, 'Private Sector':4, 'MNC':5, 'Others':6})\n",
      "profiles['employed1']=profiles['employed1'].map(lambda x: int(x) if not math.isnan(x) else None)\n",
      "profiles.employed1.unique()"
     ],
     "language": "python",
     "metadata": {},
     "outputs": [
      {
       "metadata": {},
       "output_type": "pyout",
       "prompt_number": 414,
       "text": [
        "array([  1.,   4.,   5.,   6.,  nan,   0.,   2.,   3.])"
       ]
      }
     ],
     "prompt_number": 414
    },
    {
     "cell_type": "code",
     "collapsed": false,
     "input": [
      "profiles.employed2.unique()"
     ],
     "language": "python",
     "metadata": {},
     "outputs": [
      {
       "metadata": {},
       "output_type": "pyout",
       "prompt_number": 415,
       "text": [
        "array([nan, \"Doesn't Matter\",\n",
        "       'MNC,Central Government,Private Sector,Public Sector,Others',\n",
        "       'MNC,Central Government,Private Sector',\n",
        "       'MNC,Central Government,State Government,Private Sector,Public Sector',\n",
        "       'MNC,Private Sector',\n",
        "       'MNC,Central Government,State Government,Private Sector',\n",
        "       'MNC,Central Government,Private Sector,Public Sector',\n",
        "       'MNC,Private Sector,Public Sector',\n",
        "       'MNC,Central Government,State Government,Private Sector,Public Sector,Others',\n",
        "       'MNC,Central Government,State Government', 'Private Sector',\n",
        "       'Central Government,Private Sector', 'Others', 'MNC',\n",
        "       'MNC,Private Sector,Public Sector,Others',\n",
        "       'Private Sector,Public Sector,Others',\n",
        "       'MNC,State Government,Private Sector',\n",
        "       'Central Government,State Government,Public Sector',\n",
        "       'Central Government,State Government',\n",
        "       'Central Government,State Government,Public Sector,Others',\n",
        "       'MNC,Private Sector,Others', 'Central Government', 'MNC,Others',\n",
        "       'Central Government,State Government,Private Sector,Public Sector,Others',\n",
        "       'Central Government,State Government,Private Sector,Public Sector',\n",
        "       'Central Government,State Government,Private Sector',\n",
        "       'Private Sector,Public Sector',\n",
        "       'MNC,Central Government,State Government,Others',\n",
        "       'MNC,Public Sector', 'MNC,State Government,Private Sector,Others',\n",
        "       'MNC,Central Government,State Government,Private Sector,Others',\n",
        "       'State Government,Private Sector,Public Sector',\n",
        "       'State Government,Private Sector,Others', 'Public Sector',\n",
        "       'MNC,State Government,Private Sector,Public Sector',\n",
        "       'Central Government,Others', 'State Government,Private Sector',\n",
        "       'Not Working', 'MNC,Central Government,Private Sector,Not Working',\n",
        "       'MNC,Central Government,State Government,Private Sector,Not Working',\n",
        "       'Not Working,Others', 'MNC,Central Government',\n",
        "       'MNC,Central Government,State Government,Public Sector',\n",
        "       'MNC,Private Sector,Not Working',\n",
        "       'MNC,Central Government,State Government,Private Sector,Public Sector,Not Working,Others',\n",
        "       'Private Sector,Not Working,Others',\n",
        "       'MNC,Central Government,State Government,Private Sector,Public Sector,Not Working',\n",
        "       'Central Government,State Government,Private Sector,Public Sector,Not Working',\n",
        "       'MNC,Private Sector,Not Working,Others',\n",
        "       'Central Government,Public Sector',\n",
        "       'MNC,Central Government,State Government,Not Working'], dtype=object)"
       ]
      }
     ],
     "prompt_number": 415
    },
    {
     "cell_type": "code",
     "collapsed": false,
     "input": [
      "profiles.family_type1.unique()\n",
      "profiles.family_type1 = profiles.family_type1.replace({'Doesn\\'t Matter': 0, 'Others':3, 'Nuclear': 1, 'Joint family both parents': 2, 'Joint family only mother':2, 'Joint family father mother and brothers sisters':2, 'Joint family single parent brothers and or sisters':2, 'Joint family only father': 2})\n",
      "profiles['family_type1']=profiles['family_type1'].map(lambda x: int(x) if not math.isnan(x) else None)\n",
      "profiles.family_type1.unique()"
     ],
     "language": "python",
     "metadata": {},
     "outputs": [
      {
       "metadata": {},
       "output_type": "pyout",
       "prompt_number": 416,
       "text": [
        "array([  1.,  nan,   2.,   3.,   0.])"
       ]
      }
     ],
     "prompt_number": 416
    },
    {
     "cell_type": "code",
     "collapsed": false,
     "input": [
      "profiles.father = profiles.father.replace({'Army/ Armed Forces': 1, 'Business/Entrepreneur': 2, 'Civil Services': 3, 'Passed':5, 'Retired':6, 'Service - Govt/ PSU':7, 'Service - Private': 8, 'Teacher':9, 'Not Employed':10})\n",
      "profiles['father']=profiles['father'].map(lambda x: int(x) if not math.isnan(x) else None)\n",
      "profiles.father.unique()"
     ],
     "language": "python",
     "metadata": {},
     "outputs": [
      {
       "metadata": {},
       "output_type": "pyout",
       "prompt_number": 417,
       "text": [
        "array([  7.,  nan,   6.,   2.,   5.,   8.,  10.,   1.,   3.])"
       ]
      }
     ],
     "prompt_number": 417
    },
    {
     "cell_type": "code",
     "collapsed": false,
     "input": [
      "profiles.mother = profiles.mother.replace({'Army/ Armed Forces': 1, 'Business/Entrepreneur': 2, 'Civil Services': 3, 'Housewife':4, 'Passed':5, 'Retired':6, 'Service - Govt/ PSU':7, 'Service - Private': 8, 'Teacher':9})\n",
      "profiles['mother']=profiles['mother'].map(lambda x: int(x) if not math.isnan(x) else None)\n",
      "profiles.mother.unique()"
     ],
     "language": "python",
     "metadata": {},
     "outputs": [
      {
       "metadata": {},
       "output_type": "pyout",
       "prompt_number": 418,
       "text": [
        "array([  4.,  nan,   7.,   6.,   2.,   9.,   5.,   8.,   3.,   1.])"
       ]
      }
     ],
     "prompt_number": 418
    },
    {
     "cell_type": "code",
     "collapsed": false,
     "input": [
      "profiles.fields.unique()"
     ],
     "language": "python",
     "metadata": {},
     "outputs": [
      {
       "metadata": {},
       "output_type": "pyout",
       "prompt_number": 419,
       "text": [
        "array(['Other B.Com', nan, 'HR/ Industrial Relations', 'Executive MBA',\n",
        "       'Computer Science', 'Geography', 'Other MCA', 'Finance',\n",
        "       'Electronics/ Telecommunications', 'PR/ Advertising', 'Commerce',\n",
        "       'Mechanical', 'Clinical Research', 'Other M.Pharm', 'Life Sciences',\n",
        "       'History', 'Dentistry', 'Tourism &amp; Hospitality', 'General',\n",
        "       'Commerce Pass', 'Production &amp; Operations', 'Science',\n",
        "       'Other MBBS', 'Physics', 'Chemistry', 'Other B.Sc.', 'Other BA',\n",
        "       'Biotechnology', 'Fine Arts/ Visual Arts', 'Chemical',\n",
        "       'Other MD/ MS (Medicine)', 'Fashion Management', 'ICWA', 'Zoology',\n",
        "       'Orthopedics', 'Other PG Diploma', 'Other BDS', 'Law', 'Music',\n",
        "       'Arts/ Humanities/ Social Sciences', 'Agri Business',\n",
        "       'Information Technology', 'Language- English', 'Business Studies',\n",
        "       'Homeopathy', 'Hospital Administration', 'Electrical',\n",
        "       'Physiotherapy', 'Visual Arts', 'Other B.Pharm', 'Other Management',\n",
        "       'Marketing', 'Language- Hindi', 'Commerce Honors',\n",
        "       'Hotel Management', 'Education', 'Psychiatry',\n",
        "       'Health Administration', 'Production/ Industrial', 'Maths',\n",
        "       'Microbiology', 'International Business', 'Pharmacy',\n",
        "       'Pharmaceutics', 'Other BCA', 'Engineering',\n",
        "       'Accounting &amp; Finance', 'Medicine', 'Other MBA/ PGDM',\n",
        "       'Political Science', 'Instrumentation', 'Psychology', 'Other BFA',\n",
        "       'Other Integrated PG Course', 'Economics', 'Strategy Management',\n",
        "       'Design', 'Sociology', 'Anthropology', 'Architecture',\n",
        "       'Interior Designing', 'Other M.Sc.', 'Environmental Science',\n",
        "       'Pathology', 'Industrial Relations &amp; Personnel Management',\n",
        "       'Statistics', 'Internal Medicine',\n",
        "       'Aviation &amp; Hospitality Management', 'CA (Final)',\n",
        "       'Urban Planning', 'Company Secretary',\n",
        "       'Fashion Designing/Other Designing', 'Other B.Ed', 'Biology',\n",
        "       'Fine/ Applied Arts', 'Neurology', 'Civil', 'Nursing',\n",
        "       'Other Sciences', 'Other BL/ LLB/ BGL', 'Other BBA/ BBM/ BBS',\n",
        "       'Botany', 'Language- German', 'Radiology',\n",
        "       'Advertising/Mass Communication', 'Aviation Management',\n",
        "       'Other Diploma', 'Other MA', 'Library Sciences', 'Others',\n",
        "       'Other B.Arch', 'Mass Communications',\n",
        "       'Other Arts/ Graphic Designing', 'Other ML/ LLM', 'Pharmacology',\n",
        "       'Home Science', 'Other CA', 'Biochemistry', 'Other 12th',\n",
        "       'Food Technology', 'Food &amp; Nutrition', 'Biomedical Sciences',\n",
        "       'Literature', 'PCC (CA- Inter)', 'Systems', 'Fine Arts',\n",
        "       'Agriculture', 'Marketing/ Sales', 'Other M.Com', 'Other Ph.D.',\n",
        "       'Language- Urdu', 'Medical Transcription',\n",
        "       'Language- Other International', 'Management', 'Other CS',\n",
        "       'Journalism', 'Pharmaceutical Chemistry', 'Obstetrics',\n",
        "       'Veterinary Science', 'Other Fashion/ Design', 'Pediatrics',\n",
        "       'Dermatology', 'Apparel Production', 'Export/ Import',\n",
        "       'Other Engineering', 'Graphics/ Web Designing', 'Other MSW',\n",
        "       'Other Fashion Technology', 'Other Fashion/ Designing',\n",
        "       'Human Resource Management', 'Philosophy', 'Energy',\n",
        "       'Leather Technology', 'Chartered Financial Analyst',\n",
        "       'Mass Communication', 'General Physician', 'Vocational Course',\n",
        "       'Geology', 'Biomedical', 'Language- Other Indian', 'Gynecology',\n",
        "       'Cardio respiratory', 'Apparel Manufacturing Technology',\n",
        "       'Bioinformatics', 'Fashion Designing',\n",
        "       'Metallurgy/ Material Technology', 'Other', 'International Banking',\n",
        "       'Communication', 'Language- French', 'Anesthesiology',\n",
        "       'Environmental', 'Rheumatology', 'Aviation/ Aeronautical',\n",
        "       'Other M.Arch.', 'Other ME/M.Tech./MS', 'Environmental Sciences',\n",
        "       'Communications Management', 'Other BE/ B.Tech.', 'Film Studies',\n",
        "       'Film/ TV Studies', 'Hardware/ Networking',\n",
        "       'Conservative Dentistry', 'Medical Lab Technology', 'Orthodontics',\n",
        "       'CPL (Commercial Pilot License)', 'Prosthodontics',\n",
        "       'Administration', 'Housing', 'Landscape Architecture',\n",
        "       'Preventive &amp; Social Medicine', 'Clinical Data Management',\n",
        "       'CPT (Foundation)', 'Financial Services', 'Textile Technology',\n",
        "       'Language- Sanskrit', 'Mining &amp; Mine Surveying', 'Other BHM',\n",
        "       'Graphic/ Web Designing', 'Building Engg &amp; Management',\n",
        "       'Transport Planning', 'Planning', 'HR/Industrial Relations',\n",
        "       'Nutrition', 'BFA (Animation)', 'Fashion Retail', 'Other M.Phil.',\n",
        "       'Opthalmology', 'Language- Russian', 'Physical Education',\n",
        "       'Automobile', 'Pharmacognosy', 'Orthopaedics',\n",
        "       'Aircraft Maintenance Engg', 'Social Work',\n",
        "       'Oral Medicine &amp; Radiology', 'Management Studies', 'Marine',\n",
        "       'Periodontics', 'Surgery', 'Electronics/Telecommunication',\n",
        "       'Other M.Plan.', 'Insurance/ Actuarial Science', 'Other MPT',\n",
        "       'VocatioNewl Course', 'Petroleum', 'Reproductive Medicine',\n",
        "       'Gastroenterology', 'Metallurgy', 'Poultry Science', 'Cardiology',\n",
        "       'Oral &amp; Maxillofacial Surgery', 'Tourism',\n",
        "       'Veterinary Public Health', 'Dairy/Farming', 'Plastics'], dtype=object)"
       ]
      }
     ],
     "prompt_number": 419
    },
    {
     "cell_type": "code",
     "collapsed": false,
     "input": [
      "profiles.have_children = profiles.have_children.replace({'No': 0, 'Yes': 1})\n",
      "profiles['have_children']=profiles['have_children'].map(lambda x: int(x) if not math.isnan(x) else None)\n",
      "profiles.have_children.unique()"
     ],
     "language": "python",
     "metadata": {},
     "outputs": [
      {
       "metadata": {},
       "output_type": "pyout",
       "prompt_number": 420,
       "text": [
        "array([  0.,  nan,   1.])"
       ]
      }
     ],
     "prompt_number": 420
    },
    {
     "cell_type": "code",
     "collapsed": false,
     "input": [
      "profiles.horoscope = profiles.horoscope.replace({'No': 0, 'Yes': 1})\n",
      "profiles['horoscope']=profiles['horoscope'].map(lambda x: int(x) if not math.isnan(x) else None)\n",
      "profiles.horoscope.unique()"
     ],
     "language": "python",
     "metadata": {},
     "outputs": [
      {
       "metadata": {},
       "output_type": "pyout",
       "prompt_number": 421,
       "text": [
        "array([ nan,   1.,   0.])"
       ]
      }
     ],
     "prompt_number": 421
    },
    {
     "cell_type": "code",
     "collapsed": false,
     "input": [
      "pt = profiles.groupby('income1').count()\n",
      "print pt.income1.head(60)\n",
      "\n",
      "#sorted(profiles.income1.unique())"
     ],
     "language": "python",
     "metadata": {},
     "outputs": [
      {
       "output_type": "stream",
       "stream": "stdout",
       "text": [
        "income1\n",
        "1 lakh to 2 lakhs,2 lakhs to 3 lakhs,3 lakhs to 4 lakhs,4 lakhs to 5 lakhs,7 lakhs to 10 lakhs       1\n",
        "2 lakhs to 3 lakhs                                                 1\n",
        "25 lakhs to 30 lakhs,30 lakhs to 35 lakhs,35 lakhs to 40 lakhs,40 lakhs to 50 lakhs,50 lakhs and above.       1\n",
        "3 lakhs to 4 lakhs                                                 1\n",
        "3 lakhs to 4 lakhs,4 lakhs to 5 lakhs,7 lakhs to 10 lakhs,10 lakhs to 15 lakhs       1\n",
        "3 lakhs to 4 lakhs,4 lakhs to 5 lakhs,7 lakhs to 10 lakhs,10 lakhs to 15 lakhs,15 lakhs to 20 lakhs       1\n",
        "30 lakhs to 35 lakhs                                               1\n",
        "4 lakhs to 5 lakhs                                                 2\n",
        "4 lakhs to 5 lakhs,20 lakhs to 25 lakhs                            1\n",
        "4 lakhs to 5 lakhs,7 lakhs to 10 lakhs                             1\n",
        "50 lakhs and above.                                                1\n",
        "50 thousand to 1 lakh                                              1\n",
        "7 lakhs to 10 lakhs                                                3\n",
        "7 lakhs to 10 lakhs,10 lakhs to 15 lakhs                           2\n",
        "Doesn't Matter                                                     9\n",
        "Don't wish to specify                                              2\n",
        "EURO &euro;125k to 150k                                            1\n",
        "EURO &euro;25k to 40k                                              4\n",
        "EURO 1 lakh to 2 lakhs                                             1\n",
        "EURO Less than &euro;25k                                           1\n",
        "EURO Under 50 thousand                                             2\n",
        "INR 1 lakh to 2 lakhs                                           1287\n",
        "INR 10 lakhs to 15 lakhs                                         412\n",
        "INR 15 lakhs to 20 lakhs                                         112\n",
        "INR 2 lakhs to 3 lakhs                                          1406\n",
        "INR 20 lakhs to 25 lakhs                                          60\n",
        "INR 25 lakhs to 30 lakhs                                          28\n",
        "INR 3 lakhs to 4 lakhs                                          1290\n",
        "INR 30 lakhs to 35 lakhs                                          12\n",
        "INR 35 lakhs to 40 lakhs                                          15\n",
        "INR 4 lakhs to 5 lakhs                                          1001\n",
        "INR 40 lakhs to 50 lakhs                                          13\n",
        "INR 5 lakhs to 7 lakhs                                           102\n",
        "INR 50 lakhs and above.                                           24\n",
        "INR 50 thousand to 1 lakh                                        471\n",
        "INR 7 lakhs to 10 lakhs                                         1576\n",
        "INR Don't wish to specify                                        667\n",
        "INR Respectable Amount                                            29\n",
        "INR Stipend                                                        5\n",
        "INR Under 50 thousand                                            233\n",
        "POUND &pound;20k to 30k                                            2\n",
        "POUND &pound;30k to 40k                                            2\n",
        "POUND &pound;50k to 75k                                            1\n",
        "POUND 1 lakh to 2 lakhs                                            1\n",
        "POUND Under 50 thousand                                            2\n",
        "US$ $100k to 125k                                                  3\n",
        "US$ $150k to 200k                                                  1\n",
        "US$ $200k and above                                                2\n",
        "US$ $25k to 40k                                                   15\n",
        "US$ $40k to 60k                                                    6\n",
        "US$ $60k to 80k                                                    5\n",
        "US$ $80k to 100k                                                   2\n",
        "US$ 1 lakh to 2 lakhs                                              1\n",
        "US$ 50 thousand to 1 lakh                                          7\n",
        "US$ Don't wish to specify                                         18\n",
        "US$ Less than $25k                                                 8\n",
        "US$ Respectable Amount                                             1\n",
        "US$ Under 50 thousand                                              1\n",
        "Under 50 thousand                                                  1\n",
        "Unspecified 1 lakh to 2 lakhs                                      9\n",
        "Name: income1, Length: 60, dtype: int64\n"
       ]
      }
     ],
     "prompt_number": 422
    },
    {
     "cell_type": "code",
     "collapsed": false,
     "input": [
      "def get_income(income):\n",
      "    income = str(income)\n",
      "    \n",
      "    if income =='nan':\n",
      "        ret = np.nan\n",
      "    elif income == 'INR Under 50 thousand':\n",
      "        ret = 0\n",
      "    elif income == 'INR 50 thousand to 1 lakh':\n",
      "        ret = 1\n",
      "    elif income == 'INR 1 lakh to 2 lakhs':\n",
      "        ret = 2\n",
      "    elif income == 'INR 2 lakhs to 3 lakhs':\n",
      "        ret = 3\n",
      "    elif income == 'INR 3 lakhs to 4 lakhs':\n",
      "        ret = 4\n",
      "    elif income == 'INR 4 lakhs to 5 lakhs':\n",
      "        ret = 5\n",
      "    elif income == 'INR 5 lakhs to 7 lakhs':\n",
      "        ret = 6\n",
      "    elif income == 'INR 7 lakhs to 10 lakhs':\n",
      "        ret = 7\n",
      "    elif income == 'INR 10 lakhs to 15 lakhs':\n",
      "        ret = 8\n",
      "    elif income == 'INR 15 lakhs to 20 lakhs':\n",
      "        ret = 9\n",
      "    elif income == 'INR 20 lakhs to 25 lakhs' or income == 'INR 25 lakhs to 30 lakhs' or income == 'INR 30 lakhs to 35 lakhs' or income == 'INR 35 lakhs to 40 lakhs' or income == 'INR 40 lakhs to 50 lakhs' or income == '50 lakhs and above.':\n",
      "        ret = 10\n",
      "    else:\n",
      "        ret = np.nan\n",
      "        \n",
      "    return ret\n",
      "\n",
      "profiles['income1']=profiles['income1'].map(lambda x: get_income(x))\n",
      "profiles.income1.unique()"
     ],
     "language": "python",
     "metadata": {},
     "outputs": [
      {
       "metadata": {},
       "output_type": "pyout",
       "prompt_number": 423,
       "text": [
        "array([  3.,   7.,   2.,   8.,  nan,   5.,   1.,   6.,   4.,   0.,   9.,\n",
        "        10.])"
       ]
      }
     ],
     "prompt_number": 423
    },
    {
     "cell_type": "code",
     "collapsed": false,
     "input": [
      "profiles.income2.unique()"
     ],
     "language": "python",
     "metadata": {},
     "outputs": [
      {
       "metadata": {},
       "output_type": "pyout",
       "prompt_number": 424,
       "text": [
        "array([nan,\n",
        "       '10 lakhs to 15 lakhs,15 lakhs to 20 lakhs,20 lakhs to 25 lakhs,25 lakhs to 30 lakhs,30 lakhs to 35 lakhs,35 lakhs to 40 lakhs,40 lakhs to 50 lakhs,50 lakhs and above.',\n",
        "       '7 lakhs to 10 lakhs,10 lakhs to 15 lakhs',\n",
        "       '5 lakhs to 7 lakhs,7 lakhs to 10 lakhs,10 lakhs to 15 lakhs',\n",
        "       '3 lakhs to 4 lakhs', '15 lakhs to 20 lakhs',\n",
        "       '10 lakhs to 15 lakhs,15 lakhs to 20 lakhs,20 lakhs to 25 lakhs',\n",
        "       '7 lakhs to 10 lakhs', \"Doesn't Matter\",\n",
        "       '7 lakhs to 10 lakhs,10 lakhs to 15 lakhs,15 lakhs to 20 lakhs',\n",
        "       \"Don't wish to specify\",\n",
        "       '4 lakhs to 5 lakhs,7 lakhs to 10 lakhs,10 lakhs to 15 lakhs,15 lakhs to 20 lakhs,20 lakhs to 25 lakhs',\n",
        "       '2 lakhs to 3 lakhs,3 lakhs to 4 lakhs',\n",
        "       '4 lakhs to 5 lakhs,7 lakhs to 10 lakhs', '40 lakhs to 50 lakhs',\n",
        "       '1 lakh to 2 lakhs,2 lakhs to 3 lakhs,3 lakhs to 4 lakhs',\n",
        "       '5 lakhs to 7 lakhs',\n",
        "       '3 lakhs to 4 lakhs,4 lakhs to 5 lakhs,7 lakhs to 10 lakhs,10 lakhs to 15 lakhs,15 lakhs to 20 lakhs,20 lakhs to 25 lakhs,25 lakhs to 30 lakhs,30 lakhs to 35 lakhs,35 lakhs to 40 lakhs',\n",
        "       '10 lakhs to 15 lakhs', '3 lakhs to 4 lakhs,4 lakhs to 5 lakhs',\n",
        "       '4 lakhs to 5 lakhs', '2 lakhs to 3 lakhs',\n",
        "       '$40k to 60k,$125k to 150k,$150k to 200k,$200k and above',\n",
        "       '10 lakhs to 15 lakhs,15 lakhs to 20 lakhs,20 lakhs to 25 lakhs,25 lakhs to 30 lakhs,30 lakhs to 35 lakhs,35 lakhs to 40 lakhs',\n",
        "       '20 lakhs to 25 lakhs,25 lakhs to 30 lakhs,30 lakhs to 35 lakhs,35 lakhs to 40 lakhs,40 lakhs to 50 lakhs,50 lakhs and above.',\n",
        "       '2 lakhs to 3 lakhs,3 lakhs to 4 lakhs,4 lakhs to 5 lakhs',\n",
        "       '4 lakhs to 5 lakhs,7 lakhs to 10 lakhs,10 lakhs to 15 lakhs,15 lakhs to 20 lakhs,20 lakhs to 25 lakhs,25 lakhs to 30 lakhs,30 lakhs to 35 lakhs,35 lakhs to 40 lakhs,40 lakhs to 50 lakhs,50 lakhs and above.',\n",
        "       '10 lakhs to 15 lakhs,15 lakhs to 20 lakhs,20 lakhs to 25 lakhs,30 lakhs to 35 lakhs,35 lakhs to 40 lakhs,40 lakhs to 50 lakhs,50 lakhs and above.',\n",
        "       '3 lakhs to 4 lakhs,4 lakhs to 5 lakhs,7 lakhs to 10 lakhs,10 lakhs to 15 lakhs,15 lakhs to 20 lakhs,20 lakhs to 25 lakhs',\n",
        "       '3 lakhs to 4 lakhs,4 lakhs to 5 lakhs,7 lakhs to 10 lakhs,10 lakhs to 15 lakhs,15 lakhs to 20 lakhs',\n",
        "       '7 lakhs to 10 lakhs,10 lakhs to 15 lakhs,15 lakhs to 20 lakhs,20 lakhs to 25 lakhs,25 lakhs to 30 lakhs,30 lakhs to 35 lakhs,35 lakhs to 40 lakhs,40 lakhs to 50 lakhs,50 lakhs and above.',\n",
        "       '3 lakhs to 4 lakhs,4 lakhs to 5 lakhs,7 lakhs to 10 lakhs,10 lakhs to 15 lakhs,15 lakhs to 20 lakhs,20 lakhs to 25 lakhs,25 lakhs to 30 lakhs,30 lakhs to 35 lakhs,35 lakhs to 40 lakhs,40 lakhs to 50 lakhs,50 lakhs and above.',\n",
        "       '10 lakhs to 15 lakhs,15 lakhs to 20 lakhs,20 lakhs to 25 lakhs,25 lakhs to 30 lakhs',\n",
        "       '7 lakhs to 10 lakhs,10 lakhs to 15 lakhs,15 lakhs to 20 lakhs,20 lakhs to 25 lakhs,25 lakhs to 30 lakhs',\n",
        "       '$80k to 100k,$100k to 125k,$125k to 150k,$150k to 200k,$200k and above',\n",
        "       '3 lakhs to 4 lakhs,4 lakhs to 5 lakhs,7 lakhs to 10 lakhs',\n",
        "       '4 lakhs to 5 lakhs,7 lakhs to 10 lakhs,10 lakhs to 15 lakhs',\n",
        "       'Under 50 thousand', '20 lakhs to 25 lakhs',\n",
        "       '15 lakhs to 20 lakhs,20 lakhs to 25 lakhs',\n",
        "       '2 lakhs to 3 lakhs,3 lakhs to 4 lakhs,4 lakhs to 5 lakhs,7 lakhs to 10 lakhs,10 lakhs to 15 lakhs,15 lakhs to 20 lakhs,20 lakhs to 25 lakhs,25 lakhs to 30 lakhs,30 lakhs to 35 lakhs,35 lakhs to 40 lakhs,40 lakhs to 50 lakhs,50 lakhs and above.',\n",
        "       '15 lakhs to 20 lakhs,20 lakhs to 25 lakhs,25 lakhs to 30 lakhs,30 lakhs to 35 lakhs,35 lakhs to 40 lakhs,40 lakhs to 50 lakhs,50 lakhs and above.',\n",
        "       '7 lakhs to 10 lakhs,10 lakhs to 15 lakhs,15 lakhs to 20 lakhs,20 lakhs to 25 lakhs',\n",
        "       '1 lakh to 2 lakhs',\n",
        "       '5 lakhs to 7 lakhs,7 lakhs to 10 lakhs,10 lakhs to 15 lakhs,15 lakhs to 20 lakhs,20 lakhs to 25 lakhs,25 lakhs to 30 lakhs,30 lakhs to 35 lakhs,35 lakhs to 40 lakhs,40 lakhs to 50 lakhs,50 lakhs and above.',\n",
        "       '4 lakhs to 5 lakhs,7 lakhs to 10 lakhs,10 lakhs to 15 lakhs,15 lakhs to 20 lakhs,20 lakhs to 25 lakhs,25 lakhs to 30 lakhs',\n",
        "       '20 lakhs to 25 lakhs,25 lakhs to 30 lakhs,30 lakhs to 35 lakhs,35 lakhs to 40 lakhs,40 lakhs to 50 lakhs',\n",
        "       '2 lakhs to 3 lakhs,3 lakhs to 4 lakhs,4 lakhs to 5 lakhs,10 lakhs to 15 lakhs,15 lakhs to 20 lakhs',\n",
        "       '$40k to 60k,$60k to 80k',\n",
        "       '15 lakhs to 20 lakhs,20 lakhs to 25 lakhs,25 lakhs to 30 lakhs',\n",
        "       '50 thousand to 1 lakh',\n",
        "       '2 lakhs to 3 lakhs,3 lakhs to 4 lakhs,4 lakhs to 5 lakhs,7 lakhs to 10 lakhs,10 lakhs to 15 lakhs,15 lakhs to 20 lakhs',\n",
        "       '7 lakhs to 10 lakhs,10 lakhs to 15 lakhs,15 lakhs to 20 lakhs,20 lakhs to 25 lakhs,30 lakhs to 35 lakhs,35 lakhs to 40 lakhs,40 lakhs to 50 lakhs,50 lakhs and above.',\n",
        "       '$100k to 125k',\n",
        "       '1 lakh to 2 lakhs,2 lakhs to 3 lakhs,3 lakhs to 4 lakhs,4 lakhs to 5 lakhs,5 lakhs to 7 lakhs,7 lakhs to 10 lakhs,10 lakhs to 15 lakhs',\n",
        "       '10 lakhs to 15 lakhs,15 lakhs to 20 lakhs', '50 lakhs and above.',\n",
        "       '20 lakhs to 25 lakhs,25 lakhs to 30 lakhs,30 lakhs to 35 lakhs',\n",
        "       '3 lakhs to 4 lakhs,4 lakhs to 5 lakhs,5 lakhs to 7 lakhs,7 lakhs to 10 lakhs,10 lakhs to 15 lakhs,15 lakhs to 20 lakhs',\n",
        "       '4 lakhs to 5 lakhs,7 lakhs to 10 lakhs,10 lakhs to 15 lakhs,15 lakhs to 20 lakhs,25 lakhs to 30 lakhs,30 lakhs to 35 lakhs,35 lakhs to 40 lakhs',\n",
        "       '4 lakhs to 5 lakhs,7 lakhs to 10 lakhs,10 lakhs to 15 lakhs,15 lakhs to 20 lakhs',\n",
        "       '2 lakhs to 3 lakhs,3 lakhs to 4 lakhs,4 lakhs to 5 lakhs,15 lakhs to 20 lakhs,20 lakhs to 25 lakhs,25 lakhs to 30 lakhs,50 lakhs and above.',\n",
        "       '3 lakhs to 4 lakhs,4 lakhs to 5 lakhs,7 lakhs to 10 lakhs,10 lakhs to 15 lakhs,15 lakhs to 20 lakhs,20 lakhs to 25 lakhs,30 lakhs to 35 lakhs,35 lakhs to 40 lakhs,40 lakhs to 50 lakhs,50 lakhs and above.',\n",
        "       '25 lakhs to 30 lakhs',\n",
        "       '15 lakhs to 20 lakhs,20 lakhs to 25 lakhs,25 lakhs to 30 lakhs,50 lakhs and above.',\n",
        "       '3 lakhs to 4 lakhs,4 lakhs to 5 lakhs,5 lakhs to 7 lakhs,7 lakhs to 10 lakhs,10 lakhs to 15 lakhs',\n",
        "       '$150k to 200k',\n",
        "       '3 lakhs to 4 lakhs,4 lakhs to 5 lakhs,5 lakhs to 7 lakhs',\n",
        "       '3 lakhs to 4 lakhs,4 lakhs to 5 lakhs,10 lakhs to 15 lakhs,15 lakhs to 20 lakhs',\n",
        "       '30 lakhs to 35 lakhs',\n",
        "       '3 lakhs to 4 lakhs,4 lakhs to 5 lakhs,7 lakhs to 10 lakhs,10 lakhs to 15 lakhs,15 lakhs to 20 lakhs,20 lakhs to 25 lakhs,25 lakhs to 30 lakhs,30 lakhs to 35 lakhs,35 lakhs to 40 lakhs,40 lakhs to 50 lakhs',\n",
        "       '7 lakhs to 10 lakhs,10 lakhs to 15 lakhs,15 lakhs to 20 lakhs,25 lakhs to 30 lakhs',\n",
        "       '3 lakhs to 4 lakhs,4 lakhs to 5 lakhs,7 lakhs to 10 lakhs,15 lakhs to 20 lakhs',\n",
        "       '1 lakh to 2 lakhs,2 lakhs to 3 lakhs,3 lakhs to 4 lakhs,4 lakhs to 5 lakhs',\n",
        "       '1 lakh to 2 lakhs,2 lakhs to 3 lakhs',\n",
        "       '1 lakh to 2 lakhs,2 lakhs to 3 lakhs,3 lakhs to 4 lakhs,4 lakhs to 5 lakhs,7 lakhs to 10 lakhs',\n",
        "       '2 lakhs to 3 lakhs,4 lakhs to 5 lakhs',\n",
        "       '2 lakhs to 3 lakhs,3 lakhs to 4 lakhs,4 lakhs to 5 lakhs,7 lakhs to 10 lakhs',\n",
        "       'Under 50 thousand,50 thousand to 1 lakh,1 lakh to 2 lakhs,2 lakhs to 3 lakhs,3 lakhs to 4 lakhs,4 lakhs to 5 lakhs',\n",
        "       '50 thousand to 1 lakh,1 lakh to 2 lakhs,2 lakhs to 3 lakhs',\n",
        "       'Under 50 thousand,50 thousand to 1 lakh,1 lakh to 2 lakhs,2 lakhs to 3 lakhs,3 lakhs to 4 lakhs',\n",
        "       'Under 50 thousand,50 thousand to 1 lakh,1 lakh to 2 lakhs',\n",
        "       '4 lakhs to 5 lakhs,5 lakhs to 7 lakhs,7 lakhs to 10 lakhs,10 lakhs to 15 lakhs,15 lakhs to 20 lakhs,20 lakhs to 25 lakhs',\n",
        "       'Under 50 thousand,50 thousand to 1 lakh,1 lakh to 2 lakhs,2 lakhs to 3 lakhs',\n",
        "       '2 lakhs to 3 lakhs,3 lakhs to 4 lakhs,4 lakhs to 5 lakhs,5 lakhs to 7 lakhs',\n",
        "       '50 thousand to 1 lakh,1 lakh to 2 lakhs,2 lakhs to 3 lakhs,3 lakhs to 4 lakhs,4 lakhs to 5 lakhs',\n",
        "       'Under 50 thousand,50 thousand to 1 lakh,1 lakh to 2 lakhs,2 lakhs to 3 lakhs,3 lakhs to 4 lakhs,4 lakhs to 5 lakhs,7 lakhs to 10 lakhs,10 lakhs to 15 lakhs,15 lakhs to 20 lakhs,20 lakhs to 25 lakhs,25 lakhs to 30 lakhs',\n",
        "       '7 lakhs to 10 lakhs,50 lakhs and above.',\n",
        "       '50 thousand to 1 lakh,1 lakh to 2 lakhs,2 lakhs to 3 lakhs,3 lakhs to 4 lakhs,4 lakhs to 5 lakhs,7 lakhs to 10 lakhs,10 lakhs to 15 lakhs',\n",
        "       'Under 50 thousand,50 thousand to 1 lakh,1 lakh to 2 lakhs,2 lakhs to 3 lakhs,3 lakhs to 4 lakhs,4 lakhs to 5 lakhs,7 lakhs to 10 lakhs,10 lakhs to 15 lakhs,15 lakhs to 20 lakhs,20 lakhs to 25 lakhs,25 lakhs to 30 lakhs,30 lakhs to 35 lakhs,35 lakhs to 40 lakhs,40 lakhs to 50 lakhs,50 lakhs and above.',\n",
        "       '3 lakhs to 4 lakhs,4 lakhs to 5 lakhs,7 lakhs to 10 lakhs,10 lakhs to 15 lakhs',\n",
        "       '2 lakhs to 3 lakhs,3 lakhs to 4 lakhs,4 lakhs to 5 lakhs,7 lakhs to 10 lakhs,10 lakhs to 15 lakhs',\n",
        "       '50 thousand to 1 lakh,1 lakh to 2 lakhs',\n",
        "       '1 lakh to 2 lakhs,2 lakhs to 3 lakhs,3 lakhs to 4 lakhs,4 lakhs to 5 lakhs,5 lakhs to 7 lakhs,7 lakhs to 10 lakhs,10 lakhs to 15 lakhs,15 lakhs to 20 lakhs,20 lakhs to 25 lakhs,25 lakhs to 30 lakhs'], dtype=object)"
       ]
      }
     ],
     "prompt_number": 424
    },
    {
     "cell_type": "code",
     "collapsed": false,
     "input": [
      "profiles.marital_status1 = profiles.marital_status1.replace({'Doesn\\'t Matter': 0, 'Never Married': 1, 'Divorced': 2, 'Annulled': 3, 'Widowed': 4, 'Married': 5})\n",
      "profiles['marital_status1']=profiles['marital_status1'].map(lambda x: int(x) if not math.isnan(x) else None)\n",
      "profiles.marital_status1.unique()"
     ],
     "language": "python",
     "metadata": {},
     "outputs": [
      {
       "metadata": {},
       "output_type": "pyout",
       "prompt_number": 425,
       "text": [
        "array([  1.,  nan,   2.,   3.,   4.,   5.])"
       ]
      }
     ],
     "prompt_number": 425
    },
    {
     "cell_type": "code",
     "collapsed": false,
     "input": [
      "profiles.marital_status2 = profiles.marital_status2.replace({'Doesn\\'t Matter': 0, 'Never Married': 1, 'Divorced': 2, 'Annulled': 3, 'Widowed': 4, 'Married': 5})\n",
      "profiles['marital_status2']=profiles['marital_status2'].map(lambda x: int(x) if not math.isnan(x) else None)\n",
      "profiles.marital_status2.unique()"
     ],
     "language": "python",
     "metadata": {},
     "outputs": [
      {
       "metadata": {},
       "output_type": "pyout",
       "prompt_number": 426,
       "text": [
        "array([  1.,  nan,   0.,   2.,   3.,   4.,   5.])"
       ]
      }
     ],
     "prompt_number": 426
    },
    {
     "cell_type": "code",
     "collapsed": false,
     "input": [
      "profiles.occupation.unique()"
     ],
     "language": "python",
     "metadata": {},
     "outputs": [
      {
       "metadata": {},
       "output_type": "pyout",
       "prompt_number": 427,
       "text": [
        "array(['Banking, Insurance &amp; Financial Services',\n",
        "       'Manufacturing/ Engineering/ R&D;', 'Human Resource', 'IT',\n",
        "       'Education/ Training', nan, 'Finance and Accounts',\n",
        "       'Beauty, Fashion &amp; Jewellery Designers',\n",
        "       'Admin/Secretarial,Architecture &amp; Design,Banking, Insurance &amp; Financial Services,Business Owner / Entrepreneur,Construction,Customer Service/ Call Centre/BPO,Education/ Training,Export/ Import,Finance and Accounts,Government Employee,Hotels/ Restaurants,Human Resource,IT,Loss Prevention Manager,Management / Corporate Professionals,Manufacturing/ Engineering/ R&D;,Marketing and Communications,Oil &amp; Gas,Others,Pharmaceutical/ Biotechnology,Purchase/ Logistics/ Supply chain,Real Estate,Retail Chains,Sales/ Business Development,Science,Telecom/ ISP,Travel/ Airlines',\n",
        "       'Management / Corporate Professionals', 'Health Care', 'Others',\n",
        "       'Marketing and Communications', 'Travel/ Airlines',\n",
        "       'Admin/Secretarial', 'Purchase/ Logistics/ Supply chain',\n",
        "       'Customer Service/ Call Centre/BPO', 'Export/ Import',\n",
        "       'Admin/Secretarial,Defence,Health Care,IT', 'Science', 'Legal',\n",
        "       'Agriculture',\n",
        "       'IT,Management / Corporate Professionals,Manufacturing/ Engineering/ R&D;,Merchant Navy,Oil &amp; Gas,Pharmaceutical/ Biotechnology',\n",
        "       'Pharmaceutical/ Biotechnology', 'Real Estate',\n",
        "       'Government Employee',\n",
        "       'Admin/Secretarial,Architecture &amp; Design,Banking, Insurance &amp; Financial Services,Civil Services / Law Enforcement,Construction,Defence,Education/ Training,Electronics,Finance and Accounts,Government Employee,IT,Management / Corporate Professionals,Manufacturing/ Engineering/ R&D;,Pharmaceutical/ Biotechnology,Telecom/ ISP',\n",
        "       'Sales/ Business Development', 'Advertising/ Entertainment/ Media',\n",
        "       'Human Resource,IT,Management / Corporate Professionals',\n",
        "       'Non Working', 'Business Owner / Entrepreneur',\n",
        "       'Hotels/ Restaurants',\n",
        "       'Government Employee,Health Care,IT,Management / Corporate Professionals,Manufacturing/ Engineering/ R&D;,Marketing and Communications,Merchant Navy,Travel/ Airlines',\n",
        "       'Banking, Insurance &amp; Financial Services,Government Employee,Human Resource,IT,Manufacturing/ Engineering/ R&D;,Marketing and Communications,Pharmaceutical/ Biotechnology',\n",
        "       'Advertising/ Entertainment/ Media,Architecture &amp; Design,Banking, Insurance &amp; Financial Services,Business Owner / Entrepreneur,Management / Corporate Professionals,Manufacturing/ Engineering/ R&D;,Marketing and Communications,Telecom/ ISP',\n",
        "       'Electronics',\n",
        "       'Admin/Secretarial,Architecture &amp; Design,Artists, Animators &amp; Web Designers,Banking, Insurance &amp; Financial Services,Business Owner / Entrepreneur,Civil Services / Law Enforcement,Construction,Defence,Electronics,Export/ Import,Finance and Accounts,Government Employee,Health Care,Human Resource,IT,Legal,Management / Corporate Professionals,Manufacturing/ Engineering/ R&D;,Marketing and Communications,Merchant Navy,Oil &amp; Gas,Pharmaceutical/ Biotechnology,Purchase/ Logistics/ Supply chain,Real Estate,Sales/ Business Development,Science,Travel/ Airlines',\n",
        "       'Civil Services / Law Enforcement,Defence,Electronics,IT',\n",
        "       'Advertising/ Entertainment/ Media,Banking, Insurance &amp; Financial Services,Business Owner / Entrepreneur,Human Resource,IT,Pharmaceutical/ Biotechnology',\n",
        "       'Construction', 'Architecture &amp; Design',\n",
        "       'IT,Management / Corporate Professionals,Manufacturing/ Engineering/ R&D;',\n",
        "       'Advertising/ Entertainment/ Media,Architecture &amp; Design,Artists, Animators &amp; Web Designers,Banking, Insurance &amp; Financial Services,Beauty, Fashion &amp; Jewellery Designers,Business Owner / Entrepreneur,Civil Services / Law Enforcement,Construction,Customer Service/ Call Centre/BPO,Defence,Education/ Training,Electronics,Export/ Import,Finance and Accounts,Government Employee,Health Care,IT,Management / Corporate Professionals,Manufacturing/ Engineering/ R&D;,Marketing and Communications,Merchant Navy,Oil &amp; Gas,Pharmaceutical/ Biotechnology,Purchase/ Logistics/ Supply chain,Science,Telecom/ ISP,Travel/ Airlines',\n",
        "       'Admin/Secretarial,Banking, Insurance &amp; Financial Services,Civil Services / Law Enforcement,Government Employee,Health Care,Human Resource,Manufacturing/ Engineering/ R&D;,Oil &amp; Gas,Pharmaceutical/ Biotechnology',\n",
        "       'Artists, Animators &amp; Web Designers', 'Telecom/ ISP',\n",
        "       'Banking, Insurance &amp; Financial Services,Finance and Accounts,IT',\n",
        "       'Advertising/ Entertainment/ Media,Banking, Insurance &amp; Financial Services,Business Owner / Entrepreneur,Export/ Import,Marketing and Communications',\n",
        "       'Defence',\n",
        "       'Banking, Insurance &amp; Financial Services,Electronics,Export/ Import,Finance and Accounts,Human Resource,IT,Management / Corporate Professionals,Manufacturing/ Engineering/ R&D;',\n",
        "       'Advertising/ Entertainment/ Media,Architecture &amp; Design,Artists, Animators &amp; Web Designers,Banking, Insurance &amp; Financial Services,Business Owner / Entrepreneur,Civil Services / Law Enforcement,Human Resource,IT,Marketing and Communications,Merchant Navy,Others',\n",
        "       'Oil &amp; Gas',\n",
        "       'Admin/Secretarial,Advertising/ Entertainment/ Media,Civil Services / Law Enforcement,Finance and Accounts,Government Employee,IT,Others',\n",
        "       'Banking, Insurance &amp; Financial Services,Civil Services / Law Enforcement,Electronics,Export/ Import,Finance and Accounts,Government Employee,Human Resource,IT,Management / Corporate Professionals,Manufacturing/ Engineering/ R&D;,Marketing and Communications,Oil &amp; Gas',\n",
        "       'Business Owner / Entrepreneur,Civil Services / Law Enforcement,IT,Management / Corporate Professionals,Manufacturing/ Engineering/ R&D;,Oil &amp; Gas,Real Estate,Science,Telecom/ ISP',\n",
        "       'Admin/Secretarial,Advertising/ Entertainment/ Media,Agriculture',\n",
        "       'Admin/Secretarial,Artists, Animators &amp; Web Designers,Banking, Insurance &amp; Financial Services,IT',\n",
        "       'Advertising/ Entertainment/ Media,Artists, Animators &amp; Web Designers,Banking, Insurance &amp; Financial Services,Business Owner / Entrepreneur,Civil Services / Law Enforcement,Construction,Export/ Import,Finance and Accounts,Health Care,Hotels/ Restaurants,Human Resource,IT,Legal,Management / Corporate Professionals,Manufacturing/ Engineering/ R&D;,Marketing and Communications,Merchant Navy,Pharmaceutical/ Biotechnology,Purchase/ Logistics/ Supply chain,Real Estate,Sales/ Business Development,Telecom/ ISP,Travel/ Airlines',\n",
        "       'Banking, Insurance &amp; Financial Services,Business Owner / Entrepreneur,Finance and Accounts,Health Care,Human Resource,IT,Management / Corporate Professionals,Manufacturing/ Engineering/ R&D;,Marketing and Communications,Merchant Navy,Oil &amp; Gas,Pharmaceutical/ Biotechnology,Real Estate,Retail Chains,Sales/ Business Development,Science,Telecom/ ISP',\n",
        "       'Artists, Animators &amp; Web Designers,Banking, Insurance &amp; Financial Services,Business Owner / Entrepreneur,Civil Services / Law Enforcement,Construction,Electronics,Export/ Import,Finance and Accounts,Government Employee,Human Resource,IT,Management / Corporate Professionals,Manufacturing/ Engineering/ R&D;,Marketing and Communications,Merchant Navy,Real Estate,Sales/ Business Development',\n",
        "       'Admin/Secretarial,Advertising/ Entertainment/ Media,Architecture &amp; Design,Artists, Animators &amp; Web Designers,Banking, Insurance &amp; Financial Services,Beauty, Fashion &amp; Jewellery Designers,Business Owner / Entrepreneur,Civil Services / Law Enforcement,Construction,Customer Service/ Call Centre/BPO,Defence,Education/ Training,Electronics,Finance and Accounts,Government Employee,Health Care,Hotels/ Restaurants,Human Resource,IT,Management / Corporate Professionals,Manufacturing/ Engineering/ R&D;,Marketing and Communications,Merchant Navy,Others,Real Estate,Sales/ Business Development,Science,Telecom/ ISP,Travel/ Airlines',\n",
        "       'Health Care,IT,Manufacturing/ Engineering/ R&D;,Others',\n",
        "       'Advertising/ Entertainment/ Media,Architecture &amp; Design,Artists, Animators &amp; Web Designers,Banking, Insurance &amp; Financial Services,Business Owner / Entrepreneur,Civil Services / Law Enforcement,Construction,Defence,Education/ Training,Electronics,Export/ Import,Finance and Accounts,Government Employee,Health Care,Hotels/ Restaurants,Human Resource,IT,Legal,Loss Prevention Manager,Management / Corporate Professionals,Manufacturing/ Engineering/ R&D;,Marketing and Communications,Merchant Navy,Oil &amp; Gas,Pharmaceutical/ Biotechnology,Purchase/ Logistics/ Supply chain,Real Estate,Sales/ Business Development,Science,Telecom/ ISP,Travel/ Airlines',\n",
        "       'Advertising/ Entertainment/ Media,Artists, Animators &amp; Web Designers,Banking, Insurance &amp; Financial Services,Beauty, Fashion &amp; Jewellery Designers,Business Owner / Entrepreneur,Construction,Defence,Education/ Training,Electronics,Finance and Accounts,Health Care,Human Resource,IT,Management / Corporate Professionals,Manufacturing/ Engineering/ R&D;,Merchant Navy,Oil &amp; Gas,Real Estate,Sales/ Business Development,Telecom/ ISP,Travel/ Airlines',\n",
        "       'Banking, Insurance &amp; Financial Services,Business Owner / Entrepreneur,Management / Corporate Professionals,Oil &amp; Gas,Pharmaceutical/ Biotechnology',\n",
        "       'Human Resource,IT,Management / Corporate Professionals,Marketing and Communications',\n",
        "       'Admin/Secretarial,Agriculture,Artists, Animators &amp; Web Designers,Banking, Insurance &amp; Financial Services,Beauty, Fashion &amp; Jewellery Designers,Business Owner / Entrepreneur,Civil Services / Law Enforcement,Construction,Export/ Import,Finance and Accounts,Government Employee,Health Care,Hotels/ Restaurants,Human Resource,Real Estate,Sales/ Business Development,Science,Telecom/ ISP,Travel/ Airlines',\n",
        "       'Retail Chains',\n",
        "       'Government Employee,Manufacturing/ Engineering/ R&D;,Merchant Navy,Oil &amp; Gas',\n",
        "       'Admin/Secretarial,Advertising/ Entertainment/ Media,Banking, Insurance &amp; Financial Services,Civil Services / Law Enforcement,Education/ Training,Finance and Accounts,Hotels/ Restaurants,Human Resource,Marketing and Communications,Sales/ Business Development,Travel/ Airlines',\n",
        "       'Civil Services / Law Enforcement,Defence,Government Employee,Manufacturing/ Engineering/ R&D;,Science',\n",
        "       'Banking, Insurance &amp; Financial Services,Business Owner / Entrepreneur,Government Employee',\n",
        "       'Architecture &amp; Design,Banking, Insurance &amp; Financial Services,Defence,Electronics',\n",
        "       'Business Owner / Entrepreneur,Civil Services / Law Enforcement,Construction,Electronics,Export/ Import,Finance and Accounts,Health Care,Hotels/ Restaurants,Human Resource,Legal,Management / Corporate Professionals,Sales/ Business Development',\n",
        "       'Admin/Secretarial,Architecture &amp; Design,Banking, Insurance &amp; Financial Services,Business Owner / Entrepreneur,Defence,Electronics,Finance and Accounts,Government Employee,Health Care,Human Resource,IT,Management / Corporate Professionals,Manufacturing/ Engineering/ R&D;,Merchant Navy,Telecom/ ISP',\n",
        "       'Defence,Merchant Navy',\n",
        "       'Government Employee,Manufacturing/ Engineering/ R&D;',\n",
        "       'Admin/Secretarial,Advertising/ Entertainment/ Media,Architecture &amp; Design,Banking, Insurance &amp; Financial Services,Civil Services / Law Enforcement,Construction,Defence,Education/ Training,Electronics,Finance and Accounts,Government Employee,Hotels/ Restaurants,Human Resource,IT,Management / Corporate Professionals,Manufacturing/ Engineering/ R&D;,Merchant Navy,Oil &amp; Gas',\n",
        "       'Admin/Secretarial,Banking, Insurance &amp; Financial Services,Civil Services / Law Enforcement,Defence,Government Employee,Health Care,Human Resource,IT,Management / Corporate Professionals,Manufacturing/ Engineering/ R&D;,Marketing and Communications,Pharmaceutical/ Biotechnology',\n",
        "       'Civil Services / Law Enforcement',\n",
        "       'Education/ Training,IT,Marketing and Communications',\n",
        "       'Admin/Secretarial,Advertising/ Entertainment/ Media,Banking, Insurance &amp; Financial Services,IT',\n",
        "       'Admin/Secretarial,Advertising/ Entertainment/ Media,Agriculture,Architecture &amp; Design,Banking, Insurance &amp; Financial Services,Business Owner / Entrepreneur,Civil Services / Law Enforcement,Construction,Customer Service/ Call Centre/BPO,Defence,Education/ Training,Export/ Import,Finance and Accounts,Government Employee,Health Care,Hotels/ Restaurants,Human Resource,IT,Legal,Loss Prevention Manager,Management / Corporate Professionals,Manufacturing/ Engineering/ R&D;,Marketing and Communications,Merchant Navy,Oil &amp; Gas,Pharmaceutical/ Biotechnology,Sales/ Business Development,Science,Telecom/ ISP,Travel/ Airlines',\n",
        "       'Banking, Insurance &amp; Financial Services,Finance and Accounts,Government Employee,Management / Corporate Professionals',\n",
        "       'Admin/Secretarial,Advertising/ Entertainment/ Media,Architecture &amp; Design,Artists, Animators &amp; Web Designers,Banking, Insurance &amp; Financial Services,Beauty, Fashion &amp; Jewellery Designers,Business Owner / Entrepreneur,Export/ Import,Finance and Accounts,Government Employee,Human Resource,IT,Management / Corporate Professionals,Manufacturing/ Engineering/ R&D;,Marketing and Communications,Merchant Navy,Pharmaceutical/ Biotechnology,Sales/ Business Development,Travel/ Airlines',\n",
        "       'Banking, Insurance &amp; Financial Services,Business Owner / Entrepreneur,Civil Services / Law Enforcement,Defence,Education/ Training,Government Employee,Legal,Manufacturing/ Engineering/ R&D;,Sales/ Business Development',\n",
        "       'Government Employee,Health Care',\n",
        "       'Admin/Secretarial,Advertising/ Entertainment/ Media,Architecture &amp; Design,Artists, Animators &amp; Web Designers,Banking, Insurance &amp; Financial Services,Business Owner / Entrepreneur,Civil Services / Law Enforcement,Construction,Defence,Education/ Training,Electronics,Export/ Import,Finance and Accounts,Government Employee,Health Care,Hotels/ Restaurants,Human Resource,IT,Legal,Loss Prevention Manager,Management / Corporate Professionals,Manufacturing/ Engineering/ R&D;,Marketing and Communications,Merchant Navy,Oil &amp; Gas,Pharmaceutical/ Biotechnology,Sales/ Business Development,Science,Telecom/ ISP',\n",
        "       'Advertising/ Entertainment/ Media,Architecture &amp; Design,Artists, Animators &amp; Web Designers,Banking, Insurance &amp; Financial Services,Business Owner / Entrepreneur,Civil Services / Law Enforcement,Construction,Defence,Education/ Training,Export/ Import,Finance and Accounts,Government Employee,Health Care,Human Resource,IT,Legal,Management / Corporate Professionals,Manufacturing/ Engineering/ R&D;,Marketing and Communications,Merchant Navy,Oil &amp; Gas,Pharmaceutical/ Biotechnology,Purchase/ Logistics/ Supply chain,Science,Telecom/ ISP,Travel/ Airlines',\n",
        "       'Admin/Secretarial,Architecture &amp; Design,Artists, Animators &amp; Web Designers,Banking, Insurance &amp; Financial Services,Beauty, Fashion &amp; Jewellery Designers,Civil Services / Law Enforcement,Government Employee,IT',\n",
        "       'Architecture &amp; Design,Banking, Insurance &amp; Financial Services,Business Owner / Entrepreneur,Construction,Finance and Accounts,Hotels/ Restaurants,Human Resource,IT,Management / Corporate Professionals,Manufacturing/ Engineering/ R&D;,Marketing and Communications,Purchase/ Logistics/ Supply chain,Retail Chains,Sales/ Business Development',\n",
        "       'Admin/Secretarial,Banking, Insurance &amp; Financial Services,Business Owner / Entrepreneur,Human Resource,Management / Corporate Professionals,Manufacturing/ Engineering/ R&D;,Sales/ Business Development,Travel/ Airlines',\n",
        "       'Business Owner / Entrepreneur,Finance and Accounts,Government Employee,IT,Manufacturing/ Engineering/ R&D;',\n",
        "       'Banking, Insurance &amp; Financial Services,Civil Services / Law Enforcement,Electronics,Finance and Accounts,Human Resource,IT,Management / Corporate Professionals,Manufacturing/ Engineering/ R&D;,Marketing and Communications,Oil &amp; Gas,Pharmaceutical/ Biotechnology,Science',\n",
        "       'Business Owner / Entrepreneur,Civil Services / Law Enforcement,Government Employee',\n",
        "       'Advertising/ Entertainment/ Media,Architecture &amp; Design,Banking, Insurance &amp; Financial Services,Business Owner / Entrepreneur,Civil Services / Law Enforcement,Construction,Electronics,Export/ Import,Finance and Accounts,Hotels/ Restaurants,Human Resource,IT,Legal,Management / Corporate Professionals,Manufacturing/ Engineering/ R&D;,Marketing and Communications,Pharmaceutical/ Biotechnology,Purchase/ Logistics/ Supply chain,Retail Chains,Sales/ Business Development,Science,Telecom/ ISP,Travel/ Airlines',\n",
        "       'Admin/Secretarial,Advertising/ Entertainment/ Media,Banking, Insurance &amp; Financial Services,Business Owner / Entrepreneur,Civil Services / Law Enforcement,Construction,Customer Service/ Call Centre/BPO,Defence,Education/ Training,Electronics,Export/ Import,Finance and Accounts,Health Care,Hotels/ Restaurants,Human Resource,IT,Legal,Loss Prevention Manager,Management / Corporate Professionals,Manufacturing/ Engineering/ R&D;,Marketing and Communications,Merchant Navy,Oil &amp; Gas,Pharmaceutical/ Biotechnology,Purchase/ Logistics/ Supply chain,Real Estate,Retail Chains,Sales/ Business Development,Science,Telecom/ ISP,Travel/ Airlines',\n",
        "       'Advertising/ Entertainment/ Media,Business Owner / Entrepreneur,Civil Services / Law Enforcement',\n",
        "       'Management / Corporate Professionals,Manufacturing/ Engineering/ R&D;',\n",
        "       'Architecture &amp; Design,Artists, Animators &amp; Web Designers,Banking, Insurance &amp; Financial Services,Beauty, Fashion &amp; Jewellery Designers,Business Owner / Entrepreneur,Export/ Import,Finance and Accounts,Health Care,Hotels/ Restaurants,Human Resource,IT,Legal,Loss Prevention Manager,Management / Corporate Professionals,Manufacturing/ Engineering/ R&D;,Marketing and Communications,Oil &amp; Gas,Others,Pharmaceutical/ Biotechnology,Purchase/ Logistics/ Supply chain,Sales/ Business Development,Science',\n",
        "       'Civil Services / Law Enforcement,Defence,Health Care',\n",
        "       'Banking, Insurance &amp; Financial Services,Finance and Accounts,IT,Management / Corporate Professionals,Manufacturing/ Engineering/ R&D;',\n",
        "       'Admin/Secretarial,Civil Services / Law Enforcement,Electronics,Government Employee,Human Resource,IT,Management / Corporate Professionals',\n",
        "       'Human Resource,Management / Corporate Professionals',\n",
        "       'Admin/Secretarial,Electronics,Government Employee,IT',\n",
        "       'Government Employee,Human Resource,IT,Manufacturing/ Engineering/ R&D;,Merchant Navy',\n",
        "       'Admin/Secretarial,Advertising/ Entertainment/ Media,Architecture &amp; Design,Artists, Animators &amp; Web Designers,Banking, Insurance &amp; Financial Services,Beauty, Fashion &amp; Jewellery Designers,Business Owner / Entrepreneur,Finance and Accounts,Hotels/ Restaurants,IT,Manufacturing/ Engineering/ R&D;,Marketing and Communications,Merchant Navy',\n",
        "       'Merchant Navy',\n",
        "       'Banking, Insurance &amp; Financial Services,Civil Services / Law Enforcement,Finance and Accounts,Government Employee,Human Resource,IT,Management / Corporate Professionals,Manufacturing/ Engineering/ R&D;,Oil &amp; Gas',\n",
        "       'Banking, Insurance &amp; Financial Services,Business Owner / Entrepreneur,Finance and Accounts,IT,Management / Corporate Professionals,Manufacturing/ Engineering/ R&D;,Telecom/ ISP',\n",
        "       'Business Owner / Entrepreneur,IT,Management / Corporate Professionals,Manufacturing/ Engineering/ R&D;',\n",
        "       'Construction,Government Employee,Health Care,IT,Management / Corporate Professionals,Manufacturing/ Engineering/ R&D;,Merchant Navy,Oil &amp; Gas',\n",
        "       'Agriculture,Architecture &amp; Design,Banking, Insurance &amp; Financial Services,Business Owner / Entrepreneur,Finance and Accounts,Government Employee,IT,Management / Corporate Professionals,Marketing and Communications,Pharmaceutical/ Biotechnology,Sales/ Business Development',\n",
        "       'Banking, Insurance &amp; Financial Services,Business Owner / Entrepreneur,Defence,Electronics,Government Employee,IT,Management / Corporate Professionals',\n",
        "       'Advertising/ Entertainment/ Media,Architecture &amp; Design,Banking, Insurance &amp; Financial Services,Defence,Export/ Import,Finance and Accounts,Government Employee,Human Resource,IT,Management / Corporate Professionals,Manufacturing/ Engineering/ R&D;,Merchant Navy,Oil &amp; Gas,Purchase/ Logistics/ Supply chain,Sales/ Business Development',\n",
        "       'Banking, Insurance &amp; Financial Services,Finance and Accounts,Management / Corporate Professionals,Manufacturing/ Engineering/ R&D;,Marketing and Communications,Pharmaceutical/ Biotechnology',\n",
        "       'Admin/Secretarial,Advertising/ Entertainment/ Media,Banking, Insurance &amp; Financial Services,Business Owner / Entrepreneur,Civil Services / Law Enforcement,Education/ Training,Electronics,Government Employee,Health Care,Hotels/ Restaurants,Human Resource,IT,Legal,Merchant Navy,Sales/ Business Development,Science,Telecom/ ISP',\n",
        "       'Advertising/ Entertainment/ Media,Architecture &amp; Design,Artists, Animators &amp; Web Designers,Banking, Insurance &amp; Financial Services,Business Owner / Entrepreneur,Civil Services / Law Enforcement,Construction,Defence,Electronics,Government Employee,Health Care,Hotels/ Restaurants,IT,Management / Corporate Professionals,Marketing and Communications,Merchant Navy,Science,Telecom/ ISP,Travel/ Airlines',\n",
        "       'Advertising/ Entertainment/ Media,Architecture &amp; Design,Artists, Animators &amp; Web Designers,Banking, Insurance &amp; Financial Services,Beauty, Fashion &amp; Jewellery Designers,Business Owner / Entrepreneur,Civil Services / Law Enforcement,Construction,Defence,Education/ Training,Electronics,Export/ Import,Finance and Accounts,Government Employee,Health Care,Hotels/ Restaurants,IT,Legal,Management / Corporate Professionals,Manufacturing/ Engineering/ R&D;,Marketing and Communications,Merchant Navy,Oil &amp; Gas,Pharmaceutical/ Biotechnology,Retail Chains,Sales/ Business Development,Science,Telecom/ ISP,Travel/ Airlines',\n",
        "       'Admin/Secretarial,Advertising/ Entertainment/ Media,Agriculture,Banking, Insurance &amp; Financial Services,Construction,Education/ Training,Export/ Import,Finance and Accounts,Government Employee,Health Care,Human Resource,IT,Management / Corporate Professionals,Manufacturing/ Engineering/ R&D;,Merchant Navy,Oil &amp; Gas,Pharmaceutical/ Biotechnology,Science,Travel/ Airlines',\n",
        "       'Admin/Secretarial,Advertising/ Entertainment/ Media,Architecture &amp; Design,Artists, Animators &amp; Web Designers,Banking, Insurance &amp; Financial Services,Beauty, Fashion &amp; Jewellery Designers,Business Owner / Entrepreneur,Civil Services / Law Enforcement,Construction,Customer Service/ Call Centre/BPO,Defence,Education/ Training,Export/ Import,Finance and Accounts,Government Employee,Health Care,Hotels/ Restaurants,Human Resource,IT,Legal,Loss Prevention Manager,Management / Corporate Professionals,Manufacturing/ Engineering/ R&D;,Marketing and Communications,Merchant Navy,Retail Chains,Sales/ Business Development,Travel/ Airlines',\n",
        "       'Banking, Insurance &amp; Financial Services,IT,Telecom/ ISP',\n",
        "       'Human Resource,Manufacturing/ Engineering/ R&D;',\n",
        "       'Admin/Secretarial,Architecture &amp; Design,Artists, Animators &amp; Web Designers,Banking, Insurance &amp; Financial Services,Export/ Import,Finance and Accounts,Human Resource,Manufacturing/ Engineering/ R&D;,Travel/ Airlines',\n",
        "       'Admin/Secretarial,Advertising/ Entertainment/ Media,Agriculture,Architecture &amp; Design,Artists, Animators &amp; Web Designers,Banking, Insurance &amp; Financial Services,Business Owner / Entrepreneur,Civil Services / Law Enforcement',\n",
        "       'Business Owner / Entrepreneur,Civil Services / Law Enforcement',\n",
        "       'Construction,Finance and Accounts',\n",
        "       'Admin/Secretarial,Architecture &amp; Design,Banking, Insurance &amp; Financial Services,Education/ Training,Export/ Import,Government Employee,Human Resource,Management / Corporate Professionals,Manufacturing/ Engineering/ R&D;,Oil &amp; Gas,Pharmaceutical/ Biotechnology,Purchase/ Logistics/ Supply chain,Retail Chains,Telecom/ ISP',\n",
        "       'Architecture &amp; Design,Business Owner / Entrepreneur',\n",
        "       'Advertising/ Entertainment/ Media,Business Owner / Entrepreneur,Civil Services / Law Enforcement,Defence,Electronics,IT,Management / Corporate Professionals,Manufacturing/ Engineering/ R&D;,Marketing and Communications,Merchant Navy,Sales/ Business Development,Travel/ Airlines',\n",
        "       'Banking, Insurance &amp; Financial Services,Construction,IT,Management / Corporate Professionals,Manufacturing/ Engineering/ R&D;,Sales/ Business Development',\n",
        "       'Admin/Secretarial,Advertising/ Entertainment/ Media,Agriculture,Architecture &amp; Design,Artists, Animators &amp; Web Designers,Banking, Insurance &amp; Financial Services,Beauty, Fashion &amp; Jewellery Designers,Business Owner / Entrepreneur,Civil Services / Law Enforcement,Construction,Customer Service/ Call Centre/BPO,Defence,Education/ Training,Electronics,Export/ Import,Finance and Accounts,Government Employee,Health Care,Hotels/ Restaurants,Human Resource,IT,Legal,Loss Prevention Manager,Management / Corporate Professionals,Manufacturing/ Engineering/ R&D;,Marketing and Communications,Merchant Navy,Oil &amp; Gas,Others,Pharmaceutical/ Biotechnology,Purchase/ Logistics/ Supply chain,Real Estate,Retail Chains,Sales/ Business Development,Science,Telecom/ ISP,Travel/ Airlines',\n",
        "       'Banking, Insurance &amp; Financial Services,Business Owner / Entrepreneur,Civil Services / Law Enforcement,Education/ Training,Export/ Import,Finance and Accounts,Human Resource,IT',\n",
        "       'Defence,Manufacturing/ Engineering/ R&D;,Merchant Navy',\n",
        "       'Admin/Secretarial,Banking, Insurance &amp; Financial Services,Civil Services / Law Enforcement,Defence,Electronics,Finance and Accounts,Human Resource,IT,Legal,Management / Corporate Professionals,Manufacturing/ Engineering/ R&D;,Merchant Navy',\n",
        "       'Others,Others',\n",
        "       'Artists, Animators &amp; Web Designers,Banking, Insurance &amp; Financial Services,Business Owner / Entrepreneur,Electronics,Finance and Accounts,Human Resource,IT,Management / Corporate Professionals,Marketing and Communications,Merchant Navy',\n",
        "       'Admin/Secretarial,Banking, Insurance &amp; Financial Services,Business Owner / Entrepreneur,Civil Services / Law Enforcement,Construction,Education/ Training,Finance and Accounts,Government Employee,Health Care,Human Resource,IT,Management / Corporate Professionals,Manufacturing/ Engineering/ R&D;,Marketing and Communications,Telecom/ ISP',\n",
        "       'Admin/Secretarial,Business Owner / Entrepreneur,Civil Services / Law Enforcement,Construction',\n",
        "       'Finance and Accounts,Marketing and Communications',\n",
        "       'Admin/Secretarial,Banking, Insurance &amp; Financial Services,Finance and Accounts,Government Employee,Human Resource,IT,Management / Corporate Professionals,Oil &amp; Gas,Pharmaceutical/ Biotechnology,Science,Telecom/ ISP',\n",
        "       'Banking, Insurance &amp; Financial Services,Business Owner / Entrepreneur,Finance and Accounts,IT',\n",
        "       'Management / Corporate Professionals,Merchant Navy',\n",
        "       'Architecture &amp; Design,Banking, Insurance &amp; Financial Services,Business Owner / Entrepreneur,Finance and Accounts,Health Care,Hotels/ Restaurants,Human Resource,IT,Legal,Management / Corporate Professionals',\n",
        "       'Admin/Secretarial,Business Owner / Entrepreneur,Civil Services / Law Enforcement,Education/ Training,Electronics,Health Care,Management / Corporate Professionals,Marketing and Communications,Others,Sales/ Business Development,Science',\n",
        "       'IT,Merchant Navy,Travel/ Airlines',\n",
        "       'Banking, Insurance &amp; Financial Services,IT,Management / Corporate Professionals',\n",
        "       'Admin/Secretarial,Advertising/ Entertainment/ Media,Agriculture,Architecture &amp; Design,Banking, Insurance &amp; Financial Services,Business Owner / Entrepreneur,Civil Services / Law Enforcement,Customer Service/ Call Centre/BPO,Defence,Education/ Training,Electronics,Finance and Accounts,Government Employee,Human Resource,IT,Legal,Management / Corporate Professionals,Merchant Navy,Purchase/ Logistics/ Supply chain,Retail Chains,Sales/ Business Development,Telecom/ ISP,Travel/ Airlines',\n",
        "       'Advertising/ Entertainment/ Media,Architecture &amp; Design,Banking, Insurance &amp; Financial Services,Customer Service/ Call Centre/BPO,Defence,Finance and Accounts,Government Employee,Human Resource,IT,Management / Corporate Professionals,Merchant Navy,Oil &amp; Gas,Pharmaceutical/ Biotechnology,Real Estate,Science',\n",
        "       'Banking, Insurance &amp; Financial Services,Business Owner / Entrepreneur,Construction,Customer Service/ Call Centre/BPO,Education/ Training',\n",
        "       'Civil Services / Law Enforcement,Health Care',\n",
        "       'IT,Pharmaceutical/ Biotechnology',\n",
        "       'Business Owner / Entrepreneur,Others',\n",
        "       'Admin/Secretarial,Advertising/ Entertainment/ Media,Banking, Insurance &amp; Financial Services,Business Owner / Entrepreneur,Civil Services / Law Enforcement,Construction,Defence,Education/ Training,Export/ Import,Finance and Accounts,Government Employee,Health Care,Hotels/ Restaurants,Human Resource,IT,Legal,Loss Prevention Manager,Management / Corporate Professionals,Manufacturing/ Engineering/ R&D;,Marketing and Communications,Merchant Navy,Non Working,Oil &amp; Gas,Others,Pharmaceutical/ Biotechnology,Purchase/ Logistics/ Supply chain,Real Estate,Sales/ Business Development,Science,Telecom/ ISP',\n",
        "       'IT,Manufacturing/ Engineering/ R&D;',\n",
        "       'Admin/Secretarial,Construction,Finance and Accounts',\n",
        "       'Education/ Training,Export/ Import,Government Employee,Science',\n",
        "       'Health Care,Manufacturing/ Engineering/ R&D;',\n",
        "       'Admin/Secretarial,Advertising/ Entertainment/ Media,Architecture &amp; Design,Banking, Insurance &amp; Financial Services,Business Owner / Entrepreneur,Electronics,Export/ Import,Finance and Accounts,Government Employee,Health Care,Human Resource,IT,Management / Corporate Professionals,Manufacturing/ Engineering/ R&D;,Marketing and Communications,Merchant Navy,Oil &amp; Gas,Pharmaceutical/ Biotechnology,Real Estate,Sales/ Business Development,Science',\n",
        "       'Civil Services / Law Enforcement,Defence,Government Employee,Science',\n",
        "       'Banking, Insurance &amp; Financial Services,Construction,Finance and Accounts,Government Employee',\n",
        "       'Government Employee,Human Resource,IT,Management / Corporate Professionals,Manufacturing/ Engineering/ R&D;,Oil &amp; Gas',\n",
        "       'Advertising/ Entertainment/ Media,Architecture &amp; Design,Artists, Animators &amp; Web Designers,Banking, Insurance &amp; Financial Services,Civil Services / Law Enforcement,Export/ Import,Finance and Accounts,Human Resource,IT,Management / Corporate Professionals,Manufacturing/ Engineering/ R&D;,Telecom/ ISP,Travel/ Airlines',\n",
        "       'IT,Sales/ Business Development',\n",
        "       'Finance and Accounts,IT,Management / Corporate Professionals,Manufacturing/ Engineering/ R&D;',\n",
        "       'Civil Services / Law Enforcement,Defence',\n",
        "       'Admin/Secretarial,Construction,Government Employee,IT,Management / Corporate Professionals,Manufacturing/ Engineering/ R&D;,Real Estate',\n",
        "       'Beauty, Fashion &amp; Jewellery Designers,Health Care',\n",
        "       'Advertising/ Entertainment/ Media,Architecture &amp; Design,Artists, Animators &amp; Web Designers,Banking, Insurance &amp; Financial Services,Beauty, Fashion &amp; Jewellery Designers,Business Owner / Entrepreneur,Civil Services / Law Enforcement,Construction,Export/ Import,Hotels/ Restaurants,IT,Management / Corporate Professionals,Manufacturing/ Engineering/ R&D;,Purchase/ Logistics/ Supply chain,Real Estate,Retail Chains,Sales/ Business Development,Travel/ Airlines',\n",
        "       'Education/ Training,IT',\n",
        "       'Architecture &amp; Design,Artists, Animators &amp; Web Designers,Banking, Insurance &amp; Financial Services,Business Owner / Entrepreneur,Human Resource,IT,Management / Corporate Professionals,Manufacturing/ Engineering/ R&D;,Marketing and Communications,Pharmaceutical/ Biotechnology',\n",
        "       'Artists, Animators &amp; Web Designers,Banking, Insurance &amp; Financial Services,Business Owner / Entrepreneur,Civil Services / Law Enforcement,Education/ Training,Government Employee,Human Resource,Manufacturing/ Engineering/ R&D;,Marketing and Communications',\n",
        "       'Finance and Accounts,Government Employee,Health Care,IT,Management / Corporate Professionals,Manufacturing/ Engineering/ R&D;,Pharmaceutical/ Biotechnology,Science',\n",
        "       'Admin/Secretarial,Advertising/ Entertainment/ Media,Agriculture,Architecture &amp; Design,Artists, Animators &amp; Web Designers,Banking, Insurance &amp; Financial Services,Beauty, Fashion &amp; Jewellery Designers,Civil Services / Law Enforcement,Construction,Customer Service/ Call Centre/BPO,Defence,Education/ Training,Electronics,Export/ Import,Finance and Accounts,Government Employee,Health Care,Hotels/ Restaurants,Human Resource,IT,Legal,Loss Prevention Manager,Management / Corporate Professionals,Manufacturing/ Engineering/ R&D;,Marketing and Communications,Merchant Navy,Non Working,Oil &amp; Gas,Others,Pharmaceutical/ Biotechnology,Purchase/ Logistics/ Supply chain,Real Estate,Retail Chains,Science,Telecom/ ISP,Travel/ Airlines',\n",
        "       'Banking, Insurance &amp; Financial Services,IT',\n",
        "       'Banking, Insurance &amp; Financial Services,Finance and Accounts,Government Employee,IT,Legal',\n",
        "       'Civil Services / Law Enforcement,IT',\n",
        "       'Business Owner / Entrepreneur,Civil Services / Law Enforcement,Merchant Navy',\n",
        "       'Banking, Insurance &amp; Financial Services,Business Owner / Entrepreneur,Civil Services / Law Enforcement,Finance and Accounts,Government Employee,Health Care,IT,Legal,Management / Corporate Professionals,Manufacturing/ Engineering/ R&D;,Oil &amp; Gas,Purchase/ Logistics/ Supply chain,Real Estate,Telecom/ ISP',\n",
        "       'Banking, Insurance &amp; Financial Services,Finance and Accounts,IT,Science',\n",
        "       'Banking, Insurance &amp; Financial Services,Business Owner / Entrepreneur,Defence,Finance and Accounts,Human Resource,IT,Management / Corporate Professionals,Marketing and Communications,Merchant Navy,Sales/ Business Development',\n",
        "       'Agriculture,Banking, Insurance &amp; Financial Services,Business Owner / Entrepreneur',\n",
        "       'Admin/Secretarial,Banking, Insurance &amp; Financial Services,Human Resource,IT,Legal,Management / Corporate Professionals',\n",
        "       'Government Employee,Management / Corporate Professionals,Others',\n",
        "       'Architecture &amp; Design,Science',\n",
        "       'Architecture &amp; Design,Artists, Animators &amp; Web Designers,Banking, Insurance &amp; Financial Services,Beauty, Fashion &amp; Jewellery Designers,Business Owner / Entrepreneur',\n",
        "       'Admin/Secretarial,Education/ Training,IT',\n",
        "       'Banking, Insurance &amp; Financial Services,Government Employee',\n",
        "       'Agriculture,Architecture &amp; Design,Banking, Insurance &amp; Financial Services,Beauty, Fashion &amp; Jewellery Designers,Business Owner / Entrepreneur,Construction,Customer Service/ Call Centre/BPO,Defence,Finance and Accounts,Hotels/ Restaurants,IT,Oil &amp; Gas,Others',\n",
        "       'Admin/Secretarial,Business Owner / Entrepreneur,Civil Services / Law Enforcement,Electronics,Human Resource,IT,Management / Corporate Professionals,Manufacturing/ Engineering/ R&D;,Oil &amp; Gas,Pharmaceutical/ Biotechnology,Science',\n",
        "       'Architecture &amp; Design,Banking, Insurance &amp; Financial Services,Business Owner / Entrepreneur,Civil Services / Law Enforcement',\n",
        "       'Admin/Secretarial,Banking, Insurance &amp; Financial Services',\n",
        "       'Admin/Secretarial,Agriculture,Civil Services / Law Enforcement,Management / Corporate Professionals',\n",
        "       'Architecture &amp; Design,Artists, Animators &amp; Web Designers,Banking, Insurance &amp; Financial Services,Business Owner / Entrepreneur,Civil Services / Law Enforcement,Construction,Defence,Education/ Training,Finance and Accounts,Government Employee,Health Care,Hotels/ Restaurants,Human Resource,IT,Legal,Manufacturing/ Engineering/ R&D;,Marketing and Communications,Merchant Navy,Oil &amp; Gas,Real Estate,Sales/ Business Development,Telecom/ ISP',\n",
        "       'Advertising/ Entertainment/ Media,Agriculture,Artists, Animators &amp; Web Designers,Banking, Insurance &amp; Financial Services,Beauty, Fashion &amp; Jewellery Designers,Education/ Training,Government Employee,Health Care,Non Working,Science',\n",
        "       'Admin/Secretarial,Advertising/ Entertainment/ Media,Banking, Insurance &amp; Financial Services,Government Employee,Health Care,Human Resource,Pharmaceutical/ Biotechnology',\n",
        "       'Admin/Secretarial,Banking, Insurance &amp; Financial Services,Human Resource,IT,Manufacturing/ Engineering/ R&D;,Travel/ Airlines',\n",
        "       'Admin/Secretarial,Advertising/ Entertainment/ Media,Architecture &amp; Design,Artists, Animators &amp; Web Designers,Banking, Insurance &amp; Financial Services,Beauty, Fashion &amp; Jewellery Designers,Electronics,Government Employee,Health Care,Human Resource,IT,Loss Prevention Manager,Management / Corporate Professionals,Manufacturing/ Engineering/ R&D;,Pharmaceutical/ Biotechnology,Science',\n",
        "       'Admin/Secretarial,Advertising/ Entertainment/ Media,Architecture &amp; Design,Banking, Insurance &amp; Financial Services,Business Owner / Entrepreneur,Civil Services / Law Enforcement,Construction,Education/ Training,Health Care,Human Resource,Pharmaceutical/ Biotechnology',\n",
        "       'Admin/Secretarial,Advertising/ Entertainment/ Media,Banking, Insurance &amp; Financial Services,Business Owner / Entrepreneur,Civil Services / Law Enforcement,Defence,Education/ Training,Electronics,Finance and Accounts,Government Employee,Health Care,Human Resource,IT,Management / Corporate Professionals,Manufacturing/ Engineering/ R&D;,Marketing and Communications,Oil &amp; Gas,Pharmaceutical/ Biotechnology,Purchase/ Logistics/ Supply chain,Real Estate,Retail Chains,Sales/ Business Development,Science,Telecom/ ISP,Travel/ Airlines',\n",
        "       'Education/ Training,IT,Manufacturing/ Engineering/ R&D;',\n",
        "       'Business Owner / Entrepreneur,Health Care,Non Working,Pharmaceutical/ Biotechnology',\n",
        "       'Admin/Secretarial,Banking, Insurance &amp; Financial Services,Finance and Accounts,Human Resource,IT,Management / Corporate Professionals,Manufacturing/ Engineering/ R&D;,Science',\n",
        "       'Admin/Secretarial,Banking, Insurance &amp; Financial Services,Beauty, Fashion &amp; Jewellery Designers,Education/ Training,Finance and Accounts,Government Employee',\n",
        "       'Admin/Secretarial,Banking, Insurance &amp; Financial Services,Others',\n",
        "       'Loss Prevention Manager',\n",
        "       'Admin/Secretarial,Banking, Insurance &amp; Financial Services,Business Owner / Entrepreneur,Government Employee,IT,Travel/ Airlines',\n",
        "       'Admin/Secretarial,Artists, Animators &amp; Web Designers,Banking, Insurance &amp; Financial Services,Beauty, Fashion &amp; Jewellery Designers,Education/ Training',\n",
        "       'Admin/Secretarial,Advertising/ Entertainment/ Media,Agriculture,Architecture &amp; Design,Banking, Insurance &amp; Financial Services,Construction,Education/ Training,Electronics,Export/ Import,Finance and Accounts,Government Employee,Health Care,Human Resource,IT,Legal,Loss Prevention Manager,Management / Corporate Professionals,Manufacturing/ Engineering/ R&D;,Marketing and Communications,Oil &amp; Gas,Others,Pharmaceutical/ Biotechnology,Purchase/ Logistics/ Supply chain,Real Estate,Retail Chains,Science,Telecom/ ISP,Travel/ Airlines',\n",
        "       'IT,Others,Pharmaceutical/ Biotechnology', 'Electronics,IT,Science',\n",
        "       'Business Owner / Entrepreneur,Construction,Education/ Training,Electronics,Finance and Accounts,Health Care,IT,Management / Corporate Professionals,Manufacturing/ Engineering/ R&D;,Marketing and Communications,Non Working,Purchase/ Logistics/ Supply chain',\n",
        "       'Admin/Secretarial,Civil Services / Law Enforcement,Management / Corporate Professionals,Science',\n",
        "       'Banking, Insurance &amp; Financial Services,Business Owner / Entrepreneur,Construction,Electronics,Human Resource,IT,Management / Corporate Professionals,Manufacturing/ Engineering/ R&D;,Oil &amp; Gas,Science,Telecom/ ISP',\n",
        "       'Architecture &amp; Design,Banking, Insurance &amp; Financial Services,Business Owner / Entrepreneur,Human Resource,IT,Management / Corporate Professionals,Manufacturing/ Engineering/ R&D;,Marketing and Communications',\n",
        "       'Banking, Insurance &amp; Financial Services,Education/ Training,Human Resource,Management / Corporate Professionals',\n",
        "       'Banking, Insurance &amp; Financial Services,Government Employee,Human Resource,IT',\n",
        "       'Admin/Secretarial,Architecture &amp; Design,Banking, Insurance &amp; Financial Services,Business Owner / Entrepreneur,Government Employee,Health Care,Management / Corporate Professionals,Manufacturing/ Engineering/ R&D;,Marketing and Communications,Sales/ Business Development',\n",
        "       'Advertising/ Entertainment/ Media,Architecture &amp; Design,Artists, Animators &amp; Web Designers,Banking, Insurance &amp; Financial Services,Beauty, Fashion &amp; Jewellery Designers,Finance and Accounts,Human Resource,IT,Manufacturing/ Engineering/ R&D;,Pharmaceutical/ Biotechnology',\n",
        "       'Agriculture,Architecture &amp; Design,Banking, Insurance &amp; Financial Services,Business Owner / Entrepreneur,Civil Services / Law Enforcement,Construction,Defence,Education/ Training,Electronics,Export/ Import,Finance and Accounts,Government Employee,Health Care,Human Resource,IT,Management / Corporate Professionals,Manufacturing/ Engineering/ R&D;,Marketing and Communications,Oil &amp; Gas,Others,Pharmaceutical/ Biotechnology,Purchase/ Logistics/ Supply chain,Sales/ Business Development,Science,Telecom/ ISP,Travel/ Airlines',\n",
        "       'Architecture &amp; Design,Artists, Animators &amp; Web Designers,Banking, Insurance &amp; Financial Services,Beauty, Fashion &amp; Jewellery Designers,Education/ Training,Finance and Accounts,Government Employee,Health Care,Human Resource,IT,Legal,Sales/ Business Development,Travel/ Airlines',\n",
        "       'Education/ Training,Electronics,Government Employee,Health Care,Human Resource,Manufacturing/ Engineering/ R&D;,Science',\n",
        "       'Admin/Secretarial,Advertising/ Entertainment/ Media,Architecture &amp; Design,Banking, Insurance &amp; Financial Services,Business Owner / Entrepreneur,Education/ Training,Electronics,Finance and Accounts,Government Employee,Health Care,Human Resource,IT,Pharmaceutical/ Biotechnology,Purchase/ Logistics/ Supply chain,Real Estate,Sales/ Business Development,Telecom/ ISP,Travel/ Airlines',\n",
        "       'Admin/Secretarial,Architecture &amp; Design,Banking, Insurance &amp; Financial Services,Civil Services / Law Enforcement,Education/ Training,Electronics,Finance and Accounts,Government Employee,IT,Manufacturing/ Engineering/ R&D;',\n",
        "       'Admin/Secretarial,Advertising/ Entertainment/ Media,Architecture &amp; Design,Artists, Animators &amp; Web Designers,Banking, Insurance &amp; Financial Services,Beauty, Fashion &amp; Jewellery Designers,Business Owner / Entrepreneur,Civil Services / Law Enforcement,Construction,Customer Service/ Call Centre/BPO,Defence,Education/ Training,Electronics,Export/ Import,Finance and Accounts,Government Employee,Health Care,Hotels/ Restaurants,Human Resource,IT,Legal,Loss Prevention Manager,Management / Corporate Professionals,Manufacturing/ Engineering/ R&D;,Marketing and Communications,Merchant Navy,Oil &amp; Gas,Pharmaceutical/ Biotechnology,Purchase/ Logistics/ Supply chain,Real Estate,Retail Chains,Sales/ Business Development,Science,Telecom/ ISP,Travel/ Airlines',\n",
        "       'Artists, Animators &amp; Web Designers,Banking, Insurance &amp; Financial Services,Business Owner / Entrepreneur,Human Resource,IT,Legal,Management / Corporate Professionals,Manufacturing/ Engineering/ R&D;,Marketing and Communications,Non Working,Others,Sales/ Business Development',\n",
        "       'Admin/Secretarial,Architecture &amp; Design,Electronics,Human Resource,Manufacturing/ Engineering/ R&D;,Purchase/ Logistics/ Supply chain',\n",
        "       'Admin/Secretarial,Banking, Insurance &amp; Financial Services,Education/ Training',\n",
        "       'Admin/Secretarial,Banking, Insurance &amp; Financial Services,Beauty, Fashion &amp; Jewellery Designers,Customer Service/ Call Centre/BPO,Finance and Accounts,Government Employee,Health Care,Hotels/ Restaurants,Human Resource,IT,Legal,Non Working,Retail Chains,Travel/ Airlines',\n",
        "       'Agriculture,Business Owner / Entrepreneur,Defence,Electronics,Manufacturing/ Engineering/ R&D;,Science',\n",
        "       'Banking, Insurance &amp; Financial Services,Education/ Training,Human Resource,IT,Pharmaceutical/ Biotechnology,Science',\n",
        "       'Admin/Secretarial,Banking, Insurance &amp; Financial Services,Business Owner / Entrepreneur,Civil Services / Law Enforcement,Defence,Education/ Training,Electronics,Finance and Accounts,Government Employee,Health Care,Hotels/ Restaurants,Human Resource,Legal,Management / Corporate Professionals,Manufacturing/ Engineering/ R&D;,Marketing and Communications,Pharmaceutical/ Biotechnology',\n",
        "       'Admin/Secretarial,Artists, Animators &amp; Web Designers,Beauty, Fashion &amp; Jewellery Designers,Customer Service/ Call Centre/BPO,Education/ Training,Electronics,Export/ Import,Finance and Accounts,Human Resource,Marketing and Communications,Non Working,Pharmaceutical/ Biotechnology,Purchase/ Logistics/ Supply chain,Real Estate,Retail Chains,Sales/ Business Development,Telecom/ ISP,Travel/ Airlines',\n",
        "       'Admin/Secretarial,Advertising/ Entertainment/ Media,Artists, Animators &amp; Web Designers,Banking, Insurance &amp; Financial Services,Beauty, Fashion &amp; Jewellery Designers,Customer Service/ Call Centre/BPO,Others,Pharmaceutical/ Biotechnology',\n",
        "       'Customer Service/ Call Centre/BPO,Education/ Training,Finance and Accounts',\n",
        "       'Banking, Insurance &amp; Financial Services,Civil Services / Law Enforcement,Education/ Training,Health Care,IT',\n",
        "       'Admin/Secretarial,Advertising/ Entertainment/ Media,Banking, Insurance &amp; Financial Services,Beauty, Fashion &amp; Jewellery Designers,Construction,Customer Service/ Call Centre/BPO,Education/ Training,Electronics,Export/ Import,Finance and Accounts,Government Employee,Hotels/ Restaurants,Human Resource,IT,Management / Corporate Professionals,Manufacturing/ Engineering/ R&D;,Marketing and Communications,Purchase/ Logistics/ Supply chain,Sales/ Business Development,Science,Telecom/ ISP,Travel/ Airlines',\n",
        "       'Admin/Secretarial,Customer Service/ Call Centre/BPO,Hotels/ Restaurants,Human Resource,Legal,Loss Prevention Manager,Management / Corporate Professionals,Purchase/ Logistics/ Supply chain,Sales/ Business Development,Travel/ Airlines',\n",
        "       'Admin/Secretarial,Advertising/ Entertainment/ Media,Architecture &amp; Design,Banking, Insurance &amp; Financial Services,Business Owner / Entrepreneur,Civil Services / Law Enforcement,Construction,Defence,Education/ Training,Electronics,Finance and Accounts,Government Employee,Health Care,Hotels/ Restaurants,Human Resource,IT,Legal,Loss Prevention Manager,Management / Corporate Professionals,Manufacturing/ Engineering/ R&D;,Marketing and Communications,Merchant Navy,Oil &amp; Gas,Pharmaceutical/ Biotechnology,Purchase/ Logistics/ Supply chain,Sales/ Business Development,Science,Telecom/ ISP',\n",
        "       'Admin/Secretarial,Advertising/ Entertainment/ Media,Architecture &amp; Design,Artists, Animators &amp; Web Designers,Banking, Insurance &amp; Financial Services,Business Owner / Entrepreneur,Civil Services / Law Enforcement,Construction,Defence,Education/ Training,Electronics,Finance and Accounts,Government Employee,Health Care,Human Resource,IT,Management / Corporate Professionals,Manufacturing/ Engineering/ R&D;,Merchant Navy,Oil &amp; Gas,Others,Purchase/ Logistics/ Supply chain,Real Estate,Science,Telecom/ ISP',\n",
        "       'Architecture &amp; Design,Banking, Insurance &amp; Financial Services,Civil Services / Law Enforcement,Defence,Education/ Training,Electronics,Finance and Accounts,Government Employee,Human Resource,Management / Corporate Professionals,Manufacturing/ Engineering/ R&D;,Non Working,Others,Pharmaceutical/ Biotechnology,Science,Telecom/ ISP',\n",
        "       'Education/ Training,Health Care,Human Resource,Manufacturing/ Engineering/ R&D;,Pharmaceutical/ Biotechnology,Science',\n",
        "       'Admin/Secretarial,Architecture &amp; Design,Banking, Insurance &amp; Financial Services,Beauty, Fashion &amp; Jewellery Designers,Education/ Training,Electronics,Finance and Accounts,Government Employee,Health Care,Human Resource,Management / Corporate Professionals,Manufacturing/ Engineering/ R&D;',\n",
        "       'Admin/Secretarial,Architecture &amp; Design,Artists, Animators &amp; Web Designers,Banking, Insurance &amp; Financial Services,Business Owner / Entrepreneur,Education/ Training,Electronics,Finance and Accounts,Government Employee,Human Resource,IT,Legal,Management / Corporate Professionals,Manufacturing/ Engineering/ R&D;,Marketing and Communications,Non Working,Sales/ Business Development,Science,Telecom/ ISP',\n",
        "       'Banking, Insurance &amp; Financial Services,Finance and Accounts,Human Resource,IT',\n",
        "       'Electronics,IT',\n",
        "       'Admin/Secretarial,Banking, Insurance &amp; Financial Services,Customer Service/ Call Centre/BPO,Government Employee,Hotels/ Restaurants,Retail Chains',\n",
        "       'Advertising/ Entertainment/ Media,Banking, Insurance &amp; Financial Services,Electronics,Finance and Accounts,Government Employee,Human Resource,IT,Management / Corporate Professionals,Marketing and Communications,Telecom/ ISP',\n",
        "       'Admin/Secretarial,Education/ Training,Electronics,Government Employee,Legal,Loss Prevention Manager',\n",
        "       'Admin/Secretarial,Advertising/ Entertainment/ Media,Architecture &amp; Design,Artists, Animators &amp; Web Designers,Banking, Insurance &amp; Financial Services,Beauty, Fashion &amp; Jewellery Designers,Business Owner / Entrepreneur,Civil Services / Law Enforcement,Defence,Education/ Training,Electronics,Finance and Accounts,Legal,Management / Corporate Professionals,Manufacturing/ Engineering/ R&D;,Marketing and Communications,Sales/ Business Development,Science,Telecom/ ISP',\n",
        "       'Artists, Animators &amp; Web Designers,Banking, Insurance &amp; Financial Services,Civil Services / Law Enforcement',\n",
        "       'Admin/Secretarial,Banking, Insurance &amp; Financial Services,Civil Services / Law Enforcement,Finance and Accounts,Government Employee,Legal,Merchant Navy',\n",
        "       'Education/ Training,Government Employee',\n",
        "       'Finance and Accounts,IT,Management / Corporate Professionals,Manufacturing/ Engineering/ R&D;,Telecom/ ISP',\n",
        "       'Admin/Secretarial,Advertising/ Entertainment/ Media,Architecture &amp; Design,Artists, Animators &amp; Web Designers,Banking, Insurance &amp; Financial Services,Civil Services / Law Enforcement,Construction,Education/ Training,Electronics,Export/ Import,Finance and Accounts,Government Employee,Health Care,Hotels/ Restaurants,Human Resource,Legal,Loss Prevention Manager,Management / Corporate Professionals,Manufacturing/ Engineering/ R&D;,Marketing and Communications,Pharmaceutical/ Biotechnology,Purchase/ Logistics/ Supply chain,Real Estate,Retail Chains,Sales/ Business Development,Science,Telecom/ ISP,Travel/ Airlines',\n",
        "       'Architecture &amp; Design,Education/ Training,Electronics,Health Care,Manufacturing/ Engineering/ R&D;,Pharmaceutical/ Biotechnology,Science',\n",
        "       'Admin/Secretarial,Artists, Animators &amp; Web Designers,Civil Services / Law Enforcement',\n",
        "       'Banking, Insurance &amp; Financial Services,Civil Services / Law Enforcement,Education/ Training,Finance and Accounts,Government Employee,Human Resource,Legal,Non Working,Purchase/ Logistics/ Supply chain,Science',\n",
        "       'Admin/Secretarial,Agriculture,Architecture &amp; Design,Artists, Animators &amp; Web Designers,Banking, Insurance &amp; Financial Services,Beauty, Fashion &amp; Jewellery Designers,Civil Services / Law Enforcement,Construction,Education/ Training,Electronics,Export/ Import,Finance and Accounts,Government Employee,Health Care,Hotels/ Restaurants,Human Resource,IT,Legal,Manufacturing/ Engineering/ R&D;,Marketing and Communications,Oil &amp; Gas,Others,Pharmaceutical/ Biotechnology,Purchase/ Logistics/ Supply chain,Real Estate,Science,Telecom/ ISP,Travel/ Airlines',\n",
        "       'Finance and Accounts,Pharmaceutical/ Biotechnology',\n",
        "       'Banking, Insurance &amp; Financial Services,Education/ Training,Electronics,Finance and Accounts,Government Employee,Human Resource,IT',\n",
        "       'Health Care,Human Resource,Management / Corporate Professionals,Marketing and Communications,Pharmaceutical/ Biotechnology,Science',\n",
        "       'Banking, Insurance &amp; Financial Services,Customer Service/ Call Centre/BPO',\n",
        "       'Beauty, Fashion &amp; Jewellery Designers,Health Care,Sales/ Business Development',\n",
        "       'Admin/Secretarial,Business Owner / Entrepreneur,Customer Service/ Call Centre/BPO,Health Care,Hotels/ Restaurants,Human Resource,Management / Corporate Professionals',\n",
        "       'Admin/Secretarial,Finance and Accounts,Government Employee',\n",
        "       'Admin/Secretarial,Agriculture,Architecture &amp; Design,Artists, Animators &amp; Web Designers,Banking, Insurance &amp; Financial Services,Business Owner / Entrepreneur,Civil Services / Law Enforcement,Construction,Defence,Education/ Training,Electronics,Export/ Import,Finance and Accounts,Government Employee,Health Care,Human Resource,IT,Management / Corporate Professionals,Manufacturing/ Engineering/ R&D;,Merchant Navy,Oil &amp; Gas,Others,Pharmaceutical/ Biotechnology,Purchase/ Logistics/ Supply chain,Science,Telecom/ ISP',\n",
        "       'Admin/Secretarial,Advertising/ Entertainment/ Media,Architecture &amp; Design,Artists, Animators &amp; Web Designers,Banking, Insurance &amp; Financial Services,Beauty, Fashion &amp; Jewellery Designers,Business Owner / Entrepreneur,Civil Services / Law Enforcement,Construction,Customer Service/ Call Centre/BPO,Education/ Training,Electronics,Export/ Import,Finance and Accounts,Government Employee,Health Care,Hotels/ Restaurants,Human Resource,IT,Management / Corporate Professionals,Manufacturing/ Engineering/ R&D;,Marketing and Communications,Merchant Navy,Non Working,Others,Pharmaceutical/ Biotechnology,Purchase/ Logistics/ Supply chain,Real Estate,Retail Chains,Sales/ Business Development,Science,Telecom/ ISP,Travel/ Airlines',\n",
        "       'Education/ Training,Government Employee,IT,Pharmaceutical/ Biotechnology',\n",
        "       'Advertising/ Entertainment/ Media,Banking, Insurance &amp; Financial Services,Business Owner / Entrepreneur,Civil Services / Law Enforcement,Education/ Training,Electronics,Export/ Import,Finance and Accounts,Government Employee,Human Resource,IT,Legal,Management / Corporate Professionals,Manufacturing/ Engineering/ R&D;,Marketing and Communications,Oil &amp; Gas,Pharmaceutical/ Biotechnology,Science,Telecom/ ISP',\n",
        "       'Admin/Secretarial,Banking, Insurance &amp; Financial Services,Finance and Accounts',\n",
        "       'Admin/Secretarial,Banking, Insurance &amp; Financial Services,Government Employee,Health Care,IT,Non Working,Telecom/ ISP',\n",
        "       'Advertising/ Entertainment/ Media,Banking, Insurance &amp; Financial Services,Business Owner / Entrepreneur,Civil Services / Law Enforcement,Customer Service/ Call Centre/BPO,Government Employee,Human Resource,Legal,Marketing and Communications'], dtype=object)"
       ]
      }
     ],
     "prompt_number": 427
    },
    {
     "cell_type": "code",
     "collapsed": false,
     "input": [
      "def get_education(degree):\n",
      "    degree = str(degree)\n",
      "    \n",
      "    if degree =='nan':\n",
      "        ret = np.nan\n",
      "    elif degree == '10th' or degree =='12th' or degree == 'Other School/ Graduation' or degree == 'Intermediate':\n",
      "        ret = 0 #High school\n",
      "    elif degree == 'Other Diploma' or degree =='Pilot Licenses' or degree=='Languages' or degree=='CS (Company Secretary)':\n",
      "        ret = 1 #Some college\n",
      "    elif degree[0] == 'B' or degree =='Undergraduate' or degree == 'PG Diploma' or degree == 'LLB' or degree == 'ICWA' or degree == 'Fashion/ Design' or degree == 'Engineering':\n",
      "        ret = 2 #Undergrad\n",
      "    elif degree[0] == 'M'or degree =='Other Post Graduation' or degree == 'PGDBM' or degree == 'CA (Chartered Accountant)' or degree == 'CFA (Chartered Financial Analyst)':\n",
      "        ret = 3 #Grad\n",
      "    elif degree == 'Ph.D. (Doctorate)' or degree=='Other Doctorate':\n",
      "        ret = 4 #Doctorate\n",
      "    else:\n",
      "        ret = np.nan\n",
      "        \n",
      "    return ret\n",
      "\n",
      "profiles['education1']=profiles['degree'].map(lambda x: get_education(x))\n",
      "profiles.education1.unique()\n",
      "\n",
      "#pt = profiles.groupby('degree').count()\n",
      "#print pt.degree.head(30)\n",
      "#sorted(profiles.degree.unique())"
     ],
     "language": "python",
     "metadata": {},
     "outputs": [
      {
       "metadata": {},
       "output_type": "pyout",
       "prompt_number": 428,
       "text": [
        "array([  2.,   3.,  nan,   0.,   4.,   1.])"
       ]
      }
     ],
     "prompt_number": 428
    },
    {
     "cell_type": "code",
     "collapsed": false,
     "input": [
      "profiles.religion1 = profiles.religion1.replace({'Hindu': 0, 'Muslim': 1, 'Christian': 2, 'Sikh': 3, 'Buddhist': 4, 'Jain': 5, 'Spiritual': 6, 'Jewish': 7, 'Others': 8})\n",
      "profiles['religion1']=profiles['religion1'].map(lambda x: int(x) if not math.isnan(x) else None)\n",
      "profiles.religion1.unique()"
     ],
     "language": "python",
     "metadata": {},
     "outputs": [
      {
       "metadata": {},
       "output_type": "pyout",
       "prompt_number": 429,
       "text": [
        "array([  4.,   0.,   2.,   5.,  nan,   8.,   1.,   7.,   6.,   3.])"
       ]
      }
     ],
     "prompt_number": 429
    },
    {
     "cell_type": "code",
     "collapsed": false,
     "input": [
      "profiles.religion2 = profiles.religion2.replace({'Hindu': 0, 'Muslim': 1, 'Christian': 2, 'Sikh': 3, 'Buddhist': 4, 'Jain': 5, 'Spiritual': 6, 'Jewish': 7, 'Others': 8})\n",
      "profiles['religion2']=profiles['religion2'].map(lambda x: int(x) if not math.isnan(x) else None)\n",
      "profiles.religion2.unique()"
     ],
     "language": "python",
     "metadata": {},
     "outputs": [
      {
       "metadata": {},
       "output_type": "pyout",
       "prompt_number": 430,
       "text": [
        "array([  4.,   0.,   2.,   5.,  nan,   1.,   8.,   7.,   3.,   6.])"
       ]
      }
     ],
     "prompt_number": 430
    },
    {
     "cell_type": "code",
     "collapsed": false,
     "input": [
      "profiles.smoking1 = profiles.smoking1.replace({'Doesn\\'t Matter': 0, 'No': 1, 'Moderate': 2, 'Yes': 3})\n",
      "profiles['smoking1']=profiles['smoking1'].map(lambda x: int(x) if not math.isnan(x) else None)\n",
      "profiles.smoking1.unique()"
     ],
     "language": "python",
     "metadata": {},
     "outputs": [
      {
       "metadata": {},
       "output_type": "pyout",
       "prompt_number": 431,
       "text": [
        "array([  1.,  nan,   2.,   0.,   3.])"
       ]
      }
     ],
     "prompt_number": 431
    },
    {
     "cell_type": "code",
     "collapsed": false,
     "input": [
      "profiles.smoking2 = profiles.smoking2.replace({'Doesn\\'t Matter': 0, 'No': 1, 'Moderate': 2, 'Yes': 3})\n",
      "profiles['smoking2']=profiles['smoking2'].map(lambda x: int(x) if not math.isnan(x) else None)\n",
      "profiles.smoking2.unique()"
     ],
     "language": "python",
     "metadata": {},
     "outputs": [
      {
       "metadata": {},
       "output_type": "pyout",
       "prompt_number": 432,
       "text": [
        "array([ nan,   1.,   0.,   2.,   3.])"
       ]
      }
     ],
     "prompt_number": 432
    },
    {
     "cell_type": "code",
     "collapsed": false,
     "input": [
      "profiles.status1 = profiles.status1.replace({'Doesn\\'t Matter': 0, 'Middle Class': 1, 'Upper Middle Class': 2, 'High Class': 3, 'Rich / Affluent':4})\n",
      "profiles['status1']=profiles['status1'].map(lambda x: int(x) if not math.isnan(x) else None)\n",
      "profiles.status1.unique()"
     ],
     "language": "python",
     "metadata": {},
     "outputs": [
      {
       "metadata": {},
       "output_type": "pyout",
       "prompt_number": 433,
       "text": [
        "array([  1.,  nan,   2.,   4.,   0.,   3.])"
       ]
      }
     ],
     "prompt_number": 433
    },
    {
     "cell_type": "code",
     "collapsed": false,
     "input": [
      "profiles.status2 = profiles.status2.replace({'Doesn\\'t Matter': 0, 'Middle Class': 1, 'Upper Middle Class': 2, 'High Class': 3, 'Rich / Affluent':4})\n",
      "profiles['status2']=profiles['status2'].map(lambda x: int(x) if not math.isnan(x) else None)\n",
      "profiles.status2.unique()"
     ],
     "language": "python",
     "metadata": {},
     "outputs": [
      {
       "metadata": {},
       "output_type": "pyout",
       "prompt_number": 434,
       "text": [
        "array([ nan,   0.,   2.,   1.,   3.,   4.])"
       ]
      }
     ],
     "prompt_number": 434
    },
    {
     "cell_type": "code",
     "collapsed": false,
     "input": [
      "profiles.values1 = profiles.values1.replace({'Orthodox': 1, 'Orthrodox': 1, 'Traditional': 2, 'Moderate': 3, 'Liberal': 4, 'Modern': 5, 'International':6, 'Others': 7})\n",
      "profiles['values1']=profiles['values1'].map(lambda x: int(x) if not math.isnan(x) else None)\n",
      "profiles.values1.unique()"
     ],
     "language": "python",
     "metadata": {},
     "outputs": [
      {
       "metadata": {},
       "output_type": "pyout",
       "prompt_number": 435,
       "text": [
        "array([  3.,  nan,   5.,   4.,   2.,   7.,   1.,   6.])"
       ]
      }
     ],
     "prompt_number": 435
    },
    {
     "cell_type": "code",
     "collapsed": false,
     "input": [
      "profiles.living = profiles.living.replace({'No': 0, 'Yes': 1})\n",
      "profiles['living']=profiles['living'].map(lambda x: int(x) if not math.isnan(x) else None)\n",
      "profiles.living.unique()"
     ],
     "language": "python",
     "metadata": {},
     "outputs": [
      {
       "metadata": {},
       "output_type": "pyout",
       "prompt_number": 436,
       "text": [
        "array([  1.,  nan,   0.])"
       ]
      }
     ],
     "prompt_number": 436
    },
    {
     "cell_type": "code",
     "collapsed": false,
     "input": [
      "profiles.manglik1 = profiles.manglik1.replace({'No': 0, 'Yes': 1, 'Do Not Know': 2, 'Doesn\\'t Matter': 3, 'Anshik': 4})\n",
      "profiles['manglik1']=profiles['manglik1'].map(lambda x: int(x) if not math.isnan(x) else None)\n",
      "profiles.manglik1.unique()"
     ],
     "language": "python",
     "metadata": {},
     "outputs": [
      {
       "metadata": {},
       "output_type": "pyout",
       "prompt_number": 437,
       "text": [
        "array([  0.,   1.,  nan,   4.,   2.,   3.])"
       ]
      }
     ],
     "prompt_number": 437
    },
    {
     "cell_type": "code",
     "collapsed": false,
     "input": [
      "profiles.manglik2 = profiles.manglik2.replace({'No': 0, 'Yes': 1, 'Do Not Know': 2, 'Doesn\\'t Matter': 3, 'Anshik': 4})\n",
      "profiles['manglik2']=profiles['manglik2'].map(lambda x: int(x) if not math.isnan(x) else None)\n",
      "profiles.manglik2.unique()"
     ],
     "language": "python",
     "metadata": {},
     "outputs": [
      {
       "metadata": {},
       "output_type": "pyout",
       "prompt_number": 438,
       "text": [
        "array([ nan,   1.,   4.,   0.,   2.,   3.])"
       ]
      }
     ],
     "prompt_number": 438
    },
    {
     "cell_type": "code",
     "collapsed": false,
     "input": [
      "#profiles.manglik2 = profiles.manglik2.replace({'No': 0, 'Yes': 1, 'Do Not Know': 2, 'Doesn\\'t Matter': 3, 'Anshik': 4})\n",
      "#profiles['manglik2']=profiles['manglik2'].map(lambda x: int(x) if not math.isnan(x) else None)\n",
      "profiles.special1.unique()"
     ],
     "language": "python",
     "metadata": {},
     "outputs": [
      {
       "metadata": {},
       "output_type": "pyout",
       "prompt_number": 439,
       "text": [
        "array(['None', nan,\n",
        "       'Accidental / Physical abnormality affecting only looks',\n",
        "       'Physical abnormality affecting bodily functions due to accident',\n",
        "       'Physically challenged from birth',\n",
        "       'Physically challenged due to accident', 'Hiv positive',\n",
        "       \"Doesn't Matter\",\n",
        "       'Medically challenged condition of one or more vital organs',\n",
        "       'Mentally challenged from birth'], dtype=object)"
       ]
      }
     ],
     "prompt_number": 439
    },
    {
     "cell_type": "code",
     "collapsed": false,
     "input": [
      "#profiles.manglik2 = profiles.manglik2.replace({'No': 0, 'Yes': 1, 'Do Not Know': 2, 'Doesn\\'t Matter': 3, 'Anshik': 4})\n",
      "#profiles['manglik2']=profiles['manglik2'].map(lambda x: int(x) if not math.isnan(x) else None)\n",
      "profiles.special2.unique()"
     ],
     "language": "python",
     "metadata": {},
     "outputs": [
      {
       "metadata": {},
       "output_type": "pyout",
       "prompt_number": 440,
       "text": [
        "array([nan, 'None', 'Physically challenged from birth', \"Doesn't Matter\",\n",
        "       'Medically challenged condition of one or more vital organs',\n",
        "       'Hiv positive',\n",
        "       'Physical abnormality affecting bodily functions due to accident',\n",
        "       'Physically challenged due to accident',\n",
        "       'Mentally challenged from birth',\n",
        "       'Accidental / Physical abnormality affecting only looks'], dtype=object)"
       ]
      }
     ],
     "prompt_number": 440
    },
    {
     "cell_type": "code",
     "collapsed": false,
     "input": [
      "def convert(height):\n",
      "    height = str(height)\n",
      "    if len(height) > 8:\n",
      "        feet = height[0]\n",
      "        inches = height[4]\n",
      "        return (int(feet) * 12) + int(inches)\n",
      "    elif len(height) >= 7:\n",
      "        feet = height[0]\n",
      "        inches = height[4:-2]\n",
      "        return (int(feet) * 12) + int(inches)\n",
      "    else:\n",
      "        if height[0] == 'n':\n",
      "            return None\n",
      "        else:\n",
      "            feet = height[0]\n",
      "            return int(feet) * 12       \n",
      "\n",
      "profiles['height1']=profiles['height1'].map(lambda x: convert(x))\n",
      "profiles.height1.unique()"
     ],
     "language": "python",
     "metadata": {},
     "outputs": [
      {
       "metadata": {},
       "output_type": "pyout",
       "prompt_number": 441,
       "text": [
        "array([ 62.,  64.,  61.,  nan,  59.,  65.,  69.,  67.,  66.,  60.,  63.,\n",
        "        68.,  70.,  71.,  81.,  74.,  58.,  72.,  73.,  78.,  77.,  84.,\n",
        "        76.,  75.,  49.])"
       ]
      }
     ],
     "prompt_number": 441
    },
    {
     "cell_type": "code",
     "collapsed": false,
     "input": [
      "def convert_weight(weight):\n",
      "    weight = str(weight)\n",
      "    if len(weight) == 6 and 'Kgs' in weight:\n",
      "        ret = int(weight[0:2])\n",
      "    elif len(weight) == 7 and 'Kgs' in weight:\n",
      "        ret = int(weight[0:3])\n",
      "    elif 'Pounds' in weight:\n",
      "        ret = int(float(weight[:-7]) / 2.2)\n",
      "    elif len(weight) == 14 and ' to ' in weight and ' [Kgs]' in weight:\n",
      "        ret = int((float(weight[0:2]) + float(weight[6:8])) / 2)\n",
      "    elif weight == '0 Kgs':\n",
      "        ret = np.nan\n",
      "    elif weight == '0 to 0 [Kgs]':\n",
      "        ret = np.nan\n",
      "    elif 'than' in weight:\n",
      "        ret = int(weight[10:12])\n",
      "    elif weight == \"100 to 90 [Kgs]\":\n",
      "        ret = 95\n",
      "    elif len(weight) == 15 and ' to ' in weight and ' [Kgs]' in weight:\n",
      "        ret = int((float(weight[0:2]) + float(weight[6:9])) / 2)\n",
      "    else:\n",
      "        ret = np.nan\n",
      "        \n",
      "    if ret < 40:\n",
      "        ret = np.nan\n",
      "        \n",
      "    return ret\n",
      "\n",
      "profiles['weight1']=profiles['weight1'].map(lambda x: convert_weight(x))\n",
      "sorted(profiles.weight1.unique())"
     ],
     "language": "python",
     "metadata": {},
     "outputs": [
      {
       "metadata": {},
       "output_type": "pyout",
       "prompt_number": 442,
       "text": [
        "[nan,\n",
        " 40.0,\n",
        " 41.0,\n",
        " 42.0,\n",
        " 43.0,\n",
        " 44.0,\n",
        " 45.0,\n",
        " 46.0,\n",
        " 47.0,\n",
        " 48.0,\n",
        " 49.0,\n",
        " 50.0,\n",
        " 51.0,\n",
        " 52.0,\n",
        " 53.0,\n",
        " 54.0,\n",
        " 55.0,\n",
        " 56.0,\n",
        " 57.0,\n",
        " 58.0,\n",
        " 59.0,\n",
        " 60.0,\n",
        " 61.0,\n",
        " 62.0,\n",
        " 63.0,\n",
        " 64.0,\n",
        " 65.0,\n",
        " 66.0,\n",
        " 67.0,\n",
        " 68.0,\n",
        " 69.0,\n",
        " 70.0,\n",
        " 71.0,\n",
        " 72.0,\n",
        " 73.0,\n",
        " 74.0,\n",
        " 75.0,\n",
        " 76.0,\n",
        " 77.0,\n",
        " 78.0,\n",
        " 79.0,\n",
        " 80.0,\n",
        " 81.0,\n",
        " 82.0,\n",
        " 83.0,\n",
        " 84.0,\n",
        " 85.0,\n",
        " 86.0,\n",
        " 87.0,\n",
        " 88.0,\n",
        " 89.0,\n",
        " 90.0,\n",
        " 91.0,\n",
        " 95.0,\n",
        " 100.0,\n",
        " 104.0,\n",
        " 105.0,\n",
        " 109.0,\n",
        " 112.0,\n",
        " 456.0]"
       ]
      }
     ],
     "prompt_number": 442
    },
    {
     "cell_type": "code",
     "collapsed": false,
     "input": [
      "profiles['weight2']=profiles['weight2'].map(lambda x: convert_weight(x))\n",
      "sorted(profiles.weight2.unique())"
     ],
     "language": "python",
     "metadata": {},
     "outputs": [
      {
       "metadata": {},
       "output_type": "pyout",
       "prompt_number": 443,
       "text": [
        "[nan,\n",
        " 41.0,\n",
        " 42.0,\n",
        " 43.0,\n",
        " 44.0,\n",
        " 45.0,\n",
        " 46.0,\n",
        " 47.0,\n",
        " 48.0,\n",
        " 49.0,\n",
        " 50.0,\n",
        " 51.0,\n",
        " 52.0,\n",
        " 53.0,\n",
        " 54.0,\n",
        " 55.0,\n",
        " 56.0,\n",
        " 57.0,\n",
        " 58.0,\n",
        " 59.0,\n",
        " 60.0,\n",
        " 61.0,\n",
        " 62.0,\n",
        " 63.0,\n",
        " 64.0,\n",
        " 65.0,\n",
        " 66.0,\n",
        " 67.0,\n",
        " 68.0,\n",
        " 69.0,\n",
        " 70.0,\n",
        " 71.0,\n",
        " 72.0,\n",
        " 74.0,\n",
        " 75.0,\n",
        " 76.0,\n",
        " 77.0,\n",
        " 78.0,\n",
        " 79.0,\n",
        " 80.0,\n",
        " 82.0,\n",
        " 84.0,\n",
        " 85.0,\n",
        " 87.0,\n",
        " 90.0,\n",
        " 92.0,\n",
        " 95.0]"
       ]
      }
     ],
     "prompt_number": 443
    },
    {
     "cell_type": "code",
     "collapsed": false,
     "input": [
      "del profiles['age2']\n",
      "profiles['gender']=profiles['url'].map(lambda x: 0 if 'bride' in x else 1)"
     ],
     "language": "python",
     "metadata": {},
     "outputs": [],
     "prompt_number": 444
    },
    {
     "cell_type": "code",
     "collapsed": false,
     "input": [
      "profiles['age1'] = profiles['details'].map(lambda x: str(x)[0:2] if str(x) != '' else '')\n",
      "profiles['age1']=profiles['age1'].map(lambda x: int(x) if x != 'na' else None)\n",
      "profiles.age1.unique()"
     ],
     "language": "python",
     "metadata": {},
     "outputs": [
      {
       "metadata": {},
       "output_type": "pyout",
       "prompt_number": 445,
       "text": [
        "array([ 27.,  26.,  28.,  25.,  nan,  31.,  24.,  30.,  23.,  33.,  29.,\n",
        "        47.,  37.,  41.,  34.,  36.,  39.,  32.,  38.,  21.,  22.,  35.,\n",
        "        43.,  44.,  58.,  19.,  42.,  64.,  40.,  55.,  20.,  45.,  46.,\n",
        "        49.,  62.,  48.,  59.,  51.,  52.,  57.,  60.,  50.,  18.,  53.,\n",
        "        54.,  73.,  61.,  65.,  56.,  75.,  70.,  74.,  66.,  69.,  63.,\n",
        "        67.,  72.,  68.])"
       ]
      }
     ],
     "prompt_number": 445
    },
    {
     "cell_type": "code",
     "collapsed": false,
     "input": [
      "profiles.to_csv('data_cleaned/marathi_cleaned.csv', encoding='utf-8', index=False)"
     ],
     "language": "python",
     "metadata": {},
     "outputs": [],
     "prompt_number": 446
    }
   ],
   "metadata": {}
  }
 ]
}